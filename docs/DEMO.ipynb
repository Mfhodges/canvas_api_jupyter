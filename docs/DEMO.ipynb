{
 "cells": [
  {
   "cell_type": "code",
   "execution_count": 1,
   "metadata": {
    "deletable": false,
    "editable": false
   },
   "outputs": [
    {
     "data": {
      "text/html": [
       "<script>\n",
       "    // AUTORUN ALL CELLS ON NOTEBOOK-LOAD! https://stackoverflow.com/questions/31984196/ipython-notebook-run-all-cells-on-open\n",
       "    require(\n",
       "        ['base/js/namespace', 'jquery'], \n",
       "        function(jupyter, $) {\n",
       "            $(jupyter.events).on(\"kernel_ready.Kernel\", function () {\n",
       "                console.log(\"Auto-running all cells-below...\");\n",
       "               //IPython.notebook.execute_cell_range(IPython.notebook.get_selected_index()+1, IPython.notebook.get_selected_index()+2)\n",
       "                jupyter.actions.call('jupyter-notebook:run-all-cells-below');\n",
       "                jupyter.actions.call('jupyter-notebook:save-notebook');\n",
       "            });\n",
       "           // $('#header-container').hide();\n",
       "          //$('#maintoolbar').hide();   \n",
       "        }\n",
       "    );\n",
       ";\n",
       "})\n",
       "</script>\n"
      ],
      "text/plain": [
       "<IPython.core.display.HTML object>"
      ]
     },
     "metadata": {},
     "output_type": "display_data"
    }
   ],
   "source": [
    "%%html\n",
    "<script>\n",
    "    // AUTORUN ALL CELLS ON NOTEBOOK-LOAD! https://stackoverflow.com/questions/31984196/ipython-notebook-run-all-cells-on-open\n",
    "    require(\n",
    "        ['base/js/namespace', 'jquery'], \n",
    "        function(jupyter, $) {\n",
    "            $(jupyter.events).on(\"kernel_ready.Kernel\", function () {\n",
    "                console.log(\"Auto-running all cells-below...\");\n",
    "               //IPython.notebook.execute_cell_range(IPython.notebook.get_selected_index()+1, IPython.notebook.get_selected_index()+2)\n",
    "                jupyter.actions.call('jupyter-notebook:run-all-cells-below');\n",
    "                jupyter.actions.call('jupyter-notebook:save-notebook');\n",
    "            });\n",
    "           // $('#header-container').hide();\n",
    "          //$('#maintoolbar').hide();   \n",
    "        }\n",
    "    );\n",
    ";\n",
    "})\n",
    "</script>"
   ]
  },
  {
   "cell_type": "code",
   "execution_count": 11,
   "metadata": {
    "deletable": false,
    "editable": false,
    "extensions": {
     "jupyter_dashboards": {
      "version": 1,
      "views": {
       "grid_default": {},
       "report_default": {}
      }
     }
    },
    "init_cell": true,
    "scrolled": true
   },
   "outputs": [
    {
     "data": {
      "text/html": [
       "\n",
       "<script>\n",
       "  function code_toggle() {\n",
       "    if (code_shown){\n",
       "      $('div.input').hide('500');\n",
       "      $('#toggleButton').val('Show Code')\n",
       "    } else {\n",
       "      $('div.input').show('500');\n",
       "      $('#toggleButton').val('Hide Code')\n",
       "    }\n",
       "    code_shown = !code_shown\n",
       "  }\n",
       "\n",
       "  $( document ).ready(function(){\n",
       "    code_shown=false;\n",
       "    $('div.input').hide()\n",
       "  });\n",
       "</script>\n",
       "<form action=\"javascript:code_toggle()\"><input type=\"submit\" id=\"toggleButton\" value=\"Show Code\"></form>"
      ],
      "text/plain": [
       "<IPython.core.display.HTML object>"
      ]
     },
     "execution_count": 11,
     "metadata": {},
     "output_type": "execute_result"
    }
   ],
   "source": [
    "from IPython.display import HTML, clear_output,Javascript, display\n",
    "from ipywidgets import widgets\n",
    "from ipywidgets import Button, GridBox, Layout, ButtonStyle, Box, VBox\n",
    "import requests\n",
    "import json\n",
    "import pandas as pd\n",
    "from pprintpp import pprint as pp\n",
    "\n",
    "\n",
    "# I wish i knew how to always hide this cell !\n",
    "\n",
    "HTML('''\n",
    "<script>\n",
    "  function code_toggle() {\n",
    "    if (code_shown){\n",
    "      $('div.input').hide('500');\n",
    "      $('#toggleButton').val('Show Code')\n",
    "    } else {\n",
    "      $('div.input').show('500');\n",
    "      $('#toggleButton').val('Hide Code')\n",
    "    }\n",
    "    code_shown = !code_shown\n",
    "  }\n",
    "\n",
    "  $( document ).ready(function(){\n",
    "    code_shown=false;\n",
    "    $('div.input').hide()\n",
    "  });\n",
    "</script>\n",
    "<form action=\"javascript:code_toggle()\"><input type=\"submit\" id=\"toggleButton\" value=\"Show Code\"></form>''')\n",
    "\n"
   ]
  },
  {
   "cell_type": "markdown",
   "metadata": {
    "deletable": false,
    "editable": false,
    "extensions": {
     "jupyter_dashboards": {
      "version": 1,
      "views": {
       "grid_default": {},
       "report_default": {}
      }
     }
    },
    "hide_input": false
   },
   "source": [
    "# Welcome 🙋🏼‍♀️\n",
    "\n",
    "### Purpose\n",
    "API tool to do quick API calls to the Canvas instance using your Canvas API token \n",
    "If you are very interested in the Code that is behind this click the 'Show Code' Button that is at the top of this page.\n",
    "\n",
    "\n",
    "#### API documentation references \n",
    " - [CANVAS API DOC](https://canvas.instructure.com/doc/api/index.html)\n",
    " - [Requests Python Library](http://docs.python-requests.org/en/master/)\n",
    "\n",
    "### ⚡️ Quick Directions ⚡️\n",
    "\n",
    "1. enter in api token ( don't know what that is? please see: https://community.canvaslms.com/docs/DOC-10806 )\n",
    "3. select canvas environment \n",
    "4. click submit ( make sure the top turns green )\n",
    "5. scroll down to see the currently available reporting\n"
   ]
  },
  {
   "cell_type": "code",
   "execution_count": 15,
   "metadata": {
    "deletable": false,
    "editable": false,
    "extensions": {
     "jupyter_dashboards": {
      "version": 1,
      "views": {
       "grid_default": {},
       "report_default": {}
      }
     }
    },
    "hide_input": true,
    "init_cell": true,
    "scrolled": true
   },
   "outputs": [
    {
     "data": {
      "text/html": [
       "<h2 style='text-align: center;'>Please enter your API Credentials</h2>"
      ],
      "text/plain": [
       "<IPython.core.display.HTML object>"
      ]
     },
     "metadata": {},
     "output_type": "display_data"
    },
    {
     "data": {
      "application/vnd.jupyter.widget-view+json": {
       "model_id": "cd8a99bdfde249e3bd72ab3f2466c8dc",
       "version_major": 2,
       "version_minor": 0
      },
      "text/plain": [
       "GridBox(children=(Button(button_style='warning', description='NOT Authorized', disabled=True, icon='unlock', l…"
      ]
     },
     "metadata": {},
     "output_type": "display_data"
    },
    {
     "data": {
      "application/vnd.jupyter.widget-view+json": {
       "model_id": "ee10906e444b4333ac6b00c8aadc6bbd",
       "version_major": 2,
       "version_minor": 0
      },
      "text/plain": [
       "Output()"
      ]
     },
     "metadata": {},
     "output_type": "display_data"
    },
    {
     "data": {
      "application/javascript": [
       "IPython.notebook.execute_cell_range(IPython.notebook.get_selected_index()+1, IPython.notebook.get_selected_index()+10)"
      ],
      "text/plain": [
       "<IPython.core.display.Javascript object>"
      ]
     },
     "metadata": {},
     "output_type": "display_data"
    },
    {
     "data": {
      "application/javascript": [
       "IPython.notebook.execute_cell_range(IPython.notebook.get_selected_index()+1, IPython.notebook.get_selected_index()+10)"
      ],
      "text/plain": [
       "<IPython.core.display.Javascript object>"
      ]
     },
     "metadata": {},
     "output_type": "display_data"
    }
   ],
   "source": [
    "error = widgets.Output()\n",
    "\n",
    "API_widget = widgets.Text(placeholder='API TOKEN',\n",
    "                       layout=Layout(width='90%',align_items='center', grid_area='main'))\n",
    "\n",
    "\n",
    "Authentication = Button(\n",
    "    value=False,\n",
    "    description='NOT Authorized',\n",
    "    disabled=True,\n",
    "    button_style='warning', # 'success', 'info', 'warning', 'danger' or ''\n",
    "    icon='unlock',\n",
    "    layout=Layout(width='auto', grid_area='header')\n",
    ")\n",
    "\n",
    "\n",
    "Submit = Button(\n",
    "    value=False,\n",
    "    description='Submit',\n",
    "    disabled=False,\n",
    "    button_style='info', # 'success', 'info', 'warning', 'danger' or ''\n",
    "    icon='',\n",
    "    layout=Layout(width='auto', grid_area='footer')\n",
    ")\n",
    "\n",
    "\n",
    "\n",
    "# for the env // Domain\n",
    "environ = widgets.Select(\n",
    "    options=['Production', 'Test', 'Beta'],\n",
    "    value='Production',\n",
    "    description='Environment:',\n",
    "    disabled=False,\n",
    "    rows=3,\n",
    "    layout=Layout(width='auto', grid_area='sidebar')\n",
    ")\n",
    "\n",
    "environs = {'Production':'https://canvas.upenn.edu/api/v1/', 'Test':'b', 'Beta':'c'}\n",
    "\n",
    "\n",
    "\n",
    "def set_up_forms():\n",
    "    display(Javascript('IPython.notebook.execute_cell_range(IPython.notebook.get_selected_index()+1, IPython.notebook.get_selected_index()+10)'))\n",
    "\n",
    "def authorize():\n",
    "    # check api key \n",
    "    global headers\n",
    "    headers = {\n",
    "        'Authorization': 'Bearer %s' % (API_widget.value) ,\n",
    "    }\n",
    "    global domain\n",
    "    domain = environs[environ.value]\n",
    "    \n",
    "    x = test_api() # returns status code of test response\n",
    "    \n",
    "    if API_widget.value and x ==200:\n",
    "    # if good:\n",
    "        \n",
    "\n",
    "        # UI changes\n",
    "        Authentication.icon = 'lock'\n",
    "        Authentication.description = 'Authorized'\n",
    "        Authentication.button_style ='success'\n",
    "        set_up_forms()\n",
    "    #Authentication.style.button_color = 'lightgreen'\n",
    "    # if bad:\n",
    "    else:\n",
    "        error.append_stdout(\"Invalid API token\")\n",
    "        Authentication.description='NOT Authorized'\n",
    "        Authentication.button_style='warning' # 'success', 'info', 'warning', 'danger' or ''\n",
    "        Authentication.icon='unlock'\n",
    "    # output note \n",
    "    # \n",
    "\n",
    "\n",
    "def on_button_clicked(b):\n",
    "    # clear any output ( error output from authorize )\n",
    "    error.clear_output()\n",
    "    authorize()\n",
    "    \n",
    "    # clear_output(wait=True) \n",
    "    \n",
    "Submit.on_click(on_button_clicked)\n",
    "\n",
    "\n",
    "#https://ipywidgets.readthedocs.io/en/latest/examples/Widget%20Styling.html#The-Grid-layout\n",
    "\n",
    "header  = Authentication\n",
    "main    = API_widget\n",
    "sidebar = environ\n",
    "footer  = Submit\n",
    "\n",
    "\n",
    "\n",
    "form = GridBox(children=[header, main, sidebar,footer],\n",
    "        layout=Layout(\n",
    "            width='80%',\n",
    "            margin=\"2% 0% 2% 10%\",\n",
    "            grid_template_rows='auto auto auto',\n",
    "            grid_template_columns='25% 25% 25% 25%',\n",
    "            #grid_gap='5px 5px',\n",
    "            grid_template_areas='''\n",
    "            \" . header header .\"\n",
    "            \"main main sidebar sidebar\"\n",
    "            \" . footer footer . \"\n",
    "            ''')\n",
    "       )\n",
    "\n",
    "display(HTML(\"<h2 style='text-align: center;'>Please enter your API Credentials</h2>\"))\n",
    "display(form)\n",
    "display(error)\n",
    "\n",
    "\n",
    "\n",
    "def on_value_change(change):\n",
    "    Authentication.description='NOT Authorized'\n",
    "    Authentication.button_style='warning' # 'success', 'info', 'warning', 'danger' or ''\n",
    "    Authentication.icon='unlock'\n",
    "    headers = {\n",
    "    'Authorization': 'Bearer %s' % (change['new']) ,\n",
    "    }\n",
    "    \n",
    "\n",
    "API_widget.observe(on_value_change, names='value')\n",
    "\n",
    "\n",
    "\n",
    "environs = {'Production':'https://canvas.upenn.edu/api/v1/', 'Test':'b', 'Beta':'c'}\n",
    "domain = environs[environ.value]\n",
    "\n",
    "\n",
    "def test_api():\n",
    "    \n",
    "    #headers = {\n",
    "    #'Authorization': 'Bearer %s' % (API_widget.value) ,\n",
    "    #}\n",
    "    \n",
    "    url = domain + 'accounts/self/scopes'\n",
    "    response = requests.get(url,headers=headers)\n",
    "    r = response.json()\n",
    "    #print(response.status_code)\n",
    "    return response.status_code\n",
    "\n",
    "\n"
   ]
  },
  {
   "cell_type": "markdown",
   "metadata": {
    "deletable": false,
    "editable": false,
    "extensions": {
     "jupyter_dashboards": {
      "version": 1,
      "views": {
       "grid_default": {},
       "report_default": {}
      }
     }
    }
   },
   "source": [
    "<hr>\n",
    "\n",
    "## Explore Endpoints 🔎\n",
    "##### Description\n",
    "Once you have validated your API credentials you can start making API requests! \n",
    "\n",
    "Feel free to explore what can be done with the Canvas API by setting the drop down values below \n",
    "\n",
    "**purpose:** list of all of the api endpoints and their associated info\n"
   ]
  },
  {
   "cell_type": "code",
   "execution_count": 46,
   "metadata": {
    "code_folding": [],
    "deletable": false,
    "editable": false,
    "extensions": {
     "jupyter_dashboards": {
      "version": 1,
      "views": {
       "grid_default": {},
       "report_default": {}
      }
     }
    },
    "hide_input": false,
    "scrolled": true
   },
   "outputs": [
    {
     "data": {
      "text/html": [
       "<h2 style='text-align: center;'>Explore the Endpoints Available in the Canvas API based on your credientials</h2>"
      ],
      "text/plain": [
       "<IPython.core.display.HTML object>"
      ]
     },
     "metadata": {},
     "output_type": "display_data"
    },
    {
     "data": {
      "application/vnd.jupyter.widget-view+json": {
       "model_id": "d88523fe8c8940b087ecdced12a235d3",
       "version_major": 2,
       "version_minor": 0
      },
      "text/plain": [
       "Dropdown(description='Resource', layout=Layout(padding='5px 20px 20px 20px', width='40%'), options=('ALL', 'AP…"
      ]
     },
     "metadata": {},
     "output_type": "display_data"
    },
    {
     "data": {
      "application/vnd.jupyter.widget-view+json": {
       "model_id": "efdbe3afb4204678a3225aa560e26e5b",
       "version_major": 2,
       "version_minor": 0
      },
      "text/plain": [
       "Dropdown(description='API Method', layout=Layout(padding='5px 20px 20px 20px', width='40%'), options=('ALL', '…"
      ]
     },
     "metadata": {},
     "output_type": "display_data"
    }
   ],
   "source": [
    "#GET /api/v1/accounts/:account_id/scopes\n",
    "\n",
    "\n",
    "\n",
    "#print(headers)\n",
    "#print(domain)\n",
    "output_df = widgets.Output()\n",
    "\n",
    "ALL = 'ALL'\n",
    "def unique_sorted_values_plus_ALL(array):\n",
    "    unique = array.unique().tolist()\n",
    "    unique.sort()\n",
    "    unique.insert(0, ALL)\n",
    "    return unique\n",
    "\n",
    "try:\n",
    "    headers\n",
    "except NameError:\n",
    "    headers = {}\n",
    "    with output_df:\n",
    "        display(HTML(\"<p style='text-align: center;'>No API Token set</p>\"))\n",
    "url = domain +'accounts/self/scopes'\n",
    "response = requests.get(url,headers=headers)\n",
    "r = response.json()\n",
    "df_scopes = pd.DataFrame.from_dict(r, orient='columns')\n",
    "\n",
    "try:\n",
    "    df_scopes.resource_name \n",
    "except AttributeError:\n",
    "    df_scopes = pd.DataFrame.from_dict([{'resource_name':'api token error','verb':'api token error'}], orient='columns')\n",
    "\n",
    "\n",
    "dropdown_resource = widgets.Dropdown(description='Resource',\n",
    "                                     options = unique_sorted_values_plus_ALL(df_scopes.resource_name),\n",
    "                                    layout=Layout(width='40%',padding=\"5px 20px 20px 20px\"))\n",
    "dropdown_apimethod = widgets.Dropdown(description='API Method',\n",
    "                                     options = unique_sorted_values_plus_ALL(df_scopes.verb),\n",
    "                                    layout=Layout(width='40%',padding=\"5px 20px 20px 20px\"))\n",
    "\n",
    "\n",
    "\n",
    "\n",
    "def common_filtering(resource, verb):\n",
    "    output_df.clear_output(wait=True)\n",
    "    \n",
    "    # year -> resource \n",
    "    # purpose -> verb\n",
    "    if (resource == ALL) & (verb == ALL):\n",
    "        common_filter = df_scopes\n",
    "    elif (resource == ALL):\n",
    "        common_filter = df_scopes[df_scopes.verb == verb]\n",
    "    elif (verb == ALL):\n",
    "        common_filter = df_scopes[df_scopes.resource_name == resource]\n",
    "    else:\n",
    "        common_filter = df_scopes[(df_scopes.resource_name == resource) & \n",
    "                                  (df_scopes.verb == verb)]\n",
    "    #common_filter = df_scopes\n",
    "    if common_filter.empty:\n",
    "        with output_df:\n",
    "            display(HTML(\"<p style='text-align: center;'>No matching results</p>\"))\n",
    "        \n",
    "    else:\n",
    "        with output_df:\n",
    "            display(common_filter)\n",
    "\n",
    "\n",
    "def dropdown_resource_eventhandler(change):\n",
    "    common_filtering(change.new, dropdown_apimethod.value)\n",
    "\n",
    "\n",
    "def dropdown_apimethod_eventhandler(change):\n",
    "    common_filtering(dropdown_resource.value, change.new)\n",
    "\n",
    "#pp(r)\n",
    "\n",
    "dropdown_resource.observe(dropdown_resource_eventhandler, names='value')\n",
    "dropdown_apimethod.observe(dropdown_apimethod_eventhandler, names='value')\n",
    "\n",
    "\n",
    "display(HTML(\"<h2 style='text-align: center;'>Explore the Endpoints Available in the Canvas API based on your credientials</h2>\"))\n",
    "#if headers =={}:\n",
    "\n",
    "display(dropdown_resource)\n",
    "\n",
    "display(dropdown_apimethod)\n",
    "#load_output()"
   ]
  },
  {
   "cell_type": "code",
   "execution_count": 47,
   "metadata": {
    "deletable": false,
    "editable": false,
    "extensions": {
     "jupyter_dashboards": {
      "version": 1,
      "views": {
       "grid_default": {},
       "report_default": {}
      }
     }
    },
    "hide_input": true,
    "scrolled": true
   },
   "outputs": [
    {
     "data": {
      "text/html": [
       "<h3 style='padding-left:40px;'>Output:</h3>"
      ],
      "text/plain": [
       "<IPython.core.display.HTML object>"
      ]
     },
     "metadata": {},
     "output_type": "display_data"
    },
    {
     "data": {
      "application/vnd.jupyter.widget-view+json": {
       "model_id": "963dd9afbe714db68796e1a017c6ea06",
       "version_major": 2,
       "version_minor": 0
      },
      "text/plain": [
       "Output()"
      ]
     },
     "metadata": {},
     "output_type": "display_data"
    }
   ],
   "source": [
    "from IPython.core.display import HTML\n",
    "\n",
    "display(HTML(\"<h3 style='padding-left:40px;'>Output:</h3>\"))\n",
    "display(output_df)"
   ]
  },
  {
   "cell_type": "markdown",
   "metadata": {
    "deletable": false,
    "editable": false,
    "extensions": {
     "jupyter_dashboards": {
      "version": 1,
      "views": {
       "grid_default": {},
       "report_default": {}
      }
     }
    },
    "hide_input": true
   },
   "source": [
    "## Page Views \n",
    "#### Description \n",
    "[see canvas doc](https://canvas.instructure.com/doc/api/users.html#method.page_views.index)\n",
    "shows 25 results\n",
    "\n",
    "#### Directions\n",
    "- put in users canvas id \n",
    "- you can leave the fields blank or specify a date ( EST ) ( **CURRENTLY NOT FUNCTIONAL** )\n",
    "- the out put will be in utc so use the quick utc to est converter \n",
    "- I dont recommend pagination ...\n",
    "\n",
    "\n"
   ]
  },
  {
   "cell_type": "code",
   "execution_count": 38,
   "metadata": {
    "deletable": false,
    "editable": false,
    "extensions": {
     "jupyter_dashboards": {
      "version": 1,
      "views": {
       "grid_default": {},
       "report_default": {}
      }
     }
    },
    "hide_input": false,
    "init_cell": true,
    "scrolled": false
   },
   "outputs": [
    {
     "data": {
      "application/vnd.jupyter.widget-view+json": {
       "model_id": "fd894b524c824409b1461900caeb2f72",
       "version_major": 2,
       "version_minor": 0
      },
      "text/plain": [
       "GridBox(children=(Text(value='', layout=Layout(align_items='center', grid_area='header', width='90%'), placeho…"
      ]
     },
     "metadata": {},
     "output_type": "display_data"
    }
   ],
   "source": [
    "# /api/v1/accounts/:account_id/scopes\n",
    "\n",
    "df_pageview = pd.DataFrame.from_dict({}, orient='columns')\n",
    "\n",
    "pageview_output = widgets.Output()\n",
    "userinfo_output = widgets.Output()\n",
    "\n",
    "user_id = widgets.Text(placeholder='user_id',\n",
    "                       layout=Layout(width='90%',align_items='center', grid_area='header'))\n",
    "\n",
    "start = widgets.DatePicker(\n",
    "    description='start date',\n",
    "    disabled=False,\n",
    "    layout=Layout(width='90%',align_items='center', grid_area='left'))\n",
    "\n",
    "end = widgets.DatePicker(\n",
    "    description='end date',\n",
    "    disabled=False,\n",
    "    layout=Layout(width='90%',align_items='center', grid_area='right'))\n",
    "\n",
    "\n",
    "Submit = Button(\n",
    "    value=False,\n",
    "    description='Get PageViews',\n",
    "    disabled=False,\n",
    "    button_style='info', # 'success', 'info', 'warning', 'danger' or ''\n",
    "    icon='',\n",
    "    layout=Layout(width='auto', grid_area='footer')\n",
    ")\n",
    "\n",
    "\n",
    "header = user_id\n",
    "left = start\n",
    "right = end\n",
    "footer = Submit\n",
    "\n",
    "form = GridBox(children=[header, left, right,footer],\n",
    "        layout=Layout(\n",
    "            width='80%',\n",
    "            margin=\"2% 0% 2% 10%\",\n",
    "            grid_template_rows='auto auto auto',\n",
    "            grid_template_columns='25% 25% 25% 25%',\n",
    "            #grid_gap='5px 5px',\n",
    "            grid_template_areas='''\n",
    "            \" . header header .\"\n",
    "            \"left left right right\"\n",
    "            \" . footer footer . \"\n",
    "            ''')\n",
    "       )\n",
    "\n",
    "display(form)\n",
    "\n",
    "\n",
    "#def validate_user(user_id):\n",
    "#    # get the user's name so we can double check we have the correct person\n",
    "#    user_id \n",
    "\n",
    "    \n",
    "#def UTC_to_EST(time):\n",
    "    # bad \n",
    "    \n",
    "\n",
    "def page_views(user_id):\n",
    "    # GET /api/v1/users/:user_id/page_views\n",
    "    url = domain + 'users/self/page_views'\n",
    "    params = {'per_page':'25'}\n",
    "    response = requests.get(url,headers=headers,params=params)\n",
    "\n",
    "    return response\n",
    "    \n",
    "    \n",
    "def user_info(user_id):\n",
    "    #url:GET|/api/v1/users/:id\n",
    "    url = domain + 'users/'+user_id\n",
    "    response = requests.get(url,headers=headers)\n",
    "    print(url)\n",
    "    return(response.json())\n",
    "    #pp(response.json())\n",
    "    \n",
    "def on_button_clicked(b):\n",
    "    # clear any output ( error output from authorize )\n",
    "    pageview_output.clear_output(wait=True)\n",
    "    userinfo_output.clear_output(wait=True)\n",
    "    # Validate\n",
    "    user = user_id.value\n",
    "    userinfo = user_info(user)\n",
    "    print(\"user\",user)\n",
    "    \n",
    "    response = page_views(user)\n",
    "    print(response.status_code)\n",
    "    print(response.links)\n",
    "    \n",
    "    \n",
    "    \n",
    "    # format \n",
    "    r = response.json()\n",
    "    \n",
    "    # links is nested \n",
    "    #pp(response.json())\n",
    "    df = pd.DataFrame.from_dict(r, orient='columns')\n",
    "    \n",
    "    print(userinfo)\n",
    "    with userinfo_output:\n",
    "        if userinfo:\n",
    "            display('<h4> Page Results for' + userinfo['name'] + '(' +'id' +')</h4>')\n",
    "        else:\n",
    "             display('<h4> Page Results for <i>NONE</i></h4>')       \n",
    "    with pageview_output:\n",
    "        display(df)\n",
    "    # clear_output(wait=True) \n",
    "    \n",
    "\n",
    "    \n",
    "Submit.on_click(on_button_clicked)\n",
    "\n",
    "\n",
    "# should have pagination somewhere "
   ]
  },
  {
   "cell_type": "code",
   "execution_count": 39,
   "metadata": {
    "deletable": false,
    "editable": false,
    "extensions": {
     "jupyter_dashboards": {
      "version": 1,
      "views": {
       "grid_default": {},
       "report_default": {}
      }
     }
    },
    "hide_input": false,
    "scrolled": true
   },
   "outputs": [
    {
     "data": {
      "text/html": [
       "<h3 style='padding-left:40px;'>Output (PageViews):</h3>"
      ],
      "text/plain": [
       "<IPython.core.display.HTML object>"
      ]
     },
     "metadata": {},
     "output_type": "display_data"
    },
    {
     "data": {
      "application/vnd.jupyter.widget-view+json": {
       "model_id": "6161ededf01a4a0588cf8480366fefb0",
       "version_major": 2,
       "version_minor": 0
      },
      "text/plain": [
       "Output()"
      ]
     },
     "metadata": {},
     "output_type": "display_data"
    },
    {
     "data": {
      "application/vnd.jupyter.widget-view+json": {
       "model_id": "55363349acaa45c3a242d8535965d630",
       "version_major": 2,
       "version_minor": 0
      },
      "text/plain": [
       "Output()"
      ]
     },
     "metadata": {},
     "output_type": "display_data"
    }
   ],
   "source": [
    "display(HTML(\"<h3 style='padding-left:40px;'>Output (PageViews):</h3>\"))\n",
    "if headers == {}:\n",
    "    display(HTML(\"<p style='text-align: center;'>No API Token set</p>\"))\n",
    "else:\n",
    "    display(userinfo_output)\n",
    "    display(pageview_output)"
   ]
  },
  {
   "cell_type": "code",
   "execution_count": 40,
   "metadata": {
    "deletable": false,
    "editable": false,
    "extensions": {
     "jupyter_dashboards": {
      "version": 1,
      "views": {
       "grid_default": {},
       "report_default": {}
      }
     }
    },
    "scrolled": false
   },
   "outputs": [
    {
     "name": "stdout",
     "output_type": "stream",
     "text": [
      "https://canvas.upenn.edu/api/v1//courses/1424853/quizzes/2118685/submissions?per_page=100\n"
     ]
    }
   ],
   "source": [
    "import pandas as pd\n",
    "from pprintpp import pprint as pp\n",
    "\n",
    "url = domain +'accounts/self/scopes'\n",
    "response = requests.get(url,headers=headers)\n",
    "r = response.json()\n",
    "#print(r)\n",
    "#ok = pd.read_json(response)\n",
    "#ok\n",
    "#/api/v1/courses/:course_id/quizzes/:quiz_id/submission\n",
    "#https://canvas.upenn.edu/courses/1424853/quizzes/2118685\n",
    "user = '5507597'\n",
    "course_id = '1424853'\n",
    "quiz_id ='2118685'\n",
    "\n",
    "url = '%s/courses/%s/quizzes/%s/submissions' % (domain,course_id,quiz_id)\n",
    "\n",
    "params= {\n",
    "    \"per_page\": 100,\n",
    "}\n",
    "#\"include[user]\": user \n",
    "\n",
    "response = requests.get(url,headers=headers,params=params)\n",
    "print(response.url)\n"
   ]
  },
  {
   "cell_type": "code",
   "execution_count": 41,
   "metadata": {
    "deletable": false,
    "editable": false,
    "extensions": {
     "jupyter_dashboards": {
      "version": 1,
      "views": {
       "grid_default": {},
       "report_default": {}
      }
     }
    },
    "scrolled": true
   },
   "outputs": [
    {
     "data": {
      "text/plain": [
       "'ok'"
      ]
     },
     "metadata": {},
     "output_type": "display_data"
    }
   ],
   "source": [
    "#response.links\n",
    "display(\"ok\")"
   ]
  },
  {
   "cell_type": "markdown",
   "metadata": {
    "deletable": false,
    "editable": false,
    "extensions": {
     "jupyter_dashboards": {
      "version": 1,
      "views": {
       "grid_default": {},
       "report_default": {}
      }
     }
    }
   },
   "source": [
    "###### To Do \n",
    "- finish page views\n",
    "- download link \n",
    "- feedback\n",
    "###### SOURCES\n",
    " - https://ipywidgets.readthedocs.io/en/stable/examples/Widget%20Basics.html\n",
    " - https://canvas.instructure.com/doc/api/file.oauth.html#using-access-tokens\n",
    " - https://towardsdatascience.com/bring-your-jupyter-notebook-to-life-with-interactive-widgets-bc12e03f0916\n",
    " \n",
    " ###### I like \n",
    " - https://jupyter-dashboards-layout.readthedocs.io/en/latest/getting-started.html\n",
    " - https://jupyter-notebook.readthedocs.io/en/stable/extending/frontend_extensions.html"
   ]
  },
  {
   "cell_type": "code",
   "execution_count": 10,
   "metadata": {
    "deletable": false,
    "editable": false
   },
   "outputs": [],
   "source": [
    "x = {'a':'b'}\n",
    "if x == {}:\n",
    "    print('1')\n",
    "if not x:\n",
    "    print('2')"
   ]
  },
  {
   "cell_type": "markdown",
   "metadata": {
    "extensions": {
     "jupyter_dashboards": {
      "version": 1,
      "views": {
       "grid_default": {},
       "report_default": {}
      }
     }
    }
   },
   "source": [
    "\n",
    "<hr>  \n",
    "\n",
    "[Canvas at Penn](http://infocanvas.upenn.edu) - Penn's Source for Courseware Innovation & News   \n",
    "[Maddy Hodges' [Github Repo](https://github.com/Mfhodges/canvas_api_jupyter)"
   ]
  },
  {
   "cell_type": "code",
   "execution_count": null,
   "metadata": {
    "extensions": {
     "jupyter_dashboards": {
      "version": 1,
      "views": {
       "grid_default": {},
       "report_default": {}
      }
     }
    }
   },
   "outputs": [],
   "source": []
  }
 ],
 "metadata": {
  "celltoolbar": "Initialization Cell",
  "extensions": {
   "jupyter_dashboards": {
    "activeView": "grid_default",
    "version": 1,
    "views": {
     "grid_default": {
      "cellMargin": 10,
      "defaultCellHeight": 20,
      "maxColumns": 12,
      "name": "grid",
      "type": "grid"
     },
     "report_default": {
      "name": "report",
      "type": "report"
     }
    }
   }
  },
  "kernelspec": {
   "display_name": "Python 3",
   "language": "python",
   "name": "python3"
  },
  "language_info": {
   "codemirror_mode": {
    "name": "ipython",
    "version": 3
   },
   "file_extension": ".py",
   "mimetype": "text/x-python",
   "name": "python",
   "nbconvert_exporter": "python",
   "pygments_lexer": "ipython3",
   "version": "3.6.5"
  },
  "latex_envs": {
   "LaTeX_envs_menu_present": true,
   "autoclose": false,
   "autocomplete": true,
   "bibliofile": "biblio.bib",
   "cite_by": "apalike",
   "current_citInitial": 1,
   "eqLabelWithNumbers": true,
   "eqNumInitial": 1,
   "hotkeys": {
    "equation": "Ctrl-E",
    "itemize": "Ctrl-I"
   },
   "labels_anchors": false,
   "latex_user_defs": false,
   "report_style_numbering": false,
   "user_envs_cfg": false
  },
  "toc": {
   "base_numbering": 1,
   "nav_menu": {
    "height": "97px",
    "width": "160px"
   },
   "number_sections": true,
   "sideBar": false,
   "skip_h1_title": true,
   "title_cell": "Table of Contents",
   "title_sidebar": "Contents",
   "toc_cell": true,
   "toc_position": {},
   "toc_section_display": true,
   "toc_window_display": false
  }
 },
 "nbformat": 4,
 "nbformat_minor": 2
}
