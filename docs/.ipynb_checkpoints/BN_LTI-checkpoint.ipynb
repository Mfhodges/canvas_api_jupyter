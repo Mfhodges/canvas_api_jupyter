{
 "cells": [
  {
   "cell_type": "code",
   "execution_count": 100,
   "metadata": {},
   "outputs": [
    {
     "data": {
      "text/html": [
       "<script>\n",
       "    // AUTORUN ALL CELLS ON NOTEBOOK-LOAD! https://stackoverflow.com/questions/31984196/ipython-notebook-run-all-cells-on-open\n",
       "    require(\n",
       "        ['base/js/namespace', 'jquery'], \n",
       "        function(jupyter, $) {\n",
       "            $(jupyter.events).on(\"kernel_ready.Kernel\", function () {\n",
       "                console.log(\"Auto-running all cells-below...\");\n",
       "               //IPython.notebook.execute_cell_range(IPython.notebook.get_selected_index()+1, IPython.notebook.get_selected_index()+2)\n",
       "                jupyter.actions.call('jupyter-notebook:run-all-cells-below');\n",
       "                jupyter.actions.call('jupyter-notebook:save-notebook');\n",
       "            });\n",
       "           // $('#header-container').hide();\n",
       "          //$('#maintoolbar').hide();   \n",
       "        }\n",
       "    );\n",
       "\n",
       "</script>\n"
      ],
      "text/plain": [
       "<IPython.core.display.HTML object>"
      ]
     },
     "metadata": {},
     "output_type": "display_data"
    }
   ],
   "source": [
    "%%html\n",
    "<script>\n",
    "    // AUTORUN ALL CELLS ON NOTEBOOK-LOAD! https://stackoverflow.com/questions/31984196/ipython-notebook-run-all-cells-on-open\n",
    "    require(\n",
    "        ['base/js/namespace', 'jquery'], \n",
    "        function(jupyter, $) {\n",
    "            $(jupyter.events).on(\"kernel_ready.Kernel\", function () {\n",
    "                console.log(\"Auto-running all cells-below...\");\n",
    "               //IPython.notebook.execute_cell_range(IPython.notebook.get_selected_index()+1, IPython.notebook.get_selected_index()+2)\n",
    "                jupyter.actions.call('jupyter-notebook:run-all-cells-below');\n",
    "                jupyter.actions.call('jupyter-notebook:save-notebook');\n",
    "            });\n",
    "           // $('#header-container').hide();\n",
    "          //$('#maintoolbar').hide();   \n",
    "        }\n",
    "    );\n",
    "\n",
    "</script>"
   ]
  },
  {
   "cell_type": "code",
   "execution_count": 101,
   "metadata": {},
   "outputs": [],
   "source": [
    "from IPython.display import HTML, clear_output,Javascript, display\n",
    "from ipywidgets import widgets\n",
    "from ipywidgets import Button, GridBox, Layout, ButtonStyle, Box, VBox, HBox, Label,FloatProgress\n",
    "import requests\n",
    "import json\n",
    "import pandas as pd\n",
    "from pandas.compat import StringIO, BytesIO\n",
    "from pprintpp import pprint as pp\n",
    "from pandas.io.json import json_normalize\n",
    "import time\n",
    "import datetime as dt\n",
    "import pytz\n",
    "import base64\n",
    "import qgrid\n",
    "import io \n",
    "import fileupload\n",
    "\n",
    "pd.set_option(\"max_r\", 102)"
   ]
  },
  {
   "cell_type": "code",
   "execution_count": 102,
   "metadata": {},
   "outputs": [
    {
     "data": {
      "text/html": [
       "\n",
       "<script>\n",
       "  function code_toggle() {\n",
       "    if (code_shown){\n",
       "      $('div.input').hide('500');\n",
       "      $('#toggleButton').val('Show Code')\n",
       "    } else {\n",
       "      $('div.input').show('500');\n",
       "      $('#toggleButton').val('Hide Code')\n",
       "    }\n",
       "    code_shown = !code_shown\n",
       "  }\n",
       "\n",
       "  $( document ).ready(function(){\n",
       "    code_shown=false;\n",
       "    $('div.input').hide()\n",
       "  });\n",
       "</script>\n",
       "<form action=\"javascript:code_toggle()\"><input type=\"submit\" id=\"toggleButton\" value=\"Show Code\"></form>\n",
       "<style>\n",
       "button[data-event-type$=_row] {\n",
       "    display: none !important;}\n",
       "\n",
       " button.btn.btn-default.fa.fa-arrows-alt.full-screen-btn { margin-left:5px;}\n",
       "</style>"
      ],
      "text/plain": [
       "<IPython.core.display.HTML object>"
      ]
     },
     "execution_count": 102,
     "metadata": {},
     "output_type": "execute_result"
    }
   ],
   "source": [
    "\n",
    "#pd.set_option('display.max_rows', 999)\n",
    "# I wish i knew how to always hide this cell !\n",
    "\n",
    "# button[data-event-type$=_row] {\n",
    "#    display: none !important;}\n",
    "\n",
    "# button.btn.btn-default.fa.fa-arrows-alt.full-screen-btn { margin-left:5px;}\n",
    "\n",
    "\n",
    "HTML('''\n",
    "<script>\n",
    "  function code_toggle() {\n",
    "    if (code_shown){\n",
    "      $('div.input').hide('500');\n",
    "      $('#toggleButton').val('Show Code')\n",
    "    } else {\n",
    "      $('div.input').show('500');\n",
    "      $('#toggleButton').val('Hide Code')\n",
    "    }\n",
    "    code_shown = !code_shown\n",
    "  }\n",
    "\n",
    "  $( document ).ready(function(){\n",
    "    code_shown=false;\n",
    "    $('div.input').hide()\n",
    "  });\n",
    "</script>\n",
    "<form action=\"javascript:code_toggle()\"><input type=\"submit\" id=\"toggleButton\" value=\"Show Code\"></form>\n",
    "<style>\n",
    "button[data-event-type$=_row] {\n",
    "    display: none !important;}\n",
    "\n",
    " button.btn.btn-default.fa.fa-arrows-alt.full-screen-btn { margin-left:5px;}\n",
    "</style>''')\n"
   ]
  },
  {
   "cell_type": "code",
   "execution_count": 103,
   "metadata": {
    "hide_input": false,
    "scrolled": false
   },
   "outputs": [
    {
     "data": {
      "text/html": [
       "<a name='apiForm'></a><h2 style='text-align: center;' >Please enter your API Credentials</h2>"
      ],
      "text/plain": [
       "<IPython.core.display.HTML object>"
      ]
     },
     "metadata": {},
     "output_type": "display_data"
    },
    {
     "data": {
      "application/vnd.jupyter.widget-view+json": {
       "model_id": "4e90e8152bc44476b6b358f2a01eb7c3",
       "version_major": 2,
       "version_minor": 0
      },
      "text/plain": [
       "GridBox(children=(Button(button_style='warning', description='NOT Authorized', disabled=True, icon='unlock', l…"
      ]
     },
     "metadata": {},
     "output_type": "display_data"
    },
    {
     "data": {
      "application/vnd.jupyter.widget-view+json": {
       "model_id": "6b90ad0fbb0b4dc1ae56c3f572dbd567",
       "version_major": 2,
       "version_minor": 0
      },
      "text/plain": [
       "Output()"
      ]
     },
     "metadata": {},
     "output_type": "display_data"
    }
   ],
   "source": [
    "error = widgets.Output()\n",
    "\n",
    "API_widget = widgets.Text(placeholder='API TOKEN',\n",
    "                       layout=Layout(width='90%',align_items='center', grid_area='main'))\n",
    "\n",
    "\n",
    "Authentication = Button(\n",
    "    value=False,\n",
    "    description='NOT Authorized',\n",
    "    disabled=True,\n",
    "    button_style='warning', # 'success', 'info', 'warning', 'danger' or ''\n",
    "    icon='unlock',\n",
    "    layout=Layout(width='auto', grid_area='header')\n",
    ")\n",
    "\n",
    "\n",
    "Submit = Button(\n",
    "    value=False,\n",
    "    description='Submit',\n",
    "    disabled=False,\n",
    "    button_style='info', # 'success', 'info', 'warning', 'danger' or ''\n",
    "    icon='',\n",
    "    layout=Layout(width='auto', grid_area='footer')\n",
    ")\n",
    "\n",
    "\n",
    "\n",
    "# for the env // Domain\n",
    "environ = widgets.Select(\n",
    "    options=['Production', 'Test', 'Beta'],\n",
    "    value='Production',\n",
    "    description='Environment:',\n",
    "    disabled=False,\n",
    "    rows=3,\n",
    "    layout=Layout(width='auto', grid_area='sidebar')\n",
    ")\n",
    "\n",
    "environs = {'Production':'https://canvas.upenn.edu/api/v1/', 'Test':'b', 'Beta':'c'}\n",
    "\n",
    "\n",
    "\n",
    "def set_up_forms():\n",
    "    display(Javascript('IPython.notebook.execute_cell_range(IPython.notebook.get_selected_index()+1, IPython.notebook.get_selected_index()+6)'))\n",
    "\n",
    "def authorize():\n",
    "    # check api key \n",
    "    global headers\n",
    "    headers = {\n",
    "        'Authorization': 'Bearer %s' % (API_widget.value) ,\n",
    "    }\n",
    "    global domain\n",
    "    domain = environs[environ.value]\n",
    "    \n",
    "    x = test_api() # returns status code of test response\n",
    "    \n",
    "    if API_widget.value and x ==200:\n",
    "    # if good:\n",
    "        \n",
    "        # UI changes\n",
    "        Authentication.icon = 'lock'\n",
    "        Authentication.description = 'Authorized'\n",
    "        Authentication.button_style ='success'\n",
    "        set_up_forms()\n",
    "    #Authentication.style.button_color = 'lightgreen'\n",
    "    # if bad:\n",
    "    else:\n",
    "        error.append_stdout(\"Invalid API token\")\n",
    "        Authentication.description='NOT Authorized'\n",
    "        Authentication.button_style='warning' # 'success', 'info', 'warning', 'danger' or ''\n",
    "        Authentication.icon='unlock'\n",
    "        headers = {}\n",
    "    # output note \n",
    "    \n",
    "\n",
    "\n",
    "def on_button_clicked(b):\n",
    "    # clear any output ( error output from authorize )\n",
    "    error.clear_output()\n",
    "    authorize()\n",
    "    \n",
    "    \n",
    "Submit.on_click(on_button_clicked)\n",
    "\n",
    "\n",
    "#https://ipywidgets.readthedocs.io/en/latest/examples/Widget%20Styling.html#The-Grid-layout\n",
    "\n",
    "header  = Authentication\n",
    "main    = API_widget\n",
    "sidebar = environ\n",
    "footer  = Submit\n",
    "\n",
    "\n",
    "\n",
    "form = GridBox(children=[header, main, sidebar,footer],\n",
    "        layout=Layout(\n",
    "            width='80%',\n",
    "            margin=\"2% 0% 2% 10%\",\n",
    "            grid_template_rows='auto auto auto',\n",
    "            grid_template_columns='25% 25% 25% 25%',\n",
    "            #grid_gap='5px 5px',\n",
    "            grid_template_areas='''\n",
    "            \" . header header .\"\n",
    "            \"main main sidebar sidebar\"\n",
    "            \" . footer footer . \"\n",
    "            ''')\n",
    "       )\n",
    "\n",
    "display(HTML(\"<a name='apiForm'></a><h2 style='text-align: center;' >Please enter your API Credentials</h2>\"))\n",
    "display(form)\n",
    "display(error)\n",
    "\n",
    "\n",
    "def on_value_change(change):\n",
    "    Authentication.description='NOT Authorized'\n",
    "    Authentication.button_style='warning' # 'success', 'info', 'warning', 'danger' or ''\n",
    "    Authentication.icon='unlock'\n",
    "    headers = {'Authorization': 'Bearer %s' % (change['new']) ,}\n",
    "    \n",
    "API_widget.observe(on_value_change, names='value')\n",
    "\n",
    "environs = {'Production':'https://canvas.upenn.edu/api/v1/', 'Test':'b', 'Beta':'c'}\n",
    "domain = environs[environ.value]\n",
    "headers = {}\n",
    "def test_api():\n",
    "    #headers = {\n",
    "    #'Authorization': 'Bearer %s' % (API_widget.value) ,\n",
    "    #}\n",
    "    url = domain + 'accounts/self/scopes'\n",
    "    response = requests.get(url,headers=headers)\n",
    "    r = response.json()\n",
    "    #print(response.status_code)\n",
    "    return response.status_code\n",
    "\n",
    "\n",
    "\n",
    "######################################\n",
    "######### HELPER FUNCTION ############\n",
    "######################################\n",
    "\n",
    "def srs_format(s):\n",
    "    #\n",
    "    numbers = ''.join([n for n in s if n.isdigit()])\n",
    "    dept = s[:-6]\n",
    "    level = numbers[:3]\n",
    "    section = numbers[3:]\n",
    "    return('SRS_%s-%s-%s' % (dept,level,section))\n",
    "def create_download_link( df, filename):  \n",
    "    title = \"Download CSV file\"\n",
    "    csv = df.to_csv()\n",
    "    b64 = base64.b64encode(csv.encode())\n",
    "    payload = b64.decode()\n",
    "    html = '<a download=\"{filename}\" href=\"data:text/csv;base64,{payload}\" target=\"_blank\">{title}</a>'\n",
    "    html = html.format(payload=payload,title=title,filename=filename)\n",
    "    return HTML(html)"
   ]
  },
  {
   "cell_type": "markdown",
   "metadata": {},
   "source": [
    "# Barnes and noble integration \n",
    "upload a file and then run a script that reads the file and configures the Barnes and Noble LTI for \n",
    "\n",
    "[Barnes and Noble LTI Guide](https://www.facultyenlight.com/sites/default/files/u53/CanvasAdminGuide.pdf)\n",
    "\n",
    "### Steps\n",
    "1. Select Term \n",
    "2. Upload file \n",
    "   file requirements \n",
    "   - _must_ be a CSV\n",
    "   - _must_ have a column with header `Course ID` which contains **valid** course codes like 'COMM210301'\n",
    "\n",
    "#### <center>Example Upload File</center>\n",
    "| Course ID  | Instructor          | Email                      | School |\n",
    "|------------|---------------------|----------------------------|--------|\n",
    "| COMM210301 | xxxxxxxx,xxx        | xxxxx.upenn.edu            | AN     |\n",
    "| COMM211301 | xxxxxx,xxxxxx       | xxxxxxxxx.upenn.edu        | AN     |\n",
    "| COMM225001 | xxxxxx,xxxxxx       | xxxxxxxxx.upenn.edu        | AN     |\n"
   ]
  },
  {
   "cell_type": "code",
   "execution_count": 104,
   "metadata": {
    "hide_input": true,
    "scrolled": false
   },
   "outputs": [
    {
     "data": {
      "text/html": [
       "<hr><h2>Select term and add file</h2>"
      ],
      "text/plain": [
       "<IPython.core.display.HTML object>"
      ]
     },
     "metadata": {},
     "output_type": "display_data"
    },
    {
     "data": {
      "application/vnd.jupyter.widget-view+json": {
       "model_id": "7847627d4567471fa37c31d9fb744934",
       "version_major": 2,
       "version_minor": 0
      },
      "text/plain": [
       "HBox(children=(Select(description='Term', options=('2019A', '2019B', '2019C'), rows=3, value='2019A'), FileUpl…"
      ]
     },
     "metadata": {},
     "output_type": "display_data"
    }
   ],
   "source": [
    "output_df = widgets.Output()\n",
    "messages = widgets.Output()\n",
    "input_term = widgets.Select(\n",
    "    options=['2019A', '2019B', '2019C'],\n",
    "    value='2019A',\n",
    "    description='Term',\n",
    "    disabled=False,\n",
    "    rows=3\n",
    ")\n",
    "\n",
    "_upload_widget = fileupload.FileUploadWidget()\n",
    "\n",
    "def _cb(change):\n",
    "    output_df.clear_output(wait=True)\n",
    "    messages.clear_output(wait=True)\n",
    "    decoded = io.StringIO(change['owner'].data.decode('utf-8'))\n",
    "    filename = change['owner'].filename\n",
    "    with messages:\n",
    "        display(HTML('<p> Uploaded `{}` ({:.2f} kB)</p>'.format(\n",
    "        filename, len(decoded.read()) / 2 **10)))\n",
    "    \n",
    "    #creates dataframe\n",
    "    df = pd.read_csv(BytesIO(_upload_widget.data))\n",
    "    #formatting\n",
    "    term = input_term.value\n",
    "    df['srs_id'] = df['Course ID'].apply(srs_format)+' '+term\n",
    "    #display(df)\n",
    "\n",
    "    with output_df:\n",
    "        display(HTML('<center><h3>TABLE</h3></center>'))\n",
    "        display(df)\n",
    "\n",
    "form = HBox([input_term,_upload_widget],layout=Layout(display='flex',\n",
    "                    flex_flow='row',\n",
    "                    align_items='center',\n",
    "                    #align_items='stretch',\n",
    "                    justify_content='space-between',\n",
    "                    width='50%'),)\n",
    "display(HTML('<hr><h2>Select term and add file</h2>'))\n",
    "display(form)\n",
    "_upload_widget.observe(_cb, names='data')\n",
    "\n",
    "#SRS_COMM-211-301 2014C\n"
   ]
  },
  {
   "cell_type": "code",
   "execution_count": 105,
   "metadata": {
    "hide_input": true,
    "scrolled": false
   },
   "outputs": [
    {
     "data": {
      "application/vnd.jupyter.widget-view+json": {
       "model_id": "c62c316bc90d4bf0a4faeea9e14b42ab",
       "version_major": 2,
       "version_minor": 0
      },
      "text/plain": [
       "Output()"
      ]
     },
     "metadata": {},
     "output_type": "display_data"
    },
    {
     "data": {
      "text/html": [
       "<p style='text-align: center;'>No API Token set</p>"
      ],
      "text/plain": [
       "<IPython.core.display.HTML object>"
      ]
     },
     "metadata": {},
     "output_type": "display_data"
    }
   ],
   "source": [
    "display(messages)\n",
    "if headers == {}:\n",
    "    display(HTML(\"<p style='text-align: center;'>No API Token set</p>\"))\n",
    "    \n",
    "else:\n",
    "    display(output_df)"
   ]
  },
  {
   "cell_type": "code",
   "execution_count": 106,
   "metadata": {
    "hide_input": true,
    "scrolled": false
   },
   "outputs": [
    {
     "data": {
      "application/vnd.jupyter.widget-view+json": {
       "model_id": "5af638549fff4a289c7c0daae0c15e3a",
       "version_major": 2,
       "version_minor": 0
      },
      "text/plain": [
       "Button(button_style='info', description='Add Tool To Courses', layout=Layout(justify_content='center'), style=…"
      ]
     },
     "metadata": {},
     "output_type": "display_data"
    },
    {
     "data": {
      "application/vnd.jupyter.widget-view+json": {
       "model_id": "e1c1f274a43a4ef1994f2e92a865a8b4",
       "version_major": 2,
       "version_minor": 0
      },
      "text/plain": [
       "FloatProgress(value=0.0)"
      ]
     },
     "metadata": {},
     "output_type": "display_data"
    },
    {
     "data": {
      "application/vnd.jupyter.widget-view+json": {
       "model_id": "7a208fcb48dc4106bfd738677923b8b7",
       "version_major": 2,
       "version_minor": 0
      },
      "text/plain": [
       "Output()"
      ]
     },
     "metadata": {},
     "output_type": "display_data"
    }
   ],
   "source": [
    "\n",
    "\n",
    "output_run = widgets.Output()\n",
    "output_errors = widgets.Output()\n",
    "f = FloatProgress()\n",
    "\n",
    "run_button = Button(  \n",
    "    value=False,\n",
    "    description='Add Tool To Courses',\n",
    "    disabled=False,\n",
    "    button_style='info', # 'success', 'info', 'warning', 'danger' or ''\n",
    "    icon='',   \n",
    "    layout=Layout(justify_content='center')\n",
    ")\n",
    "\n",
    "def add_tool(srs_id,tool_id):\n",
    "    #\n",
    "    #tool_id = 'context_external_tool_121790'\n",
    "    data = {\n",
    "        'hidden': 'false',\n",
    "        'position': '3'\n",
    "    }\n",
    "    url = domain + 'courses/sis_course_id:'+srs_id +'/tabs'+tool_id \n",
    "    response = requests.put(url, headers=headers, data=data)\n",
    "    return response.status_code\n",
    "\n",
    "def config_course(srs_id):\n",
    "    #/api/v1/courses/sis_course_id:A1234/assignments\n",
    "    # https://canvas.upenn.edu/courses/sis_course_id:SRS_COMM-211-301%202014C/\n",
    "    url = domain + 'courses/sis_course_id:'+srs_id +'/'\n",
    "    response = requests.get(url,headers=headers)\n",
    "    if response.status_code != 200: \n",
    "        return({'name':srs_id,'course_status':str(response.status_code),'tool_status':'NA'})\n",
    "    r = response.json()\n",
    "    #print(r)\n",
    "    tool_status = 'test'#add_tool(srs_id,tool_id)\n",
    "    return({'name':r['name'],'course_status':str(response.status_code), 'tool_status':str(tool_status)})\n",
    "\n",
    "\n",
    "def config_():\n",
    "\n",
    "    #creates dataframe\n",
    "    df = pd.read_csv(BytesIO(_upload_widget.data))\n",
    "    #formatting\n",
    "    term = input_term.value\n",
    "    df['srs_id'] = df['Course ID'].apply(srs_format)+' '+term\n",
    "\n",
    "    courses = df['srs_id']\n",
    "    count = df.shape[0] # gets the rows\n",
    "    #create loading bar\n",
    "    f.min=0\n",
    "    f.max=count\n",
    "    f.description='(0/%s)' % (count)\n",
    "    \n",
    "    #print(count, ' total course sites')\n",
    "    counter = 0\n",
    "    rows_list = []\n",
    "    for course in courses:\n",
    "        counter +=1\n",
    "        f.value += 1\n",
    "        f.description ='(%s/%s)' % (counter,count)\n",
    "        dict1 = config_course(course)\n",
    "        prog = '(%s/%s)' % (counter,count)\n",
    "        #print(prog, dict1)\n",
    "        rows_list.append(dict1)\n",
    "    pd.set_option('display.max_rows', None)\n",
    "    df = pd.DataFrame(rows_list)   \n",
    "    with output_run:\n",
    "        #qgrid.show_grid(common_filter, show_toolbar=True, precision=None, grid_options={'editable': False})\n",
    "        display(df)\n",
    "        \n",
    "\n",
    "def on_button_clicked(b):\n",
    "    output_run.clear_output(wait=True)\n",
    "    output_errors.clear_output(wait=True)\n",
    "    if headers !={}:\n",
    "    \n",
    "        run_button.button_style = 'info'\n",
    "        run_button.description = 'Running...'\n",
    "        \n",
    "        config_()\n",
    "        run_button.button_style = 'success'\n",
    "        run_button.description = 'Completed!'\n",
    "    else:\n",
    "        with output_errors:\n",
    "            display(HTML(\"<p> Cannot Run Unless Authenticated please validate <a href='#apiForm'>here</a></p>\"))\n",
    "   \n",
    "display(run_button)\n",
    "display(f)\n",
    "display(output_errors)\n",
    "run_button.on_click(on_button_clicked)\n",
    "\n",
    "#SRS_COMM-211-301 2014C\n",
    "#print(config_course('SRS_COMM-211-301 2014C'))"
   ]
  },
  {
   "cell_type": "code",
   "execution_count": 107,
   "metadata": {
    "hide_input": true,
    "scrolled": false
   },
   "outputs": [
    {
     "data": {
      "text/html": [
       "<p style='text-align: center;'>No API Token set</p>"
      ],
      "text/plain": [
       "<IPython.core.display.HTML object>"
      ]
     },
     "metadata": {},
     "output_type": "display_data"
    }
   ],
   "source": [
    "pd.set_option('display.max_rows',None)\n",
    "\n",
    "\n",
    "link = widgets.Output()\n",
    "\n",
    "\n",
    "\n",
    "\n",
    "def on_download_clicked(b):\n",
    "    #download to csv\n",
    "    link.clear_output()\n",
    "    #print(pageview_output.capture())\n",
    "    if output_run.outputs:\n",
    "        #print(\"ok\")\n",
    "        #print(\"csv_data.outputs\",csv_data.outputs)\n",
    "                \n",
    "        content = output_run.outputs[0]['data']['text/html']\n",
    "        #print(content)\n",
    "        \n",
    "        data = pd.read_html(content)[0]\n",
    "        data.drop('Unnamed: 0', axis=1, inplace=True)\n",
    "        display(data)\n",
    "        csv_name = filename.value\n",
    "        with link:\n",
    "            display(create_download_link(data,csv_name))\n",
    "    else:\n",
    "        with link:\n",
    "            display(HTML('<p>no content selected</p>'))\n",
    "\n",
    "\n",
    "download = Button(\n",
    "    value=False,\n",
    "    description='Download Results',\n",
    "    disabled=False,\n",
    "    button_style='info', # 'success', 'info', 'warning', 'danger' or ''\n",
    "    icon='fa-download',)\n",
    "filename = widgets.Text(value='BN_LTI_config.csv',description='filename')\n",
    "accordion = widgets.Accordion(children=[widgets.HBox([filename,download,link])])\n",
    "accordion.set_title(0, 'Download')\n",
    "accordion.selected_index = None\n",
    "\n",
    "\n",
    "download.on_click(on_download_clicked)\n",
    "\n",
    "if headers == {}:\n",
    "    display(HTML(\"<p style='text-align: center;'>No API Token set</p>\"))\n",
    "else:\n",
    "    #display(HTML(\"<style>.rendered_html th {max-width: 120px;}</style>\"))\n",
    "    display(HTML(\"<h3>Results</h3>\"))\n",
    "    display(output_run)\n",
    "    display(accordion)"
   ]
  },
  {
   "cell_type": "markdown",
   "metadata": {},
   "source": [
    "<hr>\n",
    "\n",
    "##### my notes\n",
    "create the external tool \n",
    "https://canvas.instructure.com/doc/api/external_tools.html#method.external_tools.create  \n",
    " \n",
    "launch url: https://blti.bncollege.com/lti/1.1/launch/bn_cmp  \n",
    "\n",
    "Canvas API Docs  \n",
    "https://canvas.instructure.com/doc/api/tabs.html#method.tabs.index  \n",
    "https://canvas.instructure.com/doc/api/external_tools.html  \n",
    "\n",
    "\n",
    "https://canvas.instructure.com/doc/api/file.object_ids.html  \n",
    "`/api/v1/courses/sis_course_id:A1234/assignments`"
   ]
  },
  {
   "cell_type": "code",
   "execution_count": 108,
   "metadata": {},
   "outputs": [],
   "source": [
    "# this cell was taken from https://gist.github.com/nokados/e8f0a64b55099f2f07a50f2b090c91c7\n",
    "\n",
    "from IPython.core.display import display, HTML, clear_output\n",
    "from ipywidgets import widgets, Layout\n",
    "import math\n",
    "PAGESIZE=10\n",
    "\n",
    "class Paginator:\n",
    "    def __init__(self, df, pagesize = PAGESIZE, start_page = 0):\n",
    "        self.df = df\n",
    "        self.pagesize = pagesize\n",
    "        self.page = start_page\n",
    "        self.max_pages = math.ceil(df.shape[0] / self.pagesize)\n",
    "        self.btn_next = widgets.Button(description='Next')\n",
    "        self.btn_next.on_click(self.next_page)\n",
    "        self.btn_prev = widgets.Button(description='Prev')\n",
    "        self.btn_prev.on_click(self.prev_page)\n",
    "        \n",
    "\n",
    "    def get_page(self):\n",
    "        return self.df.iloc[self.page * self.pagesize: (self.page + 1) * self.pagesize]\n",
    "\n",
    "    def show(self):\n",
    "        clear_output()\n",
    "        self.control = widgets.HBox((self.btn_prev, \n",
    "                                     widgets.Label('PAGE {}/{}'.format(self.page + 1, self.max_pages)),\n",
    "                                     self.btn_next))\n",
    "        display(self.control)\n",
    "        display(self.get_page())\n",
    "        display(self.control)\n",
    "    \n",
    "    def next_page(self, b):\n",
    "        self.page = min(self.max_pages - 1, self.page + 1)\n",
    "        self.show()\n",
    "        \n",
    "    def prev_page(self, b):\n",
    "        self.page = max(0, self.page - 1)\n",
    "        self.show()"
   ]
  },
  {
   "cell_type": "code",
   "execution_count": null,
   "metadata": {
    "hide_input": true
   },
   "outputs": [],
   "source": []
  },
  {
   "cell_type": "code",
   "execution_count": null,
   "metadata": {},
   "outputs": [],
   "source": []
  }
 ],
 "metadata": {
  "hide_input": true,
  "kernelspec": {
   "display_name": "Python 3",
   "language": "python",
   "name": "python3"
  },
  "language_info": {
   "codemirror_mode": {
    "name": "ipython",
    "version": 3
   },
   "file_extension": ".py",
   "mimetype": "text/x-python",
   "name": "python",
   "nbconvert_exporter": "python",
   "pygments_lexer": "ipython3",
   "version": "3.6.5"
  }
 },
 "nbformat": 4,
 "nbformat_minor": 2
}
