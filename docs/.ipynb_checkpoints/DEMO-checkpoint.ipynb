{
 "cells": [
  {
   "cell_type": "code",
   "execution_count": null,
   "metadata": {
    "init_cell": true
   },
   "outputs": [],
   "source": [
    "%%html\n",
    "<script>\n",
    "    // AUTORUN ALL CELLS ON NOTEBOOK-LOAD! https://stackoverflow.com/questions/31984196/ipython-notebook-run-all-cells-on-open\n",
    "    require(\n",
    "        ['base/js/namespace', 'jquery'], \n",
    "        function(jupyter, $) {\n",
    "            $(jupyter.events).on(\"kernel_ready.Kernel\", function () {\n",
    "                console.log(\"Auto-running all cells-below...\");\n",
    "               //IPython.notebook.execute_cell_range(IPython.notebook.get_selected_index()+1, IPython.notebook.get_selected_index()+2)\n",
    "                jupyter.actions.call('jupyter-notebook:run-all-cells-below');\n",
    "                jupyter.actions.call('jupyter-notebook:save-notebook');\n",
    "            });\n",
    "           // $('#header-container').hide();\n",
    "          //$('#maintoolbar').hide();   \n",
    "        }\n",
    "    );\n",
    "\n",
    "</script>"
   ]
  },
  {
   "cell_type": "code",
   "execution_count": null,
   "metadata": {
    "extensions": {
     "jupyter_dashboards": {
      "version": 1,
      "views": {
       "grid_default": {},
       "report_default": {}
      }
     }
    },
    "init_cell": true,
    "scrolled": true
   },
   "outputs": [],
   "source": [
    "from IPython.display import HTML, clear_output,Javascript, display\n",
    "from ipywidgets import widgets\n",
    "from ipywidgets import Button, GridBox, Layout, ButtonStyle, Box, VBox\n",
    "import requests\n",
    "import json\n",
    "import pandas as pd\n",
    "from pprintpp import pprint as pp\n",
    "from pandas.io.json import json_normalize\n",
    "import time\n",
    "import datetime as dt\n",
    "import pytz\n",
    "#pd.set_option('display.max_rows', 999)\n",
    "# I wish i knew how to always hide this cell !\n",
    "\n",
    "HTML('''\n",
    "<script>\n",
    "  function code_toggle() {\n",
    "    if (code_shown){\n",
    "      $('div.input').hide('500');\n",
    "      $('#toggleButton').val('Show Code')\n",
    "    } else {\n",
    "      $('div.input').show('500');\n",
    "      $('#toggleButton').val('Hide Code')\n",
    "    }\n",
    "    code_shown = !code_shown\n",
    "  }\n",
    "\n",
    "  $( document ).ready(function(){\n",
    "    code_shown=false;\n",
    "    $('div.input').hide()\n",
    "  });\n",
    "</script>\n",
    "<form action=\"javascript:code_toggle()\"><input type=\"submit\" id=\"toggleButton\" value=\"Show Code\"></form>''')\n",
    "\n"
   ]
  },
  {
   "cell_type": "markdown",
   "metadata": {
    "deletable": false,
    "editable": false,
    "extensions": {
     "jupyter_dashboards": {
      "version": 1,
      "views": {
       "grid_default": {},
       "report_default": {}
      }
     }
    },
    "hide_input": false
   },
   "source": [
    "# Welcome 🙋🏼‍♀️\n",
    "\n",
    "### Purpose\n",
    "API tool to do quick API calls to the Canvas instance using your Canvas API token \n",
    "If you are very interested in the Code that is behind this click the 'Show Code' Button that is at the top of this page.\n",
    "\n",
    "\n",
    "#### API documentation references \n",
    " - [CANVAS API DOC](https://canvas.instructure.com/doc/api/index.html)\n",
    " - [Requests Python Library](http://docs.python-requests.org/en/master/)\n",
    "\n",
    "### ⚡️ Quick Directions ⚡️\n",
    "\n",
    "1. enter in api token ( don't know what that is? please see: https://community.canvaslms.com/docs/DOC-10806 )\n",
    "3. select canvas environment \n",
    "4. click submit ( make sure the top turns green )\n",
    "5. scroll down to see the currently available reporting\n"
   ]
  },
  {
   "cell_type": "code",
   "execution_count": null,
   "metadata": {
    "extensions": {
     "jupyter_dashboards": {
      "version": 1,
      "views": {
       "grid_default": {},
       "report_default": {}
      }
     }
    },
    "hide_input": true,
    "init_cell": true,
    "scrolled": false
   },
   "outputs": [],
   "source": [
    "error = widgets.Output()\n",
    "\n",
    "API_widget = widgets.Text(placeholder='API TOKEN',\n",
    "                       layout=Layout(width='90%',align_items='center', grid_area='main'))\n",
    "\n",
    "\n",
    "Authentication = Button(\n",
    "    value=False,\n",
    "    description='NOT Authorized',\n",
    "    disabled=True,\n",
    "    button_style='warning', # 'success', 'info', 'warning', 'danger' or ''\n",
    "    icon='unlock',\n",
    "    layout=Layout(width='auto', grid_area='header')\n",
    ")\n",
    "\n",
    "\n",
    "Submit = Button(\n",
    "    value=False,\n",
    "    description='Submit',\n",
    "    disabled=False,\n",
    "    button_style='info', # 'success', 'info', 'warning', 'danger' or ''\n",
    "    icon='',\n",
    "    layout=Layout(width='auto', grid_area='footer')\n",
    ")\n",
    "\n",
    "\n",
    "\n",
    "# for the env // Domain\n",
    "environ = widgets.Select(\n",
    "    options=['Production', 'Test', 'Beta'],\n",
    "    value='Production',\n",
    "    description='Environment:',\n",
    "    disabled=False,\n",
    "    rows=3,\n",
    "    layout=Layout(width='auto', grid_area='sidebar')\n",
    ")\n",
    "\n",
    "environs = {'Production':'https://canvas.upenn.edu/api/v1/', 'Test':'b', 'Beta':'c'}\n",
    "\n",
    "\n",
    "\n",
    "def set_up_forms():\n",
    "    display(Javascript('IPython.notebook.execute_cell_range(IPython.notebook.get_selected_index()+1, IPython.notebook.get_selected_index()+10)'))\n",
    "\n",
    "def authorize():\n",
    "    # check api key \n",
    "    global headers\n",
    "    headers = {\n",
    "        'Authorization': 'Bearer %s' % (API_widget.value) ,\n",
    "    }\n",
    "    global domain\n",
    "    domain = environs[environ.value]\n",
    "    \n",
    "    x = test_api() # returns status code of test response\n",
    "    \n",
    "    if API_widget.value and x ==200:\n",
    "    # if good:\n",
    "        \n",
    "        # UI changes\n",
    "        Authentication.icon = 'lock'\n",
    "        Authentication.description = 'Authorized'\n",
    "        Authentication.button_style ='success'\n",
    "        set_up_forms()\n",
    "    #Authentication.style.button_color = 'lightgreen'\n",
    "    # if bad:\n",
    "    else:\n",
    "        error.append_stdout(\"Invalid API token\")\n",
    "        Authentication.description='NOT Authorized'\n",
    "        Authentication.button_style='warning' # 'success', 'info', 'warning', 'danger' or ''\n",
    "        Authentication.icon='unlock'\n",
    "    # output note \n",
    "    \n",
    "\n",
    "\n",
    "def on_button_clicked(b):\n",
    "    # clear any output ( error output from authorize )\n",
    "    error.clear_output()\n",
    "    authorize()\n",
    "    \n",
    "    \n",
    "Submit.on_click(on_button_clicked)\n",
    "\n",
    "\n",
    "#https://ipywidgets.readthedocs.io/en/latest/examples/Widget%20Styling.html#The-Grid-layout\n",
    "\n",
    "header  = Authentication\n",
    "main    = API_widget\n",
    "sidebar = environ\n",
    "footer  = Submit\n",
    "\n",
    "\n",
    "\n",
    "form = GridBox(children=[header, main, sidebar,footer],\n",
    "        layout=Layout(\n",
    "            width='80%',\n",
    "            margin=\"2% 0% 2% 10%\",\n",
    "            grid_template_rows='auto auto auto',\n",
    "            grid_template_columns='25% 25% 25% 25%',\n",
    "            #grid_gap='5px 5px',\n",
    "            grid_template_areas='''\n",
    "            \" . header header .\"\n",
    "            \"main main sidebar sidebar\"\n",
    "            \" . footer footer . \"\n",
    "            ''')\n",
    "       )\n",
    "\n",
    "display(HTML(\"<h2 style='text-align: center;'>Please enter your API Credentials</h2>\"))\n",
    "display(form)\n",
    "display(error)\n",
    "\n",
    "\n",
    "\n",
    "def on_value_change(change):\n",
    "    Authentication.description='NOT Authorized'\n",
    "    Authentication.button_style='warning' # 'success', 'info', 'warning', 'danger' or ''\n",
    "    Authentication.icon='unlock'\n",
    "    headers = {\n",
    "    'Authorization': 'Bearer %s' % (change['new']) ,\n",
    "    }\n",
    "    \n",
    "\n",
    "API_widget.observe(on_value_change, names='value')\n",
    "\n",
    "\n",
    "\n",
    "environs = {'Production':'https://canvas.upenn.edu/api/v1/', 'Test':'b', 'Beta':'c'}\n",
    "domain = environs[environ.value]\n",
    "\n",
    "\n",
    "def test_api():\n",
    "    \n",
    "    #headers = {\n",
    "    #'Authorization': 'Bearer %s' % (API_widget.value) ,\n",
    "    #}\n",
    "    \n",
    "    url = domain + 'accounts/self/scopes'\n",
    "    response = requests.get(url,headers=headers)\n",
    "    r = response.json()\n",
    "    #print(response.status_code)\n",
    "    return response.status_code\n",
    "\n",
    "\n",
    "\n",
    "######################################\n",
    "######### HELPER FUNCTION ############\n",
    "######################################\n",
    "\n",
    "# utc to est convert and back \n",
    "# all user input is in est in the basic time format\n",
    "# example: 2019-05-14 1am\n",
    "# output from canvas 2019-05-14T14:28:08Z (utc)\n",
    "\n",
    "def est_to_utc(datestring):\n",
    "    utc=pytz.utc\n",
    "    eastern=pytz.timezone('US/Eastern')\n",
    "    fmt='%Y-%m-%d %H:%M'\n",
    "    date=dt.datetime.strptime(datestring,\"%Y-%m-%d %I%p\")\n",
    "    date_eastern=eastern.localize(date,is_dst=None)\n",
    "    date_utc=date_eastern.astimezone(utc)\n",
    "    return(date_utc.strftime(fmt))\n",
    "    \n"
   ]
  },
  {
   "cell_type": "markdown",
   "metadata": {
    "deletable": false,
    "editable": false,
    "extensions": {
     "jupyter_dashboards": {
      "version": 1,
      "views": {
       "grid_default": {},
       "report_default": {}
      }
     }
    }
   },
   "source": [
    "<hr>\n",
    "\n",
    "## Explore Endpoints 🔎\n",
    "##### Description\n",
    "Once you have validated your API credentials you can start making API requests! \n",
    "\n",
    "Feel free to explore what can be done with the Canvas API by setting the drop down values below \n",
    "\n",
    "**purpose:** list of all of the api endpoints and their associated info\n"
   ]
  },
  {
   "cell_type": "code",
   "execution_count": null,
   "metadata": {
    "code_folding": [],
    "deletable": false,
    "editable": false,
    "extensions": {
     "jupyter_dashboards": {
      "version": 1,
      "views": {
       "grid_default": {},
       "report_default": {}
      }
     }
    },
    "hide_input": false,
    "init_cell": true,
    "scrolled": false
   },
   "outputs": [],
   "source": [
    "#GET /api/v1/accounts/:account_id/scopes\n",
    "\n",
    "\n",
    "\n",
    "#print(headers)\n",
    "#print(domain)\n",
    "output_df = widgets.Output()\n",
    "\n",
    "ALL = 'ALL'\n",
    "def unique_sorted_values_plus_ALL(array):\n",
    "    unique = array.unique().tolist()\n",
    "    unique.sort()\n",
    "    unique.insert(0, ALL)\n",
    "    return unique\n",
    "\n",
    "try:\n",
    "    headers\n",
    "except NameError:\n",
    "    headers = {}\n",
    "    with output_df:\n",
    "        display(HTML(\"<p style='text-align: center;'>No API Token set</p>\"))\n",
    "url = domain +'accounts/self/scopes'\n",
    "response = requests.get(url,headers=headers)\n",
    "r = response.json()\n",
    "df_scopes = pd.DataFrame.from_dict(r, orient='columns')\n",
    "\n",
    "try:\n",
    "    df_scopes.resource_name \n",
    "except AttributeError:\n",
    "    df_scopes = pd.DataFrame.from_dict([{'resource_name':'api token error','verb':'api token error'}], orient='columns')\n",
    "\n",
    "\n",
    "dropdown_resource = widgets.Dropdown(description='Resource',\n",
    "                                     options = unique_sorted_values_plus_ALL(df_scopes.resource_name),\n",
    "                                    layout=Layout(width='40%',padding=\"5px 20px 20px 20px\"))\n",
    "dropdown_apimethod = widgets.Dropdown(description='API Method',\n",
    "                                     options = unique_sorted_values_plus_ALL(df_scopes.verb),\n",
    "                                    layout=Layout(width='40%',padding=\"5px 20px 20px 20px\"))\n",
    "\n",
    "\n",
    "\n",
    "\n",
    "def common_filtering(resource, verb):\n",
    "    output_df.clear_output(wait=True)\n",
    "    \n",
    "    # year -> resource \n",
    "    # purpose -> verb\n",
    "    if (resource == ALL) & (verb == ALL):\n",
    "        common_filter = df_scopes\n",
    "    elif (resource == ALL):\n",
    "        common_filter = df_scopes[df_scopes.verb == verb]\n",
    "    elif (verb == ALL):\n",
    "        common_filter = df_scopes[df_scopes.resource_name == resource]\n",
    "    else:\n",
    "        common_filter = df_scopes[(df_scopes.resource_name == resource) & \n",
    "                                  (df_scopes.verb == verb)]\n",
    "    #common_filter = df_scopes\n",
    "    if common_filter.empty:\n",
    "        with output_df:\n",
    "            display(HTML(\"<p style='text-align: center;'>No matching results</p>\"))\n",
    "        \n",
    "    else:\n",
    "        with output_df:\n",
    "            display(common_filter)\n",
    "\n",
    "\n",
    "def dropdown_resource_eventhandler(change):\n",
    "    common_filtering(change.new, dropdown_apimethod.value)\n",
    "\n",
    "\n",
    "def dropdown_apimethod_eventhandler(change):\n",
    "    common_filtering(dropdown_resource.value, change.new)\n",
    "\n",
    "#pp(r)\n",
    "\n",
    "dropdown_resource.observe(dropdown_resource_eventhandler, names='value')\n",
    "dropdown_apimethod.observe(dropdown_apimethod_eventhandler, names='value')\n",
    "\n",
    "\n",
    "display(HTML(\"<h2 style='text-align: center;'>Explore the Endpoints Available in the Canvas API based on your credientials</h2>\"))\n",
    "#if headers =={}:\n",
    "\n",
    "display(dropdown_resource)\n",
    "\n",
    "display(dropdown_apimethod)\n",
    "#load_output()"
   ]
  },
  {
   "cell_type": "code",
   "execution_count": null,
   "metadata": {
    "deletable": false,
    "editable": false,
    "extensions": {
     "jupyter_dashboards": {
      "version": 1,
      "views": {
       "grid_default": {},
       "report_default": {}
      }
     }
    },
    "hide_input": true,
    "init_cell": true,
    "scrolled": false
   },
   "outputs": [],
   "source": [
    "from IPython.core.display import HTML\n",
    "\n",
    "display(HTML(\"<h3 style='padding-left:40px;'>Output:</h3>\"))\n",
    "display(output_df)"
   ]
  },
  {
   "cell_type": "markdown",
   "metadata": {
    "extensions": {
     "jupyter_dashboards": {
      "version": 1,
      "views": {
       "grid_default": {},
       "report_default": {}
      }
     }
    },
    "hide_input": true
   },
   "source": [
    "## Page Views \n",
    "#### Description \n",
    "[see canvas doc](https://canvas.instructure.com/doc/api/users.html#method.page_views.index)  \n",
    "\n",
    "currently just shows 25 results\n",
    "\n",
    "5443278\n",
    "\n",
    "#### Directions\n",
    "- put in users canvas id \n",
    "- you can leave the fields blank or specify a date ( EST ) ( **CURRENTLY NOT FUNCTIONAL** )\n",
    "- the out put will be in utc so use the quick utc to est converter \n",
    "- Page views are returned in descending order, newest to oldest.\n",
    "- Pagination is not possible please contact Maddy if needed\n",
    "\n",
    "###### Why Pagination isn't great in pageviews\n",
    "technically there is no page 1, page 2, etc. There are bookmarks because your pageviews could be constantly changing\n"
   ]
  },
  {
   "cell_type": "code",
   "execution_count": null,
   "metadata": {
    "extensions": {
     "jupyter_dashboards": {
      "version": 1,
      "views": {
       "grid_default": {},
       "report_default": {}
      }
     }
    },
    "hide_input": true,
    "init_cell": true,
    "scrolled": false
   },
   "outputs": [],
   "source": [
    "# /api/v1/accounts/:account_id/scopes\n",
    "\n",
    "pd.set_option('display.max_colwidth', -1)\n",
    "#pd.set_option('display.max_rows', 999)\n",
    "#df_pageview = pd.DataFrame.from_dict({}, orient='columns')\n",
    "\n",
    "pageview_output = widgets.Output(layout={'height':'100%'})#layout={'height':'100%'}\n",
    "userinfo_output = widgets.Output()\n",
    "pagination_output = widgets.Output()\n",
    "\n",
    "user_id = widgets.Text(placeholder='user_id',\n",
    "                       layout=Layout(width='90%',align_items='center', grid_area='header'))\n",
    "\n",
    "start_date = widgets.DatePicker(\n",
    "    description='start date',\n",
    "    disabled=False,)\n",
    "start_time = widgets.Dropdown(\n",
    "    options=['none','1am', '2am', '3am', '4am', '5am', '6am', '7am', '8am', '9am', '10am', '11am', '12am','1pm', '2pm', '3pm', '4pm', '5pm', '6pm', '7pm', '8pm', '9pm', '10pm', '11pm', '12pm'],\n",
    "    value='none',\n",
    "    description='start time',\n",
    "    disabled=False,)\n",
    "\n",
    "end_date = widgets.DatePicker(\n",
    "    description='end date',\n",
    "    disabled=False,)\n",
    "end_time = widgets.Dropdown(\n",
    "    options=['none','1am', '2am', '3am', '4am', '5am', '6am', '7am', '8am', '9am', '10am', '11am', '12am','1pm', '2pm', '3pm', '4pm', '5pm', '6pm', '7pm', '8pm', '9pm', '10pm', '11pm', '12pm'],\n",
    "    value='none',\n",
    "    description='end time',\n",
    "    disabled=False,)\n",
    "\n",
    "Submit = Button(\n",
    "    value=False,\n",
    "    description='Get PageViews',\n",
    "    disabled=False,\n",
    "    button_style='info', # 'success', 'info', 'warning', 'danger' or ''\n",
    "    icon='',\n",
    "    layout=Layout(width='auto', grid_area='footer')\n",
    ")\n",
    "\n",
    "\n",
    "header = user_id\n",
    "left = widgets.VBox([start_date, start_time],layout=Layout( grid_area='left'))#layout=Layout(width='90%',align_items='center', grid_area='left')\n",
    "right = widgets.VBox([end_date, end_time],layout=Layout( grid_area='right'))\n",
    "footer = Submit\n",
    "\n",
    "form = GridBox(children=[header, left, right,footer],\n",
    "        layout=Layout(\n",
    "            width='80%',\n",
    "            margin=\"2% 0% 2% 10%\",\n",
    "            grid_template_rows='auto auto auto',\n",
    "            grid_template_columns='25% 25% 25% 25%',\n",
    "            #grid_gap='5px 5px',\n",
    "            grid_template_areas='''\n",
    "            \" . header header .\"\n",
    "            \"left left right right\"\n",
    "            \" . footer footer . \"\n",
    "            ''')\n",
    "       )\n",
    "\n",
    "display(HTML(\"<h2 style='text-align: center;'>Explore the Pageview History</h2>\"))\n",
    "\n",
    "display(form)\n",
    "display(HTML('<p><b>NOTE</b>: if you leave the date time fields blank it will get the most current results'))\n",
    "#display(pagination_output)\n",
    "\n",
    "\n",
    "\n",
    "def est_to_utc(datestring):\n",
    "    utc=pytz.utc\n",
    "    eastern=pytz.timezone('US/Eastern')\n",
    "    fmt='%Y-%m-%d'# %H:%M' <- ADD THE TIME LATER\n",
    "    date=dt.datetime.strptime(datestring,\"%Y-%m-%d %I%p\")\n",
    "    date_eastern=eastern.localize(date,is_dst=None)\n",
    "    date_utc=date_eastern.astimezone(utc)\n",
    "    return(date_utc.strftime(fmt))\n",
    "    \n",
    "\n",
    "def get_params():\n",
    "    #basic logic on the start and end time if available \n",
    "    params = {}\n",
    "    if start_date.value:\n",
    "        start = est_to_utc(str(start_date.value)+' '+'12am')\n",
    "        params['start_time'] = start\n",
    "    if end_date.value:\n",
    "        end = est_to_utc(str(end_date.value)+' '+'12am')\n",
    "        params['end_time'] = end\n",
    "    return params\n",
    "    \n",
    "    \n",
    "\n",
    "def page_views(user_id):\n",
    "    # GET /api/v1/users/:user_id/page_views\n",
    "    params = get_params()\n",
    "    url = domain + 'users/'+user_id+'/page_views'\n",
    "    params['per_page'] = '25'\n",
    "    print(\"params\",params)\n",
    "    response = requests.get(url,headers=headers,params=params)\n",
    "    print(response.url)\n",
    "    return response\n",
    "    \n",
    "    \n",
    "def user_info(user_id):\n",
    "    #url:GET|/api/v1/users/:id\n",
    "    url = domain + 'users/'+user_id\n",
    "    response = requests.get(url,headers=headers)\n",
    "    print(url)\n",
    "    return(response.json())\n",
    "    #pp(response.json())\n",
    "    \n",
    "def on_button_clicked(b):\n",
    "    # clear any output ( error output from authorize )\n",
    "    pageview_output.clear_output()\n",
    "    userinfo_output.clear_output()\n",
    "    # Validate\n",
    "    \"\"\"\n",
    "    with pagination_output:\n",
    "        display(\n",
    "            Button(\n",
    "                value=False,\n",
    "                description='ok',\n",
    "                disabled=False, \n",
    "                button_style='info', # 'success', 'info', 'warning', 'danger' or ''\n",
    "                icon='',))\n",
    "    \"\"\"\n",
    "    \n",
    "    user = user_id.value\n",
    "    if not user:\n",
    "        print(\"yeah\")\n",
    "        with userinfo_output:\n",
    "            display(HTML(\"<h4 ><span style='color:red;'>ERROR:</span> No User Set</h4>\"))\n",
    "    else:\n",
    "        userinfo = user_info(user)\n",
    "        #print(\"user\",user)\n",
    "        response = page_views(user)\n",
    "        print(\"STATUS CODE: \",response.status_code)\n",
    "        #pp(response.links)\n",
    "        # format \n",
    "        r = response.json()\n",
    "        print(\"r\",r)\n",
    "        # flatten results\n",
    "        df_pageview = json_normalize(r)\n",
    "        print(\"r\",r)\n",
    "        #print(userinfo)\n",
    "        with userinfo_output:\n",
    "            if userinfo:\n",
    "                display(HTML('<h4> Page Results for ' + userinfo['name'] + ' (' +userinfo['login_id'] +')</h4>'))\n",
    "            else:\n",
    "                 display(HTML('<h4> Page Results for <i>NONE</i></h4>'))       \n",
    "        with pageview_output:\n",
    "            \n",
    "            # Removing column\n",
    "            \n",
    "            list_drop = [\"session_id\", \"developer_key_id\",\"summarized\",\"id\",\"asset_user_access_id\",\"user_request\",\"asset_type\"]\n",
    "            df_pageview.drop(list_drop, axis=1, inplace=True)\n",
    "            df_pageview['updated_at'] = pd.to_datetime(df_pageview['updated_at'], format='%Y-%m-%d %H:%M:%S', utc=True)\\\n",
    "                        .dt.tz_convert('America/New_York')\\\n",
    "                        .dt.strftime('%Y-%m-%d %I:%M%p')\n",
    "            #            #.dt.tz_localize('UTC')\\\n",
    "            #            #.dt.tz_convert('EST')\\\n",
    "            #            #.dt.strftime('%Y-%m-%d %I:%M%p')\n",
    "            df_pageview['created_at'] = pd.to_datetime(df_pageview['created_at'], format='%Y-%m-%d %H:%M:%S', utc=True)\\\n",
    "                        .dt.tz_convert('America/New_York')\\\n",
    "                        .dt.strftime('%Y-%m-%d %I:%M%p')\n",
    "            # .tz_convert('UTC').tz_convert(None)\n",
    "            #df.tz_localize('EST', level=0)\n",
    "            display(df_pageview)\n",
    "        #display(df_pageview) \n",
    "        \n",
    "        # clear_output(wait=True) \n",
    "\n",
    "\n",
    "Submit.on_click(on_button_clicked)\n",
    "\n",
    "#5443278\n",
    "# should have pagination somewhere \n",
    "\n"
   ]
  },
  {
   "cell_type": "code",
   "execution_count": null,
   "metadata": {
    "extensions": {
     "jupyter_dashboards": {
      "version": 1,
      "views": {
       "grid_default": {},
       "report_default": {}
      }
     }
    },
    "hide_input": true,
    "init_cell": true,
    "scrolled": false
   },
   "outputs": [],
   "source": [
    "display(HTML(\"<h3 style='padding-left:40px;'>Output (PageViews):</h3>\"))\n",
    "\n",
    "# class output output_scroll set to 24 -- shouldnt \n",
    "#pd.set_option('display.max_rows', 999)\n",
    "#print(pageview_output.layout)\n",
    "\n",
    "download = Button(\n",
    "    value=False,\n",
    "    description='Download History',\n",
    "    disabled=False,\n",
    "    button_style='info', # 'success', 'info', 'warning', 'danger' or ''\n",
    "    icon='fa-download',)\n",
    "filename = widgets.Text(value='pageview_data.csv',description='filename')\n",
    "\n",
    "accordion = widgets.Accordion(children=[widgets.HBox([filename,download])])\n",
    "accordion.set_title(0, 'Download')\n",
    "\n",
    "\n",
    "\n",
    "def on_download_clicked(b):\n",
    "    #download to csv\n",
    "    print(\"yeahhhh\")\n",
    "    df_pageview.to_csv(\"output_filename.csv\", index=False, encoding='utf8')\n",
    "    #display(filename)\n",
    "\n",
    "download.on_click(on_download_clicked)\n",
    "if headers == {}:\n",
    "    display(HTML(\"<p style='text-align: center;'>No API Token set</p>\"))\n",
    "else:\n",
    "    #display(HTML(\"<style>.rendered_html th {max-width: 120px;}</style>\"))\n",
    "    display(userinfo_output)\n",
    "    #display(pagination_output)\n",
    "    display(pageview_output)\n",
    "    \n",
    "    display(accordion)\n",
    "    \n",
    "    \n",
    "\n",
    "    \n",
    "#2019-05-14 10:02AM    \n",
    "# 2019-05-14T15:01:53Z\t\n",
    "\n",
    "#2019-05-14T16:31:17Z\t\n",
    "#2019-05-14 11:31:17-05:00\t"
   ]
  },
  {
   "cell_type": "code",
   "execution_count": null,
   "metadata": {
    "hide_input": true,
    "scrolled": true
   },
   "outputs": [],
   "source": []
  },
  {
   "cell_type": "code",
   "execution_count": null,
   "metadata": {
    "extensions": {
     "jupyter_dashboards": {
      "version": 1,
      "views": {
       "grid_default": {},
       "report_default": {}
      }
     }
    },
    "hide_input": true,
    "scrolled": false
   },
   "outputs": [],
   "source": [
    "\n",
    "url = domain +'accounts/self/scopes'\n",
    "response = requests.get(url,headers=headers)\n",
    "r = response.json()\n",
    "#print(r)\n",
    "#ok = pd.read_json(response)\n",
    "#ok\n",
    "#/api/v1/courses/:course_id/quizzes/:quiz_id/submission\n",
    "#https://canvas.upenn.edu/courses/1424853/quizzes/2118685\n",
    "user = '5507597'\n",
    "course_id = '1424853'\n",
    "quiz_id ='2118685'\n",
    "\n",
    "url = '%s/courses/%s/quizzes/%s/submissions' % (domain,course_id,quiz_id)\n",
    "\n",
    "params= {\n",
    "    \"per_page\": 100,\n",
    "}\n",
    "#\"include[user]\": user \n",
    "\n",
    "response = requests.get(url,headers=headers,params=params)\n",
    "print(response.url)\n"
   ]
  },
  {
   "cell_type": "code",
   "execution_count": null,
   "metadata": {
    "hide_input": true,
    "scrolled": false
   },
   "outputs": [],
   "source": [
    "\n",
    "display(pageview_output)"
   ]
  },
  {
   "cell_type": "code",
   "execution_count": null,
   "metadata": {
    "hide_input": true
   },
   "outputs": [],
   "source": []
  },
  {
   "cell_type": "code",
   "execution_count": null,
   "metadata": {
    "hide_input": true,
    "scrolled": false
   },
   "outputs": [],
   "source": [
    "df_pageview.to_csv('example.csv')"
   ]
  },
  {
   "cell_type": "code",
   "execution_count": null,
   "metadata": {
    "deletable": false,
    "editable": false,
    "extensions": {
     "jupyter_dashboards": {
      "version": 1,
      "views": {
       "grid_default": {},
       "report_default": {}
      }
     }
    },
    "scrolled": true
   },
   "outputs": [],
   "source": [
    "#response.links\n",
    "display(\"ok\")"
   ]
  },
  {
   "cell_type": "markdown",
   "metadata": {},
   "source": [
    "## Submission History\n",
    "#### Description \n",
    "\n",
    "\n",
    "#### Directions"
   ]
  },
  {
   "cell_type": "code",
   "execution_count": null,
   "metadata": {},
   "outputs": [],
   "source": [
    "# create form and make requests\n",
    "\n",
    "\n"
   ]
  },
  {
   "cell_type": "code",
   "execution_count": null,
   "metadata": {},
   "outputs": [],
   "source": [
    "# display results"
   ]
  },
  {
   "cell_type": "markdown",
   "metadata": {},
   "source": [
    "## Template\n",
    "#### Description \n",
    "\n",
    "\n",
    "#### Directions"
   ]
  },
  {
   "cell_type": "code",
   "execution_count": null,
   "metadata": {
    "hide_input": false,
    "scrolled": true
   },
   "outputs": [],
   "source": [
    "# Output data to a CSV file\n",
    "# Typically, I don't want row numbers in my output file, hence index=False.\n",
    "# To avoid character issues, I typically use utf8 encoding for input/output.\n",
    "data.to_csv(\"output_filename.csv\", index=False, encoding='utf8')\n",
    "# Output data to an Excel file.\n",
    "# For the excel output to work, you may need to install the \"xlsxwriter\" package.\n",
    "data.to_csv(\"output_excel_file.xlsx\", sheet_name=\"Sheet 1\", index=False)"
   ]
  },
  {
   "cell_type": "markdown",
   "metadata": {
    "deletable": false,
    "editable": false,
    "extensions": {
     "jupyter_dashboards": {
      "version": 1,
      "views": {
       "grid_default": {},
       "report_default": {}
      }
     }
    }
   },
   "source": [
    "###### To Do \n",
    "- finish page views\n",
    "- download link \n",
    "- feedback\n",
    "###### SOURCES\n",
    " - https://ipywidgets.readthedocs.io/en/stable/examples/Widget%20Basics.html\n",
    " - https://canvas.instructure.com/doc/api/file.oauth.html#using-access-tokens\n",
    " - https://towardsdatascience.com/bring-your-jupyter-notebook-to-life-with-interactive-widgets-bc12e03f0916\n",
    " \n",
    " ###### I like \n",
    " - https://jupyter-dashboards-layout.readthedocs.io/en/latest/getting-started.html\n",
    " - https://jupyter-notebook.readthedocs.io/en/stable/extending/frontend_extensions.html"
   ]
  },
  {
   "cell_type": "code",
   "execution_count": null,
   "metadata": {
    "deletable": false,
    "editable": false
   },
   "outputs": [],
   "source": [
    "x = {'a':'b'}\n",
    "if x == {}:\n",
    "    print('1')\n",
    "if not x:\n",
    "    print('2')"
   ]
  },
  {
   "cell_type": "markdown",
   "metadata": {
    "deletable": false,
    "editable": false,
    "extensions": {
     "jupyter_dashboards": {
      "version": 1,
      "views": {
       "grid_default": {},
       "report_default": {}
      }
     }
    }
   },
   "source": [
    "\n",
    "<hr>  \n",
    "\n",
    "[Canvas at Penn](http://infocanvas.upenn.edu) - Penn's Source for Courseware Innovation & News   \n",
    "Maddy Hodges' [Github Repo](https://github.com/Mfhodges/canvas_api_jupyter)"
   ]
  },
  {
   "cell_type": "code",
   "execution_count": null,
   "metadata": {
    "extensions": {
     "jupyter_dashboards": {
      "version": 1,
      "views": {
       "grid_default": {},
       "report_default": {}
      }
     }
    }
   },
   "outputs": [],
   "source": []
  }
 ],
 "metadata": {
  "celltoolbar": "Initialization Cell",
  "extensions": {
   "jupyter_dashboards": {
    "activeView": "grid_default",
    "version": 1,
    "views": {
     "grid_default": {
      "cellMargin": 10,
      "defaultCellHeight": 20,
      "maxColumns": 12,
      "name": "grid",
      "type": "grid"
     },
     "report_default": {
      "name": "report",
      "type": "report"
     }
    }
   }
  },
  "hide_input": true,
  "kernelspec": {
   "display_name": "Python 3",
   "language": "python",
   "name": "python3"
  },
  "language_info": {
   "codemirror_mode": {
    "name": "ipython",
    "version": 3
   },
   "file_extension": ".py",
   "mimetype": "text/x-python",
   "name": "python",
   "nbconvert_exporter": "python",
   "pygments_lexer": "ipython3",
   "version": "3.6.5"
  },
  "latex_envs": {
   "LaTeX_envs_menu_present": true,
   "autoclose": false,
   "autocomplete": true,
   "bibliofile": "biblio.bib",
   "cite_by": "apalike",
   "current_citInitial": 1,
   "eqLabelWithNumbers": true,
   "eqNumInitial": 1,
   "hotkeys": {
    "equation": "Ctrl-E",
    "itemize": "Ctrl-I"
   },
   "labels_anchors": false,
   "latex_user_defs": false,
   "report_style_numbering": false,
   "user_envs_cfg": false
  },
  "toc": {
   "base_numbering": 1,
   "nav_menu": {
    "height": "97px",
    "width": "160px"
   },
   "number_sections": true,
   "sideBar": false,
   "skip_h1_title": true,
   "title_cell": "Table of Contents",
   "title_sidebar": "Contents",
   "toc_cell": true,
   "toc_position": {},
   "toc_section_display": true,
   "toc_window_display": false
  }
 },
 "nbformat": 4,
 "nbformat_minor": 2
}
