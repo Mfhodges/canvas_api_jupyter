{
 "cells": [
  {
   "cell_type": "code",
   "execution_count": 13,
   "metadata": {
    "deletable": false,
    "editable": false,
    "init_cell": true
   },
   "outputs": [
    {
     "data": {
      "text/html": [
       "<script>\n",
       "    // AUTORUN ALL CELLS ON NOTEBOOK-LOAD! https://stackoverflow.com/questions/31984196/ipython-notebook-run-all-cells-on-open\n",
       "    require(\n",
       "        ['base/js/namespace', 'jquery'], \n",
       "        function(jupyter, $) {\n",
       "            $(jupyter.events).on(\"kernel_ready.Kernel\", function () {\n",
       "                console.log(\"Auto-running all cells-below...\");\n",
       "               //IPython.notebook.execute_cell_range(IPython.notebook.get_selected_index()+1, IPython.notebook.get_selected_index()+2)\n",
       "                jupyter.actions.call('jupyter-notebook:run-all-cells-below');\n",
       "                jupyter.actions.call('jupyter-notebook:save-notebook');\n",
       "            });\n",
       "           // $('#header-container').hide();\n",
       "          //$('#maintoolbar').hide();   \n",
       "        }\n",
       "    );\n",
       "\n",
       "</script>\n"
      ],
      "text/plain": [
       "<IPython.core.display.HTML object>"
      ]
     },
     "metadata": {},
     "output_type": "display_data"
    }
   ],
   "source": [
    "%%html\n",
    "<script>\n",
    "    // AUTORUN ALL CELLS ON NOTEBOOK-LOAD! https://stackoverflow.com/questions/31984196/ipython-notebook-run-all-cells-on-open\n",
    "    require(\n",
    "        ['base/js/namespace', 'jquery'], \n",
    "        function(jupyter, $) {\n",
    "            $(jupyter.events).on(\"kernel_ready.Kernel\", function () {\n",
    "                console.log(\"Auto-running all cells-below...\");\n",
    "               //IPython.notebook.execute_cell_range(IPython.notebook.get_selected_index()+1, IPython.notebook.get_selected_index()+2)\n",
    "                jupyter.actions.call('jupyter-notebook:run-all-cells-below');\n",
    "                jupyter.actions.call('jupyter-notebook:save-notebook');\n",
    "            });\n",
    "           // $('#header-container').hide();\n",
    "          //$('#maintoolbar').hide();   \n",
    "        }\n",
    "    );\n",
    "\n",
    "</script>"
   ]
  },
  {
   "cell_type": "code",
   "execution_count": 14,
   "metadata": {
    "deletable": false,
    "editable": false,
    "extensions": {
     "jupyter_dashboards": {
      "version": 1,
      "views": {
       "grid_default": {},
       "report_default": {}
      }
     }
    },
    "init_cell": true,
    "scrolled": true
   },
   "outputs": [
    {
     "data": {
      "text/html": [
       "\n",
       "<script>\n",
       "  function code_toggle() {\n",
       "    if (code_shown){\n",
       "      $('div.input').hide('500');\n",
       "      $('#toggleButton').val('Show Code')\n",
       "    } else {\n",
       "      $('div.input').show('500');\n",
       "      $('#toggleButton').val('Hide Code')\n",
       "    }\n",
       "    code_shown = !code_shown\n",
       "  }\n",
       "\n",
       "  $( document ).ready(function(){\n",
       "    code_shown=false;\n",
       "    $('div.input').hide()\n",
       "  });\n",
       "</script>\n",
       "<form action=\"javascript:code_toggle()\"><input type=\"submit\" id=\"toggleButton\" value=\"Show Code\"></form>\n",
       "<style>\n",
       "button[data-event-type$=_row] {\n",
       "    display: none !important;}\n",
       "\n",
       " button.btn.btn-default.fa.fa-arrows-alt.full-screen-btn { margin-left:5px;}\n",
       "</style>"
      ],
      "text/plain": [
       "<IPython.core.display.HTML object>"
      ]
     },
     "execution_count": 14,
     "metadata": {},
     "output_type": "execute_result"
    }
   ],
   "source": [
    "from IPython.display import HTML, clear_output,Javascript, display\n",
    "from ipywidgets import widgets\n",
    "from ipywidgets import Button, GridBox, Layout, ButtonStyle, Box, VBox\n",
    "import requests\n",
    "import json\n",
    "import pandas as pd\n",
    "from pprintpp import pprint as pp\n",
    "from pandas.io.json import json_normalize\n",
    "import time\n",
    "import datetime as dt\n",
    "import pytz\n",
    "import base64\n",
    "import qgrid\n",
    "\n",
    "#pd.set_option('display.max_rows', 999)\n",
    "# I wish i knew how to always hide this cell !\n",
    "\n",
    "# button[data-event-type$=_row] {\n",
    "#    display: none !important;}\n",
    "\n",
    "# button.btn.btn-default.fa.fa-arrows-alt.full-screen-btn { margin-left:5px;}\n",
    "\n",
    "\n",
    "HTML('''\n",
    "<script>\n",
    "  function code_toggle() {\n",
    "    if (code_shown){\n",
    "      $('div.input').hide('500');\n",
    "      $('#toggleButton').val('Show Code')\n",
    "    } else {\n",
    "      $('div.input').show('500');\n",
    "      $('#toggleButton').val('Hide Code')\n",
    "    }\n",
    "    code_shown = !code_shown\n",
    "  }\n",
    "\n",
    "  $( document ).ready(function(){\n",
    "    code_shown=false;\n",
    "    $('div.input').hide()\n",
    "  });\n",
    "</script>\n",
    "<form action=\"javascript:code_toggle()\"><input type=\"submit\" id=\"toggleButton\" value=\"Show Code\"></form>\n",
    "<style>\n",
    "button[data-event-type$=_row] {\n",
    "    display: none !important;}\n",
    "\n",
    " button.btn.btn-default.fa.fa-arrows-alt.full-screen-btn { margin-left:5px;}\n",
    "</style>''')\n",
    "\n"
   ]
  },
  {
   "cell_type": "code",
   "execution_count": 15,
   "metadata": {
    "deletable": false,
    "editable": false,
    "init_cell": true
   },
   "outputs": [
    {
     "data": {
      "application/javascript": [
       "IPython.OutputArea.prototype._should_scroll = function(lines) {\n",
       "    return false;\n",
       "}\n"
      ],
      "text/plain": [
       "<IPython.core.display.Javascript object>"
      ]
     },
     "metadata": {},
     "output_type": "display_data"
    }
   ],
   "source": [
    "%%javascript\n",
    "IPython.OutputArea.prototype._should_scroll = function(lines) {\n",
    "    return false;\n",
    "}"
   ]
  },
  {
   "cell_type": "markdown",
   "metadata": {
    "extensions": {
     "jupyter_dashboards": {
      "version": 1,
      "views": {
       "grid_default": {},
       "report_default": {}
      }
     }
    },
    "hide_input": false
   },
   "source": [
    "# Welcome 👋\n",
    "### Purpose\n",
    "API tool to do quick API calls to the Canvas instance using your Canvas API token \n",
    "If you are very interested in the Code that is behind this click the 'Show Code' Button that is at the top of this page.\n",
    "\n",
    "\n",
    "#### API documentation references \n",
    " - [CANVAS API DOC](https://canvas.instructure.com/doc/api/index.html)\n",
    " - [Requests Python Library](http://docs.python-requests.org/en/master/)\n",
    "\n",
    "### ⚡️ Quick Directions ⚡️\n",
    "\n",
    "1. enter in api token ( don't know what that is? please see: https://community.canvaslms.com/docs/DOC-10806 )\n",
    "3. select canvas environment ( currently only production is set )\n",
    "4. click submit ( make sure the top turns green )\n",
    "5. scroll down to see the currently available reporting\n",
    "\n",
    "**note**: if things seem bizarre refresh the page and the go to Cell > Run All\n"
   ]
  },
  {
   "cell_type": "code",
   "execution_count": 23,
   "metadata": {
    "extensions": {
     "jupyter_dashboards": {
      "version": 1,
      "views": {
       "grid_default": {},
       "report_default": {}
      }
     }
    },
    "hide_input": true,
    "init_cell": true,
    "scrolled": true
   },
   "outputs": [
    {
     "data": {
      "text/html": [
       "<h2 style='text-align: center;'>Please enter your API Credentials</h2>"
      ],
      "text/plain": [
       "<IPython.core.display.HTML object>"
      ]
     },
     "metadata": {},
     "output_type": "display_data"
    },
    {
     "data": {
      "application/vnd.jupyter.widget-view+json": {
       "model_id": "c53cc9a2625c4dcea3f6d55ccd601a1f",
       "version_major": 2,
       "version_minor": 0
      },
      "text/plain": [
       "GridBox(children=(Button(button_style='warning', description='NOT Authorized', disabled=True, icon='unlock', l…"
      ]
     },
     "metadata": {},
     "output_type": "display_data"
    },
    {
     "data": {
      "application/vnd.jupyter.widget-view+json": {
       "model_id": "2f871574d3c848f08dc8df0e8d201d40",
       "version_major": 2,
       "version_minor": 0
      },
      "text/plain": [
       "Output()"
      ]
     },
     "metadata": {},
     "output_type": "display_data"
    },
    {
     "data": {
      "application/javascript": [
       "IPython.notebook.execute_cell_range(IPython.notebook.get_selected_index()+1, IPython.notebook.get_selected_index()+11)"
      ],
      "text/plain": [
       "<IPython.core.display.Javascript object>"
      ]
     },
     "metadata": {},
     "output_type": "display_data"
    }
   ],
   "source": [
    "error = widgets.Output()\n",
    "\n",
    "API_widget = widgets.Text(placeholder='API TOKEN',\n",
    "                       layout=Layout(width='90%',align_items='center', grid_area='main'))\n",
    "\n",
    "\n",
    "Authentication = Button(\n",
    "    value=False,\n",
    "    description='NOT Authorized',\n",
    "    disabled=True,\n",
    "    button_style='warning', # 'success', 'info', 'warning', 'danger' or ''\n",
    "    icon='unlock',\n",
    "    layout=Layout(width='auto', grid_area='header')\n",
    ")\n",
    "\n",
    "\n",
    "Submit = Button(\n",
    "    value=False,\n",
    "    description='Submit',\n",
    "    disabled=False,\n",
    "    button_style='info', # 'success', 'info', 'warning', 'danger' or ''\n",
    "    icon='',\n",
    "    layout=Layout(width='auto', grid_area='footer')\n",
    ")\n",
    "\n",
    "\n",
    "\n",
    "# for the env // Domain\n",
    "environ = widgets.Select(\n",
    "    options=['Production', 'Test', 'Beta'],\n",
    "    value='Production',\n",
    "    description='Environment:',\n",
    "    disabled=False,\n",
    "    rows=3,\n",
    "    layout=Layout(width='auto', grid_area='sidebar')\n",
    ")\n",
    "\n",
    "environs = {'Production':'https://canvas.upenn.edu/api/v1/', 'Test':'b', 'Beta':'c'}\n",
    "\n",
    "\n",
    "\n",
    "def set_up_forms():\n",
    "    display(Javascript('IPython.notebook.execute_cell_range(IPython.notebook.get_selected_index()+1, IPython.notebook.get_selected_index()+11)'))\n",
    "\n",
    "def authorize():\n",
    "    # check api key \n",
    "    global headers\n",
    "    headers = {\n",
    "        'Authorization': 'Bearer %s' % (API_widget.value) ,\n",
    "    }\n",
    "    global domain\n",
    "    domain = environs[environ.value]\n",
    "    \n",
    "    x = test_api() # returns status code of test response\n",
    "    \n",
    "    if API_widget.value and x ==200:\n",
    "    # if good:\n",
    "        \n",
    "        # UI changes\n",
    "        Authentication.icon = 'lock'\n",
    "        Authentication.description = 'Authorized'\n",
    "        Authentication.button_style ='success'\n",
    "        set_up_forms()\n",
    "    #Authentication.style.button_color = 'lightgreen'\n",
    "    # if bad:\n",
    "    else:\n",
    "        error.append_stdout(\"Invalid API token\")\n",
    "        Authentication.description='NOT Authorized'\n",
    "        Authentication.button_style='warning' # 'success', 'info', 'warning', 'danger' or ''\n",
    "        Authentication.icon='unlock'\n",
    "    # output note \n",
    "    \n",
    "\n",
    "\n",
    "def on_button_clicked(b):\n",
    "    # clear any output ( error output from authorize )\n",
    "    error.clear_output()\n",
    "    authorize()\n",
    "    \n",
    "    \n",
    "Submit.on_click(on_button_clicked)\n",
    "\n",
    "\n",
    "#https://ipywidgets.readthedocs.io/en/latest/examples/Widget%20Styling.html#The-Grid-layout\n",
    "\n",
    "header  = Authentication\n",
    "main    = API_widget\n",
    "sidebar = environ\n",
    "footer  = Submit\n",
    "\n",
    "\n",
    "\n",
    "form = GridBox(children=[header, main, sidebar,footer],\n",
    "        layout=Layout(\n",
    "            width='80%',\n",
    "            margin=\"2% 0% 2% 10%\",\n",
    "            grid_template_rows='auto auto auto',\n",
    "            grid_template_columns='25% 25% 25% 25%',\n",
    "            #grid_gap='5px 5px',\n",
    "            grid_template_areas='''\n",
    "            \" . header header .\"\n",
    "            \"main main sidebar sidebar\"\n",
    "            \" . footer footer . \"\n",
    "            ''')\n",
    "       )\n",
    "\n",
    "display(HTML(\"<h2 style='text-align: center;'>Please enter your API Credentials</h2>\"))\n",
    "display(form)\n",
    "display(error)\n",
    "\n",
    "\n",
    "\n",
    "def on_value_change(change):\n",
    "    Authentication.description='NOT Authorized'\n",
    "    Authentication.button_style='warning' # 'success', 'info', 'warning', 'danger' or ''\n",
    "    Authentication.icon='unlock'\n",
    "    headers = {\n",
    "    'Authorization': 'Bearer %s' % (change['new']) ,\n",
    "    }\n",
    "    \n",
    "\n",
    "API_widget.observe(on_value_change, names='value')\n",
    "\n",
    "\n",
    "\n",
    "environs = {'Production':'https://canvas.upenn.edu/api/v1/', 'Test':'b', 'Beta':'c'}\n",
    "domain = environs[environ.value]\n",
    "\n",
    "\n",
    "def test_api():\n",
    "    \n",
    "    #headers = {\n",
    "    #'Authorization': 'Bearer %s' % (API_widget.value) ,\n",
    "    #}\n",
    "    \n",
    "    url = domain + 'accounts/self/scopes'\n",
    "    response = requests.get(url,headers=headers)\n",
    "    r = response.json()\n",
    "    #print(response.status_code)\n",
    "    return response.status_code\n",
    "\n",
    "\n",
    "\n",
    "######################################\n",
    "######### HELPER FUNCTION ############\n",
    "######################################\n",
    "\n",
    "# utc to est convert and back \n",
    "# all user input is in est in the basic time format\n",
    "# example: 2019-05-14 1am\n",
    "# output from canvas 2019-05-14T14:28:08Z (utc)\n",
    "\n",
    "def est_to_utc(datestring):\n",
    "    utc=pytz.utc\n",
    "    eastern=pytz.timezone('US/Eastern')\n",
    "    fmt='%Y-%m-%d %H:%M'\n",
    "    date=dt.datetime.strptime(datestring,\"%Y-%m-%d %I%p\")\n",
    "    date_eastern=eastern.localize(date,is_dst=None)\n",
    "    date_utc=date_eastern.astimezone(utc)\n",
    "    return(date_utc.strftime(fmt))\n",
    "    \n",
    "def user_info(user_id):\n",
    "    #url:GET|/api/v1/users/:id\n",
    "    url = domain + 'users/'+user_id\n",
    "    response = requests.get(url,headers=headers)\n",
    "    return(response.json())\n",
    "\n",
    "\n",
    "def create_download_link( df, filename):  \n",
    "    title = \"Download CSV file\"\n",
    "    csv = df.to_csv()\n",
    "    b64 = base64.b64encode(csv.encode())\n",
    "    payload = b64.decode()\n",
    "    html = '<a download=\"{filename}\" href=\"data:text/csv;base64,{payload}\" target=\"_blank\">{title}</a>'\n",
    "    html = html.format(payload=payload,title=title,filename=filename)\n",
    "    return HTML(html)"
   ]
  },
  {
   "cell_type": "markdown",
   "metadata": {},
   "source": [
    "<hr>\n",
    "\n",
    "# Table of Contents\n",
    "\n",
    "1. [Endpoints](#Explore-Endpoints-🔎)\n",
    "1. [Pageviews](#Page-Views)\n",
    "2. [Submission History](#Submission-History)\n",
    "\n",
    "\n",
    "<hr>"
   ]
  },
  {
   "cell_type": "markdown",
   "metadata": {
    "extensions": {
     "jupyter_dashboards": {
      "version": 1,
      "views": {
       "grid_default": {},
       "report_default": {}
      }
     }
    }
   },
   "source": [
    "\n",
    "\n",
    "## Explore Endpoints 🔎\n",
    "##### Description\n",
    "Once you have validated your API credentials you can start making API requests! \n",
    "\n",
    "Feel free to explore what can be done with the Canvas API by setting the drop down values below \n",
    "\n",
    "**purpose:** list of all of the api endpoints and their associated info\n"
   ]
  },
  {
   "cell_type": "code",
   "execution_count": 24,
   "metadata": {
    "code_folding": [],
    "extensions": {
     "jupyter_dashboards": {
      "version": 1,
      "views": {
       "grid_default": {},
       "report_default": {}
      }
     }
    },
    "hide_input": false,
    "init_cell": true,
    "scrolled": false
   },
   "outputs": [
    {
     "data": {
      "text/html": [
       "<h2 style='text-align: center;'>Explore the Endpoints Available in the Canvas API based on your credientials</h2>"
      ],
      "text/plain": [
       "<IPython.core.display.HTML object>"
      ]
     },
     "metadata": {},
     "output_type": "display_data"
    },
    {
     "data": {
      "application/vnd.jupyter.widget-view+json": {
       "model_id": "011ed965e404421092ae2de35383d9cc",
       "version_major": 2,
       "version_minor": 0
      },
      "text/plain": [
       "Dropdown(description='Resource', layout=Layout(padding='5px 20px 20px 20px', width='40%'), options=('ALL', 'AP…"
      ]
     },
     "metadata": {},
     "output_type": "display_data"
    },
    {
     "data": {
      "application/vnd.jupyter.widget-view+json": {
       "model_id": "560bb879038b47fba4fecef52f2d2aca",
       "version_major": 2,
       "version_minor": 0
      },
      "text/plain": [
       "Dropdown(description='API Method', layout=Layout(padding='5px 20px 20px 20px', width='40%'), options=('ALL', '…"
      ]
     },
     "metadata": {},
     "output_type": "display_data"
    }
   ],
   "source": [
    "#GET /api/v1/accounts/:account_id/scopes\n",
    "\n",
    "\n",
    "\n",
    "#print(headers)\n",
    "#print(domain)\n",
    "output_df = widgets.Output()\n",
    "\n",
    "ALL = 'ALL'\n",
    "def unique_sorted_values_plus_ALL(array):\n",
    "    unique = array.unique().tolist()\n",
    "    unique.sort()\n",
    "    unique.insert(0, ALL)\n",
    "    return unique\n",
    "\n",
    "try:\n",
    "    headers\n",
    "except NameError:\n",
    "    headers = {}\n",
    "    with output_df:\n",
    "        display(HTML(\"<p style='text-align: center;'>No API Token set</p>\"))\n",
    "url = domain +'accounts/self/scopes'\n",
    "response = requests.get(url,headers=headers)\n",
    "r = response.json()\n",
    "df_scopes = pd.DataFrame.from_dict(r, orient='columns')\n",
    "\n",
    "try:\n",
    "    df_scopes.resource_name \n",
    "except AttributeError:\n",
    "    df_scopes = pd.DataFrame.from_dict([{'resource_name':'api token error','verb':'api token error'}], orient='columns')\n",
    "\n",
    "\n",
    "dropdown_resource = widgets.Dropdown(description='Resource',\n",
    "                                     options = unique_sorted_values_plus_ALL(df_scopes.resource_name),\n",
    "                                    layout=Layout(width='40%',padding=\"5px 20px 20px 20px\"))\n",
    "dropdown_apimethod = widgets.Dropdown(description='API Method',\n",
    "                                     options = unique_sorted_values_plus_ALL(df_scopes.verb),\n",
    "                                    layout=Layout(width='40%',padding=\"5px 20px 20px 20px\"))\n",
    "\n",
    "\n",
    "\n",
    "\n",
    "def common_filtering(resource, verb):\n",
    "    output_df.clear_output(wait=True)\n",
    "    \n",
    "    # year -> resource \n",
    "    # purpose -> verb\n",
    "    if (resource == ALL) & (verb == ALL):\n",
    "        common_filter = df_scopes\n",
    "    elif (resource == ALL):\n",
    "        common_filter = df_scopes[df_scopes.verb == verb]\n",
    "    elif (verb == ALL):\n",
    "        common_filter = df_scopes[df_scopes.resource_name == resource]\n",
    "    else:\n",
    "        common_filter = df_scopes[(df_scopes.resource_name == resource) & \n",
    "                                  (df_scopes.verb == verb)]\n",
    "    #common_filter = df_scopes\n",
    "    if common_filter.empty:\n",
    "        with output_df:\n",
    "            display(HTML(\"<p style='text-align: center;'>No matching results</p>\"))\n",
    "        \n",
    "    else:\n",
    "        with output_df:\n",
    "            display(qgrid.show_grid(common_filter, show_toolbar=True, precision=None, grid_options={'editable': False}))\n",
    "            #display(common_filter)\n",
    "\n",
    "\n",
    "def dropdown_resource_eventhandler(change):\n",
    "    common_filtering(change.new, dropdown_apimethod.value)\n",
    "\n",
    "\n",
    "def dropdown_apimethod_eventhandler(change):\n",
    "    common_filtering(dropdown_resource.value, change.new)\n",
    "\n",
    "#pp(r)\n",
    "\n",
    "dropdown_resource.observe(dropdown_resource_eventhandler, names='value')\n",
    "dropdown_apimethod.observe(dropdown_apimethod_eventhandler, names='value')\n",
    "\n",
    "\n",
    "display(HTML(\"<h2 style='text-align: center;'>Explore the Endpoints Available in the Canvas API based on your credientials</h2>\"))\n",
    "#if headers =={}:\n",
    "\n",
    "display(dropdown_resource)\n",
    "\n",
    "display(dropdown_apimethod)\n",
    "#load_output()"
   ]
  },
  {
   "cell_type": "code",
   "execution_count": 25,
   "metadata": {
    "extensions": {
     "jupyter_dashboards": {
      "version": 1,
      "views": {
       "grid_default": {},
       "report_default": {}
      }
     }
    },
    "hide_input": false,
    "init_cell": true,
    "scrolled": true
   },
   "outputs": [
    {
     "data": {
      "text/html": [
       "<h3 style='padding-left:40px;'>Output:</h3>"
      ],
      "text/plain": [
       "<IPython.core.display.HTML object>"
      ]
     },
     "metadata": {},
     "output_type": "display_data"
    },
    {
     "data": {
      "application/vnd.jupyter.widget-view+json": {
       "model_id": "b19890ce9ee442c9b3c90a2d9a5a794c",
       "version_major": 2,
       "version_minor": 0
      },
      "text/plain": [
       "Output()"
      ]
     },
     "metadata": {},
     "output_type": "display_data"
    }
   ],
   "source": [
    "from IPython.core.display import HTML\n",
    "\n",
    "display(HTML(\"<h3 style='padding-left:40px;'>Output:</h3>\"))\n",
    "display(output_df)"
   ]
  },
  {
   "cell_type": "markdown",
   "metadata": {
    "extensions": {
     "jupyter_dashboards": {
      "version": 1,
      "views": {
       "grid_default": {},
       "report_default": {}
      }
     }
    },
    "hide_input": true
   },
   "source": [
    "## Page Views \n",
    "#### Description \n",
    "[see canvas doc](https://canvas.instructure.com/doc/api/users.html#method.page_views.index)  \n",
    "\n",
    "\n",
    "\n",
    "#### Directions\n",
    "- put in users canvas id \n",
    "- you can leave the fields blank or specify a date ( EST ) ( **HOUR SPECIFICATION IS CURRENTLY NOT FUNCTIONAL** )\n",
    "    - the output will be in est\n",
    "- Page views are returned in descending order, newest to oldest.\n",
    "- Pagination is not possible please contact Maddy if need explanation \n",
    "- Download is not currently available.\n",
    "\n",
    "###### Why Pagination isn't great in pageviews\n",
    "technically there is no page 1, page 2, etc. There are bookmarks because your pageviews could be constantly changing..."
   ]
  },
  {
   "cell_type": "code",
   "execution_count": 32,
   "metadata": {
    "extensions": {
     "jupyter_dashboards": {
      "version": 1,
      "views": {
       "grid_default": {},
       "report_default": {}
      }
     }
    },
    "hide_input": true,
    "init_cell": true,
    "scrolled": false
   },
   "outputs": [
    {
     "data": {
      "text/html": [
       "<h2 style='text-align: center;'>Explore the Pageview History</h2>"
      ],
      "text/plain": [
       "<IPython.core.display.HTML object>"
      ]
     },
     "metadata": {},
     "output_type": "display_data"
    },
    {
     "data": {
      "application/vnd.jupyter.widget-view+json": {
       "model_id": "21e0a6f7a1474ab596e6002219cec598",
       "version_major": 2,
       "version_minor": 0
      },
      "text/plain": [
       "GridBox(children=(Text(value='', layout=Layout(align_items='center', grid_area='header', width='90%'), placeho…"
      ]
     },
     "metadata": {},
     "output_type": "display_data"
    },
    {
     "data": {
      "text/html": [
       "<p><b>NOTE</b>: if you leave the date time fields blank it will get the most current results"
      ],
      "text/plain": [
       "<IPython.core.display.HTML object>"
      ]
     },
     "metadata": {},
     "output_type": "display_data"
    }
   ],
   "source": [
    "# GET /api/v1/users/:user_id/page_views\n",
    "\n",
    "\n",
    "\n",
    "pd.set_option('display.max_colwidth', -1)\n",
    "pd.set_option('display.max_rows', 999)\n",
    "\n",
    "df_pageview = pd.DataFrame.from_dict({}, orient='columns')#,dtype=\"category\"\n",
    "             \n",
    "\n",
    "\n",
    "pageview_output = widgets.Output()#layout={'border': '1px solid #ABABAB'}\n",
    "userinfo_output = widgets.Output()\n",
    "csv_data = widgets.Output()\n",
    "qgrid_widget = qgrid.show_grid(df_pageview, show_toolbar=True)\n",
    "\n",
    "user_id = widgets.Text(placeholder='user_id',\n",
    "                       layout=Layout(width='90%',align_items='center', grid_area='header'))\n",
    "\n",
    "start_date = widgets.DatePicker(\n",
    "    description='start date',\n",
    "    disabled=False,)\n",
    "start_time = widgets.Dropdown(\n",
    "    options=['none','1am', '2am', '3am', '4am', '5am', '6am', '7am', '8am', '9am', '10am', '11am', '12am','1pm', '2pm', '3pm', '4pm', '5pm', '6pm', '7pm', '8pm', '9pm', '10pm', '11pm', '12pm'],\n",
    "    value='none',\n",
    "    description='start time',\n",
    "    disabled=True,)\n",
    "\n",
    "end_date = widgets.DatePicker(\n",
    "    description='end date',\n",
    "    disabled=False,)\n",
    "end_time = widgets.Dropdown(\n",
    "    options=['none','1am', '2am', '3am', '4am', '5am', '6am', '7am', '8am', '9am', '10am', '11am', '12am','1pm', '2pm', '3pm', '4pm', '5pm', '6pm', '7pm', '8pm', '9pm', '10pm', '11pm', '12pm'],\n",
    "    value='none',\n",
    "    description='end time',\n",
    "    disabled=True,)\n",
    "\n",
    "Per_page = widgets.Dropdown(\n",
    "    options=['10','25','50','75','100'],\n",
    "    value='25',\n",
    "    description='No. Results',\n",
    "    disabled=False,\n",
    "    layout=Layout(width='auto', grid_area='bottom'))\n",
    "\n",
    "Submit = Button(\n",
    "    value=False,\n",
    "    description='Get PageViews',\n",
    "    disabled=False,\n",
    "    button_style='info', # 'success', 'info', 'warning', 'danger' or ''\n",
    "    icon='',\n",
    "    layout=Layout(width='auto', grid_area='footer')\n",
    ")\n",
    "\n",
    "\n",
    "header = user_id\n",
    "left = widgets.VBox([start_date, start_time],layout=Layout( grid_area='left'))#layout=Layout(width='90%',align_items='center', grid_area='left')\n",
    "right = widgets.VBox([end_date, end_time],layout=Layout( grid_area='right'))\n",
    "bottom = Per_page \n",
    "footer = Submit\n",
    "\n",
    "form = GridBox(children=[header, left, right,bottom,footer],\n",
    "        layout=Layout(\n",
    "            width='80%',\n",
    "            margin=\"2% 0% 2% 10%\",\n",
    "            grid_template_rows='auto auto auto auto',\n",
    "            grid_template_columns='25% 25% 25% 25%',\n",
    "            #grid_gap='5px 5px',\n",
    "            grid_template_areas='''\n",
    "            \" . header header .\"\n",
    "            \"left left right right\"\n",
    "            \" . bottom . .\"\n",
    "            \" . footer footer . \"\n",
    "            ''')\n",
    "       )\n",
    "\n",
    "display(HTML(\"<h2 style='text-align: center;'>Explore the Pageview History</h2>\"))\n",
    "\n",
    "display(form)\n",
    "display(HTML('<p><b>NOTE</b>: if you leave the date time fields blank it will get the most current results'))\n",
    "#display(pagination_output)\n",
    "\n",
    "\n",
    "def user_info(user_id):\n",
    "    #url:GET|/api/v1/users/:id\n",
    "    url = domain + 'users/'+user_id\n",
    "    response = requests.get(url,headers=headers)\n",
    "    print(response.status_code)\n",
    "    return(response.json())\n",
    "\n",
    "\n",
    "def est_to_utc(datestring):\n",
    "    utc=pytz.utc\n",
    "    eastern=pytz.timezone('US/Eastern')\n",
    "    fmt='%Y-%m-%d'# %H:%M' <- ADD THE TIME LATER\n",
    "    date=dt.datetime.strptime(datestring,\"%Y-%m-%d %I%p\")\n",
    "    date_eastern=eastern.localize(date,is_dst=None)\n",
    "    date_utc=date_eastern.astimezone(utc)\n",
    "    return(date_utc.strftime(fmt))\n",
    "    \n",
    "\n",
    "def get_params():\n",
    "    #basic logic on the start and end time if available \n",
    "    params = {}\n",
    "    if start_date.value:\n",
    "        start = est_to_utc(str(start_date.value)+' '+'12am')\n",
    "        params['start_time'] = start\n",
    "    if end_date.value:\n",
    "        end = est_to_utc(str(end_date.value)+' '+'12am')\n",
    "        params['end_time'] = end\n",
    "    return params\n",
    "    \n",
    "    \n",
    "\n",
    "def page_views(user_id):\n",
    "    # GET /api/v1/users/:user_id/page_views\n",
    "    params = get_params()\n",
    "    url = domain + 'users/'+user_id+'/page_views'\n",
    "    params['per_page'] = bottom.value\n",
    "    response = requests.get(url,headers=headers,params=params)\n",
    "    \n",
    "    return response\n",
    "    \n",
    "    \n",
    "\n",
    "    #pp(response.json())\n",
    "    \n",
    "def on_button_clicked(b):\n",
    "    # clear any output ( error output from authorize )\n",
    "    pageview_output.clear_output()\n",
    "    userinfo_output.clear_output()\n",
    "    csv_data.clear_output()\n",
    "    # Validate\n",
    "    \"\"\"\n",
    "    with pagination_output:\n",
    "        display(\n",
    "            Button(\n",
    "                value=False,\n",
    "                description='ok',\n",
    "                disabled=False, \n",
    "                button_style='info', # 'success', 'info', 'warning', 'danger' or ''\n",
    "                icon='',))\n",
    "    \"\"\"\n",
    "    \n",
    "    user = user_id.value\n",
    "    print(user_id.value,header.value)\n",
    "    if not user:\n",
    "        print(\"yeah\")\n",
    "        with userinfo_output:\n",
    "            display(HTML(\"<h4 ><span style='color:red;'>ERROR:</span> No User Set</h4>\"))\n",
    "    else:\n",
    "        userinfo = user_info(user)\n",
    "        \n",
    "        response = page_views(user)\n",
    "        \n",
    "        # format \n",
    "        r = response.json()\n",
    "        \n",
    "        # flatten results\n",
    "        df_pageview = json_normalize(r)\n",
    "        \n",
    "        #print(\"r\",r)\n",
    "        #print(userinfo)\n",
    "        with userinfo_output:\n",
    "            if userinfo:\n",
    "                display(HTML('<h4> Page Results for ' + userinfo['name'] + ' (' +userinfo['login_id'] +')</h4><p>url: '+response.url+'</p>'))\n",
    "            else:\n",
    "                 display(HTML('<h4> Page Results for <i>NONE</i></h4>'))       \n",
    "        with pageview_output:\n",
    "            if df_pageview.empty:\n",
    "                display(HTML(\"<p style='text-align: center;'> No Results - Either no usage or Error </p>\"))\n",
    "\n",
    "            else:\n",
    "            # Removing column\n",
    "            \n",
    "                list_drop = [\"session_id\", \"developer_key_id\",\"summarized\",\"id\",\"asset_user_access_id\",\"user_request\",\"asset_type\"]\n",
    "                df_pageview.drop(list_drop, axis=1, inplace=True)\n",
    "                df_pageview['updated_at'] = pd.to_datetime(df_pageview['updated_at'], format='%Y-%m-%d %H:%M:%S', utc=True)\\\n",
    "                            .dt.tz_convert('America/New_York')\\\n",
    "                            .dt.strftime('%Y-%m-%d %I:%M%p')\n",
    " \n",
    "                #            #.dt.tz_localize('UTC')\\\n",
    "                #            #.dt.tz_convert('EST')\\\n",
    "                #            #.dt.strftime('%Y-%m-%d %I:%M%p')\n",
    "                df_pageview['created_at'] = pd.to_datetime(df_pageview['created_at'], format='%Y-%m-%d %H:%M:%S', utc=True)\\\n",
    "                            .dt.tz_convert('America/New_York')\\\n",
    "                            .dt.strftime('%Y-%m-%d %I:%M%p')\n",
    "                \n",
    "                df_pageview.style.set_table_styles([dict(selector=\"th\",props=[('max-width', '50px')])])\n",
    "                df_pageview.columns = df_pageview.columns.str.replace(\"[_]\", \" \")\n",
    "                df_pageview.columns = df_pageview.columns.str.replace(\"[.]\", \" \")\n",
    "                \n",
    "                #display(df_pageview)\n",
    "                test = qgrid.show_grid(df_pageview, show_toolbar=True, precision=None, grid_options={'forceFitColumns': False,'syncColumnCellResize':True })#'defaultColumnWidth': 200\n",
    "                \n",
    "                display(test)\n",
    "                \n",
    "        with csv_data: \n",
    "            display(df_pageview)\n",
    "       \n",
    "        \n",
    "                # HTML(df_pageview.to_html(classes='table table-striped table-bordered table-hover table-condensed'))\n",
    "        #return df_pageview \n",
    "        \n",
    "        # clear_output(wait=True)\n",
    "\n",
    "    \n",
    "\n",
    "Submit.on_click(on_button_clicked)\n",
    "\n",
    "\n",
    "\n",
    "\n",
    "    \n",
    "#5443278 5279847\n",
    "# should have pagination somewhere \n",
    "\n"
   ]
  },
  {
   "cell_type": "code",
   "execution_count": 31,
   "metadata": {
    "extensions": {
     "jupyter_dashboards": {
      "version": 1,
      "views": {
       "grid_default": {},
       "report_default": {}
      }
     }
    },
    "hide_input": true,
    "init_cell": true,
    "scrolled": true
   },
   "outputs": [
    {
     "data": {
      "text/html": [
       "<h3 style='padding-left:40px;'>Output (PageViews):</h3>"
      ],
      "text/plain": [
       "<IPython.core.display.HTML object>"
      ]
     },
     "metadata": {},
     "output_type": "display_data"
    },
    {
     "data": {
      "application/vnd.jupyter.widget-view+json": {
       "model_id": "773931f804cd4c589de08f3e0b798260",
       "version_major": 2,
       "version_minor": 0
      },
      "text/plain": [
       "Output(outputs=({'output_type': 'display_data', 'data': {'text/plain': '<IPython.core.display.HTML object>', '…"
      ]
     },
     "metadata": {},
     "output_type": "display_data"
    },
    {
     "data": {
      "application/vnd.jupyter.widget-view+json": {
       "model_id": "bcbb200f62b045e295fc2c5b0b912dbd",
       "version_major": 2,
       "version_minor": 0
      },
      "text/plain": [
       "Output(outputs=({'output_type': 'display_data', 'data': {'text/plain': \"QgridWidget(grid_options={'fullWidthRo…"
      ]
     },
     "metadata": {},
     "output_type": "display_data"
    },
    {
     "data": {
      "application/vnd.jupyter.widget-view+json": {
       "model_id": "7b1c3a5d987e4422a72fcaf6a5d90e66",
       "version_major": 2,
       "version_minor": 0
      },
      "text/plain": [
       "Accordion(children=(HBox(children=(Text(value='pageview_data.csv', description='filename'), Button(button_styl…"
      ]
     },
     "metadata": {},
     "output_type": "display_data"
    }
   ],
   "source": [
    "display(HTML(\"<h3 style='padding-left:40px;'>Output (PageViews):</h3>\"))\n",
    "\n",
    "# class output output_scroll set to 24 -- shouldnt \n",
    "#pd.set_option('display.max_rows', 999)\n",
    "#print(pageview_output.layout)\n",
    "\n",
    "\n",
    "link = widgets.Output()\n",
    "\n",
    "\n",
    "\n",
    "def on_download_clicked(b):\n",
    "    #download to csv\n",
    "    link.clear_output()\n",
    "    #print(pageview_output.capture())\n",
    "    if pageview_output.outputs:\n",
    "        #print(\"ok\")\n",
    "        #print(\"csv_data.outputs\",csv_data.outputs)\n",
    "        \n",
    "        content = csv_data.outputs[0]['data']['text/html']\n",
    "        #print(content)\n",
    "        data = pd.read_html(content)[0]\n",
    "        data.drop('Unnamed: 0', axis=1, inplace=True)\n",
    "        #display(data)\n",
    "        csv_name = filename.value\n",
    "        with link:\n",
    "            display(create_download_link(data,csv_name))\n",
    "    else:\n",
    "        with link:\n",
    "            display(HTML('<p>no content selected</p>'))\n",
    "\n",
    "\n",
    "download = Button(\n",
    "    value=False,\n",
    "    description='Download History',\n",
    "    disabled=False,\n",
    "    button_style='info', # 'success', 'info', 'warning', 'danger' or ''\n",
    "    icon='fa-download',)\n",
    "filename = widgets.Text(value='pageview_data.csv',description='filename')\n",
    "\n",
    "accordion = widgets.Accordion(children=[widgets.HBox([filename,download,link])])\n",
    "accordion.set_title(0, 'Download')\n",
    "accordion.selected_index = None\n",
    "\n",
    "\n",
    "\n",
    "\n",
    "qgrid_widget.get_changed_df()\n",
    "download.on_click(on_download_clicked)\n",
    "if headers == {}:\n",
    "    display(HTML(\"<p style='text-align: center;'>No API Token set</p>\"))\n",
    "else:\n",
    "    #display(HTML(\"<style>.rendered_html th {max-width: 120px;}</style>\"))\n",
    "    display(userinfo_output)\n",
    "    #display(pagination_output)\n",
    "    display(pageview_output)\n",
    "    \n",
    "    display(accordion)\n",
    "    \n",
    "    \n",
    "\n",
    "    \n",
    "#2019-05-14 10:02AM    \n",
    "# 2019-05-14T15:01:53Z\t\n",
    "\n",
    "#2019-05-14T16:31:17Z\t\n",
    "#2019-05-14 11:31:17-05:00\t"
   ]
  },
  {
   "cell_type": "markdown",
   "metadata": {
    "deletable": false,
    "editable": false
   },
   "source": [
    "## Submission History\n",
    "#### Description \n",
    "\n",
    "[see canvas doc](https://canvas.instructure.com/doc/api/submissions.html)\n",
    "\n",
    "#### Directions\n",
    "- course id is required\n",
    "- can leave assignment id or user id blank -- but not both"
   ]
  },
  {
   "cell_type": "code",
   "execution_count": 28,
   "metadata": {
    "hide_input": true,
    "init_cell": true,
    "scrolled": false
   },
   "outputs": [
    {
     "data": {
      "text/html": [
       "<h2 style='text-align: center;'>Explore the Submission History</h2>"
      ],
      "text/plain": [
       "<IPython.core.display.HTML object>"
      ]
     },
     "metadata": {},
     "output_type": "display_data"
    },
    {
     "data": {
      "application/vnd.jupyter.widget-view+json": {
       "model_id": "3585f878956347c483eaaf3a74370aa2",
       "version_major": 2,
       "version_minor": 0
      },
      "text/plain": [
       "GridBox(children=(Text(value='', description='course id', layout=Layout(align_items='center', grid_area='heade…"
      ]
     },
     "metadata": {},
     "output_type": "display_data"
    }
   ],
   "source": [
    "# GET /api/v1/courses/:course_id/assignments/:assignment_id/submissions\n",
    "\n",
    "#course_id = '1440507'\n",
    "#assignment_id = '6771834'\n",
    "\n",
    "\n",
    "\n",
    "submission_output = widgets.Output()#layout={'border': '1px solid #ABABAB'}\n",
    "csv_submission_output = widgets.Output()\n",
    "info_output = widgets.Output()\n",
    "\n",
    "course_id = widgets.Text(placeholder='course_id',description='course id',\n",
    "                       layout=Layout(width='90%',align_items='center', grid_area='header'))\n",
    "\n",
    "sub_user_id = widgets.Text(placeholder='user_id',description='user id',\n",
    "                       layout=Layout(width='90%',align_items='center', grid_area='left'))\n",
    "\n",
    "assignment = widgets.Text(placeholder='assignment_id', description='assignment id',\n",
    "                       layout=Layout(width='90%',align_items='center', grid_area='right'))\n",
    "\n",
    "Per_page = widgets.Dropdown(\n",
    "    options=['10','25','50','75','100'],\n",
    "    value='25',\n",
    "    description='No. Results',\n",
    "    disabled=False,\n",
    "    layout=Layout(width='auto', grid_area='bottom'))\n",
    "\n",
    "Submit = Button(\n",
    "    value=False,\n",
    "    description='Get Submission History',\n",
    "    disabled=False,\n",
    "    button_style='info', # 'success', 'info', 'warning', 'danger' or ''\n",
    "    icon='',\n",
    "    layout=Layout(width='auto', grid_area='footer')\n",
    ")\n",
    "\n",
    "\n",
    "header = course_id\n",
    "left = sub_user_id#layout=Layout(width='90%',align_items='center', grid_area='left')\n",
    "right = assignment\n",
    "bottom = Per_page \n",
    "footer = Submit\n",
    "\n",
    "form = GridBox(children=[header,left, right,bottom,footer],\n",
    "        layout=Layout(\n",
    "            width='80%',\n",
    "            margin=\"2% 0% 2% 10%\",\n",
    "            grid_template_rows='auto auto auto auto',\n",
    "            grid_template_columns='25% 25% 25% 25%',\n",
    "            #grid_gap='5px 5px',\n",
    "            grid_template_areas='''\n",
    "            \" . header header . \"\n",
    "            \" left left right right \"\n",
    "            \" . bottom . .\"\n",
    "            \" . footer footer . \"\n",
    "            ''')\n",
    "       )\n",
    "\n",
    "display(HTML(\"<h2 style='text-align: center;'>Explore the Submission History</h2>\"))\n",
    "\n",
    "display(form)\n",
    "#display(HTML('<p><b>NOTE</b>: if you leave the date time fields blank it will get the most current results'))\n",
    "#display(pagination_output)\n",
    "\n",
    "\n",
    "def get_params():\n",
    "    #should potentiall fill out \n",
    "    params = {}\n",
    "\n",
    "    return params\n",
    "    \n",
    "    \n",
    "\n",
    "def submission_history(course,user,assignment):\n",
    "    # GET /api/v1/courses/:course_id/assignments/:assignment_id/submissions\n",
    "    # GET /api/v1/courses/:course_id/assignments/:assignment_id/submissions/:user_id\n",
    "    params = get_params()\n",
    "    url = domain + 'courses/'+course+'/assignments/'+assignment+'/submissions/'+user\n",
    "    params['per_page'] = bottom.value\n",
    "    response = requests.get(url,headers=headers,params=params)\n",
    "    print(response.status_code)\n",
    "    print(response.url)\n",
    "    return response\n",
    "    \n",
    "    \n",
    "\n",
    "    #pp(response.json())\n",
    "    \n",
    "def on_button_clicked(b):\n",
    "    # clear any output ( error output from authorize )\n",
    "    submission_output.clear_output()\n",
    "    info_output.clear_output()\n",
    "    csv_submission_output.clear_output()\n",
    "    # Validate\n",
    "    \"\"\"\n",
    "    with pagination_output:\n",
    "        display(\n",
    "            Button(\n",
    "                value=False,\n",
    "                description='ok',\n",
    "                disabled=False, \n",
    "                button_style='info', # 'success', 'info', 'warning', 'danger' or ''\n",
    "                icon='',))\n",
    "    \"\"\"\n",
    "    \n",
    "    course = course_id.value\n",
    "    # check assignment_id\n",
    "    id_assignment = assignment.value\n",
    "\n",
    "    if not(assignment.value and course_id.value):\n",
    "        print(\"yeah\")\n",
    "        with info_output:\n",
    "            display(HTML(\"<h4 ><span style='color:red;'>ERROR:</span> No Course/Assignment Set</h4>\"))\n",
    "    else:\n",
    "        # check user_id\n",
    "        id_user = sub_user_id.value\n",
    "        if not id_user: id_user = ''\n",
    "        \n",
    "        # make call\n",
    "        response = submission_history(course,id_user,id_assignment)\n",
    "        \n",
    "        # format \n",
    "        r = response.json()\n",
    "        #pp(r)\n",
    "        # flatten results\n",
    "        df_submission = json_normalize(r)\n",
    "        \n",
    "        #print(\"r\",r[0])\n",
    "        #print(userinfo)\n",
    "        with info_output: \n",
    "            display(HTML('<h4> Page Results </h4><p>url: '+response.url+'</p>'))\n",
    "    \n",
    "        with submission_output:\n",
    "            if df_submission.empty:\n",
    "                display(HTML(\"<p style='text-align: center;'> No Results - Either no usage or Error </p>\"))\n",
    "\n",
    "            else:\n",
    "            # Removing columns\n",
    "                list_drop = ['attachments','body','anonymous_id','late_policy_status','grading_period_id','entered_grade','score','grade_matches_current_submission']\n",
    "                df_submission.drop(list_drop, axis=1, inplace=True)\n",
    "                #fixing date\n",
    "                \n",
    "                df_submission['cached_due_date'] = pd.to_datetime(df_submission['cached_due_date'], format='%Y-%m-%d %H:%M:%S', utc=True)\\\n",
    "                #           .dt.tz_convert('America/New_York')\\\n",
    "                #            .dt.strftime('%Y-%m-%d %I:%M%p')\n",
    "                \n",
    "                df_submission['submitted_at'] = pd.to_datetime(df_submission['submitted_at'], format='%Y-%m-%d %H:%M:%S', utc=True)\\\n",
    "                            .dt.tz_convert('America/New_York')\\\n",
    "                            .dt.strftime('%Y-%m-%d %I:%M%p')\n",
    "                \n",
    "                #df_submission.columns = df_submission.columns.str.replace(\"[_]\", \" \")\n",
    "                #df_submission.columns = df_submission.columns.str.replace(\"[.]\", \" \")\n",
    "                display(qgrid.show_grid(df_submission, show_toolbar=True, precision=None, grid_options={'forceFitColumns': False,'syncColumnCellResize':True }))\n",
    "                # HTML(df_pageview.to_html(classes='table table-striped table-bordered table-hover table-condensed'))\n",
    "        with csv_submission_output:\n",
    "            display(df_submission)\n",
    "            \n",
    "        #return df_pageview \n",
    "        \n",
    "        # clear_output(wait=True)\n",
    "\n",
    "    \n",
    "#https://canvas.upenn.edu/courses/1440507/assignments/6771834\n",
    "Submit.on_click(on_button_clicked)"
   ]
  },
  {
   "cell_type": "code",
   "execution_count": 29,
   "metadata": {
    "hide_input": true,
    "init_cell": true,
    "scrolled": true
   },
   "outputs": [
    {
     "data": {
      "text/html": [
       "<h3 style='padding-left:40px;'>Output (Submission History):</h3>"
      ],
      "text/plain": [
       "<IPython.core.display.HTML object>"
      ]
     },
     "metadata": {},
     "output_type": "display_data"
    },
    {
     "data": {
      "application/vnd.jupyter.widget-view+json": {
       "model_id": "2581600b06144833ac6685084395800d",
       "version_major": 2,
       "version_minor": 0
      },
      "text/plain": [
       "Output()"
      ]
     },
     "metadata": {},
     "output_type": "display_data"
    },
    {
     "data": {
      "application/vnd.jupyter.widget-view+json": {
       "model_id": "086301e8919343319e5680a47832cbbb",
       "version_major": 2,
       "version_minor": 0
      },
      "text/plain": [
       "Output()"
      ]
     },
     "metadata": {},
     "output_type": "display_data"
    },
    {
     "data": {
      "application/vnd.jupyter.widget-view+json": {
       "model_id": "b7f18bc7700d4967b4dcd56d238225eb",
       "version_major": 2,
       "version_minor": 0
      },
      "text/plain": [
       "Accordion(children=(HBox(children=(Text(value='submisson_data.csv', description='filename'), Button(button_sty…"
      ]
     },
     "metadata": {},
     "output_type": "display_data"
    }
   ],
   "source": [
    "display(HTML(\"<h3 style='padding-left:40px;'>Output (Submission History):</h3>\"))\n",
    "\n",
    "sub_link = widgets.Output()\n",
    "\n",
    "\n",
    "\n",
    "def on_download_clicked(b):\n",
    "    #download to csv\n",
    "    sub_link.clear_output()\n",
    "    #print(pageview_output.capture())\n",
    "    if submission_output.outputs:\n",
    "        content = csv_submission_output.outputs[0]['data']['text/html']\n",
    "        #print(content)\n",
    "        data = pd.read_html(content)[0]\n",
    "        data.drop('Unnamed: 0', axis=1, inplace=True)\n",
    "        #display(data)\n",
    "        csv_name = filename.value\n",
    "        with sub_link:\n",
    "            display(create_download_link(data,csv_name))\n",
    "    else:\n",
    "        with sub_link:\n",
    "            display(HTML('<p>no content selected</p>'))\n",
    "\n",
    "download_sub = Button(\n",
    "    value=False,\n",
    "    description='Download History',\n",
    "    disabled=False,\n",
    "    button_style='info', # 'success', 'info', 'warning', 'danger' or ''\n",
    "    icon='fa-download',)\n",
    "filename_sub = widgets.Text(value='submisson_data.csv',description='filename')\n",
    "\n",
    "accordion_sub = widgets.Accordion(children=[widgets.HBox([filename_sub,download_sub,sub_link])])\n",
    "accordion_sub.set_title(0, 'Download')\n",
    "accordion_sub.selected_index = None\n",
    "\n",
    "\n",
    "\n",
    "\n",
    "\n",
    "download_sub.on_click(on_download_clicked)\n",
    "if headers == {}:\n",
    "    display(HTML(\"<p style='text-align: center;'>No API Token set</p>\"))\n",
    "else:\n",
    "    #display(HTML(\"<style>.rendered_html th {max-width: 120px;}</style>\"))\n",
    "    display(info_output)\n",
    "    #display(pagination_output)\n",
    "    display(submission_output)\n",
    "    display(accordion_sub)\n"
   ]
  },
  {
   "cell_type": "code",
   "execution_count": 11,
   "metadata": {
    "hide_input": true
   },
   "outputs": [],
   "source": [
    "# display results"
   ]
  },
  {
   "cell_type": "markdown",
   "metadata": {},
   "source": [
    "## Template\n",
    "#### Description \n",
    "\n",
    "\n",
    "#### Directions"
   ]
  },
  {
   "cell_type": "markdown",
   "metadata": {
    "deletable": false,
    "editable": false,
    "extensions": {
     "jupyter_dashboards": {
      "version": 1,
      "views": {
       "grid_default": {},
       "report_default": {}
      }
     }
    }
   },
   "source": [
    "###### To Do \n",
    "- finish page views\n",
    "\n",
    "- feedback\n",
    "###### SOURCES\n",
    " - https://ipywidgets.readthedocs.io/en/stable/examples/Widget%20Basics.html\n",
    " - https://canvas.instructure.com/doc/api/file.oauth.html#using-access-tokens\n",
    " - https://towardsdatascience.com/bring-your-jupyter-notebook-to-life-with-interactive-widgets-bc12e03f0916\n",
    " \n",
    " ###### I like \n",
    " - https://jupyter-dashboards-layout.readthedocs.io/en/latest/getting-started.html\n",
    " - https://jupyter-notebook.readthedocs.io/en/stable/extending/frontend_extensions.html"
   ]
  },
  {
   "cell_type": "code",
   "execution_count": 12,
   "metadata": {
    "deletable": false,
    "editable": false
   },
   "outputs": [],
   "source": [
    "x = {'a':'b'}\n",
    "if x == {}:\n",
    "    print('1')\n",
    "if not x:\n",
    "    print('2')"
   ]
  },
  {
   "cell_type": "markdown",
   "metadata": {
    "deletable": false,
    "editable": false,
    "extensions": {
     "jupyter_dashboards": {
      "version": 1,
      "views": {
       "grid_default": {},
       "report_default": {}
      }
     }
    }
   },
   "source": [
    "\n",
    "<hr>  \n",
    "\n",
    "[Canvas at Penn](http://infocanvas.upenn.edu) - Penn's Source for Courseware Innovation & News   \n",
    "Maddy Hodges' [Github Repo](https://github.com/Mfhodges/canvas_api_jupyter)"
   ]
  },
  {
   "cell_type": "code",
   "execution_count": null,
   "metadata": {},
   "outputs": [],
   "source": []
  },
  {
   "cell_type": "code",
   "execution_count": null,
   "metadata": {},
   "outputs": [],
   "source": []
  }
 ],
 "metadata": {
  "celltoolbar": "Initialization Cell",
  "extensions": {
   "jupyter_dashboards": {
    "activeView": "grid_default",
    "version": 1,
    "views": {
     "grid_default": {
      "cellMargin": 10,
      "defaultCellHeight": 20,
      "maxColumns": 12,
      "name": "grid",
      "type": "grid"
     },
     "report_default": {
      "name": "report",
      "type": "report"
     }
    }
   }
  },
  "hide_input": false,
  "kernelspec": {
   "display_name": "Python 3",
   "language": "python",
   "name": "python3"
  },
  "language_info": {
   "codemirror_mode": {
    "name": "ipython",
    "version": 3
   },
   "file_extension": ".py",
   "mimetype": "text/x-python",
   "name": "python",
   "nbconvert_exporter": "python",
   "pygments_lexer": "ipython3",
   "version": "3.6.5"
  },
  "latex_envs": {
   "LaTeX_envs_menu_present": true,
   "autoclose": false,
   "autocomplete": true,
   "bibliofile": "biblio.bib",
   "cite_by": "apalike",
   "current_citInitial": 1,
   "eqLabelWithNumbers": true,
   "eqNumInitial": 1,
   "hotkeys": {
    "equation": "Ctrl-E",
    "itemize": "Ctrl-I"
   },
   "labels_anchors": false,
   "latex_user_defs": false,
   "report_style_numbering": false,
   "user_envs_cfg": false
  },
  "toc": {
   "base_numbering": 1,
   "nav_menu": {
    "height": "97px",
    "width": "160px"
   },
   "number_sections": true,
   "sideBar": false,
   "skip_h1_title": true,
   "title_cell": "Table of Contents",
   "title_sidebar": "Contents",
   "toc_cell": true,
   "toc_position": {},
   "toc_section_display": true,
   "toc_window_display": false
  }
 },
 "nbformat": 4,
 "nbformat_minor": 2
}
