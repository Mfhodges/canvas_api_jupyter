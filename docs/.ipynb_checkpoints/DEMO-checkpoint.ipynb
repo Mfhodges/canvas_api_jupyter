{
 "cells": [
  {
   "cell_type": "code",
   "execution_count": 82,
   "metadata": {
    "init_cell": true,
    "scrolled": true
   },
   "outputs": [
    {
     "data": {
      "text/html": [
       "\n",
       "<script>\n",
       "  function code_toggle() {\n",
       "    if (code_shown){\n",
       "      $('div.input').hide('500');\n",
       "      $('#toggleButton').val('Show Code')\n",
       "    } else {\n",
       "      $('div.input').show('500');\n",
       "      $('#toggleButton').val('Hide Code')\n",
       "    }\n",
       "    code_shown = !code_shown\n",
       "  }\n",
       "\n",
       "  $( document ).ready(function(){\n",
       "    code_shown=false;\n",
       "    $('div.input').hide()\n",
       "  });\n",
       "</script>\n",
       "<form action=\"javascript:code_toggle()\"><input type=\"submit\" id=\"toggleButton\" value=\"Show Code\"></form>"
      ],
      "text/plain": [
       "<IPython.core.display.HTML object>"
      ]
     },
     "execution_count": 82,
     "metadata": {},
     "output_type": "execute_result"
    }
   ],
   "source": [
    "from IPython.display import HTML, clear_output,Javascript, display\n",
    "from ipywidgets import widgets\n",
    "from ipywidgets import Button, GridBox, Layout, ButtonStyle, Box, VBox\n",
    "import requests\n",
    "import json\n",
    "import pandas as pd\n",
    "from pprintpp import pprint as pp\n",
    "\n",
    "\n",
    "# I wish i knew how to always hide this cell !\n",
    "Javascript(\"Jupyter.notebook.execute_cells([2])\")\n",
    "HTML('''\n",
    "<script>\n",
    "  function code_toggle() {\n",
    "    if (code_shown){\n",
    "      $('div.input').hide('500');\n",
    "      $('#toggleButton').val('Show Code')\n",
    "    } else {\n",
    "      $('div.input').show('500');\n",
    "      $('#toggleButton').val('Hide Code')\n",
    "    }\n",
    "    code_shown = !code_shown\n",
    "  }\n",
    "\n",
    "  $( document ).ready(function(){\n",
    "    code_shown=false;\n",
    "    $('div.input').hide()\n",
    "  });\n",
    "</script>\n",
    "<form action=\"javascript:code_toggle()\"><input type=\"submit\" id=\"toggleButton\" value=\"Show Code\"></form>''')\n",
    "\n"
   ]
  },
  {
   "cell_type": "markdown",
   "metadata": {
    "deletable": false,
    "editable": false,
    "hide_input": false,
    "run_control": {
     "frozen": true
    }
   },
   "source": [
    "# Welcome\n",
    "\n",
    "\n",
    "##### How to generate an API token\n",
    "##### API documentation\n",
    " - CANVAS API DOC\n",
    " - Requests Library\n",
    "\n",
    "#### Quick Directions\n",
    "1. enter in api token\n",
    "2. select canvas environment \n",
    "3. click submit ( make sure the top turns green )\n",
    "4. \n"
   ]
  },
  {
   "cell_type": "code",
   "execution_count": 83,
   "metadata": {
    "hide_input": false,
    "init_cell": true,
    "scrolled": true
   },
   "outputs": [
    {
     "data": {
      "application/vnd.jupyter.widget-view+json": {
       "model_id": "d6f18d56f5d64ee7a2743a86848a4c0b",
       "version_major": 2,
       "version_minor": 0
      },
      "text/plain": [
       "GridBox(children=(Button(button_style='warning', description='NOT Authorized', disabled=True, icon='unlock', l…"
      ]
     },
     "metadata": {},
     "output_type": "display_data"
    },
    {
     "data": {
      "application/vnd.jupyter.widget-view+json": {
       "model_id": "48fee52304f84956b617894ff32ab109",
       "version_major": 2,
       "version_minor": 0
      },
      "text/plain": [
       "Output()"
      ]
     },
     "metadata": {},
     "output_type": "display_data"
    }
   ],
   "source": [
    "error = widgets.Output()\n",
    "\n",
    "API_widget = widgets.Text(placeholder='API TOKEN',\n",
    "                       layout=Layout(width='90%',align_items='center', grid_area='main'))\n",
    "\n",
    "\n",
    "Authentication = Button(\n",
    "    value=False,\n",
    "    description='NOT Authorized',\n",
    "    disabled=True,\n",
    "    button_style='warning', # 'success', 'info', 'warning', 'danger' or ''\n",
    "    icon='unlock',\n",
    "    layout=Layout(width='auto', grid_area='header')\n",
    ")\n",
    "\n",
    "\n",
    "Submit = Button(\n",
    "    value=False,\n",
    "    description='Submit',\n",
    "    disabled=False,\n",
    "    button_style='info', # 'success', 'info', 'warning', 'danger' or ''\n",
    "    icon='',\n",
    "    layout=Layout(width='auto', grid_area='footer')\n",
    ")\n",
    "\n",
    "\n",
    "\n",
    "# for the env // Domain\n",
    "environ = widgets.Select(\n",
    "    options=['Production', 'Test', 'Beta'],\n",
    "    value='Production',\n",
    "    description='Environment:',\n",
    "    disabled=False,\n",
    "    rows=3,\n",
    "    layout=Layout(width='auto', grid_area='sidebar')\n",
    ")\n",
    "\n",
    "environs = {'Production':'https://canvas.upenn.edu/api/v1/', 'Test':'b', 'Beta':'c'}\n",
    "\n",
    "\n",
    "\n",
    "def set_up_forms():\n",
    "    display(Javascript('IPython.notebook.execute_cell_range(IPython.notebook.get_selected_index()+1, IPython.notebook.get_selected_index()+10)'))\n",
    "\n",
    "def authorize():\n",
    "    # check api key \n",
    "    global headers\n",
    "    headers = {\n",
    "        'Authorization': 'Bearer %s' % (API_widget.value) ,\n",
    "    }\n",
    "    global domain\n",
    "    domain = environs[environ.value]\n",
    "    \n",
    "    x = test_api() # returns status code of test response\n",
    "    \n",
    "    if API_widget.value and x ==200:\n",
    "    # if good:\n",
    "        \n",
    "\n",
    "        # UI changes\n",
    "        Authentication.icon = 'lock'\n",
    "        Authentication.description = 'Authorized'\n",
    "        Authentication.button_style ='success'\n",
    "        set_up_forms()\n",
    "    #Authentication.style.button_color = 'lightgreen'\n",
    "    # if bad:\n",
    "    else:\n",
    "        error.append_stdout(\"Invalid API token\")\n",
    "        Authentication.description='NOT Authorized'\n",
    "        Authentication.button_style='warning' # 'success', 'info', 'warning', 'danger' or ''\n",
    "        Authentication.icon='unlock'\n",
    "    # output note \n",
    "    # \n",
    "\n",
    "\n",
    "def on_button_clicked(b):\n",
    "    # clear any output ( error output from authorize )\n",
    "    error.clear_output()\n",
    "    authorize()\n",
    "    \n",
    "    # clear_output(wait=True) \n",
    "    \n",
    "Submit.on_click(on_button_clicked)\n",
    "\n",
    "\n",
    "#https://ipywidgets.readthedocs.io/en/latest/examples/Widget%20Styling.html#The-Grid-layout\n",
    "\n",
    "header  = Authentication\n",
    "main    = API_widget\n",
    "sidebar = environ\n",
    "footer  = Submit\n",
    "\n",
    "\n",
    "\n",
    "form = GridBox(children=[header, main, sidebar,footer],\n",
    "        layout=Layout(\n",
    "            width='80%',\n",
    "            margin=\"2% 0% 2% 10%\",\n",
    "            grid_template_rows='auto auto auto',\n",
    "            grid_template_columns='25% 25% 25% 25%',\n",
    "            #grid_gap='5px 5px',\n",
    "            grid_template_areas='''\n",
    "            \" . header header .\"\n",
    "            \"main main sidebar sidebar\"\n",
    "            \" . footer footer . \"\n",
    "            ''')\n",
    "       )\n",
    "\n",
    "display(form)\n",
    "display(error)\n",
    "\n",
    "\n",
    "\n",
    "def on_value_change(change):\n",
    "    Authentication.description='NOT Authorized'\n",
    "    Authentication.button_style='warning' # 'success', 'info', 'warning', 'danger' or ''\n",
    "    Authentication.icon='unlock'\n",
    "    headers = {\n",
    "    'Authorization': 'Bearer %s' % (change['new']) ,\n",
    "    }\n",
    "    \n",
    "\n",
    "API_widget.observe(on_value_change, names='value')\n",
    "\n",
    "\n",
    "\n",
    "environs = {'Production':'https://canvas.upenn.edu/api/v1/', 'Test':'b', 'Beta':'c'}\n",
    "domain = environs[environ.value]\n",
    "\n",
    "\n",
    "def test_api():\n",
    "    \n",
    "    #headers = {\n",
    "    #'Authorization': 'Bearer %s' % (API_widget.value) ,\n",
    "    #}\n",
    "    \n",
    "    url = domain + 'accounts/self/scopes'\n",
    "    response = requests.get(url,headers=headers)\n",
    "    r = response.json()\n",
    "    #print(response.status_code)\n",
    "    return response.status_code\n",
    "\n",
    "\n"
   ]
  },
  {
   "cell_type": "markdown",
   "metadata": {},
   "source": [
    "## Explore Endpoints\n",
    "##### Description\n",
    "... coming soon ...\n",
    "list of all of the api endpoints and their associated info\n"
   ]
  },
  {
   "cell_type": "code",
   "execution_count": 84,
   "metadata": {
    "code_folding": [],
    "hide_input": true,
    "init_cell": true,
    "scrolled": false
   },
   "outputs": [
    {
     "data": {
      "application/vnd.jupyter.widget-view+json": {
       "model_id": "b4a383b5c2024be5b7fb73b5340f21d4",
       "version_major": 2,
       "version_minor": 0
      },
      "text/plain": [
       "Dropdown(description='Resource', layout=Layout(padding='5px 20px 20px 20px', width='40%'), options=('ALL', 'AP…"
      ]
     },
     "metadata": {},
     "output_type": "display_data"
    }
   ],
   "source": [
    "#GET /api/v1/accounts/:account_id/scopes\n",
    "\n",
    "\n",
    "\n",
    "#print(headers)\n",
    "#print(domain)\n",
    "\n",
    "\n",
    "ALL = 'ALL'\n",
    "def unique_sorted_values_plus_ALL(array):\n",
    "    unique = array.unique().tolist()\n",
    "    unique.sort()\n",
    "    unique.insert(0, ALL)\n",
    "    return unique\n",
    "\n",
    "url = domain +'accounts/self/scopes'\n",
    "response = requests.get(url,headers=headers)\n",
    "r = response.json()\n",
    "df_scopes = pd.DataFrame.from_dict(r, orient='columns')\n",
    "\n",
    "output_df = widgets.Output()\n",
    "dropdown_resource = widgets.Dropdown(description='Resource',\n",
    "                                     options = unique_sorted_values_plus_ALL(df_scopes.resource_name),\n",
    "                                    layout=Layout(width='40%',padding=\"5px 20px 20px 20px\"))\n",
    "dropdown_apimethod = widgets.Dropdown(description='API Method',\n",
    "                                     options = unique_sorted_values_plus_ALL(df_scopes.verb),\n",
    "                                    layout=Layout(width='40%',padding=\"5px 20px 20px 20px\"))\n",
    "\n",
    "\n",
    "\n",
    "def dropdown_resource_eventhandler(change):\n",
    "    output_df.clear_output(wait=True)\n",
    "    with output_df:\n",
    "        if (change.new == ALL):\n",
    "            display(df_scopes)\n",
    "        else:\n",
    "            display(df_scopes[df_scopes.resource_name == change.new])\n",
    "\n",
    "\n",
    "\n",
    "\n",
    "def load_output():\n",
    "    display(Javascript('IPython.notebook.execute_cell_range(IPython.notebook.get_selected_index(), IPython.notebook.get_selected_index()+1)'))\n",
    "\n",
    "\n",
    "#pp(r)\n",
    "\n",
    "dropdown_resource.observe(dropdown_resource_eventhandler, names='value')\n",
    "\n",
    "\n",
    "\n",
    "display(dropdown_resource)\n",
    "\n",
    "\n",
    "#load_output()"
   ]
  },
  {
   "cell_type": "code",
   "execution_count": null,
   "metadata": {
    "hide_input": true,
    "scrolled": false
   },
   "outputs": [],
   "source": [
    "from IPython.core.display import HTML\n",
    "\n",
    "display(HTML(\"<h3 style='padding-left:40px;'>Output:</h3>\"))\n",
    "display(output_df)"
   ]
  },
  {
   "cell_type": "markdown",
   "metadata": {},
   "source": [
    "## Page Views \n",
    "#### Description \n",
    "[see canvas doc](https://canvas.instructure.com/doc/api/users.html#method.page_views.index)\n",
    "\n",
    "\n",
    "#### Directions\n",
    "- you can leave the fields blank or specify a date ( EST ) \n",
    "- the out put will be in utc so use the quick utc to est converter \n",
    "- I dont recommend pagination ..."
   ]
  },
  {
   "cell_type": "code",
   "execution_count": 85,
   "metadata": {
    "hide_input": false,
    "init_cell": true,
    "scrolled": true
   },
   "outputs": [
    {
     "data": {
      "application/vnd.jupyter.widget-view+json": {
       "model_id": "50f52f0f05c74474bd7bf2125fc0b441",
       "version_major": 2,
       "version_minor": 0
      },
      "text/plain": [
       "GridBox(children=(Text(value='', layout=Layout(align_items='center', grid_area='header', width='90%'), placeho…"
      ]
     },
     "metadata": {},
     "output_type": "display_data"
    }
   ],
   "source": [
    "# /api/v1/accounts/:account_id/scopes\n",
    "\n",
    "df_pageview = pd.DataFrame.from_dict({}, orient='columns')\n",
    "\n",
    "pageview_output = widgets.Output()\n",
    "userinfo_output = widgets.Output()\n",
    "\n",
    "user_id = widgets.Text(placeholder='user_id',\n",
    "                       layout=Layout(width='90%',align_items='center', grid_area='header'))\n",
    "\n",
    "start = widgets.DatePicker(\n",
    "    description='start date',\n",
    "    disabled=False,\n",
    "    layout=Layout(width='90%',align_items='center', grid_area='left'))\n",
    "\n",
    "end = widgets.DatePicker(\n",
    "    description='end date',\n",
    "    disabled=False,\n",
    "    layout=Layout(width='90%',align_items='center', grid_area='right'))\n",
    "\n",
    "\n",
    "Submit = Button(\n",
    "    value=False,\n",
    "    description='Get PageViews',\n",
    "    disabled=False,\n",
    "    button_style='info', # 'success', 'info', 'warning', 'danger' or ''\n",
    "    icon='',\n",
    "    layout=Layout(width='auto', grid_area='footer')\n",
    ")\n",
    "\n",
    "\n",
    "header = user_id\n",
    "left = start\n",
    "right = end\n",
    "footer = Submit\n",
    "\n",
    "form = GridBox(children=[header, left, right,footer],\n",
    "        layout=Layout(\n",
    "            width='80%',\n",
    "            margin=\"2% 0% 2% 10%\",\n",
    "            grid_template_rows='auto auto auto',\n",
    "            grid_template_columns='25% 25% 25% 25%',\n",
    "            #grid_gap='5px 5px',\n",
    "            grid_template_areas='''\n",
    "            \" . header header .\"\n",
    "            \"left left right right\"\n",
    "            \" . footer footer . \"\n",
    "            ''')\n",
    "       )\n",
    "\n",
    "display(form)\n",
    "\n",
    "\n",
    "#def validate_user(user_id):\n",
    "#    # get the user's name so we can double check we have the correct person\n",
    "#    user_id \n",
    "\n",
    "    \n",
    "#def UTC_to_EST(time):\n",
    "    # bad \n",
    "    \n",
    "\n",
    "def page_views(user_id):\n",
    "    # GET /api/v1/users/:user_id/page_views\n",
    "    url = domain + 'users/self/page_views'\n",
    "    params = {'per_page':'25'}\n",
    "    response = requests.get(url,headers=headers,params=params)\n",
    "\n",
    "    return response\n",
    "    \n",
    "    \n",
    "def user_info(user_id):\n",
    "    #url:GET|/api/v1/users/:id\n",
    "    url = domain + 'users/'+user_id\n",
    "    response = requests.get(url,headers=headers)\n",
    "    print(url)\n",
    "    return(response.json())\n",
    "    #pp(response.json())\n",
    "    \n",
    "def on_button_clicked(b):\n",
    "    # clear any output ( error output from authorize )\n",
    "    pageview_output.clear_output(wait=True)\n",
    "    userinfo_output.clear_output(wait=True)\n",
    "    # Validate\n",
    "    user = user_id.value\n",
    "    userinfo = user_info(user)\n",
    "    print(\"user\",user)\n",
    "    \n",
    "    response = page_views(user)\n",
    "    print(response.status_code)\n",
    "    print(response.links)\n",
    "    \n",
    "    \n",
    "    \n",
    "    # format \n",
    "    r = response.json()\n",
    "    \n",
    "    # links is nested \n",
    "    #pp(response.json())\n",
    "    df = pd.DataFrame.from_dict(r, orient='columns')\n",
    "    \n",
    "    print(userinfo)\n",
    "    with userinfo_output:\n",
    "        if userinfo:\n",
    "            display('<h4> Page Results for' + userinfo['name'] + '(' +'id' +')</h4>')\n",
    "        else:\n",
    "             display('<h4> Page Results for <i>NONE</i></h4>')       \n",
    "    with pageview_output:\n",
    "        display(df)\n",
    "    # clear_output(wait=True) \n",
    "    \n",
    "\n",
    "    \n",
    "Submit.on_click(on_button_clicked)\n",
    "\n",
    "\n",
    "# should have pagination somewhere "
   ]
  },
  {
   "cell_type": "code",
   "execution_count": null,
   "metadata": {
    "hide_input": true,
    "scrolled": false
   },
   "outputs": [],
   "source": [
    "display(HTML(\"<h3 style='padding-left:40px;'>Output (PageViews):</h3>\"))\n",
    "display(userinfo_output)\n",
    "display(pageview_output)"
   ]
  },
  {
   "cell_type": "code",
   "execution_count": null,
   "metadata": {
    "scrolled": false
   },
   "outputs": [],
   "source": [
    "import pandas as pd\n",
    "from pprintpp import pprint as pp\n",
    "\n",
    "url = domain +'accounts/self/scopes'\n",
    "response = requests.get(url,headers=headers)\n",
    "r = response.json()\n",
    "#print(r)\n",
    "#ok = pd.read_json(response)\n",
    "#ok\n",
    "#/api/v1/courses/:course_id/quizzes/:quiz_id/submission\n",
    "#https://canvas.upenn.edu/courses/1424853/quizzes/2118685\n",
    "user = '5507597'\n",
    "course_id = '1424853'\n",
    "quiz_id ='2118685'\n",
    "\n",
    "url = '%s/courses/%s/quizzes/%s/submissions' % (domain,course_id,quiz_id)\n",
    "\n",
    "params= {\n",
    "    \"per_page\": 100,\n",
    "}\n",
    "#\"include[user]\": user \n",
    "\n",
    "response = requests.get(url,headers=headers,params=params)\n",
    "print(response.url)\n"
   ]
  },
  {
   "cell_type": "code",
   "execution_count": null,
   "metadata": {
    "scrolled": true
   },
   "outputs": [],
   "source": [
    "#response.links\n",
    "display(\"ok\")"
   ]
  },
  {
   "cell_type": "markdown",
   "metadata": {},
   "source": [
    "###### To Do \n",
    "- finish page views\n",
    "- download link \n",
    "- feedback\n",
    "###### SOURCES\n",
    " - https://ipywidgets.readthedocs.io/en/stable/examples/Widget%20Basics.html\n",
    " - https://canvas.instructure.com/doc/api/file.oauth.html#using-access-tokens\n",
    " - https://towardsdatascience.com/bring-your-jupyter-notebook-to-life-with-interactive-widgets-bc12e03f0916\n",
    " \n",
    " "
   ]
  },
  {
   "cell_type": "markdown",
   "metadata": {},
   "source": [
    "\n",
    "<hr>  \n",
    "\n",
    "[Upenn Canvas Documentation](http://infocanvas.upenn.edu)  \n",
    "\n",
    "Inline-style: \n",
    "\n",
    "<!-- ![ok](https://www.giving.library.upenn.edu/sites/all/themes/pennlibraries/images/penn_libraries_logo.png)\n",
    "-->\n",
    "[Upenn Library]   \n",
    "[Maddy Hodges](https://mfhodges.github.io/)"
   ]
  },
  {
   "cell_type": "code",
   "execution_count": null,
   "metadata": {},
   "outputs": [],
   "source": []
  }
 ],
 "metadata": {
  "celltoolbar": "Initialization Cell",
  "kernelspec": {
   "display_name": "Python 3",
   "language": "python",
   "name": "python3"
  },
  "language_info": {
   "codemirror_mode": {
    "name": "ipython",
    "version": 3
   },
   "file_extension": ".py",
   "mimetype": "text/x-python",
   "name": "python",
   "nbconvert_exporter": "python",
   "pygments_lexer": "ipython3",
   "version": "3.6.5"
  },
  "latex_envs": {
   "LaTeX_envs_menu_present": true,
   "autoclose": false,
   "autocomplete": true,
   "bibliofile": "biblio.bib",
   "cite_by": "apalike",
   "current_citInitial": 1,
   "eqLabelWithNumbers": true,
   "eqNumInitial": 1,
   "hotkeys": {
    "equation": "Ctrl-E",
    "itemize": "Ctrl-I"
   },
   "labels_anchors": false,
   "latex_user_defs": false,
   "report_style_numbering": false,
   "user_envs_cfg": false
  },
  "toc": {
   "base_numbering": 1,
   "nav_menu": {
    "height": "97px",
    "width": "160px"
   },
   "number_sections": true,
   "sideBar": false,
   "skip_h1_title": true,
   "title_cell": "Table of Contents",
   "title_sidebar": "Contents",
   "toc_cell": true,
   "toc_position": {},
   "toc_section_display": true,
   "toc_window_display": false
  },
  "widgets": {
   "application/vnd.jupyter.widget-state+json": {
    "state": {
     "002580c9eb5c416c8547d95d9f9f4005": {
      "model_module": "@jupyter-widgets/base",
      "model_module_version": "1.1.0",
      "model_name": "LayoutModel",
      "state": {
       "align_items": "center",
       "grid_area": "right",
       "width": "90%"
      }
     },
     "00911dbb6b5c4779b6c69c7420db40d6": {
      "model_module": "@jupyter-widgets/base",
      "model_module_version": "1.1.0",
      "model_name": "LayoutModel",
      "state": {
       "align_items": "center",
       "grid_area": "right",
       "width": "90%"
      }
     },
     "01ff8aac057348dfbd1635ca65bf3ea3": {
      "model_module": "@jupyter-widgets/controls",
      "model_module_version": "1.4.0",
      "model_name": "DescriptionStyleModel",
      "state": {
       "description_width": ""
      }
     },
     "024daf4507dc4780a94818130c70e431": {
      "model_module": "@jupyter-widgets/controls",
      "model_module_version": "1.4.0",
      "model_name": "GridBoxModel",
      "state": {
       "children": [
        "IPY_MODEL_1823c7538d0745feac36b12b7e98c85f",
        "IPY_MODEL_2d6f4f6764684f869007f91990f0f775",
        "IPY_MODEL_633bbe2831d4436ca792a5363cbe6833",
        "IPY_MODEL_a7528af4c559448ab93ef9d4cd4e081b"
       ],
       "layout": "IPY_MODEL_d0d7247a9f314c72964aa1bc710af741"
      }
     },
     "025395eacdc44ae195de330bb1b54150": {
      "model_module": "@jupyter-widgets/base",
      "model_module_version": "1.1.0",
      "model_name": "LayoutModel",
      "state": {
       "grid_area": "footer",
       "width": "auto"
      }
     },
     "029f5775db264421b6c27c2889b10188": {
      "model_module": "@jupyter-widgets/controls",
      "model_module_version": "1.4.0",
      "model_name": "ButtonModel",
      "state": {
       "button_style": "info",
       "description": "Get PageViews",
       "layout": "IPY_MODEL_025395eacdc44ae195de330bb1b54150",
       "style": "IPY_MODEL_c3950e69c2a24626b022996627b03b6f"
      }
     },
     "02ad2376b70543a8a9e107cd0b42e2cc": {
      "model_module": "@jupyter-widgets/controls",
      "model_module_version": "1.4.0",
      "model_name": "DescriptionStyleModel",
      "state": {
       "description_width": ""
      }
     },
     "02b58d0244b14b60b7ed61f746bb5cdf": {
      "model_module": "@jupyter-widgets/base",
      "model_module_version": "1.1.0",
      "model_name": "LayoutModel",
      "state": {
       "align_items": "center",
       "grid_area": "main",
       "width": "90%"
      }
     },
     "034eb09233a94344bec8ed41cb29089d": {
      "model_module": "@jupyter-widgets/output",
      "model_module_version": "1.0.0",
      "model_name": "OutputModel",
      "state": {
       "layout": "IPY_MODEL_cf2bb82faf1b4da5ae3220550a54f2ce",
       "outputs": [
        {
         "data": {
          "text/html": "<div>\n<style scoped>\n    .dataframe tbody tr th:only-of-type {\n        vertical-align: middle;\n    }\n\n    .dataframe tbody tr th {\n        vertical-align: top;\n    }\n\n    .dataframe thead th {\n        text-align: right;\n    }\n</style>\n<table border=\"1\" class=\"dataframe\">\n  <thead>\n    <tr style=\"text-align: right;\">\n      <th></th>\n      <th>action</th>\n      <th>controller</th>\n      <th>path</th>\n      <th>resource</th>\n      <th>resource_name</th>\n      <th>scope</th>\n      <th>verb</th>\n    </tr>\n  </thead>\n  <tbody>\n    <tr>\n      <th>177</th>\n      <td>get_csp_settings</td>\n      <td>csp_settings</td>\n      <td>/api/v1/courses/:course_id/csp_settings</td>\n      <td>content_security_policy_settings</td>\n      <td>Content Security Policy Settings</td>\n      <td>url:GET|/api/v1/courses/:course_id/csp_settings</td>\n      <td>GET</td>\n    </tr>\n    <tr>\n      <th>178</th>\n      <td>set_csp_setting</td>\n      <td>csp_settings</td>\n      <td>/api/v1/courses/:course_id/csp_settings</td>\n      <td>content_security_policy_settings</td>\n      <td>Content Security Policy Settings</td>\n      <td>url:PUT|/api/v1/courses/:course_id/csp_settings</td>\n      <td>PUT</td>\n    </tr>\n    <tr>\n      <th>179</th>\n      <td>get_csp_settings</td>\n      <td>csp_settings</td>\n      <td>/api/v1/accounts/:account_id/csp_settings</td>\n      <td>content_security_policy_settings</td>\n      <td>Content Security Policy Settings</td>\n      <td>url:GET|/api/v1/accounts/:account_id/csp_settings</td>\n      <td>GET</td>\n    </tr>\n    <tr>\n      <th>180</th>\n      <td>set_csp_setting</td>\n      <td>csp_settings</td>\n      <td>/api/v1/accounts/:account_id/csp_settings</td>\n      <td>content_security_policy_settings</td>\n      <td>Content Security Policy Settings</td>\n      <td>url:PUT|/api/v1/accounts/:account_id/csp_settings</td>\n      <td>PUT</td>\n    </tr>\n    <tr>\n      <th>181</th>\n      <td>set_csp_lock</td>\n      <td>csp_settings</td>\n      <td>/api/v1/accounts/:account_id/csp_settings/lock</td>\n      <td>content_security_policy_settings</td>\n      <td>Content Security Policy Settings</td>\n      <td>url:PUT|/api/v1/accounts/:account_id/csp_setti...</td>\n      <td>PUT</td>\n    </tr>\n    <tr>\n      <th>182</th>\n      <td>add_domain</td>\n      <td>csp_settings</td>\n      <td>/api/v1/accounts/:account_id/csp_settings/domains</td>\n      <td>content_security_policy_settings</td>\n      <td>Content Security Policy Settings</td>\n      <td>url:POST|/api/v1/accounts/:account_id/csp_sett...</td>\n      <td>POST</td>\n    </tr>\n    <tr>\n      <th>183</th>\n      <td>add_multiple_domains</td>\n      <td>csp_settings</td>\n      <td>/api/v1/accounts/:account_id/csp_settings/doma...</td>\n      <td>content_security_policy_settings</td>\n      <td>Content Security Policy Settings</td>\n      <td>url:POST|/api/v1/accounts/:account_id/csp_sett...</td>\n      <td>POST</td>\n    </tr>\n    <tr>\n      <th>184</th>\n      <td>remove_domain</td>\n      <td>csp_settings</td>\n      <td>/api/v1/accounts/:account_id/csp_settings/domains</td>\n      <td>content_security_policy_settings</td>\n      <td>Content Security Policy Settings</td>\n      <td>url:DELETE|/api/v1/accounts/:account_id/csp_se...</td>\n      <td>DELETE</td>\n    </tr>\n    <tr>\n      <th>185</th>\n      <td>csp_log</td>\n      <td>csp_settings</td>\n      <td>/api/v1/accounts/:account_id/csp_log</td>\n      <td>content_security_policy_settings</td>\n      <td>Content Security Policy Settings</td>\n      <td>url:GET|/api/v1/accounts/:account_id/csp_log</td>\n      <td>GET</td>\n    </tr>\n  </tbody>\n</table>\n</div>",
          "text/plain": "                   action    controller  \\\n177      get_csp_settings  csp_settings   \n178       set_csp_setting  csp_settings   \n179      get_csp_settings  csp_settings   \n180       set_csp_setting  csp_settings   \n181          set_csp_lock  csp_settings   \n182            add_domain  csp_settings   \n183  add_multiple_domains  csp_settings   \n184         remove_domain  csp_settings   \n185               csp_log  csp_settings   \n\n                                                  path  \\\n177            /api/v1/courses/:course_id/csp_settings   \n178            /api/v1/courses/:course_id/csp_settings   \n179          /api/v1/accounts/:account_id/csp_settings   \n180          /api/v1/accounts/:account_id/csp_settings   \n181     /api/v1/accounts/:account_id/csp_settings/lock   \n182  /api/v1/accounts/:account_id/csp_settings/domains   \n183  /api/v1/accounts/:account_id/csp_settings/doma...   \n184  /api/v1/accounts/:account_id/csp_settings/domains   \n185               /api/v1/accounts/:account_id/csp_log   \n\n                             resource                     resource_name  \\\n177  content_security_policy_settings  Content Security Policy Settings   \n178  content_security_policy_settings  Content Security Policy Settings   \n179  content_security_policy_settings  Content Security Policy Settings   \n180  content_security_policy_settings  Content Security Policy Settings   \n181  content_security_policy_settings  Content Security Policy Settings   \n182  content_security_policy_settings  Content Security Policy Settings   \n183  content_security_policy_settings  Content Security Policy Settings   \n184  content_security_policy_settings  Content Security Policy Settings   \n185  content_security_policy_settings  Content Security Policy Settings   \n\n                                                 scope    verb  \n177    url:GET|/api/v1/courses/:course_id/csp_settings     GET  \n178    url:PUT|/api/v1/courses/:course_id/csp_settings     PUT  \n179  url:GET|/api/v1/accounts/:account_id/csp_settings     GET  \n180  url:PUT|/api/v1/accounts/:account_id/csp_settings     PUT  \n181  url:PUT|/api/v1/accounts/:account_id/csp_setti...     PUT  \n182  url:POST|/api/v1/accounts/:account_id/csp_sett...    POST  \n183  url:POST|/api/v1/accounts/:account_id/csp_sett...    POST  \n184  url:DELETE|/api/v1/accounts/:account_id/csp_se...  DELETE  \n185       url:GET|/api/v1/accounts/:account_id/csp_log     GET  "
         },
         "metadata": {},
         "output_type": "display_data"
        }
       ]
      }
     },
     "0368dad28ef042be8cc0c3224ed5df62": {
      "model_module": "@jupyter-widgets/base",
      "model_module_version": "1.1.0",
      "model_name": "LayoutModel",
      "state": {
       "align_items": "center",
       "grid_area": "left",
       "width": "90%"
      }
     },
     "03b4d1c56fb54560a56564b6382e2cde": {
      "model_module": "@jupyter-widgets/base",
      "model_module_version": "1.1.0",
      "model_name": "LayoutModel",
      "state": {
       "align_items": "center",
       "grid_area": "header",
       "width": "90%"
      }
     },
     "03c79add5f0a4b009e34cab040845fd3": {
      "model_module": "@jupyter-widgets/controls",
      "model_module_version": "1.4.0",
      "model_name": "DescriptionStyleModel",
      "state": {
       "description_width": ""
      }
     },
     "03feaf711f8f4e599eba8432471fe6d5": {
      "model_module": "@jupyter-widgets/base",
      "model_module_version": "1.1.0",
      "model_name": "LayoutModel",
      "state": {
       "align_items": "center",
       "grid_area": "right",
       "width": "90%"
      }
     },
     "042186f27c084cc598065f34cf60ab4a": {
      "model_module": "@jupyter-widgets/base",
      "model_module_version": "1.1.0",
      "model_name": "LayoutModel",
      "state": {
       "grid_area": "header",
       "width": "auto"
      }
     },
     "04bd8415d4744da1b917c610c401f94f": {
      "model_module": "@jupyter-widgets/base",
      "model_module_version": "1.1.0",
      "model_name": "LayoutModel",
      "state": {}
     },
     "055c59cee700463dac4f79404d531c86": {
      "model_module": "@jupyter-widgets/base",
      "model_module_version": "1.1.0",
      "model_name": "LayoutModel",
      "state": {
       "grid_area": "footer",
       "width": "auto"
      }
     },
     "05d5a45ab8c7486ab22216caaf6f0853": {
      "model_module": "@jupyter-widgets/controls",
      "model_module_version": "1.4.0",
      "model_name": "DescriptionStyleModel",
      "state": {
       "description_width": ""
      }
     },
     "05d77c139a5c4d029582d34d8678cd7c": {
      "model_module": "@jupyter-widgets/base",
      "model_module_version": "1.1.0",
      "model_name": "LayoutModel",
      "state": {
       "grid_template_areas": "\n            \" . header header .\"\n            \"main main sidebar sidebar\"\n            \" . footer footer . \"\n            ",
       "grid_template_columns": "25% 25% 25% 25%",
       "grid_template_rows": "auto auto auto",
       "margin": "2% 0% 2% 10%",
       "width": "80%"
      }
     },
     "065b30fb79ac4d40aca85c5f04f3cdd3": {
      "model_module": "@jupyter-widgets/output",
      "model_module_version": "1.0.0",
      "model_name": "OutputModel",
      "state": {
       "layout": "IPY_MODEL_37798200241744fc89baa351331fcc08"
      }
     },
     "06651306b6ea4c60bc42d358f3b23b57": {
      "model_module": "@jupyter-widgets/base",
      "model_module_version": "1.1.0",
      "model_name": "LayoutModel",
      "state": {
       "grid_area": "footer",
       "width": "auto"
      }
     },
     "06cb444ae7a04f6f872b984308a9445b": {
      "model_module": "@jupyter-widgets/base",
      "model_module_version": "1.1.0",
      "model_name": "LayoutModel",
      "state": {
       "grid_area": "sidebar",
       "width": "auto"
      }
     },
     "07393f08b6d94052881e7fef23a45217": {
      "model_module": "@jupyter-widgets/base",
      "model_module_version": "1.1.0",
      "model_name": "LayoutModel",
      "state": {}
     },
     "0742db89baf043009c3e57524f88667d": {
      "model_module": "@jupyter-widgets/controls",
      "model_module_version": "1.4.0",
      "model_name": "DescriptionStyleModel",
      "state": {
       "description_width": ""
      }
     },
     "07730e198fa644e1ae2a650ce54d21a0": {
      "model_module": "@jupyter-widgets/controls",
      "model_module_version": "1.4.0",
      "model_name": "DescriptionStyleModel",
      "state": {
       "description_width": ""
      }
     },
     "0781d61f76bb44bb8a09a261eafcb7cb": {
      "model_module": "@jupyter-widgets/controls",
      "model_module_version": "1.4.0",
      "model_name": "DescriptionStyleModel",
      "state": {
       "description_width": ""
      }
     },
     "079d81ee68694a839cbc63e3a66ed533": {
      "model_module": "@jupyter-widgets/base",
      "model_module_version": "1.1.0",
      "model_name": "LayoutModel",
      "state": {
       "grid_area": "footer",
       "width": "auto"
      }
     },
     "07bcd975a23742bfa94919c23e5d14fa": {
      "model_module": "@jupyter-widgets/base",
      "model_module_version": "1.1.0",
      "model_name": "LayoutModel",
      "state": {
       "align_items": "center",
       "grid_area": "right",
       "width": "90%"
      }
     },
     "07d22665d15a4d6d869cb79f52eeb167": {
      "model_module": "@jupyter-widgets/controls",
      "model_module_version": "1.4.0",
      "model_name": "GridBoxModel",
      "state": {
       "children": [
        "IPY_MODEL_c0785627a10a46e69601aada380cd93f",
        "IPY_MODEL_834ffd0590b0444baaa1a1675d5458f0",
        "IPY_MODEL_1ff9bd267a4544b2a0888e6ffeb90e8e",
        "IPY_MODEL_84071d3f9cf8479aab2305cc995c0cd0"
       ],
       "layout": "IPY_MODEL_184f3d0cf803492a8199ee56d70a0c1e"
      }
     },
     "08ae5cddb4a54c5d9733e99e7e9c211a": {
      "model_module": "@jupyter-widgets/base",
      "model_module_version": "1.1.0",
      "model_name": "LayoutModel",
      "state": {}
     },
     "08eca384b19e40e59b04b0902da84580": {
      "model_module": "@jupyter-widgets/controls",
      "model_module_version": "1.4.0",
      "model_name": "DescriptionStyleModel",
      "state": {
       "description_width": ""
      }
     },
     "0926eb49e9c444689c8cce87fcef027c": {
      "model_module": "@jupyter-widgets/base",
      "model_module_version": "1.1.0",
      "model_name": "LayoutModel",
      "state": {
       "grid_template_areas": "\n            \" . header header .\"\n            \"main main sidebar sidebar\"\n            \" . footer footer . \"\n            ",
       "grid_template_columns": "25% 25% 25% 25%",
       "grid_template_rows": "auto auto auto",
       "margin": "2% 0% 2% 10%",
       "width": "80%"
      }
     },
     "0a03162d3f254251b0e81ce21b2cfc01": {
      "model_module": "@jupyter-widgets/controls",
      "model_module_version": "1.4.0",
      "model_name": "TextModel",
      "state": {
       "layout": "IPY_MODEL_f541d1db585b49a6855c4090fc4e3867",
       "placeholder": "user_id",
       "style": "IPY_MODEL_65506f0859a146a685aa346dd2b33ca6",
       "value": "ddddd"
      }
     },
     "0a1b953c183f4acfab01cafdd3f342de": {
      "model_module": "@jupyter-widgets/controls",
      "model_module_version": "1.4.0",
      "model_name": "DescriptionStyleModel",
      "state": {
       "description_width": ""
      }
     },
     "0a685e179bc143caa3d30437d81033f4": {
      "model_module": "@jupyter-widgets/controls",
      "model_module_version": "1.4.0",
      "model_name": "ButtonModel",
      "state": {
       "button_style": "info",
       "description": "Get PageViews",
       "layout": "IPY_MODEL_cc62a4e3986346ccb2005667fca3f1f5",
       "style": "IPY_MODEL_4e72ee605af14e74a2b8972d201e1ede"
      }
     },
     "0a69ba0e8251418caee0016067072d11": {
      "model_module": "@jupyter-widgets/base",
      "model_module_version": "1.1.0",
      "model_name": "LayoutModel",
      "state": {}
     },
     "0aa5cb55ac0643a6aca0b3c4f8029539": {
      "model_module": "@jupyter-widgets/controls",
      "model_module_version": "1.4.0",
      "model_name": "DescriptionStyleModel",
      "state": {
       "description_width": ""
      }
     },
     "0b12e99498634dbd8f2637b3053ac415": {
      "model_module": "@jupyter-widgets/controls",
      "model_module_version": "1.4.0",
      "model_name": "DescriptionStyleModel",
      "state": {
       "description_width": ""
      }
     },
     "0b373bd58b444a33bd0fe9ce24debc9d": {
      "model_module": "@jupyter-widgets/base",
      "model_module_version": "1.1.0",
      "model_name": "LayoutModel",
      "state": {
       "grid_template_areas": "\n            \" . header header .\"\n            \"left left right right\"\n            \" . footer footer . \"\n            ",
       "grid_template_columns": "25% 25% 25% 25%",
       "grid_template_rows": "auto auto auto",
       "margin": "2% 0% 2% 10%",
       "width": "80%"
      }
     },
     "0b973c27d4de431d87ce3ef0261a83df": {
      "model_module": "@jupyter-widgets/controls",
      "model_module_version": "1.4.0",
      "model_name": "DescriptionStyleModel",
      "state": {
       "description_width": ""
      }
     },
     "0be99647481e4a7d900841c03a7b160a": {
      "model_module": "@jupyter-widgets/controls",
      "model_module_version": "1.4.0",
      "model_name": "GridBoxModel",
      "state": {
       "children": [
        "IPY_MODEL_3b2e0974df4646a5a404a0f06ab5a913",
        "IPY_MODEL_eb0d6aa2f93d407b9495a15e4e05bae2",
        "IPY_MODEL_c19e706e2cc9490d96f860b53167a84b",
        "IPY_MODEL_a3b983a30e5a4037a7621a9c35a00c97"
       ],
       "layout": "IPY_MODEL_ae42736942ee4b5d94988ed12e028b46"
      }
     },
     "0bf18ecde5dd4ec59a9963a29de639ab": {
      "model_module": "@jupyter-widgets/controls",
      "model_module_version": "1.4.0",
      "model_name": "DescriptionStyleModel",
      "state": {
       "description_width": ""
      }
     },
     "0c060e623bed48c4b871d3bbc73b95e7": {
      "model_module": "@jupyter-widgets/base",
      "model_module_version": "1.1.0",
      "model_name": "LayoutModel",
      "state": {}
     },
     "0c50abaaabf6469bb178c70f3bc4ff13": {
      "model_module": "@jupyter-widgets/controls",
      "model_module_version": "1.4.0",
      "model_name": "DescriptionStyleModel",
      "state": {
       "description_width": ""
      }
     },
     "0c597f93cf62469384f83fbb20c53161": {
      "model_module": "@jupyter-widgets/base",
      "model_module_version": "1.1.0",
      "model_name": "LayoutModel",
      "state": {
       "grid_template_areas": "\n            \" . header header .\"\n            \"left left right right\"\n            \" . footer footer . \"\n            ",
       "grid_template_columns": "25% 25% 25% 25%",
       "grid_template_rows": "auto auto auto",
       "margin": "2% 0% 2% 10%",
       "width": "80%"
      }
     },
     "0c8ffc728cbc47d8b8dbfc7777a789f9": {
      "model_module": "@jupyter-widgets/controls",
      "model_module_version": "1.4.0",
      "model_name": "DatePickerModel",
      "state": {
       "description": "end date",
       "disabled": false,
       "layout": "IPY_MODEL_ba824608f1cb4383bd280d4670ca1986",
       "style": "IPY_MODEL_99ed655bff7b488da1b87eaa5f8a31cb"
      }
     },
     "0dfdb3ecc4564f4a89691425ea07c3dc": {
      "model_module": "@jupyter-widgets/base",
      "model_module_version": "1.1.0",
      "model_name": "LayoutModel",
      "state": {
       "padding": "20px 10px 20px 20px",
       "width": "40%"
      }
     },
     "0eaafb051ac3439ab2b69ec93fe8c660": {
      "model_module": "@jupyter-widgets/controls",
      "model_module_version": "1.4.0",
      "model_name": "ButtonStyleModel",
      "state": {}
     },
     "0f2b0c24090b4891ba91063a0c59392b": {
      "model_module": "@jupyter-widgets/controls",
      "model_module_version": "1.4.0",
      "model_name": "GridBoxModel",
      "state": {
       "children": [
        "IPY_MODEL_8c1f36b7e1ed4d88ad03cfe4ae8bc44f",
        "IPY_MODEL_32ad740a24a74520a0e8d7930d95b884",
        "IPY_MODEL_86af3a4247b041098c8fb2c7be604d48",
        "IPY_MODEL_ca121358ee2c43989a9bb31a9b9f0a50"
       ],
       "layout": "IPY_MODEL_e55d220563d34713b7cddf304aee88a3"
      }
     },
     "0f9604002e1d4d63a44f82f306fe43e1": {
      "model_module": "@jupyter-widgets/output",
      "model_module_version": "1.0.0",
      "model_name": "OutputModel",
      "state": {
       "layout": "IPY_MODEL_04bd8415d4744da1b917c610c401f94f",
       "outputs": [
        {
         "data": {
          "text/plain": "{'id': 5443278,\n 'name': 'Madeleine Hodges',\n 'created_at': '2017-09-04T13:48:07-04:00',\n 'sortable_name': 'Hodges, Madeleine',\n 'short_name': 'Madeleine Hodges',\n 'sis_user_id': '89450759',\n 'integration_id': None,\n 'sis_import_id': None,\n 'login_id': 'mfhodges',\n 'avatar_url': 'https://canvas.upenn.edu/images/thumbnails/71818003/DDzvzMoJDPFboU4HK0lNPqR0d4EvBYGAVkNRPmgU',\n 'email': 'mfhodges@upenn.edu',\n 'locale': None,\n 'effective_locale': 'en',\n 'permissions': {'can_update_name': False, 'can_update_avatar': True}}"
         },
         "metadata": {},
         "output_type": "display_data"
        },
        {
         "data": {
          "text/html": "<div>\n<style scoped>\n    .dataframe tbody tr th:only-of-type {\n        vertical-align: middle;\n    }\n\n    .dataframe tbody tr th {\n        vertical-align: top;\n    }\n\n    .dataframe thead th {\n        text-align: right;\n    }\n</style>\n<table border=\"1\" class=\"dataframe\">\n  <thead>\n    <tr style=\"text-align: right;\">\n      <th></th>\n      <th>action</th>\n      <th>app_name</th>\n      <th>asset_type</th>\n      <th>asset_user_access_id</th>\n      <th>context_type</th>\n      <th>contributed</th>\n      <th>controller</th>\n      <th>created_at</th>\n      <th>developer_key_id</th>\n      <th>http_method</th>\n      <th>...</th>\n      <th>links</th>\n      <th>participated</th>\n      <th>remote_ip</th>\n      <th>render_time</th>\n      <th>session_id</th>\n      <th>summarized</th>\n      <th>updated_at</th>\n      <th>url</th>\n      <th>user_agent</th>\n      <th>user_request</th>\n    </tr>\n  </thead>\n  <tbody>\n    <tr>\n      <th>0</th>\n      <td>api_show</td>\n      <td>User-Generated</td>\n      <td>None</td>\n      <td>None</td>\n      <td>None</td>\n      <td>False</td>\n      <td>users</td>\n      <td>2019-05-13T16:24:26Z</td>\n      <td>170000000000016</td>\n      <td>get</td>\n      <td>...</td>\n      <td>{'user': 5443278, 'context': None, 'asset': No...</td>\n      <td>False</td>\n      <td>165.123.108.90</td>\n      <td>0.113080</td>\n      <td>468a1c0367447d32efdc902c679d0755</td>\n      <td>None</td>\n      <td>2019-05-13T16:24:26Z</td>\n      <td>https://canvas.upenn.edu/api/v1/users/5443378</td>\n      <td>python-requests/2.21.0</td>\n      <td>None</td>\n    </tr>\n    <tr>\n      <th>1</th>\n      <td>api_show</td>\n      <td>User-Generated</td>\n      <td>None</td>\n      <td>None</td>\n      <td>None</td>\n      <td>False</td>\n      <td>users</td>\n      <td>2019-05-13T16:24:10Z</td>\n      <td>170000000000016</td>\n      <td>get</td>\n      <td>...</td>\n      <td>{'user': 5443278, 'context': None, 'asset': No...</td>\n      <td>False</td>\n      <td>165.123.108.90</td>\n      <td>0.101640</td>\n      <td>c168e2fce30c1d393b9e6b092e3e8ce5</td>\n      <td>None</td>\n      <td>2019-05-13T16:24:10Z</td>\n      <td>https://canvas.upenn.edu/api/v1/users/5443278</td>\n      <td>python-requests/2.21.0</td>\n      <td>None</td>\n    </tr>\n    <tr>\n      <th>2</th>\n      <td>index</td>\n      <td>User-Generated</td>\n      <td>None</td>\n      <td>None</td>\n      <td>Course</td>\n      <td>False</td>\n      <td>quizzes/quiz_submissions_api</td>\n      <td>2019-05-13T16:23:58Z</td>\n      <td>170000000000016</td>\n      <td>get</td>\n      <td>...</td>\n      <td>{'user': 5443278, 'context': 1424853, 'asset':...</td>\n      <td>False</td>\n      <td>165.123.108.90</td>\n      <td>2.445917</td>\n      <td>a7f39e5390f93f018672d9404d6f082f</td>\n      <td>None</td>\n      <td>2019-05-13T16:23:58Z</td>\n      <td>https://canvas.upenn.edu/api/v1//courses/14248...</td>\n      <td>python-requests/2.21.0</td>\n      <td>None</td>\n    </tr>\n    <tr>\n      <th>3</th>\n      <td>index</td>\n      <td>User-Generated</td>\n      <td>None</td>\n      <td>None</td>\n      <td>Account</td>\n      <td>False</td>\n      <td>scopes_api</td>\n      <td>2019-05-13T16:23:58Z</td>\n      <td>170000000000016</td>\n      <td>get</td>\n      <td>...</td>\n      <td>{'user': 5443278, 'context': 96678, 'asset': N...</td>\n      <td>False</td>\n      <td>165.123.108.90</td>\n      <td>0.059810</td>\n      <td>5c1b2eaf20fb078e399419eb198ed0e0</td>\n      <td>None</td>\n      <td>2019-05-13T16:23:58Z</td>\n      <td>https://canvas.upenn.edu/api/v1/accounts/self/...</td>\n      <td>python-requests/2.21.0</td>\n      <td>None</td>\n    </tr>\n    <tr>\n      <th>4</th>\n      <td>index</td>\n      <td>User-Generated</td>\n      <td>None</td>\n      <td>None</td>\n      <td>Account</td>\n      <td>False</td>\n      <td>scopes_api</td>\n      <td>2019-05-13T16:23:57Z</td>\n      <td>170000000000016</td>\n      <td>get</td>\n      <td>...</td>\n      <td>{'user': 5443278, 'context': 96678, 'asset': N...</td>\n      <td>False</td>\n      <td>165.123.108.90</td>\n      <td>0.451222</td>\n      <td>362de6a53c7a2633c1e891a84e7dcabf</td>\n      <td>None</td>\n      <td>2019-05-13T16:23:57Z</td>\n      <td>https://canvas.upenn.edu/api/v1/accounts/self/...</td>\n      <td>python-requests/2.21.0</td>\n      <td>None</td>\n    </tr>\n    <tr>\n      <th>5</th>\n      <td>index</td>\n      <td>User-Generated</td>\n      <td>None</td>\n      <td>None</td>\n      <td>Account</td>\n      <td>False</td>\n      <td>scopes_api</td>\n      <td>2019-05-13T16:23:57Z</td>\n      <td>170000000000016</td>\n      <td>get</td>\n      <td>...</td>\n      <td>{'user': 5443278, 'context': 96678, 'asset': N...</td>\n      <td>False</td>\n      <td>165.123.108.90</td>\n      <td>0.365610</td>\n      <td>05636dc54d5ce4903a794cb351ab9a69</td>\n      <td>None</td>\n      <td>2019-05-13T16:23:57Z</td>\n      <td>https://canvas.upenn.edu/api/v1/accounts/self/...</td>\n      <td>python-requests/2.21.0</td>\n      <td>None</td>\n    </tr>\n    <tr>\n      <th>6</th>\n      <td>index</td>\n      <td>User-Generated</td>\n      <td>None</td>\n      <td>None</td>\n      <td>Account</td>\n      <td>False</td>\n      <td>scopes_api</td>\n      <td>2019-05-13T16:23:53Z</td>\n      <td>170000000000016</td>\n      <td>get</td>\n      <td>...</td>\n      <td>{'user': 5443278, 'context': 96678, 'asset': N...</td>\n      <td>False</td>\n      <td>165.123.108.90</td>\n      <td>0.523446</td>\n      <td>034e6ac544bcc3bd611ef4828fd18e71</td>\n      <td>None</td>\n      <td>2019-05-13T16:23:53Z</td>\n      <td>https://canvas.upenn.edu/api/v1/accounts/self/...</td>\n      <td>python-requests/2.21.0</td>\n      <td>None</td>\n    </tr>\n    <tr>\n      <th>7</th>\n      <td>index</td>\n      <td>User-Generated</td>\n      <td>None</td>\n      <td>None</td>\n      <td>Account</td>\n      <td>False</td>\n      <td>scopes_api</td>\n      <td>2019-05-13T16:23:40Z</td>\n      <td>170000000000016</td>\n      <td>get</td>\n      <td>...</td>\n      <td>{'user': 5443278, 'context': 96678, 'asset': N...</td>\n      <td>False</td>\n      <td>165.123.108.90</td>\n      <td>0.372882</td>\n      <td>1f2d7e577fbbb7704600641b597e8bcf</td>\n      <td>None</td>\n      <td>2019-05-13T16:23:40Z</td>\n      <td>https://canvas.upenn.edu/api/v1/accounts/self/...</td>\n      <td>python-requests/2.21.0</td>\n      <td>None</td>\n    </tr>\n    <tr>\n      <th>8</th>\n      <td>api_show</td>\n      <td>User-Generated</td>\n      <td>None</td>\n      <td>None</td>\n      <td>None</td>\n      <td>False</td>\n      <td>users</td>\n      <td>2019-05-13T16:22:49Z</td>\n      <td>170000000000016</td>\n      <td>get</td>\n      <td>...</td>\n      <td>{'user': 5443278, 'context': None, 'asset': No...</td>\n      <td>False</td>\n      <td>165.123.108.90</td>\n      <td>0.081139</td>\n      <td>db08f4232bc40508c5f371a5f9edb579</td>\n      <td>None</td>\n      <td>2019-05-13T16:22:49Z</td>\n      <td>https://canvas.upenn.edu/api/v1/users/5443278</td>\n      <td>python-requests/2.21.0</td>\n      <td>None</td>\n    </tr>\n    <tr>\n      <th>9</th>\n      <td>api_show</td>\n      <td>User-Generated</td>\n      <td>None</td>\n      <td>None</td>\n      <td>None</td>\n      <td>False</td>\n      <td>users</td>\n      <td>2019-05-13T16:22:31Z</td>\n      <td>170000000000016</td>\n      <td>get</td>\n      <td>...</td>\n      <td>{'user': 5443278, 'context': None, 'asset': No...</td>\n      <td>False</td>\n      <td>165.123.108.90</td>\n      <td>0.103087</td>\n      <td>7bf0c3817b22ef4962823b4f81015fc5</td>\n      <td>None</td>\n      <td>2019-05-13T16:22:31Z</td>\n      <td>https://canvas.upenn.edu/api/v1/users/5443278</td>\n      <td>python-requests/2.21.0</td>\n      <td>None</td>\n    </tr>\n    <tr>\n      <th>10</th>\n      <td>api_show</td>\n      <td>User-Generated</td>\n      <td>None</td>\n      <td>None</td>\n      <td>None</td>\n      <td>False</td>\n      <td>users</td>\n      <td>2019-05-13T16:22:26Z</td>\n      <td>170000000000016</td>\n      <td>get</td>\n      <td>...</td>\n      <td>{'user': 5443278, 'context': None, 'asset': No...</td>\n      <td>False</td>\n      <td>165.123.108.90</td>\n      <td>0.122861</td>\n      <td>b5e1f872a74c54d6a3f20ab1d687b170</td>\n      <td>None</td>\n      <td>2019-05-13T16:22:26Z</td>\n      <td>https://canvas.upenn.edu/api/v1/users/5443277</td>\n      <td>python-requests/2.21.0</td>\n      <td>None</td>\n    </tr>\n    <tr>\n      <th>11</th>\n      <td>api_show</td>\n      <td>User-Generated</td>\n      <td>None</td>\n      <td>None</td>\n      <td>None</td>\n      <td>False</td>\n      <td>users</td>\n      <td>2019-05-13T16:22:16Z</td>\n      <td>170000000000016</td>\n      <td>get</td>\n      <td>...</td>\n      <td>{'user': 5443278, 'context': None, 'asset': No...</td>\n      <td>False</td>\n      <td>165.123.108.90</td>\n      <td>0.088944</td>\n      <td>94826d7d7e569a33e32d0e9502c5e32d</td>\n      <td>None</td>\n      <td>2019-05-13T16:22:16Z</td>\n      <td>https://canvas.upenn.edu/api/v1/users/5443277</td>\n      <td>python-requests/2.21.0</td>\n      <td>None</td>\n    </tr>\n    <tr>\n      <th>12</th>\n      <td>api_show</td>\n      <td>User-Generated</td>\n      <td>None</td>\n      <td>None</td>\n      <td>None</td>\n      <td>False</td>\n      <td>users</td>\n      <td>2019-05-13T16:22:02Z</td>\n      <td>170000000000016</td>\n      <td>get</td>\n      <td>...</td>\n      <td>{'user': 5443278, 'context': None, 'asset': No...</td>\n      <td>False</td>\n      <td>165.123.108.90</td>\n      <td>0.163653</td>\n      <td>9f469ba92cb57327104f8fc3f2ca5b50</td>\n      <td>None</td>\n      <td>2019-05-13T16:22:02Z</td>\n      <td>https://canvas.upenn.edu/api/v1/users/5443278</td>\n      <td>python-requests/2.21.0</td>\n      <td>None</td>\n    </tr>\n    <tr>\n      <th>13</th>\n      <td>api_show</td>\n      <td>User-Generated</td>\n      <td>None</td>\n      <td>None</td>\n      <td>None</td>\n      <td>False</td>\n      <td>users</td>\n      <td>2019-05-13T16:21:58Z</td>\n      <td>170000000000016</td>\n      <td>get</td>\n      <td>...</td>\n      <td>{'user': 5443278, 'context': None, 'asset': No...</td>\n      <td>False</td>\n      <td>165.123.108.90</td>\n      <td>0.134529</td>\n      <td>7a887d542b7ee9bd5c33ec76439a66d1</td>\n      <td>None</td>\n      <td>2019-05-13T16:21:58Z</td>\n      <td>https://canvas.upenn.edu/api/v1/users/5443278</td>\n      <td>python-requests/2.21.0</td>\n      <td>None</td>\n    </tr>\n    <tr>\n      <th>14</th>\n      <td>api_show</td>\n      <td>User-Generated</td>\n      <td>None</td>\n      <td>None</td>\n      <td>None</td>\n      <td>False</td>\n      <td>users</td>\n      <td>2019-05-13T16:21:37Z</td>\n      <td>170000000000016</td>\n      <td>get</td>\n      <td>...</td>\n      <td>{'user': 5443278, 'context': None, 'asset': No...</td>\n      <td>False</td>\n      <td>165.123.108.90</td>\n      <td>0.068290</td>\n      <td>0f2f4cdfeedd6f4cf5c8c724ae919bb8</td>\n      <td>None</td>\n      <td>2019-05-13T16:21:37Z</td>\n      <td>https://canvas.upenn.edu/api/v1/users/5443278</td>\n      <td>python-requests/2.21.0</td>\n      <td>None</td>\n    </tr>\n    <tr>\n      <th>15</th>\n      <td>api_show</td>\n      <td>User-Generated</td>\n      <td>None</td>\n      <td>None</td>\n      <td>None</td>\n      <td>False</td>\n      <td>users</td>\n      <td>2019-05-13T16:21:36Z</td>\n      <td>170000000000016</td>\n      <td>get</td>\n      <td>...</td>\n      <td>{'user': 5443278, 'context': None, 'asset': No...</td>\n      <td>False</td>\n      <td>165.123.108.90</td>\n      <td>0.075246</td>\n      <td>ef9f38814072919ae826860e2488acba</td>\n      <td>None</td>\n      <td>2019-05-13T16:21:36Z</td>\n      <td>https://canvas.upenn.edu/api/v1/users/5443278</td>\n      <td>python-requests/2.21.0</td>\n      <td>None</td>\n    </tr>\n    <tr>\n      <th>16</th>\n      <td>api_show</td>\n      <td>User-Generated</td>\n      <td>None</td>\n      <td>None</td>\n      <td>None</td>\n      <td>False</td>\n      <td>users</td>\n      <td>2019-05-13T16:21:03Z</td>\n      <td>170000000000016</td>\n      <td>get</td>\n      <td>...</td>\n      <td>{'user': 5443278, 'context': None, 'asset': No...</td>\n      <td>False</td>\n      <td>165.123.108.90</td>\n      <td>0.085063</td>\n      <td>7f910020f8a7a922f44fdc298aea0d70</td>\n      <td>None</td>\n      <td>2019-05-13T16:21:03Z</td>\n      <td>https://canvas.upenn.edu/api/v1/users/5443278</td>\n      <td>python-requests/2.21.0</td>\n      <td>None</td>\n    </tr>\n    <tr>\n      <th>17</th>\n      <td>api_show</td>\n      <td>User-Generated</td>\n      <td>None</td>\n      <td>None</td>\n      <td>None</td>\n      <td>False</td>\n      <td>users</td>\n      <td>2019-05-13T16:21:02Z</td>\n      <td>170000000000016</td>\n      <td>get</td>\n      <td>...</td>\n      <td>{'user': 5443278, 'context': None, 'asset': No...</td>\n      <td>False</td>\n      <td>165.123.108.90</td>\n      <td>0.077631</td>\n      <td>2683f46218c49fe717945e35ce1bb610</td>\n      <td>None</td>\n      <td>2019-05-13T16:21:02Z</td>\n      <td>https://canvas.upenn.edu/api/v1/users/5443278</td>\n      <td>python-requests/2.21.0</td>\n      <td>None</td>\n    </tr>\n    <tr>\n      <th>18</th>\n      <td>api_show</td>\n      <td>User-Generated</td>\n      <td>None</td>\n      <td>None</td>\n      <td>None</td>\n      <td>False</td>\n      <td>users</td>\n      <td>2019-05-13T16:19:45Z</td>\n      <td>170000000000016</td>\n      <td>get</td>\n      <td>...</td>\n      <td>{'user': 5443278, 'context': None, 'asset': No...</td>\n      <td>False</td>\n      <td>165.123.108.90</td>\n      <td>0.129155</td>\n      <td>b3402b477de2b8689ea1e3aa08974483</td>\n      <td>None</td>\n      <td>2019-05-13T16:19:45Z</td>\n      <td>https://canvas.upenn.edu/api/v1/users/5443278</td>\n      <td>python-requests/2.21.0</td>\n      <td>None</td>\n    </tr>\n    <tr>\n      <th>19</th>\n      <td>api_show</td>\n      <td>User-Generated</td>\n      <td>None</td>\n      <td>None</td>\n      <td>None</td>\n      <td>False</td>\n      <td>users</td>\n      <td>2019-05-13T16:17:47Z</td>\n      <td>170000000000016</td>\n      <td>get</td>\n      <td>...</td>\n      <td>{'user': 5443278, 'context': None, 'asset': No...</td>\n      <td>False</td>\n      <td>165.123.108.90</td>\n      <td>0.119106</td>\n      <td>9d08fef0a4e9a9aec4fda3c1cd7b110b</td>\n      <td>None</td>\n      <td>2019-05-13T16:17:47Z</td>\n      <td>https://canvas.upenn.edu/api/v1/users/5443278</td>\n      <td>python-requests/2.21.0</td>\n      <td>None</td>\n    </tr>\n    <tr>\n      <th>20</th>\n      <td>api_show</td>\n      <td>User-Generated</td>\n      <td>None</td>\n      <td>None</td>\n      <td>None</td>\n      <td>False</td>\n      <td>users</td>\n      <td>2019-05-13T16:17:06Z</td>\n      <td>170000000000016</td>\n      <td>get</td>\n      <td>...</td>\n      <td>{'user': 5443278, 'context': None, 'asset': No...</td>\n      <td>False</td>\n      <td>165.123.108.90</td>\n      <td>0.097454</td>\n      <td>beab170c46511dba9ed93366d342a52d</td>\n      <td>None</td>\n      <td>2019-05-13T16:17:06Z</td>\n      <td>https://canvas.upenn.edu/api/v1/users/5443278</td>\n      <td>python-requests/2.21.0</td>\n      <td>None</td>\n    </tr>\n    <tr>\n      <th>21</th>\n      <td>api_show</td>\n      <td>User-Generated</td>\n      <td>None</td>\n      <td>None</td>\n      <td>None</td>\n      <td>False</td>\n      <td>users</td>\n      <td>2019-05-13T16:16:58Z</td>\n      <td>170000000000016</td>\n      <td>get</td>\n      <td>...</td>\n      <td>{'user': 5443278, 'context': None, 'asset': No...</td>\n      <td>False</td>\n      <td>165.123.108.90</td>\n      <td>0.089420</td>\n      <td>9c90d8519be400f2ed12f251866b9c64</td>\n      <td>None</td>\n      <td>2019-05-13T16:16:58Z</td>\n      <td>https://canvas.upenn.edu/api/v1/users/5443278</td>\n      <td>python-requests/2.21.0</td>\n      <td>None</td>\n    </tr>\n    <tr>\n      <th>22</th>\n      <td>api_show</td>\n      <td>User-Generated</td>\n      <td>None</td>\n      <td>None</td>\n      <td>None</td>\n      <td>False</td>\n      <td>users</td>\n      <td>2019-05-13T16:15:41Z</td>\n      <td>170000000000016</td>\n      <td>get</td>\n      <td>...</td>\n      <td>{'user': 5443278, 'context': None, 'asset': No...</td>\n      <td>False</td>\n      <td>165.123.108.90</td>\n      <td>0.111146</td>\n      <td>dc988c40f29b52abbafb140655d2723e</td>\n      <td>None</td>\n      <td>2019-05-13T16:15:41Z</td>\n      <td>https://canvas.upenn.edu/api/v1/users/5443278</td>\n      <td>python-requests/2.21.0</td>\n      <td>None</td>\n    </tr>\n    <tr>\n      <th>23</th>\n      <td>api_show</td>\n      <td>User-Generated</td>\n      <td>None</td>\n      <td>None</td>\n      <td>None</td>\n      <td>False</td>\n      <td>users</td>\n      <td>2019-05-13T16:15:40Z</td>\n      <td>170000000000016</td>\n      <td>get</td>\n      <td>...</td>\n      <td>{'user': 5443278, 'context': None, 'asset': No...</td>\n      <td>False</td>\n      <td>165.123.108.90</td>\n      <td>0.067307</td>\n      <td>ed47cf756b1f6c759caa17da47a430fb</td>\n      <td>None</td>\n      <td>2019-05-13T16:15:40Z</td>\n      <td>https://canvas.upenn.edu/api/v1/users/5443278</td>\n      <td>python-requests/2.21.0</td>\n      <td>None</td>\n    </tr>\n    <tr>\n      <th>24</th>\n      <td>api_show</td>\n      <td>User-Generated</td>\n      <td>None</td>\n      <td>None</td>\n      <td>None</td>\n      <td>False</td>\n      <td>users</td>\n      <td>2019-05-13T16:15:40Z</td>\n      <td>170000000000016</td>\n      <td>get</td>\n      <td>...</td>\n      <td>{'user': 5443278, 'context': None, 'asset': No...</td>\n      <td>False</td>\n      <td>165.123.108.90</td>\n      <td>0.085913</td>\n      <td>1b60f5c1308c92d21de3b361cc115d62</td>\n      <td>None</td>\n      <td>2019-05-13T16:15:40Z</td>\n      <td>https://canvas.upenn.edu/api/v1/users/5443278</td>\n      <td>python-requests/2.21.0</td>\n      <td>None</td>\n    </tr>\n  </tbody>\n</table>\n<p>25 rows × 22 columns</p>\n</div>",
          "text/plain": "      action        app_name asset_type asset_user_access_id context_type  \\\n0   api_show  User-Generated       None                 None         None   \n1   api_show  User-Generated       None                 None         None   \n2      index  User-Generated       None                 None       Course   \n3      index  User-Generated       None                 None      Account   \n4      index  User-Generated       None                 None      Account   \n5      index  User-Generated       None                 None      Account   \n6      index  User-Generated       None                 None      Account   \n7      index  User-Generated       None                 None      Account   \n8   api_show  User-Generated       None                 None         None   \n9   api_show  User-Generated       None                 None         None   \n10  api_show  User-Generated       None                 None         None   \n11  api_show  User-Generated       None                 None         None   \n12  api_show  User-Generated       None                 None         None   \n13  api_show  User-Generated       None                 None         None   \n14  api_show  User-Generated       None                 None         None   \n15  api_show  User-Generated       None                 None         None   \n16  api_show  User-Generated       None                 None         None   \n17  api_show  User-Generated       None                 None         None   \n18  api_show  User-Generated       None                 None         None   \n19  api_show  User-Generated       None                 None         None   \n20  api_show  User-Generated       None                 None         None   \n21  api_show  User-Generated       None                 None         None   \n22  api_show  User-Generated       None                 None         None   \n23  api_show  User-Generated       None                 None         None   \n24  api_show  User-Generated       None                 None         None   \n\n    contributed                    controller            created_at  \\\n0         False                         users  2019-05-13T16:24:26Z   \n1         False                         users  2019-05-13T16:24:10Z   \n2         False  quizzes/quiz_submissions_api  2019-05-13T16:23:58Z   \n3         False                    scopes_api  2019-05-13T16:23:58Z   \n4         False                    scopes_api  2019-05-13T16:23:57Z   \n5         False                    scopes_api  2019-05-13T16:23:57Z   \n6         False                    scopes_api  2019-05-13T16:23:53Z   \n7         False                    scopes_api  2019-05-13T16:23:40Z   \n8         False                         users  2019-05-13T16:22:49Z   \n9         False                         users  2019-05-13T16:22:31Z   \n10        False                         users  2019-05-13T16:22:26Z   \n11        False                         users  2019-05-13T16:22:16Z   \n12        False                         users  2019-05-13T16:22:02Z   \n13        False                         users  2019-05-13T16:21:58Z   \n14        False                         users  2019-05-13T16:21:37Z   \n15        False                         users  2019-05-13T16:21:36Z   \n16        False                         users  2019-05-13T16:21:03Z   \n17        False                         users  2019-05-13T16:21:02Z   \n18        False                         users  2019-05-13T16:19:45Z   \n19        False                         users  2019-05-13T16:17:47Z   \n20        False                         users  2019-05-13T16:17:06Z   \n21        False                         users  2019-05-13T16:16:58Z   \n22        False                         users  2019-05-13T16:15:41Z   \n23        False                         users  2019-05-13T16:15:40Z   \n24        False                         users  2019-05-13T16:15:40Z   \n\n    developer_key_id http_method  ...  \\\n0    170000000000016         get  ...   \n1    170000000000016         get  ...   \n2    170000000000016         get  ...   \n3    170000000000016         get  ...   \n4    170000000000016         get  ...   \n5    170000000000016         get  ...   \n6    170000000000016         get  ...   \n7    170000000000016         get  ...   \n8    170000000000016         get  ...   \n9    170000000000016         get  ...   \n10   170000000000016         get  ...   \n11   170000000000016         get  ...   \n12   170000000000016         get  ...   \n13   170000000000016         get  ...   \n14   170000000000016         get  ...   \n15   170000000000016         get  ...   \n16   170000000000016         get  ...   \n17   170000000000016         get  ...   \n18   170000000000016         get  ...   \n19   170000000000016         get  ...   \n20   170000000000016         get  ...   \n21   170000000000016         get  ...   \n22   170000000000016         get  ...   \n23   170000000000016         get  ...   \n24   170000000000016         get  ...   \n\n                                                links participated  \\\n0   {'user': 5443278, 'context': None, 'asset': No...        False   \n1   {'user': 5443278, 'context': None, 'asset': No...        False   \n2   {'user': 5443278, 'context': 1424853, 'asset':...        False   \n3   {'user': 5443278, 'context': 96678, 'asset': N...        False   \n4   {'user': 5443278, 'context': 96678, 'asset': N...        False   \n5   {'user': 5443278, 'context': 96678, 'asset': N...        False   \n6   {'user': 5443278, 'context': 96678, 'asset': N...        False   \n7   {'user': 5443278, 'context': 96678, 'asset': N...        False   \n8   {'user': 5443278, 'context': None, 'asset': No...        False   \n9   {'user': 5443278, 'context': None, 'asset': No...        False   \n10  {'user': 5443278, 'context': None, 'asset': No...        False   \n11  {'user': 5443278, 'context': None, 'asset': No...        False   \n12  {'user': 5443278, 'context': None, 'asset': No...        False   \n13  {'user': 5443278, 'context': None, 'asset': No...        False   \n14  {'user': 5443278, 'context': None, 'asset': No...        False   \n15  {'user': 5443278, 'context': None, 'asset': No...        False   \n16  {'user': 5443278, 'context': None, 'asset': No...        False   \n17  {'user': 5443278, 'context': None, 'asset': No...        False   \n18  {'user': 5443278, 'context': None, 'asset': No...        False   \n19  {'user': 5443278, 'context': None, 'asset': No...        False   \n20  {'user': 5443278, 'context': None, 'asset': No...        False   \n21  {'user': 5443278, 'context': None, 'asset': No...        False   \n22  {'user': 5443278, 'context': None, 'asset': No...        False   \n23  {'user': 5443278, 'context': None, 'asset': No...        False   \n24  {'user': 5443278, 'context': None, 'asset': No...        False   \n\n         remote_ip  render_time                        session_id  summarized  \\\n0   165.123.108.90     0.113080  468a1c0367447d32efdc902c679d0755        None   \n1   165.123.108.90     0.101640  c168e2fce30c1d393b9e6b092e3e8ce5        None   \n2   165.123.108.90     2.445917  a7f39e5390f93f018672d9404d6f082f        None   \n3   165.123.108.90     0.059810  5c1b2eaf20fb078e399419eb198ed0e0        None   \n4   165.123.108.90     0.451222  362de6a53c7a2633c1e891a84e7dcabf        None   \n5   165.123.108.90     0.365610  05636dc54d5ce4903a794cb351ab9a69        None   \n6   165.123.108.90     0.523446  034e6ac544bcc3bd611ef4828fd18e71        None   \n7   165.123.108.90     0.372882  1f2d7e577fbbb7704600641b597e8bcf        None   \n8   165.123.108.90     0.081139  db08f4232bc40508c5f371a5f9edb579        None   \n9   165.123.108.90     0.103087  7bf0c3817b22ef4962823b4f81015fc5        None   \n10  165.123.108.90     0.122861  b5e1f872a74c54d6a3f20ab1d687b170        None   \n11  165.123.108.90     0.088944  94826d7d7e569a33e32d0e9502c5e32d        None   \n12  165.123.108.90     0.163653  9f469ba92cb57327104f8fc3f2ca5b50        None   \n13  165.123.108.90     0.134529  7a887d542b7ee9bd5c33ec76439a66d1        None   \n14  165.123.108.90     0.068290  0f2f4cdfeedd6f4cf5c8c724ae919bb8        None   \n15  165.123.108.90     0.075246  ef9f38814072919ae826860e2488acba        None   \n16  165.123.108.90     0.085063  7f910020f8a7a922f44fdc298aea0d70        None   \n17  165.123.108.90     0.077631  2683f46218c49fe717945e35ce1bb610        None   \n18  165.123.108.90     0.129155  b3402b477de2b8689ea1e3aa08974483        None   \n19  165.123.108.90     0.119106  9d08fef0a4e9a9aec4fda3c1cd7b110b        None   \n20  165.123.108.90     0.097454  beab170c46511dba9ed93366d342a52d        None   \n21  165.123.108.90     0.089420  9c90d8519be400f2ed12f251866b9c64        None   \n22  165.123.108.90     0.111146  dc988c40f29b52abbafb140655d2723e        None   \n23  165.123.108.90     0.067307  ed47cf756b1f6c759caa17da47a430fb        None   \n24  165.123.108.90     0.085913  1b60f5c1308c92d21de3b361cc115d62        None   \n\n              updated_at                                                url  \\\n0   2019-05-13T16:24:26Z      https://canvas.upenn.edu/api/v1/users/5443378   \n1   2019-05-13T16:24:10Z      https://canvas.upenn.edu/api/v1/users/5443278   \n2   2019-05-13T16:23:58Z  https://canvas.upenn.edu/api/v1//courses/14248...   \n3   2019-05-13T16:23:58Z  https://canvas.upenn.edu/api/v1/accounts/self/...   \n4   2019-05-13T16:23:57Z  https://canvas.upenn.edu/api/v1/accounts/self/...   \n5   2019-05-13T16:23:57Z  https://canvas.upenn.edu/api/v1/accounts/self/...   \n6   2019-05-13T16:23:53Z  https://canvas.upenn.edu/api/v1/accounts/self/...   \n7   2019-05-13T16:23:40Z  https://canvas.upenn.edu/api/v1/accounts/self/...   \n8   2019-05-13T16:22:49Z      https://canvas.upenn.edu/api/v1/users/5443278   \n9   2019-05-13T16:22:31Z      https://canvas.upenn.edu/api/v1/users/5443278   \n10  2019-05-13T16:22:26Z      https://canvas.upenn.edu/api/v1/users/5443277   \n11  2019-05-13T16:22:16Z      https://canvas.upenn.edu/api/v1/users/5443277   \n12  2019-05-13T16:22:02Z      https://canvas.upenn.edu/api/v1/users/5443278   \n13  2019-05-13T16:21:58Z      https://canvas.upenn.edu/api/v1/users/5443278   \n14  2019-05-13T16:21:37Z      https://canvas.upenn.edu/api/v1/users/5443278   \n15  2019-05-13T16:21:36Z      https://canvas.upenn.edu/api/v1/users/5443278   \n16  2019-05-13T16:21:03Z      https://canvas.upenn.edu/api/v1/users/5443278   \n17  2019-05-13T16:21:02Z      https://canvas.upenn.edu/api/v1/users/5443278   \n18  2019-05-13T16:19:45Z      https://canvas.upenn.edu/api/v1/users/5443278   \n19  2019-05-13T16:17:47Z      https://canvas.upenn.edu/api/v1/users/5443278   \n20  2019-05-13T16:17:06Z      https://canvas.upenn.edu/api/v1/users/5443278   \n21  2019-05-13T16:16:58Z      https://canvas.upenn.edu/api/v1/users/5443278   \n22  2019-05-13T16:15:41Z      https://canvas.upenn.edu/api/v1/users/5443278   \n23  2019-05-13T16:15:40Z      https://canvas.upenn.edu/api/v1/users/5443278   \n24  2019-05-13T16:15:40Z      https://canvas.upenn.edu/api/v1/users/5443278   \n\n                user_agent user_request  \n0   python-requests/2.21.0         None  \n1   python-requests/2.21.0         None  \n2   python-requests/2.21.0         None  \n3   python-requests/2.21.0         None  \n4   python-requests/2.21.0         None  \n5   python-requests/2.21.0         None  \n6   python-requests/2.21.0         None  \n7   python-requests/2.21.0         None  \n8   python-requests/2.21.0         None  \n9   python-requests/2.21.0         None  \n10  python-requests/2.21.0         None  \n11  python-requests/2.21.0         None  \n12  python-requests/2.21.0         None  \n13  python-requests/2.21.0         None  \n14  python-requests/2.21.0         None  \n15  python-requests/2.21.0         None  \n16  python-requests/2.21.0         None  \n17  python-requests/2.21.0         None  \n18  python-requests/2.21.0         None  \n19  python-requests/2.21.0         None  \n20  python-requests/2.21.0         None  \n21  python-requests/2.21.0         None  \n22  python-requests/2.21.0         None  \n23  python-requests/2.21.0         None  \n24  python-requests/2.21.0         None  \n\n[25 rows x 22 columns]"
         },
         "metadata": {},
         "output_type": "display_data"
        }
       ]
      }
     },
     "1006450621f74183b8589c3321539b4e": {
      "model_module": "@jupyter-widgets/base",
      "model_module_version": "1.1.0",
      "model_name": "LayoutModel",
      "state": {}
     },
     "1062f48ebc4c4ef9adead3133617a54f": {
      "model_module": "@jupyter-widgets/base",
      "model_module_version": "1.1.0",
      "model_name": "LayoutModel",
      "state": {
       "grid_area": "footer",
       "width": "auto"
      }
     },
     "106f5e9b1cba49d397bd77b6c34852ac": {
      "model_module": "@jupyter-widgets/output",
      "model_module_version": "1.0.0",
      "model_name": "OutputModel",
      "state": {
       "layout": "IPY_MODEL_57a36cc5256f472685cede79208e7463",
       "outputs": [
        {
         "data": {
          "text/plain": "{'id': 5443278,\n 'name': 'Madeleine Hodges',\n 'created_at': '2017-09-04T13:48:07-04:00',\n 'sortable_name': 'Hodges, Madeleine',\n 'short_name': 'Madeleine Hodges',\n 'sis_user_id': '89450759',\n 'integration_id': None,\n 'sis_import_id': None,\n 'login_id': 'mfhodges',\n 'avatar_url': 'https://canvas.upenn.edu/images/thumbnails/71818003/DDzvzMoJDPFboU4HK0lNPqR0d4EvBYGAVkNRPmgU',\n 'email': 'mfhodges@upenn.edu',\n 'locale': None,\n 'effective_locale': 'en',\n 'permissions': {'can_update_name': False, 'can_update_avatar': True}}"
         },
         "metadata": {},
         "output_type": "display_data"
        },
        {
         "name": "stdout",
         "output_type": "stream",
         "text": "{'id': 5443278, 'name': 'Madeleine Hodges', 'created_at': '2017-09-04T13:48:07-04:00', 'sortable_name': 'Hodges, Madeleine', 'short_name': 'Madeleine Hodges', 'sis_user_id': '89450759', 'integration_id': None, 'sis_import_id': None, 'login_id': 'mfhodges', 'avatar_url': 'https://canvas.upenn.edu/images/thumbnails/71818003/DDzvzMoJDPFboU4HK0lNPqR0d4EvBYGAVkNRPmgU', 'email': 'mfhodges@upenn.edu', 'locale': None, 'effective_locale': 'en', 'permissions': {'can_update_name': False, 'can_update_avatar': True}}\n"
        },
        {
         "data": {
          "text/html": "<div>\n<style scoped>\n    .dataframe tbody tr th:only-of-type {\n        vertical-align: middle;\n    }\n\n    .dataframe tbody tr th {\n        vertical-align: top;\n    }\n\n    .dataframe thead th {\n        text-align: right;\n    }\n</style>\n<table border=\"1\" class=\"dataframe\">\n  <thead>\n    <tr style=\"text-align: right;\">\n      <th></th>\n      <th>action</th>\n      <th>app_name</th>\n      <th>asset_type</th>\n      <th>asset_user_access_id</th>\n      <th>context_type</th>\n      <th>contributed</th>\n      <th>controller</th>\n      <th>created_at</th>\n      <th>developer_key_id</th>\n      <th>http_method</th>\n      <th>...</th>\n      <th>links</th>\n      <th>participated</th>\n      <th>remote_ip</th>\n      <th>render_time</th>\n      <th>session_id</th>\n      <th>summarized</th>\n      <th>updated_at</th>\n      <th>url</th>\n      <th>user_agent</th>\n      <th>user_request</th>\n    </tr>\n  </thead>\n  <tbody>\n    <tr>\n      <th>0</th>\n      <td>api_show</td>\n      <td>User-Generated</td>\n      <td>None</td>\n      <td>None</td>\n      <td>None</td>\n      <td>False</td>\n      <td>users</td>\n      <td>2019-05-13T16:25:52Z</td>\n      <td>170000000000016</td>\n      <td>get</td>\n      <td>...</td>\n      <td>{'user': 5443278, 'context': None, 'asset': No...</td>\n      <td>False</td>\n      <td>165.123.108.90</td>\n      <td>0.100276</td>\n      <td>09efa589f36f6f689f983a20cd838694</td>\n      <td>None</td>\n      <td>2019-05-13T16:25:52Z</td>\n      <td>https://canvas.upenn.edu/api/v1/users/5443278</td>\n      <td>python-requests/2.21.0</td>\n      <td>None</td>\n    </tr>\n    <tr>\n      <th>1</th>\n      <td>api_show</td>\n      <td>User-Generated</td>\n      <td>None</td>\n      <td>None</td>\n      <td>None</td>\n      <td>False</td>\n      <td>users</td>\n      <td>2019-05-13T16:24:26Z</td>\n      <td>170000000000016</td>\n      <td>get</td>\n      <td>...</td>\n      <td>{'user': 5443278, 'context': None, 'asset': No...</td>\n      <td>False</td>\n      <td>165.123.108.90</td>\n      <td>0.113080</td>\n      <td>468a1c0367447d32efdc902c679d0755</td>\n      <td>None</td>\n      <td>2019-05-13T16:24:26Z</td>\n      <td>https://canvas.upenn.edu/api/v1/users/5443378</td>\n      <td>python-requests/2.21.0</td>\n      <td>None</td>\n    </tr>\n    <tr>\n      <th>2</th>\n      <td>api_show</td>\n      <td>User-Generated</td>\n      <td>None</td>\n      <td>None</td>\n      <td>None</td>\n      <td>False</td>\n      <td>users</td>\n      <td>2019-05-13T16:24:10Z</td>\n      <td>170000000000016</td>\n      <td>get</td>\n      <td>...</td>\n      <td>{'user': 5443278, 'context': None, 'asset': No...</td>\n      <td>False</td>\n      <td>165.123.108.90</td>\n      <td>0.101640</td>\n      <td>c168e2fce30c1d393b9e6b092e3e8ce5</td>\n      <td>None</td>\n      <td>2019-05-13T16:24:10Z</td>\n      <td>https://canvas.upenn.edu/api/v1/users/5443278</td>\n      <td>python-requests/2.21.0</td>\n      <td>None</td>\n    </tr>\n    <tr>\n      <th>3</th>\n      <td>index</td>\n      <td>User-Generated</td>\n      <td>None</td>\n      <td>None</td>\n      <td>Course</td>\n      <td>False</td>\n      <td>quizzes/quiz_submissions_api</td>\n      <td>2019-05-13T16:23:58Z</td>\n      <td>170000000000016</td>\n      <td>get</td>\n      <td>...</td>\n      <td>{'user': 5443278, 'context': 1424853, 'asset':...</td>\n      <td>False</td>\n      <td>165.123.108.90</td>\n      <td>2.445917</td>\n      <td>a7f39e5390f93f018672d9404d6f082f</td>\n      <td>None</td>\n      <td>2019-05-13T16:23:58Z</td>\n      <td>https://canvas.upenn.edu/api/v1//courses/14248...</td>\n      <td>python-requests/2.21.0</td>\n      <td>None</td>\n    </tr>\n    <tr>\n      <th>4</th>\n      <td>index</td>\n      <td>User-Generated</td>\n      <td>None</td>\n      <td>None</td>\n      <td>Account</td>\n      <td>False</td>\n      <td>scopes_api</td>\n      <td>2019-05-13T16:23:58Z</td>\n      <td>170000000000016</td>\n      <td>get</td>\n      <td>...</td>\n      <td>{'user': 5443278, 'context': 96678, 'asset': N...</td>\n      <td>False</td>\n      <td>165.123.108.90</td>\n      <td>0.059810</td>\n      <td>5c1b2eaf20fb078e399419eb198ed0e0</td>\n      <td>None</td>\n      <td>2019-05-13T16:23:58Z</td>\n      <td>https://canvas.upenn.edu/api/v1/accounts/self/...</td>\n      <td>python-requests/2.21.0</td>\n      <td>None</td>\n    </tr>\n    <tr>\n      <th>5</th>\n      <td>index</td>\n      <td>User-Generated</td>\n      <td>None</td>\n      <td>None</td>\n      <td>Account</td>\n      <td>False</td>\n      <td>scopes_api</td>\n      <td>2019-05-13T16:23:57Z</td>\n      <td>170000000000016</td>\n      <td>get</td>\n      <td>...</td>\n      <td>{'user': 5443278, 'context': 96678, 'asset': N...</td>\n      <td>False</td>\n      <td>165.123.108.90</td>\n      <td>0.451222</td>\n      <td>362de6a53c7a2633c1e891a84e7dcabf</td>\n      <td>None</td>\n      <td>2019-05-13T16:23:57Z</td>\n      <td>https://canvas.upenn.edu/api/v1/accounts/self/...</td>\n      <td>python-requests/2.21.0</td>\n      <td>None</td>\n    </tr>\n    <tr>\n      <th>6</th>\n      <td>index</td>\n      <td>User-Generated</td>\n      <td>None</td>\n      <td>None</td>\n      <td>Account</td>\n      <td>False</td>\n      <td>scopes_api</td>\n      <td>2019-05-13T16:23:57Z</td>\n      <td>170000000000016</td>\n      <td>get</td>\n      <td>...</td>\n      <td>{'user': 5443278, 'context': 96678, 'asset': N...</td>\n      <td>False</td>\n      <td>165.123.108.90</td>\n      <td>0.365610</td>\n      <td>05636dc54d5ce4903a794cb351ab9a69</td>\n      <td>None</td>\n      <td>2019-05-13T16:23:57Z</td>\n      <td>https://canvas.upenn.edu/api/v1/accounts/self/...</td>\n      <td>python-requests/2.21.0</td>\n      <td>None</td>\n    </tr>\n    <tr>\n      <th>7</th>\n      <td>index</td>\n      <td>User-Generated</td>\n      <td>None</td>\n      <td>None</td>\n      <td>Account</td>\n      <td>False</td>\n      <td>scopes_api</td>\n      <td>2019-05-13T16:23:53Z</td>\n      <td>170000000000016</td>\n      <td>get</td>\n      <td>...</td>\n      <td>{'user': 5443278, 'context': 96678, 'asset': N...</td>\n      <td>False</td>\n      <td>165.123.108.90</td>\n      <td>0.523446</td>\n      <td>034e6ac544bcc3bd611ef4828fd18e71</td>\n      <td>None</td>\n      <td>2019-05-13T16:23:53Z</td>\n      <td>https://canvas.upenn.edu/api/v1/accounts/self/...</td>\n      <td>python-requests/2.21.0</td>\n      <td>None</td>\n    </tr>\n    <tr>\n      <th>8</th>\n      <td>index</td>\n      <td>User-Generated</td>\n      <td>None</td>\n      <td>None</td>\n      <td>Account</td>\n      <td>False</td>\n      <td>scopes_api</td>\n      <td>2019-05-13T16:23:40Z</td>\n      <td>170000000000016</td>\n      <td>get</td>\n      <td>...</td>\n      <td>{'user': 5443278, 'context': 96678, 'asset': N...</td>\n      <td>False</td>\n      <td>165.123.108.90</td>\n      <td>0.372882</td>\n      <td>1f2d7e577fbbb7704600641b597e8bcf</td>\n      <td>None</td>\n      <td>2019-05-13T16:23:40Z</td>\n      <td>https://canvas.upenn.edu/api/v1/accounts/self/...</td>\n      <td>python-requests/2.21.0</td>\n      <td>None</td>\n    </tr>\n    <tr>\n      <th>9</th>\n      <td>api_show</td>\n      <td>User-Generated</td>\n      <td>None</td>\n      <td>None</td>\n      <td>None</td>\n      <td>False</td>\n      <td>users</td>\n      <td>2019-05-13T16:22:49Z</td>\n      <td>170000000000016</td>\n      <td>get</td>\n      <td>...</td>\n      <td>{'user': 5443278, 'context': None, 'asset': No...</td>\n      <td>False</td>\n      <td>165.123.108.90</td>\n      <td>0.081139</td>\n      <td>db08f4232bc40508c5f371a5f9edb579</td>\n      <td>None</td>\n      <td>2019-05-13T16:22:49Z</td>\n      <td>https://canvas.upenn.edu/api/v1/users/5443278</td>\n      <td>python-requests/2.21.0</td>\n      <td>None</td>\n    </tr>\n    <tr>\n      <th>10</th>\n      <td>api_show</td>\n      <td>User-Generated</td>\n      <td>None</td>\n      <td>None</td>\n      <td>None</td>\n      <td>False</td>\n      <td>users</td>\n      <td>2019-05-13T16:22:31Z</td>\n      <td>170000000000016</td>\n      <td>get</td>\n      <td>...</td>\n      <td>{'user': 5443278, 'context': None, 'asset': No...</td>\n      <td>False</td>\n      <td>165.123.108.90</td>\n      <td>0.103087</td>\n      <td>7bf0c3817b22ef4962823b4f81015fc5</td>\n      <td>None</td>\n      <td>2019-05-13T16:22:31Z</td>\n      <td>https://canvas.upenn.edu/api/v1/users/5443278</td>\n      <td>python-requests/2.21.0</td>\n      <td>None</td>\n    </tr>\n    <tr>\n      <th>11</th>\n      <td>api_show</td>\n      <td>User-Generated</td>\n      <td>None</td>\n      <td>None</td>\n      <td>None</td>\n      <td>False</td>\n      <td>users</td>\n      <td>2019-05-13T16:22:26Z</td>\n      <td>170000000000016</td>\n      <td>get</td>\n      <td>...</td>\n      <td>{'user': 5443278, 'context': None, 'asset': No...</td>\n      <td>False</td>\n      <td>165.123.108.90</td>\n      <td>0.122861</td>\n      <td>b5e1f872a74c54d6a3f20ab1d687b170</td>\n      <td>None</td>\n      <td>2019-05-13T16:22:26Z</td>\n      <td>https://canvas.upenn.edu/api/v1/users/5443277</td>\n      <td>python-requests/2.21.0</td>\n      <td>None</td>\n    </tr>\n    <tr>\n      <th>12</th>\n      <td>api_show</td>\n      <td>User-Generated</td>\n      <td>None</td>\n      <td>None</td>\n      <td>None</td>\n      <td>False</td>\n      <td>users</td>\n      <td>2019-05-13T16:22:16Z</td>\n      <td>170000000000016</td>\n      <td>get</td>\n      <td>...</td>\n      <td>{'user': 5443278, 'context': None, 'asset': No...</td>\n      <td>False</td>\n      <td>165.123.108.90</td>\n      <td>0.088944</td>\n      <td>94826d7d7e569a33e32d0e9502c5e32d</td>\n      <td>None</td>\n      <td>2019-05-13T16:22:16Z</td>\n      <td>https://canvas.upenn.edu/api/v1/users/5443277</td>\n      <td>python-requests/2.21.0</td>\n      <td>None</td>\n    </tr>\n    <tr>\n      <th>13</th>\n      <td>api_show</td>\n      <td>User-Generated</td>\n      <td>None</td>\n      <td>None</td>\n      <td>None</td>\n      <td>False</td>\n      <td>users</td>\n      <td>2019-05-13T16:22:02Z</td>\n      <td>170000000000016</td>\n      <td>get</td>\n      <td>...</td>\n      <td>{'user': 5443278, 'context': None, 'asset': No...</td>\n      <td>False</td>\n      <td>165.123.108.90</td>\n      <td>0.163653</td>\n      <td>9f469ba92cb57327104f8fc3f2ca5b50</td>\n      <td>None</td>\n      <td>2019-05-13T16:22:02Z</td>\n      <td>https://canvas.upenn.edu/api/v1/users/5443278</td>\n      <td>python-requests/2.21.0</td>\n      <td>None</td>\n    </tr>\n    <tr>\n      <th>14</th>\n      <td>api_show</td>\n      <td>User-Generated</td>\n      <td>None</td>\n      <td>None</td>\n      <td>None</td>\n      <td>False</td>\n      <td>users</td>\n      <td>2019-05-13T16:21:58Z</td>\n      <td>170000000000016</td>\n      <td>get</td>\n      <td>...</td>\n      <td>{'user': 5443278, 'context': None, 'asset': No...</td>\n      <td>False</td>\n      <td>165.123.108.90</td>\n      <td>0.134529</td>\n      <td>7a887d542b7ee9bd5c33ec76439a66d1</td>\n      <td>None</td>\n      <td>2019-05-13T16:21:58Z</td>\n      <td>https://canvas.upenn.edu/api/v1/users/5443278</td>\n      <td>python-requests/2.21.0</td>\n      <td>None</td>\n    </tr>\n    <tr>\n      <th>15</th>\n      <td>api_show</td>\n      <td>User-Generated</td>\n      <td>None</td>\n      <td>None</td>\n      <td>None</td>\n      <td>False</td>\n      <td>users</td>\n      <td>2019-05-13T16:21:37Z</td>\n      <td>170000000000016</td>\n      <td>get</td>\n      <td>...</td>\n      <td>{'user': 5443278, 'context': None, 'asset': No...</td>\n      <td>False</td>\n      <td>165.123.108.90</td>\n      <td>0.068290</td>\n      <td>0f2f4cdfeedd6f4cf5c8c724ae919bb8</td>\n      <td>None</td>\n      <td>2019-05-13T16:21:37Z</td>\n      <td>https://canvas.upenn.edu/api/v1/users/5443278</td>\n      <td>python-requests/2.21.0</td>\n      <td>None</td>\n    </tr>\n    <tr>\n      <th>16</th>\n      <td>api_show</td>\n      <td>User-Generated</td>\n      <td>None</td>\n      <td>None</td>\n      <td>None</td>\n      <td>False</td>\n      <td>users</td>\n      <td>2019-05-13T16:21:36Z</td>\n      <td>170000000000016</td>\n      <td>get</td>\n      <td>...</td>\n      <td>{'user': 5443278, 'context': None, 'asset': No...</td>\n      <td>False</td>\n      <td>165.123.108.90</td>\n      <td>0.075246</td>\n      <td>ef9f38814072919ae826860e2488acba</td>\n      <td>None</td>\n      <td>2019-05-13T16:21:36Z</td>\n      <td>https://canvas.upenn.edu/api/v1/users/5443278</td>\n      <td>python-requests/2.21.0</td>\n      <td>None</td>\n    </tr>\n    <tr>\n      <th>17</th>\n      <td>api_show</td>\n      <td>User-Generated</td>\n      <td>None</td>\n      <td>None</td>\n      <td>None</td>\n      <td>False</td>\n      <td>users</td>\n      <td>2019-05-13T16:21:03Z</td>\n      <td>170000000000016</td>\n      <td>get</td>\n      <td>...</td>\n      <td>{'user': 5443278, 'context': None, 'asset': No...</td>\n      <td>False</td>\n      <td>165.123.108.90</td>\n      <td>0.085063</td>\n      <td>7f910020f8a7a922f44fdc298aea0d70</td>\n      <td>None</td>\n      <td>2019-05-13T16:21:03Z</td>\n      <td>https://canvas.upenn.edu/api/v1/users/5443278</td>\n      <td>python-requests/2.21.0</td>\n      <td>None</td>\n    </tr>\n    <tr>\n      <th>18</th>\n      <td>api_show</td>\n      <td>User-Generated</td>\n      <td>None</td>\n      <td>None</td>\n      <td>None</td>\n      <td>False</td>\n      <td>users</td>\n      <td>2019-05-13T16:21:02Z</td>\n      <td>170000000000016</td>\n      <td>get</td>\n      <td>...</td>\n      <td>{'user': 5443278, 'context': None, 'asset': No...</td>\n      <td>False</td>\n      <td>165.123.108.90</td>\n      <td>0.077631</td>\n      <td>2683f46218c49fe717945e35ce1bb610</td>\n      <td>None</td>\n      <td>2019-05-13T16:21:02Z</td>\n      <td>https://canvas.upenn.edu/api/v1/users/5443278</td>\n      <td>python-requests/2.21.0</td>\n      <td>None</td>\n    </tr>\n    <tr>\n      <th>19</th>\n      <td>api_show</td>\n      <td>User-Generated</td>\n      <td>None</td>\n      <td>None</td>\n      <td>None</td>\n      <td>False</td>\n      <td>users</td>\n      <td>2019-05-13T16:19:45Z</td>\n      <td>170000000000016</td>\n      <td>get</td>\n      <td>...</td>\n      <td>{'user': 5443278, 'context': None, 'asset': No...</td>\n      <td>False</td>\n      <td>165.123.108.90</td>\n      <td>0.129155</td>\n      <td>b3402b477de2b8689ea1e3aa08974483</td>\n      <td>None</td>\n      <td>2019-05-13T16:19:45Z</td>\n      <td>https://canvas.upenn.edu/api/v1/users/5443278</td>\n      <td>python-requests/2.21.0</td>\n      <td>None</td>\n    </tr>\n    <tr>\n      <th>20</th>\n      <td>api_show</td>\n      <td>User-Generated</td>\n      <td>None</td>\n      <td>None</td>\n      <td>None</td>\n      <td>False</td>\n      <td>users</td>\n      <td>2019-05-13T16:17:47Z</td>\n      <td>170000000000016</td>\n      <td>get</td>\n      <td>...</td>\n      <td>{'user': 5443278, 'context': None, 'asset': No...</td>\n      <td>False</td>\n      <td>165.123.108.90</td>\n      <td>0.119106</td>\n      <td>9d08fef0a4e9a9aec4fda3c1cd7b110b</td>\n      <td>None</td>\n      <td>2019-05-13T16:17:47Z</td>\n      <td>https://canvas.upenn.edu/api/v1/users/5443278</td>\n      <td>python-requests/2.21.0</td>\n      <td>None</td>\n    </tr>\n    <tr>\n      <th>21</th>\n      <td>api_show</td>\n      <td>User-Generated</td>\n      <td>None</td>\n      <td>None</td>\n      <td>None</td>\n      <td>False</td>\n      <td>users</td>\n      <td>2019-05-13T16:17:06Z</td>\n      <td>170000000000016</td>\n      <td>get</td>\n      <td>...</td>\n      <td>{'user': 5443278, 'context': None, 'asset': No...</td>\n      <td>False</td>\n      <td>165.123.108.90</td>\n      <td>0.097454</td>\n      <td>beab170c46511dba9ed93366d342a52d</td>\n      <td>None</td>\n      <td>2019-05-13T16:17:06Z</td>\n      <td>https://canvas.upenn.edu/api/v1/users/5443278</td>\n      <td>python-requests/2.21.0</td>\n      <td>None</td>\n    </tr>\n    <tr>\n      <th>22</th>\n      <td>api_show</td>\n      <td>User-Generated</td>\n      <td>None</td>\n      <td>None</td>\n      <td>None</td>\n      <td>False</td>\n      <td>users</td>\n      <td>2019-05-13T16:16:58Z</td>\n      <td>170000000000016</td>\n      <td>get</td>\n      <td>...</td>\n      <td>{'user': 5443278, 'context': None, 'asset': No...</td>\n      <td>False</td>\n      <td>165.123.108.90</td>\n      <td>0.089420</td>\n      <td>9c90d8519be400f2ed12f251866b9c64</td>\n      <td>None</td>\n      <td>2019-05-13T16:16:58Z</td>\n      <td>https://canvas.upenn.edu/api/v1/users/5443278</td>\n      <td>python-requests/2.21.0</td>\n      <td>None</td>\n    </tr>\n    <tr>\n      <th>23</th>\n      <td>api_show</td>\n      <td>User-Generated</td>\n      <td>None</td>\n      <td>None</td>\n      <td>None</td>\n      <td>False</td>\n      <td>users</td>\n      <td>2019-05-13T16:15:41Z</td>\n      <td>170000000000016</td>\n      <td>get</td>\n      <td>...</td>\n      <td>{'user': 5443278, 'context': None, 'asset': No...</td>\n      <td>False</td>\n      <td>165.123.108.90</td>\n      <td>0.111146</td>\n      <td>dc988c40f29b52abbafb140655d2723e</td>\n      <td>None</td>\n      <td>2019-05-13T16:15:41Z</td>\n      <td>https://canvas.upenn.edu/api/v1/users/5443278</td>\n      <td>python-requests/2.21.0</td>\n      <td>None</td>\n    </tr>\n    <tr>\n      <th>24</th>\n      <td>api_show</td>\n      <td>User-Generated</td>\n      <td>None</td>\n      <td>None</td>\n      <td>None</td>\n      <td>False</td>\n      <td>users</td>\n      <td>2019-05-13T16:15:40Z</td>\n      <td>170000000000016</td>\n      <td>get</td>\n      <td>...</td>\n      <td>{'user': 5443278, 'context': None, 'asset': No...</td>\n      <td>False</td>\n      <td>165.123.108.90</td>\n      <td>0.067307</td>\n      <td>ed47cf756b1f6c759caa17da47a430fb</td>\n      <td>None</td>\n      <td>2019-05-13T16:15:40Z</td>\n      <td>https://canvas.upenn.edu/api/v1/users/5443278</td>\n      <td>python-requests/2.21.0</td>\n      <td>None</td>\n    </tr>\n  </tbody>\n</table>\n<p>25 rows × 22 columns</p>\n</div>",
          "text/plain": "      action        app_name asset_type asset_user_access_id context_type  \\\n0   api_show  User-Generated       None                 None         None   \n1   api_show  User-Generated       None                 None         None   \n2   api_show  User-Generated       None                 None         None   \n3      index  User-Generated       None                 None       Course   \n4      index  User-Generated       None                 None      Account   \n5      index  User-Generated       None                 None      Account   \n6      index  User-Generated       None                 None      Account   \n7      index  User-Generated       None                 None      Account   \n8      index  User-Generated       None                 None      Account   \n9   api_show  User-Generated       None                 None         None   \n10  api_show  User-Generated       None                 None         None   \n11  api_show  User-Generated       None                 None         None   \n12  api_show  User-Generated       None                 None         None   \n13  api_show  User-Generated       None                 None         None   \n14  api_show  User-Generated       None                 None         None   \n15  api_show  User-Generated       None                 None         None   \n16  api_show  User-Generated       None                 None         None   \n17  api_show  User-Generated       None                 None         None   \n18  api_show  User-Generated       None                 None         None   \n19  api_show  User-Generated       None                 None         None   \n20  api_show  User-Generated       None                 None         None   \n21  api_show  User-Generated       None                 None         None   \n22  api_show  User-Generated       None                 None         None   \n23  api_show  User-Generated       None                 None         None   \n24  api_show  User-Generated       None                 None         None   \n\n    contributed                    controller            created_at  \\\n0         False                         users  2019-05-13T16:25:52Z   \n1         False                         users  2019-05-13T16:24:26Z   \n2         False                         users  2019-05-13T16:24:10Z   \n3         False  quizzes/quiz_submissions_api  2019-05-13T16:23:58Z   \n4         False                    scopes_api  2019-05-13T16:23:58Z   \n5         False                    scopes_api  2019-05-13T16:23:57Z   \n6         False                    scopes_api  2019-05-13T16:23:57Z   \n7         False                    scopes_api  2019-05-13T16:23:53Z   \n8         False                    scopes_api  2019-05-13T16:23:40Z   \n9         False                         users  2019-05-13T16:22:49Z   \n10        False                         users  2019-05-13T16:22:31Z   \n11        False                         users  2019-05-13T16:22:26Z   \n12        False                         users  2019-05-13T16:22:16Z   \n13        False                         users  2019-05-13T16:22:02Z   \n14        False                         users  2019-05-13T16:21:58Z   \n15        False                         users  2019-05-13T16:21:37Z   \n16        False                         users  2019-05-13T16:21:36Z   \n17        False                         users  2019-05-13T16:21:03Z   \n18        False                         users  2019-05-13T16:21:02Z   \n19        False                         users  2019-05-13T16:19:45Z   \n20        False                         users  2019-05-13T16:17:47Z   \n21        False                         users  2019-05-13T16:17:06Z   \n22        False                         users  2019-05-13T16:16:58Z   \n23        False                         users  2019-05-13T16:15:41Z   \n24        False                         users  2019-05-13T16:15:40Z   \n\n    developer_key_id http_method  ...  \\\n0    170000000000016         get  ...   \n1    170000000000016         get  ...   \n2    170000000000016         get  ...   \n3    170000000000016         get  ...   \n4    170000000000016         get  ...   \n5    170000000000016         get  ...   \n6    170000000000016         get  ...   \n7    170000000000016         get  ...   \n8    170000000000016         get  ...   \n9    170000000000016         get  ...   \n10   170000000000016         get  ...   \n11   170000000000016         get  ...   \n12   170000000000016         get  ...   \n13   170000000000016         get  ...   \n14   170000000000016         get  ...   \n15   170000000000016         get  ...   \n16   170000000000016         get  ...   \n17   170000000000016         get  ...   \n18   170000000000016         get  ...   \n19   170000000000016         get  ...   \n20   170000000000016         get  ...   \n21   170000000000016         get  ...   \n22   170000000000016         get  ...   \n23   170000000000016         get  ...   \n24   170000000000016         get  ...   \n\n                                                links participated  \\\n0   {'user': 5443278, 'context': None, 'asset': No...        False   \n1   {'user': 5443278, 'context': None, 'asset': No...        False   \n2   {'user': 5443278, 'context': None, 'asset': No...        False   \n3   {'user': 5443278, 'context': 1424853, 'asset':...        False   \n4   {'user': 5443278, 'context': 96678, 'asset': N...        False   \n5   {'user': 5443278, 'context': 96678, 'asset': N...        False   \n6   {'user': 5443278, 'context': 96678, 'asset': N...        False   \n7   {'user': 5443278, 'context': 96678, 'asset': N...        False   \n8   {'user': 5443278, 'context': 96678, 'asset': N...        False   \n9   {'user': 5443278, 'context': None, 'asset': No...        False   \n10  {'user': 5443278, 'context': None, 'asset': No...        False   \n11  {'user': 5443278, 'context': None, 'asset': No...        False   \n12  {'user': 5443278, 'context': None, 'asset': No...        False   \n13  {'user': 5443278, 'context': None, 'asset': No...        False   \n14  {'user': 5443278, 'context': None, 'asset': No...        False   \n15  {'user': 5443278, 'context': None, 'asset': No...        False   \n16  {'user': 5443278, 'context': None, 'asset': No...        False   \n17  {'user': 5443278, 'context': None, 'asset': No...        False   \n18  {'user': 5443278, 'context': None, 'asset': No...        False   \n19  {'user': 5443278, 'context': None, 'asset': No...        False   \n20  {'user': 5443278, 'context': None, 'asset': No...        False   \n21  {'user': 5443278, 'context': None, 'asset': No...        False   \n22  {'user': 5443278, 'context': None, 'asset': No...        False   \n23  {'user': 5443278, 'context': None, 'asset': No...        False   \n24  {'user': 5443278, 'context': None, 'asset': No...        False   \n\n         remote_ip  render_time                        session_id  summarized  \\\n0   165.123.108.90     0.100276  09efa589f36f6f689f983a20cd838694        None   \n1   165.123.108.90     0.113080  468a1c0367447d32efdc902c679d0755        None   \n2   165.123.108.90     0.101640  c168e2fce30c1d393b9e6b092e3e8ce5        None   \n3   165.123.108.90     2.445917  a7f39e5390f93f018672d9404d6f082f        None   \n4   165.123.108.90     0.059810  5c1b2eaf20fb078e399419eb198ed0e0        None   \n5   165.123.108.90     0.451222  362de6a53c7a2633c1e891a84e7dcabf        None   \n6   165.123.108.90     0.365610  05636dc54d5ce4903a794cb351ab9a69        None   \n7   165.123.108.90     0.523446  034e6ac544bcc3bd611ef4828fd18e71        None   \n8   165.123.108.90     0.372882  1f2d7e577fbbb7704600641b597e8bcf        None   \n9   165.123.108.90     0.081139  db08f4232bc40508c5f371a5f9edb579        None   \n10  165.123.108.90     0.103087  7bf0c3817b22ef4962823b4f81015fc5        None   \n11  165.123.108.90     0.122861  b5e1f872a74c54d6a3f20ab1d687b170        None   \n12  165.123.108.90     0.088944  94826d7d7e569a33e32d0e9502c5e32d        None   \n13  165.123.108.90     0.163653  9f469ba92cb57327104f8fc3f2ca5b50        None   \n14  165.123.108.90     0.134529  7a887d542b7ee9bd5c33ec76439a66d1        None   \n15  165.123.108.90     0.068290  0f2f4cdfeedd6f4cf5c8c724ae919bb8        None   \n16  165.123.108.90     0.075246  ef9f38814072919ae826860e2488acba        None   \n17  165.123.108.90     0.085063  7f910020f8a7a922f44fdc298aea0d70        None   \n18  165.123.108.90     0.077631  2683f46218c49fe717945e35ce1bb610        None   \n19  165.123.108.90     0.129155  b3402b477de2b8689ea1e3aa08974483        None   \n20  165.123.108.90     0.119106  9d08fef0a4e9a9aec4fda3c1cd7b110b        None   \n21  165.123.108.90     0.097454  beab170c46511dba9ed93366d342a52d        None   \n22  165.123.108.90     0.089420  9c90d8519be400f2ed12f251866b9c64        None   \n23  165.123.108.90     0.111146  dc988c40f29b52abbafb140655d2723e        None   \n24  165.123.108.90     0.067307  ed47cf756b1f6c759caa17da47a430fb        None   \n\n              updated_at                                                url  \\\n0   2019-05-13T16:25:52Z      https://canvas.upenn.edu/api/v1/users/5443278   \n1   2019-05-13T16:24:26Z      https://canvas.upenn.edu/api/v1/users/5443378   \n2   2019-05-13T16:24:10Z      https://canvas.upenn.edu/api/v1/users/5443278   \n3   2019-05-13T16:23:58Z  https://canvas.upenn.edu/api/v1//courses/14248...   \n4   2019-05-13T16:23:58Z  https://canvas.upenn.edu/api/v1/accounts/self/...   \n5   2019-05-13T16:23:57Z  https://canvas.upenn.edu/api/v1/accounts/self/...   \n6   2019-05-13T16:23:57Z  https://canvas.upenn.edu/api/v1/accounts/self/...   \n7   2019-05-13T16:23:53Z  https://canvas.upenn.edu/api/v1/accounts/self/...   \n8   2019-05-13T16:23:40Z  https://canvas.upenn.edu/api/v1/accounts/self/...   \n9   2019-05-13T16:22:49Z      https://canvas.upenn.edu/api/v1/users/5443278   \n10  2019-05-13T16:22:31Z      https://canvas.upenn.edu/api/v1/users/5443278   \n11  2019-05-13T16:22:26Z      https://canvas.upenn.edu/api/v1/users/5443277   \n12  2019-05-13T16:22:16Z      https://canvas.upenn.edu/api/v1/users/5443277   \n13  2019-05-13T16:22:02Z      https://canvas.upenn.edu/api/v1/users/5443278   \n14  2019-05-13T16:21:58Z      https://canvas.upenn.edu/api/v1/users/5443278   \n15  2019-05-13T16:21:37Z      https://canvas.upenn.edu/api/v1/users/5443278   \n16  2019-05-13T16:21:36Z      https://canvas.upenn.edu/api/v1/users/5443278   \n17  2019-05-13T16:21:03Z      https://canvas.upenn.edu/api/v1/users/5443278   \n18  2019-05-13T16:21:02Z      https://canvas.upenn.edu/api/v1/users/5443278   \n19  2019-05-13T16:19:45Z      https://canvas.upenn.edu/api/v1/users/5443278   \n20  2019-05-13T16:17:47Z      https://canvas.upenn.edu/api/v1/users/5443278   \n21  2019-05-13T16:17:06Z      https://canvas.upenn.edu/api/v1/users/5443278   \n22  2019-05-13T16:16:58Z      https://canvas.upenn.edu/api/v1/users/5443278   \n23  2019-05-13T16:15:41Z      https://canvas.upenn.edu/api/v1/users/5443278   \n24  2019-05-13T16:15:40Z      https://canvas.upenn.edu/api/v1/users/5443278   \n\n                user_agent user_request  \n0   python-requests/2.21.0         None  \n1   python-requests/2.21.0         None  \n2   python-requests/2.21.0         None  \n3   python-requests/2.21.0         None  \n4   python-requests/2.21.0         None  \n5   python-requests/2.21.0         None  \n6   python-requests/2.21.0         None  \n7   python-requests/2.21.0         None  \n8   python-requests/2.21.0         None  \n9   python-requests/2.21.0         None  \n10  python-requests/2.21.0         None  \n11  python-requests/2.21.0         None  \n12  python-requests/2.21.0         None  \n13  python-requests/2.21.0         None  \n14  python-requests/2.21.0         None  \n15  python-requests/2.21.0         None  \n16  python-requests/2.21.0         None  \n17  python-requests/2.21.0         None  \n18  python-requests/2.21.0         None  \n19  python-requests/2.21.0         None  \n20  python-requests/2.21.0         None  \n21  python-requests/2.21.0         None  \n22  python-requests/2.21.0         None  \n23  python-requests/2.21.0         None  \n24  python-requests/2.21.0         None  \n\n[25 rows x 22 columns]"
         },
         "metadata": {},
         "output_type": "display_data"
        }
       ]
      }
     },
     "107eb420833b49d78900a542ee93965a": {
      "model_module": "@jupyter-widgets/controls",
      "model_module_version": "1.4.0",
      "model_name": "TextModel",
      "state": {
       "layout": "IPY_MODEL_ad77c8e03755468dacfe99aba8644052",
       "placeholder": "user_id",
       "style": "IPY_MODEL_6c887b49a4c24251ade546db7936a2df"
      }
     },
     "11bfc74d07b7457fa605b17f2a32cbb1": {
      "model_module": "@jupyter-widgets/controls",
      "model_module_version": "1.4.0",
      "model_name": "ButtonStyleModel",
      "state": {}
     },
     "11d24761f8954d609693104bb8079d6c": {
      "model_module": "@jupyter-widgets/output",
      "model_module_version": "1.0.0",
      "model_name": "OutputModel",
      "state": {
       "layout": "IPY_MODEL_34845b8251f14c1a9ebf1f1a1ce3dbdb",
       "outputs": [
        {
         "data": {
          "text/html": "<div>\n<style scoped>\n    .dataframe tbody tr th:only-of-type {\n        vertical-align: middle;\n    }\n\n    .dataframe tbody tr th {\n        vertical-align: top;\n    }\n\n    .dataframe thead th {\n        text-align: right;\n    }\n</style>\n<table border=\"1\" class=\"dataframe\">\n  <thead>\n    <tr style=\"text-align: right;\">\n      <th></th>\n      <th>action</th>\n      <th>app_name</th>\n      <th>asset_type</th>\n      <th>asset_user_access_id</th>\n      <th>context_type</th>\n      <th>contributed</th>\n      <th>controller</th>\n      <th>created_at</th>\n      <th>developer_key_id</th>\n      <th>http_method</th>\n      <th>...</th>\n      <th>links</th>\n      <th>participated</th>\n      <th>remote_ip</th>\n      <th>render_time</th>\n      <th>session_id</th>\n      <th>summarized</th>\n      <th>updated_at</th>\n      <th>url</th>\n      <th>user_agent</th>\n      <th>user_request</th>\n    </tr>\n  </thead>\n  <tbody>\n    <tr>\n      <th>0</th>\n      <td>api_show</td>\n      <td>User-Generated</td>\n      <td>None</td>\n      <td>None</td>\n      <td>None</td>\n      <td>False</td>\n      <td>users</td>\n      <td>2019-05-13T16:22:31Z</td>\n      <td>170000000000016</td>\n      <td>get</td>\n      <td>...</td>\n      <td>{'user': 5443278, 'context': None, 'asset': No...</td>\n      <td>False</td>\n      <td>165.123.108.90</td>\n      <td>0.103087</td>\n      <td>7bf0c3817b22ef4962823b4f81015fc5</td>\n      <td>None</td>\n      <td>2019-05-13T16:22:31Z</td>\n      <td>https://canvas.upenn.edu/api/v1/users/5443278</td>\n      <td>python-requests/2.21.0</td>\n      <td>None</td>\n    </tr>\n    <tr>\n      <th>1</th>\n      <td>api_show</td>\n      <td>User-Generated</td>\n      <td>None</td>\n      <td>None</td>\n      <td>None</td>\n      <td>False</td>\n      <td>users</td>\n      <td>2019-05-13T16:22:26Z</td>\n      <td>170000000000016</td>\n      <td>get</td>\n      <td>...</td>\n      <td>{'user': 5443278, 'context': None, 'asset': No...</td>\n      <td>False</td>\n      <td>165.123.108.90</td>\n      <td>0.122861</td>\n      <td>b5e1f872a74c54d6a3f20ab1d687b170</td>\n      <td>None</td>\n      <td>2019-05-13T16:22:26Z</td>\n      <td>https://canvas.upenn.edu/api/v1/users/5443277</td>\n      <td>python-requests/2.21.0</td>\n      <td>None</td>\n    </tr>\n    <tr>\n      <th>2</th>\n      <td>api_show</td>\n      <td>User-Generated</td>\n      <td>None</td>\n      <td>None</td>\n      <td>None</td>\n      <td>False</td>\n      <td>users</td>\n      <td>2019-05-13T16:22:16Z</td>\n      <td>170000000000016</td>\n      <td>get</td>\n      <td>...</td>\n      <td>{'user': 5443278, 'context': None, 'asset': No...</td>\n      <td>False</td>\n      <td>165.123.108.90</td>\n      <td>0.088944</td>\n      <td>94826d7d7e569a33e32d0e9502c5e32d</td>\n      <td>None</td>\n      <td>2019-05-13T16:22:16Z</td>\n      <td>https://canvas.upenn.edu/api/v1/users/5443277</td>\n      <td>python-requests/2.21.0</td>\n      <td>None</td>\n    </tr>\n    <tr>\n      <th>3</th>\n      <td>api_show</td>\n      <td>User-Generated</td>\n      <td>None</td>\n      <td>None</td>\n      <td>None</td>\n      <td>False</td>\n      <td>users</td>\n      <td>2019-05-13T16:22:02Z</td>\n      <td>170000000000016</td>\n      <td>get</td>\n      <td>...</td>\n      <td>{'user': 5443278, 'context': None, 'asset': No...</td>\n      <td>False</td>\n      <td>165.123.108.90</td>\n      <td>0.163653</td>\n      <td>9f469ba92cb57327104f8fc3f2ca5b50</td>\n      <td>None</td>\n      <td>2019-05-13T16:22:02Z</td>\n      <td>https://canvas.upenn.edu/api/v1/users/5443278</td>\n      <td>python-requests/2.21.0</td>\n      <td>None</td>\n    </tr>\n    <tr>\n      <th>4</th>\n      <td>api_show</td>\n      <td>User-Generated</td>\n      <td>None</td>\n      <td>None</td>\n      <td>None</td>\n      <td>False</td>\n      <td>users</td>\n      <td>2019-05-13T16:21:58Z</td>\n      <td>170000000000016</td>\n      <td>get</td>\n      <td>...</td>\n      <td>{'user': 5443278, 'context': None, 'asset': No...</td>\n      <td>False</td>\n      <td>165.123.108.90</td>\n      <td>0.134529</td>\n      <td>7a887d542b7ee9bd5c33ec76439a66d1</td>\n      <td>None</td>\n      <td>2019-05-13T16:21:58Z</td>\n      <td>https://canvas.upenn.edu/api/v1/users/5443278</td>\n      <td>python-requests/2.21.0</td>\n      <td>None</td>\n    </tr>\n    <tr>\n      <th>5</th>\n      <td>api_show</td>\n      <td>User-Generated</td>\n      <td>None</td>\n      <td>None</td>\n      <td>None</td>\n      <td>False</td>\n      <td>users</td>\n      <td>2019-05-13T16:21:37Z</td>\n      <td>170000000000016</td>\n      <td>get</td>\n      <td>...</td>\n      <td>{'user': 5443278, 'context': None, 'asset': No...</td>\n      <td>False</td>\n      <td>165.123.108.90</td>\n      <td>0.068290</td>\n      <td>0f2f4cdfeedd6f4cf5c8c724ae919bb8</td>\n      <td>None</td>\n      <td>2019-05-13T16:21:37Z</td>\n      <td>https://canvas.upenn.edu/api/v1/users/5443278</td>\n      <td>python-requests/2.21.0</td>\n      <td>None</td>\n    </tr>\n    <tr>\n      <th>6</th>\n      <td>api_show</td>\n      <td>User-Generated</td>\n      <td>None</td>\n      <td>None</td>\n      <td>None</td>\n      <td>False</td>\n      <td>users</td>\n      <td>2019-05-13T16:21:36Z</td>\n      <td>170000000000016</td>\n      <td>get</td>\n      <td>...</td>\n      <td>{'user': 5443278, 'context': None, 'asset': No...</td>\n      <td>False</td>\n      <td>165.123.108.90</td>\n      <td>0.075246</td>\n      <td>ef9f38814072919ae826860e2488acba</td>\n      <td>None</td>\n      <td>2019-05-13T16:21:36Z</td>\n      <td>https://canvas.upenn.edu/api/v1/users/5443278</td>\n      <td>python-requests/2.21.0</td>\n      <td>None</td>\n    </tr>\n    <tr>\n      <th>7</th>\n      <td>api_show</td>\n      <td>User-Generated</td>\n      <td>None</td>\n      <td>None</td>\n      <td>None</td>\n      <td>False</td>\n      <td>users</td>\n      <td>2019-05-13T16:21:03Z</td>\n      <td>170000000000016</td>\n      <td>get</td>\n      <td>...</td>\n      <td>{'user': 5443278, 'context': None, 'asset': No...</td>\n      <td>False</td>\n      <td>165.123.108.90</td>\n      <td>0.085063</td>\n      <td>7f910020f8a7a922f44fdc298aea0d70</td>\n      <td>None</td>\n      <td>2019-05-13T16:21:03Z</td>\n      <td>https://canvas.upenn.edu/api/v1/users/5443278</td>\n      <td>python-requests/2.21.0</td>\n      <td>None</td>\n    </tr>\n    <tr>\n      <th>8</th>\n      <td>api_show</td>\n      <td>User-Generated</td>\n      <td>None</td>\n      <td>None</td>\n      <td>None</td>\n      <td>False</td>\n      <td>users</td>\n      <td>2019-05-13T16:21:02Z</td>\n      <td>170000000000016</td>\n      <td>get</td>\n      <td>...</td>\n      <td>{'user': 5443278, 'context': None, 'asset': No...</td>\n      <td>False</td>\n      <td>165.123.108.90</td>\n      <td>0.077631</td>\n      <td>2683f46218c49fe717945e35ce1bb610</td>\n      <td>None</td>\n      <td>2019-05-13T16:21:02Z</td>\n      <td>https://canvas.upenn.edu/api/v1/users/5443278</td>\n      <td>python-requests/2.21.0</td>\n      <td>None</td>\n    </tr>\n    <tr>\n      <th>9</th>\n      <td>api_show</td>\n      <td>User-Generated</td>\n      <td>None</td>\n      <td>None</td>\n      <td>None</td>\n      <td>False</td>\n      <td>users</td>\n      <td>2019-05-13T16:19:45Z</td>\n      <td>170000000000016</td>\n      <td>get</td>\n      <td>...</td>\n      <td>{'user': 5443278, 'context': None, 'asset': No...</td>\n      <td>False</td>\n      <td>165.123.108.90</td>\n      <td>0.129155</td>\n      <td>b3402b477de2b8689ea1e3aa08974483</td>\n      <td>None</td>\n      <td>2019-05-13T16:19:45Z</td>\n      <td>https://canvas.upenn.edu/api/v1/users/5443278</td>\n      <td>python-requests/2.21.0</td>\n      <td>None</td>\n    </tr>\n    <tr>\n      <th>10</th>\n      <td>api_show</td>\n      <td>User-Generated</td>\n      <td>None</td>\n      <td>None</td>\n      <td>None</td>\n      <td>False</td>\n      <td>users</td>\n      <td>2019-05-13T16:17:47Z</td>\n      <td>170000000000016</td>\n      <td>get</td>\n      <td>...</td>\n      <td>{'user': 5443278, 'context': None, 'asset': No...</td>\n      <td>False</td>\n      <td>165.123.108.90</td>\n      <td>0.119106</td>\n      <td>9d08fef0a4e9a9aec4fda3c1cd7b110b</td>\n      <td>None</td>\n      <td>2019-05-13T16:17:47Z</td>\n      <td>https://canvas.upenn.edu/api/v1/users/5443278</td>\n      <td>python-requests/2.21.0</td>\n      <td>None</td>\n    </tr>\n    <tr>\n      <th>11</th>\n      <td>api_show</td>\n      <td>User-Generated</td>\n      <td>None</td>\n      <td>None</td>\n      <td>None</td>\n      <td>False</td>\n      <td>users</td>\n      <td>2019-05-13T16:17:06Z</td>\n      <td>170000000000016</td>\n      <td>get</td>\n      <td>...</td>\n      <td>{'user': 5443278, 'context': None, 'asset': No...</td>\n      <td>False</td>\n      <td>165.123.108.90</td>\n      <td>0.097454</td>\n      <td>beab170c46511dba9ed93366d342a52d</td>\n      <td>None</td>\n      <td>2019-05-13T16:17:06Z</td>\n      <td>https://canvas.upenn.edu/api/v1/users/5443278</td>\n      <td>python-requests/2.21.0</td>\n      <td>None</td>\n    </tr>\n    <tr>\n      <th>12</th>\n      <td>api_show</td>\n      <td>User-Generated</td>\n      <td>None</td>\n      <td>None</td>\n      <td>None</td>\n      <td>False</td>\n      <td>users</td>\n      <td>2019-05-13T16:16:58Z</td>\n      <td>170000000000016</td>\n      <td>get</td>\n      <td>...</td>\n      <td>{'user': 5443278, 'context': None, 'asset': No...</td>\n      <td>False</td>\n      <td>165.123.108.90</td>\n      <td>0.089420</td>\n      <td>9c90d8519be400f2ed12f251866b9c64</td>\n      <td>None</td>\n      <td>2019-05-13T16:16:58Z</td>\n      <td>https://canvas.upenn.edu/api/v1/users/5443278</td>\n      <td>python-requests/2.21.0</td>\n      <td>None</td>\n    </tr>\n    <tr>\n      <th>13</th>\n      <td>api_show</td>\n      <td>User-Generated</td>\n      <td>None</td>\n      <td>None</td>\n      <td>None</td>\n      <td>False</td>\n      <td>users</td>\n      <td>2019-05-13T16:15:41Z</td>\n      <td>170000000000016</td>\n      <td>get</td>\n      <td>...</td>\n      <td>{'user': 5443278, 'context': None, 'asset': No...</td>\n      <td>False</td>\n      <td>165.123.108.90</td>\n      <td>0.111146</td>\n      <td>dc988c40f29b52abbafb140655d2723e</td>\n      <td>None</td>\n      <td>2019-05-13T16:15:41Z</td>\n      <td>https://canvas.upenn.edu/api/v1/users/5443278</td>\n      <td>python-requests/2.21.0</td>\n      <td>None</td>\n    </tr>\n    <tr>\n      <th>14</th>\n      <td>api_show</td>\n      <td>User-Generated</td>\n      <td>None</td>\n      <td>None</td>\n      <td>None</td>\n      <td>False</td>\n      <td>users</td>\n      <td>2019-05-13T16:15:40Z</td>\n      <td>170000000000016</td>\n      <td>get</td>\n      <td>...</td>\n      <td>{'user': 5443278, 'context': None, 'asset': No...</td>\n      <td>False</td>\n      <td>165.123.108.90</td>\n      <td>0.067307</td>\n      <td>ed47cf756b1f6c759caa17da47a430fb</td>\n      <td>None</td>\n      <td>2019-05-13T16:15:40Z</td>\n      <td>https://canvas.upenn.edu/api/v1/users/5443278</td>\n      <td>python-requests/2.21.0</td>\n      <td>None</td>\n    </tr>\n    <tr>\n      <th>15</th>\n      <td>api_show</td>\n      <td>User-Generated</td>\n      <td>None</td>\n      <td>None</td>\n      <td>None</td>\n      <td>False</td>\n      <td>users</td>\n      <td>2019-05-13T16:15:40Z</td>\n      <td>170000000000016</td>\n      <td>get</td>\n      <td>...</td>\n      <td>{'user': 5443278, 'context': None, 'asset': No...</td>\n      <td>False</td>\n      <td>165.123.108.90</td>\n      <td>0.085913</td>\n      <td>1b60f5c1308c92d21de3b361cc115d62</td>\n      <td>None</td>\n      <td>2019-05-13T16:15:40Z</td>\n      <td>https://canvas.upenn.edu/api/v1/users/5443278</td>\n      <td>python-requests/2.21.0</td>\n      <td>None</td>\n    </tr>\n    <tr>\n      <th>16</th>\n      <td>api_show</td>\n      <td>User-Generated</td>\n      <td>None</td>\n      <td>None</td>\n      <td>None</td>\n      <td>False</td>\n      <td>users</td>\n      <td>2019-05-13T16:15:39Z</td>\n      <td>170000000000016</td>\n      <td>get</td>\n      <td>...</td>\n      <td>{'user': 5443278, 'context': None, 'asset': No...</td>\n      <td>False</td>\n      <td>165.123.108.90</td>\n      <td>0.118818</td>\n      <td>3dcf2805c912f0133ac20fbad8191622</td>\n      <td>None</td>\n      <td>2019-05-13T16:15:39Z</td>\n      <td>https://canvas.upenn.edu/api/v1/users/5443278</td>\n      <td>python-requests/2.21.0</td>\n      <td>None</td>\n    </tr>\n    <tr>\n      <th>17</th>\n      <td>api_show</td>\n      <td>User-Generated</td>\n      <td>None</td>\n      <td>None</td>\n      <td>None</td>\n      <td>False</td>\n      <td>users</td>\n      <td>2019-05-13T16:15:39Z</td>\n      <td>170000000000016</td>\n      <td>get</td>\n      <td>...</td>\n      <td>{'user': 5443278, 'context': None, 'asset': No...</td>\n      <td>False</td>\n      <td>165.123.108.90</td>\n      <td>0.094588</td>\n      <td>58921565c269fd68c58fc8dce41d1dc6</td>\n      <td>None</td>\n      <td>2019-05-13T16:15:39Z</td>\n      <td>https://canvas.upenn.edu/api/v1/users/5443278</td>\n      <td>python-requests/2.21.0</td>\n      <td>None</td>\n    </tr>\n    <tr>\n      <th>18</th>\n      <td>api_show</td>\n      <td>User-Generated</td>\n      <td>None</td>\n      <td>None</td>\n      <td>None</td>\n      <td>False</td>\n      <td>users</td>\n      <td>2019-05-13T16:15:38Z</td>\n      <td>170000000000016</td>\n      <td>get</td>\n      <td>...</td>\n      <td>{'user': 5443278, 'context': None, 'asset': No...</td>\n      <td>False</td>\n      <td>165.123.108.90</td>\n      <td>0.078694</td>\n      <td>ec4e080a7c78b6e8d80a443352d15456</td>\n      <td>None</td>\n      <td>2019-05-13T16:15:38Z</td>\n      <td>https://canvas.upenn.edu/api/v1/users/5443278</td>\n      <td>python-requests/2.21.0</td>\n      <td>None</td>\n    </tr>\n    <tr>\n      <th>19</th>\n      <td>api_show</td>\n      <td>User-Generated</td>\n      <td>None</td>\n      <td>None</td>\n      <td>None</td>\n      <td>False</td>\n      <td>users</td>\n      <td>2019-05-13T16:14:43Z</td>\n      <td>170000000000016</td>\n      <td>get</td>\n      <td>...</td>\n      <td>{'user': 5443278, 'context': None, 'asset': No...</td>\n      <td>False</td>\n      <td>165.123.108.90</td>\n      <td>0.080964</td>\n      <td>d0c7e22cf96e9fb2758bc800dc98b90f</td>\n      <td>None</td>\n      <td>2019-05-13T16:14:43Z</td>\n      <td>https://canvas.upenn.edu/api/v1/users/5443278</td>\n      <td>python-requests/2.21.0</td>\n      <td>None</td>\n    </tr>\n    <tr>\n      <th>20</th>\n      <td>api_show</td>\n      <td>User-Generated</td>\n      <td>None</td>\n      <td>None</td>\n      <td>None</td>\n      <td>False</td>\n      <td>users</td>\n      <td>2019-05-13T16:14:25Z</td>\n      <td>170000000000016</td>\n      <td>get</td>\n      <td>...</td>\n      <td>{'user': 5443278, 'context': None, 'asset': No...</td>\n      <td>False</td>\n      <td>165.123.108.90</td>\n      <td>0.270937</td>\n      <td>ab322aa787cbcbce8e849029c42c175c</td>\n      <td>None</td>\n      <td>2019-05-13T16:14:25Z</td>\n      <td>https://canvas.upenn.edu/api/v1/users/5443278</td>\n      <td>python-requests/2.21.0</td>\n      <td>None</td>\n    </tr>\n    <tr>\n      <th>21</th>\n      <td>api_show</td>\n      <td>User-Generated</td>\n      <td>None</td>\n      <td>None</td>\n      <td>None</td>\n      <td>False</td>\n      <td>users</td>\n      <td>2019-05-13T16:14:13Z</td>\n      <td>170000000000016</td>\n      <td>get</td>\n      <td>...</td>\n      <td>{'user': 5443278, 'context': None, 'asset': No...</td>\n      <td>False</td>\n      <td>165.123.108.90</td>\n      <td>0.160249</td>\n      <td>0e24a65d0007161e9cc223cc7f569097</td>\n      <td>None</td>\n      <td>2019-05-13T16:14:13Z</td>\n      <td>https://canvas.upenn.edu/api/v1/users/5443278</td>\n      <td>python-requests/2.21.0</td>\n      <td>None</td>\n    </tr>\n    <tr>\n      <th>22</th>\n      <td>api_show</td>\n      <td>User-Generated</td>\n      <td>None</td>\n      <td>None</td>\n      <td>None</td>\n      <td>False</td>\n      <td>users</td>\n      <td>2019-05-13T16:07:58Z</td>\n      <td>170000000000016</td>\n      <td>get</td>\n      <td>...</td>\n      <td>{'user': 5443278, 'context': None, 'asset': No...</td>\n      <td>False</td>\n      <td>165.123.108.90</td>\n      <td>0.121798</td>\n      <td>ce0274d3490130a6260304477f6007e7</td>\n      <td>None</td>\n      <td>2019-05-13T16:07:58Z</td>\n      <td>https://canvas.upenn.edu/api/v1/users/5443278</td>\n      <td>python-requests/2.21.0</td>\n      <td>None</td>\n    </tr>\n    <tr>\n      <th>23</th>\n      <td>api_show</td>\n      <td>User-Generated</td>\n      <td>None</td>\n      <td>None</td>\n      <td>None</td>\n      <td>False</td>\n      <td>users</td>\n      <td>2019-05-13T16:07:18Z</td>\n      <td>170000000000016</td>\n      <td>get</td>\n      <td>...</td>\n      <td>{'user': 5443278, 'context': None, 'asset': No...</td>\n      <td>False</td>\n      <td>165.123.108.90</td>\n      <td>0.074698</td>\n      <td>f56a3107749fed99cf93ae494d6066d6</td>\n      <td>None</td>\n      <td>2019-05-13T16:07:18Z</td>\n      <td>https://canvas.upenn.edu/api/v1/users/5443278</td>\n      <td>python-requests/2.21.0</td>\n      <td>None</td>\n    </tr>\n    <tr>\n      <th>24</th>\n      <td>api_show</td>\n      <td>User-Generated</td>\n      <td>None</td>\n      <td>None</td>\n      <td>None</td>\n      <td>False</td>\n      <td>users</td>\n      <td>2019-05-13T16:06:59Z</td>\n      <td>170000000000016</td>\n      <td>get</td>\n      <td>...</td>\n      <td>{'user': 5443278, 'context': None, 'asset': No...</td>\n      <td>False</td>\n      <td>165.123.108.90</td>\n      <td>0.118397</td>\n      <td>e729f92172b4367ae78b47987c9e105e</td>\n      <td>None</td>\n      <td>2019-05-13T16:06:59Z</td>\n      <td>https://canvas.upenn.edu/api/v1/users/5443278</td>\n      <td>python-requests/2.21.0</td>\n      <td>None</td>\n    </tr>\n  </tbody>\n</table>\n<p>25 rows × 22 columns</p>\n</div>",
          "text/plain": "      action        app_name asset_type asset_user_access_id context_type  \\\n0   api_show  User-Generated       None                 None         None   \n1   api_show  User-Generated       None                 None         None   \n2   api_show  User-Generated       None                 None         None   \n3   api_show  User-Generated       None                 None         None   \n4   api_show  User-Generated       None                 None         None   \n5   api_show  User-Generated       None                 None         None   \n6   api_show  User-Generated       None                 None         None   \n7   api_show  User-Generated       None                 None         None   \n8   api_show  User-Generated       None                 None         None   \n9   api_show  User-Generated       None                 None         None   \n10  api_show  User-Generated       None                 None         None   \n11  api_show  User-Generated       None                 None         None   \n12  api_show  User-Generated       None                 None         None   \n13  api_show  User-Generated       None                 None         None   \n14  api_show  User-Generated       None                 None         None   \n15  api_show  User-Generated       None                 None         None   \n16  api_show  User-Generated       None                 None         None   \n17  api_show  User-Generated       None                 None         None   \n18  api_show  User-Generated       None                 None         None   \n19  api_show  User-Generated       None                 None         None   \n20  api_show  User-Generated       None                 None         None   \n21  api_show  User-Generated       None                 None         None   \n22  api_show  User-Generated       None                 None         None   \n23  api_show  User-Generated       None                 None         None   \n24  api_show  User-Generated       None                 None         None   \n\n    contributed controller            created_at  developer_key_id  \\\n0         False      users  2019-05-13T16:22:31Z   170000000000016   \n1         False      users  2019-05-13T16:22:26Z   170000000000016   \n2         False      users  2019-05-13T16:22:16Z   170000000000016   \n3         False      users  2019-05-13T16:22:02Z   170000000000016   \n4         False      users  2019-05-13T16:21:58Z   170000000000016   \n5         False      users  2019-05-13T16:21:37Z   170000000000016   \n6         False      users  2019-05-13T16:21:36Z   170000000000016   \n7         False      users  2019-05-13T16:21:03Z   170000000000016   \n8         False      users  2019-05-13T16:21:02Z   170000000000016   \n9         False      users  2019-05-13T16:19:45Z   170000000000016   \n10        False      users  2019-05-13T16:17:47Z   170000000000016   \n11        False      users  2019-05-13T16:17:06Z   170000000000016   \n12        False      users  2019-05-13T16:16:58Z   170000000000016   \n13        False      users  2019-05-13T16:15:41Z   170000000000016   \n14        False      users  2019-05-13T16:15:40Z   170000000000016   \n15        False      users  2019-05-13T16:15:40Z   170000000000016   \n16        False      users  2019-05-13T16:15:39Z   170000000000016   \n17        False      users  2019-05-13T16:15:39Z   170000000000016   \n18        False      users  2019-05-13T16:15:38Z   170000000000016   \n19        False      users  2019-05-13T16:14:43Z   170000000000016   \n20        False      users  2019-05-13T16:14:25Z   170000000000016   \n21        False      users  2019-05-13T16:14:13Z   170000000000016   \n22        False      users  2019-05-13T16:07:58Z   170000000000016   \n23        False      users  2019-05-13T16:07:18Z   170000000000016   \n24        False      users  2019-05-13T16:06:59Z   170000000000016   \n\n   http_method  ...                                              links  \\\n0          get  ...  {'user': 5443278, 'context': None, 'asset': No...   \n1          get  ...  {'user': 5443278, 'context': None, 'asset': No...   \n2          get  ...  {'user': 5443278, 'context': None, 'asset': No...   \n3          get  ...  {'user': 5443278, 'context': None, 'asset': No...   \n4          get  ...  {'user': 5443278, 'context': None, 'asset': No...   \n5          get  ...  {'user': 5443278, 'context': None, 'asset': No...   \n6          get  ...  {'user': 5443278, 'context': None, 'asset': No...   \n7          get  ...  {'user': 5443278, 'context': None, 'asset': No...   \n8          get  ...  {'user': 5443278, 'context': None, 'asset': No...   \n9          get  ...  {'user': 5443278, 'context': None, 'asset': No...   \n10         get  ...  {'user': 5443278, 'context': None, 'asset': No...   \n11         get  ...  {'user': 5443278, 'context': None, 'asset': No...   \n12         get  ...  {'user': 5443278, 'context': None, 'asset': No...   \n13         get  ...  {'user': 5443278, 'context': None, 'asset': No...   \n14         get  ...  {'user': 5443278, 'context': None, 'asset': No...   \n15         get  ...  {'user': 5443278, 'context': None, 'asset': No...   \n16         get  ...  {'user': 5443278, 'context': None, 'asset': No...   \n17         get  ...  {'user': 5443278, 'context': None, 'asset': No...   \n18         get  ...  {'user': 5443278, 'context': None, 'asset': No...   \n19         get  ...  {'user': 5443278, 'context': None, 'asset': No...   \n20         get  ...  {'user': 5443278, 'context': None, 'asset': No...   \n21         get  ...  {'user': 5443278, 'context': None, 'asset': No...   \n22         get  ...  {'user': 5443278, 'context': None, 'asset': No...   \n23         get  ...  {'user': 5443278, 'context': None, 'asset': No...   \n24         get  ...  {'user': 5443278, 'context': None, 'asset': No...   \n\n   participated       remote_ip  render_time  \\\n0         False  165.123.108.90     0.103087   \n1         False  165.123.108.90     0.122861   \n2         False  165.123.108.90     0.088944   \n3         False  165.123.108.90     0.163653   \n4         False  165.123.108.90     0.134529   \n5         False  165.123.108.90     0.068290   \n6         False  165.123.108.90     0.075246   \n7         False  165.123.108.90     0.085063   \n8         False  165.123.108.90     0.077631   \n9         False  165.123.108.90     0.129155   \n10        False  165.123.108.90     0.119106   \n11        False  165.123.108.90     0.097454   \n12        False  165.123.108.90     0.089420   \n13        False  165.123.108.90     0.111146   \n14        False  165.123.108.90     0.067307   \n15        False  165.123.108.90     0.085913   \n16        False  165.123.108.90     0.118818   \n17        False  165.123.108.90     0.094588   \n18        False  165.123.108.90     0.078694   \n19        False  165.123.108.90     0.080964   \n20        False  165.123.108.90     0.270937   \n21        False  165.123.108.90     0.160249   \n22        False  165.123.108.90     0.121798   \n23        False  165.123.108.90     0.074698   \n24        False  165.123.108.90     0.118397   \n\n                          session_id  summarized            updated_at  \\\n0   7bf0c3817b22ef4962823b4f81015fc5        None  2019-05-13T16:22:31Z   \n1   b5e1f872a74c54d6a3f20ab1d687b170        None  2019-05-13T16:22:26Z   \n2   94826d7d7e569a33e32d0e9502c5e32d        None  2019-05-13T16:22:16Z   \n3   9f469ba92cb57327104f8fc3f2ca5b50        None  2019-05-13T16:22:02Z   \n4   7a887d542b7ee9bd5c33ec76439a66d1        None  2019-05-13T16:21:58Z   \n5   0f2f4cdfeedd6f4cf5c8c724ae919bb8        None  2019-05-13T16:21:37Z   \n6   ef9f38814072919ae826860e2488acba        None  2019-05-13T16:21:36Z   \n7   7f910020f8a7a922f44fdc298aea0d70        None  2019-05-13T16:21:03Z   \n8   2683f46218c49fe717945e35ce1bb610        None  2019-05-13T16:21:02Z   \n9   b3402b477de2b8689ea1e3aa08974483        None  2019-05-13T16:19:45Z   \n10  9d08fef0a4e9a9aec4fda3c1cd7b110b        None  2019-05-13T16:17:47Z   \n11  beab170c46511dba9ed93366d342a52d        None  2019-05-13T16:17:06Z   \n12  9c90d8519be400f2ed12f251866b9c64        None  2019-05-13T16:16:58Z   \n13  dc988c40f29b52abbafb140655d2723e        None  2019-05-13T16:15:41Z   \n14  ed47cf756b1f6c759caa17da47a430fb        None  2019-05-13T16:15:40Z   \n15  1b60f5c1308c92d21de3b361cc115d62        None  2019-05-13T16:15:40Z   \n16  3dcf2805c912f0133ac20fbad8191622        None  2019-05-13T16:15:39Z   \n17  58921565c269fd68c58fc8dce41d1dc6        None  2019-05-13T16:15:39Z   \n18  ec4e080a7c78b6e8d80a443352d15456        None  2019-05-13T16:15:38Z   \n19  d0c7e22cf96e9fb2758bc800dc98b90f        None  2019-05-13T16:14:43Z   \n20  ab322aa787cbcbce8e849029c42c175c        None  2019-05-13T16:14:25Z   \n21  0e24a65d0007161e9cc223cc7f569097        None  2019-05-13T16:14:13Z   \n22  ce0274d3490130a6260304477f6007e7        None  2019-05-13T16:07:58Z   \n23  f56a3107749fed99cf93ae494d6066d6        None  2019-05-13T16:07:18Z   \n24  e729f92172b4367ae78b47987c9e105e        None  2019-05-13T16:06:59Z   \n\n                                              url              user_agent  \\\n0   https://canvas.upenn.edu/api/v1/users/5443278  python-requests/2.21.0   \n1   https://canvas.upenn.edu/api/v1/users/5443277  python-requests/2.21.0   \n2   https://canvas.upenn.edu/api/v1/users/5443277  python-requests/2.21.0   \n3   https://canvas.upenn.edu/api/v1/users/5443278  python-requests/2.21.0   \n4   https://canvas.upenn.edu/api/v1/users/5443278  python-requests/2.21.0   \n5   https://canvas.upenn.edu/api/v1/users/5443278  python-requests/2.21.0   \n6   https://canvas.upenn.edu/api/v1/users/5443278  python-requests/2.21.0   \n7   https://canvas.upenn.edu/api/v1/users/5443278  python-requests/2.21.0   \n8   https://canvas.upenn.edu/api/v1/users/5443278  python-requests/2.21.0   \n9   https://canvas.upenn.edu/api/v1/users/5443278  python-requests/2.21.0   \n10  https://canvas.upenn.edu/api/v1/users/5443278  python-requests/2.21.0   \n11  https://canvas.upenn.edu/api/v1/users/5443278  python-requests/2.21.0   \n12  https://canvas.upenn.edu/api/v1/users/5443278  python-requests/2.21.0   \n13  https://canvas.upenn.edu/api/v1/users/5443278  python-requests/2.21.0   \n14  https://canvas.upenn.edu/api/v1/users/5443278  python-requests/2.21.0   \n15  https://canvas.upenn.edu/api/v1/users/5443278  python-requests/2.21.0   \n16  https://canvas.upenn.edu/api/v1/users/5443278  python-requests/2.21.0   \n17  https://canvas.upenn.edu/api/v1/users/5443278  python-requests/2.21.0   \n18  https://canvas.upenn.edu/api/v1/users/5443278  python-requests/2.21.0   \n19  https://canvas.upenn.edu/api/v1/users/5443278  python-requests/2.21.0   \n20  https://canvas.upenn.edu/api/v1/users/5443278  python-requests/2.21.0   \n21  https://canvas.upenn.edu/api/v1/users/5443278  python-requests/2.21.0   \n22  https://canvas.upenn.edu/api/v1/users/5443278  python-requests/2.21.0   \n23  https://canvas.upenn.edu/api/v1/users/5443278  python-requests/2.21.0   \n24  https://canvas.upenn.edu/api/v1/users/5443278  python-requests/2.21.0   \n\n   user_request  \n0          None  \n1          None  \n2          None  \n3          None  \n4          None  \n5          None  \n6          None  \n7          None  \n8          None  \n9          None  \n10         None  \n11         None  \n12         None  \n13         None  \n14         None  \n15         None  \n16         None  \n17         None  \n18         None  \n19         None  \n20         None  \n21         None  \n22         None  \n23         None  \n24         None  \n\n[25 rows x 22 columns]"
         },
         "metadata": {},
         "output_type": "display_data"
        }
       ]
      }
     },
     "11f0aa6fe227450a9b2eac7a4331fac2": {
      "model_module": "@jupyter-widgets/base",
      "model_module_version": "1.1.0",
      "model_name": "LayoutModel",
      "state": {
       "grid_area": "footer",
       "width": "auto"
      }
     },
     "12fd789bbd7c4e32b30169126673b9c3": {
      "model_module": "@jupyter-widgets/controls",
      "model_module_version": "1.4.0",
      "model_name": "DescriptionStyleModel",
      "state": {
       "description_width": ""
      }
     },
     "130bf3164be84b41998c978e90753c48": {
      "model_module": "@jupyter-widgets/base",
      "model_module_version": "1.1.0",
      "model_name": "LayoutModel",
      "state": {
       "grid_area": "sidebar",
       "width": "auto"
      }
     },
     "13539ab79bad4a8da951526ea0d9d610": {
      "model_module": "@jupyter-widgets/controls",
      "model_module_version": "1.4.0",
      "model_name": "GridBoxModel",
      "state": {
       "children": [
        "IPY_MODEL_cf14d9d013434183815eb68819c290ad",
        "IPY_MODEL_93341350faf948a280efd14649bf3571",
        "IPY_MODEL_72a108a4cdab4babbdd89a78b8d5000a",
        "IPY_MODEL_47290da862ad44f190ec69610da3be0c"
       ],
       "layout": "IPY_MODEL_582cd9d601c14d0ea48da9251eed282e"
      }
     },
     "1371263007cc499fbee1e58ce45947c3": {
      "model_module": "@jupyter-widgets/output",
      "model_module_version": "1.0.0",
      "model_name": "OutputModel",
      "state": {
       "layout": "IPY_MODEL_36a642ead256454b98fc440ddd0c282c"
      }
     },
     "13c088c6b0d34b4eb1c5ec00808cd81d": {
      "model_module": "@jupyter-widgets/controls",
      "model_module_version": "1.4.0",
      "model_name": "DescriptionStyleModel",
      "state": {
       "description_width": ""
      }
     },
     "141c7cb009344378baf64861562ea77b": {
      "model_module": "@jupyter-widgets/controls",
      "model_module_version": "1.4.0",
      "model_name": "DatePickerModel",
      "state": {
       "description": "start date",
       "disabled": false,
       "layout": "IPY_MODEL_0368dad28ef042be8cc0c3224ed5df62",
       "style": "IPY_MODEL_a56336d1aafc4510b466f7c398101da7"
      }
     },
     "143773847497466995fdddd6818336ff": {
      "model_module": "@jupyter-widgets/controls",
      "model_module_version": "1.4.0",
      "model_name": "ButtonStyleModel",
      "state": {}
     },
     "1438ecbb662b40468fa6417e2c9613a4": {
      "model_module": "@jupyter-widgets/controls",
      "model_module_version": "1.4.0",
      "model_name": "DescriptionStyleModel",
      "state": {
       "description_width": ""
      }
     },
     "143a8df8740e4ceeaf143e26110fb8c1": {
      "model_module": "@jupyter-widgets/base",
      "model_module_version": "1.1.0",
      "model_name": "LayoutModel",
      "state": {}
     },
     "15c639886a41403fae09f17959983671": {
      "model_module": "@jupyter-widgets/controls",
      "model_module_version": "1.4.0",
      "model_name": "DropdownModel",
      "state": {
       "_options_labels": [
        "ALL",
        "API Token Scopes",
        "Account Domain Lookups",
        "Account Notifications",
        "Account Reports",
        "Accounts",
        "Admins",
        "Analytics",
        "Announcement External Feeds",
        "Announcements",
        "Appointment Groups",
        "Assignment Extensions",
        "Assignment Groups",
        "Assignments",
        "Authentication Providers",
        "Authentications Log",
        "Blueprint Courses",
        "Bookmarks",
        "Brand Configs",
        "Calendar Events",
        "Collaborations",
        "CommMessages",
        "Communication Channels",
        "Conferences",
        "Content Exports",
        "Content Migrations",
        "Content Security Policy Settings",
        "Conversations",
        "Course Audit log",
        "Course Quiz Extensions",
        "Courses",
        "Custom Gradebook Columns",
        "Discussion Topics",
        "Enrollment Terms",
        "Enrollments",
        "Error Reports",
        "External Tools",
        "Favorites",
        "Feature Flags",
        "Files",
        "Grade Change Log",
        "Gradebook History",
        "Grading Periods",
        "Grading Standards",
        "Group Categories",
        "Groups",
        "JWTs",
        "Late Policy",
        "LiveAssessments",
        "Logins",
        "Moderated Grading",
        "Modules",
        "Notification Preferences",
        "OAuth 2",
        "Outcome Groups",
        "Outcome Imports",
        "Outcome Results",
        "Outcomes",
        "Pages",
        "Peer Reviews",
        "Plagiarism Detection Platform Assignments",
        "Planner",
        "Poll Sessions",
        "PollChoices",
        "PollSubmissions",
        "Polls",
        "Proficiency Ratings",
        "Progress",
        "Quiz Assignment Overrides",
        "Quiz Extensions",
        "Quiz IP Filters",
        "Quiz Question Groups",
        "Quiz Questions",
        "Quiz Reports",
        "Quiz Statistics",
        "Quiz Submission Events",
        "Quiz Submission Files",
        "Quiz Submission Questions",
        "Quiz Submission User List",
        "Quiz Submissions",
        "Quizzes",
        "Roles",
        "Rubrics",
        "SIS Import Errors",
        "SIS Imports",
        "SIS Integration",
        "Search",
        "Sections",
        "Services",
        "Shared Brand Configs",
        "Submission Comments",
        "Submissions",
        "Tabs",
        "User Observees",
        "Users",
        "ePub Exports"
       ],
       "description": "Resource",
       "index": 0,
       "layout": "IPY_MODEL_9ee3c4c4d37c479cba88bee9d2173b4a",
       "style": "IPY_MODEL_3354f5f78b2345d08f47f3f92e164fd7"
      }
     },
     "1634e3ef928d4a73bfa08574bcd80906": {
      "model_module": "@jupyter-widgets/output",
      "model_module_version": "1.0.0",
      "model_name": "OutputModel",
      "state": {
       "layout": "IPY_MODEL_73147825f32e4f0b8644c6a2e7756eed"
      }
     },
     "16784f33fdce49eab4122d6fb8077adb": {
      "model_module": "@jupyter-widgets/controls",
      "model_module_version": "1.4.0",
      "model_name": "DescriptionStyleModel",
      "state": {
       "description_width": ""
      }
     },
     "1689e2ede211439fa2e27c0b93ff59e7": {
      "model_module": "@jupyter-widgets/base",
      "model_module_version": "1.1.0",
      "model_name": "LayoutModel",
      "state": {
       "align_items": "center",
       "grid_area": "right",
       "width": "90%"
      }
     },
     "1692577695f345448573ea51e70eb731": {
      "model_module": "@jupyter-widgets/controls",
      "model_module_version": "1.4.0",
      "model_name": "ButtonStyleModel",
      "state": {}
     },
     "16bd9fea8e924ce9b139c58a5615854f": {
      "model_module": "@jupyter-widgets/controls",
      "model_module_version": "1.4.0",
      "model_name": "DescriptionStyleModel",
      "state": {
       "description_width": ""
      }
     },
     "1762cbee2eb449969a6cd37545bc5ca6": {
      "model_module": "@jupyter-widgets/output",
      "model_module_version": "1.0.0",
      "model_name": "OutputModel",
      "state": {
       "layout": "IPY_MODEL_7939047f43db41b697bcfb5bbd489319"
      }
     },
     "17a803b54b3c40bb94433faed1429d1c": {
      "model_module": "@jupyter-widgets/controls",
      "model_module_version": "1.4.0",
      "model_name": "TextModel",
      "state": {
       "layout": "IPY_MODEL_f0812b839c8046449bddcb218d6d390b",
       "placeholder": "user_id",
       "style": "IPY_MODEL_de0e7ea274f94a89a7a877aebbef7d54",
       "value": "5443278"
      }
     },
     "17eba4638dbe4f9884617c5d1fb01c4d": {
      "model_module": "@jupyter-widgets/controls",
      "model_module_version": "1.4.0",
      "model_name": "DescriptionStyleModel",
      "state": {
       "description_width": ""
      }
     },
     "1823c7538d0745feac36b12b7e98c85f": {
      "model_module": "@jupyter-widgets/controls",
      "model_module_version": "1.4.0",
      "model_name": "TextModel",
      "state": {
       "layout": "IPY_MODEL_f316961eff8a43cfbeff66f13e099238",
       "placeholder": "user_id",
       "style": "IPY_MODEL_750bcb88b3604c3bb844829e61264d23",
       "value": "5443278"
      }
     },
     "184f3d0cf803492a8199ee56d70a0c1e": {
      "model_module": "@jupyter-widgets/base",
      "model_module_version": "1.1.0",
      "model_name": "LayoutModel",
      "state": {
       "grid_template_areas": "\n            \" . header header .\"\n            \"left left right right\"\n            \" . footer footer . \"\n            ",
       "grid_template_columns": "25% 25% 25% 25%",
       "grid_template_rows": "auto auto auto",
       "margin": "2% 0% 2% 10%",
       "width": "80%"
      }
     },
     "18833886feeb4551b96e9f9a483d2bc2": {
      "model_module": "@jupyter-widgets/controls",
      "model_module_version": "1.4.0",
      "model_name": "DescriptionStyleModel",
      "state": {
       "description_width": ""
      }
     },
     "188873ad659740458359c1f8e5a6113b": {
      "model_module": "@jupyter-widgets/controls",
      "model_module_version": "1.4.0",
      "model_name": "TextModel",
      "state": {
       "layout": "IPY_MODEL_55c3e5c9fc9d442b95c79ffbeeb4415c",
       "placeholder": "user_id",
       "style": "IPY_MODEL_4acf375aeb0e46a8a7c99f366931f7dd",
       "value": "5443278"
      }
     },
     "1899fae55f48481097d4242637ea79ce": {
      "model_module": "@jupyter-widgets/controls",
      "model_module_version": "1.4.0",
      "model_name": "ButtonStyleModel",
      "state": {}
     },
     "18bf874d428340a69c3be7d1c0a0ba34": {
      "model_module": "@jupyter-widgets/output",
      "model_module_version": "1.0.0",
      "model_name": "OutputModel",
      "state": {
       "layout": "IPY_MODEL_87333933edfc49dc99b6d77427aa7bdb"
      }
     },
     "19435e822c3f4074b2158e9f8b66fd8f": {
      "model_module": "@jupyter-widgets/base",
      "model_module_version": "1.1.0",
      "model_name": "LayoutModel",
      "state": {
       "padding": "5px 20px 20px 20px",
       "width": "40%"
      }
     },
     "19b8ce3eeed84d2a8f2ffd85bac6680d": {
      "model_module": "@jupyter-widgets/controls",
      "model_module_version": "1.4.0",
      "model_name": "DescriptionStyleModel",
      "state": {
       "description_width": ""
      }
     },
     "1adc1bd8b0b946af9bc1bf5f96d66fe6": {
      "model_module": "@jupyter-widgets/controls",
      "model_module_version": "1.4.0",
      "model_name": "ButtonStyleModel",
      "state": {}
     },
     "1b45f488bad9422ebb91c770c0452a2e": {
      "model_module": "@jupyter-widgets/controls",
      "model_module_version": "1.4.0",
      "model_name": "DescriptionStyleModel",
      "state": {
       "description_width": ""
      }
     },
     "1b8c618d3be3493ea8f08bf672ef8824": {
      "model_module": "@jupyter-widgets/controls",
      "model_module_version": "1.4.0",
      "model_name": "DatePickerModel",
      "state": {
       "description": "start date",
       "disabled": false,
       "layout": "IPY_MODEL_3b3fd834c6f3494485ee8623accea921",
       "style": "IPY_MODEL_1bb3f6b8cfbb4ec09661ca62f99e8e40"
      }
     },
     "1b9ea316326f485ea325b8ae26705271": {
      "model_module": "@jupyter-widgets/controls",
      "model_module_version": "1.4.0",
      "model_name": "ButtonStyleModel",
      "state": {}
     },
     "1bb3f6b8cfbb4ec09661ca62f99e8e40": {
      "model_module": "@jupyter-widgets/controls",
      "model_module_version": "1.4.0",
      "model_name": "DescriptionStyleModel",
      "state": {
       "description_width": ""
      }
     },
     "1c4441bcfaed4660a7d637a90683aeb5": {
      "model_module": "@jupyter-widgets/controls",
      "model_module_version": "1.4.0",
      "model_name": "DatePickerModel",
      "state": {
       "description": "start date",
       "disabled": false,
       "layout": "IPY_MODEL_74fcfe6408f844d2bc1ff12cef874df4",
       "style": "IPY_MODEL_9bcd7b6ce20f4e74a152102d10de6a6c"
      }
     },
     "1c711970fc804a16aa1ed5df5acef297": {
      "model_module": "@jupyter-widgets/controls",
      "model_module_version": "1.4.0",
      "model_name": "DatePickerModel",
      "state": {
       "description": "start date",
       "disabled": false,
       "layout": "IPY_MODEL_3538a14a249c4b54a1c0f45eed21ff08",
       "style": "IPY_MODEL_2202d761d1c64c3092a34f90cc7616d6"
      }
     },
     "1d780711d03f4ff9be1a02b1ef73f658": {
      "model_module": "@jupyter-widgets/controls",
      "model_module_version": "1.4.0",
      "model_name": "DescriptionStyleModel",
      "state": {
       "description_width": ""
      }
     },
     "1d8965d1afb747ff8a0f45aae53694cd": {
      "model_module": "@jupyter-widgets/controls",
      "model_module_version": "1.4.0",
      "model_name": "ButtonModel",
      "state": {
       "button_style": "info",
       "description": "Get PageViews",
       "layout": "IPY_MODEL_279b393d06914cae8b40360dcf429f24",
       "style": "IPY_MODEL_a12f0c83860c4055a4ae3f7ff13524da"
      }
     },
     "1da05de0181c412082b4e16fb8eda2b5": {
      "model_module": "@jupyter-widgets/controls",
      "model_module_version": "1.4.0",
      "model_name": "TextModel",
      "state": {
       "layout": "IPY_MODEL_715d66e7594f4cc69226fbb7ac89b7e0",
       "placeholder": "user_id",
       "style": "IPY_MODEL_aa0f1068d7684b649750e044ab6f9c75"
      }
     },
     "1e2b736653184e8c87adc3bd36c981fc": {
      "model_module": "@jupyter-widgets/base",
      "model_module_version": "1.1.0",
      "model_name": "LayoutModel",
      "state": {
       "align_items": "center",
       "grid_area": "right",
       "width": "90%"
      }
     },
     "1e3f5b7185dc419ba1f351413ed491bf": {
      "model_module": "@jupyter-widgets/controls",
      "model_module_version": "1.4.0",
      "model_name": "TextModel",
      "state": {
       "layout": "IPY_MODEL_66459ee2022e48a28ac37912659c2d8c",
       "placeholder": "user_id",
       "style": "IPY_MODEL_0a1b953c183f4acfab01cafdd3f342de",
       "value": "5443278"
      }
     },
     "1e8678c8a4c94a96866c47833fa1bfaa": {
      "model_module": "@jupyter-widgets/base",
      "model_module_version": "1.1.0",
      "model_name": "LayoutModel",
      "state": {
       "align_items": "center",
       "grid_area": "left",
       "width": "90%"
      }
     },
     "1ec2be5865b344a5b34805e445c9e3f8": {
      "model_module": "@jupyter-widgets/base",
      "model_module_version": "1.1.0",
      "model_name": "LayoutModel",
      "state": {}
     },
     "1ed818d2c64641e19a019c8fc38e781f": {
      "model_module": "@jupyter-widgets/controls",
      "model_module_version": "1.4.0",
      "model_name": "ButtonStyleModel",
      "state": {}
     },
     "1f1df013a6cc45c5aa50c877c4580672": {
      "model_module": "@jupyter-widgets/controls",
      "model_module_version": "1.4.0",
      "model_name": "ButtonModel",
      "state": {
       "button_style": "success",
       "description": "Authorized",
       "disabled": true,
       "icon": "lock",
       "layout": "IPY_MODEL_53f59d31017b4c8383f1b29b9ee8da73",
       "style": "IPY_MODEL_1b9ea316326f485ea325b8ae26705271"
      }
     },
     "1f4ec903102843edb4fc56d1b8b370aa": {
      "model_module": "@jupyter-widgets/controls",
      "model_module_version": "1.4.0",
      "model_name": "ButtonStyleModel",
      "state": {}
     },
     "1f56001832524001834c4bc5640c0661": {
      "model_module": "@jupyter-widgets/controls",
      "model_module_version": "1.4.0",
      "model_name": "DescriptionStyleModel",
      "state": {
       "description_width": ""
      }
     },
     "1fb792965b23445e8b2fde744fca7dbc": {
      "model_module": "@jupyter-widgets/controls",
      "model_module_version": "1.4.0",
      "model_name": "DescriptionStyleModel",
      "state": {
       "description_width": ""
      }
     },
     "1fc9e05ba68c4e65820084adc264002b": {
      "model_module": "@jupyter-widgets/base",
      "model_module_version": "1.1.0",
      "model_name": "LayoutModel",
      "state": {
       "align_items": "center",
       "grid_area": "right",
       "width": "90%"
      }
     },
     "1fca5efb91084ff2bbaee6d7deab6d77": {
      "model_module": "@jupyter-widgets/output",
      "model_module_version": "1.0.0",
      "model_name": "OutputModel",
      "state": {
       "layout": "IPY_MODEL_a838674a7eb9433eb0cf7b2d2edc33e9"
      }
     },
     "1ff9bd267a4544b2a0888e6ffeb90e8e": {
      "model_module": "@jupyter-widgets/controls",
      "model_module_version": "1.4.0",
      "model_name": "DatePickerModel",
      "state": {
       "description": "end date",
       "disabled": false,
       "layout": "IPY_MODEL_89bb13142ca0428d87dba10b09e9d700",
       "style": "IPY_MODEL_03c79add5f0a4b009e34cab040845fd3"
      }
     },
     "201f2ff88b6046b7bcb32d530a22fd26": {
      "model_module": "@jupyter-widgets/controls",
      "model_module_version": "1.4.0",
      "model_name": "DescriptionStyleModel",
      "state": {
       "description_width": ""
      }
     },
     "203902d1c67a4d74992d1bf19a906177": {
      "model_module": "@jupyter-widgets/controls",
      "model_module_version": "1.4.0",
      "model_name": "DescriptionStyleModel",
      "state": {
       "description_width": ""
      }
     },
     "205334decf45452f8d9433b74d340383": {
      "model_module": "@jupyter-widgets/controls",
      "model_module_version": "1.4.0",
      "model_name": "GridBoxModel",
      "state": {
       "children": [
        "IPY_MODEL_3ce7b2ff006e474c8d8be3a60c9b4335",
        "IPY_MODEL_3951689c2b05473385577bed63e11f5f",
        "IPY_MODEL_44ff6dade5ed4b41b66bbeb67a136824",
        "IPY_MODEL_ed3c8a1980194930a7ea8c17b5fee830"
       ],
       "layout": "IPY_MODEL_35911d9d8be94c5b90898cca0a4e5c9e"
      }
     },
     "21abb2f4e1cd45068dfe558363af5a6a": {
      "model_module": "@jupyter-widgets/controls",
      "model_module_version": "1.4.0",
      "model_name": "TextModel",
      "state": {
       "layout": "IPY_MODEL_3e0e65eb815c4937b739715c59089aaa",
       "placeholder": "user_id",
       "style": "IPY_MODEL_d4745aad80a4454d9be7f753cc74e9f3",
       "value": "5443278"
      }
     },
     "2202d761d1c64c3092a34f90cc7616d6": {
      "model_module": "@jupyter-widgets/controls",
      "model_module_version": "1.4.0",
      "model_name": "DescriptionStyleModel",
      "state": {
       "description_width": ""
      }
     },
     "22ec4aa125454a569d88bca69b00b859": {
      "model_module": "@jupyter-widgets/base",
      "model_module_version": "1.1.0",
      "model_name": "LayoutModel",
      "state": {}
     },
     "234df042b1304f38b6c818cb28ce512b": {
      "model_module": "@jupyter-widgets/controls",
      "model_module_version": "1.4.0",
      "model_name": "DatePickerModel",
      "state": {
       "description": "end date",
       "disabled": false,
       "layout": "IPY_MODEL_df9f65788ffe43adb4868ee1e54d42c2",
       "style": "IPY_MODEL_bf9d96c0a8e34660934f7f46e1f195d2"
      }
     },
     "23a30c0174db4d0f8672b77565489065": {
      "model_module": "@jupyter-widgets/controls",
      "model_module_version": "1.4.0",
      "model_name": "DescriptionStyleModel",
      "state": {
       "description_width": ""
      }
     },
     "23b8a4e0456a4fa19316025b0087f3c4": {
      "model_module": "@jupyter-widgets/controls",
      "model_module_version": "1.4.0",
      "model_name": "GridBoxModel",
      "state": {
       "children": [
        "IPY_MODEL_261e66bd07774c63901d1ad831c82b9c",
        "IPY_MODEL_d8dad22312044839aa5c21c03d1b7664",
        "IPY_MODEL_59a388c738184109ab29ba6f08b6d7f8",
        "IPY_MODEL_eb6d869459e249bf876d35c30f7a1218"
       ],
       "layout": "IPY_MODEL_e55cb7750ce64b42881de16d8a7d555a"
      }
     },
     "240eab24257543c095a9868273d2a3af": {
      "model_module": "@jupyter-widgets/base",
      "model_module_version": "1.1.0",
      "model_name": "LayoutModel",
      "state": {
       "align_items": "center",
       "grid_area": "left",
       "width": "90%"
      }
     },
     "2426d6db9fa6461e92a7829ee1c791c8": {
      "model_module": "@jupyter-widgets/base",
      "model_module_version": "1.1.0",
      "model_name": "LayoutModel",
      "state": {
       "grid_template_areas": "\n            \" . header header .\"\n            \"left left right right\"\n            \" . footer footer . \"\n            ",
       "grid_template_columns": "25% 25% 25% 25%",
       "grid_template_rows": "auto auto auto",
       "margin": "2% 0% 2% 10%",
       "width": "80%"
      }
     },
     "242a606cbd7743f7b16af2eda3a6fd0f": {
      "model_module": "@jupyter-widgets/base",
      "model_module_version": "1.1.0",
      "model_name": "LayoutModel",
      "state": {}
     },
     "243f00b83ead4b268a9dbbded64f89f4": {
      "model_module": "@jupyter-widgets/base",
      "model_module_version": "1.1.0",
      "model_name": "LayoutModel",
      "state": {}
     },
     "244be902b802440290203e6b7d8cf236": {
      "model_module": "@jupyter-widgets/base",
      "model_module_version": "1.1.0",
      "model_name": "LayoutModel",
      "state": {
       "padding": "20px 10px 20px 20px",
       "width": "50%"
      }
     },
     "2456d98d4e2b464d8570eca33cc8f4c1": {
      "model_module": "@jupyter-widgets/base",
      "model_module_version": "1.1.0",
      "model_name": "LayoutModel",
      "state": {
       "align_items": "center",
       "grid_area": "right",
       "width": "90%"
      }
     },
     "2470be3ba2d74d53967e981dc948997a": {
      "model_module": "@jupyter-widgets/base",
      "model_module_version": "1.1.0",
      "model_name": "LayoutModel",
      "state": {
       "grid_area": "sidebar",
       "width": "auto"
      }
     },
     "24ac2448ce80461a96d4d9002ed82969": {
      "model_module": "@jupyter-widgets/output",
      "model_module_version": "1.0.0",
      "model_name": "OutputModel",
      "state": {
       "layout": "IPY_MODEL_22ec4aa125454a569d88bca69b00b859",
       "outputs": [
        {
         "data": {
          "text/html": "<div>\n<style scoped>\n    .dataframe tbody tr th:only-of-type {\n        vertical-align: middle;\n    }\n\n    .dataframe tbody tr th {\n        vertical-align: top;\n    }\n\n    .dataframe thead th {\n        text-align: right;\n    }\n</style>\n<table border=\"1\" class=\"dataframe\">\n  <thead>\n    <tr style=\"text-align: right;\">\n      <th></th>\n      <th>action</th>\n      <th>controller</th>\n      <th>path</th>\n      <th>resource</th>\n      <th>resource_name</th>\n      <th>scope</th>\n      <th>verb</th>\n    </tr>\n  </thead>\n  <tbody>\n    <tr>\n      <th>682</th>\n      <td>multiple_gradeable_students</td>\n      <td>submissions_api</td>\n      <td>/api/v1/courses/:course_id/assignments/gradeab...</td>\n      <td>submissions</td>\n      <td>Submissions</td>\n      <td>url:GET|/api/v1/courses/:course_id/assignments...</td>\n      <td>GET</td>\n    </tr>\n    <tr>\n      <th>683</th>\n      <td>bulk_update</td>\n      <td>submissions_api</td>\n      <td>/api/v1/courses/:course_id/submissions/update_...</td>\n      <td>submissions</td>\n      <td>Submissions</td>\n      <td>url:POST|/api/v1/courses/:course_id/submission...</td>\n      <td>POST</td>\n    </tr>\n    <tr>\n      <th>684</th>\n      <td>mark_submission_read</td>\n      <td>submissions_api</td>\n      <td>/api/v1/courses/:course_id/assignments/:assign...</td>\n      <td>submissions</td>\n      <td>Submissions</td>\n      <td>url:PUT|/api/v1/courses/:course_id/assignments...</td>\n      <td>PUT</td>\n    </tr>\n    <tr>\n      <th>685</th>\n      <td>mark_submission_unread</td>\n      <td>submissions_api</td>\n      <td>/api/v1/courses/:course_id/assignments/:assign...</td>\n      <td>submissions</td>\n      <td>Submissions</td>\n      <td>url:DELETE|/api/v1/courses/:course_id/assignme...</td>\n      <td>DELETE</td>\n    </tr>\n    <tr>\n      <th>686</th>\n      <td>index</td>\n      <td>submissions_api</td>\n      <td>/api/v1/courses/:course_id/assignments/:assign...</td>\n      <td>submissions</td>\n      <td>Submissions</td>\n      <td>url:GET|/api/v1/courses/:course_id/assignments...</td>\n      <td>GET</td>\n    </tr>\n    <tr>\n      <th>687</th>\n      <td>for_students</td>\n      <td>submissions_api</td>\n      <td>/api/v1/courses/:course_id/students/submissions</td>\n      <td>submissions</td>\n      <td>Submissions</td>\n      <td>url:GET|/api/v1/courses/:course_id/students/su...</td>\n      <td>GET</td>\n    </tr>\n    <tr>\n      <th>688</th>\n      <td>show</td>\n      <td>submissions_api</td>\n      <td>/api/v1/courses/:course_id/assignments/:assign...</td>\n      <td>submissions</td>\n      <td>Submissions</td>\n      <td>url:GET|/api/v1/courses/:course_id/assignments...</td>\n      <td>GET</td>\n    </tr>\n    <tr>\n      <th>689</th>\n      <td>create</td>\n      <td>submissions</td>\n      <td>/api/v1/courses/:course_id/assignments/:assign...</td>\n      <td>submissions</td>\n      <td>Submissions</td>\n      <td>url:POST|/api/v1/courses/:course_id/assignment...</td>\n      <td>POST</td>\n    </tr>\n    <tr>\n      <th>690</th>\n      <td>create_file</td>\n      <td>submissions_api</td>\n      <td>/api/v1/courses/:course_id/assignments/:assign...</td>\n      <td>submissions</td>\n      <td>Submissions</td>\n      <td>url:POST|/api/v1/courses/:course_id/assignment...</td>\n      <td>POST</td>\n    </tr>\n    <tr>\n      <th>691</th>\n      <td>update</td>\n      <td>submissions_api</td>\n      <td>/api/v1/courses/:course_id/assignments/:assign...</td>\n      <td>submissions</td>\n      <td>Submissions</td>\n      <td>url:PUT|/api/v1/courses/:course_id/assignments...</td>\n      <td>PUT</td>\n    </tr>\n    <tr>\n      <th>692</th>\n      <td>bulk_update</td>\n      <td>submissions_api</td>\n      <td>/api/v1/courses/:course_id/assignments/:assign...</td>\n      <td>submissions</td>\n      <td>Submissions</td>\n      <td>url:POST|/api/v1/courses/:course_id/assignment...</td>\n      <td>POST</td>\n    </tr>\n    <tr>\n      <th>693</th>\n      <td>submission_summary</td>\n      <td>submissions_api</td>\n      <td>/api/v1/courses/:course_id/assignments/:assign...</td>\n      <td>submissions</td>\n      <td>Submissions</td>\n      <td>url:GET|/api/v1/courses/:course_id/assignments...</td>\n      <td>GET</td>\n    </tr>\n    <tr>\n      <th>694</th>\n      <td>bulk_update</td>\n      <td>submissions_api</td>\n      <td>/api/v1/sections/:section_id/submissions/updat...</td>\n      <td>submissions</td>\n      <td>Submissions</td>\n      <td>url:POST|/api/v1/sections/:section_id/submissi...</td>\n      <td>POST</td>\n    </tr>\n    <tr>\n      <th>695</th>\n      <td>mark_submission_read</td>\n      <td>submissions_api</td>\n      <td>/api/v1/sections/:section_id/assignments/:assi...</td>\n      <td>submissions</td>\n      <td>Submissions</td>\n      <td>url:PUT|/api/v1/sections/:section_id/assignmen...</td>\n      <td>PUT</td>\n    </tr>\n    <tr>\n      <th>696</th>\n      <td>mark_submission_unread</td>\n      <td>submissions_api</td>\n      <td>/api/v1/sections/:section_id/assignments/:assi...</td>\n      <td>submissions</td>\n      <td>Submissions</td>\n      <td>url:DELETE|/api/v1/sections/:section_id/assign...</td>\n      <td>DELETE</td>\n    </tr>\n    <tr>\n      <th>697</th>\n      <td>index</td>\n      <td>submissions_api</td>\n      <td>/api/v1/sections/:section_id/assignments/:assi...</td>\n      <td>submissions</td>\n      <td>Submissions</td>\n      <td>url:GET|/api/v1/sections/:section_id/assignmen...</td>\n      <td>GET</td>\n    </tr>\n    <tr>\n      <th>698</th>\n      <td>for_students</td>\n      <td>submissions_api</td>\n      <td>/api/v1/sections/:section_id/students/submissions</td>\n      <td>submissions</td>\n      <td>Submissions</td>\n      <td>url:GET|/api/v1/sections/:section_id/students/...</td>\n      <td>GET</td>\n    </tr>\n    <tr>\n      <th>699</th>\n      <td>show</td>\n      <td>submissions_api</td>\n      <td>/api/v1/sections/:section_id/assignments/:assi...</td>\n      <td>submissions</td>\n      <td>Submissions</td>\n      <td>url:GET|/api/v1/sections/:section_id/assignmen...</td>\n      <td>GET</td>\n    </tr>\n    <tr>\n      <th>700</th>\n      <td>create</td>\n      <td>submissions</td>\n      <td>/api/v1/sections/:section_id/assignments/:assi...</td>\n      <td>submissions</td>\n      <td>Submissions</td>\n      <td>url:POST|/api/v1/sections/:section_id/assignme...</td>\n      <td>POST</td>\n    </tr>\n    <tr>\n      <th>701</th>\n      <td>create_file</td>\n      <td>submissions_api</td>\n      <td>/api/v1/sections/:section_id/assignments/:assi...</td>\n      <td>submissions</td>\n      <td>Submissions</td>\n      <td>url:POST|/api/v1/sections/:section_id/assignme...</td>\n      <td>POST</td>\n    </tr>\n    <tr>\n      <th>702</th>\n      <td>update</td>\n      <td>submissions_api</td>\n      <td>/api/v1/sections/:section_id/assignments/:assi...</td>\n      <td>submissions</td>\n      <td>Submissions</td>\n      <td>url:PUT|/api/v1/sections/:section_id/assignmen...</td>\n      <td>PUT</td>\n    </tr>\n    <tr>\n      <th>703</th>\n      <td>bulk_update</td>\n      <td>submissions_api</td>\n      <td>/api/v1/sections/:section_id/assignments/:assi...</td>\n      <td>submissions</td>\n      <td>Submissions</td>\n      <td>url:POST|/api/v1/sections/:section_id/assignme...</td>\n      <td>POST</td>\n    </tr>\n    <tr>\n      <th>704</th>\n      <td>submission_summary</td>\n      <td>submissions_api</td>\n      <td>/api/v1/sections/:section_id/assignments/:assi...</td>\n      <td>submissions</td>\n      <td>Submissions</td>\n      <td>url:GET|/api/v1/sections/:section_id/assignmen...</td>\n      <td>GET</td>\n    </tr>\n    <tr>\n      <th>705</th>\n      <td>gradeable_students</td>\n      <td>submissions_api</td>\n      <td>/api/v1/courses/:course_id/assignments/:assign...</td>\n      <td>submissions</td>\n      <td>Submissions</td>\n      <td>url:GET|/api/v1/courses/:course_id/assignments...</td>\n      <td>GET</td>\n    </tr>\n  </tbody>\n</table>\n</div>",
          "text/plain": "                          action       controller  \\\n682  multiple_gradeable_students  submissions_api   \n683                  bulk_update  submissions_api   \n684         mark_submission_read  submissions_api   \n685       mark_submission_unread  submissions_api   \n686                        index  submissions_api   \n687                 for_students  submissions_api   \n688                         show  submissions_api   \n689                       create      submissions   \n690                  create_file  submissions_api   \n691                       update  submissions_api   \n692                  bulk_update  submissions_api   \n693           submission_summary  submissions_api   \n694                  bulk_update  submissions_api   \n695         mark_submission_read  submissions_api   \n696       mark_submission_unread  submissions_api   \n697                        index  submissions_api   \n698                 for_students  submissions_api   \n699                         show  submissions_api   \n700                       create      submissions   \n701                  create_file  submissions_api   \n702                       update  submissions_api   \n703                  bulk_update  submissions_api   \n704           submission_summary  submissions_api   \n705           gradeable_students  submissions_api   \n\n                                                  path     resource  \\\n682  /api/v1/courses/:course_id/assignments/gradeab...  submissions   \n683  /api/v1/courses/:course_id/submissions/update_...  submissions   \n684  /api/v1/courses/:course_id/assignments/:assign...  submissions   \n685  /api/v1/courses/:course_id/assignments/:assign...  submissions   \n686  /api/v1/courses/:course_id/assignments/:assign...  submissions   \n687    /api/v1/courses/:course_id/students/submissions  submissions   \n688  /api/v1/courses/:course_id/assignments/:assign...  submissions   \n689  /api/v1/courses/:course_id/assignments/:assign...  submissions   \n690  /api/v1/courses/:course_id/assignments/:assign...  submissions   \n691  /api/v1/courses/:course_id/assignments/:assign...  submissions   \n692  /api/v1/courses/:course_id/assignments/:assign...  submissions   \n693  /api/v1/courses/:course_id/assignments/:assign...  submissions   \n694  /api/v1/sections/:section_id/submissions/updat...  submissions   \n695  /api/v1/sections/:section_id/assignments/:assi...  submissions   \n696  /api/v1/sections/:section_id/assignments/:assi...  submissions   \n697  /api/v1/sections/:section_id/assignments/:assi...  submissions   \n698  /api/v1/sections/:section_id/students/submissions  submissions   \n699  /api/v1/sections/:section_id/assignments/:assi...  submissions   \n700  /api/v1/sections/:section_id/assignments/:assi...  submissions   \n701  /api/v1/sections/:section_id/assignments/:assi...  submissions   \n702  /api/v1/sections/:section_id/assignments/:assi...  submissions   \n703  /api/v1/sections/:section_id/assignments/:assi...  submissions   \n704  /api/v1/sections/:section_id/assignments/:assi...  submissions   \n705  /api/v1/courses/:course_id/assignments/:assign...  submissions   \n\n    resource_name                                              scope    verb  \n682   Submissions  url:GET|/api/v1/courses/:course_id/assignments...     GET  \n683   Submissions  url:POST|/api/v1/courses/:course_id/submission...    POST  \n684   Submissions  url:PUT|/api/v1/courses/:course_id/assignments...     PUT  \n685   Submissions  url:DELETE|/api/v1/courses/:course_id/assignme...  DELETE  \n686   Submissions  url:GET|/api/v1/courses/:course_id/assignments...     GET  \n687   Submissions  url:GET|/api/v1/courses/:course_id/students/su...     GET  \n688   Submissions  url:GET|/api/v1/courses/:course_id/assignments...     GET  \n689   Submissions  url:POST|/api/v1/courses/:course_id/assignment...    POST  \n690   Submissions  url:POST|/api/v1/courses/:course_id/assignment...    POST  \n691   Submissions  url:PUT|/api/v1/courses/:course_id/assignments...     PUT  \n692   Submissions  url:POST|/api/v1/courses/:course_id/assignment...    POST  \n693   Submissions  url:GET|/api/v1/courses/:course_id/assignments...     GET  \n694   Submissions  url:POST|/api/v1/sections/:section_id/submissi...    POST  \n695   Submissions  url:PUT|/api/v1/sections/:section_id/assignmen...     PUT  \n696   Submissions  url:DELETE|/api/v1/sections/:section_id/assign...  DELETE  \n697   Submissions  url:GET|/api/v1/sections/:section_id/assignmen...     GET  \n698   Submissions  url:GET|/api/v1/sections/:section_id/students/...     GET  \n699   Submissions  url:GET|/api/v1/sections/:section_id/assignmen...     GET  \n700   Submissions  url:POST|/api/v1/sections/:section_id/assignme...    POST  \n701   Submissions  url:POST|/api/v1/sections/:section_id/assignme...    POST  \n702   Submissions  url:PUT|/api/v1/sections/:section_id/assignmen...     PUT  \n703   Submissions  url:POST|/api/v1/sections/:section_id/assignme...    POST  \n704   Submissions  url:GET|/api/v1/sections/:section_id/assignmen...     GET  \n705   Submissions  url:GET|/api/v1/courses/:course_id/assignments...     GET  "
         },
         "metadata": {},
         "output_type": "display_data"
        }
       ]
      }
     },
     "25408b285ae34e348a006db884600dfe": {
      "model_module": "@jupyter-widgets/controls",
      "model_module_version": "1.4.0",
      "model_name": "DescriptionStyleModel",
      "state": {
       "description_width": ""
      }
     },
     "2569bed661e540c9b376e6702e80a26f": {
      "model_module": "@jupyter-widgets/controls",
      "model_module_version": "1.4.0",
      "model_name": "DescriptionStyleModel",
      "state": {
       "description_width": ""
      }
     },
     "2572499c74194070834117216ff15e98": {
      "model_module": "@jupyter-widgets/output",
      "model_module_version": "1.0.0",
      "model_name": "OutputModel",
      "state": {
       "layout": "IPY_MODEL_243f00b83ead4b268a9dbbded64f89f4"
      }
     },
     "259161a81673436691fb8e82dc41f2cf": {
      "model_module": "@jupyter-widgets/controls",
      "model_module_version": "1.4.0",
      "model_name": "ButtonStyleModel",
      "state": {}
     },
     "25c363d05c714c79afb05c9011152c01": {
      "model_module": "@jupyter-widgets/base",
      "model_module_version": "1.1.0",
      "model_name": "LayoutModel",
      "state": {
       "align_items": "center",
       "grid_area": "right",
       "width": "90%"
      }
     },
     "261316cf0cb84cda86ee349dd9e9cf5b": {
      "model_module": "@jupyter-widgets/controls",
      "model_module_version": "1.4.0",
      "model_name": "ButtonStyleModel",
      "state": {}
     },
     "261e66bd07774c63901d1ad831c82b9c": {
      "model_module": "@jupyter-widgets/controls",
      "model_module_version": "1.4.0",
      "model_name": "TextModel",
      "state": {
       "layout": "IPY_MODEL_03b4d1c56fb54560a56564b6382e2cde",
       "placeholder": "user_id",
       "style": "IPY_MODEL_8a76a5c3a96842828c0882d219ae26b5",
       "value": "5443278"
      }
     },
     "263a89a58d5e4e48a32cdcc99544fe7a": {
      "model_module": "@jupyter-widgets/controls",
      "model_module_version": "1.4.0",
      "model_name": "ButtonModel",
      "state": {
       "button_style": "info",
       "description": "Get PageViews",
       "layout": "IPY_MODEL_dfe7979c5aac4c5fad530cd2a75a0823",
       "style": "IPY_MODEL_da04e1c69cbc4b5baccf0573c45e56c9"
      }
     },
     "2669fc05255a437593e8dd9a76f4e270": {
      "model_module": "@jupyter-widgets/base",
      "model_module_version": "1.1.0",
      "model_name": "LayoutModel",
      "state": {
       "grid_area": "footer",
       "width": "auto"
      }
     },
     "26a80e7aac3d438c83209c860d3d972e": {
      "model_module": "@jupyter-widgets/controls",
      "model_module_version": "1.4.0",
      "model_name": "DescriptionStyleModel",
      "state": {
       "description_width": ""
      }
     },
     "26d4c1f073734e0595a4ecaf2a6bc091": {
      "model_module": "@jupyter-widgets/controls",
      "model_module_version": "1.4.0",
      "model_name": "DescriptionStyleModel",
      "state": {
       "description_width": ""
      }
     },
     "27246b07de83429db3ff833b763f7dc0": {
      "model_module": "@jupyter-widgets/base",
      "model_module_version": "1.1.0",
      "model_name": "LayoutModel",
      "state": {
       "align_items": "center",
       "grid_area": "right",
       "width": "90%"
      }
     },
     "272571a295344a01975ee41b121eb032": {
      "model_module": "@jupyter-widgets/controls",
      "model_module_version": "1.4.0",
      "model_name": "DescriptionStyleModel",
      "state": {
       "description_width": ""
      }
     },
     "279b393d06914cae8b40360dcf429f24": {
      "model_module": "@jupyter-widgets/base",
      "model_module_version": "1.1.0",
      "model_name": "LayoutModel",
      "state": {
       "grid_area": "footer",
       "width": "auto"
      }
     },
     "27be864cd9c24385924bd729b6893419": {
      "model_module": "@jupyter-widgets/controls",
      "model_module_version": "1.4.0",
      "model_name": "DescriptionStyleModel",
      "state": {
       "description_width": ""
      }
     },
     "27ca71b88a7e4366b4a9ccccc2e6f5a9": {
      "model_module": "@jupyter-widgets/base",
      "model_module_version": "1.1.0",
      "model_name": "LayoutModel",
      "state": {
       "align_items": "center",
       "grid_area": "left",
       "width": "90%"
      }
     },
     "27f2be28a31c4e9cb7141919a1b5a1c7": {
      "model_module": "@jupyter-widgets/base",
      "model_module_version": "1.1.0",
      "model_name": "LayoutModel",
      "state": {
       "grid_area": "footer",
       "width": "auto"
      }
     },
     "2827d14bd13f42328fda6f3167a76716": {
      "model_module": "@jupyter-widgets/output",
      "model_module_version": "1.0.0",
      "model_name": "OutputModel",
      "state": {
       "layout": "IPY_MODEL_454335472e9647988aaddbec821b34b4"
      }
     },
     "2844291a0aa7481190f59e5bb9c4dd84": {
      "model_module": "@jupyter-widgets/controls",
      "model_module_version": "1.4.0",
      "model_name": "GridBoxModel",
      "state": {
       "children": [
        "IPY_MODEL_a569edcca8654d8f9a7cffeb3073c2f1",
        "IPY_MODEL_ff70a1d3637f4a0186c01a96e6ea8ab6",
        "IPY_MODEL_7ded8267b35a43338b2f9b1714d0dbe9",
        "IPY_MODEL_2bfe14608a9c449dbea1800281c033c3"
       ],
       "layout": "IPY_MODEL_2f420cd1d29b4f6086f9559534af2440"
      }
     },
     "285fa37c27ae4e95a4fc8aa6c2f7d907": {
      "model_module": "@jupyter-widgets/controls",
      "model_module_version": "1.4.0",
      "model_name": "DatePickerModel",
      "state": {
       "description": "start date",
       "disabled": false,
       "layout": "IPY_MODEL_ba29fde52a364afeb1a11256b822d324",
       "style": "IPY_MODEL_fef30e60712b49789f0c5280a98bf5c3"
      }
     },
     "28913e379eb34936b62d41d300b92129": {
      "model_module": "@jupyter-widgets/controls",
      "model_module_version": "1.4.0",
      "model_name": "DatePickerModel",
      "state": {
       "description": "start date",
       "disabled": false,
       "layout": "IPY_MODEL_eda86906eaa64f6981e0b53b5d3a920a",
       "style": "IPY_MODEL_1fb792965b23445e8b2fde744fca7dbc"
      }
     },
     "2903f66182d847e88c488ba369eaf8c7": {
      "model_module": "@jupyter-widgets/controls",
      "model_module_version": "1.4.0",
      "model_name": "GridBoxModel",
      "state": {
       "children": [
        "IPY_MODEL_f366acc3f1a94cadbc4d4d225ce7833b",
        "IPY_MODEL_85c2b002b4704eb1b2e2454cf77bf889",
        "IPY_MODEL_d6e43bbbe04d456dad441502261db3d9",
        "IPY_MODEL_77e9d8ba11a14dd4bf8ea3384f297778"
       ],
       "layout": "IPY_MODEL_05d77c139a5c4d029582d34d8678cd7c"
      }
     },
     "29f40275dbdb481b813f9cca3f382302": {
      "model_module": "@jupyter-widgets/controls",
      "model_module_version": "1.4.0",
      "model_name": "DescriptionStyleModel",
      "state": {
       "description_width": ""
      }
     },
     "2a0810c77e5a4ce5b903ec4bae5dddc7": {
      "model_module": "@jupyter-widgets/controls",
      "model_module_version": "1.4.0",
      "model_name": "GridBoxModel",
      "state": {
       "children": [
        "IPY_MODEL_8f8c68c9a2ab40aaa80eda7d55cf1732",
        "IPY_MODEL_a625d393f96d4c1d9dffffc19c2eaa23",
        "IPY_MODEL_234df042b1304f38b6c818cb28ce512b",
        "IPY_MODEL_2b112482dea84ffa91a585ae6a768381"
       ],
       "layout": "IPY_MODEL_eb24ae19085b470d80af3a467286b3e9"
      }
     },
     "2a180ddd7e394bbe9cea95c1043d82ac": {
      "model_module": "@jupyter-widgets/base",
      "model_module_version": "1.1.0",
      "model_name": "LayoutModel",
      "state": {}
     },
     "2a378e10ad9c4886a119bd09c9141fa5": {
      "model_module": "@jupyter-widgets/controls",
      "model_module_version": "1.4.0",
      "model_name": "GridBoxModel",
      "state": {
       "children": [
        "IPY_MODEL_3dbdd7a178a647bca44d5e44a8e6e7e0",
        "IPY_MODEL_b7d2d18eb1ed4d21b4ea4ae74ad48faf",
        "IPY_MODEL_49fb82b4e45941149463ca8878dfa77b",
        "IPY_MODEL_d29b6e983f29486a9ccd24d72a48391e"
       ],
       "layout": "IPY_MODEL_0c597f93cf62469384f83fbb20c53161"
      }
     },
     "2a4fb4fa3b0d4c39b2b4da3cf62e8046": {
      "model_module": "@jupyter-widgets/controls",
      "model_module_version": "1.4.0",
      "model_name": "DatePickerModel",
      "state": {
       "description": "end date",
       "disabled": false,
       "layout": "IPY_MODEL_25c363d05c714c79afb05c9011152c01",
       "style": "IPY_MODEL_d4c9043063a445b3920230f534fd0237"
      }
     },
     "2aaa344e71ce4257a3a68b6ad3827549": {
      "model_module": "@jupyter-widgets/controls",
      "model_module_version": "1.4.0",
      "model_name": "DescriptionStyleModel",
      "state": {
       "description_width": ""
      }
     },
     "2b112482dea84ffa91a585ae6a768381": {
      "model_module": "@jupyter-widgets/controls",
      "model_module_version": "1.4.0",
      "model_name": "ButtonModel",
      "state": {
       "button_style": "info",
       "description": "Get PageViews",
       "layout": "IPY_MODEL_06651306b6ea4c60bc42d358f3b23b57",
       "style": "IPY_MODEL_461a7e8ef5674bff815f39a7b55495fc"
      }
     },
     "2bb284458068448099a51dba45052452": {
      "model_module": "@jupyter-widgets/controls",
      "model_module_version": "1.4.0",
      "model_name": "DescriptionStyleModel",
      "state": {
       "description_width": ""
      }
     },
     "2bfe14608a9c449dbea1800281c033c3": {
      "model_module": "@jupyter-widgets/controls",
      "model_module_version": "1.4.0",
      "model_name": "ButtonModel",
      "state": {
       "button_style": "info",
       "description": "Get PageViews",
       "layout": "IPY_MODEL_e4e0a63ee799461c9620fc9bb52112ed",
       "style": "IPY_MODEL_0eaafb051ac3439ab2b69ec93fe8c660"
      }
     },
     "2c9647eb6dbd4faeb2b7167da39b4ab4": {
      "model_module": "@jupyter-widgets/controls",
      "model_module_version": "1.4.0",
      "model_name": "DropdownModel",
      "state": {
       "_options_labels": [
        "ALL",
        "API Token Scopes",
        "Account Domain Lookups",
        "Account Notifications",
        "Account Reports",
        "Accounts",
        "Admins",
        "Analytics",
        "Announcement External Feeds",
        "Announcements",
        "Appointment Groups",
        "Assignment Extensions",
        "Assignment Groups",
        "Assignments",
        "Authentication Providers",
        "Authentications Log",
        "Blueprint Courses",
        "Bookmarks",
        "Brand Configs",
        "Calendar Events",
        "Collaborations",
        "CommMessages",
        "Communication Channels",
        "Conferences",
        "Content Exports",
        "Content Migrations",
        "Content Security Policy Settings",
        "Conversations",
        "Course Audit log",
        "Course Quiz Extensions",
        "Courses",
        "Custom Gradebook Columns",
        "Discussion Topics",
        "Enrollment Terms",
        "Enrollments",
        "Error Reports",
        "External Tools",
        "Favorites",
        "Feature Flags",
        "Files",
        "Grade Change Log",
        "Gradebook History",
        "Grading Periods",
        "Grading Standards",
        "Group Categories",
        "Groups",
        "JWTs",
        "Late Policy",
        "LiveAssessments",
        "Logins",
        "Moderated Grading",
        "Modules",
        "Notification Preferences",
        "OAuth 2",
        "Outcome Groups",
        "Outcome Imports",
        "Outcome Results",
        "Outcomes",
        "Pages",
        "Peer Reviews",
        "Plagiarism Detection Platform Assignments",
        "Planner",
        "Poll Sessions",
        "PollChoices",
        "PollSubmissions",
        "Polls",
        "Proficiency Ratings",
        "Progress",
        "Quiz Assignment Overrides",
        "Quiz Extensions",
        "Quiz IP Filters",
        "Quiz Question Groups",
        "Quiz Questions",
        "Quiz Reports",
        "Quiz Statistics",
        "Quiz Submission Events",
        "Quiz Submission Files",
        "Quiz Submission Questions",
        "Quiz Submission User List",
        "Quiz Submissions",
        "Quizzes",
        "Roles",
        "Rubrics",
        "SIS Import Errors",
        "SIS Imports",
        "SIS Integration",
        "Search",
        "Sections",
        "Services",
        "Shared Brand Configs",
        "Submission Comments",
        "Submissions",
        "Tabs",
        "User Observees",
        "Users",
        "ePub Exports"
       ],
       "description": "Resource",
       "index": 0,
       "layout": "IPY_MODEL_2daf0e7212a84265873e9d257669e9d5",
       "style": "IPY_MODEL_c13ce7a8f5214b27946d7cdd7ee67ce4"
      }
     },
     "2d6f4f6764684f869007f91990f0f775": {
      "model_module": "@jupyter-widgets/controls",
      "model_module_version": "1.4.0",
      "model_name": "DatePickerModel",
      "state": {
       "description": "start date",
       "disabled": false,
       "layout": "IPY_MODEL_99bac57e864f4cd39e82a494bb0abd20",
       "style": "IPY_MODEL_e44a91a108d84ef1b2fd22c4dab53ca5"
      }
     },
     "2d72825af85c4f35b0a3dce9236f3a8a": {
      "model_module": "@jupyter-widgets/controls",
      "model_module_version": "1.4.0",
      "model_name": "DescriptionStyleModel",
      "state": {
       "description_width": ""
      }
     },
     "2daf0e7212a84265873e9d257669e9d5": {
      "model_module": "@jupyter-widgets/base",
      "model_module_version": "1.1.0",
      "model_name": "LayoutModel",
      "state": {
       "padding": "20px 10px 20px 20px",
       "width": "40%"
      }
     },
     "2e9522f969eb4fc4b606eca01e837d46": {
      "model_module": "@jupyter-widgets/base",
      "model_module_version": "1.1.0",
      "model_name": "LayoutModel",
      "state": {
       "align_items": "center",
       "grid_area": "left",
       "width": "90%"
      }
     },
     "2f3dd8187a614bda9b180546bcd39bd8": {
      "model_module": "@jupyter-widgets/controls",
      "model_module_version": "1.4.0",
      "model_name": "DropdownModel",
      "state": {
       "_options_labels": [
        "ALL",
        "API Token Scopes",
        "Account Domain Lookups",
        "Account Notifications",
        "Account Reports",
        "Accounts",
        "Admins",
        "Analytics",
        "Announcement External Feeds",
        "Announcements",
        "Appointment Groups",
        "Assignment Extensions",
        "Assignment Groups",
        "Assignments",
        "Authentication Providers",
        "Authentications Log",
        "Blueprint Courses",
        "Bookmarks",
        "Brand Configs",
        "Calendar Events",
        "Collaborations",
        "CommMessages",
        "Communication Channels",
        "Conferences",
        "Content Exports",
        "Content Migrations",
        "Content Security Policy Settings",
        "Conversations",
        "Course Audit log",
        "Course Quiz Extensions",
        "Courses",
        "Custom Gradebook Columns",
        "Discussion Topics",
        "Enrollment Terms",
        "Enrollments",
        "Error Reports",
        "External Tools",
        "Favorites",
        "Feature Flags",
        "Files",
        "Grade Change Log",
        "Gradebook History",
        "Grading Periods",
        "Grading Standards",
        "Group Categories",
        "Groups",
        "JWTs",
        "Late Policy",
        "LiveAssessments",
        "Logins",
        "Moderated Grading",
        "Modules",
        "Notification Preferences",
        "OAuth 2",
        "Outcome Groups",
        "Outcome Imports",
        "Outcome Results",
        "Outcomes",
        "Pages",
        "Peer Reviews",
        "Plagiarism Detection Platform Assignments",
        "Planner",
        "Poll Sessions",
        "PollChoices",
        "PollSubmissions",
        "Polls",
        "Proficiency Ratings",
        "Progress",
        "Quiz Assignment Overrides",
        "Quiz Extensions",
        "Quiz IP Filters",
        "Quiz Question Groups",
        "Quiz Questions",
        "Quiz Reports",
        "Quiz Statistics",
        "Quiz Submission Events",
        "Quiz Submission Files",
        "Quiz Submission Questions",
        "Quiz Submission User List",
        "Quiz Submissions",
        "Quizzes",
        "Roles",
        "Rubrics",
        "SIS Import Errors",
        "SIS Imports",
        "SIS Integration",
        "Search",
        "Sections",
        "Services",
        "Shared Brand Configs",
        "Submission Comments",
        "Submissions",
        "Tabs",
        "User Observees",
        "Users",
        "ePub Exports"
       ],
       "description": "Resource",
       "index": 0,
       "layout": "IPY_MODEL_d5d0a4fec5d4435fb9760aa8b0b5ce28",
       "style": "IPY_MODEL_63e9c136032e40009e64d27e2aa13956"
      }
     },
     "2f420cd1d29b4f6086f9559534af2440": {
      "model_module": "@jupyter-widgets/base",
      "model_module_version": "1.1.0",
      "model_name": "LayoutModel",
      "state": {
       "grid_template_areas": "\n            \" . header header .\"\n            \"left left right right\"\n            \" . footer footer . \"\n            ",
       "grid_template_columns": "25% 25% 25% 25%",
       "grid_template_rows": "auto auto auto",
       "margin": "2% 0% 2% 10%",
       "width": "80%"
      }
     },
     "2fd2bcad74474c88aa7d9a88d46498ab": {
      "model_module": "@jupyter-widgets/base",
      "model_module_version": "1.1.0",
      "model_name": "LayoutModel",
      "state": {
       "align_items": "center",
       "grid_area": "right",
       "width": "90%"
      }
     },
     "2ff5e804552245c182de178c17b228a9": {
      "model_module": "@jupyter-widgets/base",
      "model_module_version": "1.1.0",
      "model_name": "LayoutModel",
      "state": {}
     },
     "3001f94b2233474fbfeed411607752dd": {
      "model_module": "@jupyter-widgets/base",
      "model_module_version": "1.1.0",
      "model_name": "LayoutModel",
      "state": {
       "align_items": "center",
       "grid_area": "header",
       "width": "90%"
      }
     },
     "31b3575ed18b4a8fbd1d4e291bae1f40": {
      "model_module": "@jupyter-widgets/base",
      "model_module_version": "1.1.0",
      "model_name": "LayoutModel",
      "state": {
       "align_items": "center",
       "grid_area": "right",
       "width": "90%"
      }
     },
     "323c129989b24900afefce0d0baf82e8": {
      "model_module": "@jupyter-widgets/controls",
      "model_module_version": "1.4.0",
      "model_name": "DescriptionStyleModel",
      "state": {
       "description_width": ""
      }
     },
     "32ad740a24a74520a0e8d7930d95b884": {
      "model_module": "@jupyter-widgets/controls",
      "model_module_version": "1.4.0",
      "model_name": "DatePickerModel",
      "state": {
       "description": "start date",
       "disabled": false,
       "layout": "IPY_MODEL_be40e97908824765ac6c2f961a988d4a",
       "style": "IPY_MODEL_323c129989b24900afefce0d0baf82e8"
      }
     },
     "332fe82fa34b4e27acaefee30c9333d5": {
      "model_module": "@jupyter-widgets/base",
      "model_module_version": "1.1.0",
      "model_name": "LayoutModel",
      "state": {}
     },
     "334ced764dc64ab08c325fa556398491": {
      "model_module": "@jupyter-widgets/base",
      "model_module_version": "1.1.0",
      "model_name": "LayoutModel",
      "state": {}
     },
     "3354f5f78b2345d08f47f3f92e164fd7": {
      "model_module": "@jupyter-widgets/controls",
      "model_module_version": "1.4.0",
      "model_name": "DescriptionStyleModel",
      "state": {
       "description_width": ""
      }
     },
     "3398c5c258ca441899402aa4c0931e86": {
      "model_module": "@jupyter-widgets/base",
      "model_module_version": "1.1.0",
      "model_name": "LayoutModel",
      "state": {
       "align_items": "center",
       "grid_area": "right",
       "width": "90%"
      }
     },
     "339a71c2da024846bbfb396da834b0f8": {
      "model_module": "@jupyter-widgets/output",
      "model_module_version": "1.0.0",
      "model_name": "OutputModel",
      "state": {
       "layout": "IPY_MODEL_dcbce662e8574fd497c2fc903d1d9568"
      }
     },
     "33c8d7ee688e4fea822266a47f67d194": {
      "model_module": "@jupyter-widgets/output",
      "model_module_version": "1.0.0",
      "model_name": "OutputModel",
      "state": {
       "layout": "IPY_MODEL_242a606cbd7743f7b16af2eda3a6fd0f"
      }
     },
     "34845b8251f14c1a9ebf1f1a1ce3dbdb": {
      "model_module": "@jupyter-widgets/base",
      "model_module_version": "1.1.0",
      "model_name": "LayoutModel",
      "state": {}
     },
     "34f6004e583d4db9926fca1a82049a34": {
      "model_module": "@jupyter-widgets/controls",
      "model_module_version": "1.4.0",
      "model_name": "DatePickerModel",
      "state": {
       "description": "end date",
       "disabled": false,
       "layout": "IPY_MODEL_70922b286c0444a79beb33c21aec1d22",
       "style": "IPY_MODEL_2569bed661e540c9b376e6702e80a26f"
      }
     },
     "3534c493b7264892a4f904669b40c9cc": {
      "model_module": "@jupyter-widgets/controls",
      "model_module_version": "1.4.0",
      "model_name": "DescriptionStyleModel",
      "state": {
       "description_width": ""
      }
     },
     "3538a14a249c4b54a1c0f45eed21ff08": {
      "model_module": "@jupyter-widgets/base",
      "model_module_version": "1.1.0",
      "model_name": "LayoutModel",
      "state": {
       "align_items": "center",
       "grid_area": "left",
       "width": "90%"
      }
     },
     "35911d9d8be94c5b90898cca0a4e5c9e": {
      "model_module": "@jupyter-widgets/base",
      "model_module_version": "1.1.0",
      "model_name": "LayoutModel",
      "state": {
       "grid_template_areas": "\n            \" . header header .\"\n            \"left left right right\"\n            \" . footer footer . \"\n            ",
       "grid_template_columns": "25% 25% 25% 25%",
       "grid_template_rows": "auto auto auto",
       "margin": "2% 0% 2% 10%",
       "width": "80%"
      }
     },
     "360fe362265b43b1a3ebe0d6d043af3f": {
      "model_module": "@jupyter-widgets/controls",
      "model_module_version": "1.4.0",
      "model_name": "DescriptionStyleModel",
      "state": {
       "description_width": ""
      }
     },
     "36a642ead256454b98fc440ddd0c282c": {
      "model_module": "@jupyter-widgets/base",
      "model_module_version": "1.1.0",
      "model_name": "LayoutModel",
      "state": {}
     },
     "37058d63ceb04279967c781d088428ca": {
      "model_module": "@jupyter-widgets/controls",
      "model_module_version": "1.4.0",
      "model_name": "ButtonStyleModel",
      "state": {}
     },
     "374d510ecbb346f28e60298771206103": {
      "model_module": "@jupyter-widgets/controls",
      "model_module_version": "1.4.0",
      "model_name": "ButtonModel",
      "state": {
       "button_style": "info",
       "description": "Get PageViews",
       "layout": "IPY_MODEL_2669fc05255a437593e8dd9a76f4e270",
       "style": "IPY_MODEL_1899fae55f48481097d4242637ea79ce"
      }
     },
     "37775b30f3874823b2524bcf2f02a8f7": {
      "model_module": "@jupyter-widgets/controls",
      "model_module_version": "1.4.0",
      "model_name": "DescriptionStyleModel",
      "state": {
       "description_width": ""
      }
     },
     "37798200241744fc89baa351331fcc08": {
      "model_module": "@jupyter-widgets/base",
      "model_module_version": "1.1.0",
      "model_name": "LayoutModel",
      "state": {}
     },
     "3902b8a67bf34f12bcd22014857e2b22": {
      "model_module": "@jupyter-widgets/controls",
      "model_module_version": "1.4.0",
      "model_name": "DescriptionStyleModel",
      "state": {
       "description_width": ""
      }
     },
     "39513ad6c17b496c93f33598b8ee88ca": {
      "model_module": "@jupyter-widgets/controls",
      "model_module_version": "1.4.0",
      "model_name": "DescriptionStyleModel",
      "state": {
       "description_width": ""
      }
     },
     "3951689c2b05473385577bed63e11f5f": {
      "model_module": "@jupyter-widgets/controls",
      "model_module_version": "1.4.0",
      "model_name": "DatePickerModel",
      "state": {
       "description": "start date",
       "disabled": false,
       "layout": "IPY_MODEL_fc9d826c0426490d9a5e31a63e95e999",
       "style": "IPY_MODEL_db9c948fa12e4f62b2e516de93a2f196"
      }
     },
     "39b6b2a5c9ef40128ee07bdc677d58fc": {
      "model_module": "@jupyter-widgets/controls",
      "model_module_version": "1.4.0",
      "model_name": "GridBoxModel",
      "state": {
       "children": [
        "IPY_MODEL_d4157eac535447e3bd47a503af757996",
        "IPY_MODEL_f25d9c45c1c2460ab5278504c87d977d",
        "IPY_MODEL_7b0ad9a5e64f4e4f904261eea1742d89",
        "IPY_MODEL_029f5775db264421b6c27c2889b10188"
       ],
       "layout": "IPY_MODEL_b526bc019e3e4e24bf311f0c90667472"
      }
     },
     "3aaedabcf99041da9af667ea826c4c0c": {
      "model_module": "@jupyter-widgets/controls",
      "model_module_version": "1.4.0",
      "model_name": "DescriptionStyleModel",
      "state": {
       "description_width": ""
      }
     },
     "3b2e0974df4646a5a404a0f06ab5a913": {
      "model_module": "@jupyter-widgets/controls",
      "model_module_version": "1.4.0",
      "model_name": "TextModel",
      "state": {
       "layout": "IPY_MODEL_5c9f010668684442bd63f3ccecbe1488",
       "placeholder": "user_id",
       "style": "IPY_MODEL_1b45f488bad9422ebb91c770c0452a2e",
       "value": "5443278"
      }
     },
     "3b3f2e3c8eac4656934ffbba9ca606b2": {
      "model_module": "@jupyter-widgets/controls",
      "model_module_version": "1.4.0",
      "model_name": "TextModel",
      "state": {
       "layout": "IPY_MODEL_81db3dc4b1f644f9893474108dad7c98",
       "placeholder": "user_id",
       "style": "IPY_MODEL_800b335202e04272957758fedadb8835",
       "value": "5443278"
      }
     },
     "3b3fd834c6f3494485ee8623accea921": {
      "model_module": "@jupyter-widgets/base",
      "model_module_version": "1.1.0",
      "model_name": "LayoutModel",
      "state": {
       "align_items": "center",
       "grid_area": "left",
       "width": "90%"
      }
     },
     "3b8ecb114eb2443481ad2b4b74d7383c": {
      "model_module": "@jupyter-widgets/controls",
      "model_module_version": "1.4.0",
      "model_name": "DescriptionStyleModel",
      "state": {
       "description_width": ""
      }
     },
     "3bfd8f3336954254be14f16feb6f732c": {
      "model_module": "@jupyter-widgets/controls",
      "model_module_version": "1.4.0",
      "model_name": "ButtonStyleModel",
      "state": {}
     },
     "3c50e037f6004612aca8755c0718d9b4": {
      "model_module": "@jupyter-widgets/controls",
      "model_module_version": "1.4.0",
      "model_name": "GridBoxModel",
      "state": {
       "children": [
        "IPY_MODEL_1e3f5b7185dc419ba1f351413ed491bf",
        "IPY_MODEL_4ac6e53c12e04e75a3b8f233e4e95d1a",
        "IPY_MODEL_76d72ebd5fe74f08ae51e033b46b3965",
        "IPY_MODEL_93087695446e464588cedc2655288b8f"
       ],
       "layout": "IPY_MODEL_59ca4df0f14048b99722087b9c9a82c7"
      }
     },
     "3cb07c97dad4476aaf7dba0f1aabc3dc": {
      "model_module": "@jupyter-widgets/base",
      "model_module_version": "1.1.0",
      "model_name": "LayoutModel",
      "state": {
       "align_items": "center",
       "grid_area": "left",
       "width": "90%"
      }
     },
     "3cd94f39f93842e6984eede5a5acf105": {
      "model_module": "@jupyter-widgets/output",
      "model_module_version": "1.0.0",
      "model_name": "OutputModel",
      "state": {
       "layout": "IPY_MODEL_d189fb7dc9404668944f6ffe2e63641b",
       "outputs": [
        {
         "data": {
          "text/html": "<div>\n<style scoped>\n    .dataframe tbody tr th:only-of-type {\n        vertical-align: middle;\n    }\n\n    .dataframe tbody tr th {\n        vertical-align: top;\n    }\n\n    .dataframe thead th {\n        text-align: right;\n    }\n</style>\n<table border=\"1\" class=\"dataframe\">\n  <thead>\n    <tr style=\"text-align: right;\">\n      <th></th>\n      <th>action</th>\n      <th>controller</th>\n      <th>path</th>\n      <th>resource</th>\n      <th>resource_name</th>\n      <th>scope</th>\n      <th>verb</th>\n    </tr>\n  </thead>\n  <tbody>\n    <tr>\n      <th>141</th>\n      <td>available_migrators</td>\n      <td>content_migrations</td>\n      <td>/api/v1/accounts/:account_id/content_migration...</td>\n      <td>content_migrations</td>\n      <td>Content Migrations</td>\n      <td>url:GET|/api/v1/accounts/:account_id/content_m...</td>\n      <td>GET</td>\n    </tr>\n    <tr>\n      <th>142</th>\n      <td>show</td>\n      <td>content_migrations</td>\n      <td>/api/v1/accounts/:account_id/content_migration...</td>\n      <td>content_migrations</td>\n      <td>Content Migrations</td>\n      <td>url:GET|/api/v1/accounts/:account_id/content_m...</td>\n      <td>GET</td>\n    </tr>\n    <tr>\n      <th>143</th>\n      <td>index</td>\n      <td>content_migrations</td>\n      <td>/api/v1/accounts/:account_id/content_migrations</td>\n      <td>content_migrations</td>\n      <td>Content Migrations</td>\n      <td>url:GET|/api/v1/accounts/:account_id/content_m...</td>\n      <td>GET</td>\n    </tr>\n    <tr>\n      <th>144</th>\n      <td>create</td>\n      <td>content_migrations</td>\n      <td>/api/v1/accounts/:account_id/content_migrations</td>\n      <td>content_migrations</td>\n      <td>Content Migrations</td>\n      <td>url:POST|/api/v1/accounts/:account_id/content_...</td>\n      <td>POST</td>\n    </tr>\n    <tr>\n      <th>145</th>\n      <td>update</td>\n      <td>content_migrations</td>\n      <td>/api/v1/accounts/:account_id/content_migration...</td>\n      <td>content_migrations</td>\n      <td>Content Migrations</td>\n      <td>url:PUT|/api/v1/accounts/:account_id/content_m...</td>\n      <td>PUT</td>\n    </tr>\n    <tr>\n      <th>146</th>\n      <td>content_list</td>\n      <td>content_migrations</td>\n      <td>/api/v1/accounts/:account_id/content_migration...</td>\n      <td>content_migrations</td>\n      <td>Content Migrations</td>\n      <td>url:GET|/api/v1/accounts/:account_id/content_m...</td>\n      <td>GET</td>\n    </tr>\n    <tr>\n      <th>147</th>\n      <td>available_migrators</td>\n      <td>content_migrations</td>\n      <td>/api/v1/courses/:course_id/content_migrations/...</td>\n      <td>content_migrations</td>\n      <td>Content Migrations</td>\n      <td>url:GET|/api/v1/courses/:course_id/content_mig...</td>\n      <td>GET</td>\n    </tr>\n    <tr>\n      <th>148</th>\n      <td>show</td>\n      <td>content_migrations</td>\n      <td>/api/v1/courses/:course_id/content_migrations/:id</td>\n      <td>content_migrations</td>\n      <td>Content Migrations</td>\n      <td>url:GET|/api/v1/courses/:course_id/content_mig...</td>\n      <td>GET</td>\n    </tr>\n    <tr>\n      <th>149</th>\n      <td>index</td>\n      <td>content_migrations</td>\n      <td>/api/v1/courses/:course_id/content_migrations</td>\n      <td>content_migrations</td>\n      <td>Content Migrations</td>\n      <td>url:GET|/api/v1/courses/:course_id/content_mig...</td>\n      <td>GET</td>\n    </tr>\n    <tr>\n      <th>150</th>\n      <td>create</td>\n      <td>content_migrations</td>\n      <td>/api/v1/courses/:course_id/content_migrations</td>\n      <td>content_migrations</td>\n      <td>Content Migrations</td>\n      <td>url:POST|/api/v1/courses/:course_id/content_mi...</td>\n      <td>POST</td>\n    </tr>\n    <tr>\n      <th>151</th>\n      <td>update</td>\n      <td>content_migrations</td>\n      <td>/api/v1/courses/:course_id/content_migrations/:id</td>\n      <td>content_migrations</td>\n      <td>Content Migrations</td>\n      <td>url:PUT|/api/v1/courses/:course_id/content_mig...</td>\n      <td>PUT</td>\n    </tr>\n    <tr>\n      <th>152</th>\n      <td>content_list</td>\n      <td>content_migrations</td>\n      <td>/api/v1/courses/:course_id/content_migrations/...</td>\n      <td>content_migrations</td>\n      <td>Content Migrations</td>\n      <td>url:GET|/api/v1/courses/:course_id/content_mig...</td>\n      <td>GET</td>\n    </tr>\n    <tr>\n      <th>153</th>\n      <td>available_migrators</td>\n      <td>content_migrations</td>\n      <td>/api/v1/groups/:group_id/content_migrations/mi...</td>\n      <td>content_migrations</td>\n      <td>Content Migrations</td>\n      <td>url:GET|/api/v1/groups/:group_id/content_migra...</td>\n      <td>GET</td>\n    </tr>\n    <tr>\n      <th>154</th>\n      <td>show</td>\n      <td>content_migrations</td>\n      <td>/api/v1/groups/:group_id/content_migrations/:id</td>\n      <td>content_migrations</td>\n      <td>Content Migrations</td>\n      <td>url:GET|/api/v1/groups/:group_id/content_migra...</td>\n      <td>GET</td>\n    </tr>\n    <tr>\n      <th>155</th>\n      <td>index</td>\n      <td>content_migrations</td>\n      <td>/api/v1/groups/:group_id/content_migrations</td>\n      <td>content_migrations</td>\n      <td>Content Migrations</td>\n      <td>url:GET|/api/v1/groups/:group_id/content_migra...</td>\n      <td>GET</td>\n    </tr>\n    <tr>\n      <th>156</th>\n      <td>create</td>\n      <td>content_migrations</td>\n      <td>/api/v1/groups/:group_id/content_migrations</td>\n      <td>content_migrations</td>\n      <td>Content Migrations</td>\n      <td>url:POST|/api/v1/groups/:group_id/content_migr...</td>\n      <td>POST</td>\n    </tr>\n    <tr>\n      <th>157</th>\n      <td>update</td>\n      <td>content_migrations</td>\n      <td>/api/v1/groups/:group_id/content_migrations/:id</td>\n      <td>content_migrations</td>\n      <td>Content Migrations</td>\n      <td>url:PUT|/api/v1/groups/:group_id/content_migra...</td>\n      <td>PUT</td>\n    </tr>\n    <tr>\n      <th>158</th>\n      <td>content_list</td>\n      <td>content_migrations</td>\n      <td>/api/v1/groups/:group_id/content_migrations/:i...</td>\n      <td>content_migrations</td>\n      <td>Content Migrations</td>\n      <td>url:GET|/api/v1/groups/:group_id/content_migra...</td>\n      <td>GET</td>\n    </tr>\n    <tr>\n      <th>159</th>\n      <td>available_migrators</td>\n      <td>content_migrations</td>\n      <td>/api/v1/users/:user_id/content_migrations/migr...</td>\n      <td>content_migrations</td>\n      <td>Content Migrations</td>\n      <td>url:GET|/api/v1/users/:user_id/content_migrati...</td>\n      <td>GET</td>\n    </tr>\n    <tr>\n      <th>160</th>\n      <td>show</td>\n      <td>content_migrations</td>\n      <td>/api/v1/users/:user_id/content_migrations/:id</td>\n      <td>content_migrations</td>\n      <td>Content Migrations</td>\n      <td>url:GET|/api/v1/users/:user_id/content_migrati...</td>\n      <td>GET</td>\n    </tr>\n    <tr>\n      <th>161</th>\n      <td>index</td>\n      <td>content_migrations</td>\n      <td>/api/v1/users/:user_id/content_migrations</td>\n      <td>content_migrations</td>\n      <td>Content Migrations</td>\n      <td>url:GET|/api/v1/users/:user_id/content_migrations</td>\n      <td>GET</td>\n    </tr>\n    <tr>\n      <th>162</th>\n      <td>create</td>\n      <td>content_migrations</td>\n      <td>/api/v1/users/:user_id/content_migrations</td>\n      <td>content_migrations</td>\n      <td>Content Migrations</td>\n      <td>url:POST|/api/v1/users/:user_id/content_migrat...</td>\n      <td>POST</td>\n    </tr>\n    <tr>\n      <th>163</th>\n      <td>update</td>\n      <td>content_migrations</td>\n      <td>/api/v1/users/:user_id/content_migrations/:id</td>\n      <td>content_migrations</td>\n      <td>Content Migrations</td>\n      <td>url:PUT|/api/v1/users/:user_id/content_migrati...</td>\n      <td>PUT</td>\n    </tr>\n    <tr>\n      <th>164</th>\n      <td>content_list</td>\n      <td>content_migrations</td>\n      <td>/api/v1/users/:user_id/content_migrations/:id/...</td>\n      <td>content_migrations</td>\n      <td>Content Migrations</td>\n      <td>url:GET|/api/v1/users/:user_id/content_migrati...</td>\n      <td>GET</td>\n    </tr>\n    <tr>\n      <th>165</th>\n      <td>show</td>\n      <td>migration_issues</td>\n      <td>/api/v1/accounts/:account_id/content_migration...</td>\n      <td>content_migrations</td>\n      <td>Content Migrations</td>\n      <td>url:GET|/api/v1/accounts/:account_id/content_m...</td>\n      <td>GET</td>\n    </tr>\n    <tr>\n      <th>166</th>\n      <td>index</td>\n      <td>migration_issues</td>\n      <td>/api/v1/accounts/:account_id/content_migration...</td>\n      <td>content_migrations</td>\n      <td>Content Migrations</td>\n      <td>url:GET|/api/v1/accounts/:account_id/content_m...</td>\n      <td>GET</td>\n    </tr>\n    <tr>\n      <th>167</th>\n      <td>update</td>\n      <td>migration_issues</td>\n      <td>/api/v1/accounts/:account_id/content_migration...</td>\n      <td>content_migrations</td>\n      <td>Content Migrations</td>\n      <td>url:PUT|/api/v1/accounts/:account_id/content_m...</td>\n      <td>PUT</td>\n    </tr>\n    <tr>\n      <th>168</th>\n      <td>show</td>\n      <td>migration_issues</td>\n      <td>/api/v1/courses/:course_id/content_migrations/...</td>\n      <td>content_migrations</td>\n      <td>Content Migrations</td>\n      <td>url:GET|/api/v1/courses/:course_id/content_mig...</td>\n      <td>GET</td>\n    </tr>\n    <tr>\n      <th>169</th>\n      <td>index</td>\n      <td>migration_issues</td>\n      <td>/api/v1/courses/:course_id/content_migrations/...</td>\n      <td>content_migrations</td>\n      <td>Content Migrations</td>\n      <td>url:GET|/api/v1/courses/:course_id/content_mig...</td>\n      <td>GET</td>\n    </tr>\n    <tr>\n      <th>170</th>\n      <td>update</td>\n      <td>migration_issues</td>\n      <td>/api/v1/courses/:course_id/content_migrations/...</td>\n      <td>content_migrations</td>\n      <td>Content Migrations</td>\n      <td>url:PUT|/api/v1/courses/:course_id/content_mig...</td>\n      <td>PUT</td>\n    </tr>\n    <tr>\n      <th>171</th>\n      <td>show</td>\n      <td>migration_issues</td>\n      <td>/api/v1/groups/:group_id/content_migrations/:c...</td>\n      <td>content_migrations</td>\n      <td>Content Migrations</td>\n      <td>url:GET|/api/v1/groups/:group_id/content_migra...</td>\n      <td>GET</td>\n    </tr>\n    <tr>\n      <th>172</th>\n      <td>index</td>\n      <td>migration_issues</td>\n      <td>/api/v1/groups/:group_id/content_migrations/:c...</td>\n      <td>content_migrations</td>\n      <td>Content Migrations</td>\n      <td>url:GET|/api/v1/groups/:group_id/content_migra...</td>\n      <td>GET</td>\n    </tr>\n    <tr>\n      <th>173</th>\n      <td>update</td>\n      <td>migration_issues</td>\n      <td>/api/v1/groups/:group_id/content_migrations/:c...</td>\n      <td>content_migrations</td>\n      <td>Content Migrations</td>\n      <td>url:PUT|/api/v1/groups/:group_id/content_migra...</td>\n      <td>PUT</td>\n    </tr>\n    <tr>\n      <th>174</th>\n      <td>show</td>\n      <td>migration_issues</td>\n      <td>/api/v1/users/:user_id/content_migrations/:con...</td>\n      <td>content_migrations</td>\n      <td>Content Migrations</td>\n      <td>url:GET|/api/v1/users/:user_id/content_migrati...</td>\n      <td>GET</td>\n    </tr>\n    <tr>\n      <th>175</th>\n      <td>index</td>\n      <td>migration_issues</td>\n      <td>/api/v1/users/:user_id/content_migrations/:con...</td>\n      <td>content_migrations</td>\n      <td>Content Migrations</td>\n      <td>url:GET|/api/v1/users/:user_id/content_migrati...</td>\n      <td>GET</td>\n    </tr>\n    <tr>\n      <th>176</th>\n      <td>update</td>\n      <td>migration_issues</td>\n      <td>/api/v1/users/:user_id/content_migrations/:con...</td>\n      <td>content_migrations</td>\n      <td>Content Migrations</td>\n      <td>url:PUT|/api/v1/users/:user_id/content_migrati...</td>\n      <td>PUT</td>\n    </tr>\n  </tbody>\n</table>\n</div>",
          "text/plain": "                  action          controller  \\\n141  available_migrators  content_migrations   \n142                 show  content_migrations   \n143                index  content_migrations   \n144               create  content_migrations   \n145               update  content_migrations   \n146         content_list  content_migrations   \n147  available_migrators  content_migrations   \n148                 show  content_migrations   \n149                index  content_migrations   \n150               create  content_migrations   \n151               update  content_migrations   \n152         content_list  content_migrations   \n153  available_migrators  content_migrations   \n154                 show  content_migrations   \n155                index  content_migrations   \n156               create  content_migrations   \n157               update  content_migrations   \n158         content_list  content_migrations   \n159  available_migrators  content_migrations   \n160                 show  content_migrations   \n161                index  content_migrations   \n162               create  content_migrations   \n163               update  content_migrations   \n164         content_list  content_migrations   \n165                 show    migration_issues   \n166                index    migration_issues   \n167               update    migration_issues   \n168                 show    migration_issues   \n169                index    migration_issues   \n170               update    migration_issues   \n171                 show    migration_issues   \n172                index    migration_issues   \n173               update    migration_issues   \n174                 show    migration_issues   \n175                index    migration_issues   \n176               update    migration_issues   \n\n                                                  path            resource  \\\n141  /api/v1/accounts/:account_id/content_migration...  content_migrations   \n142  /api/v1/accounts/:account_id/content_migration...  content_migrations   \n143    /api/v1/accounts/:account_id/content_migrations  content_migrations   \n144    /api/v1/accounts/:account_id/content_migrations  content_migrations   \n145  /api/v1/accounts/:account_id/content_migration...  content_migrations   \n146  /api/v1/accounts/:account_id/content_migration...  content_migrations   \n147  /api/v1/courses/:course_id/content_migrations/...  content_migrations   \n148  /api/v1/courses/:course_id/content_migrations/:id  content_migrations   \n149      /api/v1/courses/:course_id/content_migrations  content_migrations   \n150      /api/v1/courses/:course_id/content_migrations  content_migrations   \n151  /api/v1/courses/:course_id/content_migrations/:id  content_migrations   \n152  /api/v1/courses/:course_id/content_migrations/...  content_migrations   \n153  /api/v1/groups/:group_id/content_migrations/mi...  content_migrations   \n154    /api/v1/groups/:group_id/content_migrations/:id  content_migrations   \n155        /api/v1/groups/:group_id/content_migrations  content_migrations   \n156        /api/v1/groups/:group_id/content_migrations  content_migrations   \n157    /api/v1/groups/:group_id/content_migrations/:id  content_migrations   \n158  /api/v1/groups/:group_id/content_migrations/:i...  content_migrations   \n159  /api/v1/users/:user_id/content_migrations/migr...  content_migrations   \n160      /api/v1/users/:user_id/content_migrations/:id  content_migrations   \n161          /api/v1/users/:user_id/content_migrations  content_migrations   \n162          /api/v1/users/:user_id/content_migrations  content_migrations   \n163      /api/v1/users/:user_id/content_migrations/:id  content_migrations   \n164  /api/v1/users/:user_id/content_migrations/:id/...  content_migrations   \n165  /api/v1/accounts/:account_id/content_migration...  content_migrations   \n166  /api/v1/accounts/:account_id/content_migration...  content_migrations   \n167  /api/v1/accounts/:account_id/content_migration...  content_migrations   \n168  /api/v1/courses/:course_id/content_migrations/...  content_migrations   \n169  /api/v1/courses/:course_id/content_migrations/...  content_migrations   \n170  /api/v1/courses/:course_id/content_migrations/...  content_migrations   \n171  /api/v1/groups/:group_id/content_migrations/:c...  content_migrations   \n172  /api/v1/groups/:group_id/content_migrations/:c...  content_migrations   \n173  /api/v1/groups/:group_id/content_migrations/:c...  content_migrations   \n174  /api/v1/users/:user_id/content_migrations/:con...  content_migrations   \n175  /api/v1/users/:user_id/content_migrations/:con...  content_migrations   \n176  /api/v1/users/:user_id/content_migrations/:con...  content_migrations   \n\n          resource_name                                              scope  \\\n141  Content Migrations  url:GET|/api/v1/accounts/:account_id/content_m...   \n142  Content Migrations  url:GET|/api/v1/accounts/:account_id/content_m...   \n143  Content Migrations  url:GET|/api/v1/accounts/:account_id/content_m...   \n144  Content Migrations  url:POST|/api/v1/accounts/:account_id/content_...   \n145  Content Migrations  url:PUT|/api/v1/accounts/:account_id/content_m...   \n146  Content Migrations  url:GET|/api/v1/accounts/:account_id/content_m...   \n147  Content Migrations  url:GET|/api/v1/courses/:course_id/content_mig...   \n148  Content Migrations  url:GET|/api/v1/courses/:course_id/content_mig...   \n149  Content Migrations  url:GET|/api/v1/courses/:course_id/content_mig...   \n150  Content Migrations  url:POST|/api/v1/courses/:course_id/content_mi...   \n151  Content Migrations  url:PUT|/api/v1/courses/:course_id/content_mig...   \n152  Content Migrations  url:GET|/api/v1/courses/:course_id/content_mig...   \n153  Content Migrations  url:GET|/api/v1/groups/:group_id/content_migra...   \n154  Content Migrations  url:GET|/api/v1/groups/:group_id/content_migra...   \n155  Content Migrations  url:GET|/api/v1/groups/:group_id/content_migra...   \n156  Content Migrations  url:POST|/api/v1/groups/:group_id/content_migr...   \n157  Content Migrations  url:PUT|/api/v1/groups/:group_id/content_migra...   \n158  Content Migrations  url:GET|/api/v1/groups/:group_id/content_migra...   \n159  Content Migrations  url:GET|/api/v1/users/:user_id/content_migrati...   \n160  Content Migrations  url:GET|/api/v1/users/:user_id/content_migrati...   \n161  Content Migrations  url:GET|/api/v1/users/:user_id/content_migrations   \n162  Content Migrations  url:POST|/api/v1/users/:user_id/content_migrat...   \n163  Content Migrations  url:PUT|/api/v1/users/:user_id/content_migrati...   \n164  Content Migrations  url:GET|/api/v1/users/:user_id/content_migrati...   \n165  Content Migrations  url:GET|/api/v1/accounts/:account_id/content_m...   \n166  Content Migrations  url:GET|/api/v1/accounts/:account_id/content_m...   \n167  Content Migrations  url:PUT|/api/v1/accounts/:account_id/content_m...   \n168  Content Migrations  url:GET|/api/v1/courses/:course_id/content_mig...   \n169  Content Migrations  url:GET|/api/v1/courses/:course_id/content_mig...   \n170  Content Migrations  url:PUT|/api/v1/courses/:course_id/content_mig...   \n171  Content Migrations  url:GET|/api/v1/groups/:group_id/content_migra...   \n172  Content Migrations  url:GET|/api/v1/groups/:group_id/content_migra...   \n173  Content Migrations  url:PUT|/api/v1/groups/:group_id/content_migra...   \n174  Content Migrations  url:GET|/api/v1/users/:user_id/content_migrati...   \n175  Content Migrations  url:GET|/api/v1/users/:user_id/content_migrati...   \n176  Content Migrations  url:PUT|/api/v1/users/:user_id/content_migrati...   \n\n     verb  \n141   GET  \n142   GET  \n143   GET  \n144  POST  \n145   PUT  \n146   GET  \n147   GET  \n148   GET  \n149   GET  \n150  POST  \n151   PUT  \n152   GET  \n153   GET  \n154   GET  \n155   GET  \n156  POST  \n157   PUT  \n158   GET  \n159   GET  \n160   GET  \n161   GET  \n162  POST  \n163   PUT  \n164   GET  \n165   GET  \n166   GET  \n167   PUT  \n168   GET  \n169   GET  \n170   PUT  \n171   GET  \n172   GET  \n173   PUT  \n174   GET  \n175   GET  \n176   PUT  "
         },
         "metadata": {},
         "output_type": "display_data"
        }
       ]
      }
     },
     "3ce1c098a03e42b1b1c49a084adb96b4": {
      "model_module": "@jupyter-widgets/controls",
      "model_module_version": "1.4.0",
      "model_name": "ButtonModel",
      "state": {
       "button_style": "info",
       "description": "Get PageViews",
       "layout": "IPY_MODEL_11f0aa6fe227450a9b2eac7a4331fac2",
       "style": "IPY_MODEL_9b316d9af7f8442c9c17f0304a125eee"
      }
     },
     "3ce7b2ff006e474c8d8be3a60c9b4335": {
      "model_module": "@jupyter-widgets/controls",
      "model_module_version": "1.4.0",
      "model_name": "TextModel",
      "state": {
       "layout": "IPY_MODEL_ec668a38dfd74510a3e2c49636d8c2d8",
       "placeholder": "user_id",
       "style": "IPY_MODEL_6c00001044ca4d86b4a625a752eede78",
       "value": "5443278"
      }
     },
     "3d20eca98de5404f812ae3418c2f0816": {
      "model_module": "@jupyter-widgets/base",
      "model_module_version": "1.1.0",
      "model_name": "LayoutModel",
      "state": {
       "align_items": "center",
       "grid_area": "header",
       "width": "90%"
      }
     },
     "3dbdd7a178a647bca44d5e44a8e6e7e0": {
      "model_module": "@jupyter-widgets/controls",
      "model_module_version": "1.4.0",
      "model_name": "TextModel",
      "state": {
       "layout": "IPY_MODEL_901c4641d95f4dc4a1100de21ae86810",
       "placeholder": "user_id",
       "style": "IPY_MODEL_3aaedabcf99041da9af667ea826c4c0c",
       "value": "5443278"
      }
     },
     "3dc23437b79a4d99be3eb047c99f4aac": {
      "model_module": "@jupyter-widgets/output",
      "model_module_version": "1.0.0",
      "model_name": "OutputModel",
      "state": {
       "layout": "IPY_MODEL_dd2f4a1c6ce84d6fa575d05adbd0526a",
       "outputs": [
        {
         "data": {
          "text/html": "<div>\n<style scoped>\n    .dataframe tbody tr th:only-of-type {\n        vertical-align: middle;\n    }\n\n    .dataframe tbody tr th {\n        vertical-align: top;\n    }\n\n    .dataframe thead th {\n        text-align: right;\n    }\n</style>\n<table border=\"1\" class=\"dataframe\">\n  <thead>\n    <tr style=\"text-align: right;\">\n      <th></th>\n      <th>action</th>\n      <th>app_name</th>\n      <th>asset_type</th>\n      <th>asset_user_access_id</th>\n      <th>context_type</th>\n      <th>contributed</th>\n      <th>controller</th>\n      <th>created_at</th>\n      <th>developer_key_id</th>\n      <th>http_method</th>\n      <th>...</th>\n      <th>links</th>\n      <th>participated</th>\n      <th>remote_ip</th>\n      <th>render_time</th>\n      <th>session_id</th>\n      <th>summarized</th>\n      <th>updated_at</th>\n      <th>url</th>\n      <th>user_agent</th>\n      <th>user_request</th>\n    </tr>\n  </thead>\n  <tbody>\n    <tr>\n      <th>0</th>\n      <td>api_show</td>\n      <td>User-Generated</td>\n      <td>None</td>\n      <td>None</td>\n      <td>None</td>\n      <td>False</td>\n      <td>users</td>\n      <td>2019-05-13T16:24:10Z</td>\n      <td>170000000000016</td>\n      <td>get</td>\n      <td>...</td>\n      <td>{'user': 5443278, 'context': None, 'asset': No...</td>\n      <td>False</td>\n      <td>165.123.108.90</td>\n      <td>0.101640</td>\n      <td>c168e2fce30c1d393b9e6b092e3e8ce5</td>\n      <td>None</td>\n      <td>2019-05-13T16:24:10Z</td>\n      <td>https://canvas.upenn.edu/api/v1/users/5443278</td>\n      <td>python-requests/2.21.0</td>\n      <td>None</td>\n    </tr>\n    <tr>\n      <th>1</th>\n      <td>index</td>\n      <td>User-Generated</td>\n      <td>None</td>\n      <td>None</td>\n      <td>Course</td>\n      <td>False</td>\n      <td>quizzes/quiz_submissions_api</td>\n      <td>2019-05-13T16:23:58Z</td>\n      <td>170000000000016</td>\n      <td>get</td>\n      <td>...</td>\n      <td>{'user': 5443278, 'context': 1424853, 'asset':...</td>\n      <td>False</td>\n      <td>165.123.108.90</td>\n      <td>2.445917</td>\n      <td>a7f39e5390f93f018672d9404d6f082f</td>\n      <td>None</td>\n      <td>2019-05-13T16:23:58Z</td>\n      <td>https://canvas.upenn.edu/api/v1//courses/14248...</td>\n      <td>python-requests/2.21.0</td>\n      <td>None</td>\n    </tr>\n    <tr>\n      <th>2</th>\n      <td>index</td>\n      <td>User-Generated</td>\n      <td>None</td>\n      <td>None</td>\n      <td>Account</td>\n      <td>False</td>\n      <td>scopes_api</td>\n      <td>2019-05-13T16:23:58Z</td>\n      <td>170000000000016</td>\n      <td>get</td>\n      <td>...</td>\n      <td>{'user': 5443278, 'context': 96678, 'asset': N...</td>\n      <td>False</td>\n      <td>165.123.108.90</td>\n      <td>0.059810</td>\n      <td>5c1b2eaf20fb078e399419eb198ed0e0</td>\n      <td>None</td>\n      <td>2019-05-13T16:23:58Z</td>\n      <td>https://canvas.upenn.edu/api/v1/accounts/self/...</td>\n      <td>python-requests/2.21.0</td>\n      <td>None</td>\n    </tr>\n    <tr>\n      <th>3</th>\n      <td>index</td>\n      <td>User-Generated</td>\n      <td>None</td>\n      <td>None</td>\n      <td>Account</td>\n      <td>False</td>\n      <td>scopes_api</td>\n      <td>2019-05-13T16:23:57Z</td>\n      <td>170000000000016</td>\n      <td>get</td>\n      <td>...</td>\n      <td>{'user': 5443278, 'context': 96678, 'asset': N...</td>\n      <td>False</td>\n      <td>165.123.108.90</td>\n      <td>0.451222</td>\n      <td>362de6a53c7a2633c1e891a84e7dcabf</td>\n      <td>None</td>\n      <td>2019-05-13T16:23:57Z</td>\n      <td>https://canvas.upenn.edu/api/v1/accounts/self/...</td>\n      <td>python-requests/2.21.0</td>\n      <td>None</td>\n    </tr>\n    <tr>\n      <th>4</th>\n      <td>index</td>\n      <td>User-Generated</td>\n      <td>None</td>\n      <td>None</td>\n      <td>Account</td>\n      <td>False</td>\n      <td>scopes_api</td>\n      <td>2019-05-13T16:23:57Z</td>\n      <td>170000000000016</td>\n      <td>get</td>\n      <td>...</td>\n      <td>{'user': 5443278, 'context': 96678, 'asset': N...</td>\n      <td>False</td>\n      <td>165.123.108.90</td>\n      <td>0.365610</td>\n      <td>05636dc54d5ce4903a794cb351ab9a69</td>\n      <td>None</td>\n      <td>2019-05-13T16:23:57Z</td>\n      <td>https://canvas.upenn.edu/api/v1/accounts/self/...</td>\n      <td>python-requests/2.21.0</td>\n      <td>None</td>\n    </tr>\n    <tr>\n      <th>5</th>\n      <td>index</td>\n      <td>User-Generated</td>\n      <td>None</td>\n      <td>None</td>\n      <td>Account</td>\n      <td>False</td>\n      <td>scopes_api</td>\n      <td>2019-05-13T16:23:53Z</td>\n      <td>170000000000016</td>\n      <td>get</td>\n      <td>...</td>\n      <td>{'user': 5443278, 'context': 96678, 'asset': N...</td>\n      <td>False</td>\n      <td>165.123.108.90</td>\n      <td>0.523446</td>\n      <td>034e6ac544bcc3bd611ef4828fd18e71</td>\n      <td>None</td>\n      <td>2019-05-13T16:23:53Z</td>\n      <td>https://canvas.upenn.edu/api/v1/accounts/self/...</td>\n      <td>python-requests/2.21.0</td>\n      <td>None</td>\n    </tr>\n    <tr>\n      <th>6</th>\n      <td>index</td>\n      <td>User-Generated</td>\n      <td>None</td>\n      <td>None</td>\n      <td>Account</td>\n      <td>False</td>\n      <td>scopes_api</td>\n      <td>2019-05-13T16:23:40Z</td>\n      <td>170000000000016</td>\n      <td>get</td>\n      <td>...</td>\n      <td>{'user': 5443278, 'context': 96678, 'asset': N...</td>\n      <td>False</td>\n      <td>165.123.108.90</td>\n      <td>0.372882</td>\n      <td>1f2d7e577fbbb7704600641b597e8bcf</td>\n      <td>None</td>\n      <td>2019-05-13T16:23:40Z</td>\n      <td>https://canvas.upenn.edu/api/v1/accounts/self/...</td>\n      <td>python-requests/2.21.0</td>\n      <td>None</td>\n    </tr>\n    <tr>\n      <th>7</th>\n      <td>api_show</td>\n      <td>User-Generated</td>\n      <td>None</td>\n      <td>None</td>\n      <td>None</td>\n      <td>False</td>\n      <td>users</td>\n      <td>2019-05-13T16:22:49Z</td>\n      <td>170000000000016</td>\n      <td>get</td>\n      <td>...</td>\n      <td>{'user': 5443278, 'context': None, 'asset': No...</td>\n      <td>False</td>\n      <td>165.123.108.90</td>\n      <td>0.081139</td>\n      <td>db08f4232bc40508c5f371a5f9edb579</td>\n      <td>None</td>\n      <td>2019-05-13T16:22:49Z</td>\n      <td>https://canvas.upenn.edu/api/v1/users/5443278</td>\n      <td>python-requests/2.21.0</td>\n      <td>None</td>\n    </tr>\n    <tr>\n      <th>8</th>\n      <td>api_show</td>\n      <td>User-Generated</td>\n      <td>None</td>\n      <td>None</td>\n      <td>None</td>\n      <td>False</td>\n      <td>users</td>\n      <td>2019-05-13T16:22:31Z</td>\n      <td>170000000000016</td>\n      <td>get</td>\n      <td>...</td>\n      <td>{'user': 5443278, 'context': None, 'asset': No...</td>\n      <td>False</td>\n      <td>165.123.108.90</td>\n      <td>0.103087</td>\n      <td>7bf0c3817b22ef4962823b4f81015fc5</td>\n      <td>None</td>\n      <td>2019-05-13T16:22:31Z</td>\n      <td>https://canvas.upenn.edu/api/v1/users/5443278</td>\n      <td>python-requests/2.21.0</td>\n      <td>None</td>\n    </tr>\n    <tr>\n      <th>9</th>\n      <td>api_show</td>\n      <td>User-Generated</td>\n      <td>None</td>\n      <td>None</td>\n      <td>None</td>\n      <td>False</td>\n      <td>users</td>\n      <td>2019-05-13T16:22:26Z</td>\n      <td>170000000000016</td>\n      <td>get</td>\n      <td>...</td>\n      <td>{'user': 5443278, 'context': None, 'asset': No...</td>\n      <td>False</td>\n      <td>165.123.108.90</td>\n      <td>0.122861</td>\n      <td>b5e1f872a74c54d6a3f20ab1d687b170</td>\n      <td>None</td>\n      <td>2019-05-13T16:22:26Z</td>\n      <td>https://canvas.upenn.edu/api/v1/users/5443277</td>\n      <td>python-requests/2.21.0</td>\n      <td>None</td>\n    </tr>\n    <tr>\n      <th>10</th>\n      <td>api_show</td>\n      <td>User-Generated</td>\n      <td>None</td>\n      <td>None</td>\n      <td>None</td>\n      <td>False</td>\n      <td>users</td>\n      <td>2019-05-13T16:22:16Z</td>\n      <td>170000000000016</td>\n      <td>get</td>\n      <td>...</td>\n      <td>{'user': 5443278, 'context': None, 'asset': No...</td>\n      <td>False</td>\n      <td>165.123.108.90</td>\n      <td>0.088944</td>\n      <td>94826d7d7e569a33e32d0e9502c5e32d</td>\n      <td>None</td>\n      <td>2019-05-13T16:22:16Z</td>\n      <td>https://canvas.upenn.edu/api/v1/users/5443277</td>\n      <td>python-requests/2.21.0</td>\n      <td>None</td>\n    </tr>\n    <tr>\n      <th>11</th>\n      <td>api_show</td>\n      <td>User-Generated</td>\n      <td>None</td>\n      <td>None</td>\n      <td>None</td>\n      <td>False</td>\n      <td>users</td>\n      <td>2019-05-13T16:22:02Z</td>\n      <td>170000000000016</td>\n      <td>get</td>\n      <td>...</td>\n      <td>{'user': 5443278, 'context': None, 'asset': No...</td>\n      <td>False</td>\n      <td>165.123.108.90</td>\n      <td>0.163653</td>\n      <td>9f469ba92cb57327104f8fc3f2ca5b50</td>\n      <td>None</td>\n      <td>2019-05-13T16:22:02Z</td>\n      <td>https://canvas.upenn.edu/api/v1/users/5443278</td>\n      <td>python-requests/2.21.0</td>\n      <td>None</td>\n    </tr>\n    <tr>\n      <th>12</th>\n      <td>api_show</td>\n      <td>User-Generated</td>\n      <td>None</td>\n      <td>None</td>\n      <td>None</td>\n      <td>False</td>\n      <td>users</td>\n      <td>2019-05-13T16:21:58Z</td>\n      <td>170000000000016</td>\n      <td>get</td>\n      <td>...</td>\n      <td>{'user': 5443278, 'context': None, 'asset': No...</td>\n      <td>False</td>\n      <td>165.123.108.90</td>\n      <td>0.134529</td>\n      <td>7a887d542b7ee9bd5c33ec76439a66d1</td>\n      <td>None</td>\n      <td>2019-05-13T16:21:58Z</td>\n      <td>https://canvas.upenn.edu/api/v1/users/5443278</td>\n      <td>python-requests/2.21.0</td>\n      <td>None</td>\n    </tr>\n    <tr>\n      <th>13</th>\n      <td>api_show</td>\n      <td>User-Generated</td>\n      <td>None</td>\n      <td>None</td>\n      <td>None</td>\n      <td>False</td>\n      <td>users</td>\n      <td>2019-05-13T16:21:37Z</td>\n      <td>170000000000016</td>\n      <td>get</td>\n      <td>...</td>\n      <td>{'user': 5443278, 'context': None, 'asset': No...</td>\n      <td>False</td>\n      <td>165.123.108.90</td>\n      <td>0.068290</td>\n      <td>0f2f4cdfeedd6f4cf5c8c724ae919bb8</td>\n      <td>None</td>\n      <td>2019-05-13T16:21:37Z</td>\n      <td>https://canvas.upenn.edu/api/v1/users/5443278</td>\n      <td>python-requests/2.21.0</td>\n      <td>None</td>\n    </tr>\n    <tr>\n      <th>14</th>\n      <td>api_show</td>\n      <td>User-Generated</td>\n      <td>None</td>\n      <td>None</td>\n      <td>None</td>\n      <td>False</td>\n      <td>users</td>\n      <td>2019-05-13T16:21:36Z</td>\n      <td>170000000000016</td>\n      <td>get</td>\n      <td>...</td>\n      <td>{'user': 5443278, 'context': None, 'asset': No...</td>\n      <td>False</td>\n      <td>165.123.108.90</td>\n      <td>0.075246</td>\n      <td>ef9f38814072919ae826860e2488acba</td>\n      <td>None</td>\n      <td>2019-05-13T16:21:36Z</td>\n      <td>https://canvas.upenn.edu/api/v1/users/5443278</td>\n      <td>python-requests/2.21.0</td>\n      <td>None</td>\n    </tr>\n    <tr>\n      <th>15</th>\n      <td>api_show</td>\n      <td>User-Generated</td>\n      <td>None</td>\n      <td>None</td>\n      <td>None</td>\n      <td>False</td>\n      <td>users</td>\n      <td>2019-05-13T16:21:03Z</td>\n      <td>170000000000016</td>\n      <td>get</td>\n      <td>...</td>\n      <td>{'user': 5443278, 'context': None, 'asset': No...</td>\n      <td>False</td>\n      <td>165.123.108.90</td>\n      <td>0.085063</td>\n      <td>7f910020f8a7a922f44fdc298aea0d70</td>\n      <td>None</td>\n      <td>2019-05-13T16:21:03Z</td>\n      <td>https://canvas.upenn.edu/api/v1/users/5443278</td>\n      <td>python-requests/2.21.0</td>\n      <td>None</td>\n    </tr>\n    <tr>\n      <th>16</th>\n      <td>api_show</td>\n      <td>User-Generated</td>\n      <td>None</td>\n      <td>None</td>\n      <td>None</td>\n      <td>False</td>\n      <td>users</td>\n      <td>2019-05-13T16:21:02Z</td>\n      <td>170000000000016</td>\n      <td>get</td>\n      <td>...</td>\n      <td>{'user': 5443278, 'context': None, 'asset': No...</td>\n      <td>False</td>\n      <td>165.123.108.90</td>\n      <td>0.077631</td>\n      <td>2683f46218c49fe717945e35ce1bb610</td>\n      <td>None</td>\n      <td>2019-05-13T16:21:02Z</td>\n      <td>https://canvas.upenn.edu/api/v1/users/5443278</td>\n      <td>python-requests/2.21.0</td>\n      <td>None</td>\n    </tr>\n    <tr>\n      <th>17</th>\n      <td>api_show</td>\n      <td>User-Generated</td>\n      <td>None</td>\n      <td>None</td>\n      <td>None</td>\n      <td>False</td>\n      <td>users</td>\n      <td>2019-05-13T16:19:45Z</td>\n      <td>170000000000016</td>\n      <td>get</td>\n      <td>...</td>\n      <td>{'user': 5443278, 'context': None, 'asset': No...</td>\n      <td>False</td>\n      <td>165.123.108.90</td>\n      <td>0.129155</td>\n      <td>b3402b477de2b8689ea1e3aa08974483</td>\n      <td>None</td>\n      <td>2019-05-13T16:19:45Z</td>\n      <td>https://canvas.upenn.edu/api/v1/users/5443278</td>\n      <td>python-requests/2.21.0</td>\n      <td>None</td>\n    </tr>\n    <tr>\n      <th>18</th>\n      <td>api_show</td>\n      <td>User-Generated</td>\n      <td>None</td>\n      <td>None</td>\n      <td>None</td>\n      <td>False</td>\n      <td>users</td>\n      <td>2019-05-13T16:17:47Z</td>\n      <td>170000000000016</td>\n      <td>get</td>\n      <td>...</td>\n      <td>{'user': 5443278, 'context': None, 'asset': No...</td>\n      <td>False</td>\n      <td>165.123.108.90</td>\n      <td>0.119106</td>\n      <td>9d08fef0a4e9a9aec4fda3c1cd7b110b</td>\n      <td>None</td>\n      <td>2019-05-13T16:17:47Z</td>\n      <td>https://canvas.upenn.edu/api/v1/users/5443278</td>\n      <td>python-requests/2.21.0</td>\n      <td>None</td>\n    </tr>\n    <tr>\n      <th>19</th>\n      <td>api_show</td>\n      <td>User-Generated</td>\n      <td>None</td>\n      <td>None</td>\n      <td>None</td>\n      <td>False</td>\n      <td>users</td>\n      <td>2019-05-13T16:17:06Z</td>\n      <td>170000000000016</td>\n      <td>get</td>\n      <td>...</td>\n      <td>{'user': 5443278, 'context': None, 'asset': No...</td>\n      <td>False</td>\n      <td>165.123.108.90</td>\n      <td>0.097454</td>\n      <td>beab170c46511dba9ed93366d342a52d</td>\n      <td>None</td>\n      <td>2019-05-13T16:17:06Z</td>\n      <td>https://canvas.upenn.edu/api/v1/users/5443278</td>\n      <td>python-requests/2.21.0</td>\n      <td>None</td>\n    </tr>\n    <tr>\n      <th>20</th>\n      <td>api_show</td>\n      <td>User-Generated</td>\n      <td>None</td>\n      <td>None</td>\n      <td>None</td>\n      <td>False</td>\n      <td>users</td>\n      <td>2019-05-13T16:16:58Z</td>\n      <td>170000000000016</td>\n      <td>get</td>\n      <td>...</td>\n      <td>{'user': 5443278, 'context': None, 'asset': No...</td>\n      <td>False</td>\n      <td>165.123.108.90</td>\n      <td>0.089420</td>\n      <td>9c90d8519be400f2ed12f251866b9c64</td>\n      <td>None</td>\n      <td>2019-05-13T16:16:58Z</td>\n      <td>https://canvas.upenn.edu/api/v1/users/5443278</td>\n      <td>python-requests/2.21.0</td>\n      <td>None</td>\n    </tr>\n    <tr>\n      <th>21</th>\n      <td>api_show</td>\n      <td>User-Generated</td>\n      <td>None</td>\n      <td>None</td>\n      <td>None</td>\n      <td>False</td>\n      <td>users</td>\n      <td>2019-05-13T16:15:41Z</td>\n      <td>170000000000016</td>\n      <td>get</td>\n      <td>...</td>\n      <td>{'user': 5443278, 'context': None, 'asset': No...</td>\n      <td>False</td>\n      <td>165.123.108.90</td>\n      <td>0.111146</td>\n      <td>dc988c40f29b52abbafb140655d2723e</td>\n      <td>None</td>\n      <td>2019-05-13T16:15:41Z</td>\n      <td>https://canvas.upenn.edu/api/v1/users/5443278</td>\n      <td>python-requests/2.21.0</td>\n      <td>None</td>\n    </tr>\n    <tr>\n      <th>22</th>\n      <td>api_show</td>\n      <td>User-Generated</td>\n      <td>None</td>\n      <td>None</td>\n      <td>None</td>\n      <td>False</td>\n      <td>users</td>\n      <td>2019-05-13T16:15:40Z</td>\n      <td>170000000000016</td>\n      <td>get</td>\n      <td>...</td>\n      <td>{'user': 5443278, 'context': None, 'asset': No...</td>\n      <td>False</td>\n      <td>165.123.108.90</td>\n      <td>0.067307</td>\n      <td>ed47cf756b1f6c759caa17da47a430fb</td>\n      <td>None</td>\n      <td>2019-05-13T16:15:40Z</td>\n      <td>https://canvas.upenn.edu/api/v1/users/5443278</td>\n      <td>python-requests/2.21.0</td>\n      <td>None</td>\n    </tr>\n    <tr>\n      <th>23</th>\n      <td>api_show</td>\n      <td>User-Generated</td>\n      <td>None</td>\n      <td>None</td>\n      <td>None</td>\n      <td>False</td>\n      <td>users</td>\n      <td>2019-05-13T16:15:40Z</td>\n      <td>170000000000016</td>\n      <td>get</td>\n      <td>...</td>\n      <td>{'user': 5443278, 'context': None, 'asset': No...</td>\n      <td>False</td>\n      <td>165.123.108.90</td>\n      <td>0.085913</td>\n      <td>1b60f5c1308c92d21de3b361cc115d62</td>\n      <td>None</td>\n      <td>2019-05-13T16:15:40Z</td>\n      <td>https://canvas.upenn.edu/api/v1/users/5443278</td>\n      <td>python-requests/2.21.0</td>\n      <td>None</td>\n    </tr>\n    <tr>\n      <th>24</th>\n      <td>api_show</td>\n      <td>User-Generated</td>\n      <td>None</td>\n      <td>None</td>\n      <td>None</td>\n      <td>False</td>\n      <td>users</td>\n      <td>2019-05-13T16:15:39Z</td>\n      <td>170000000000016</td>\n      <td>get</td>\n      <td>...</td>\n      <td>{'user': 5443278, 'context': None, 'asset': No...</td>\n      <td>False</td>\n      <td>165.123.108.90</td>\n      <td>0.118818</td>\n      <td>3dcf2805c912f0133ac20fbad8191622</td>\n      <td>None</td>\n      <td>2019-05-13T16:15:39Z</td>\n      <td>https://canvas.upenn.edu/api/v1/users/5443278</td>\n      <td>python-requests/2.21.0</td>\n      <td>None</td>\n    </tr>\n  </tbody>\n</table>\n<p>25 rows × 22 columns</p>\n</div>",
          "text/plain": "      action        app_name asset_type asset_user_access_id context_type  \\\n0   api_show  User-Generated       None                 None         None   \n1      index  User-Generated       None                 None       Course   \n2      index  User-Generated       None                 None      Account   \n3      index  User-Generated       None                 None      Account   \n4      index  User-Generated       None                 None      Account   \n5      index  User-Generated       None                 None      Account   \n6      index  User-Generated       None                 None      Account   \n7   api_show  User-Generated       None                 None         None   \n8   api_show  User-Generated       None                 None         None   \n9   api_show  User-Generated       None                 None         None   \n10  api_show  User-Generated       None                 None         None   \n11  api_show  User-Generated       None                 None         None   \n12  api_show  User-Generated       None                 None         None   \n13  api_show  User-Generated       None                 None         None   \n14  api_show  User-Generated       None                 None         None   \n15  api_show  User-Generated       None                 None         None   \n16  api_show  User-Generated       None                 None         None   \n17  api_show  User-Generated       None                 None         None   \n18  api_show  User-Generated       None                 None         None   \n19  api_show  User-Generated       None                 None         None   \n20  api_show  User-Generated       None                 None         None   \n21  api_show  User-Generated       None                 None         None   \n22  api_show  User-Generated       None                 None         None   \n23  api_show  User-Generated       None                 None         None   \n24  api_show  User-Generated       None                 None         None   \n\n    contributed                    controller            created_at  \\\n0         False                         users  2019-05-13T16:24:10Z   \n1         False  quizzes/quiz_submissions_api  2019-05-13T16:23:58Z   \n2         False                    scopes_api  2019-05-13T16:23:58Z   \n3         False                    scopes_api  2019-05-13T16:23:57Z   \n4         False                    scopes_api  2019-05-13T16:23:57Z   \n5         False                    scopes_api  2019-05-13T16:23:53Z   \n6         False                    scopes_api  2019-05-13T16:23:40Z   \n7         False                         users  2019-05-13T16:22:49Z   \n8         False                         users  2019-05-13T16:22:31Z   \n9         False                         users  2019-05-13T16:22:26Z   \n10        False                         users  2019-05-13T16:22:16Z   \n11        False                         users  2019-05-13T16:22:02Z   \n12        False                         users  2019-05-13T16:21:58Z   \n13        False                         users  2019-05-13T16:21:37Z   \n14        False                         users  2019-05-13T16:21:36Z   \n15        False                         users  2019-05-13T16:21:03Z   \n16        False                         users  2019-05-13T16:21:02Z   \n17        False                         users  2019-05-13T16:19:45Z   \n18        False                         users  2019-05-13T16:17:47Z   \n19        False                         users  2019-05-13T16:17:06Z   \n20        False                         users  2019-05-13T16:16:58Z   \n21        False                         users  2019-05-13T16:15:41Z   \n22        False                         users  2019-05-13T16:15:40Z   \n23        False                         users  2019-05-13T16:15:40Z   \n24        False                         users  2019-05-13T16:15:39Z   \n\n    developer_key_id http_method  ...  \\\n0    170000000000016         get  ...   \n1    170000000000016         get  ...   \n2    170000000000016         get  ...   \n3    170000000000016         get  ...   \n4    170000000000016         get  ...   \n5    170000000000016         get  ...   \n6    170000000000016         get  ...   \n7    170000000000016         get  ...   \n8    170000000000016         get  ...   \n9    170000000000016         get  ...   \n10   170000000000016         get  ...   \n11   170000000000016         get  ...   \n12   170000000000016         get  ...   \n13   170000000000016         get  ...   \n14   170000000000016         get  ...   \n15   170000000000016         get  ...   \n16   170000000000016         get  ...   \n17   170000000000016         get  ...   \n18   170000000000016         get  ...   \n19   170000000000016         get  ...   \n20   170000000000016         get  ...   \n21   170000000000016         get  ...   \n22   170000000000016         get  ...   \n23   170000000000016         get  ...   \n24   170000000000016         get  ...   \n\n                                                links participated  \\\n0   {'user': 5443278, 'context': None, 'asset': No...        False   \n1   {'user': 5443278, 'context': 1424853, 'asset':...        False   \n2   {'user': 5443278, 'context': 96678, 'asset': N...        False   \n3   {'user': 5443278, 'context': 96678, 'asset': N...        False   \n4   {'user': 5443278, 'context': 96678, 'asset': N...        False   \n5   {'user': 5443278, 'context': 96678, 'asset': N...        False   \n6   {'user': 5443278, 'context': 96678, 'asset': N...        False   \n7   {'user': 5443278, 'context': None, 'asset': No...        False   \n8   {'user': 5443278, 'context': None, 'asset': No...        False   \n9   {'user': 5443278, 'context': None, 'asset': No...        False   \n10  {'user': 5443278, 'context': None, 'asset': No...        False   \n11  {'user': 5443278, 'context': None, 'asset': No...        False   \n12  {'user': 5443278, 'context': None, 'asset': No...        False   \n13  {'user': 5443278, 'context': None, 'asset': No...        False   \n14  {'user': 5443278, 'context': None, 'asset': No...        False   \n15  {'user': 5443278, 'context': None, 'asset': No...        False   \n16  {'user': 5443278, 'context': None, 'asset': No...        False   \n17  {'user': 5443278, 'context': None, 'asset': No...        False   \n18  {'user': 5443278, 'context': None, 'asset': No...        False   \n19  {'user': 5443278, 'context': None, 'asset': No...        False   \n20  {'user': 5443278, 'context': None, 'asset': No...        False   \n21  {'user': 5443278, 'context': None, 'asset': No...        False   \n22  {'user': 5443278, 'context': None, 'asset': No...        False   \n23  {'user': 5443278, 'context': None, 'asset': No...        False   \n24  {'user': 5443278, 'context': None, 'asset': No...        False   \n\n         remote_ip  render_time                        session_id  summarized  \\\n0   165.123.108.90     0.101640  c168e2fce30c1d393b9e6b092e3e8ce5        None   \n1   165.123.108.90     2.445917  a7f39e5390f93f018672d9404d6f082f        None   \n2   165.123.108.90     0.059810  5c1b2eaf20fb078e399419eb198ed0e0        None   \n3   165.123.108.90     0.451222  362de6a53c7a2633c1e891a84e7dcabf        None   \n4   165.123.108.90     0.365610  05636dc54d5ce4903a794cb351ab9a69        None   \n5   165.123.108.90     0.523446  034e6ac544bcc3bd611ef4828fd18e71        None   \n6   165.123.108.90     0.372882  1f2d7e577fbbb7704600641b597e8bcf        None   \n7   165.123.108.90     0.081139  db08f4232bc40508c5f371a5f9edb579        None   \n8   165.123.108.90     0.103087  7bf0c3817b22ef4962823b4f81015fc5        None   \n9   165.123.108.90     0.122861  b5e1f872a74c54d6a3f20ab1d687b170        None   \n10  165.123.108.90     0.088944  94826d7d7e569a33e32d0e9502c5e32d        None   \n11  165.123.108.90     0.163653  9f469ba92cb57327104f8fc3f2ca5b50        None   \n12  165.123.108.90     0.134529  7a887d542b7ee9bd5c33ec76439a66d1        None   \n13  165.123.108.90     0.068290  0f2f4cdfeedd6f4cf5c8c724ae919bb8        None   \n14  165.123.108.90     0.075246  ef9f38814072919ae826860e2488acba        None   \n15  165.123.108.90     0.085063  7f910020f8a7a922f44fdc298aea0d70        None   \n16  165.123.108.90     0.077631  2683f46218c49fe717945e35ce1bb610        None   \n17  165.123.108.90     0.129155  b3402b477de2b8689ea1e3aa08974483        None   \n18  165.123.108.90     0.119106  9d08fef0a4e9a9aec4fda3c1cd7b110b        None   \n19  165.123.108.90     0.097454  beab170c46511dba9ed93366d342a52d        None   \n20  165.123.108.90     0.089420  9c90d8519be400f2ed12f251866b9c64        None   \n21  165.123.108.90     0.111146  dc988c40f29b52abbafb140655d2723e        None   \n22  165.123.108.90     0.067307  ed47cf756b1f6c759caa17da47a430fb        None   \n23  165.123.108.90     0.085913  1b60f5c1308c92d21de3b361cc115d62        None   \n24  165.123.108.90     0.118818  3dcf2805c912f0133ac20fbad8191622        None   \n\n              updated_at                                                url  \\\n0   2019-05-13T16:24:10Z      https://canvas.upenn.edu/api/v1/users/5443278   \n1   2019-05-13T16:23:58Z  https://canvas.upenn.edu/api/v1//courses/14248...   \n2   2019-05-13T16:23:58Z  https://canvas.upenn.edu/api/v1/accounts/self/...   \n3   2019-05-13T16:23:57Z  https://canvas.upenn.edu/api/v1/accounts/self/...   \n4   2019-05-13T16:23:57Z  https://canvas.upenn.edu/api/v1/accounts/self/...   \n5   2019-05-13T16:23:53Z  https://canvas.upenn.edu/api/v1/accounts/self/...   \n6   2019-05-13T16:23:40Z  https://canvas.upenn.edu/api/v1/accounts/self/...   \n7   2019-05-13T16:22:49Z      https://canvas.upenn.edu/api/v1/users/5443278   \n8   2019-05-13T16:22:31Z      https://canvas.upenn.edu/api/v1/users/5443278   \n9   2019-05-13T16:22:26Z      https://canvas.upenn.edu/api/v1/users/5443277   \n10  2019-05-13T16:22:16Z      https://canvas.upenn.edu/api/v1/users/5443277   \n11  2019-05-13T16:22:02Z      https://canvas.upenn.edu/api/v1/users/5443278   \n12  2019-05-13T16:21:58Z      https://canvas.upenn.edu/api/v1/users/5443278   \n13  2019-05-13T16:21:37Z      https://canvas.upenn.edu/api/v1/users/5443278   \n14  2019-05-13T16:21:36Z      https://canvas.upenn.edu/api/v1/users/5443278   \n15  2019-05-13T16:21:03Z      https://canvas.upenn.edu/api/v1/users/5443278   \n16  2019-05-13T16:21:02Z      https://canvas.upenn.edu/api/v1/users/5443278   \n17  2019-05-13T16:19:45Z      https://canvas.upenn.edu/api/v1/users/5443278   \n18  2019-05-13T16:17:47Z      https://canvas.upenn.edu/api/v1/users/5443278   \n19  2019-05-13T16:17:06Z      https://canvas.upenn.edu/api/v1/users/5443278   \n20  2019-05-13T16:16:58Z      https://canvas.upenn.edu/api/v1/users/5443278   \n21  2019-05-13T16:15:41Z      https://canvas.upenn.edu/api/v1/users/5443278   \n22  2019-05-13T16:15:40Z      https://canvas.upenn.edu/api/v1/users/5443278   \n23  2019-05-13T16:15:40Z      https://canvas.upenn.edu/api/v1/users/5443278   \n24  2019-05-13T16:15:39Z      https://canvas.upenn.edu/api/v1/users/5443278   \n\n                user_agent user_request  \n0   python-requests/2.21.0         None  \n1   python-requests/2.21.0         None  \n2   python-requests/2.21.0         None  \n3   python-requests/2.21.0         None  \n4   python-requests/2.21.0         None  \n5   python-requests/2.21.0         None  \n6   python-requests/2.21.0         None  \n7   python-requests/2.21.0         None  \n8   python-requests/2.21.0         None  \n9   python-requests/2.21.0         None  \n10  python-requests/2.21.0         None  \n11  python-requests/2.21.0         None  \n12  python-requests/2.21.0         None  \n13  python-requests/2.21.0         None  \n14  python-requests/2.21.0         None  \n15  python-requests/2.21.0         None  \n16  python-requests/2.21.0         None  \n17  python-requests/2.21.0         None  \n18  python-requests/2.21.0         None  \n19  python-requests/2.21.0         None  \n20  python-requests/2.21.0         None  \n21  python-requests/2.21.0         None  \n22  python-requests/2.21.0         None  \n23  python-requests/2.21.0         None  \n24  python-requests/2.21.0         None  \n\n[25 rows x 22 columns]"
         },
         "metadata": {},
         "output_type": "display_data"
        }
       ]
      }
     },
     "3e0e65eb815c4937b739715c59089aaa": {
      "model_module": "@jupyter-widgets/base",
      "model_module_version": "1.1.0",
      "model_name": "LayoutModel",
      "state": {
       "align_items": "center",
       "grid_area": "header",
       "width": "90%"
      }
     },
     "3e26b06d8cb44a5d965e917f6e967ed8": {
      "model_module": "@jupyter-widgets/controls",
      "model_module_version": "1.4.0",
      "model_name": "TextModel",
      "state": {
       "layout": "IPY_MODEL_ab55ff67fe0e4dfcb529a2bd00f24422",
       "placeholder": "user_id",
       "style": "IPY_MODEL_f7b33380678a4f70af59a871fc22eedf"
      }
     },
     "3ef1af2e93484c98a40930a26c68b945": {
      "model_module": "@jupyter-widgets/base",
      "model_module_version": "1.1.0",
      "model_name": "LayoutModel",
      "state": {
       "grid_area": "header",
       "width": "auto"
      }
     },
     "3f8216da9eea4020af43e4c6fd008f36": {
      "model_module": "@jupyter-widgets/controls",
      "model_module_version": "1.4.0",
      "model_name": "ButtonStyleModel",
      "state": {}
     },
     "3f880c14d2e147059269e0af8ffa8b11": {
      "model_module": "@jupyter-widgets/controls",
      "model_module_version": "1.4.0",
      "model_name": "DescriptionStyleModel",
      "state": {
       "description_width": ""
      }
     },
     "40a6d11bb6e8498aa19a610759f6e84b": {
      "model_module": "@jupyter-widgets/controls",
      "model_module_version": "1.4.0",
      "model_name": "DescriptionStyleModel",
      "state": {
       "description_width": ""
      }
     },
     "4118fe7dbce74760a217665bb8446984": {
      "model_module": "@jupyter-widgets/controls",
      "model_module_version": "1.4.0",
      "model_name": "ButtonModel",
      "state": {
       "button_style": "info",
       "description": "Get PageViews",
       "layout": "IPY_MODEL_e6eafbd821bc4b77bc6821aeb129c3f8",
       "style": "IPY_MODEL_73281d696ce4475398d66f164ec813f5"
      }
     },
     "4120ac721b5e4bfa82040234dbe4bc67": {
      "model_module": "@jupyter-widgets/base",
      "model_module_version": "1.1.0",
      "model_name": "LayoutModel",
      "state": {
       "align_items": "center",
       "grid_area": "right",
       "width": "90%"
      }
     },
     "414894668fa6434dba22f35224210b2f": {
      "model_module": "@jupyter-widgets/controls",
      "model_module_version": "1.4.0",
      "model_name": "DatePickerModel",
      "state": {
       "description": "start date",
       "disabled": false,
       "layout": "IPY_MODEL_4345d6caa4d045be9fbc917eaa30644a",
       "style": "IPY_MODEL_50e94d6d576749869f7772337815f6a3"
      }
     },
     "41db9ebffd5943c88475161e8b8d6ef6": {
      "model_module": "@jupyter-widgets/base",
      "model_module_version": "1.1.0",
      "model_name": "LayoutModel",
      "state": {
       "grid_area": "footer",
       "width": "auto"
      }
     },
     "4231c91cf7404407b8955cc00546f073": {
      "model_module": "@jupyter-widgets/output",
      "model_module_version": "1.0.0",
      "model_name": "OutputModel",
      "state": {
       "layout": "IPY_MODEL_cccdc5576ff049678b1d9652f7b72e18"
      }
     },
     "4264f561e5164b18ab1725ee9e05b779": {
      "model_module": "@jupyter-widgets/controls",
      "model_module_version": "1.4.0",
      "model_name": "GridBoxModel",
      "state": {
       "children": [
        "IPY_MODEL_7ecc922500ca485d86ce0f2d2a97b6f3",
        "IPY_MODEL_fd45fcd39de04c60b55626184d908e5a",
        "IPY_MODEL_6296141cfd844ca58c6f32118b840c3f",
        "IPY_MODEL_642b6eda8dbe4a59af1a4f7b398f363f"
       ],
       "layout": "IPY_MODEL_b43871ec78da4c248d717d9a6844455b"
      }
     },
     "42ab9264405844c484a13fb68ba960ac": {
      "model_module": "@jupyter-widgets/output",
      "model_module_version": "1.0.0",
      "model_name": "OutputModel",
      "state": {
       "layout": "IPY_MODEL_08ae5cddb4a54c5d9733e99e7e9c211a"
      }
     },
     "42c99daf176147a393aa7a7b35419f21": {
      "model_module": "@jupyter-widgets/output",
      "model_module_version": "1.0.0",
      "model_name": "OutputModel",
      "state": {
       "layout": "IPY_MODEL_6722e0aecaa04a1fa7592c3792311cb6"
      }
     },
     "4345d6caa4d045be9fbc917eaa30644a": {
      "model_module": "@jupyter-widgets/base",
      "model_module_version": "1.1.0",
      "model_name": "LayoutModel",
      "state": {
       "align_items": "center",
       "grid_area": "left",
       "width": "90%"
      }
     },
     "43879ef7e7d243d7a0efd5fe80f5aff7": {
      "model_module": "@jupyter-widgets/controls",
      "model_module_version": "1.4.0",
      "model_name": "DatePickerModel",
      "state": {
       "description": "start date",
       "disabled": false,
       "layout": "IPY_MODEL_df26b4d8eabb498c9b858570ee2375a6",
       "style": "IPY_MODEL_2bb284458068448099a51dba45052452"
      }
     },
     "43f394459a5a415b96237ab4116fbb94": {
      "model_module": "@jupyter-widgets/controls",
      "model_module_version": "1.4.0",
      "model_name": "DatePickerModel",
      "state": {
       "description": "end date",
       "disabled": false,
       "layout": "IPY_MODEL_6263ec4003194583a7003e4d1592e32e",
       "style": "IPY_MODEL_0bf18ecde5dd4ec59a9963a29de639ab"
      }
     },
     "44c4984361ea4d33b1460a8c40dcca4c": {
      "model_module": "@jupyter-widgets/base",
      "model_module_version": "1.1.0",
      "model_name": "LayoutModel",
      "state": {
       "grid_area": "footer",
       "width": "auto"
      }
     },
     "44ff6dade5ed4b41b66bbeb67a136824": {
      "model_module": "@jupyter-widgets/controls",
      "model_module_version": "1.4.0",
      "model_name": "DatePickerModel",
      "state": {
       "description": "end date",
       "disabled": false,
       "layout": "IPY_MODEL_73fff3b639554e82a9ad61e3c2680f7d",
       "style": "IPY_MODEL_668f95f1b80c40788807d99fc3655677"
      }
     },
     "454335472e9647988aaddbec821b34b4": {
      "model_module": "@jupyter-widgets/base",
      "model_module_version": "1.1.0",
      "model_name": "LayoutModel",
      "state": {}
     },
     "461a7e8ef5674bff815f39a7b55495fc": {
      "model_module": "@jupyter-widgets/controls",
      "model_module_version": "1.4.0",
      "model_name": "ButtonStyleModel",
      "state": {}
     },
     "461b6d9e9d52449ca3753f8f53f18506": {
      "model_module": "@jupyter-widgets/controls",
      "model_module_version": "1.4.0",
      "model_name": "ButtonStyleModel",
      "state": {}
     },
     "46abeca0627e445a97d584556d27e991": {
      "model_module": "@jupyter-widgets/output",
      "model_module_version": "1.0.0",
      "model_name": "OutputModel",
      "state": {
       "layout": "IPY_MODEL_e47f099aae3b4a239d74168e37f58bfb",
       "outputs": [
        {
         "data": {
          "text/html": "<div>\n<style scoped>\n    .dataframe tbody tr th:only-of-type {\n        vertical-align: middle;\n    }\n\n    .dataframe tbody tr th {\n        vertical-align: top;\n    }\n\n    .dataframe thead th {\n        text-align: right;\n    }\n</style>\n<table border=\"1\" class=\"dataframe\">\n  <thead>\n    <tr style=\"text-align: right;\">\n      <th></th>\n      <th>action</th>\n      <th>app_name</th>\n      <th>asset_type</th>\n      <th>asset_user_access_id</th>\n      <th>context_type</th>\n      <th>contributed</th>\n      <th>controller</th>\n      <th>created_at</th>\n      <th>developer_key_id</th>\n      <th>http_method</th>\n      <th>...</th>\n      <th>links</th>\n      <th>participated</th>\n      <th>remote_ip</th>\n      <th>render_time</th>\n      <th>session_id</th>\n      <th>summarized</th>\n      <th>updated_at</th>\n      <th>url</th>\n      <th>user_agent</th>\n      <th>user_request</th>\n    </tr>\n  </thead>\n  <tbody>\n    <tr>\n      <th>0</th>\n      <td>api_show</td>\n      <td>User-Generated</td>\n      <td>None</td>\n      <td>None</td>\n      <td>None</td>\n      <td>False</td>\n      <td>users</td>\n      <td>2019-05-13T16:15:41Z</td>\n      <td>1.700000e+14</td>\n      <td>get</td>\n      <td>...</td>\n      <td>{'user': 5443278, 'context': None, 'asset': No...</td>\n      <td>False</td>\n      <td>165.123.108.90</td>\n      <td>0.111146</td>\n      <td>dc988c40f29b52abbafb140655d2723e</td>\n      <td>None</td>\n      <td>2019-05-13T16:15:41Z</td>\n      <td>https://canvas.upenn.edu/api/v1/users/5443278</td>\n      <td>python-requests/2.21.0</td>\n      <td>None</td>\n    </tr>\n    <tr>\n      <th>1</th>\n      <td>api_show</td>\n      <td>User-Generated</td>\n      <td>None</td>\n      <td>None</td>\n      <td>None</td>\n      <td>False</td>\n      <td>users</td>\n      <td>2019-05-13T16:15:40Z</td>\n      <td>1.700000e+14</td>\n      <td>get</td>\n      <td>...</td>\n      <td>{'user': 5443278, 'context': None, 'asset': No...</td>\n      <td>False</td>\n      <td>165.123.108.90</td>\n      <td>0.067307</td>\n      <td>ed47cf756b1f6c759caa17da47a430fb</td>\n      <td>None</td>\n      <td>2019-05-13T16:15:40Z</td>\n      <td>https://canvas.upenn.edu/api/v1/users/5443278</td>\n      <td>python-requests/2.21.0</td>\n      <td>None</td>\n    </tr>\n    <tr>\n      <th>2</th>\n      <td>api_show</td>\n      <td>User-Generated</td>\n      <td>None</td>\n      <td>None</td>\n      <td>None</td>\n      <td>False</td>\n      <td>users</td>\n      <td>2019-05-13T16:15:40Z</td>\n      <td>1.700000e+14</td>\n      <td>get</td>\n      <td>...</td>\n      <td>{'user': 5443278, 'context': None, 'asset': No...</td>\n      <td>False</td>\n      <td>165.123.108.90</td>\n      <td>0.085913</td>\n      <td>1b60f5c1308c92d21de3b361cc115d62</td>\n      <td>None</td>\n      <td>2019-05-13T16:15:40Z</td>\n      <td>https://canvas.upenn.edu/api/v1/users/5443278</td>\n      <td>python-requests/2.21.0</td>\n      <td>None</td>\n    </tr>\n    <tr>\n      <th>3</th>\n      <td>api_show</td>\n      <td>User-Generated</td>\n      <td>None</td>\n      <td>None</td>\n      <td>None</td>\n      <td>False</td>\n      <td>users</td>\n      <td>2019-05-13T16:15:39Z</td>\n      <td>1.700000e+14</td>\n      <td>get</td>\n      <td>...</td>\n      <td>{'user': 5443278, 'context': None, 'asset': No...</td>\n      <td>False</td>\n      <td>165.123.108.90</td>\n      <td>0.118818</td>\n      <td>3dcf2805c912f0133ac20fbad8191622</td>\n      <td>None</td>\n      <td>2019-05-13T16:15:39Z</td>\n      <td>https://canvas.upenn.edu/api/v1/users/5443278</td>\n      <td>python-requests/2.21.0</td>\n      <td>None</td>\n    </tr>\n    <tr>\n      <th>4</th>\n      <td>api_show</td>\n      <td>User-Generated</td>\n      <td>None</td>\n      <td>None</td>\n      <td>None</td>\n      <td>False</td>\n      <td>users</td>\n      <td>2019-05-13T16:15:39Z</td>\n      <td>1.700000e+14</td>\n      <td>get</td>\n      <td>...</td>\n      <td>{'user': 5443278, 'context': None, 'asset': No...</td>\n      <td>False</td>\n      <td>165.123.108.90</td>\n      <td>0.094588</td>\n      <td>58921565c269fd68c58fc8dce41d1dc6</td>\n      <td>None</td>\n      <td>2019-05-13T16:15:39Z</td>\n      <td>https://canvas.upenn.edu/api/v1/users/5443278</td>\n      <td>python-requests/2.21.0</td>\n      <td>None</td>\n    </tr>\n    <tr>\n      <th>5</th>\n      <td>api_show</td>\n      <td>User-Generated</td>\n      <td>None</td>\n      <td>None</td>\n      <td>None</td>\n      <td>False</td>\n      <td>users</td>\n      <td>2019-05-13T16:15:38Z</td>\n      <td>1.700000e+14</td>\n      <td>get</td>\n      <td>...</td>\n      <td>{'user': 5443278, 'context': None, 'asset': No...</td>\n      <td>False</td>\n      <td>165.123.108.90</td>\n      <td>0.078694</td>\n      <td>ec4e080a7c78b6e8d80a443352d15456</td>\n      <td>None</td>\n      <td>2019-05-13T16:15:38Z</td>\n      <td>https://canvas.upenn.edu/api/v1/users/5443278</td>\n      <td>python-requests/2.21.0</td>\n      <td>None</td>\n    </tr>\n    <tr>\n      <th>6</th>\n      <td>api_show</td>\n      <td>User-Generated</td>\n      <td>None</td>\n      <td>None</td>\n      <td>None</td>\n      <td>False</td>\n      <td>users</td>\n      <td>2019-05-13T16:14:43Z</td>\n      <td>1.700000e+14</td>\n      <td>get</td>\n      <td>...</td>\n      <td>{'user': 5443278, 'context': None, 'asset': No...</td>\n      <td>False</td>\n      <td>165.123.108.90</td>\n      <td>0.080964</td>\n      <td>d0c7e22cf96e9fb2758bc800dc98b90f</td>\n      <td>None</td>\n      <td>2019-05-13T16:14:43Z</td>\n      <td>https://canvas.upenn.edu/api/v1/users/5443278</td>\n      <td>python-requests/2.21.0</td>\n      <td>None</td>\n    </tr>\n    <tr>\n      <th>7</th>\n      <td>api_show</td>\n      <td>User-Generated</td>\n      <td>None</td>\n      <td>None</td>\n      <td>None</td>\n      <td>False</td>\n      <td>users</td>\n      <td>2019-05-13T16:14:25Z</td>\n      <td>1.700000e+14</td>\n      <td>get</td>\n      <td>...</td>\n      <td>{'user': 5443278, 'context': None, 'asset': No...</td>\n      <td>False</td>\n      <td>165.123.108.90</td>\n      <td>0.270937</td>\n      <td>ab322aa787cbcbce8e849029c42c175c</td>\n      <td>None</td>\n      <td>2019-05-13T16:14:25Z</td>\n      <td>https://canvas.upenn.edu/api/v1/users/5443278</td>\n      <td>python-requests/2.21.0</td>\n      <td>None</td>\n    </tr>\n    <tr>\n      <th>8</th>\n      <td>api_show</td>\n      <td>User-Generated</td>\n      <td>None</td>\n      <td>None</td>\n      <td>None</td>\n      <td>False</td>\n      <td>users</td>\n      <td>2019-05-13T16:14:13Z</td>\n      <td>1.700000e+14</td>\n      <td>get</td>\n      <td>...</td>\n      <td>{'user': 5443278, 'context': None, 'asset': No...</td>\n      <td>False</td>\n      <td>165.123.108.90</td>\n      <td>0.160249</td>\n      <td>0e24a65d0007161e9cc223cc7f569097</td>\n      <td>None</td>\n      <td>2019-05-13T16:14:13Z</td>\n      <td>https://canvas.upenn.edu/api/v1/users/5443278</td>\n      <td>python-requests/2.21.0</td>\n      <td>None</td>\n    </tr>\n    <tr>\n      <th>9</th>\n      <td>api_show</td>\n      <td>User-Generated</td>\n      <td>None</td>\n      <td>None</td>\n      <td>None</td>\n      <td>False</td>\n      <td>users</td>\n      <td>2019-05-13T16:07:58Z</td>\n      <td>1.700000e+14</td>\n      <td>get</td>\n      <td>...</td>\n      <td>{'user': 5443278, 'context': None, 'asset': No...</td>\n      <td>False</td>\n      <td>165.123.108.90</td>\n      <td>0.121798</td>\n      <td>ce0274d3490130a6260304477f6007e7</td>\n      <td>None</td>\n      <td>2019-05-13T16:07:58Z</td>\n      <td>https://canvas.upenn.edu/api/v1/users/5443278</td>\n      <td>python-requests/2.21.0</td>\n      <td>None</td>\n    </tr>\n    <tr>\n      <th>10</th>\n      <td>api_show</td>\n      <td>User-Generated</td>\n      <td>None</td>\n      <td>None</td>\n      <td>None</td>\n      <td>False</td>\n      <td>users</td>\n      <td>2019-05-13T16:07:18Z</td>\n      <td>1.700000e+14</td>\n      <td>get</td>\n      <td>...</td>\n      <td>{'user': 5443278, 'context': None, 'asset': No...</td>\n      <td>False</td>\n      <td>165.123.108.90</td>\n      <td>0.074698</td>\n      <td>f56a3107749fed99cf93ae494d6066d6</td>\n      <td>None</td>\n      <td>2019-05-13T16:07:18Z</td>\n      <td>https://canvas.upenn.edu/api/v1/users/5443278</td>\n      <td>python-requests/2.21.0</td>\n      <td>None</td>\n    </tr>\n    <tr>\n      <th>11</th>\n      <td>api_show</td>\n      <td>User-Generated</td>\n      <td>None</td>\n      <td>None</td>\n      <td>None</td>\n      <td>False</td>\n      <td>users</td>\n      <td>2019-05-13T16:06:59Z</td>\n      <td>1.700000e+14</td>\n      <td>get</td>\n      <td>...</td>\n      <td>{'user': 5443278, 'context': None, 'asset': No...</td>\n      <td>False</td>\n      <td>165.123.108.90</td>\n      <td>0.118397</td>\n      <td>e729f92172b4367ae78b47987c9e105e</td>\n      <td>None</td>\n      <td>2019-05-13T16:06:59Z</td>\n      <td>https://canvas.upenn.edu/api/v1/users/5443278</td>\n      <td>python-requests/2.21.0</td>\n      <td>None</td>\n    </tr>\n    <tr>\n      <th>12</th>\n      <td>api_show</td>\n      <td>User-Generated</td>\n      <td>None</td>\n      <td>None</td>\n      <td>None</td>\n      <td>False</td>\n      <td>users</td>\n      <td>2019-05-13T15:54:51Z</td>\n      <td>1.700000e+14</td>\n      <td>get</td>\n      <td>...</td>\n      <td>{'user': 5443278, 'context': None, 'asset': No...</td>\n      <td>False</td>\n      <td>165.123.108.90</td>\n      <td>0.074724</td>\n      <td>291d1970346e37832a5a61e9721b873e</td>\n      <td>None</td>\n      <td>2019-05-13T15:54:51Z</td>\n      <td>https://canvas.upenn.edu/api/v1/users/5443278</td>\n      <td>python-requests/2.21.0</td>\n      <td>None</td>\n    </tr>\n    <tr>\n      <th>13</th>\n      <td>api_show</td>\n      <td>User-Generated</td>\n      <td>None</td>\n      <td>None</td>\n      <td>None</td>\n      <td>False</td>\n      <td>users</td>\n      <td>2019-05-13T15:54:36Z</td>\n      <td>1.700000e+14</td>\n      <td>get</td>\n      <td>...</td>\n      <td>{'user': 5443278, 'context': None, 'asset': No...</td>\n      <td>False</td>\n      <td>165.123.108.90</td>\n      <td>0.269373</td>\n      <td>e5a1c16be99c5210bf6aace116ad2a0c</td>\n      <td>None</td>\n      <td>2019-05-13T15:54:36Z</td>\n      <td>https://canvas.upenn.edu/api/v1/users/5443278</td>\n      <td>python-requests/2.21.0</td>\n      <td>None</td>\n    </tr>\n    <tr>\n      <th>14</th>\n      <td>api_show</td>\n      <td>User-Generated</td>\n      <td>None</td>\n      <td>None</td>\n      <td>None</td>\n      <td>False</td>\n      <td>users</td>\n      <td>2019-05-13T15:53:55Z</td>\n      <td>1.700000e+14</td>\n      <td>get</td>\n      <td>...</td>\n      <td>{'user': 5443278, 'context': None, 'asset': No...</td>\n      <td>False</td>\n      <td>165.123.108.90</td>\n      <td>0.384255</td>\n      <td>e2b5dc0e1a0bcb220ddf0a831a6afd04</td>\n      <td>None</td>\n      <td>2019-05-13T15:53:55Z</td>\n      <td>https://canvas.upenn.edu/api/v1/users/5443278</td>\n      <td>python-requests/2.21.0</td>\n      <td>None</td>\n    </tr>\n    <tr>\n      <th>15</th>\n      <td>api_show</td>\n      <td>None</td>\n      <td>None</td>\n      <td>None</td>\n      <td>None</td>\n      <td>False</td>\n      <td>users</td>\n      <td>2019-05-13T15:52:59Z</td>\n      <td>NaN</td>\n      <td>get</td>\n      <td>...</td>\n      <td>{'user': 5443278, 'context': None, 'asset': No...</td>\n      <td>False</td>\n      <td>165.123.108.90</td>\n      <td>0.117332</td>\n      <td>c6e6ae9a662e19bb68dc88b05f511c27</td>\n      <td>None</td>\n      <td>2019-05-13T15:52:59Z</td>\n      <td>https://canvas.upenn.edu/api/v1/users/5443278</td>\n      <td>Mozilla/5.0 (Macintosh; Intel Mac OS X 10_14_3...</td>\n      <td>None</td>\n    </tr>\n    <tr>\n      <th>16</th>\n      <td>api_show</td>\n      <td>User-Generated</td>\n      <td>None</td>\n      <td>None</td>\n      <td>None</td>\n      <td>False</td>\n      <td>users</td>\n      <td>2019-05-13T15:52:58Z</td>\n      <td>1.700000e+14</td>\n      <td>get</td>\n      <td>...</td>\n      <td>{'user': 5443278, 'context': None, 'asset': No...</td>\n      <td>False</td>\n      <td>165.123.108.90</td>\n      <td>0.108586</td>\n      <td>307c4627de81cce9ae5a6088773881ca</td>\n      <td>None</td>\n      <td>2019-05-13T15:52:58Z</td>\n      <td>https://canvas.upenn.edu/api/v1/users/5443278</td>\n      <td>python-requests/2.21.0</td>\n      <td>None</td>\n    </tr>\n    <tr>\n      <th>17</th>\n      <td>api_show</td>\n      <td>User-Generated</td>\n      <td>None</td>\n      <td>None</td>\n      <td>None</td>\n      <td>False</td>\n      <td>users</td>\n      <td>2019-05-13T15:52:13Z</td>\n      <td>1.700000e+14</td>\n      <td>get</td>\n      <td>...</td>\n      <td>{'user': 5443278, 'context': None, 'asset': No...</td>\n      <td>False</td>\n      <td>165.123.108.90</td>\n      <td>0.412187</td>\n      <td>b544ec4fa171177594675b1645c387de</td>\n      <td>None</td>\n      <td>2019-05-13T15:52:13Z</td>\n      <td>https://canvas.upenn.edu/api/v1/users/5443278</td>\n      <td>python-requests/2.21.0</td>\n      <td>None</td>\n    </tr>\n    <tr>\n      <th>18</th>\n      <td>api_show</td>\n      <td>User-Generated</td>\n      <td>None</td>\n      <td>None</td>\n      <td>None</td>\n      <td>False</td>\n      <td>users</td>\n      <td>2019-05-13T15:51:58Z</td>\n      <td>1.700000e+14</td>\n      <td>get</td>\n      <td>...</td>\n      <td>{'user': 5443278, 'context': None, 'asset': No...</td>\n      <td>False</td>\n      <td>165.123.108.90</td>\n      <td>0.113909</td>\n      <td>5e34b0d56accb22b30f41289f09a8aca</td>\n      <td>None</td>\n      <td>2019-05-13T15:51:58Z</td>\n      <td>https://canvas.upenn.edu/api/v1/users/5443278</td>\n      <td>python-requests/2.21.0</td>\n      <td>None</td>\n    </tr>\n    <tr>\n      <th>19</th>\n      <td>show</td>\n      <td>None</td>\n      <td>None</td>\n      <td>None</td>\n      <td>Account</td>\n      <td>False</td>\n      <td>users</td>\n      <td>2019-05-13T15:51:50Z</td>\n      <td>NaN</td>\n      <td>get</td>\n      <td>...</td>\n      <td>{'user': 5443278, 'context': 96678, 'asset': N...</td>\n      <td>False</td>\n      <td>165.123.108.90</td>\n      <td>0.585370</td>\n      <td>c6e6ae9a662e19bb68dc88b05f511c27</td>\n      <td>None</td>\n      <td>2019-05-13T15:51:50Z</td>\n      <td>https://canvas.upenn.edu/accounts/96678/users/...</td>\n      <td>Mozilla/5.0 (Macintosh; Intel Mac OS X 10_14_3...</td>\n      <td>None</td>\n    </tr>\n    <tr>\n      <th>20</th>\n      <td>show</td>\n      <td>None</td>\n      <td>None</td>\n      <td>None</td>\n      <td>Account</td>\n      <td>False</td>\n      <td>accounts</td>\n      <td>2019-05-13T15:51:41Z</td>\n      <td>NaN</td>\n      <td>get</td>\n      <td>...</td>\n      <td>{'user': 5443278, 'context': 96678, 'asset': N...</td>\n      <td>False</td>\n      <td>165.123.108.90</td>\n      <td>0.280010</td>\n      <td>c6e6ae9a662e19bb68dc88b05f511c27</td>\n      <td>None</td>\n      <td>2019-05-13T15:51:41Z</td>\n      <td>https://canvas.upenn.edu/accounts/96678</td>\n      <td>Mozilla/5.0 (Macintosh; Intel Mac OS X 10_14_3...</td>\n      <td>None</td>\n    </tr>\n    <tr>\n      <th>21</th>\n      <td>show</td>\n      <td>None</td>\n      <td>None</td>\n      <td>None</td>\n      <td>UserProfile</td>\n      <td>False</td>\n      <td>profile</td>\n      <td>2019-05-13T15:51:38Z</td>\n      <td>NaN</td>\n      <td>get</td>\n      <td>...</td>\n      <td>{'user': 5443278, 'context': None, 'asset': No...</td>\n      <td>False</td>\n      <td>165.123.108.90</td>\n      <td>0.194200</td>\n      <td>c6e6ae9a662e19bb68dc88b05f511c27</td>\n      <td>None</td>\n      <td>2019-05-13T15:51:38Z</td>\n      <td>https://canvas.upenn.edu/profile</td>\n      <td>Mozilla/5.0 (Macintosh; Intel Mac OS X 10_14_3...</td>\n      <td>None</td>\n    </tr>\n    <tr>\n      <th>22</th>\n      <td>settings</td>\n      <td>None</td>\n      <td>None</td>\n      <td>None</td>\n      <td>UserProfile</td>\n      <td>False</td>\n      <td>profile</td>\n      <td>2019-05-13T15:51:36Z</td>\n      <td>NaN</td>\n      <td>get</td>\n      <td>...</td>\n      <td>{'user': 5443278, 'context': None, 'asset': No...</td>\n      <td>False</td>\n      <td>165.123.108.90</td>\n      <td>0.355928</td>\n      <td>c6e6ae9a662e19bb68dc88b05f511c27</td>\n      <td>None</td>\n      <td>2019-05-13T15:51:36Z</td>\n      <td>https://canvas.upenn.edu/profile/settings</td>\n      <td>Mozilla/5.0 (Macintosh; Intel Mac OS X 10_14_3...</td>\n      <td>None</td>\n    </tr>\n    <tr>\n      <th>23</th>\n      <td>show</td>\n      <td>None</td>\n      <td>None</td>\n      <td>None</td>\n      <td>UserProfile</td>\n      <td>False</td>\n      <td>profile</td>\n      <td>2019-05-13T15:51:31Z</td>\n      <td>NaN</td>\n      <td>get</td>\n      <td>...</td>\n      <td>{'user': 5443278, 'context': None, 'asset': No...</td>\n      <td>False</td>\n      <td>165.123.108.90</td>\n      <td>0.356395</td>\n      <td>c6e6ae9a662e19bb68dc88b05f511c27</td>\n      <td>None</td>\n      <td>2019-05-13T15:51:31Z</td>\n      <td>https://canvas.upenn.edu/profile</td>\n      <td>Mozilla/5.0 (Macintosh; Intel Mac OS X 10_14_3...</td>\n      <td>None</td>\n    </tr>\n    <tr>\n      <th>24</th>\n      <td>user_dashboard</td>\n      <td>None</td>\n      <td>None</td>\n      <td>None</td>\n      <td>User</td>\n      <td>False</td>\n      <td>users</td>\n      <td>2019-05-13T15:51:27Z</td>\n      <td>NaN</td>\n      <td>get</td>\n      <td>...</td>\n      <td>{'user': 5443278, 'context': 5443278, 'asset':...</td>\n      <td>False</td>\n      <td>165.123.108.90</td>\n      <td>0.342381</td>\n      <td>c6e6ae9a662e19bb68dc88b05f511c27</td>\n      <td>None</td>\n      <td>2019-05-13T15:51:27Z</td>\n      <td>https://canvas.upenn.edu/</td>\n      <td>Mozilla/5.0 (Macintosh; Intel Mac OS X 10_14_3...</td>\n      <td>None</td>\n    </tr>\n  </tbody>\n</table>\n<p>25 rows × 22 columns</p>\n</div>",
          "text/plain": "            action        app_name asset_type asset_user_access_id  \\\n0         api_show  User-Generated       None                 None   \n1         api_show  User-Generated       None                 None   \n2         api_show  User-Generated       None                 None   \n3         api_show  User-Generated       None                 None   \n4         api_show  User-Generated       None                 None   \n5         api_show  User-Generated       None                 None   \n6         api_show  User-Generated       None                 None   \n7         api_show  User-Generated       None                 None   \n8         api_show  User-Generated       None                 None   \n9         api_show  User-Generated       None                 None   \n10        api_show  User-Generated       None                 None   \n11        api_show  User-Generated       None                 None   \n12        api_show  User-Generated       None                 None   \n13        api_show  User-Generated       None                 None   \n14        api_show  User-Generated       None                 None   \n15        api_show            None       None                 None   \n16        api_show  User-Generated       None                 None   \n17        api_show  User-Generated       None                 None   \n18        api_show  User-Generated       None                 None   \n19            show            None       None                 None   \n20            show            None       None                 None   \n21            show            None       None                 None   \n22        settings            None       None                 None   \n23            show            None       None                 None   \n24  user_dashboard            None       None                 None   \n\n   context_type  contributed controller            created_at  \\\n0          None        False      users  2019-05-13T16:15:41Z   \n1          None        False      users  2019-05-13T16:15:40Z   \n2          None        False      users  2019-05-13T16:15:40Z   \n3          None        False      users  2019-05-13T16:15:39Z   \n4          None        False      users  2019-05-13T16:15:39Z   \n5          None        False      users  2019-05-13T16:15:38Z   \n6          None        False      users  2019-05-13T16:14:43Z   \n7          None        False      users  2019-05-13T16:14:25Z   \n8          None        False      users  2019-05-13T16:14:13Z   \n9          None        False      users  2019-05-13T16:07:58Z   \n10         None        False      users  2019-05-13T16:07:18Z   \n11         None        False      users  2019-05-13T16:06:59Z   \n12         None        False      users  2019-05-13T15:54:51Z   \n13         None        False      users  2019-05-13T15:54:36Z   \n14         None        False      users  2019-05-13T15:53:55Z   \n15         None        False      users  2019-05-13T15:52:59Z   \n16         None        False      users  2019-05-13T15:52:58Z   \n17         None        False      users  2019-05-13T15:52:13Z   \n18         None        False      users  2019-05-13T15:51:58Z   \n19      Account        False      users  2019-05-13T15:51:50Z   \n20      Account        False   accounts  2019-05-13T15:51:41Z   \n21  UserProfile        False    profile  2019-05-13T15:51:38Z   \n22  UserProfile        False    profile  2019-05-13T15:51:36Z   \n23  UserProfile        False    profile  2019-05-13T15:51:31Z   \n24         User        False      users  2019-05-13T15:51:27Z   \n\n    developer_key_id http_method  ...  \\\n0       1.700000e+14         get  ...   \n1       1.700000e+14         get  ...   \n2       1.700000e+14         get  ...   \n3       1.700000e+14         get  ...   \n4       1.700000e+14         get  ...   \n5       1.700000e+14         get  ...   \n6       1.700000e+14         get  ...   \n7       1.700000e+14         get  ...   \n8       1.700000e+14         get  ...   \n9       1.700000e+14         get  ...   \n10      1.700000e+14         get  ...   \n11      1.700000e+14         get  ...   \n12      1.700000e+14         get  ...   \n13      1.700000e+14         get  ...   \n14      1.700000e+14         get  ...   \n15               NaN         get  ...   \n16      1.700000e+14         get  ...   \n17      1.700000e+14         get  ...   \n18      1.700000e+14         get  ...   \n19               NaN         get  ...   \n20               NaN         get  ...   \n21               NaN         get  ...   \n22               NaN         get  ...   \n23               NaN         get  ...   \n24               NaN         get  ...   \n\n                                                links participated  \\\n0   {'user': 5443278, 'context': None, 'asset': No...        False   \n1   {'user': 5443278, 'context': None, 'asset': No...        False   \n2   {'user': 5443278, 'context': None, 'asset': No...        False   \n3   {'user': 5443278, 'context': None, 'asset': No...        False   \n4   {'user': 5443278, 'context': None, 'asset': No...        False   \n5   {'user': 5443278, 'context': None, 'asset': No...        False   \n6   {'user': 5443278, 'context': None, 'asset': No...        False   \n7   {'user': 5443278, 'context': None, 'asset': No...        False   \n8   {'user': 5443278, 'context': None, 'asset': No...        False   \n9   {'user': 5443278, 'context': None, 'asset': No...        False   \n10  {'user': 5443278, 'context': None, 'asset': No...        False   \n11  {'user': 5443278, 'context': None, 'asset': No...        False   \n12  {'user': 5443278, 'context': None, 'asset': No...        False   \n13  {'user': 5443278, 'context': None, 'asset': No...        False   \n14  {'user': 5443278, 'context': None, 'asset': No...        False   \n15  {'user': 5443278, 'context': None, 'asset': No...        False   \n16  {'user': 5443278, 'context': None, 'asset': No...        False   \n17  {'user': 5443278, 'context': None, 'asset': No...        False   \n18  {'user': 5443278, 'context': None, 'asset': No...        False   \n19  {'user': 5443278, 'context': 96678, 'asset': N...        False   \n20  {'user': 5443278, 'context': 96678, 'asset': N...        False   \n21  {'user': 5443278, 'context': None, 'asset': No...        False   \n22  {'user': 5443278, 'context': None, 'asset': No...        False   \n23  {'user': 5443278, 'context': None, 'asset': No...        False   \n24  {'user': 5443278, 'context': 5443278, 'asset':...        False   \n\n         remote_ip  render_time                        session_id  summarized  \\\n0   165.123.108.90     0.111146  dc988c40f29b52abbafb140655d2723e        None   \n1   165.123.108.90     0.067307  ed47cf756b1f6c759caa17da47a430fb        None   \n2   165.123.108.90     0.085913  1b60f5c1308c92d21de3b361cc115d62        None   \n3   165.123.108.90     0.118818  3dcf2805c912f0133ac20fbad8191622        None   \n4   165.123.108.90     0.094588  58921565c269fd68c58fc8dce41d1dc6        None   \n5   165.123.108.90     0.078694  ec4e080a7c78b6e8d80a443352d15456        None   \n6   165.123.108.90     0.080964  d0c7e22cf96e9fb2758bc800dc98b90f        None   \n7   165.123.108.90     0.270937  ab322aa787cbcbce8e849029c42c175c        None   \n8   165.123.108.90     0.160249  0e24a65d0007161e9cc223cc7f569097        None   \n9   165.123.108.90     0.121798  ce0274d3490130a6260304477f6007e7        None   \n10  165.123.108.90     0.074698  f56a3107749fed99cf93ae494d6066d6        None   \n11  165.123.108.90     0.118397  e729f92172b4367ae78b47987c9e105e        None   \n12  165.123.108.90     0.074724  291d1970346e37832a5a61e9721b873e        None   \n13  165.123.108.90     0.269373  e5a1c16be99c5210bf6aace116ad2a0c        None   \n14  165.123.108.90     0.384255  e2b5dc0e1a0bcb220ddf0a831a6afd04        None   \n15  165.123.108.90     0.117332  c6e6ae9a662e19bb68dc88b05f511c27        None   \n16  165.123.108.90     0.108586  307c4627de81cce9ae5a6088773881ca        None   \n17  165.123.108.90     0.412187  b544ec4fa171177594675b1645c387de        None   \n18  165.123.108.90     0.113909  5e34b0d56accb22b30f41289f09a8aca        None   \n19  165.123.108.90     0.585370  c6e6ae9a662e19bb68dc88b05f511c27        None   \n20  165.123.108.90     0.280010  c6e6ae9a662e19bb68dc88b05f511c27        None   \n21  165.123.108.90     0.194200  c6e6ae9a662e19bb68dc88b05f511c27        None   \n22  165.123.108.90     0.355928  c6e6ae9a662e19bb68dc88b05f511c27        None   \n23  165.123.108.90     0.356395  c6e6ae9a662e19bb68dc88b05f511c27        None   \n24  165.123.108.90     0.342381  c6e6ae9a662e19bb68dc88b05f511c27        None   \n\n              updated_at                                                url  \\\n0   2019-05-13T16:15:41Z      https://canvas.upenn.edu/api/v1/users/5443278   \n1   2019-05-13T16:15:40Z      https://canvas.upenn.edu/api/v1/users/5443278   \n2   2019-05-13T16:15:40Z      https://canvas.upenn.edu/api/v1/users/5443278   \n3   2019-05-13T16:15:39Z      https://canvas.upenn.edu/api/v1/users/5443278   \n4   2019-05-13T16:15:39Z      https://canvas.upenn.edu/api/v1/users/5443278   \n5   2019-05-13T16:15:38Z      https://canvas.upenn.edu/api/v1/users/5443278   \n6   2019-05-13T16:14:43Z      https://canvas.upenn.edu/api/v1/users/5443278   \n7   2019-05-13T16:14:25Z      https://canvas.upenn.edu/api/v1/users/5443278   \n8   2019-05-13T16:14:13Z      https://canvas.upenn.edu/api/v1/users/5443278   \n9   2019-05-13T16:07:58Z      https://canvas.upenn.edu/api/v1/users/5443278   \n10  2019-05-13T16:07:18Z      https://canvas.upenn.edu/api/v1/users/5443278   \n11  2019-05-13T16:06:59Z      https://canvas.upenn.edu/api/v1/users/5443278   \n12  2019-05-13T15:54:51Z      https://canvas.upenn.edu/api/v1/users/5443278   \n13  2019-05-13T15:54:36Z      https://canvas.upenn.edu/api/v1/users/5443278   \n14  2019-05-13T15:53:55Z      https://canvas.upenn.edu/api/v1/users/5443278   \n15  2019-05-13T15:52:59Z      https://canvas.upenn.edu/api/v1/users/5443278   \n16  2019-05-13T15:52:58Z      https://canvas.upenn.edu/api/v1/users/5443278   \n17  2019-05-13T15:52:13Z      https://canvas.upenn.edu/api/v1/users/5443278   \n18  2019-05-13T15:51:58Z      https://canvas.upenn.edu/api/v1/users/5443278   \n19  2019-05-13T15:51:50Z  https://canvas.upenn.edu/accounts/96678/users/...   \n20  2019-05-13T15:51:41Z            https://canvas.upenn.edu/accounts/96678   \n21  2019-05-13T15:51:38Z                   https://canvas.upenn.edu/profile   \n22  2019-05-13T15:51:36Z          https://canvas.upenn.edu/profile/settings   \n23  2019-05-13T15:51:31Z                   https://canvas.upenn.edu/profile   \n24  2019-05-13T15:51:27Z                          https://canvas.upenn.edu/   \n\n                                           user_agent user_request  \n0                              python-requests/2.21.0         None  \n1                              python-requests/2.21.0         None  \n2                              python-requests/2.21.0         None  \n3                              python-requests/2.21.0         None  \n4                              python-requests/2.21.0         None  \n5                              python-requests/2.21.0         None  \n6                              python-requests/2.21.0         None  \n7                              python-requests/2.21.0         None  \n8                              python-requests/2.21.0         None  \n9                              python-requests/2.21.0         None  \n10                             python-requests/2.21.0         None  \n11                             python-requests/2.21.0         None  \n12                             python-requests/2.21.0         None  \n13                             python-requests/2.21.0         None  \n14                             python-requests/2.21.0         None  \n15  Mozilla/5.0 (Macintosh; Intel Mac OS X 10_14_3...         None  \n16                             python-requests/2.21.0         None  \n17                             python-requests/2.21.0         None  \n18                             python-requests/2.21.0         None  \n19  Mozilla/5.0 (Macintosh; Intel Mac OS X 10_14_3...         None  \n20  Mozilla/5.0 (Macintosh; Intel Mac OS X 10_14_3...         None  \n21  Mozilla/5.0 (Macintosh; Intel Mac OS X 10_14_3...         None  \n22  Mozilla/5.0 (Macintosh; Intel Mac OS X 10_14_3...         None  \n23  Mozilla/5.0 (Macintosh; Intel Mac OS X 10_14_3...         None  \n24  Mozilla/5.0 (Macintosh; Intel Mac OS X 10_14_3...         None  \n\n[25 rows x 22 columns]"
         },
         "metadata": {},
         "output_type": "display_data"
        },
        {
         "data": {
          "text/html": "<div>\n<style scoped>\n    .dataframe tbody tr th:only-of-type {\n        vertical-align: middle;\n    }\n\n    .dataframe tbody tr th {\n        vertical-align: top;\n    }\n\n    .dataframe thead th {\n        text-align: right;\n    }\n</style>\n<table border=\"1\" class=\"dataframe\">\n  <thead>\n    <tr style=\"text-align: right;\">\n      <th></th>\n      <th>action</th>\n      <th>app_name</th>\n      <th>asset_type</th>\n      <th>asset_user_access_id</th>\n      <th>context_type</th>\n      <th>contributed</th>\n      <th>controller</th>\n      <th>created_at</th>\n      <th>developer_key_id</th>\n      <th>http_method</th>\n      <th>...</th>\n      <th>links</th>\n      <th>participated</th>\n      <th>remote_ip</th>\n      <th>render_time</th>\n      <th>session_id</th>\n      <th>summarized</th>\n      <th>updated_at</th>\n      <th>url</th>\n      <th>user_agent</th>\n      <th>user_request</th>\n    </tr>\n  </thead>\n  <tbody>\n    <tr>\n      <th>0</th>\n      <td>api_show</td>\n      <td>User-Generated</td>\n      <td>None</td>\n      <td>None</td>\n      <td>None</td>\n      <td>False</td>\n      <td>users</td>\n      <td>2019-05-13T16:16:58Z</td>\n      <td>1.700000e+14</td>\n      <td>get</td>\n      <td>...</td>\n      <td>{'user': 5443278, 'context': None, 'asset': No...</td>\n      <td>False</td>\n      <td>165.123.108.90</td>\n      <td>0.089420</td>\n      <td>9c90d8519be400f2ed12f251866b9c64</td>\n      <td>None</td>\n      <td>2019-05-13T16:16:58Z</td>\n      <td>https://canvas.upenn.edu/api/v1/users/5443278</td>\n      <td>python-requests/2.21.0</td>\n      <td>None</td>\n    </tr>\n    <tr>\n      <th>1</th>\n      <td>api_show</td>\n      <td>User-Generated</td>\n      <td>None</td>\n      <td>None</td>\n      <td>None</td>\n      <td>False</td>\n      <td>users</td>\n      <td>2019-05-13T16:15:41Z</td>\n      <td>1.700000e+14</td>\n      <td>get</td>\n      <td>...</td>\n      <td>{'user': 5443278, 'context': None, 'asset': No...</td>\n      <td>False</td>\n      <td>165.123.108.90</td>\n      <td>0.111146</td>\n      <td>dc988c40f29b52abbafb140655d2723e</td>\n      <td>None</td>\n      <td>2019-05-13T16:15:41Z</td>\n      <td>https://canvas.upenn.edu/api/v1/users/5443278</td>\n      <td>python-requests/2.21.0</td>\n      <td>None</td>\n    </tr>\n    <tr>\n      <th>2</th>\n      <td>api_show</td>\n      <td>User-Generated</td>\n      <td>None</td>\n      <td>None</td>\n      <td>None</td>\n      <td>False</td>\n      <td>users</td>\n      <td>2019-05-13T16:15:40Z</td>\n      <td>1.700000e+14</td>\n      <td>get</td>\n      <td>...</td>\n      <td>{'user': 5443278, 'context': None, 'asset': No...</td>\n      <td>False</td>\n      <td>165.123.108.90</td>\n      <td>0.067307</td>\n      <td>ed47cf756b1f6c759caa17da47a430fb</td>\n      <td>None</td>\n      <td>2019-05-13T16:15:40Z</td>\n      <td>https://canvas.upenn.edu/api/v1/users/5443278</td>\n      <td>python-requests/2.21.0</td>\n      <td>None</td>\n    </tr>\n    <tr>\n      <th>3</th>\n      <td>api_show</td>\n      <td>User-Generated</td>\n      <td>None</td>\n      <td>None</td>\n      <td>None</td>\n      <td>False</td>\n      <td>users</td>\n      <td>2019-05-13T16:15:40Z</td>\n      <td>1.700000e+14</td>\n      <td>get</td>\n      <td>...</td>\n      <td>{'user': 5443278, 'context': None, 'asset': No...</td>\n      <td>False</td>\n      <td>165.123.108.90</td>\n      <td>0.085913</td>\n      <td>1b60f5c1308c92d21de3b361cc115d62</td>\n      <td>None</td>\n      <td>2019-05-13T16:15:40Z</td>\n      <td>https://canvas.upenn.edu/api/v1/users/5443278</td>\n      <td>python-requests/2.21.0</td>\n      <td>None</td>\n    </tr>\n    <tr>\n      <th>4</th>\n      <td>api_show</td>\n      <td>User-Generated</td>\n      <td>None</td>\n      <td>None</td>\n      <td>None</td>\n      <td>False</td>\n      <td>users</td>\n      <td>2019-05-13T16:15:39Z</td>\n      <td>1.700000e+14</td>\n      <td>get</td>\n      <td>...</td>\n      <td>{'user': 5443278, 'context': None, 'asset': No...</td>\n      <td>False</td>\n      <td>165.123.108.90</td>\n      <td>0.118818</td>\n      <td>3dcf2805c912f0133ac20fbad8191622</td>\n      <td>None</td>\n      <td>2019-05-13T16:15:39Z</td>\n      <td>https://canvas.upenn.edu/api/v1/users/5443278</td>\n      <td>python-requests/2.21.0</td>\n      <td>None</td>\n    </tr>\n    <tr>\n      <th>5</th>\n      <td>api_show</td>\n      <td>User-Generated</td>\n      <td>None</td>\n      <td>None</td>\n      <td>None</td>\n      <td>False</td>\n      <td>users</td>\n      <td>2019-05-13T16:15:39Z</td>\n      <td>1.700000e+14</td>\n      <td>get</td>\n      <td>...</td>\n      <td>{'user': 5443278, 'context': None, 'asset': No...</td>\n      <td>False</td>\n      <td>165.123.108.90</td>\n      <td>0.094588</td>\n      <td>58921565c269fd68c58fc8dce41d1dc6</td>\n      <td>None</td>\n      <td>2019-05-13T16:15:39Z</td>\n      <td>https://canvas.upenn.edu/api/v1/users/5443278</td>\n      <td>python-requests/2.21.0</td>\n      <td>None</td>\n    </tr>\n    <tr>\n      <th>6</th>\n      <td>api_show</td>\n      <td>User-Generated</td>\n      <td>None</td>\n      <td>None</td>\n      <td>None</td>\n      <td>False</td>\n      <td>users</td>\n      <td>2019-05-13T16:15:38Z</td>\n      <td>1.700000e+14</td>\n      <td>get</td>\n      <td>...</td>\n      <td>{'user': 5443278, 'context': None, 'asset': No...</td>\n      <td>False</td>\n      <td>165.123.108.90</td>\n      <td>0.078694</td>\n      <td>ec4e080a7c78b6e8d80a443352d15456</td>\n      <td>None</td>\n      <td>2019-05-13T16:15:38Z</td>\n      <td>https://canvas.upenn.edu/api/v1/users/5443278</td>\n      <td>python-requests/2.21.0</td>\n      <td>None</td>\n    </tr>\n    <tr>\n      <th>7</th>\n      <td>api_show</td>\n      <td>User-Generated</td>\n      <td>None</td>\n      <td>None</td>\n      <td>None</td>\n      <td>False</td>\n      <td>users</td>\n      <td>2019-05-13T16:14:43Z</td>\n      <td>1.700000e+14</td>\n      <td>get</td>\n      <td>...</td>\n      <td>{'user': 5443278, 'context': None, 'asset': No...</td>\n      <td>False</td>\n      <td>165.123.108.90</td>\n      <td>0.080964</td>\n      <td>d0c7e22cf96e9fb2758bc800dc98b90f</td>\n      <td>None</td>\n      <td>2019-05-13T16:14:43Z</td>\n      <td>https://canvas.upenn.edu/api/v1/users/5443278</td>\n      <td>python-requests/2.21.0</td>\n      <td>None</td>\n    </tr>\n    <tr>\n      <th>8</th>\n      <td>api_show</td>\n      <td>User-Generated</td>\n      <td>None</td>\n      <td>None</td>\n      <td>None</td>\n      <td>False</td>\n      <td>users</td>\n      <td>2019-05-13T16:14:25Z</td>\n      <td>1.700000e+14</td>\n      <td>get</td>\n      <td>...</td>\n      <td>{'user': 5443278, 'context': None, 'asset': No...</td>\n      <td>False</td>\n      <td>165.123.108.90</td>\n      <td>0.270937</td>\n      <td>ab322aa787cbcbce8e849029c42c175c</td>\n      <td>None</td>\n      <td>2019-05-13T16:14:25Z</td>\n      <td>https://canvas.upenn.edu/api/v1/users/5443278</td>\n      <td>python-requests/2.21.0</td>\n      <td>None</td>\n    </tr>\n    <tr>\n      <th>9</th>\n      <td>api_show</td>\n      <td>User-Generated</td>\n      <td>None</td>\n      <td>None</td>\n      <td>None</td>\n      <td>False</td>\n      <td>users</td>\n      <td>2019-05-13T16:14:13Z</td>\n      <td>1.700000e+14</td>\n      <td>get</td>\n      <td>...</td>\n      <td>{'user': 5443278, 'context': None, 'asset': No...</td>\n      <td>False</td>\n      <td>165.123.108.90</td>\n      <td>0.160249</td>\n      <td>0e24a65d0007161e9cc223cc7f569097</td>\n      <td>None</td>\n      <td>2019-05-13T16:14:13Z</td>\n      <td>https://canvas.upenn.edu/api/v1/users/5443278</td>\n      <td>python-requests/2.21.0</td>\n      <td>None</td>\n    </tr>\n    <tr>\n      <th>10</th>\n      <td>api_show</td>\n      <td>User-Generated</td>\n      <td>None</td>\n      <td>None</td>\n      <td>None</td>\n      <td>False</td>\n      <td>users</td>\n      <td>2019-05-13T16:07:58Z</td>\n      <td>1.700000e+14</td>\n      <td>get</td>\n      <td>...</td>\n      <td>{'user': 5443278, 'context': None, 'asset': No...</td>\n      <td>False</td>\n      <td>165.123.108.90</td>\n      <td>0.121798</td>\n      <td>ce0274d3490130a6260304477f6007e7</td>\n      <td>None</td>\n      <td>2019-05-13T16:07:58Z</td>\n      <td>https://canvas.upenn.edu/api/v1/users/5443278</td>\n      <td>python-requests/2.21.0</td>\n      <td>None</td>\n    </tr>\n    <tr>\n      <th>11</th>\n      <td>api_show</td>\n      <td>User-Generated</td>\n      <td>None</td>\n      <td>None</td>\n      <td>None</td>\n      <td>False</td>\n      <td>users</td>\n      <td>2019-05-13T16:07:18Z</td>\n      <td>1.700000e+14</td>\n      <td>get</td>\n      <td>...</td>\n      <td>{'user': 5443278, 'context': None, 'asset': No...</td>\n      <td>False</td>\n      <td>165.123.108.90</td>\n      <td>0.074698</td>\n      <td>f56a3107749fed99cf93ae494d6066d6</td>\n      <td>None</td>\n      <td>2019-05-13T16:07:18Z</td>\n      <td>https://canvas.upenn.edu/api/v1/users/5443278</td>\n      <td>python-requests/2.21.0</td>\n      <td>None</td>\n    </tr>\n    <tr>\n      <th>12</th>\n      <td>api_show</td>\n      <td>User-Generated</td>\n      <td>None</td>\n      <td>None</td>\n      <td>None</td>\n      <td>False</td>\n      <td>users</td>\n      <td>2019-05-13T16:06:59Z</td>\n      <td>1.700000e+14</td>\n      <td>get</td>\n      <td>...</td>\n      <td>{'user': 5443278, 'context': None, 'asset': No...</td>\n      <td>False</td>\n      <td>165.123.108.90</td>\n      <td>0.118397</td>\n      <td>e729f92172b4367ae78b47987c9e105e</td>\n      <td>None</td>\n      <td>2019-05-13T16:06:59Z</td>\n      <td>https://canvas.upenn.edu/api/v1/users/5443278</td>\n      <td>python-requests/2.21.0</td>\n      <td>None</td>\n    </tr>\n    <tr>\n      <th>13</th>\n      <td>api_show</td>\n      <td>User-Generated</td>\n      <td>None</td>\n      <td>None</td>\n      <td>None</td>\n      <td>False</td>\n      <td>users</td>\n      <td>2019-05-13T15:54:51Z</td>\n      <td>1.700000e+14</td>\n      <td>get</td>\n      <td>...</td>\n      <td>{'user': 5443278, 'context': None, 'asset': No...</td>\n      <td>False</td>\n      <td>165.123.108.90</td>\n      <td>0.074724</td>\n      <td>291d1970346e37832a5a61e9721b873e</td>\n      <td>None</td>\n      <td>2019-05-13T15:54:51Z</td>\n      <td>https://canvas.upenn.edu/api/v1/users/5443278</td>\n      <td>python-requests/2.21.0</td>\n      <td>None</td>\n    </tr>\n    <tr>\n      <th>14</th>\n      <td>api_show</td>\n      <td>User-Generated</td>\n      <td>None</td>\n      <td>None</td>\n      <td>None</td>\n      <td>False</td>\n      <td>users</td>\n      <td>2019-05-13T15:54:36Z</td>\n      <td>1.700000e+14</td>\n      <td>get</td>\n      <td>...</td>\n      <td>{'user': 5443278, 'context': None, 'asset': No...</td>\n      <td>False</td>\n      <td>165.123.108.90</td>\n      <td>0.269373</td>\n      <td>e5a1c16be99c5210bf6aace116ad2a0c</td>\n      <td>None</td>\n      <td>2019-05-13T15:54:36Z</td>\n      <td>https://canvas.upenn.edu/api/v1/users/5443278</td>\n      <td>python-requests/2.21.0</td>\n      <td>None</td>\n    </tr>\n    <tr>\n      <th>15</th>\n      <td>api_show</td>\n      <td>User-Generated</td>\n      <td>None</td>\n      <td>None</td>\n      <td>None</td>\n      <td>False</td>\n      <td>users</td>\n      <td>2019-05-13T15:53:55Z</td>\n      <td>1.700000e+14</td>\n      <td>get</td>\n      <td>...</td>\n      <td>{'user': 5443278, 'context': None, 'asset': No...</td>\n      <td>False</td>\n      <td>165.123.108.90</td>\n      <td>0.384255</td>\n      <td>e2b5dc0e1a0bcb220ddf0a831a6afd04</td>\n      <td>None</td>\n      <td>2019-05-13T15:53:55Z</td>\n      <td>https://canvas.upenn.edu/api/v1/users/5443278</td>\n      <td>python-requests/2.21.0</td>\n      <td>None</td>\n    </tr>\n    <tr>\n      <th>16</th>\n      <td>api_show</td>\n      <td>None</td>\n      <td>None</td>\n      <td>None</td>\n      <td>None</td>\n      <td>False</td>\n      <td>users</td>\n      <td>2019-05-13T15:52:59Z</td>\n      <td>NaN</td>\n      <td>get</td>\n      <td>...</td>\n      <td>{'user': 5443278, 'context': None, 'asset': No...</td>\n      <td>False</td>\n      <td>165.123.108.90</td>\n      <td>0.117332</td>\n      <td>c6e6ae9a662e19bb68dc88b05f511c27</td>\n      <td>None</td>\n      <td>2019-05-13T15:52:59Z</td>\n      <td>https://canvas.upenn.edu/api/v1/users/5443278</td>\n      <td>Mozilla/5.0 (Macintosh; Intel Mac OS X 10_14_3...</td>\n      <td>None</td>\n    </tr>\n    <tr>\n      <th>17</th>\n      <td>api_show</td>\n      <td>User-Generated</td>\n      <td>None</td>\n      <td>None</td>\n      <td>None</td>\n      <td>False</td>\n      <td>users</td>\n      <td>2019-05-13T15:52:58Z</td>\n      <td>1.700000e+14</td>\n      <td>get</td>\n      <td>...</td>\n      <td>{'user': 5443278, 'context': None, 'asset': No...</td>\n      <td>False</td>\n      <td>165.123.108.90</td>\n      <td>0.108586</td>\n      <td>307c4627de81cce9ae5a6088773881ca</td>\n      <td>None</td>\n      <td>2019-05-13T15:52:58Z</td>\n      <td>https://canvas.upenn.edu/api/v1/users/5443278</td>\n      <td>python-requests/2.21.0</td>\n      <td>None</td>\n    </tr>\n    <tr>\n      <th>18</th>\n      <td>api_show</td>\n      <td>User-Generated</td>\n      <td>None</td>\n      <td>None</td>\n      <td>None</td>\n      <td>False</td>\n      <td>users</td>\n      <td>2019-05-13T15:52:13Z</td>\n      <td>1.700000e+14</td>\n      <td>get</td>\n      <td>...</td>\n      <td>{'user': 5443278, 'context': None, 'asset': No...</td>\n      <td>False</td>\n      <td>165.123.108.90</td>\n      <td>0.412187</td>\n      <td>b544ec4fa171177594675b1645c387de</td>\n      <td>None</td>\n      <td>2019-05-13T15:52:13Z</td>\n      <td>https://canvas.upenn.edu/api/v1/users/5443278</td>\n      <td>python-requests/2.21.0</td>\n      <td>None</td>\n    </tr>\n    <tr>\n      <th>19</th>\n      <td>api_show</td>\n      <td>User-Generated</td>\n      <td>None</td>\n      <td>None</td>\n      <td>None</td>\n      <td>False</td>\n      <td>users</td>\n      <td>2019-05-13T15:51:58Z</td>\n      <td>1.700000e+14</td>\n      <td>get</td>\n      <td>...</td>\n      <td>{'user': 5443278, 'context': None, 'asset': No...</td>\n      <td>False</td>\n      <td>165.123.108.90</td>\n      <td>0.113909</td>\n      <td>5e34b0d56accb22b30f41289f09a8aca</td>\n      <td>None</td>\n      <td>2019-05-13T15:51:58Z</td>\n      <td>https://canvas.upenn.edu/api/v1/users/5443278</td>\n      <td>python-requests/2.21.0</td>\n      <td>None</td>\n    </tr>\n    <tr>\n      <th>20</th>\n      <td>show</td>\n      <td>None</td>\n      <td>None</td>\n      <td>None</td>\n      <td>Account</td>\n      <td>False</td>\n      <td>users</td>\n      <td>2019-05-13T15:51:50Z</td>\n      <td>NaN</td>\n      <td>get</td>\n      <td>...</td>\n      <td>{'user': 5443278, 'context': 96678, 'asset': N...</td>\n      <td>False</td>\n      <td>165.123.108.90</td>\n      <td>0.585370</td>\n      <td>c6e6ae9a662e19bb68dc88b05f511c27</td>\n      <td>None</td>\n      <td>2019-05-13T15:51:50Z</td>\n      <td>https://canvas.upenn.edu/accounts/96678/users/...</td>\n      <td>Mozilla/5.0 (Macintosh; Intel Mac OS X 10_14_3...</td>\n      <td>None</td>\n    </tr>\n    <tr>\n      <th>21</th>\n      <td>show</td>\n      <td>None</td>\n      <td>None</td>\n      <td>None</td>\n      <td>Account</td>\n      <td>False</td>\n      <td>accounts</td>\n      <td>2019-05-13T15:51:41Z</td>\n      <td>NaN</td>\n      <td>get</td>\n      <td>...</td>\n      <td>{'user': 5443278, 'context': 96678, 'asset': N...</td>\n      <td>False</td>\n      <td>165.123.108.90</td>\n      <td>0.280010</td>\n      <td>c6e6ae9a662e19bb68dc88b05f511c27</td>\n      <td>None</td>\n      <td>2019-05-13T15:51:41Z</td>\n      <td>https://canvas.upenn.edu/accounts/96678</td>\n      <td>Mozilla/5.0 (Macintosh; Intel Mac OS X 10_14_3...</td>\n      <td>None</td>\n    </tr>\n    <tr>\n      <th>22</th>\n      <td>show</td>\n      <td>None</td>\n      <td>None</td>\n      <td>None</td>\n      <td>UserProfile</td>\n      <td>False</td>\n      <td>profile</td>\n      <td>2019-05-13T15:51:38Z</td>\n      <td>NaN</td>\n      <td>get</td>\n      <td>...</td>\n      <td>{'user': 5443278, 'context': None, 'asset': No...</td>\n      <td>False</td>\n      <td>165.123.108.90</td>\n      <td>0.194200</td>\n      <td>c6e6ae9a662e19bb68dc88b05f511c27</td>\n      <td>None</td>\n      <td>2019-05-13T15:51:38Z</td>\n      <td>https://canvas.upenn.edu/profile</td>\n      <td>Mozilla/5.0 (Macintosh; Intel Mac OS X 10_14_3...</td>\n      <td>None</td>\n    </tr>\n    <tr>\n      <th>23</th>\n      <td>settings</td>\n      <td>None</td>\n      <td>None</td>\n      <td>None</td>\n      <td>UserProfile</td>\n      <td>False</td>\n      <td>profile</td>\n      <td>2019-05-13T15:51:36Z</td>\n      <td>NaN</td>\n      <td>get</td>\n      <td>...</td>\n      <td>{'user': 5443278, 'context': None, 'asset': No...</td>\n      <td>False</td>\n      <td>165.123.108.90</td>\n      <td>0.355928</td>\n      <td>c6e6ae9a662e19bb68dc88b05f511c27</td>\n      <td>None</td>\n      <td>2019-05-13T15:51:36Z</td>\n      <td>https://canvas.upenn.edu/profile/settings</td>\n      <td>Mozilla/5.0 (Macintosh; Intel Mac OS X 10_14_3...</td>\n      <td>None</td>\n    </tr>\n    <tr>\n      <th>24</th>\n      <td>show</td>\n      <td>None</td>\n      <td>None</td>\n      <td>None</td>\n      <td>UserProfile</td>\n      <td>False</td>\n      <td>profile</td>\n      <td>2019-05-13T15:51:31Z</td>\n      <td>NaN</td>\n      <td>get</td>\n      <td>...</td>\n      <td>{'user': 5443278, 'context': None, 'asset': No...</td>\n      <td>False</td>\n      <td>165.123.108.90</td>\n      <td>0.356395</td>\n      <td>c6e6ae9a662e19bb68dc88b05f511c27</td>\n      <td>None</td>\n      <td>2019-05-13T15:51:31Z</td>\n      <td>https://canvas.upenn.edu/profile</td>\n      <td>Mozilla/5.0 (Macintosh; Intel Mac OS X 10_14_3...</td>\n      <td>None</td>\n    </tr>\n  </tbody>\n</table>\n<p>25 rows × 22 columns</p>\n</div>",
          "text/plain": "      action        app_name asset_type asset_user_access_id context_type  \\\n0   api_show  User-Generated       None                 None         None   \n1   api_show  User-Generated       None                 None         None   \n2   api_show  User-Generated       None                 None         None   \n3   api_show  User-Generated       None                 None         None   \n4   api_show  User-Generated       None                 None         None   \n5   api_show  User-Generated       None                 None         None   \n6   api_show  User-Generated       None                 None         None   \n7   api_show  User-Generated       None                 None         None   \n8   api_show  User-Generated       None                 None         None   \n9   api_show  User-Generated       None                 None         None   \n10  api_show  User-Generated       None                 None         None   \n11  api_show  User-Generated       None                 None         None   \n12  api_show  User-Generated       None                 None         None   \n13  api_show  User-Generated       None                 None         None   \n14  api_show  User-Generated       None                 None         None   \n15  api_show  User-Generated       None                 None         None   \n16  api_show            None       None                 None         None   \n17  api_show  User-Generated       None                 None         None   \n18  api_show  User-Generated       None                 None         None   \n19  api_show  User-Generated       None                 None         None   \n20      show            None       None                 None      Account   \n21      show            None       None                 None      Account   \n22      show            None       None                 None  UserProfile   \n23  settings            None       None                 None  UserProfile   \n24      show            None       None                 None  UserProfile   \n\n    contributed controller            created_at  developer_key_id  \\\n0         False      users  2019-05-13T16:16:58Z      1.700000e+14   \n1         False      users  2019-05-13T16:15:41Z      1.700000e+14   \n2         False      users  2019-05-13T16:15:40Z      1.700000e+14   \n3         False      users  2019-05-13T16:15:40Z      1.700000e+14   \n4         False      users  2019-05-13T16:15:39Z      1.700000e+14   \n5         False      users  2019-05-13T16:15:39Z      1.700000e+14   \n6         False      users  2019-05-13T16:15:38Z      1.700000e+14   \n7         False      users  2019-05-13T16:14:43Z      1.700000e+14   \n8         False      users  2019-05-13T16:14:25Z      1.700000e+14   \n9         False      users  2019-05-13T16:14:13Z      1.700000e+14   \n10        False      users  2019-05-13T16:07:58Z      1.700000e+14   \n11        False      users  2019-05-13T16:07:18Z      1.700000e+14   \n12        False      users  2019-05-13T16:06:59Z      1.700000e+14   \n13        False      users  2019-05-13T15:54:51Z      1.700000e+14   \n14        False      users  2019-05-13T15:54:36Z      1.700000e+14   \n15        False      users  2019-05-13T15:53:55Z      1.700000e+14   \n16        False      users  2019-05-13T15:52:59Z               NaN   \n17        False      users  2019-05-13T15:52:58Z      1.700000e+14   \n18        False      users  2019-05-13T15:52:13Z      1.700000e+14   \n19        False      users  2019-05-13T15:51:58Z      1.700000e+14   \n20        False      users  2019-05-13T15:51:50Z               NaN   \n21        False   accounts  2019-05-13T15:51:41Z               NaN   \n22        False    profile  2019-05-13T15:51:38Z               NaN   \n23        False    profile  2019-05-13T15:51:36Z               NaN   \n24        False    profile  2019-05-13T15:51:31Z               NaN   \n\n   http_method  ...                                              links  \\\n0          get  ...  {'user': 5443278, 'context': None, 'asset': No...   \n1          get  ...  {'user': 5443278, 'context': None, 'asset': No...   \n2          get  ...  {'user': 5443278, 'context': None, 'asset': No...   \n3          get  ...  {'user': 5443278, 'context': None, 'asset': No...   \n4          get  ...  {'user': 5443278, 'context': None, 'asset': No...   \n5          get  ...  {'user': 5443278, 'context': None, 'asset': No...   \n6          get  ...  {'user': 5443278, 'context': None, 'asset': No...   \n7          get  ...  {'user': 5443278, 'context': None, 'asset': No...   \n8          get  ...  {'user': 5443278, 'context': None, 'asset': No...   \n9          get  ...  {'user': 5443278, 'context': None, 'asset': No...   \n10         get  ...  {'user': 5443278, 'context': None, 'asset': No...   \n11         get  ...  {'user': 5443278, 'context': None, 'asset': No...   \n12         get  ...  {'user': 5443278, 'context': None, 'asset': No...   \n13         get  ...  {'user': 5443278, 'context': None, 'asset': No...   \n14         get  ...  {'user': 5443278, 'context': None, 'asset': No...   \n15         get  ...  {'user': 5443278, 'context': None, 'asset': No...   \n16         get  ...  {'user': 5443278, 'context': None, 'asset': No...   \n17         get  ...  {'user': 5443278, 'context': None, 'asset': No...   \n18         get  ...  {'user': 5443278, 'context': None, 'asset': No...   \n19         get  ...  {'user': 5443278, 'context': None, 'asset': No...   \n20         get  ...  {'user': 5443278, 'context': 96678, 'asset': N...   \n21         get  ...  {'user': 5443278, 'context': 96678, 'asset': N...   \n22         get  ...  {'user': 5443278, 'context': None, 'asset': No...   \n23         get  ...  {'user': 5443278, 'context': None, 'asset': No...   \n24         get  ...  {'user': 5443278, 'context': None, 'asset': No...   \n\n   participated       remote_ip  render_time  \\\n0         False  165.123.108.90     0.089420   \n1         False  165.123.108.90     0.111146   \n2         False  165.123.108.90     0.067307   \n3         False  165.123.108.90     0.085913   \n4         False  165.123.108.90     0.118818   \n5         False  165.123.108.90     0.094588   \n6         False  165.123.108.90     0.078694   \n7         False  165.123.108.90     0.080964   \n8         False  165.123.108.90     0.270937   \n9         False  165.123.108.90     0.160249   \n10        False  165.123.108.90     0.121798   \n11        False  165.123.108.90     0.074698   \n12        False  165.123.108.90     0.118397   \n13        False  165.123.108.90     0.074724   \n14        False  165.123.108.90     0.269373   \n15        False  165.123.108.90     0.384255   \n16        False  165.123.108.90     0.117332   \n17        False  165.123.108.90     0.108586   \n18        False  165.123.108.90     0.412187   \n19        False  165.123.108.90     0.113909   \n20        False  165.123.108.90     0.585370   \n21        False  165.123.108.90     0.280010   \n22        False  165.123.108.90     0.194200   \n23        False  165.123.108.90     0.355928   \n24        False  165.123.108.90     0.356395   \n\n                          session_id  summarized            updated_at  \\\n0   9c90d8519be400f2ed12f251866b9c64        None  2019-05-13T16:16:58Z   \n1   dc988c40f29b52abbafb140655d2723e        None  2019-05-13T16:15:41Z   \n2   ed47cf756b1f6c759caa17da47a430fb        None  2019-05-13T16:15:40Z   \n3   1b60f5c1308c92d21de3b361cc115d62        None  2019-05-13T16:15:40Z   \n4   3dcf2805c912f0133ac20fbad8191622        None  2019-05-13T16:15:39Z   \n5   58921565c269fd68c58fc8dce41d1dc6        None  2019-05-13T16:15:39Z   \n6   ec4e080a7c78b6e8d80a443352d15456        None  2019-05-13T16:15:38Z   \n7   d0c7e22cf96e9fb2758bc800dc98b90f        None  2019-05-13T16:14:43Z   \n8   ab322aa787cbcbce8e849029c42c175c        None  2019-05-13T16:14:25Z   \n9   0e24a65d0007161e9cc223cc7f569097        None  2019-05-13T16:14:13Z   \n10  ce0274d3490130a6260304477f6007e7        None  2019-05-13T16:07:58Z   \n11  f56a3107749fed99cf93ae494d6066d6        None  2019-05-13T16:07:18Z   \n12  e729f92172b4367ae78b47987c9e105e        None  2019-05-13T16:06:59Z   \n13  291d1970346e37832a5a61e9721b873e        None  2019-05-13T15:54:51Z   \n14  e5a1c16be99c5210bf6aace116ad2a0c        None  2019-05-13T15:54:36Z   \n15  e2b5dc0e1a0bcb220ddf0a831a6afd04        None  2019-05-13T15:53:55Z   \n16  c6e6ae9a662e19bb68dc88b05f511c27        None  2019-05-13T15:52:59Z   \n17  307c4627de81cce9ae5a6088773881ca        None  2019-05-13T15:52:58Z   \n18  b544ec4fa171177594675b1645c387de        None  2019-05-13T15:52:13Z   \n19  5e34b0d56accb22b30f41289f09a8aca        None  2019-05-13T15:51:58Z   \n20  c6e6ae9a662e19bb68dc88b05f511c27        None  2019-05-13T15:51:50Z   \n21  c6e6ae9a662e19bb68dc88b05f511c27        None  2019-05-13T15:51:41Z   \n22  c6e6ae9a662e19bb68dc88b05f511c27        None  2019-05-13T15:51:38Z   \n23  c6e6ae9a662e19bb68dc88b05f511c27        None  2019-05-13T15:51:36Z   \n24  c6e6ae9a662e19bb68dc88b05f511c27        None  2019-05-13T15:51:31Z   \n\n                                                  url  \\\n0       https://canvas.upenn.edu/api/v1/users/5443278   \n1       https://canvas.upenn.edu/api/v1/users/5443278   \n2       https://canvas.upenn.edu/api/v1/users/5443278   \n3       https://canvas.upenn.edu/api/v1/users/5443278   \n4       https://canvas.upenn.edu/api/v1/users/5443278   \n5       https://canvas.upenn.edu/api/v1/users/5443278   \n6       https://canvas.upenn.edu/api/v1/users/5443278   \n7       https://canvas.upenn.edu/api/v1/users/5443278   \n8       https://canvas.upenn.edu/api/v1/users/5443278   \n9       https://canvas.upenn.edu/api/v1/users/5443278   \n10      https://canvas.upenn.edu/api/v1/users/5443278   \n11      https://canvas.upenn.edu/api/v1/users/5443278   \n12      https://canvas.upenn.edu/api/v1/users/5443278   \n13      https://canvas.upenn.edu/api/v1/users/5443278   \n14      https://canvas.upenn.edu/api/v1/users/5443278   \n15      https://canvas.upenn.edu/api/v1/users/5443278   \n16      https://canvas.upenn.edu/api/v1/users/5443278   \n17      https://canvas.upenn.edu/api/v1/users/5443278   \n18      https://canvas.upenn.edu/api/v1/users/5443278   \n19      https://canvas.upenn.edu/api/v1/users/5443278   \n20  https://canvas.upenn.edu/accounts/96678/users/...   \n21            https://canvas.upenn.edu/accounts/96678   \n22                   https://canvas.upenn.edu/profile   \n23          https://canvas.upenn.edu/profile/settings   \n24                   https://canvas.upenn.edu/profile   \n\n                                           user_agent user_request  \n0                              python-requests/2.21.0         None  \n1                              python-requests/2.21.0         None  \n2                              python-requests/2.21.0         None  \n3                              python-requests/2.21.0         None  \n4                              python-requests/2.21.0         None  \n5                              python-requests/2.21.0         None  \n6                              python-requests/2.21.0         None  \n7                              python-requests/2.21.0         None  \n8                              python-requests/2.21.0         None  \n9                              python-requests/2.21.0         None  \n10                             python-requests/2.21.0         None  \n11                             python-requests/2.21.0         None  \n12                             python-requests/2.21.0         None  \n13                             python-requests/2.21.0         None  \n14                             python-requests/2.21.0         None  \n15                             python-requests/2.21.0         None  \n16  Mozilla/5.0 (Macintosh; Intel Mac OS X 10_14_3...         None  \n17                             python-requests/2.21.0         None  \n18                             python-requests/2.21.0         None  \n19                             python-requests/2.21.0         None  \n20  Mozilla/5.0 (Macintosh; Intel Mac OS X 10_14_3...         None  \n21  Mozilla/5.0 (Macintosh; Intel Mac OS X 10_14_3...         None  \n22  Mozilla/5.0 (Macintosh; Intel Mac OS X 10_14_3...         None  \n23  Mozilla/5.0 (Macintosh; Intel Mac OS X 10_14_3...         None  \n24  Mozilla/5.0 (Macintosh; Intel Mac OS X 10_14_3...         None  \n\n[25 rows x 22 columns]"
         },
         "metadata": {},
         "output_type": "display_data"
        }
       ]
      }
     },
     "47290da862ad44f190ec69610da3be0c": {
      "model_module": "@jupyter-widgets/controls",
      "model_module_version": "1.4.0",
      "model_name": "ButtonModel",
      "state": {
       "button_style": "info",
       "description": "Get PageViews",
       "layout": "IPY_MODEL_ceb4f77105ca403b8e6d6ec841fa249d",
       "style": "IPY_MODEL_f48d355be9d04bd1953619f3eeda26f1"
      }
     },
     "479905b5f1f34ea7bf1ca5d0268fe336": {
      "model_module": "@jupyter-widgets/base",
      "model_module_version": "1.1.0",
      "model_name": "LayoutModel",
      "state": {}
     },
     "47c9bf8860fd42509b2bc42c1fb59070": {
      "model_module": "@jupyter-widgets/base",
      "model_module_version": "1.1.0",
      "model_name": "LayoutModel",
      "state": {
       "align_items": "center",
       "grid_area": "left",
       "width": "90%"
      }
     },
     "4839d5e815fb42eeac0425d6c340dd49": {
      "model_module": "@jupyter-widgets/controls",
      "model_module_version": "1.4.0",
      "model_name": "ButtonModel",
      "state": {
       "button_style": "info",
       "description": "Get PageViews",
       "layout": "IPY_MODEL_a114772619f64f108916aad3f04ae518",
       "style": "IPY_MODEL_fd6c7592d95e4189a0358b980eb55db5"
      }
     },
     "48a2863ba9da4c89bca3da6f27c9bd80": {
      "model_module": "@jupyter-widgets/base",
      "model_module_version": "1.1.0",
      "model_name": "LayoutModel",
      "state": {}
     },
     "48e573bdfdef4feba342f3201fc6772c": {
      "model_module": "@jupyter-widgets/controls",
      "model_module_version": "1.4.0",
      "model_name": "TextModel",
      "state": {
       "layout": "IPY_MODEL_9b2430c13a014dfaba497c0eff314c3b",
       "placeholder": "user_id",
       "style": "IPY_MODEL_0b973c27d4de431d87ce3ef0261a83df",
       "value": "5443278"
      }
     },
     "48fee52304f84956b617894ff32ab109": {
      "model_module": "@jupyter-widgets/output",
      "model_module_version": "1.0.0",
      "model_name": "OutputModel",
      "state": {
       "layout": "IPY_MODEL_aba5fe818070417dbec3f3bbe42d7e19"
      }
     },
     "4977fba437c544a88cffe16212d3b478": {
      "model_module": "@jupyter-widgets/base",
      "model_module_version": "1.1.0",
      "model_name": "LayoutModel",
      "state": {
       "grid_area": "footer",
       "width": "auto"
      }
     },
     "49fb82b4e45941149463ca8878dfa77b": {
      "model_module": "@jupyter-widgets/controls",
      "model_module_version": "1.4.0",
      "model_name": "DatePickerModel",
      "state": {
       "description": "end date",
       "disabled": false,
       "layout": "IPY_MODEL_896302154be04bc989e9c23a7bcaed0a",
       "style": "IPY_MODEL_2d72825af85c4f35b0a3dce9236f3a8a"
      }
     },
     "4a5f4af77e574eee8588d24828d4f176": {
      "model_module": "@jupyter-widgets/base",
      "model_module_version": "1.1.0",
      "model_name": "LayoutModel",
      "state": {
       "grid_template_areas": "\n            \" . header header .\"\n            \"main main sidebar sidebar\"\n            \" . footer footer . \"\n            ",
       "grid_template_columns": "25% 25% 25% 25%",
       "grid_template_rows": "auto auto auto",
       "margin": "2% 0% 2% 10%",
       "width": "80%"
      }
     },
     "4ab5f6a5f8424cc4a824a5f65d58ab6f": {
      "model_module": "@jupyter-widgets/controls",
      "model_module_version": "1.4.0",
      "model_name": "ButtonStyleModel",
      "state": {}
     },
     "4ac6e53c12e04e75a3b8f233e4e95d1a": {
      "model_module": "@jupyter-widgets/controls",
      "model_module_version": "1.4.0",
      "model_name": "DatePickerModel",
      "state": {
       "description": "start date",
       "disabled": false,
       "layout": "IPY_MODEL_3cb07c97dad4476aaf7dba0f1aabc3dc",
       "style": "IPY_MODEL_f8463a1a0a7f4ee7a8ab0762b487a99d"
      }
     },
     "4acf375aeb0e46a8a7c99f366931f7dd": {
      "model_module": "@jupyter-widgets/controls",
      "model_module_version": "1.4.0",
      "model_name": "DescriptionStyleModel",
      "state": {
       "description_width": ""
      }
     },
     "4af64e34a37a4fc7820a2e67987019e2": {
      "model_module": "@jupyter-widgets/controls",
      "model_module_version": "1.4.0",
      "model_name": "GridBoxModel",
      "state": {
       "children": [
        "IPY_MODEL_1da05de0181c412082b4e16fb8eda2b5",
        "IPY_MODEL_6ddecbde97f34fb5b6d4adc4a93c3e2a",
        "IPY_MODEL_90b601a4189e499f88de7bf5274c3ca2",
        "IPY_MODEL_4839d5e815fb42eeac0425d6c340dd49"
       ],
       "layout": "IPY_MODEL_a8705497eee2401495717bf5756b47ec"
      }
     },
     "4b370f6abf1b4a53824e8717b3095e90": {
      "model_module": "@jupyter-widgets/controls",
      "model_module_version": "1.4.0",
      "model_name": "ButtonStyleModel",
      "state": {}
     },
     "4b4c0ea08ac741c5a79d1dafd2f4454d": {
      "model_module": "@jupyter-widgets/base",
      "model_module_version": "1.1.0",
      "model_name": "LayoutModel",
      "state": {
       "padding": "5px 20px 20px 20px",
       "width": "40%"
      }
     },
     "4bd79c3ca52047a7ad85f4fc83800b13": {
      "model_module": "@jupyter-widgets/base",
      "model_module_version": "1.1.0",
      "model_name": "LayoutModel",
      "state": {
       "grid_template_areas": "\n            \" . header header .\"\n            \"left left right right\"\n            \" . footer footer . \"\n            ",
       "grid_template_columns": "25% 25% 25% 25%",
       "grid_template_rows": "auto auto auto",
       "margin": "2% 0% 2% 10%",
       "width": "80%"
      }
     },
     "4c352659eda74f889487440c39a0dc36": {
      "model_module": "@jupyter-widgets/output",
      "model_module_version": "1.0.0",
      "model_name": "OutputModel",
      "state": {
       "layout": "IPY_MODEL_8f597d49a9e244fc876383a1fac1a9df"
      }
     },
     "4c9966d6e6d844d6b658bbc13c612e2a": {
      "model_module": "@jupyter-widgets/base",
      "model_module_version": "1.1.0",
      "model_name": "LayoutModel",
      "state": {
       "grid_template_areas": "\n            \" . header header .\"\n            \"left left right right\"\n            \" . footer footer . \"\n            ",
       "grid_template_columns": "25% 25% 25% 25%",
       "grid_template_rows": "auto auto auto",
       "margin": "2% 0% 2% 10%",
       "width": "80%"
      }
     },
     "4d9b20f524f244228740bfac4d184626": {
      "model_module": "@jupyter-widgets/base",
      "model_module_version": "1.1.0",
      "model_name": "LayoutModel",
      "state": {
       "align_items": "center",
       "grid_area": "left",
       "width": "90%"
      }
     },
     "4dd44addbb794cd6917b4f251075260b": {
      "model_module": "@jupyter-widgets/controls",
      "model_module_version": "1.4.0",
      "model_name": "DescriptionStyleModel",
      "state": {
       "description_width": ""
      }
     },
     "4e3ad669483241c28e132d351337e513": {
      "model_module": "@jupyter-widgets/base",
      "model_module_version": "1.1.0",
      "model_name": "LayoutModel",
      "state": {
       "padding": "5px 20px 20px 20px",
       "width": "40%"
      }
     },
     "4e72ee605af14e74a2b8972d201e1ede": {
      "model_module": "@jupyter-widgets/controls",
      "model_module_version": "1.4.0",
      "model_name": "ButtonStyleModel",
      "state": {}
     },
     "4e8fcbabc79f412daae60ea3209cea84": {
      "model_module": "@jupyter-widgets/base",
      "model_module_version": "1.1.0",
      "model_name": "LayoutModel",
      "state": {
       "grid_template_areas": "\n            \" . header header .\"\n            \"left left right right\"\n            \" . footer footer . \"\n            ",
       "grid_template_columns": "25% 25% 25% 25%",
       "grid_template_rows": "auto auto auto",
       "margin": "2% 0% 2% 10%",
       "width": "80%"
      }
     },
     "4ee46889df0d426584e29dd42b011aff": {
      "model_module": "@jupyter-widgets/output",
      "model_module_version": "1.0.0",
      "model_name": "OutputModel",
      "state": {
       "layout": "IPY_MODEL_cb6d67a030eb43a3b50dd4fe461cc16b",
       "outputs": [
        {
         "data": {
          "text/html": "<div>\n<style scoped>\n    .dataframe tbody tr th:only-of-type {\n        vertical-align: middle;\n    }\n\n    .dataframe tbody tr th {\n        vertical-align: top;\n    }\n\n    .dataframe thead th {\n        text-align: right;\n    }\n</style>\n<table border=\"1\" class=\"dataframe\">\n  <thead>\n    <tr style=\"text-align: right;\">\n      <th></th>\n      <th>action</th>\n      <th>controller</th>\n      <th>path</th>\n      <th>resource</th>\n      <th>resource_name</th>\n      <th>scope</th>\n      <th>verb</th>\n    </tr>\n  </thead>\n  <tbody>\n    <tr>\n      <th>199</th>\n      <td>create</td>\n      <td>quizzes/course_quiz_extensions</td>\n      <td>/api/v1/courses/:course_id/quiz_extensions</td>\n      <td>course_quiz_extensions</td>\n      <td>Course Quiz Extensions</td>\n      <td>url:POST|/api/v1/courses/:course_id/quiz_exten...</td>\n      <td>POST</td>\n    </tr>\n  </tbody>\n</table>\n</div>",
          "text/plain": "     action                      controller  \\\n199  create  quizzes/course_quiz_extensions   \n\n                                           path                resource  \\\n199  /api/v1/courses/:course_id/quiz_extensions  course_quiz_extensions   \n\n              resource_name  \\\n199  Course Quiz Extensions   \n\n                                                 scope  verb  \n199  url:POST|/api/v1/courses/:course_id/quiz_exten...  POST  "
         },
         "metadata": {},
         "output_type": "display_data"
        }
       ]
      }
     },
     "4f29c0b5b1c44ebfa1d70f4b778a6e03": {
      "model_module": "@jupyter-widgets/controls",
      "model_module_version": "1.4.0",
      "model_name": "ButtonModel",
      "state": {
       "button_style": "info",
       "description": "Get PageViews",
       "layout": "IPY_MODEL_633fe9b1492349f7a8de4a68766d9290",
       "style": "IPY_MODEL_1692577695f345448573ea51e70eb731"
      }
     },
     "4fd007fb3b354a5189f43564c85e2921": {
      "model_module": "@jupyter-widgets/controls",
      "model_module_version": "1.4.0",
      "model_name": "DatePickerModel",
      "state": {
       "description": "start date",
       "disabled": false,
       "layout": "IPY_MODEL_766f5008a4004c6e9efe49e001fbe4cf",
       "style": "IPY_MODEL_f73564a8303d4c4a8169db3aca4f6d22"
      }
     },
     "4fedaa1569114f65903da3b9d5519f95": {
      "model_module": "@jupyter-widgets/base",
      "model_module_version": "1.1.0",
      "model_name": "LayoutModel",
      "state": {
       "grid_template_areas": "\n            \" . header header .\"\n            \"main main sidebar sidebar\"\n            \" . footer footer . \"\n            ",
       "grid_template_columns": "25% 25% 25% 25%",
       "grid_template_rows": "auto auto auto",
       "margin": "2% 0% 2% 10%",
       "width": "80%"
      }
     },
     "4fee228f907e4d3ea7b7af0c79b904cd": {
      "model_module": "@jupyter-widgets/controls",
      "model_module_version": "1.4.0",
      "model_name": "DescriptionStyleModel",
      "state": {
       "description_width": ""
      }
     },
     "50382ddfc7d14e998bb4c479e4c94868": {
      "model_module": "@jupyter-widgets/base",
      "model_module_version": "1.1.0",
      "model_name": "LayoutModel",
      "state": {
       "grid_template_areas": "\n            \" . header header .\"\n            \"left left right right\"\n            \" . footer footer . \"\n            ",
       "grid_template_columns": "25% 25% 25% 25%",
       "grid_template_rows": "auto auto auto",
       "margin": "2% 0% 2% 10%",
       "width": "80%"
      }
     },
     "50e94d6d576749869f7772337815f6a3": {
      "model_module": "@jupyter-widgets/controls",
      "model_module_version": "1.4.0",
      "model_name": "DescriptionStyleModel",
      "state": {
       "description_width": ""
      }
     },
     "50f52f0f05c74474bd7bf2125fc0b441": {
      "model_module": "@jupyter-widgets/controls",
      "model_module_version": "1.4.0",
      "model_name": "GridBoxModel",
      "state": {
       "children": [
        "IPY_MODEL_df2a1af7b41c4ce69d63c2c78ba724bc",
        "IPY_MODEL_aafda767398f4af786952f5550904bca",
        "IPY_MODEL_a3d720ee007342ed81fe1c9908b93996",
        "IPY_MODEL_7d35b1738c804cb9bf89b91182bfda6d"
       ],
       "layout": "IPY_MODEL_5971ab561b424403af96eab77c024078"
      }
     },
     "50fcd24b0256472780dd0aae5ce08a75": {
      "model_module": "@jupyter-widgets/base",
      "model_module_version": "1.1.0",
      "model_name": "LayoutModel",
      "state": {
       "align_items": "center",
       "grid_area": "main",
       "width": "90%"
      }
     },
     "51a1b43d47f34b78a3ceac6ab985df8f": {
      "model_module": "@jupyter-widgets/controls",
      "model_module_version": "1.4.0",
      "model_name": "GridBoxModel",
      "state": {
       "children": [
        "IPY_MODEL_b779283ba6764af88e9a4aebe2c6036b",
        "IPY_MODEL_6c81ca31013f43eeaea2693824e0bf43",
        "IPY_MODEL_7f95eeddf3f54ddaa8383cc6a6cb8855",
        "IPY_MODEL_713e1c8e12804f9ca10fe71ff23735e4"
       ],
       "layout": "IPY_MODEL_2426d6db9fa6461e92a7829ee1c791c8"
      }
     },
     "51f2ec14d8c94f26b83f96a545e2e922": {
      "model_module": "@jupyter-widgets/controls",
      "model_module_version": "1.4.0",
      "model_name": "DescriptionStyleModel",
      "state": {
       "description_width": ""
      }
     },
     "520e6083f12b472e977e6eb6a065a85e": {
      "model_module": "@jupyter-widgets/base",
      "model_module_version": "1.1.0",
      "model_name": "LayoutModel",
      "state": {
       "grid_area": "header",
       "width": "auto"
      }
     },
     "52bb8e8eb7ba42cbb130f9c6bccad946": {
      "model_module": "@jupyter-widgets/controls",
      "model_module_version": "1.4.0",
      "model_name": "DatePickerModel",
      "state": {
       "description": "end date",
       "disabled": false,
       "layout": "IPY_MODEL_31b3575ed18b4a8fbd1d4e291bae1f40",
       "style": "IPY_MODEL_a1f2af2c21684da29a319202d583ee0f"
      }
     },
     "53020596f34b44a0940e127ff7dcd43c": {
      "model_module": "@jupyter-widgets/base",
      "model_module_version": "1.1.0",
      "model_name": "LayoutModel",
      "state": {
       "grid_area": "footer",
       "width": "auto"
      }
     },
     "53a28d9f86074e54b4076d63ce83858d": {
      "model_module": "@jupyter-widgets/base",
      "model_module_version": "1.1.0",
      "model_name": "LayoutModel",
      "state": {
       "align_items": "center",
       "grid_area": "right",
       "width": "90%"
      }
     },
     "53e63cae08654553bd45b88ea90eaa80": {
      "model_module": "@jupyter-widgets/controls",
      "model_module_version": "1.4.0",
      "model_name": "DescriptionStyleModel",
      "state": {
       "description_width": ""
      }
     },
     "53f59d31017b4c8383f1b29b9ee8da73": {
      "model_module": "@jupyter-widgets/base",
      "model_module_version": "1.1.0",
      "model_name": "LayoutModel",
      "state": {
       "grid_area": "header",
       "width": "auto"
      }
     },
     "546284c6262e4163be4b6c9ff4c98058": {
      "model_module": "@jupyter-widgets/controls",
      "model_module_version": "1.4.0",
      "model_name": "ButtonModel",
      "state": {
       "description": "Trust All Notebooks",
       "layout": "IPY_MODEL_bc39802f5225474aa6d7552ad2adaedd",
       "style": "IPY_MODEL_76e08afff96e440c89e934db76b30795",
       "tooltip": "Click me"
      }
     },
     "54d872f53c51411d9410184881867248": {
      "model_module": "@jupyter-widgets/output",
      "model_module_version": "1.0.0",
      "model_name": "OutputModel",
      "state": {
       "layout": "IPY_MODEL_07393f08b6d94052881e7fef23a45217"
      }
     },
     "5501d7523aeb4f3fa95a775e08291985": {
      "model_module": "@jupyter-widgets/controls",
      "model_module_version": "1.4.0",
      "model_name": "ButtonModel",
      "state": {
       "button_style": "info",
       "description": "Get PageViews",
       "layout": "IPY_MODEL_c24127b325ab496598e1e78d496b503f",
       "style": "IPY_MODEL_60e79fe1cea0468d93066e588f6e3f33"
      }
     },
     "55083c80c7d740f1982f23d0c25fc795": {
      "model_module": "@jupyter-widgets/controls",
      "model_module_version": "1.4.0",
      "model_name": "DescriptionStyleModel",
      "state": {
       "description_width": ""
      }
     },
     "55bcad88c5464fa4ab3262dfcc131eee": {
      "model_module": "@jupyter-widgets/controls",
      "model_module_version": "1.4.0",
      "model_name": "DescriptionStyleModel",
      "state": {
       "description_width": ""
      }
     },
     "55c3e5c9fc9d442b95c79ffbeeb4415c": {
      "model_module": "@jupyter-widgets/base",
      "model_module_version": "1.1.0",
      "model_name": "LayoutModel",
      "state": {
       "align_items": "center",
       "grid_area": "header",
       "width": "90%"
      }
     },
     "55d7ec73f67142e5b84419a4ef802ecf": {
      "model_module": "@jupyter-widgets/controls",
      "model_module_version": "1.4.0",
      "model_name": "DescriptionStyleModel",
      "state": {
       "description_width": ""
      }
     },
     "570f083a0e2f4a49b7f4911ab1637e58": {
      "model_module": "@jupyter-widgets/base",
      "model_module_version": "1.1.0",
      "model_name": "LayoutModel",
      "state": {
       "grid_template_areas": "\n            \" . header header .\"\n            \"left left right right\"\n            \" . footer footer . \"\n            ",
       "grid_template_columns": "25% 25% 25% 25%",
       "grid_template_rows": "auto auto auto",
       "margin": "2% 0% 2% 10%",
       "width": "80%"
      }
     },
     "57a36cc5256f472685cede79208e7463": {
      "model_module": "@jupyter-widgets/base",
      "model_module_version": "1.1.0",
      "model_name": "LayoutModel",
      "state": {}
     },
     "581bc592ee404b76941341928eecf95a": {
      "model_module": "@jupyter-widgets/controls",
      "model_module_version": "1.4.0",
      "model_name": "DatePickerModel",
      "state": {
       "description": "end date",
       "disabled": false,
       "layout": "IPY_MODEL_f63354ff82b14e1b9ad4f419b5f40551",
       "style": "IPY_MODEL_be6a6a575d3746fb87873bedb30df1dc"
      }
     },
     "582cd9d601c14d0ea48da9251eed282e": {
      "model_module": "@jupyter-widgets/base",
      "model_module_version": "1.1.0",
      "model_name": "LayoutModel",
      "state": {
       "grid_template_areas": "\n            \" . header header .\"\n            \"left left right right\"\n            \" . footer footer . \"\n            ",
       "grid_template_columns": "25% 25% 25% 25%",
       "grid_template_rows": "auto auto auto",
       "margin": "2% 0% 2% 10%",
       "width": "80%"
      }
     },
     "5874c4db148346a0b20a1d43712f3f89": {
      "model_module": "@jupyter-widgets/controls",
      "model_module_version": "1.4.0",
      "model_name": "TextModel",
      "state": {
       "layout": "IPY_MODEL_73f7af41d1e5424092e0374d78e8a356",
       "placeholder": "user_id",
       "style": "IPY_MODEL_26d4c1f073734e0595a4ecaf2a6bc091",
       "value": "5443378"
      }
     },
     "58c29e3fef2b4dd6b1ac1385bfc7e035": {
      "model_module": "@jupyter-widgets/base",
      "model_module_version": "1.1.0",
      "model_name": "LayoutModel",
      "state": {
       "grid_area": "footer",
       "width": "auto"
      }
     },
     "5971ab561b424403af96eab77c024078": {
      "model_module": "@jupyter-widgets/base",
      "model_module_version": "1.1.0",
      "model_name": "LayoutModel",
      "state": {
       "grid_template_areas": "\n            \" . header header .\"\n            \"left left right right\"\n            \" . footer footer . \"\n            ",
       "grid_template_columns": "25% 25% 25% 25%",
       "grid_template_rows": "auto auto auto",
       "margin": "2% 0% 2% 10%",
       "width": "80%"
      }
     },
     "59a388c738184109ab29ba6f08b6d7f8": {
      "model_module": "@jupyter-widgets/controls",
      "model_module_version": "1.4.0",
      "model_name": "DatePickerModel",
      "state": {
       "description": "end date",
       "disabled": false,
       "layout": "IPY_MODEL_66696a0506bf46b78cf826f6179999e6",
       "style": "IPY_MODEL_37775b30f3874823b2524bcf2f02a8f7"
      }
     },
     "59ca4df0f14048b99722087b9c9a82c7": {
      "model_module": "@jupyter-widgets/base",
      "model_module_version": "1.1.0",
      "model_name": "LayoutModel",
      "state": {
       "grid_template_areas": "\n            \" . header header .\"\n            \"left left right right\"\n            \" . footer footer . \"\n            ",
       "grid_template_columns": "25% 25% 25% 25%",
       "grid_template_rows": "auto auto auto",
       "margin": "2% 0% 2% 10%",
       "width": "80%"
      }
     },
     "5b0350b4a57a4de58a3984b7661e17a0": {
      "model_module": "@jupyter-widgets/controls",
      "model_module_version": "1.4.0",
      "model_name": "DescriptionStyleModel",
      "state": {
       "description_width": ""
      }
     },
     "5b8ba84047fc43cc9ee9d79018ee1445": {
      "model_module": "@jupyter-widgets/base",
      "model_module_version": "1.1.0",
      "model_name": "LayoutModel",
      "state": {
       "grid_area": "footer",
       "width": "auto"
      }
     },
     "5c11774842a24f548d26b7050b234acd": {
      "model_module": "@jupyter-widgets/output",
      "model_module_version": "1.0.0",
      "model_name": "OutputModel",
      "state": {
       "layout": "IPY_MODEL_f923948e9679449a9cda8f92a0ed4473"
      }
     },
     "5c9f010668684442bd63f3ccecbe1488": {
      "model_module": "@jupyter-widgets/base",
      "model_module_version": "1.1.0",
      "model_name": "LayoutModel",
      "state": {
       "align_items": "center",
       "grid_area": "header",
       "width": "90%"
      }
     },
     "5ddde3b06eb14e4dbb212d8a1f85b05d": {
      "model_module": "@jupyter-widgets/controls",
      "model_module_version": "1.4.0",
      "model_name": "ButtonModel",
      "state": {
       "button_style": "info",
       "description": "Submit",
       "layout": "IPY_MODEL_5b8ba84047fc43cc9ee9d79018ee1445",
       "style": "IPY_MODEL_1adc1bd8b0b946af9bc1bf5f96d66fe6"
      }
     },
     "5ea6b8a9baf3470c8c1bcf6d5e18a3d8": {
      "model_module": "@jupyter-widgets/controls",
      "model_module_version": "1.4.0",
      "model_name": "DescriptionStyleModel",
      "state": {
       "description_width": ""
      }
     },
     "5ebd7052038c4e65a0b5facb6a654d9d": {
      "model_module": "@jupyter-widgets/base",
      "model_module_version": "1.1.0",
      "model_name": "LayoutModel",
      "state": {
       "align_items": "center",
       "grid_area": "header",
       "width": "90%"
      }
     },
     "5f16db04f6ac426fa6be8bf047b8f965": {
      "model_module": "@jupyter-widgets/base",
      "model_module_version": "1.1.0",
      "model_name": "LayoutModel",
      "state": {
       "grid_area": "header",
       "width": "auto"
      }
     },
     "5f3ecdabea494fa4868d7a951fd3a726": {
      "model_module": "@jupyter-widgets/base",
      "model_module_version": "1.1.0",
      "model_name": "LayoutModel",
      "state": {
       "padding": "20px 10px 20px 20px",
       "width": "30%"
      }
     },
     "5f5debc5e44f4160b5b1748bbf756aa5": {
      "model_module": "@jupyter-widgets/controls",
      "model_module_version": "1.4.0",
      "model_name": "DescriptionStyleModel",
      "state": {
       "description_width": ""
      }
     },
     "5fedb1436c31424ab577d2128a74fc23": {
      "model_module": "@jupyter-widgets/controls",
      "model_module_version": "1.4.0",
      "model_name": "ButtonStyleModel",
      "state": {}
     },
     "600cb88cb962472b9f1759d7167e0c2b": {
      "model_module": "@jupyter-widgets/base",
      "model_module_version": "1.1.0",
      "model_name": "LayoutModel",
      "state": {
       "align_items": "center",
       "grid_area": "left",
       "width": "90%"
      }
     },
     "60e79fe1cea0468d93066e588f6e3f33": {
      "model_module": "@jupyter-widgets/controls",
      "model_module_version": "1.4.0",
      "model_name": "ButtonStyleModel",
      "state": {}
     },
     "60ec250d1c604e439c8e8a6d9799b862": {
      "model_module": "@jupyter-widgets/base",
      "model_module_version": "1.1.0",
      "model_name": "LayoutModel",
      "state": {
       "align_items": "center",
       "grid_area": "main",
       "width": "90%"
      }
     },
     "6113c55e8a204588879bf1f149e02a36": {
      "model_module": "@jupyter-widgets/base",
      "model_module_version": "1.1.0",
      "model_name": "LayoutModel",
      "state": {}
     },
     "61450e1e119f4fbba05fc08389d9d420": {
      "model_module": "@jupyter-widgets/controls",
      "model_module_version": "1.4.0",
      "model_name": "DatePickerModel",
      "state": {
       "description": "end date",
       "disabled": false,
       "layout": "IPY_MODEL_1689e2ede211439fa2e27c0b93ff59e7",
       "style": "IPY_MODEL_39513ad6c17b496c93f33598b8ee88ca"
      }
     },
     "6158d9e325c94577aa6055f8c5503f30": {
      "model_module": "@jupyter-widgets/controls",
      "model_module_version": "1.4.0",
      "model_name": "DatePickerModel",
      "state": {
       "description": "start date",
       "disabled": false,
       "layout": "IPY_MODEL_e6198748ae474b9986eacedcb42d8f14",
       "style": "IPY_MODEL_c1dafea644c64b9da8e30e9901ab5556"
      }
     },
     "61ee453546b649c09902c1fe253ab95f": {
      "model_module": "@jupyter-widgets/output",
      "model_module_version": "1.0.0",
      "model_name": "OutputModel",
      "state": {
       "layout": "IPY_MODEL_c924d514ff72477daed293d8deeb4ca1",
       "outputs": [
        {
         "data": {
          "text/html": "<div>\n<style scoped>\n    .dataframe tbody tr th:only-of-type {\n        vertical-align: middle;\n    }\n\n    .dataframe tbody tr th {\n        vertical-align: top;\n    }\n\n    .dataframe thead th {\n        text-align: right;\n    }\n</style>\n<table border=\"1\" class=\"dataframe\">\n  <thead>\n    <tr style=\"text-align: right;\">\n      <th></th>\n      <th>action</th>\n      <th>app_name</th>\n      <th>asset_type</th>\n      <th>asset_user_access_id</th>\n      <th>context_type</th>\n      <th>contributed</th>\n      <th>controller</th>\n      <th>created_at</th>\n      <th>developer_key_id</th>\n      <th>http_method</th>\n      <th>...</th>\n      <th>links</th>\n      <th>participated</th>\n      <th>remote_ip</th>\n      <th>render_time</th>\n      <th>session_id</th>\n      <th>summarized</th>\n      <th>updated_at</th>\n      <th>url</th>\n      <th>user_agent</th>\n      <th>user_request</th>\n    </tr>\n  </thead>\n  <tbody>\n    <tr>\n      <th>0</th>\n      <td>api_show</td>\n      <td>User-Generated</td>\n      <td>None</td>\n      <td>None</td>\n      <td>None</td>\n      <td>False</td>\n      <td>users</td>\n      <td>2019-05-13T16:31:21Z</td>\n      <td>170000000000016</td>\n      <td>get</td>\n      <td>...</td>\n      <td>{'user': 5443278, 'context': None, 'asset': No...</td>\n      <td>False</td>\n      <td>165.123.108.90</td>\n      <td>0.087064</td>\n      <td>c4e164f069b1ea2dd363604f9183a80f</td>\n      <td>None</td>\n      <td>2019-05-13T16:31:21Z</td>\n      <td>https://canvas.upenn.edu/api/v1/users/5443278</td>\n      <td>python-requests/2.21.0</td>\n      <td>None</td>\n    </tr>\n    <tr>\n      <th>1</th>\n      <td>api_show</td>\n      <td>User-Generated</td>\n      <td>None</td>\n      <td>None</td>\n      <td>None</td>\n      <td>False</td>\n      <td>users</td>\n      <td>2019-05-13T16:30:44Z</td>\n      <td>170000000000016</td>\n      <td>get</td>\n      <td>...</td>\n      <td>{'user': 5443278, 'context': None, 'asset': No...</td>\n      <td>False</td>\n      <td>165.123.108.90</td>\n      <td>0.140847</td>\n      <td>9cda8de7b8c0a99f912437aced97c6de</td>\n      <td>None</td>\n      <td>2019-05-13T16:30:44Z</td>\n      <td>https://canvas.upenn.edu/api/v1/users/5443278</td>\n      <td>python-requests/2.21.0</td>\n      <td>None</td>\n    </tr>\n    <tr>\n      <th>2</th>\n      <td>api_show</td>\n      <td>User-Generated</td>\n      <td>None</td>\n      <td>None</td>\n      <td>None</td>\n      <td>False</td>\n      <td>users</td>\n      <td>2019-05-13T16:30:24Z</td>\n      <td>170000000000016</td>\n      <td>get</td>\n      <td>...</td>\n      <td>{'user': 5443278, 'context': None, 'asset': No...</td>\n      <td>False</td>\n      <td>165.123.108.90</td>\n      <td>0.097122</td>\n      <td>ae54c5b3ef112776110bd7085e78c6a3</td>\n      <td>None</td>\n      <td>2019-05-13T16:30:24Z</td>\n      <td>https://canvas.upenn.edu/api/v1/users/5443278</td>\n      <td>python-requests/2.21.0</td>\n      <td>None</td>\n    </tr>\n    <tr>\n      <th>3</th>\n      <td>api_show</td>\n      <td>User-Generated</td>\n      <td>None</td>\n      <td>None</td>\n      <td>None</td>\n      <td>False</td>\n      <td>users</td>\n      <td>2019-05-13T16:29:19Z</td>\n      <td>170000000000016</td>\n      <td>get</td>\n      <td>...</td>\n      <td>{'user': 5443278, 'context': None, 'asset': No...</td>\n      <td>False</td>\n      <td>165.123.108.90</td>\n      <td>0.098179</td>\n      <td>57ebda46c23d3ef378ed371bb9ceebde</td>\n      <td>None</td>\n      <td>2019-05-13T16:29:19Z</td>\n      <td>https://canvas.upenn.edu/api/v1/users/5443278</td>\n      <td>python-requests/2.21.0</td>\n      <td>None</td>\n    </tr>\n    <tr>\n      <th>4</th>\n      <td>api_show</td>\n      <td>User-Generated</td>\n      <td>None</td>\n      <td>None</td>\n      <td>None</td>\n      <td>False</td>\n      <td>users</td>\n      <td>2019-05-13T16:28:48Z</td>\n      <td>170000000000016</td>\n      <td>get</td>\n      <td>...</td>\n      <td>{'user': 5443278, 'context': None, 'asset': No...</td>\n      <td>False</td>\n      <td>165.123.108.90</td>\n      <td>0.109133</td>\n      <td>8d5b90aedb34f83afbd34e264b66d7ff</td>\n      <td>None</td>\n      <td>2019-05-13T16:28:48Z</td>\n      <td>https://canvas.upenn.edu/api/v1/users/5443278</td>\n      <td>python-requests/2.21.0</td>\n      <td>None</td>\n    </tr>\n    <tr>\n      <th>5</th>\n      <td>api_show</td>\n      <td>User-Generated</td>\n      <td>None</td>\n      <td>None</td>\n      <td>None</td>\n      <td>False</td>\n      <td>users</td>\n      <td>2019-05-13T16:27:04Z</td>\n      <td>170000000000016</td>\n      <td>get</td>\n      <td>...</td>\n      <td>{'user': 5443278, 'context': None, 'asset': No...</td>\n      <td>False</td>\n      <td>165.123.108.90</td>\n      <td>0.083469</td>\n      <td>b6ad61f0e4e42dc477a17e7dfae5d36e</td>\n      <td>None</td>\n      <td>2019-05-13T16:27:04Z</td>\n      <td>https://canvas.upenn.edu/api/v1/users/5443278</td>\n      <td>python-requests/2.21.0</td>\n      <td>None</td>\n    </tr>\n    <tr>\n      <th>6</th>\n      <td>api_show</td>\n      <td>User-Generated</td>\n      <td>None</td>\n      <td>None</td>\n      <td>None</td>\n      <td>False</td>\n      <td>users</td>\n      <td>2019-05-13T16:25:52Z</td>\n      <td>170000000000016</td>\n      <td>get</td>\n      <td>...</td>\n      <td>{'user': 5443278, 'context': None, 'asset': No...</td>\n      <td>False</td>\n      <td>165.123.108.90</td>\n      <td>0.100276</td>\n      <td>09efa589f36f6f689f983a20cd838694</td>\n      <td>None</td>\n      <td>2019-05-13T16:25:52Z</td>\n      <td>https://canvas.upenn.edu/api/v1/users/5443278</td>\n      <td>python-requests/2.21.0</td>\n      <td>None</td>\n    </tr>\n    <tr>\n      <th>7</th>\n      <td>api_show</td>\n      <td>User-Generated</td>\n      <td>None</td>\n      <td>None</td>\n      <td>None</td>\n      <td>False</td>\n      <td>users</td>\n      <td>2019-05-13T16:24:26Z</td>\n      <td>170000000000016</td>\n      <td>get</td>\n      <td>...</td>\n      <td>{'user': 5443278, 'context': None, 'asset': No...</td>\n      <td>False</td>\n      <td>165.123.108.90</td>\n      <td>0.113080</td>\n      <td>468a1c0367447d32efdc902c679d0755</td>\n      <td>None</td>\n      <td>2019-05-13T16:24:26Z</td>\n      <td>https://canvas.upenn.edu/api/v1/users/5443378</td>\n      <td>python-requests/2.21.0</td>\n      <td>None</td>\n    </tr>\n    <tr>\n      <th>8</th>\n      <td>api_show</td>\n      <td>User-Generated</td>\n      <td>None</td>\n      <td>None</td>\n      <td>None</td>\n      <td>False</td>\n      <td>users</td>\n      <td>2019-05-13T16:24:10Z</td>\n      <td>170000000000016</td>\n      <td>get</td>\n      <td>...</td>\n      <td>{'user': 5443278, 'context': None, 'asset': No...</td>\n      <td>False</td>\n      <td>165.123.108.90</td>\n      <td>0.101640</td>\n      <td>c168e2fce30c1d393b9e6b092e3e8ce5</td>\n      <td>None</td>\n      <td>2019-05-13T16:24:10Z</td>\n      <td>https://canvas.upenn.edu/api/v1/users/5443278</td>\n      <td>python-requests/2.21.0</td>\n      <td>None</td>\n    </tr>\n    <tr>\n      <th>9</th>\n      <td>index</td>\n      <td>User-Generated</td>\n      <td>None</td>\n      <td>None</td>\n      <td>Course</td>\n      <td>False</td>\n      <td>quizzes/quiz_submissions_api</td>\n      <td>2019-05-13T16:23:58Z</td>\n      <td>170000000000016</td>\n      <td>get</td>\n      <td>...</td>\n      <td>{'user': 5443278, 'context': 1424853, 'asset':...</td>\n      <td>False</td>\n      <td>165.123.108.90</td>\n      <td>2.445917</td>\n      <td>a7f39e5390f93f018672d9404d6f082f</td>\n      <td>None</td>\n      <td>2019-05-13T16:23:58Z</td>\n      <td>https://canvas.upenn.edu/api/v1//courses/14248...</td>\n      <td>python-requests/2.21.0</td>\n      <td>None</td>\n    </tr>\n    <tr>\n      <th>10</th>\n      <td>index</td>\n      <td>User-Generated</td>\n      <td>None</td>\n      <td>None</td>\n      <td>Account</td>\n      <td>False</td>\n      <td>scopes_api</td>\n      <td>2019-05-13T16:23:58Z</td>\n      <td>170000000000016</td>\n      <td>get</td>\n      <td>...</td>\n      <td>{'user': 5443278, 'context': 96678, 'asset': N...</td>\n      <td>False</td>\n      <td>165.123.108.90</td>\n      <td>0.059810</td>\n      <td>5c1b2eaf20fb078e399419eb198ed0e0</td>\n      <td>None</td>\n      <td>2019-05-13T16:23:58Z</td>\n      <td>https://canvas.upenn.edu/api/v1/accounts/self/...</td>\n      <td>python-requests/2.21.0</td>\n      <td>None</td>\n    </tr>\n    <tr>\n      <th>11</th>\n      <td>index</td>\n      <td>User-Generated</td>\n      <td>None</td>\n      <td>None</td>\n      <td>Account</td>\n      <td>False</td>\n      <td>scopes_api</td>\n      <td>2019-05-13T16:23:57Z</td>\n      <td>170000000000016</td>\n      <td>get</td>\n      <td>...</td>\n      <td>{'user': 5443278, 'context': 96678, 'asset': N...</td>\n      <td>False</td>\n      <td>165.123.108.90</td>\n      <td>0.451222</td>\n      <td>362de6a53c7a2633c1e891a84e7dcabf</td>\n      <td>None</td>\n      <td>2019-05-13T16:23:57Z</td>\n      <td>https://canvas.upenn.edu/api/v1/accounts/self/...</td>\n      <td>python-requests/2.21.0</td>\n      <td>None</td>\n    </tr>\n    <tr>\n      <th>12</th>\n      <td>index</td>\n      <td>User-Generated</td>\n      <td>None</td>\n      <td>None</td>\n      <td>Account</td>\n      <td>False</td>\n      <td>scopes_api</td>\n      <td>2019-05-13T16:23:57Z</td>\n      <td>170000000000016</td>\n      <td>get</td>\n      <td>...</td>\n      <td>{'user': 5443278, 'context': 96678, 'asset': N...</td>\n      <td>False</td>\n      <td>165.123.108.90</td>\n      <td>0.365610</td>\n      <td>05636dc54d5ce4903a794cb351ab9a69</td>\n      <td>None</td>\n      <td>2019-05-13T16:23:57Z</td>\n      <td>https://canvas.upenn.edu/api/v1/accounts/self/...</td>\n      <td>python-requests/2.21.0</td>\n      <td>None</td>\n    </tr>\n    <tr>\n      <th>13</th>\n      <td>index</td>\n      <td>User-Generated</td>\n      <td>None</td>\n      <td>None</td>\n      <td>Account</td>\n      <td>False</td>\n      <td>scopes_api</td>\n      <td>2019-05-13T16:23:53Z</td>\n      <td>170000000000016</td>\n      <td>get</td>\n      <td>...</td>\n      <td>{'user': 5443278, 'context': 96678, 'asset': N...</td>\n      <td>False</td>\n      <td>165.123.108.90</td>\n      <td>0.523446</td>\n      <td>034e6ac544bcc3bd611ef4828fd18e71</td>\n      <td>None</td>\n      <td>2019-05-13T16:23:53Z</td>\n      <td>https://canvas.upenn.edu/api/v1/accounts/self/...</td>\n      <td>python-requests/2.21.0</td>\n      <td>None</td>\n    </tr>\n    <tr>\n      <th>14</th>\n      <td>index</td>\n      <td>User-Generated</td>\n      <td>None</td>\n      <td>None</td>\n      <td>Account</td>\n      <td>False</td>\n      <td>scopes_api</td>\n      <td>2019-05-13T16:23:40Z</td>\n      <td>170000000000016</td>\n      <td>get</td>\n      <td>...</td>\n      <td>{'user': 5443278, 'context': 96678, 'asset': N...</td>\n      <td>False</td>\n      <td>165.123.108.90</td>\n      <td>0.372882</td>\n      <td>1f2d7e577fbbb7704600641b597e8bcf</td>\n      <td>None</td>\n      <td>2019-05-13T16:23:40Z</td>\n      <td>https://canvas.upenn.edu/api/v1/accounts/self/...</td>\n      <td>python-requests/2.21.0</td>\n      <td>None</td>\n    </tr>\n    <tr>\n      <th>15</th>\n      <td>api_show</td>\n      <td>User-Generated</td>\n      <td>None</td>\n      <td>None</td>\n      <td>None</td>\n      <td>False</td>\n      <td>users</td>\n      <td>2019-05-13T16:22:49Z</td>\n      <td>170000000000016</td>\n      <td>get</td>\n      <td>...</td>\n      <td>{'user': 5443278, 'context': None, 'asset': No...</td>\n      <td>False</td>\n      <td>165.123.108.90</td>\n      <td>0.081139</td>\n      <td>db08f4232bc40508c5f371a5f9edb579</td>\n      <td>None</td>\n      <td>2019-05-13T16:22:49Z</td>\n      <td>https://canvas.upenn.edu/api/v1/users/5443278</td>\n      <td>python-requests/2.21.0</td>\n      <td>None</td>\n    </tr>\n    <tr>\n      <th>16</th>\n      <td>api_show</td>\n      <td>User-Generated</td>\n      <td>None</td>\n      <td>None</td>\n      <td>None</td>\n      <td>False</td>\n      <td>users</td>\n      <td>2019-05-13T16:22:31Z</td>\n      <td>170000000000016</td>\n      <td>get</td>\n      <td>...</td>\n      <td>{'user': 5443278, 'context': None, 'asset': No...</td>\n      <td>False</td>\n      <td>165.123.108.90</td>\n      <td>0.103087</td>\n      <td>7bf0c3817b22ef4962823b4f81015fc5</td>\n      <td>None</td>\n      <td>2019-05-13T16:22:31Z</td>\n      <td>https://canvas.upenn.edu/api/v1/users/5443278</td>\n      <td>python-requests/2.21.0</td>\n      <td>None</td>\n    </tr>\n    <tr>\n      <th>17</th>\n      <td>api_show</td>\n      <td>User-Generated</td>\n      <td>None</td>\n      <td>None</td>\n      <td>None</td>\n      <td>False</td>\n      <td>users</td>\n      <td>2019-05-13T16:22:26Z</td>\n      <td>170000000000016</td>\n      <td>get</td>\n      <td>...</td>\n      <td>{'user': 5443278, 'context': None, 'asset': No...</td>\n      <td>False</td>\n      <td>165.123.108.90</td>\n      <td>0.122861</td>\n      <td>b5e1f872a74c54d6a3f20ab1d687b170</td>\n      <td>None</td>\n      <td>2019-05-13T16:22:26Z</td>\n      <td>https://canvas.upenn.edu/api/v1/users/5443277</td>\n      <td>python-requests/2.21.0</td>\n      <td>None</td>\n    </tr>\n    <tr>\n      <th>18</th>\n      <td>api_show</td>\n      <td>User-Generated</td>\n      <td>None</td>\n      <td>None</td>\n      <td>None</td>\n      <td>False</td>\n      <td>users</td>\n      <td>2019-05-13T16:22:16Z</td>\n      <td>170000000000016</td>\n      <td>get</td>\n      <td>...</td>\n      <td>{'user': 5443278, 'context': None, 'asset': No...</td>\n      <td>False</td>\n      <td>165.123.108.90</td>\n      <td>0.088944</td>\n      <td>94826d7d7e569a33e32d0e9502c5e32d</td>\n      <td>None</td>\n      <td>2019-05-13T16:22:16Z</td>\n      <td>https://canvas.upenn.edu/api/v1/users/5443277</td>\n      <td>python-requests/2.21.0</td>\n      <td>None</td>\n    </tr>\n    <tr>\n      <th>19</th>\n      <td>api_show</td>\n      <td>User-Generated</td>\n      <td>None</td>\n      <td>None</td>\n      <td>None</td>\n      <td>False</td>\n      <td>users</td>\n      <td>2019-05-13T16:22:02Z</td>\n      <td>170000000000016</td>\n      <td>get</td>\n      <td>...</td>\n      <td>{'user': 5443278, 'context': None, 'asset': No...</td>\n      <td>False</td>\n      <td>165.123.108.90</td>\n      <td>0.163653</td>\n      <td>9f469ba92cb57327104f8fc3f2ca5b50</td>\n      <td>None</td>\n      <td>2019-05-13T16:22:02Z</td>\n      <td>https://canvas.upenn.edu/api/v1/users/5443278</td>\n      <td>python-requests/2.21.0</td>\n      <td>None</td>\n    </tr>\n    <tr>\n      <th>20</th>\n      <td>api_show</td>\n      <td>User-Generated</td>\n      <td>None</td>\n      <td>None</td>\n      <td>None</td>\n      <td>False</td>\n      <td>users</td>\n      <td>2019-05-13T16:21:58Z</td>\n      <td>170000000000016</td>\n      <td>get</td>\n      <td>...</td>\n      <td>{'user': 5443278, 'context': None, 'asset': No...</td>\n      <td>False</td>\n      <td>165.123.108.90</td>\n      <td>0.134529</td>\n      <td>7a887d542b7ee9bd5c33ec76439a66d1</td>\n      <td>None</td>\n      <td>2019-05-13T16:21:58Z</td>\n      <td>https://canvas.upenn.edu/api/v1/users/5443278</td>\n      <td>python-requests/2.21.0</td>\n      <td>None</td>\n    </tr>\n    <tr>\n      <th>21</th>\n      <td>api_show</td>\n      <td>User-Generated</td>\n      <td>None</td>\n      <td>None</td>\n      <td>None</td>\n      <td>False</td>\n      <td>users</td>\n      <td>2019-05-13T16:21:37Z</td>\n      <td>170000000000016</td>\n      <td>get</td>\n      <td>...</td>\n      <td>{'user': 5443278, 'context': None, 'asset': No...</td>\n      <td>False</td>\n      <td>165.123.108.90</td>\n      <td>0.068290</td>\n      <td>0f2f4cdfeedd6f4cf5c8c724ae919bb8</td>\n      <td>None</td>\n      <td>2019-05-13T16:21:37Z</td>\n      <td>https://canvas.upenn.edu/api/v1/users/5443278</td>\n      <td>python-requests/2.21.0</td>\n      <td>None</td>\n    </tr>\n    <tr>\n      <th>22</th>\n      <td>api_show</td>\n      <td>User-Generated</td>\n      <td>None</td>\n      <td>None</td>\n      <td>None</td>\n      <td>False</td>\n      <td>users</td>\n      <td>2019-05-13T16:21:36Z</td>\n      <td>170000000000016</td>\n      <td>get</td>\n      <td>...</td>\n      <td>{'user': 5443278, 'context': None, 'asset': No...</td>\n      <td>False</td>\n      <td>165.123.108.90</td>\n      <td>0.075246</td>\n      <td>ef9f38814072919ae826860e2488acba</td>\n      <td>None</td>\n      <td>2019-05-13T16:21:36Z</td>\n      <td>https://canvas.upenn.edu/api/v1/users/5443278</td>\n      <td>python-requests/2.21.0</td>\n      <td>None</td>\n    </tr>\n    <tr>\n      <th>23</th>\n      <td>api_show</td>\n      <td>User-Generated</td>\n      <td>None</td>\n      <td>None</td>\n      <td>None</td>\n      <td>False</td>\n      <td>users</td>\n      <td>2019-05-13T16:21:03Z</td>\n      <td>170000000000016</td>\n      <td>get</td>\n      <td>...</td>\n      <td>{'user': 5443278, 'context': None, 'asset': No...</td>\n      <td>False</td>\n      <td>165.123.108.90</td>\n      <td>0.085063</td>\n      <td>7f910020f8a7a922f44fdc298aea0d70</td>\n      <td>None</td>\n      <td>2019-05-13T16:21:03Z</td>\n      <td>https://canvas.upenn.edu/api/v1/users/5443278</td>\n      <td>python-requests/2.21.0</td>\n      <td>None</td>\n    </tr>\n    <tr>\n      <th>24</th>\n      <td>api_show</td>\n      <td>User-Generated</td>\n      <td>None</td>\n      <td>None</td>\n      <td>None</td>\n      <td>False</td>\n      <td>users</td>\n      <td>2019-05-13T16:21:02Z</td>\n      <td>170000000000016</td>\n      <td>get</td>\n      <td>...</td>\n      <td>{'user': 5443278, 'context': None, 'asset': No...</td>\n      <td>False</td>\n      <td>165.123.108.90</td>\n      <td>0.077631</td>\n      <td>2683f46218c49fe717945e35ce1bb610</td>\n      <td>None</td>\n      <td>2019-05-13T16:21:02Z</td>\n      <td>https://canvas.upenn.edu/api/v1/users/5443278</td>\n      <td>python-requests/2.21.0</td>\n      <td>None</td>\n    </tr>\n  </tbody>\n</table>\n<p>25 rows × 22 columns</p>\n</div>",
          "text/plain": "      action        app_name asset_type asset_user_access_id context_type  \\\n0   api_show  User-Generated       None                 None         None   \n1   api_show  User-Generated       None                 None         None   \n2   api_show  User-Generated       None                 None         None   \n3   api_show  User-Generated       None                 None         None   \n4   api_show  User-Generated       None                 None         None   \n5   api_show  User-Generated       None                 None         None   \n6   api_show  User-Generated       None                 None         None   \n7   api_show  User-Generated       None                 None         None   \n8   api_show  User-Generated       None                 None         None   \n9      index  User-Generated       None                 None       Course   \n10     index  User-Generated       None                 None      Account   \n11     index  User-Generated       None                 None      Account   \n12     index  User-Generated       None                 None      Account   \n13     index  User-Generated       None                 None      Account   \n14     index  User-Generated       None                 None      Account   \n15  api_show  User-Generated       None                 None         None   \n16  api_show  User-Generated       None                 None         None   \n17  api_show  User-Generated       None                 None         None   \n18  api_show  User-Generated       None                 None         None   \n19  api_show  User-Generated       None                 None         None   \n20  api_show  User-Generated       None                 None         None   \n21  api_show  User-Generated       None                 None         None   \n22  api_show  User-Generated       None                 None         None   \n23  api_show  User-Generated       None                 None         None   \n24  api_show  User-Generated       None                 None         None   \n\n    contributed                    controller            created_at  \\\n0         False                         users  2019-05-13T16:31:21Z   \n1         False                         users  2019-05-13T16:30:44Z   \n2         False                         users  2019-05-13T16:30:24Z   \n3         False                         users  2019-05-13T16:29:19Z   \n4         False                         users  2019-05-13T16:28:48Z   \n5         False                         users  2019-05-13T16:27:04Z   \n6         False                         users  2019-05-13T16:25:52Z   \n7         False                         users  2019-05-13T16:24:26Z   \n8         False                         users  2019-05-13T16:24:10Z   \n9         False  quizzes/quiz_submissions_api  2019-05-13T16:23:58Z   \n10        False                    scopes_api  2019-05-13T16:23:58Z   \n11        False                    scopes_api  2019-05-13T16:23:57Z   \n12        False                    scopes_api  2019-05-13T16:23:57Z   \n13        False                    scopes_api  2019-05-13T16:23:53Z   \n14        False                    scopes_api  2019-05-13T16:23:40Z   \n15        False                         users  2019-05-13T16:22:49Z   \n16        False                         users  2019-05-13T16:22:31Z   \n17        False                         users  2019-05-13T16:22:26Z   \n18        False                         users  2019-05-13T16:22:16Z   \n19        False                         users  2019-05-13T16:22:02Z   \n20        False                         users  2019-05-13T16:21:58Z   \n21        False                         users  2019-05-13T16:21:37Z   \n22        False                         users  2019-05-13T16:21:36Z   \n23        False                         users  2019-05-13T16:21:03Z   \n24        False                         users  2019-05-13T16:21:02Z   \n\n    developer_key_id http_method  ...  \\\n0    170000000000016         get  ...   \n1    170000000000016         get  ...   \n2    170000000000016         get  ...   \n3    170000000000016         get  ...   \n4    170000000000016         get  ...   \n5    170000000000016         get  ...   \n6    170000000000016         get  ...   \n7    170000000000016         get  ...   \n8    170000000000016         get  ...   \n9    170000000000016         get  ...   \n10   170000000000016         get  ...   \n11   170000000000016         get  ...   \n12   170000000000016         get  ...   \n13   170000000000016         get  ...   \n14   170000000000016         get  ...   \n15   170000000000016         get  ...   \n16   170000000000016         get  ...   \n17   170000000000016         get  ...   \n18   170000000000016         get  ...   \n19   170000000000016         get  ...   \n20   170000000000016         get  ...   \n21   170000000000016         get  ...   \n22   170000000000016         get  ...   \n23   170000000000016         get  ...   \n24   170000000000016         get  ...   \n\n                                                links participated  \\\n0   {'user': 5443278, 'context': None, 'asset': No...        False   \n1   {'user': 5443278, 'context': None, 'asset': No...        False   \n2   {'user': 5443278, 'context': None, 'asset': No...        False   \n3   {'user': 5443278, 'context': None, 'asset': No...        False   \n4   {'user': 5443278, 'context': None, 'asset': No...        False   \n5   {'user': 5443278, 'context': None, 'asset': No...        False   \n6   {'user': 5443278, 'context': None, 'asset': No...        False   \n7   {'user': 5443278, 'context': None, 'asset': No...        False   \n8   {'user': 5443278, 'context': None, 'asset': No...        False   \n9   {'user': 5443278, 'context': 1424853, 'asset':...        False   \n10  {'user': 5443278, 'context': 96678, 'asset': N...        False   \n11  {'user': 5443278, 'context': 96678, 'asset': N...        False   \n12  {'user': 5443278, 'context': 96678, 'asset': N...        False   \n13  {'user': 5443278, 'context': 96678, 'asset': N...        False   \n14  {'user': 5443278, 'context': 96678, 'asset': N...        False   \n15  {'user': 5443278, 'context': None, 'asset': No...        False   \n16  {'user': 5443278, 'context': None, 'asset': No...        False   \n17  {'user': 5443278, 'context': None, 'asset': No...        False   \n18  {'user': 5443278, 'context': None, 'asset': No...        False   \n19  {'user': 5443278, 'context': None, 'asset': No...        False   \n20  {'user': 5443278, 'context': None, 'asset': No...        False   \n21  {'user': 5443278, 'context': None, 'asset': No...        False   \n22  {'user': 5443278, 'context': None, 'asset': No...        False   \n23  {'user': 5443278, 'context': None, 'asset': No...        False   \n24  {'user': 5443278, 'context': None, 'asset': No...        False   \n\n         remote_ip  render_time                        session_id  summarized  \\\n0   165.123.108.90     0.087064  c4e164f069b1ea2dd363604f9183a80f        None   \n1   165.123.108.90     0.140847  9cda8de7b8c0a99f912437aced97c6de        None   \n2   165.123.108.90     0.097122  ae54c5b3ef112776110bd7085e78c6a3        None   \n3   165.123.108.90     0.098179  57ebda46c23d3ef378ed371bb9ceebde        None   \n4   165.123.108.90     0.109133  8d5b90aedb34f83afbd34e264b66d7ff        None   \n5   165.123.108.90     0.083469  b6ad61f0e4e42dc477a17e7dfae5d36e        None   \n6   165.123.108.90     0.100276  09efa589f36f6f689f983a20cd838694        None   \n7   165.123.108.90     0.113080  468a1c0367447d32efdc902c679d0755        None   \n8   165.123.108.90     0.101640  c168e2fce30c1d393b9e6b092e3e8ce5        None   \n9   165.123.108.90     2.445917  a7f39e5390f93f018672d9404d6f082f        None   \n10  165.123.108.90     0.059810  5c1b2eaf20fb078e399419eb198ed0e0        None   \n11  165.123.108.90     0.451222  362de6a53c7a2633c1e891a84e7dcabf        None   \n12  165.123.108.90     0.365610  05636dc54d5ce4903a794cb351ab9a69        None   \n13  165.123.108.90     0.523446  034e6ac544bcc3bd611ef4828fd18e71        None   \n14  165.123.108.90     0.372882  1f2d7e577fbbb7704600641b597e8bcf        None   \n15  165.123.108.90     0.081139  db08f4232bc40508c5f371a5f9edb579        None   \n16  165.123.108.90     0.103087  7bf0c3817b22ef4962823b4f81015fc5        None   \n17  165.123.108.90     0.122861  b5e1f872a74c54d6a3f20ab1d687b170        None   \n18  165.123.108.90     0.088944  94826d7d7e569a33e32d0e9502c5e32d        None   \n19  165.123.108.90     0.163653  9f469ba92cb57327104f8fc3f2ca5b50        None   \n20  165.123.108.90     0.134529  7a887d542b7ee9bd5c33ec76439a66d1        None   \n21  165.123.108.90     0.068290  0f2f4cdfeedd6f4cf5c8c724ae919bb8        None   \n22  165.123.108.90     0.075246  ef9f38814072919ae826860e2488acba        None   \n23  165.123.108.90     0.085063  7f910020f8a7a922f44fdc298aea0d70        None   \n24  165.123.108.90     0.077631  2683f46218c49fe717945e35ce1bb610        None   \n\n              updated_at                                                url  \\\n0   2019-05-13T16:31:21Z      https://canvas.upenn.edu/api/v1/users/5443278   \n1   2019-05-13T16:30:44Z      https://canvas.upenn.edu/api/v1/users/5443278   \n2   2019-05-13T16:30:24Z      https://canvas.upenn.edu/api/v1/users/5443278   \n3   2019-05-13T16:29:19Z      https://canvas.upenn.edu/api/v1/users/5443278   \n4   2019-05-13T16:28:48Z      https://canvas.upenn.edu/api/v1/users/5443278   \n5   2019-05-13T16:27:04Z      https://canvas.upenn.edu/api/v1/users/5443278   \n6   2019-05-13T16:25:52Z      https://canvas.upenn.edu/api/v1/users/5443278   \n7   2019-05-13T16:24:26Z      https://canvas.upenn.edu/api/v1/users/5443378   \n8   2019-05-13T16:24:10Z      https://canvas.upenn.edu/api/v1/users/5443278   \n9   2019-05-13T16:23:58Z  https://canvas.upenn.edu/api/v1//courses/14248...   \n10  2019-05-13T16:23:58Z  https://canvas.upenn.edu/api/v1/accounts/self/...   \n11  2019-05-13T16:23:57Z  https://canvas.upenn.edu/api/v1/accounts/self/...   \n12  2019-05-13T16:23:57Z  https://canvas.upenn.edu/api/v1/accounts/self/...   \n13  2019-05-13T16:23:53Z  https://canvas.upenn.edu/api/v1/accounts/self/...   \n14  2019-05-13T16:23:40Z  https://canvas.upenn.edu/api/v1/accounts/self/...   \n15  2019-05-13T16:22:49Z      https://canvas.upenn.edu/api/v1/users/5443278   \n16  2019-05-13T16:22:31Z      https://canvas.upenn.edu/api/v1/users/5443278   \n17  2019-05-13T16:22:26Z      https://canvas.upenn.edu/api/v1/users/5443277   \n18  2019-05-13T16:22:16Z      https://canvas.upenn.edu/api/v1/users/5443277   \n19  2019-05-13T16:22:02Z      https://canvas.upenn.edu/api/v1/users/5443278   \n20  2019-05-13T16:21:58Z      https://canvas.upenn.edu/api/v1/users/5443278   \n21  2019-05-13T16:21:37Z      https://canvas.upenn.edu/api/v1/users/5443278   \n22  2019-05-13T16:21:36Z      https://canvas.upenn.edu/api/v1/users/5443278   \n23  2019-05-13T16:21:03Z      https://canvas.upenn.edu/api/v1/users/5443278   \n24  2019-05-13T16:21:02Z      https://canvas.upenn.edu/api/v1/users/5443278   \n\n                user_agent user_request  \n0   python-requests/2.21.0         None  \n1   python-requests/2.21.0         None  \n2   python-requests/2.21.0         None  \n3   python-requests/2.21.0         None  \n4   python-requests/2.21.0         None  \n5   python-requests/2.21.0         None  \n6   python-requests/2.21.0         None  \n7   python-requests/2.21.0         None  \n8   python-requests/2.21.0         None  \n9   python-requests/2.21.0         None  \n10  python-requests/2.21.0         None  \n11  python-requests/2.21.0         None  \n12  python-requests/2.21.0         None  \n13  python-requests/2.21.0         None  \n14  python-requests/2.21.0         None  \n15  python-requests/2.21.0         None  \n16  python-requests/2.21.0         None  \n17  python-requests/2.21.0         None  \n18  python-requests/2.21.0         None  \n19  python-requests/2.21.0         None  \n20  python-requests/2.21.0         None  \n21  python-requests/2.21.0         None  \n22  python-requests/2.21.0         None  \n23  python-requests/2.21.0         None  \n24  python-requests/2.21.0         None  \n\n[25 rows x 22 columns]"
         },
         "metadata": {},
         "output_type": "display_data"
        }
       ]
      }
     },
     "6263ec4003194583a7003e4d1592e32e": {
      "model_module": "@jupyter-widgets/base",
      "model_module_version": "1.1.0",
      "model_name": "LayoutModel",
      "state": {
       "align_items": "center",
       "grid_area": "right",
       "width": "90%"
      }
     },
     "6296141cfd844ca58c6f32118b840c3f": {
      "model_module": "@jupyter-widgets/controls",
      "model_module_version": "1.4.0",
      "model_name": "DatePickerModel",
      "state": {
       "description": "end date",
       "disabled": false,
       "layout": "IPY_MODEL_2fd2bcad74474c88aa7d9a88d46498ab",
       "style": "IPY_MODEL_23a30c0174db4d0f8672b77565489065"
      }
     },
     "62c4d68055a446cf8165699996faca97": {
      "model_module": "@jupyter-widgets/output",
      "model_module_version": "1.0.0",
      "model_name": "OutputModel",
      "state": {
       "layout": "IPY_MODEL_846d15cf1fff4ddc9bacc243afaee11c"
      }
     },
     "62ccaba572a84bc8aa7d359891cf584b": {
      "model_module": "@jupyter-widgets/controls",
      "model_module_version": "1.4.0",
      "model_name": "DatePickerModel",
      "state": {
       "description": "end date",
       "disabled": false,
       "layout": "IPY_MODEL_96d4cb7472eb4323afe35da0694edbef",
       "style": "IPY_MODEL_82068c6032ae40efac0170567b48e3c3"
      }
     },
     "633bbe2831d4436ca792a5363cbe6833": {
      "model_module": "@jupyter-widgets/controls",
      "model_module_version": "1.4.0",
      "model_name": "DatePickerModel",
      "state": {
       "description": "end date",
       "disabled": false,
       "layout": "IPY_MODEL_03feaf711f8f4e599eba8432471fe6d5",
       "style": "IPY_MODEL_6fed914a66d54cfc9da33200fff6f1a3"
      }
     },
     "633fe9b1492349f7a8de4a68766d9290": {
      "model_module": "@jupyter-widgets/base",
      "model_module_version": "1.1.0",
      "model_name": "LayoutModel",
      "state": {
       "grid_area": "footer",
       "width": "auto"
      }
     },
     "637c08ae53d645a1983937df01f8136d": {
      "model_module": "@jupyter-widgets/output",
      "model_module_version": "1.0.0",
      "model_name": "OutputModel",
      "state": {
       "layout": "IPY_MODEL_1ec2be5865b344a5b34805e445c9e3f8",
       "outputs": [
        {
         "data": {
          "text/html": "<div>\n<style scoped>\n    .dataframe tbody tr th:only-of-type {\n        vertical-align: middle;\n    }\n\n    .dataframe tbody tr th {\n        vertical-align: top;\n    }\n\n    .dataframe thead th {\n        text-align: right;\n    }\n</style>\n<table border=\"1\" class=\"dataframe\">\n  <thead>\n    <tr style=\"text-align: right;\">\n      <th></th>\n      <th>action</th>\n      <th>app_name</th>\n      <th>asset_type</th>\n      <th>asset_user_access_id</th>\n      <th>context_type</th>\n      <th>contributed</th>\n      <th>controller</th>\n      <th>created_at</th>\n      <th>developer_key_id</th>\n      <th>http_method</th>\n      <th>...</th>\n      <th>links</th>\n      <th>participated</th>\n      <th>remote_ip</th>\n      <th>render_time</th>\n      <th>session_id</th>\n      <th>summarized</th>\n      <th>updated_at</th>\n      <th>url</th>\n      <th>user_agent</th>\n      <th>user_request</th>\n    </tr>\n  </thead>\n  <tbody>\n    <tr>\n      <th>0</th>\n      <td>api_show</td>\n      <td>User-Generated</td>\n      <td>None</td>\n      <td>None</td>\n      <td>None</td>\n      <td>False</td>\n      <td>users</td>\n      <td>2019-05-13T16:21:37Z</td>\n      <td>1.700000e+14</td>\n      <td>get</td>\n      <td>...</td>\n      <td>{'user': 5443278, 'context': None, 'asset': No...</td>\n      <td>False</td>\n      <td>165.123.108.90</td>\n      <td>0.068290</td>\n      <td>0f2f4cdfeedd6f4cf5c8c724ae919bb8</td>\n      <td>None</td>\n      <td>2019-05-13T16:21:37Z</td>\n      <td>https://canvas.upenn.edu/api/v1/users/5443278</td>\n      <td>python-requests/2.21.0</td>\n      <td>None</td>\n    </tr>\n    <tr>\n      <th>1</th>\n      <td>api_show</td>\n      <td>User-Generated</td>\n      <td>None</td>\n      <td>None</td>\n      <td>None</td>\n      <td>False</td>\n      <td>users</td>\n      <td>2019-05-13T16:21:36Z</td>\n      <td>1.700000e+14</td>\n      <td>get</td>\n      <td>...</td>\n      <td>{'user': 5443278, 'context': None, 'asset': No...</td>\n      <td>False</td>\n      <td>165.123.108.90</td>\n      <td>0.075246</td>\n      <td>ef9f38814072919ae826860e2488acba</td>\n      <td>None</td>\n      <td>2019-05-13T16:21:36Z</td>\n      <td>https://canvas.upenn.edu/api/v1/users/5443278</td>\n      <td>python-requests/2.21.0</td>\n      <td>None</td>\n    </tr>\n    <tr>\n      <th>2</th>\n      <td>api_show</td>\n      <td>User-Generated</td>\n      <td>None</td>\n      <td>None</td>\n      <td>None</td>\n      <td>False</td>\n      <td>users</td>\n      <td>2019-05-13T16:21:03Z</td>\n      <td>1.700000e+14</td>\n      <td>get</td>\n      <td>...</td>\n      <td>{'user': 5443278, 'context': None, 'asset': No...</td>\n      <td>False</td>\n      <td>165.123.108.90</td>\n      <td>0.085063</td>\n      <td>7f910020f8a7a922f44fdc298aea0d70</td>\n      <td>None</td>\n      <td>2019-05-13T16:21:03Z</td>\n      <td>https://canvas.upenn.edu/api/v1/users/5443278</td>\n      <td>python-requests/2.21.0</td>\n      <td>None</td>\n    </tr>\n    <tr>\n      <th>3</th>\n      <td>api_show</td>\n      <td>User-Generated</td>\n      <td>None</td>\n      <td>None</td>\n      <td>None</td>\n      <td>False</td>\n      <td>users</td>\n      <td>2019-05-13T16:21:02Z</td>\n      <td>1.700000e+14</td>\n      <td>get</td>\n      <td>...</td>\n      <td>{'user': 5443278, 'context': None, 'asset': No...</td>\n      <td>False</td>\n      <td>165.123.108.90</td>\n      <td>0.077631</td>\n      <td>2683f46218c49fe717945e35ce1bb610</td>\n      <td>None</td>\n      <td>2019-05-13T16:21:02Z</td>\n      <td>https://canvas.upenn.edu/api/v1/users/5443278</td>\n      <td>python-requests/2.21.0</td>\n      <td>None</td>\n    </tr>\n    <tr>\n      <th>4</th>\n      <td>api_show</td>\n      <td>User-Generated</td>\n      <td>None</td>\n      <td>None</td>\n      <td>None</td>\n      <td>False</td>\n      <td>users</td>\n      <td>2019-05-13T16:19:45Z</td>\n      <td>1.700000e+14</td>\n      <td>get</td>\n      <td>...</td>\n      <td>{'user': 5443278, 'context': None, 'asset': No...</td>\n      <td>False</td>\n      <td>165.123.108.90</td>\n      <td>0.129155</td>\n      <td>b3402b477de2b8689ea1e3aa08974483</td>\n      <td>None</td>\n      <td>2019-05-13T16:19:45Z</td>\n      <td>https://canvas.upenn.edu/api/v1/users/5443278</td>\n      <td>python-requests/2.21.0</td>\n      <td>None</td>\n    </tr>\n    <tr>\n      <th>5</th>\n      <td>api_show</td>\n      <td>User-Generated</td>\n      <td>None</td>\n      <td>None</td>\n      <td>None</td>\n      <td>False</td>\n      <td>users</td>\n      <td>2019-05-13T16:17:47Z</td>\n      <td>1.700000e+14</td>\n      <td>get</td>\n      <td>...</td>\n      <td>{'user': 5443278, 'context': None, 'asset': No...</td>\n      <td>False</td>\n      <td>165.123.108.90</td>\n      <td>0.119106</td>\n      <td>9d08fef0a4e9a9aec4fda3c1cd7b110b</td>\n      <td>None</td>\n      <td>2019-05-13T16:17:47Z</td>\n      <td>https://canvas.upenn.edu/api/v1/users/5443278</td>\n      <td>python-requests/2.21.0</td>\n      <td>None</td>\n    </tr>\n    <tr>\n      <th>6</th>\n      <td>api_show</td>\n      <td>User-Generated</td>\n      <td>None</td>\n      <td>None</td>\n      <td>None</td>\n      <td>False</td>\n      <td>users</td>\n      <td>2019-05-13T16:17:06Z</td>\n      <td>1.700000e+14</td>\n      <td>get</td>\n      <td>...</td>\n      <td>{'user': 5443278, 'context': None, 'asset': No...</td>\n      <td>False</td>\n      <td>165.123.108.90</td>\n      <td>0.097454</td>\n      <td>beab170c46511dba9ed93366d342a52d</td>\n      <td>None</td>\n      <td>2019-05-13T16:17:06Z</td>\n      <td>https://canvas.upenn.edu/api/v1/users/5443278</td>\n      <td>python-requests/2.21.0</td>\n      <td>None</td>\n    </tr>\n    <tr>\n      <th>7</th>\n      <td>api_show</td>\n      <td>User-Generated</td>\n      <td>None</td>\n      <td>None</td>\n      <td>None</td>\n      <td>False</td>\n      <td>users</td>\n      <td>2019-05-13T16:16:58Z</td>\n      <td>1.700000e+14</td>\n      <td>get</td>\n      <td>...</td>\n      <td>{'user': 5443278, 'context': None, 'asset': No...</td>\n      <td>False</td>\n      <td>165.123.108.90</td>\n      <td>0.089420</td>\n      <td>9c90d8519be400f2ed12f251866b9c64</td>\n      <td>None</td>\n      <td>2019-05-13T16:16:58Z</td>\n      <td>https://canvas.upenn.edu/api/v1/users/5443278</td>\n      <td>python-requests/2.21.0</td>\n      <td>None</td>\n    </tr>\n    <tr>\n      <th>8</th>\n      <td>api_show</td>\n      <td>User-Generated</td>\n      <td>None</td>\n      <td>None</td>\n      <td>None</td>\n      <td>False</td>\n      <td>users</td>\n      <td>2019-05-13T16:15:41Z</td>\n      <td>1.700000e+14</td>\n      <td>get</td>\n      <td>...</td>\n      <td>{'user': 5443278, 'context': None, 'asset': No...</td>\n      <td>False</td>\n      <td>165.123.108.90</td>\n      <td>0.111146</td>\n      <td>dc988c40f29b52abbafb140655d2723e</td>\n      <td>None</td>\n      <td>2019-05-13T16:15:41Z</td>\n      <td>https://canvas.upenn.edu/api/v1/users/5443278</td>\n      <td>python-requests/2.21.0</td>\n      <td>None</td>\n    </tr>\n    <tr>\n      <th>9</th>\n      <td>api_show</td>\n      <td>User-Generated</td>\n      <td>None</td>\n      <td>None</td>\n      <td>None</td>\n      <td>False</td>\n      <td>users</td>\n      <td>2019-05-13T16:15:40Z</td>\n      <td>1.700000e+14</td>\n      <td>get</td>\n      <td>...</td>\n      <td>{'user': 5443278, 'context': None, 'asset': No...</td>\n      <td>False</td>\n      <td>165.123.108.90</td>\n      <td>0.067307</td>\n      <td>ed47cf756b1f6c759caa17da47a430fb</td>\n      <td>None</td>\n      <td>2019-05-13T16:15:40Z</td>\n      <td>https://canvas.upenn.edu/api/v1/users/5443278</td>\n      <td>python-requests/2.21.0</td>\n      <td>None</td>\n    </tr>\n    <tr>\n      <th>10</th>\n      <td>api_show</td>\n      <td>User-Generated</td>\n      <td>None</td>\n      <td>None</td>\n      <td>None</td>\n      <td>False</td>\n      <td>users</td>\n      <td>2019-05-13T16:15:40Z</td>\n      <td>1.700000e+14</td>\n      <td>get</td>\n      <td>...</td>\n      <td>{'user': 5443278, 'context': None, 'asset': No...</td>\n      <td>False</td>\n      <td>165.123.108.90</td>\n      <td>0.085913</td>\n      <td>1b60f5c1308c92d21de3b361cc115d62</td>\n      <td>None</td>\n      <td>2019-05-13T16:15:40Z</td>\n      <td>https://canvas.upenn.edu/api/v1/users/5443278</td>\n      <td>python-requests/2.21.0</td>\n      <td>None</td>\n    </tr>\n    <tr>\n      <th>11</th>\n      <td>api_show</td>\n      <td>User-Generated</td>\n      <td>None</td>\n      <td>None</td>\n      <td>None</td>\n      <td>False</td>\n      <td>users</td>\n      <td>2019-05-13T16:15:39Z</td>\n      <td>1.700000e+14</td>\n      <td>get</td>\n      <td>...</td>\n      <td>{'user': 5443278, 'context': None, 'asset': No...</td>\n      <td>False</td>\n      <td>165.123.108.90</td>\n      <td>0.118818</td>\n      <td>3dcf2805c912f0133ac20fbad8191622</td>\n      <td>None</td>\n      <td>2019-05-13T16:15:39Z</td>\n      <td>https://canvas.upenn.edu/api/v1/users/5443278</td>\n      <td>python-requests/2.21.0</td>\n      <td>None</td>\n    </tr>\n    <tr>\n      <th>12</th>\n      <td>api_show</td>\n      <td>User-Generated</td>\n      <td>None</td>\n      <td>None</td>\n      <td>None</td>\n      <td>False</td>\n      <td>users</td>\n      <td>2019-05-13T16:15:39Z</td>\n      <td>1.700000e+14</td>\n      <td>get</td>\n      <td>...</td>\n      <td>{'user': 5443278, 'context': None, 'asset': No...</td>\n      <td>False</td>\n      <td>165.123.108.90</td>\n      <td>0.094588</td>\n      <td>58921565c269fd68c58fc8dce41d1dc6</td>\n      <td>None</td>\n      <td>2019-05-13T16:15:39Z</td>\n      <td>https://canvas.upenn.edu/api/v1/users/5443278</td>\n      <td>python-requests/2.21.0</td>\n      <td>None</td>\n    </tr>\n    <tr>\n      <th>13</th>\n      <td>api_show</td>\n      <td>User-Generated</td>\n      <td>None</td>\n      <td>None</td>\n      <td>None</td>\n      <td>False</td>\n      <td>users</td>\n      <td>2019-05-13T16:15:38Z</td>\n      <td>1.700000e+14</td>\n      <td>get</td>\n      <td>...</td>\n      <td>{'user': 5443278, 'context': None, 'asset': No...</td>\n      <td>False</td>\n      <td>165.123.108.90</td>\n      <td>0.078694</td>\n      <td>ec4e080a7c78b6e8d80a443352d15456</td>\n      <td>None</td>\n      <td>2019-05-13T16:15:38Z</td>\n      <td>https://canvas.upenn.edu/api/v1/users/5443278</td>\n      <td>python-requests/2.21.0</td>\n      <td>None</td>\n    </tr>\n    <tr>\n      <th>14</th>\n      <td>api_show</td>\n      <td>User-Generated</td>\n      <td>None</td>\n      <td>None</td>\n      <td>None</td>\n      <td>False</td>\n      <td>users</td>\n      <td>2019-05-13T16:14:43Z</td>\n      <td>1.700000e+14</td>\n      <td>get</td>\n      <td>...</td>\n      <td>{'user': 5443278, 'context': None, 'asset': No...</td>\n      <td>False</td>\n      <td>165.123.108.90</td>\n      <td>0.080964</td>\n      <td>d0c7e22cf96e9fb2758bc800dc98b90f</td>\n      <td>None</td>\n      <td>2019-05-13T16:14:43Z</td>\n      <td>https://canvas.upenn.edu/api/v1/users/5443278</td>\n      <td>python-requests/2.21.0</td>\n      <td>None</td>\n    </tr>\n    <tr>\n      <th>15</th>\n      <td>api_show</td>\n      <td>User-Generated</td>\n      <td>None</td>\n      <td>None</td>\n      <td>None</td>\n      <td>False</td>\n      <td>users</td>\n      <td>2019-05-13T16:14:25Z</td>\n      <td>1.700000e+14</td>\n      <td>get</td>\n      <td>...</td>\n      <td>{'user': 5443278, 'context': None, 'asset': No...</td>\n      <td>False</td>\n      <td>165.123.108.90</td>\n      <td>0.270937</td>\n      <td>ab322aa787cbcbce8e849029c42c175c</td>\n      <td>None</td>\n      <td>2019-05-13T16:14:25Z</td>\n      <td>https://canvas.upenn.edu/api/v1/users/5443278</td>\n      <td>python-requests/2.21.0</td>\n      <td>None</td>\n    </tr>\n    <tr>\n      <th>16</th>\n      <td>api_show</td>\n      <td>User-Generated</td>\n      <td>None</td>\n      <td>None</td>\n      <td>None</td>\n      <td>False</td>\n      <td>users</td>\n      <td>2019-05-13T16:14:13Z</td>\n      <td>1.700000e+14</td>\n      <td>get</td>\n      <td>...</td>\n      <td>{'user': 5443278, 'context': None, 'asset': No...</td>\n      <td>False</td>\n      <td>165.123.108.90</td>\n      <td>0.160249</td>\n      <td>0e24a65d0007161e9cc223cc7f569097</td>\n      <td>None</td>\n      <td>2019-05-13T16:14:13Z</td>\n      <td>https://canvas.upenn.edu/api/v1/users/5443278</td>\n      <td>python-requests/2.21.0</td>\n      <td>None</td>\n    </tr>\n    <tr>\n      <th>17</th>\n      <td>api_show</td>\n      <td>User-Generated</td>\n      <td>None</td>\n      <td>None</td>\n      <td>None</td>\n      <td>False</td>\n      <td>users</td>\n      <td>2019-05-13T16:07:58Z</td>\n      <td>1.700000e+14</td>\n      <td>get</td>\n      <td>...</td>\n      <td>{'user': 5443278, 'context': None, 'asset': No...</td>\n      <td>False</td>\n      <td>165.123.108.90</td>\n      <td>0.121798</td>\n      <td>ce0274d3490130a6260304477f6007e7</td>\n      <td>None</td>\n      <td>2019-05-13T16:07:58Z</td>\n      <td>https://canvas.upenn.edu/api/v1/users/5443278</td>\n      <td>python-requests/2.21.0</td>\n      <td>None</td>\n    </tr>\n    <tr>\n      <th>18</th>\n      <td>api_show</td>\n      <td>User-Generated</td>\n      <td>None</td>\n      <td>None</td>\n      <td>None</td>\n      <td>False</td>\n      <td>users</td>\n      <td>2019-05-13T16:07:18Z</td>\n      <td>1.700000e+14</td>\n      <td>get</td>\n      <td>...</td>\n      <td>{'user': 5443278, 'context': None, 'asset': No...</td>\n      <td>False</td>\n      <td>165.123.108.90</td>\n      <td>0.074698</td>\n      <td>f56a3107749fed99cf93ae494d6066d6</td>\n      <td>None</td>\n      <td>2019-05-13T16:07:18Z</td>\n      <td>https://canvas.upenn.edu/api/v1/users/5443278</td>\n      <td>python-requests/2.21.0</td>\n      <td>None</td>\n    </tr>\n    <tr>\n      <th>19</th>\n      <td>api_show</td>\n      <td>User-Generated</td>\n      <td>None</td>\n      <td>None</td>\n      <td>None</td>\n      <td>False</td>\n      <td>users</td>\n      <td>2019-05-13T16:06:59Z</td>\n      <td>1.700000e+14</td>\n      <td>get</td>\n      <td>...</td>\n      <td>{'user': 5443278, 'context': None, 'asset': No...</td>\n      <td>False</td>\n      <td>165.123.108.90</td>\n      <td>0.118397</td>\n      <td>e729f92172b4367ae78b47987c9e105e</td>\n      <td>None</td>\n      <td>2019-05-13T16:06:59Z</td>\n      <td>https://canvas.upenn.edu/api/v1/users/5443278</td>\n      <td>python-requests/2.21.0</td>\n      <td>None</td>\n    </tr>\n    <tr>\n      <th>20</th>\n      <td>api_show</td>\n      <td>User-Generated</td>\n      <td>None</td>\n      <td>None</td>\n      <td>None</td>\n      <td>False</td>\n      <td>users</td>\n      <td>2019-05-13T15:54:51Z</td>\n      <td>1.700000e+14</td>\n      <td>get</td>\n      <td>...</td>\n      <td>{'user': 5443278, 'context': None, 'asset': No...</td>\n      <td>False</td>\n      <td>165.123.108.90</td>\n      <td>0.074724</td>\n      <td>291d1970346e37832a5a61e9721b873e</td>\n      <td>None</td>\n      <td>2019-05-13T15:54:51Z</td>\n      <td>https://canvas.upenn.edu/api/v1/users/5443278</td>\n      <td>python-requests/2.21.0</td>\n      <td>None</td>\n    </tr>\n    <tr>\n      <th>21</th>\n      <td>api_show</td>\n      <td>User-Generated</td>\n      <td>None</td>\n      <td>None</td>\n      <td>None</td>\n      <td>False</td>\n      <td>users</td>\n      <td>2019-05-13T15:54:36Z</td>\n      <td>1.700000e+14</td>\n      <td>get</td>\n      <td>...</td>\n      <td>{'user': 5443278, 'context': None, 'asset': No...</td>\n      <td>False</td>\n      <td>165.123.108.90</td>\n      <td>0.269373</td>\n      <td>e5a1c16be99c5210bf6aace116ad2a0c</td>\n      <td>None</td>\n      <td>2019-05-13T15:54:36Z</td>\n      <td>https://canvas.upenn.edu/api/v1/users/5443278</td>\n      <td>python-requests/2.21.0</td>\n      <td>None</td>\n    </tr>\n    <tr>\n      <th>22</th>\n      <td>api_show</td>\n      <td>User-Generated</td>\n      <td>None</td>\n      <td>None</td>\n      <td>None</td>\n      <td>False</td>\n      <td>users</td>\n      <td>2019-05-13T15:53:55Z</td>\n      <td>1.700000e+14</td>\n      <td>get</td>\n      <td>...</td>\n      <td>{'user': 5443278, 'context': None, 'asset': No...</td>\n      <td>False</td>\n      <td>165.123.108.90</td>\n      <td>0.384255</td>\n      <td>e2b5dc0e1a0bcb220ddf0a831a6afd04</td>\n      <td>None</td>\n      <td>2019-05-13T15:53:55Z</td>\n      <td>https://canvas.upenn.edu/api/v1/users/5443278</td>\n      <td>python-requests/2.21.0</td>\n      <td>None</td>\n    </tr>\n    <tr>\n      <th>23</th>\n      <td>api_show</td>\n      <td>None</td>\n      <td>None</td>\n      <td>None</td>\n      <td>None</td>\n      <td>False</td>\n      <td>users</td>\n      <td>2019-05-13T15:52:59Z</td>\n      <td>NaN</td>\n      <td>get</td>\n      <td>...</td>\n      <td>{'user': 5443278, 'context': None, 'asset': No...</td>\n      <td>False</td>\n      <td>165.123.108.90</td>\n      <td>0.117332</td>\n      <td>c6e6ae9a662e19bb68dc88b05f511c27</td>\n      <td>None</td>\n      <td>2019-05-13T15:52:59Z</td>\n      <td>https://canvas.upenn.edu/api/v1/users/5443278</td>\n      <td>Mozilla/5.0 (Macintosh; Intel Mac OS X 10_14_3...</td>\n      <td>None</td>\n    </tr>\n    <tr>\n      <th>24</th>\n      <td>api_show</td>\n      <td>User-Generated</td>\n      <td>None</td>\n      <td>None</td>\n      <td>None</td>\n      <td>False</td>\n      <td>users</td>\n      <td>2019-05-13T15:52:58Z</td>\n      <td>1.700000e+14</td>\n      <td>get</td>\n      <td>...</td>\n      <td>{'user': 5443278, 'context': None, 'asset': No...</td>\n      <td>False</td>\n      <td>165.123.108.90</td>\n      <td>0.108586</td>\n      <td>307c4627de81cce9ae5a6088773881ca</td>\n      <td>None</td>\n      <td>2019-05-13T15:52:58Z</td>\n      <td>https://canvas.upenn.edu/api/v1/users/5443278</td>\n      <td>python-requests/2.21.0</td>\n      <td>None</td>\n    </tr>\n  </tbody>\n</table>\n<p>25 rows × 22 columns</p>\n</div>",
          "text/plain": "      action        app_name asset_type asset_user_access_id context_type  \\\n0   api_show  User-Generated       None                 None         None   \n1   api_show  User-Generated       None                 None         None   \n2   api_show  User-Generated       None                 None         None   \n3   api_show  User-Generated       None                 None         None   \n4   api_show  User-Generated       None                 None         None   \n5   api_show  User-Generated       None                 None         None   \n6   api_show  User-Generated       None                 None         None   \n7   api_show  User-Generated       None                 None         None   \n8   api_show  User-Generated       None                 None         None   \n9   api_show  User-Generated       None                 None         None   \n10  api_show  User-Generated       None                 None         None   \n11  api_show  User-Generated       None                 None         None   \n12  api_show  User-Generated       None                 None         None   \n13  api_show  User-Generated       None                 None         None   \n14  api_show  User-Generated       None                 None         None   \n15  api_show  User-Generated       None                 None         None   \n16  api_show  User-Generated       None                 None         None   \n17  api_show  User-Generated       None                 None         None   \n18  api_show  User-Generated       None                 None         None   \n19  api_show  User-Generated       None                 None         None   \n20  api_show  User-Generated       None                 None         None   \n21  api_show  User-Generated       None                 None         None   \n22  api_show  User-Generated       None                 None         None   \n23  api_show            None       None                 None         None   \n24  api_show  User-Generated       None                 None         None   \n\n    contributed controller            created_at  developer_key_id  \\\n0         False      users  2019-05-13T16:21:37Z      1.700000e+14   \n1         False      users  2019-05-13T16:21:36Z      1.700000e+14   \n2         False      users  2019-05-13T16:21:03Z      1.700000e+14   \n3         False      users  2019-05-13T16:21:02Z      1.700000e+14   \n4         False      users  2019-05-13T16:19:45Z      1.700000e+14   \n5         False      users  2019-05-13T16:17:47Z      1.700000e+14   \n6         False      users  2019-05-13T16:17:06Z      1.700000e+14   \n7         False      users  2019-05-13T16:16:58Z      1.700000e+14   \n8         False      users  2019-05-13T16:15:41Z      1.700000e+14   \n9         False      users  2019-05-13T16:15:40Z      1.700000e+14   \n10        False      users  2019-05-13T16:15:40Z      1.700000e+14   \n11        False      users  2019-05-13T16:15:39Z      1.700000e+14   \n12        False      users  2019-05-13T16:15:39Z      1.700000e+14   \n13        False      users  2019-05-13T16:15:38Z      1.700000e+14   \n14        False      users  2019-05-13T16:14:43Z      1.700000e+14   \n15        False      users  2019-05-13T16:14:25Z      1.700000e+14   \n16        False      users  2019-05-13T16:14:13Z      1.700000e+14   \n17        False      users  2019-05-13T16:07:58Z      1.700000e+14   \n18        False      users  2019-05-13T16:07:18Z      1.700000e+14   \n19        False      users  2019-05-13T16:06:59Z      1.700000e+14   \n20        False      users  2019-05-13T15:54:51Z      1.700000e+14   \n21        False      users  2019-05-13T15:54:36Z      1.700000e+14   \n22        False      users  2019-05-13T15:53:55Z      1.700000e+14   \n23        False      users  2019-05-13T15:52:59Z               NaN   \n24        False      users  2019-05-13T15:52:58Z      1.700000e+14   \n\n   http_method  ...                                              links  \\\n0          get  ...  {'user': 5443278, 'context': None, 'asset': No...   \n1          get  ...  {'user': 5443278, 'context': None, 'asset': No...   \n2          get  ...  {'user': 5443278, 'context': None, 'asset': No...   \n3          get  ...  {'user': 5443278, 'context': None, 'asset': No...   \n4          get  ...  {'user': 5443278, 'context': None, 'asset': No...   \n5          get  ...  {'user': 5443278, 'context': None, 'asset': No...   \n6          get  ...  {'user': 5443278, 'context': None, 'asset': No...   \n7          get  ...  {'user': 5443278, 'context': None, 'asset': No...   \n8          get  ...  {'user': 5443278, 'context': None, 'asset': No...   \n9          get  ...  {'user': 5443278, 'context': None, 'asset': No...   \n10         get  ...  {'user': 5443278, 'context': None, 'asset': No...   \n11         get  ...  {'user': 5443278, 'context': None, 'asset': No...   \n12         get  ...  {'user': 5443278, 'context': None, 'asset': No...   \n13         get  ...  {'user': 5443278, 'context': None, 'asset': No...   \n14         get  ...  {'user': 5443278, 'context': None, 'asset': No...   \n15         get  ...  {'user': 5443278, 'context': None, 'asset': No...   \n16         get  ...  {'user': 5443278, 'context': None, 'asset': No...   \n17         get  ...  {'user': 5443278, 'context': None, 'asset': No...   \n18         get  ...  {'user': 5443278, 'context': None, 'asset': No...   \n19         get  ...  {'user': 5443278, 'context': None, 'asset': No...   \n20         get  ...  {'user': 5443278, 'context': None, 'asset': No...   \n21         get  ...  {'user': 5443278, 'context': None, 'asset': No...   \n22         get  ...  {'user': 5443278, 'context': None, 'asset': No...   \n23         get  ...  {'user': 5443278, 'context': None, 'asset': No...   \n24         get  ...  {'user': 5443278, 'context': None, 'asset': No...   \n\n   participated       remote_ip  render_time  \\\n0         False  165.123.108.90     0.068290   \n1         False  165.123.108.90     0.075246   \n2         False  165.123.108.90     0.085063   \n3         False  165.123.108.90     0.077631   \n4         False  165.123.108.90     0.129155   \n5         False  165.123.108.90     0.119106   \n6         False  165.123.108.90     0.097454   \n7         False  165.123.108.90     0.089420   \n8         False  165.123.108.90     0.111146   \n9         False  165.123.108.90     0.067307   \n10        False  165.123.108.90     0.085913   \n11        False  165.123.108.90     0.118818   \n12        False  165.123.108.90     0.094588   \n13        False  165.123.108.90     0.078694   \n14        False  165.123.108.90     0.080964   \n15        False  165.123.108.90     0.270937   \n16        False  165.123.108.90     0.160249   \n17        False  165.123.108.90     0.121798   \n18        False  165.123.108.90     0.074698   \n19        False  165.123.108.90     0.118397   \n20        False  165.123.108.90     0.074724   \n21        False  165.123.108.90     0.269373   \n22        False  165.123.108.90     0.384255   \n23        False  165.123.108.90     0.117332   \n24        False  165.123.108.90     0.108586   \n\n                          session_id  summarized            updated_at  \\\n0   0f2f4cdfeedd6f4cf5c8c724ae919bb8        None  2019-05-13T16:21:37Z   \n1   ef9f38814072919ae826860e2488acba        None  2019-05-13T16:21:36Z   \n2   7f910020f8a7a922f44fdc298aea0d70        None  2019-05-13T16:21:03Z   \n3   2683f46218c49fe717945e35ce1bb610        None  2019-05-13T16:21:02Z   \n4   b3402b477de2b8689ea1e3aa08974483        None  2019-05-13T16:19:45Z   \n5   9d08fef0a4e9a9aec4fda3c1cd7b110b        None  2019-05-13T16:17:47Z   \n6   beab170c46511dba9ed93366d342a52d        None  2019-05-13T16:17:06Z   \n7   9c90d8519be400f2ed12f251866b9c64        None  2019-05-13T16:16:58Z   \n8   dc988c40f29b52abbafb140655d2723e        None  2019-05-13T16:15:41Z   \n9   ed47cf756b1f6c759caa17da47a430fb        None  2019-05-13T16:15:40Z   \n10  1b60f5c1308c92d21de3b361cc115d62        None  2019-05-13T16:15:40Z   \n11  3dcf2805c912f0133ac20fbad8191622        None  2019-05-13T16:15:39Z   \n12  58921565c269fd68c58fc8dce41d1dc6        None  2019-05-13T16:15:39Z   \n13  ec4e080a7c78b6e8d80a443352d15456        None  2019-05-13T16:15:38Z   \n14  d0c7e22cf96e9fb2758bc800dc98b90f        None  2019-05-13T16:14:43Z   \n15  ab322aa787cbcbce8e849029c42c175c        None  2019-05-13T16:14:25Z   \n16  0e24a65d0007161e9cc223cc7f569097        None  2019-05-13T16:14:13Z   \n17  ce0274d3490130a6260304477f6007e7        None  2019-05-13T16:07:58Z   \n18  f56a3107749fed99cf93ae494d6066d6        None  2019-05-13T16:07:18Z   \n19  e729f92172b4367ae78b47987c9e105e        None  2019-05-13T16:06:59Z   \n20  291d1970346e37832a5a61e9721b873e        None  2019-05-13T15:54:51Z   \n21  e5a1c16be99c5210bf6aace116ad2a0c        None  2019-05-13T15:54:36Z   \n22  e2b5dc0e1a0bcb220ddf0a831a6afd04        None  2019-05-13T15:53:55Z   \n23  c6e6ae9a662e19bb68dc88b05f511c27        None  2019-05-13T15:52:59Z   \n24  307c4627de81cce9ae5a6088773881ca        None  2019-05-13T15:52:58Z   \n\n                                              url  \\\n0   https://canvas.upenn.edu/api/v1/users/5443278   \n1   https://canvas.upenn.edu/api/v1/users/5443278   \n2   https://canvas.upenn.edu/api/v1/users/5443278   \n3   https://canvas.upenn.edu/api/v1/users/5443278   \n4   https://canvas.upenn.edu/api/v1/users/5443278   \n5   https://canvas.upenn.edu/api/v1/users/5443278   \n6   https://canvas.upenn.edu/api/v1/users/5443278   \n7   https://canvas.upenn.edu/api/v1/users/5443278   \n8   https://canvas.upenn.edu/api/v1/users/5443278   \n9   https://canvas.upenn.edu/api/v1/users/5443278   \n10  https://canvas.upenn.edu/api/v1/users/5443278   \n11  https://canvas.upenn.edu/api/v1/users/5443278   \n12  https://canvas.upenn.edu/api/v1/users/5443278   \n13  https://canvas.upenn.edu/api/v1/users/5443278   \n14  https://canvas.upenn.edu/api/v1/users/5443278   \n15  https://canvas.upenn.edu/api/v1/users/5443278   \n16  https://canvas.upenn.edu/api/v1/users/5443278   \n17  https://canvas.upenn.edu/api/v1/users/5443278   \n18  https://canvas.upenn.edu/api/v1/users/5443278   \n19  https://canvas.upenn.edu/api/v1/users/5443278   \n20  https://canvas.upenn.edu/api/v1/users/5443278   \n21  https://canvas.upenn.edu/api/v1/users/5443278   \n22  https://canvas.upenn.edu/api/v1/users/5443278   \n23  https://canvas.upenn.edu/api/v1/users/5443278   \n24  https://canvas.upenn.edu/api/v1/users/5443278   \n\n                                           user_agent user_request  \n0                              python-requests/2.21.0         None  \n1                              python-requests/2.21.0         None  \n2                              python-requests/2.21.0         None  \n3                              python-requests/2.21.0         None  \n4                              python-requests/2.21.0         None  \n5                              python-requests/2.21.0         None  \n6                              python-requests/2.21.0         None  \n7                              python-requests/2.21.0         None  \n8                              python-requests/2.21.0         None  \n9                              python-requests/2.21.0         None  \n10                             python-requests/2.21.0         None  \n11                             python-requests/2.21.0         None  \n12                             python-requests/2.21.0         None  \n13                             python-requests/2.21.0         None  \n14                             python-requests/2.21.0         None  \n15                             python-requests/2.21.0         None  \n16                             python-requests/2.21.0         None  \n17                             python-requests/2.21.0         None  \n18                             python-requests/2.21.0         None  \n19                             python-requests/2.21.0         None  \n20                             python-requests/2.21.0         None  \n21                             python-requests/2.21.0         None  \n22                             python-requests/2.21.0         None  \n23  Mozilla/5.0 (Macintosh; Intel Mac OS X 10_14_3...         None  \n24                             python-requests/2.21.0         None  \n\n[25 rows x 22 columns]"
         },
         "metadata": {},
         "output_type": "display_data"
        }
       ]
      }
     },
     "63e9c136032e40009e64d27e2aa13956": {
      "model_module": "@jupyter-widgets/controls",
      "model_module_version": "1.4.0",
      "model_name": "DescriptionStyleModel",
      "state": {
       "description_width": ""
      }
     },
     "642b6eda8dbe4a59af1a4f7b398f363f": {
      "model_module": "@jupyter-widgets/controls",
      "model_module_version": "1.4.0",
      "model_name": "ButtonModel",
      "state": {
       "button_style": "info",
       "description": "Get PageViews",
       "layout": "IPY_MODEL_1062f48ebc4c4ef9adead3133617a54f",
       "style": "IPY_MODEL_461b6d9e9d52449ca3753f8f53f18506"
      }
     },
     "6446b549f7d84bfbbcf6a56ff9e49b11": {
      "model_module": "@jupyter-widgets/controls",
      "model_module_version": "1.4.0",
      "model_name": "GridBoxModel",
      "state": {
       "children": [
        "IPY_MODEL_f1e2fd1e1e484d0e9f57ad11fcda7c03",
        "IPY_MODEL_285fa37c27ae4e95a4fc8aa6c2f7d907",
        "IPY_MODEL_43f394459a5a415b96237ab4116fbb94",
        "IPY_MODEL_b972c3ad7b484ad583970824f2e32744"
       ],
       "layout": "IPY_MODEL_0b373bd58b444a33bd0fe9ce24debc9d"
      }
     },
     "64c59f319b8c476dba414b394456a3fd": {
      "model_module": "@jupyter-widgets/controls",
      "model_module_version": "1.4.0",
      "model_name": "DropdownModel",
      "state": {
       "_options_labels": [
        "ALL",
        "API Token Scopes",
        "Account Domain Lookups",
        "Account Notifications",
        "Account Reports",
        "Accounts",
        "Admins",
        "Analytics",
        "Announcement External Feeds",
        "Announcements",
        "Appointment Groups",
        "Assignment Extensions",
        "Assignment Groups",
        "Assignments",
        "Authentication Providers",
        "Authentications Log",
        "Blueprint Courses",
        "Bookmarks",
        "Brand Configs",
        "Calendar Events",
        "Collaborations",
        "CommMessages",
        "Communication Channels",
        "Conferences",
        "Content Exports",
        "Content Migrations",
        "Content Security Policy Settings",
        "Conversations",
        "Course Audit log",
        "Course Quiz Extensions",
        "Courses",
        "Custom Gradebook Columns",
        "Discussion Topics",
        "Enrollment Terms",
        "Enrollments",
        "Error Reports",
        "External Tools",
        "Favorites",
        "Feature Flags",
        "Files",
        "Grade Change Log",
        "Gradebook History",
        "Grading Periods",
        "Grading Standards",
        "Group Categories",
        "Groups",
        "JWTs",
        "Late Policy",
        "LiveAssessments",
        "Logins",
        "Moderated Grading",
        "Modules",
        "Notification Preferences",
        "OAuth 2",
        "Outcome Groups",
        "Outcome Imports",
        "Outcome Results",
        "Outcomes",
        "Pages",
        "Peer Reviews",
        "Plagiarism Detection Platform Assignments",
        "Planner",
        "Poll Sessions",
        "PollChoices",
        "PollSubmissions",
        "Polls",
        "Proficiency Ratings",
        "Progress",
        "Quiz Assignment Overrides",
        "Quiz Extensions",
        "Quiz IP Filters",
        "Quiz Question Groups",
        "Quiz Questions",
        "Quiz Reports",
        "Quiz Statistics",
        "Quiz Submission Events",
        "Quiz Submission Files",
        "Quiz Submission Questions",
        "Quiz Submission User List",
        "Quiz Submissions",
        "Quizzes",
        "Roles",
        "Rubrics",
        "SIS Import Errors",
        "SIS Imports",
        "SIS Integration",
        "Search",
        "Sections",
        "Services",
        "Shared Brand Configs",
        "Submission Comments",
        "Submissions",
        "Tabs",
        "User Observees",
        "Users",
        "ePub Exports"
       ],
       "description": "Resource",
       "index": 26,
       "layout": "IPY_MODEL_5f3ecdabea494fa4868d7a951fd3a726",
       "style": "IPY_MODEL_08eca384b19e40e59b04b0902da84580"
      }
     },
     "64e00bdc23d64a8a91fa815d9893803f": {
      "model_module": "@jupyter-widgets/base",
      "model_module_version": "1.1.0",
      "model_name": "LayoutModel",
      "state": {
       "grid_area": "footer",
       "width": "auto"
      }
     },
     "65506f0859a146a685aa346dd2b33ca6": {
      "model_module": "@jupyter-widgets/controls",
      "model_module_version": "1.4.0",
      "model_name": "DescriptionStyleModel",
      "state": {
       "description_width": ""
      }
     },
     "6573bc6d879045f6b4e592b43da35895": {
      "model_module": "@jupyter-widgets/controls",
      "model_module_version": "1.4.0",
      "model_name": "ButtonStyleModel",
      "state": {}
     },
     "659101e37714406da79cd338d156bfee": {
      "model_module": "@jupyter-widgets/controls",
      "model_module_version": "1.4.0",
      "model_name": "ButtonModel",
      "state": {
       "button_style": "warning",
       "description": "NOT Authorized",
       "disabled": true,
       "icon": "unlock",
       "layout": "IPY_MODEL_5f16db04f6ac426fa6be8bf047b8f965",
       "style": "IPY_MODEL_259161a81673436691fb8e82dc41f2cf"
      }
     },
     "659a539359a24fff8832934e2913b50f": {
      "model_module": "@jupyter-widgets/controls",
      "model_module_version": "1.4.0",
      "model_name": "ButtonModel",
      "state": {
       "button_style": "info",
       "description": "Get PageViews",
       "layout": "IPY_MODEL_f0882a65958b44389d97c9f1baefea23",
       "style": "IPY_MODEL_cebb14b2745544fea28b58193dda0840"
      }
     },
     "660d70ac1d264aa49775eacebeb38bb1": {
      "model_module": "@jupyter-widgets/controls",
      "model_module_version": "1.4.0",
      "model_name": "ButtonStyleModel",
      "state": {}
     },
     "66459ee2022e48a28ac37912659c2d8c": {
      "model_module": "@jupyter-widgets/base",
      "model_module_version": "1.1.0",
      "model_name": "LayoutModel",
      "state": {
       "align_items": "center",
       "grid_area": "header",
       "width": "90%"
      }
     },
     "66696a0506bf46b78cf826f6179999e6": {
      "model_module": "@jupyter-widgets/base",
      "model_module_version": "1.1.0",
      "model_name": "LayoutModel",
      "state": {
       "align_items": "center",
       "grid_area": "right",
       "width": "90%"
      }
     },
     "668f95f1b80c40788807d99fc3655677": {
      "model_module": "@jupyter-widgets/controls",
      "model_module_version": "1.4.0",
      "model_name": "DescriptionStyleModel",
      "state": {
       "description_width": ""
      }
     },
     "6722e0aecaa04a1fa7592c3792311cb6": {
      "model_module": "@jupyter-widgets/base",
      "model_module_version": "1.1.0",
      "model_name": "LayoutModel",
      "state": {}
     },
     "677f7b61af364067ad943d67128c9457": {
      "model_module": "@jupyter-widgets/controls",
      "model_module_version": "1.4.0",
      "model_name": "ButtonStyleModel",
      "state": {}
     },
     "67bbc915f2c04308ae22ad33d236029d": {
      "model_module": "@jupyter-widgets/output",
      "model_module_version": "1.0.0",
      "model_name": "OutputModel",
      "state": {
       "layout": "IPY_MODEL_b9faae91d408483a8e6259c3dc10a7fa"
      }
     },
     "68077662e383465bbb5eee6d0950e8b1": {
      "model_module": "@jupyter-widgets/output",
      "model_module_version": "1.0.0",
      "model_name": "OutputModel",
      "state": {
       "layout": "IPY_MODEL_c24a5131d2bf4abe8f586feff5641d9c"
      }
     },
     "6820136df16845309f00a3210891846f": {
      "model_module": "@jupyter-widgets/base",
      "model_module_version": "1.1.0",
      "model_name": "LayoutModel",
      "state": {
       "align_items": "center",
       "grid_area": "header",
       "width": "90%"
      }
     },
     "685f83004b684294bd2d372b2124ed99": {
      "model_module": "@jupyter-widgets/controls",
      "model_module_version": "1.4.0",
      "model_name": "DropdownModel",
      "state": {
       "_options_labels": [
        "ALL",
        "API Token Scopes",
        "Account Domain Lookups",
        "Account Notifications",
        "Account Reports",
        "Accounts",
        "Admins",
        "Analytics",
        "Announcement External Feeds",
        "Announcements",
        "Appointment Groups",
        "Assignment Extensions",
        "Assignment Groups",
        "Assignments",
        "Authentication Providers",
        "Authentications Log",
        "Blueprint Courses",
        "Bookmarks",
        "Brand Configs",
        "Calendar Events",
        "Collaborations",
        "CommMessages",
        "Communication Channels",
        "Conferences",
        "Content Exports",
        "Content Migrations",
        "Content Security Policy Settings",
        "Conversations",
        "Course Audit log",
        "Course Quiz Extensions",
        "Courses",
        "Custom Gradebook Columns",
        "Discussion Topics",
        "Enrollment Terms",
        "Enrollments",
        "Error Reports",
        "External Tools",
        "Favorites",
        "Feature Flags",
        "Files",
        "Grade Change Log",
        "Gradebook History",
        "Grading Periods",
        "Grading Standards",
        "Group Categories",
        "Groups",
        "JWTs",
        "Late Policy",
        "LiveAssessments",
        "Logins",
        "Moderated Grading",
        "Modules",
        "Notification Preferences",
        "OAuth 2",
        "Outcome Groups",
        "Outcome Imports",
        "Outcome Results",
        "Outcomes",
        "Pages",
        "Peer Reviews",
        "Plagiarism Detection Platform Assignments",
        "Planner",
        "Poll Sessions",
        "PollChoices",
        "PollSubmissions",
        "Polls",
        "Proficiency Ratings",
        "Progress",
        "Quiz Assignment Overrides",
        "Quiz Extensions",
        "Quiz IP Filters",
        "Quiz Question Groups",
        "Quiz Questions",
        "Quiz Reports",
        "Quiz Statistics",
        "Quiz Submission Events",
        "Quiz Submission Files",
        "Quiz Submission Questions",
        "Quiz Submission User List",
        "Quiz Submissions",
        "Quizzes",
        "Roles",
        "Rubrics",
        "SIS Import Errors",
        "SIS Imports",
        "SIS Integration",
        "Search",
        "Sections",
        "Services",
        "Shared Brand Configs",
        "Submission Comments",
        "Submissions",
        "Tabs",
        "User Observees",
        "Users",
        "ePub Exports"
       ],
       "description": "Resource",
       "index": 25,
       "layout": "IPY_MODEL_d68d5c1de5ff4a4b952dd0844b525efe",
       "style": "IPY_MODEL_53e63cae08654553bd45b88ea90eaa80"
      }
     },
     "695f20f6ebd1437fa0689ea44fb7776b": {
      "model_module": "@jupyter-widgets/base",
      "model_module_version": "1.1.0",
      "model_name": "LayoutModel",
      "state": {
       "grid_template_areas": "\n            \" . header header .\"\n            \"left left right right\"\n            \" . footer footer . \"\n            ",
       "grid_template_columns": "25% 25% 25% 25%",
       "grid_template_rows": "auto auto auto",
       "margin": "2% 0% 2% 10%",
       "width": "80%"
      }
     },
     "69997a518a744456b7d4ca904bfea004": {
      "model_module": "@jupyter-widgets/controls",
      "model_module_version": "1.4.0",
      "model_name": "DescriptionStyleModel",
      "state": {
       "description_width": ""
      }
     },
     "69d115d571f146bea767786fc063793b": {
      "model_module": "@jupyter-widgets/base",
      "model_module_version": "1.1.0",
      "model_name": "LayoutModel",
      "state": {
       "grid_template_areas": "\n            \" . header header .\"\n            \"left left right right\"\n            \" . footer footer . \"\n            ",
       "grid_template_columns": "25% 25% 25% 25%",
       "grid_template_rows": "auto auto auto",
       "margin": "2% 0% 2% 10%",
       "width": "80%"
      }
     },
     "6a620decd2024a3daa54b2ddb3fbae00": {
      "model_module": "@jupyter-widgets/controls",
      "model_module_version": "1.4.0",
      "model_name": "GridBoxModel",
      "state": {
       "children": [
        "IPY_MODEL_17a803b54b3c40bb94433faed1429d1c",
        "IPY_MODEL_414894668fa6434dba22f35224210b2f",
        "IPY_MODEL_8cbfd203194a47d09beddb6cdb5a7c4c",
        "IPY_MODEL_0a685e179bc143caa3d30437d81033f4"
       ],
       "layout": "IPY_MODEL_e17d61a47f554e26b6e410bfd5acfb6f"
      }
     },
     "6c00001044ca4d86b4a625a752eede78": {
      "model_module": "@jupyter-widgets/controls",
      "model_module_version": "1.4.0",
      "model_name": "DescriptionStyleModel",
      "state": {
       "description_width": ""
      }
     },
     "6c0a5c3f15a54692917283513fd1b492": {
      "model_module": "@jupyter-widgets/base",
      "model_module_version": "1.1.0",
      "model_name": "LayoutModel",
      "state": {
       "align_items": "center",
       "grid_area": "left",
       "width": "90%"
      }
     },
     "6c81ca31013f43eeaea2693824e0bf43": {
      "model_module": "@jupyter-widgets/controls",
      "model_module_version": "1.4.0",
      "model_name": "DatePickerModel",
      "state": {
       "description": "start date",
       "disabled": false,
       "layout": "IPY_MODEL_600cb88cb962472b9f1759d7167e0c2b",
       "style": "IPY_MODEL_b7cb73e5ff074d4386a276b485f3d0a2"
      }
     },
     "6c887b49a4c24251ade546db7936a2df": {
      "model_module": "@jupyter-widgets/controls",
      "model_module_version": "1.4.0",
      "model_name": "DescriptionStyleModel",
      "state": {
       "description_width": ""
      }
     },
     "6d0b4f88bae24b018d620fa9e1e72ca6": {
      "model_module": "@jupyter-widgets/controls",
      "model_module_version": "1.4.0",
      "model_name": "TextModel",
      "state": {
       "layout": "IPY_MODEL_50fcd24b0256472780dd0aae5ce08a75",
       "placeholder": "API TOKEN",
       "style": "IPY_MODEL_eef06110af0e44a1aae7d502e1cbf3e5",
       "value": "25~SEUFg2kAnCcarRFHAKTH1H7NIEFu7cEGeKrf2gNGkjAZTzElglrqGiVOlq5BfdKK"
      }
     },
     "6d32dac02eaf41d0bf738693526893fa": {
      "model_module": "@jupyter-widgets/base",
      "model_module_version": "1.1.0",
      "model_name": "LayoutModel",
      "state": {
       "align_items": "center",
       "grid_area": "right",
       "width": "90%"
      }
     },
     "6d5fefd009d549f3892c187724f65ca5": {
      "model_module": "@jupyter-widgets/base",
      "model_module_version": "1.1.0",
      "model_name": "LayoutModel",
      "state": {
       "align_items": "center",
       "grid_area": "header",
       "width": "90%"
      }
     },
     "6d83204cf82d4c4986c1aeb265536418": {
      "model_module": "@jupyter-widgets/controls",
      "model_module_version": "1.4.0",
      "model_name": "ButtonStyleModel",
      "state": {}
     },
     "6ddecbde97f34fb5b6d4adc4a93c3e2a": {
      "model_module": "@jupyter-widgets/controls",
      "model_module_version": "1.4.0",
      "model_name": "DatePickerModel",
      "state": {
       "description": "start date",
       "disabled": false,
       "layout": "IPY_MODEL_9447fcab9dfd4e60ae2eca7aed6dfdcc",
       "style": "IPY_MODEL_02ad2376b70543a8a9e107cd0b42e2cc"
      }
     },
     "6de854eaa8dc44d099997c7fa1482458": {
      "model_module": "@jupyter-widgets/controls",
      "model_module_version": "1.4.0",
      "model_name": "ButtonModel",
      "state": {
       "button_style": "info",
       "description": "Get PageViews",
       "layout": "IPY_MODEL_079d81ee68694a839cbc63e3a66ed533",
       "style": "IPY_MODEL_37058d63ceb04279967c781d088428ca"
      }
     },
     "6e3ff24d036b441abc136c9a54c55c6e": {
      "model_module": "@jupyter-widgets/controls",
      "model_module_version": "1.4.0",
      "model_name": "SelectModel",
      "state": {
       "_options_labels": [
        "Production",
        "Test",
        "Beta"
       ],
       "description": "Environment:",
       "index": 0,
       "layout": "IPY_MODEL_2470be3ba2d74d53967e981dc948997a",
       "rows": 3,
       "style": "IPY_MODEL_17eba4638dbe4f9884617c5d1fb01c4d"
      }
     },
     "6fed914a66d54cfc9da33200fff6f1a3": {
      "model_module": "@jupyter-widgets/controls",
      "model_module_version": "1.4.0",
      "model_name": "DescriptionStyleModel",
      "state": {
       "description_width": ""
      }
     },
     "705cade1b76f48908addf0b99a3953db": {
      "model_module": "@jupyter-widgets/controls",
      "model_module_version": "1.4.0",
      "model_name": "DescriptionStyleModel",
      "state": {
       "description_width": ""
      }
     },
     "706d43ee25ad4130a10a1ce9a7fe9333": {
      "model_module": "@jupyter-widgets/output",
      "model_module_version": "1.0.0",
      "model_name": "OutputModel",
      "state": {
       "layout": "IPY_MODEL_d5d3848e5a404dcfaf9b29d1830c49e2"
      }
     },
     "7088c869e2b04f71b9df290b21ad97fd": {
      "model_module": "@jupyter-widgets/base",
      "model_module_version": "1.1.0",
      "model_name": "LayoutModel",
      "state": {}
     },
     "70922b286c0444a79beb33c21aec1d22": {
      "model_module": "@jupyter-widgets/base",
      "model_module_version": "1.1.0",
      "model_name": "LayoutModel",
      "state": {
       "align_items": "center",
       "grid_area": "right",
       "width": "90%"
      }
     },
     "70f8561a3e5b455e8da2d2be5e7bb3bb": {
      "model_module": "@jupyter-widgets/controls",
      "model_module_version": "1.4.0",
      "model_name": "DescriptionStyleModel",
      "state": {
       "description_width": ""
      }
     },
     "713e1c8e12804f9ca10fe71ff23735e4": {
      "model_module": "@jupyter-widgets/controls",
      "model_module_version": "1.4.0",
      "model_name": "ButtonModel",
      "state": {
       "button_style": "info",
       "description": "Get PageViews",
       "layout": "IPY_MODEL_7290b36ce328447bb670d34476ccb686",
       "style": "IPY_MODEL_8c75d31bf54d40abb8b6fe2b893ceb37"
      }
     },
     "715d66e7594f4cc69226fbb7ac89b7e0": {
      "model_module": "@jupyter-widgets/base",
      "model_module_version": "1.1.0",
      "model_name": "LayoutModel",
      "state": {
       "align_items": "center",
       "grid_area": "header",
       "width": "90%"
      }
     },
     "71c62d98972343969a2846ce6e2683df": {
      "model_module": "@jupyter-widgets/controls",
      "model_module_version": "1.4.0",
      "model_name": "DescriptionStyleModel",
      "state": {
       "description_width": ""
      }
     },
     "71df872dc69e4547b7ac83b61c3cfaab": {
      "model_module": "@jupyter-widgets/base",
      "model_module_version": "1.1.0",
      "model_name": "LayoutModel",
      "state": {
       "align_items": "center",
       "grid_area": "header",
       "width": "90%"
      }
     },
     "7290b36ce328447bb670d34476ccb686": {
      "model_module": "@jupyter-widgets/base",
      "model_module_version": "1.1.0",
      "model_name": "LayoutModel",
      "state": {
       "grid_area": "footer",
       "width": "auto"
      }
     },
     "72a108a4cdab4babbdd89a78b8d5000a": {
      "model_module": "@jupyter-widgets/controls",
      "model_module_version": "1.4.0",
      "model_name": "DatePickerModel",
      "state": {
       "description": "end date",
       "disabled": false,
       "layout": "IPY_MODEL_53a28d9f86074e54b4076d63ce83858d",
       "style": "IPY_MODEL_3534c493b7264892a4f904669b40c9cc"
      }
     },
     "73042360c8a64d828ac3a18af4a6d7b9": {
      "model_module": "@jupyter-widgets/base",
      "model_module_version": "1.1.0",
      "model_name": "LayoutModel",
      "state": {
       "align_items": "center",
       "grid_area": "left",
       "width": "90%"
      }
     },
     "73147825f32e4f0b8644c6a2e7756eed": {
      "model_module": "@jupyter-widgets/base",
      "model_module_version": "1.1.0",
      "model_name": "LayoutModel",
      "state": {}
     },
     "73281d696ce4475398d66f164ec813f5": {
      "model_module": "@jupyter-widgets/controls",
      "model_module_version": "1.4.0",
      "model_name": "ButtonStyleModel",
      "state": {}
     },
     "737e675b90c145acb147cc168a245cf0": {
      "model_module": "@jupyter-widgets/base",
      "model_module_version": "1.1.0",
      "model_name": "LayoutModel",
      "state": {
       "align_items": "center",
       "grid_area": "left",
       "width": "90%"
      }
     },
     "73b12b8c11b749d486c643487bb571b1": {
      "model_module": "@jupyter-widgets/base",
      "model_module_version": "1.1.0",
      "model_name": "LayoutModel",
      "state": {
       "grid_area": "sidebar",
       "width": "auto"
      }
     },
     "73f7af41d1e5424092e0374d78e8a356": {
      "model_module": "@jupyter-widgets/base",
      "model_module_version": "1.1.0",
      "model_name": "LayoutModel",
      "state": {
       "align_items": "center",
       "grid_area": "header",
       "width": "90%"
      }
     },
     "73fff3b639554e82a9ad61e3c2680f7d": {
      "model_module": "@jupyter-widgets/base",
      "model_module_version": "1.1.0",
      "model_name": "LayoutModel",
      "state": {
       "align_items": "center",
       "grid_area": "right",
       "width": "90%"
      }
     },
     "74707c37e84e4c219ef2d1bd154391f5": {
      "model_module": "@jupyter-widgets/output",
      "model_module_version": "1.0.0",
      "model_name": "OutputModel",
      "state": {
       "layout": "IPY_MODEL_e5327d0d5a9a4e9f8e2fc8c86a6a9308"
      }
     },
     "74fcfe6408f844d2bc1ff12cef874df4": {
      "model_module": "@jupyter-widgets/base",
      "model_module_version": "1.1.0",
      "model_name": "LayoutModel",
      "state": {
       "align_items": "center",
       "grid_area": "left",
       "width": "90%"
      }
     },
     "750bcb88b3604c3bb844829e61264d23": {
      "model_module": "@jupyter-widgets/controls",
      "model_module_version": "1.4.0",
      "model_name": "DescriptionStyleModel",
      "state": {
       "description_width": ""
      }
     },
     "75863744273f4827b41a1c254cf32f1d": {
      "model_module": "@jupyter-widgets/base",
      "model_module_version": "1.1.0",
      "model_name": "LayoutModel",
      "state": {
       "align_items": "center",
       "grid_area": "header",
       "width": "90%"
      }
     },
     "766f5008a4004c6e9efe49e001fbe4cf": {
      "model_module": "@jupyter-widgets/base",
      "model_module_version": "1.1.0",
      "model_name": "LayoutModel",
      "state": {
       "align_items": "center",
       "grid_area": "left",
       "width": "90%"
      }
     },
     "76d72ebd5fe74f08ae51e033b46b3965": {
      "model_module": "@jupyter-widgets/controls",
      "model_module_version": "1.4.0",
      "model_name": "DatePickerModel",
      "state": {
       "description": "end date",
       "disabled": false,
       "layout": "IPY_MODEL_869b1e7b7fdb4da7bf36d77eb3262bc6",
       "style": "IPY_MODEL_25408b285ae34e348a006db884600dfe"
      }
     },
     "76e08afff96e440c89e934db76b30795": {
      "model_module": "@jupyter-widgets/controls",
      "model_module_version": "1.4.0",
      "model_name": "ButtonStyleModel",
      "state": {}
     },
     "77db4119f9bf4aba9f4f0e74606bbb0d": {
      "model_module": "@jupyter-widgets/controls",
      "model_module_version": "1.4.0",
      "model_name": "DescriptionStyleModel",
      "state": {
       "description_width": ""
      }
     },
     "77e9d8ba11a14dd4bf8ea3384f297778": {
      "model_module": "@jupyter-widgets/controls",
      "model_module_version": "1.4.0",
      "model_name": "ButtonModel",
      "state": {
       "button_style": "info",
       "description": "Submit",
       "layout": "IPY_MODEL_41db9ebffd5943c88475161e8b8d6ef6",
       "style": "IPY_MODEL_660d70ac1d264aa49775eacebeb38bb1"
      }
     },
     "78bb5ea61e42450bb0e6152cc794843b": {
      "model_module": "@jupyter-widgets/base",
      "model_module_version": "1.1.0",
      "model_name": "LayoutModel",
      "state": {
       "align_items": "center",
       "grid_area": "left",
       "width": "90%"
      }
     },
     "78f1efdd8cd84edebda63238f4ddd903": {
      "model_module": "@jupyter-widgets/base",
      "model_module_version": "1.1.0",
      "model_name": "LayoutModel",
      "state": {
       "padding": "5px 20px 20px 20px",
       "width": "40%"
      }
     },
     "7939047f43db41b697bcfb5bbd489319": {
      "model_module": "@jupyter-widgets/base",
      "model_module_version": "1.1.0",
      "model_name": "LayoutModel",
      "state": {}
     },
     "795348d40e5a44ecaa04c38fb368863d": {
      "model_module": "@jupyter-widgets/output",
      "model_module_version": "1.0.0",
      "model_name": "OutputModel",
      "state": {
       "layout": "IPY_MODEL_48a2863ba9da4c89bca3da6f27c9bd80"
      }
     },
     "79962af7de3d46ec82d8de736c62eb26": {
      "model_module": "@jupyter-widgets/base",
      "model_module_version": "1.1.0",
      "model_name": "LayoutModel",
      "state": {
       "grid_area": "footer",
       "width": "auto"
      }
     },
     "79c932404c064a828efa61639aaa53a4": {
      "model_module": "@jupyter-widgets/base",
      "model_module_version": "1.1.0",
      "model_name": "LayoutModel",
      "state": {
       "grid_area": "footer",
       "width": "auto"
      }
     },
     "79e46b088cfe4c7fb1ccb9e841d6344a": {
      "model_module": "@jupyter-widgets/base",
      "model_module_version": "1.1.0",
      "model_name": "LayoutModel",
      "state": {
       "align_items": "center",
       "grid_area": "header",
       "width": "90%"
      }
     },
     "7a0f411c9021436d9e90d47139a3a353": {
      "model_module": "@jupyter-widgets/controls",
      "model_module_version": "1.4.0",
      "model_name": "ButtonStyleModel",
      "state": {}
     },
     "7a8ac4322844409bb506eaf6540ca0a0": {
      "model_module": "@jupyter-widgets/base",
      "model_module_version": "1.1.0",
      "model_name": "LayoutModel",
      "state": {
       "align_items": "center",
       "grid_area": "right",
       "width": "90%"
      }
     },
     "7b0ad9a5e64f4e4f904261eea1742d89": {
      "model_module": "@jupyter-widgets/controls",
      "model_module_version": "1.4.0",
      "model_name": "DatePickerModel",
      "state": {
       "description": "end date",
       "disabled": false,
       "layout": "IPY_MODEL_00911dbb6b5c4779b6c69c7420db40d6",
       "style": "IPY_MODEL_96e40bb5c5844c84b6a0034a17d22dba"
      }
     },
     "7b28a5de5e004105bb595a1f3aca7bda": {
      "model_module": "@jupyter-widgets/controls",
      "model_module_version": "1.4.0",
      "model_name": "DatePickerModel",
      "state": {
       "description": "start date",
       "disabled": false,
       "layout": "IPY_MODEL_737e675b90c145acb147cc168a245cf0",
       "style": "IPY_MODEL_bdcb0151d2bc4f879c243c9be80572c7"
      }
     },
     "7bb5bb2748844afaa854702db97bed2d": {
      "model_module": "@jupyter-widgets/controls",
      "model_module_version": "1.4.0",
      "model_name": "ButtonModel",
      "state": {
       "button_style": "info",
       "description": "Get PageViews",
       "layout": "IPY_MODEL_a979d32e627540e691db55ac350c8eff",
       "style": "IPY_MODEL_c49428ab0fdd4e97914d7934e207d8c2"
      }
     },
     "7c0ada65308847eeb8a5d97f7b8f176f": {
      "model_module": "@jupyter-widgets/controls",
      "model_module_version": "1.4.0",
      "model_name": "DatePickerModel",
      "state": {
       "description": "end date",
       "disabled": false,
       "layout": "IPY_MODEL_c93e17e3b2f24a589d19a140cdc85a2b",
       "style": "IPY_MODEL_b1911c737c27439bafce0c00311d138c"
      }
     },
     "7c432e5db3e24cdab28be5fafa9b667a": {
      "model_module": "@jupyter-widgets/output",
      "model_module_version": "1.0.0",
      "model_name": "OutputModel",
      "state": {
       "layout": "IPY_MODEL_f6a8bad6279143d3bd2b86de0a716db2",
       "outputs": [
        {
         "data": {
          "text/html": "<div>\n<style scoped>\n    .dataframe tbody tr th:only-of-type {\n        vertical-align: middle;\n    }\n\n    .dataframe tbody tr th {\n        vertical-align: top;\n    }\n\n    .dataframe thead th {\n        text-align: right;\n    }\n</style>\n<table border=\"1\" class=\"dataframe\">\n  <thead>\n    <tr style=\"text-align: right;\">\n      <th></th>\n      <th>action</th>\n      <th>app_name</th>\n      <th>asset_type</th>\n      <th>asset_user_access_id</th>\n      <th>context_type</th>\n      <th>contributed</th>\n      <th>controller</th>\n      <th>created_at</th>\n      <th>developer_key_id</th>\n      <th>http_method</th>\n      <th>...</th>\n      <th>links</th>\n      <th>participated</th>\n      <th>remote_ip</th>\n      <th>render_time</th>\n      <th>session_id</th>\n      <th>summarized</th>\n      <th>updated_at</th>\n      <th>url</th>\n      <th>user_agent</th>\n      <th>user_request</th>\n    </tr>\n  </thead>\n  <tbody>\n    <tr>\n      <th>0</th>\n      <td>api_show</td>\n      <td>User-Generated</td>\n      <td>None</td>\n      <td>None</td>\n      <td>None</td>\n      <td>False</td>\n      <td>users</td>\n      <td>2019-05-13T16:17:47Z</td>\n      <td>1.700000e+14</td>\n      <td>get</td>\n      <td>...</td>\n      <td>{'user': 5443278, 'context': None, 'asset': No...</td>\n      <td>False</td>\n      <td>165.123.108.90</td>\n      <td>0.119106</td>\n      <td>9d08fef0a4e9a9aec4fda3c1cd7b110b</td>\n      <td>None</td>\n      <td>2019-05-13T16:17:47Z</td>\n      <td>https://canvas.upenn.edu/api/v1/users/5443278</td>\n      <td>python-requests/2.21.0</td>\n      <td>None</td>\n    </tr>\n    <tr>\n      <th>1</th>\n      <td>api_show</td>\n      <td>User-Generated</td>\n      <td>None</td>\n      <td>None</td>\n      <td>None</td>\n      <td>False</td>\n      <td>users</td>\n      <td>2019-05-13T16:17:06Z</td>\n      <td>1.700000e+14</td>\n      <td>get</td>\n      <td>...</td>\n      <td>{'user': 5443278, 'context': None, 'asset': No...</td>\n      <td>False</td>\n      <td>165.123.108.90</td>\n      <td>0.097454</td>\n      <td>beab170c46511dba9ed93366d342a52d</td>\n      <td>None</td>\n      <td>2019-05-13T16:17:06Z</td>\n      <td>https://canvas.upenn.edu/api/v1/users/5443278</td>\n      <td>python-requests/2.21.0</td>\n      <td>None</td>\n    </tr>\n    <tr>\n      <th>2</th>\n      <td>api_show</td>\n      <td>User-Generated</td>\n      <td>None</td>\n      <td>None</td>\n      <td>None</td>\n      <td>False</td>\n      <td>users</td>\n      <td>2019-05-13T16:16:58Z</td>\n      <td>1.700000e+14</td>\n      <td>get</td>\n      <td>...</td>\n      <td>{'user': 5443278, 'context': None, 'asset': No...</td>\n      <td>False</td>\n      <td>165.123.108.90</td>\n      <td>0.089420</td>\n      <td>9c90d8519be400f2ed12f251866b9c64</td>\n      <td>None</td>\n      <td>2019-05-13T16:16:58Z</td>\n      <td>https://canvas.upenn.edu/api/v1/users/5443278</td>\n      <td>python-requests/2.21.0</td>\n      <td>None</td>\n    </tr>\n    <tr>\n      <th>3</th>\n      <td>api_show</td>\n      <td>User-Generated</td>\n      <td>None</td>\n      <td>None</td>\n      <td>None</td>\n      <td>False</td>\n      <td>users</td>\n      <td>2019-05-13T16:15:41Z</td>\n      <td>1.700000e+14</td>\n      <td>get</td>\n      <td>...</td>\n      <td>{'user': 5443278, 'context': None, 'asset': No...</td>\n      <td>False</td>\n      <td>165.123.108.90</td>\n      <td>0.111146</td>\n      <td>dc988c40f29b52abbafb140655d2723e</td>\n      <td>None</td>\n      <td>2019-05-13T16:15:41Z</td>\n      <td>https://canvas.upenn.edu/api/v1/users/5443278</td>\n      <td>python-requests/2.21.0</td>\n      <td>None</td>\n    </tr>\n    <tr>\n      <th>4</th>\n      <td>api_show</td>\n      <td>User-Generated</td>\n      <td>None</td>\n      <td>None</td>\n      <td>None</td>\n      <td>False</td>\n      <td>users</td>\n      <td>2019-05-13T16:15:40Z</td>\n      <td>1.700000e+14</td>\n      <td>get</td>\n      <td>...</td>\n      <td>{'user': 5443278, 'context': None, 'asset': No...</td>\n      <td>False</td>\n      <td>165.123.108.90</td>\n      <td>0.067307</td>\n      <td>ed47cf756b1f6c759caa17da47a430fb</td>\n      <td>None</td>\n      <td>2019-05-13T16:15:40Z</td>\n      <td>https://canvas.upenn.edu/api/v1/users/5443278</td>\n      <td>python-requests/2.21.0</td>\n      <td>None</td>\n    </tr>\n    <tr>\n      <th>5</th>\n      <td>api_show</td>\n      <td>User-Generated</td>\n      <td>None</td>\n      <td>None</td>\n      <td>None</td>\n      <td>False</td>\n      <td>users</td>\n      <td>2019-05-13T16:15:40Z</td>\n      <td>1.700000e+14</td>\n      <td>get</td>\n      <td>...</td>\n      <td>{'user': 5443278, 'context': None, 'asset': No...</td>\n      <td>False</td>\n      <td>165.123.108.90</td>\n      <td>0.085913</td>\n      <td>1b60f5c1308c92d21de3b361cc115d62</td>\n      <td>None</td>\n      <td>2019-05-13T16:15:40Z</td>\n      <td>https://canvas.upenn.edu/api/v1/users/5443278</td>\n      <td>python-requests/2.21.0</td>\n      <td>None</td>\n    </tr>\n    <tr>\n      <th>6</th>\n      <td>api_show</td>\n      <td>User-Generated</td>\n      <td>None</td>\n      <td>None</td>\n      <td>None</td>\n      <td>False</td>\n      <td>users</td>\n      <td>2019-05-13T16:15:39Z</td>\n      <td>1.700000e+14</td>\n      <td>get</td>\n      <td>...</td>\n      <td>{'user': 5443278, 'context': None, 'asset': No...</td>\n      <td>False</td>\n      <td>165.123.108.90</td>\n      <td>0.118818</td>\n      <td>3dcf2805c912f0133ac20fbad8191622</td>\n      <td>None</td>\n      <td>2019-05-13T16:15:39Z</td>\n      <td>https://canvas.upenn.edu/api/v1/users/5443278</td>\n      <td>python-requests/2.21.0</td>\n      <td>None</td>\n    </tr>\n    <tr>\n      <th>7</th>\n      <td>api_show</td>\n      <td>User-Generated</td>\n      <td>None</td>\n      <td>None</td>\n      <td>None</td>\n      <td>False</td>\n      <td>users</td>\n      <td>2019-05-13T16:15:39Z</td>\n      <td>1.700000e+14</td>\n      <td>get</td>\n      <td>...</td>\n      <td>{'user': 5443278, 'context': None, 'asset': No...</td>\n      <td>False</td>\n      <td>165.123.108.90</td>\n      <td>0.094588</td>\n      <td>58921565c269fd68c58fc8dce41d1dc6</td>\n      <td>None</td>\n      <td>2019-05-13T16:15:39Z</td>\n      <td>https://canvas.upenn.edu/api/v1/users/5443278</td>\n      <td>python-requests/2.21.0</td>\n      <td>None</td>\n    </tr>\n    <tr>\n      <th>8</th>\n      <td>api_show</td>\n      <td>User-Generated</td>\n      <td>None</td>\n      <td>None</td>\n      <td>None</td>\n      <td>False</td>\n      <td>users</td>\n      <td>2019-05-13T16:15:38Z</td>\n      <td>1.700000e+14</td>\n      <td>get</td>\n      <td>...</td>\n      <td>{'user': 5443278, 'context': None, 'asset': No...</td>\n      <td>False</td>\n      <td>165.123.108.90</td>\n      <td>0.078694</td>\n      <td>ec4e080a7c78b6e8d80a443352d15456</td>\n      <td>None</td>\n      <td>2019-05-13T16:15:38Z</td>\n      <td>https://canvas.upenn.edu/api/v1/users/5443278</td>\n      <td>python-requests/2.21.0</td>\n      <td>None</td>\n    </tr>\n    <tr>\n      <th>9</th>\n      <td>api_show</td>\n      <td>User-Generated</td>\n      <td>None</td>\n      <td>None</td>\n      <td>None</td>\n      <td>False</td>\n      <td>users</td>\n      <td>2019-05-13T16:14:43Z</td>\n      <td>1.700000e+14</td>\n      <td>get</td>\n      <td>...</td>\n      <td>{'user': 5443278, 'context': None, 'asset': No...</td>\n      <td>False</td>\n      <td>165.123.108.90</td>\n      <td>0.080964</td>\n      <td>d0c7e22cf96e9fb2758bc800dc98b90f</td>\n      <td>None</td>\n      <td>2019-05-13T16:14:43Z</td>\n      <td>https://canvas.upenn.edu/api/v1/users/5443278</td>\n      <td>python-requests/2.21.0</td>\n      <td>None</td>\n    </tr>\n    <tr>\n      <th>10</th>\n      <td>api_show</td>\n      <td>User-Generated</td>\n      <td>None</td>\n      <td>None</td>\n      <td>None</td>\n      <td>False</td>\n      <td>users</td>\n      <td>2019-05-13T16:14:25Z</td>\n      <td>1.700000e+14</td>\n      <td>get</td>\n      <td>...</td>\n      <td>{'user': 5443278, 'context': None, 'asset': No...</td>\n      <td>False</td>\n      <td>165.123.108.90</td>\n      <td>0.270937</td>\n      <td>ab322aa787cbcbce8e849029c42c175c</td>\n      <td>None</td>\n      <td>2019-05-13T16:14:25Z</td>\n      <td>https://canvas.upenn.edu/api/v1/users/5443278</td>\n      <td>python-requests/2.21.0</td>\n      <td>None</td>\n    </tr>\n    <tr>\n      <th>11</th>\n      <td>api_show</td>\n      <td>User-Generated</td>\n      <td>None</td>\n      <td>None</td>\n      <td>None</td>\n      <td>False</td>\n      <td>users</td>\n      <td>2019-05-13T16:14:13Z</td>\n      <td>1.700000e+14</td>\n      <td>get</td>\n      <td>...</td>\n      <td>{'user': 5443278, 'context': None, 'asset': No...</td>\n      <td>False</td>\n      <td>165.123.108.90</td>\n      <td>0.160249</td>\n      <td>0e24a65d0007161e9cc223cc7f569097</td>\n      <td>None</td>\n      <td>2019-05-13T16:14:13Z</td>\n      <td>https://canvas.upenn.edu/api/v1/users/5443278</td>\n      <td>python-requests/2.21.0</td>\n      <td>None</td>\n    </tr>\n    <tr>\n      <th>12</th>\n      <td>api_show</td>\n      <td>User-Generated</td>\n      <td>None</td>\n      <td>None</td>\n      <td>None</td>\n      <td>False</td>\n      <td>users</td>\n      <td>2019-05-13T16:07:58Z</td>\n      <td>1.700000e+14</td>\n      <td>get</td>\n      <td>...</td>\n      <td>{'user': 5443278, 'context': None, 'asset': No...</td>\n      <td>False</td>\n      <td>165.123.108.90</td>\n      <td>0.121798</td>\n      <td>ce0274d3490130a6260304477f6007e7</td>\n      <td>None</td>\n      <td>2019-05-13T16:07:58Z</td>\n      <td>https://canvas.upenn.edu/api/v1/users/5443278</td>\n      <td>python-requests/2.21.0</td>\n      <td>None</td>\n    </tr>\n    <tr>\n      <th>13</th>\n      <td>api_show</td>\n      <td>User-Generated</td>\n      <td>None</td>\n      <td>None</td>\n      <td>None</td>\n      <td>False</td>\n      <td>users</td>\n      <td>2019-05-13T16:07:18Z</td>\n      <td>1.700000e+14</td>\n      <td>get</td>\n      <td>...</td>\n      <td>{'user': 5443278, 'context': None, 'asset': No...</td>\n      <td>False</td>\n      <td>165.123.108.90</td>\n      <td>0.074698</td>\n      <td>f56a3107749fed99cf93ae494d6066d6</td>\n      <td>None</td>\n      <td>2019-05-13T16:07:18Z</td>\n      <td>https://canvas.upenn.edu/api/v1/users/5443278</td>\n      <td>python-requests/2.21.0</td>\n      <td>None</td>\n    </tr>\n    <tr>\n      <th>14</th>\n      <td>api_show</td>\n      <td>User-Generated</td>\n      <td>None</td>\n      <td>None</td>\n      <td>None</td>\n      <td>False</td>\n      <td>users</td>\n      <td>2019-05-13T16:06:59Z</td>\n      <td>1.700000e+14</td>\n      <td>get</td>\n      <td>...</td>\n      <td>{'user': 5443278, 'context': None, 'asset': No...</td>\n      <td>False</td>\n      <td>165.123.108.90</td>\n      <td>0.118397</td>\n      <td>e729f92172b4367ae78b47987c9e105e</td>\n      <td>None</td>\n      <td>2019-05-13T16:06:59Z</td>\n      <td>https://canvas.upenn.edu/api/v1/users/5443278</td>\n      <td>python-requests/2.21.0</td>\n      <td>None</td>\n    </tr>\n    <tr>\n      <th>15</th>\n      <td>api_show</td>\n      <td>User-Generated</td>\n      <td>None</td>\n      <td>None</td>\n      <td>None</td>\n      <td>False</td>\n      <td>users</td>\n      <td>2019-05-13T15:54:51Z</td>\n      <td>1.700000e+14</td>\n      <td>get</td>\n      <td>...</td>\n      <td>{'user': 5443278, 'context': None, 'asset': No...</td>\n      <td>False</td>\n      <td>165.123.108.90</td>\n      <td>0.074724</td>\n      <td>291d1970346e37832a5a61e9721b873e</td>\n      <td>None</td>\n      <td>2019-05-13T15:54:51Z</td>\n      <td>https://canvas.upenn.edu/api/v1/users/5443278</td>\n      <td>python-requests/2.21.0</td>\n      <td>None</td>\n    </tr>\n    <tr>\n      <th>16</th>\n      <td>api_show</td>\n      <td>User-Generated</td>\n      <td>None</td>\n      <td>None</td>\n      <td>None</td>\n      <td>False</td>\n      <td>users</td>\n      <td>2019-05-13T15:54:36Z</td>\n      <td>1.700000e+14</td>\n      <td>get</td>\n      <td>...</td>\n      <td>{'user': 5443278, 'context': None, 'asset': No...</td>\n      <td>False</td>\n      <td>165.123.108.90</td>\n      <td>0.269373</td>\n      <td>e5a1c16be99c5210bf6aace116ad2a0c</td>\n      <td>None</td>\n      <td>2019-05-13T15:54:36Z</td>\n      <td>https://canvas.upenn.edu/api/v1/users/5443278</td>\n      <td>python-requests/2.21.0</td>\n      <td>None</td>\n    </tr>\n    <tr>\n      <th>17</th>\n      <td>api_show</td>\n      <td>User-Generated</td>\n      <td>None</td>\n      <td>None</td>\n      <td>None</td>\n      <td>False</td>\n      <td>users</td>\n      <td>2019-05-13T15:53:55Z</td>\n      <td>1.700000e+14</td>\n      <td>get</td>\n      <td>...</td>\n      <td>{'user': 5443278, 'context': None, 'asset': No...</td>\n      <td>False</td>\n      <td>165.123.108.90</td>\n      <td>0.384255</td>\n      <td>e2b5dc0e1a0bcb220ddf0a831a6afd04</td>\n      <td>None</td>\n      <td>2019-05-13T15:53:55Z</td>\n      <td>https://canvas.upenn.edu/api/v1/users/5443278</td>\n      <td>python-requests/2.21.0</td>\n      <td>None</td>\n    </tr>\n    <tr>\n      <th>18</th>\n      <td>api_show</td>\n      <td>None</td>\n      <td>None</td>\n      <td>None</td>\n      <td>None</td>\n      <td>False</td>\n      <td>users</td>\n      <td>2019-05-13T15:52:59Z</td>\n      <td>NaN</td>\n      <td>get</td>\n      <td>...</td>\n      <td>{'user': 5443278, 'context': None, 'asset': No...</td>\n      <td>False</td>\n      <td>165.123.108.90</td>\n      <td>0.117332</td>\n      <td>c6e6ae9a662e19bb68dc88b05f511c27</td>\n      <td>None</td>\n      <td>2019-05-13T15:52:59Z</td>\n      <td>https://canvas.upenn.edu/api/v1/users/5443278</td>\n      <td>Mozilla/5.0 (Macintosh; Intel Mac OS X 10_14_3...</td>\n      <td>None</td>\n    </tr>\n    <tr>\n      <th>19</th>\n      <td>api_show</td>\n      <td>User-Generated</td>\n      <td>None</td>\n      <td>None</td>\n      <td>None</td>\n      <td>False</td>\n      <td>users</td>\n      <td>2019-05-13T15:52:58Z</td>\n      <td>1.700000e+14</td>\n      <td>get</td>\n      <td>...</td>\n      <td>{'user': 5443278, 'context': None, 'asset': No...</td>\n      <td>False</td>\n      <td>165.123.108.90</td>\n      <td>0.108586</td>\n      <td>307c4627de81cce9ae5a6088773881ca</td>\n      <td>None</td>\n      <td>2019-05-13T15:52:58Z</td>\n      <td>https://canvas.upenn.edu/api/v1/users/5443278</td>\n      <td>python-requests/2.21.0</td>\n      <td>None</td>\n    </tr>\n    <tr>\n      <th>20</th>\n      <td>api_show</td>\n      <td>User-Generated</td>\n      <td>None</td>\n      <td>None</td>\n      <td>None</td>\n      <td>False</td>\n      <td>users</td>\n      <td>2019-05-13T15:52:13Z</td>\n      <td>1.700000e+14</td>\n      <td>get</td>\n      <td>...</td>\n      <td>{'user': 5443278, 'context': None, 'asset': No...</td>\n      <td>False</td>\n      <td>165.123.108.90</td>\n      <td>0.412187</td>\n      <td>b544ec4fa171177594675b1645c387de</td>\n      <td>None</td>\n      <td>2019-05-13T15:52:13Z</td>\n      <td>https://canvas.upenn.edu/api/v1/users/5443278</td>\n      <td>python-requests/2.21.0</td>\n      <td>None</td>\n    </tr>\n    <tr>\n      <th>21</th>\n      <td>api_show</td>\n      <td>User-Generated</td>\n      <td>None</td>\n      <td>None</td>\n      <td>None</td>\n      <td>False</td>\n      <td>users</td>\n      <td>2019-05-13T15:51:58Z</td>\n      <td>1.700000e+14</td>\n      <td>get</td>\n      <td>...</td>\n      <td>{'user': 5443278, 'context': None, 'asset': No...</td>\n      <td>False</td>\n      <td>165.123.108.90</td>\n      <td>0.113909</td>\n      <td>5e34b0d56accb22b30f41289f09a8aca</td>\n      <td>None</td>\n      <td>2019-05-13T15:51:58Z</td>\n      <td>https://canvas.upenn.edu/api/v1/users/5443278</td>\n      <td>python-requests/2.21.0</td>\n      <td>None</td>\n    </tr>\n    <tr>\n      <th>22</th>\n      <td>show</td>\n      <td>None</td>\n      <td>None</td>\n      <td>None</td>\n      <td>Account</td>\n      <td>False</td>\n      <td>users</td>\n      <td>2019-05-13T15:51:50Z</td>\n      <td>NaN</td>\n      <td>get</td>\n      <td>...</td>\n      <td>{'user': 5443278, 'context': 96678, 'asset': N...</td>\n      <td>False</td>\n      <td>165.123.108.90</td>\n      <td>0.585370</td>\n      <td>c6e6ae9a662e19bb68dc88b05f511c27</td>\n      <td>None</td>\n      <td>2019-05-13T15:51:50Z</td>\n      <td>https://canvas.upenn.edu/accounts/96678/users/...</td>\n      <td>Mozilla/5.0 (Macintosh; Intel Mac OS X 10_14_3...</td>\n      <td>None</td>\n    </tr>\n    <tr>\n      <th>23</th>\n      <td>show</td>\n      <td>None</td>\n      <td>None</td>\n      <td>None</td>\n      <td>Account</td>\n      <td>False</td>\n      <td>accounts</td>\n      <td>2019-05-13T15:51:41Z</td>\n      <td>NaN</td>\n      <td>get</td>\n      <td>...</td>\n      <td>{'user': 5443278, 'context': 96678, 'asset': N...</td>\n      <td>False</td>\n      <td>165.123.108.90</td>\n      <td>0.280010</td>\n      <td>c6e6ae9a662e19bb68dc88b05f511c27</td>\n      <td>None</td>\n      <td>2019-05-13T15:51:41Z</td>\n      <td>https://canvas.upenn.edu/accounts/96678</td>\n      <td>Mozilla/5.0 (Macintosh; Intel Mac OS X 10_14_3...</td>\n      <td>None</td>\n    </tr>\n    <tr>\n      <th>24</th>\n      <td>show</td>\n      <td>None</td>\n      <td>None</td>\n      <td>None</td>\n      <td>UserProfile</td>\n      <td>False</td>\n      <td>profile</td>\n      <td>2019-05-13T15:51:38Z</td>\n      <td>NaN</td>\n      <td>get</td>\n      <td>...</td>\n      <td>{'user': 5443278, 'context': None, 'asset': No...</td>\n      <td>False</td>\n      <td>165.123.108.90</td>\n      <td>0.194200</td>\n      <td>c6e6ae9a662e19bb68dc88b05f511c27</td>\n      <td>None</td>\n      <td>2019-05-13T15:51:38Z</td>\n      <td>https://canvas.upenn.edu/profile</td>\n      <td>Mozilla/5.0 (Macintosh; Intel Mac OS X 10_14_3...</td>\n      <td>None</td>\n    </tr>\n  </tbody>\n</table>\n<p>25 rows × 22 columns</p>\n</div>",
          "text/plain": "      action        app_name asset_type asset_user_access_id context_type  \\\n0   api_show  User-Generated       None                 None         None   \n1   api_show  User-Generated       None                 None         None   \n2   api_show  User-Generated       None                 None         None   \n3   api_show  User-Generated       None                 None         None   \n4   api_show  User-Generated       None                 None         None   \n5   api_show  User-Generated       None                 None         None   \n6   api_show  User-Generated       None                 None         None   \n7   api_show  User-Generated       None                 None         None   \n8   api_show  User-Generated       None                 None         None   \n9   api_show  User-Generated       None                 None         None   \n10  api_show  User-Generated       None                 None         None   \n11  api_show  User-Generated       None                 None         None   \n12  api_show  User-Generated       None                 None         None   \n13  api_show  User-Generated       None                 None         None   \n14  api_show  User-Generated       None                 None         None   \n15  api_show  User-Generated       None                 None         None   \n16  api_show  User-Generated       None                 None         None   \n17  api_show  User-Generated       None                 None         None   \n18  api_show            None       None                 None         None   \n19  api_show  User-Generated       None                 None         None   \n20  api_show  User-Generated       None                 None         None   \n21  api_show  User-Generated       None                 None         None   \n22      show            None       None                 None      Account   \n23      show            None       None                 None      Account   \n24      show            None       None                 None  UserProfile   \n\n    contributed controller            created_at  developer_key_id  \\\n0         False      users  2019-05-13T16:17:47Z      1.700000e+14   \n1         False      users  2019-05-13T16:17:06Z      1.700000e+14   \n2         False      users  2019-05-13T16:16:58Z      1.700000e+14   \n3         False      users  2019-05-13T16:15:41Z      1.700000e+14   \n4         False      users  2019-05-13T16:15:40Z      1.700000e+14   \n5         False      users  2019-05-13T16:15:40Z      1.700000e+14   \n6         False      users  2019-05-13T16:15:39Z      1.700000e+14   \n7         False      users  2019-05-13T16:15:39Z      1.700000e+14   \n8         False      users  2019-05-13T16:15:38Z      1.700000e+14   \n9         False      users  2019-05-13T16:14:43Z      1.700000e+14   \n10        False      users  2019-05-13T16:14:25Z      1.700000e+14   \n11        False      users  2019-05-13T16:14:13Z      1.700000e+14   \n12        False      users  2019-05-13T16:07:58Z      1.700000e+14   \n13        False      users  2019-05-13T16:07:18Z      1.700000e+14   \n14        False      users  2019-05-13T16:06:59Z      1.700000e+14   \n15        False      users  2019-05-13T15:54:51Z      1.700000e+14   \n16        False      users  2019-05-13T15:54:36Z      1.700000e+14   \n17        False      users  2019-05-13T15:53:55Z      1.700000e+14   \n18        False      users  2019-05-13T15:52:59Z               NaN   \n19        False      users  2019-05-13T15:52:58Z      1.700000e+14   \n20        False      users  2019-05-13T15:52:13Z      1.700000e+14   \n21        False      users  2019-05-13T15:51:58Z      1.700000e+14   \n22        False      users  2019-05-13T15:51:50Z               NaN   \n23        False   accounts  2019-05-13T15:51:41Z               NaN   \n24        False    profile  2019-05-13T15:51:38Z               NaN   \n\n   http_method  ...                                              links  \\\n0          get  ...  {'user': 5443278, 'context': None, 'asset': No...   \n1          get  ...  {'user': 5443278, 'context': None, 'asset': No...   \n2          get  ...  {'user': 5443278, 'context': None, 'asset': No...   \n3          get  ...  {'user': 5443278, 'context': None, 'asset': No...   \n4          get  ...  {'user': 5443278, 'context': None, 'asset': No...   \n5          get  ...  {'user': 5443278, 'context': None, 'asset': No...   \n6          get  ...  {'user': 5443278, 'context': None, 'asset': No...   \n7          get  ...  {'user': 5443278, 'context': None, 'asset': No...   \n8          get  ...  {'user': 5443278, 'context': None, 'asset': No...   \n9          get  ...  {'user': 5443278, 'context': None, 'asset': No...   \n10         get  ...  {'user': 5443278, 'context': None, 'asset': No...   \n11         get  ...  {'user': 5443278, 'context': None, 'asset': No...   \n12         get  ...  {'user': 5443278, 'context': None, 'asset': No...   \n13         get  ...  {'user': 5443278, 'context': None, 'asset': No...   \n14         get  ...  {'user': 5443278, 'context': None, 'asset': No...   \n15         get  ...  {'user': 5443278, 'context': None, 'asset': No...   \n16         get  ...  {'user': 5443278, 'context': None, 'asset': No...   \n17         get  ...  {'user': 5443278, 'context': None, 'asset': No...   \n18         get  ...  {'user': 5443278, 'context': None, 'asset': No...   \n19         get  ...  {'user': 5443278, 'context': None, 'asset': No...   \n20         get  ...  {'user': 5443278, 'context': None, 'asset': No...   \n21         get  ...  {'user': 5443278, 'context': None, 'asset': No...   \n22         get  ...  {'user': 5443278, 'context': 96678, 'asset': N...   \n23         get  ...  {'user': 5443278, 'context': 96678, 'asset': N...   \n24         get  ...  {'user': 5443278, 'context': None, 'asset': No...   \n\n   participated       remote_ip  render_time  \\\n0         False  165.123.108.90     0.119106   \n1         False  165.123.108.90     0.097454   \n2         False  165.123.108.90     0.089420   \n3         False  165.123.108.90     0.111146   \n4         False  165.123.108.90     0.067307   \n5         False  165.123.108.90     0.085913   \n6         False  165.123.108.90     0.118818   \n7         False  165.123.108.90     0.094588   \n8         False  165.123.108.90     0.078694   \n9         False  165.123.108.90     0.080964   \n10        False  165.123.108.90     0.270937   \n11        False  165.123.108.90     0.160249   \n12        False  165.123.108.90     0.121798   \n13        False  165.123.108.90     0.074698   \n14        False  165.123.108.90     0.118397   \n15        False  165.123.108.90     0.074724   \n16        False  165.123.108.90     0.269373   \n17        False  165.123.108.90     0.384255   \n18        False  165.123.108.90     0.117332   \n19        False  165.123.108.90     0.108586   \n20        False  165.123.108.90     0.412187   \n21        False  165.123.108.90     0.113909   \n22        False  165.123.108.90     0.585370   \n23        False  165.123.108.90     0.280010   \n24        False  165.123.108.90     0.194200   \n\n                          session_id  summarized            updated_at  \\\n0   9d08fef0a4e9a9aec4fda3c1cd7b110b        None  2019-05-13T16:17:47Z   \n1   beab170c46511dba9ed93366d342a52d        None  2019-05-13T16:17:06Z   \n2   9c90d8519be400f2ed12f251866b9c64        None  2019-05-13T16:16:58Z   \n3   dc988c40f29b52abbafb140655d2723e        None  2019-05-13T16:15:41Z   \n4   ed47cf756b1f6c759caa17da47a430fb        None  2019-05-13T16:15:40Z   \n5   1b60f5c1308c92d21de3b361cc115d62        None  2019-05-13T16:15:40Z   \n6   3dcf2805c912f0133ac20fbad8191622        None  2019-05-13T16:15:39Z   \n7   58921565c269fd68c58fc8dce41d1dc6        None  2019-05-13T16:15:39Z   \n8   ec4e080a7c78b6e8d80a443352d15456        None  2019-05-13T16:15:38Z   \n9   d0c7e22cf96e9fb2758bc800dc98b90f        None  2019-05-13T16:14:43Z   \n10  ab322aa787cbcbce8e849029c42c175c        None  2019-05-13T16:14:25Z   \n11  0e24a65d0007161e9cc223cc7f569097        None  2019-05-13T16:14:13Z   \n12  ce0274d3490130a6260304477f6007e7        None  2019-05-13T16:07:58Z   \n13  f56a3107749fed99cf93ae494d6066d6        None  2019-05-13T16:07:18Z   \n14  e729f92172b4367ae78b47987c9e105e        None  2019-05-13T16:06:59Z   \n15  291d1970346e37832a5a61e9721b873e        None  2019-05-13T15:54:51Z   \n16  e5a1c16be99c5210bf6aace116ad2a0c        None  2019-05-13T15:54:36Z   \n17  e2b5dc0e1a0bcb220ddf0a831a6afd04        None  2019-05-13T15:53:55Z   \n18  c6e6ae9a662e19bb68dc88b05f511c27        None  2019-05-13T15:52:59Z   \n19  307c4627de81cce9ae5a6088773881ca        None  2019-05-13T15:52:58Z   \n20  b544ec4fa171177594675b1645c387de        None  2019-05-13T15:52:13Z   \n21  5e34b0d56accb22b30f41289f09a8aca        None  2019-05-13T15:51:58Z   \n22  c6e6ae9a662e19bb68dc88b05f511c27        None  2019-05-13T15:51:50Z   \n23  c6e6ae9a662e19bb68dc88b05f511c27        None  2019-05-13T15:51:41Z   \n24  c6e6ae9a662e19bb68dc88b05f511c27        None  2019-05-13T15:51:38Z   \n\n                                                  url  \\\n0       https://canvas.upenn.edu/api/v1/users/5443278   \n1       https://canvas.upenn.edu/api/v1/users/5443278   \n2       https://canvas.upenn.edu/api/v1/users/5443278   \n3       https://canvas.upenn.edu/api/v1/users/5443278   \n4       https://canvas.upenn.edu/api/v1/users/5443278   \n5       https://canvas.upenn.edu/api/v1/users/5443278   \n6       https://canvas.upenn.edu/api/v1/users/5443278   \n7       https://canvas.upenn.edu/api/v1/users/5443278   \n8       https://canvas.upenn.edu/api/v1/users/5443278   \n9       https://canvas.upenn.edu/api/v1/users/5443278   \n10      https://canvas.upenn.edu/api/v1/users/5443278   \n11      https://canvas.upenn.edu/api/v1/users/5443278   \n12      https://canvas.upenn.edu/api/v1/users/5443278   \n13      https://canvas.upenn.edu/api/v1/users/5443278   \n14      https://canvas.upenn.edu/api/v1/users/5443278   \n15      https://canvas.upenn.edu/api/v1/users/5443278   \n16      https://canvas.upenn.edu/api/v1/users/5443278   \n17      https://canvas.upenn.edu/api/v1/users/5443278   \n18      https://canvas.upenn.edu/api/v1/users/5443278   \n19      https://canvas.upenn.edu/api/v1/users/5443278   \n20      https://canvas.upenn.edu/api/v1/users/5443278   \n21      https://canvas.upenn.edu/api/v1/users/5443278   \n22  https://canvas.upenn.edu/accounts/96678/users/...   \n23            https://canvas.upenn.edu/accounts/96678   \n24                   https://canvas.upenn.edu/profile   \n\n                                           user_agent user_request  \n0                              python-requests/2.21.0         None  \n1                              python-requests/2.21.0         None  \n2                              python-requests/2.21.0         None  \n3                              python-requests/2.21.0         None  \n4                              python-requests/2.21.0         None  \n5                              python-requests/2.21.0         None  \n6                              python-requests/2.21.0         None  \n7                              python-requests/2.21.0         None  \n8                              python-requests/2.21.0         None  \n9                              python-requests/2.21.0         None  \n10                             python-requests/2.21.0         None  \n11                             python-requests/2.21.0         None  \n12                             python-requests/2.21.0         None  \n13                             python-requests/2.21.0         None  \n14                             python-requests/2.21.0         None  \n15                             python-requests/2.21.0         None  \n16                             python-requests/2.21.0         None  \n17                             python-requests/2.21.0         None  \n18  Mozilla/5.0 (Macintosh; Intel Mac OS X 10_14_3...         None  \n19                             python-requests/2.21.0         None  \n20                             python-requests/2.21.0         None  \n21                             python-requests/2.21.0         None  \n22  Mozilla/5.0 (Macintosh; Intel Mac OS X 10_14_3...         None  \n23  Mozilla/5.0 (Macintosh; Intel Mac OS X 10_14_3...         None  \n24  Mozilla/5.0 (Macintosh; Intel Mac OS X 10_14_3...         None  \n\n[25 rows x 22 columns]"
         },
         "metadata": {},
         "output_type": "display_data"
        }
       ]
      }
     },
     "7c5611e1eafc48a5a1f17b13b742e4c7": {
      "model_module": "@jupyter-widgets/controls",
      "model_module_version": "1.4.0",
      "model_name": "ButtonStyleModel",
      "state": {}
     },
     "7ce92ffbda834334b881e90d0a35acc5": {
      "model_module": "@jupyter-widgets/base",
      "model_module_version": "1.1.0",
      "model_name": "LayoutModel",
      "state": {}
     },
     "7cfe041de0674dc6800f26b90a8277b1": {
      "model_module": "@jupyter-widgets/base",
      "model_module_version": "1.1.0",
      "model_name": "LayoutModel",
      "state": {
       "grid_area": "footer",
       "width": "auto"
      }
     },
     "7d35b1738c804cb9bf89b91182bfda6d": {
      "model_module": "@jupyter-widgets/controls",
      "model_module_version": "1.4.0",
      "model_name": "ButtonModel",
      "state": {
       "button_style": "info",
       "description": "Get PageViews",
       "layout": "IPY_MODEL_79c932404c064a828efa61639aaa53a4",
       "style": "IPY_MODEL_d9728370e11947489b573fe5ca986ecb"
      }
     },
     "7d56ee480323473bac4bc2e616808e7c": {
      "model_module": "@jupyter-widgets/base",
      "model_module_version": "1.1.0",
      "model_name": "LayoutModel",
      "state": {
       "grid_template_areas": "\n            \" . header header .\"\n            \"left left right right\"\n            \" . footer footer . \"\n            ",
       "grid_template_columns": "25% 25% 25% 25%",
       "grid_template_rows": "auto auto auto",
       "margin": "2% 0% 2% 10%",
       "width": "80%"
      }
     },
     "7ded8267b35a43338b2f9b1714d0dbe9": {
      "model_module": "@jupyter-widgets/controls",
      "model_module_version": "1.4.0",
      "model_name": "DatePickerModel",
      "state": {
       "description": "end date",
       "disabled": false,
       "layout": "IPY_MODEL_27246b07de83429db3ff833b763f7dc0",
       "style": "IPY_MODEL_07730e198fa644e1ae2a650ce54d21a0"
      }
     },
     "7df3164e7e4f48ebaefb514702f48b69": {
      "model_module": "@jupyter-widgets/controls",
      "model_module_version": "1.4.0",
      "model_name": "ButtonModel",
      "state": {
       "button_style": "info",
       "description": "Get PageViews",
       "layout": "IPY_MODEL_27f2be28a31c4e9cb7141919a1b5a1c7",
       "style": "IPY_MODEL_677f7b61af364067ad943d67128c9457"
      }
     },
     "7e0eba2c08d34c28901c1fdfcfce589b": {
      "model_module": "@jupyter-widgets/base",
      "model_module_version": "1.1.0",
      "model_name": "LayoutModel",
      "state": {}
     },
     "7ecc922500ca485d86ce0f2d2a97b6f3": {
      "model_module": "@jupyter-widgets/controls",
      "model_module_version": "1.4.0",
      "model_name": "TextModel",
      "state": {
       "layout": "IPY_MODEL_3d20eca98de5404f812ae3418c2f0816",
       "placeholder": "user_id",
       "style": "IPY_MODEL_8cf33463b2264c5c867f6f5211b04565",
       "value": "5443278"
      }
     },
     "7f29e7118adb44069a244dfe72f25fa8": {
      "model_module": "@jupyter-widgets/base",
      "model_module_version": "1.1.0",
      "model_name": "LayoutModel",
      "state": {
       "grid_template_areas": "\n            \" . header header .\"\n            \"main main sidebar sidebar\"\n            \" . footer footer . \"\n            ",
       "grid_template_columns": "25% 25% 25% 25%",
       "grid_template_rows": "auto auto auto",
       "margin": "2% 0% 2% 10%",
       "width": "80%"
      }
     },
     "7f95eeddf3f54ddaa8383cc6a6cb8855": {
      "model_module": "@jupyter-widgets/controls",
      "model_module_version": "1.4.0",
      "model_name": "DatePickerModel",
      "state": {
       "description": "end date",
       "disabled": false,
       "layout": "IPY_MODEL_7a8ac4322844409bb506eaf6540ca0a0",
       "style": "IPY_MODEL_69997a518a744456b7d4ca904bfea004"
      }
     },
     "800b335202e04272957758fedadb8835": {
      "model_module": "@jupyter-widgets/controls",
      "model_module_version": "1.4.0",
      "model_name": "DescriptionStyleModel",
      "state": {
       "description_width": ""
      }
     },
     "8017cdab4f6d4de1897df50314cbed39": {
      "model_module": "@jupyter-widgets/base",
      "model_module_version": "1.1.0",
      "model_name": "LayoutModel",
      "state": {
       "grid_area": "footer",
       "width": "auto"
      }
     },
     "8097a77e6b34445585d1809f01c5d4d5": {
      "model_module": "@jupyter-widgets/controls",
      "model_module_version": "1.4.0",
      "model_name": "DatePickerModel",
      "state": {
       "description": "end date",
       "disabled": false,
       "layout": "IPY_MODEL_ac69bc8d30584e07bddc0896f25d4084",
       "style": "IPY_MODEL_1f56001832524001834c4bc5640c0661"
      }
     },
     "80c3d3f5c10b43c9b62beebd7b2af325": {
      "model_module": "@jupyter-widgets/controls",
      "model_module_version": "1.4.0",
      "model_name": "GridBoxModel",
      "state": {
       "children": [
        "IPY_MODEL_659101e37714406da79cd338d156bfee",
        "IPY_MODEL_e1e6b7f1f01245f199d5370720126367",
        "IPY_MODEL_6e3ff24d036b441abc136c9a54c55c6e",
        "IPY_MODEL_5ddde3b06eb14e4dbb212d8a1f85b05d"
       ],
       "layout": "IPY_MODEL_4fedaa1569114f65903da3b9d5519f95"
      }
     },
     "812b06477b6f47f8b5856d5126d0c0e9": {
      "model_module": "@jupyter-widgets/controls",
      "model_module_version": "1.4.0",
      "model_name": "TextModel",
      "state": {
       "layout": "IPY_MODEL_6d5fefd009d549f3892c187724f65ca5",
       "placeholder": "user_id",
       "style": "IPY_MODEL_5b0350b4a57a4de58a3984b7661e17a0"
      }
     },
     "813782b4e8244c08a945f9439bf8007a": {
      "model_module": "@jupyter-widgets/output",
      "model_module_version": "1.0.0",
      "model_name": "OutputModel",
      "state": {
       "layout": "IPY_MODEL_6113c55e8a204588879bf1f149e02a36"
      }
     },
     "81ce764660384f00b2b208245d2cb402": {
      "model_module": "@jupyter-widgets/base",
      "model_module_version": "1.1.0",
      "model_name": "LayoutModel",
      "state": {}
     },
     "81db3dc4b1f644f9893474108dad7c98": {
      "model_module": "@jupyter-widgets/base",
      "model_module_version": "1.1.0",
      "model_name": "LayoutModel",
      "state": {
       "align_items": "center",
       "grid_area": "header",
       "width": "90%"
      }
     },
     "82068c6032ae40efac0170567b48e3c3": {
      "model_module": "@jupyter-widgets/controls",
      "model_module_version": "1.4.0",
      "model_name": "DescriptionStyleModel",
      "state": {
       "description_width": ""
      }
     },
     "8248d6cc60684b95a454e5f81eef324d": {
      "model_module": "@jupyter-widgets/output",
      "model_module_version": "1.0.0",
      "model_name": "OutputModel",
      "state": {
       "layout": "IPY_MODEL_9f91f896f91f4d928919eadb1b99b04b"
      }
     },
     "82930fb9bd6440c7b32ba50e112e5569": {
      "model_module": "@jupyter-widgets/base",
      "model_module_version": "1.1.0",
      "model_name": "LayoutModel",
      "state": {}
     },
     "82b8ce75c77f4040a434d793a1e54518": {
      "model_module": "@jupyter-widgets/controls",
      "model_module_version": "1.4.0",
      "model_name": "DatePickerModel",
      "state": {
       "description": "end date",
       "disabled": false,
       "layout": "IPY_MODEL_6d32dac02eaf41d0bf738693526893fa",
       "style": "IPY_MODEL_77db4119f9bf4aba9f4f0e74606bbb0d"
      }
     },
     "8306a237922a4cf18e38d4635e3e04d0": {
      "model_module": "@jupyter-widgets/base",
      "model_module_version": "1.1.0",
      "model_name": "LayoutModel",
      "state": {}
     },
     "834ffd0590b0444baaa1a1675d5458f0": {
      "model_module": "@jupyter-widgets/controls",
      "model_module_version": "1.4.0",
      "model_name": "DatePickerModel",
      "state": {
       "description": "start date",
       "disabled": false,
       "layout": "IPY_MODEL_bc3e691f81e44139a5079f2edc4560eb",
       "style": "IPY_MODEL_bbde9813fe8043f4a9d0e0c6a7fe1105"
      }
     },
     "84071d3f9cf8479aab2305cc995c0cd0": {
      "model_module": "@jupyter-widgets/controls",
      "model_module_version": "1.4.0",
      "model_name": "ButtonModel",
      "state": {
       "button_style": "info",
       "description": "Get PageViews",
       "layout": "IPY_MODEL_b34748e611bc4452a883a343cddb8c90",
       "style": "IPY_MODEL_eb4fef86933d450194fc1f60c45d61bf"
      }
     },
     "846d15cf1fff4ddc9bacc243afaee11c": {
      "model_module": "@jupyter-widgets/base",
      "model_module_version": "1.1.0",
      "model_name": "LayoutModel",
      "state": {}
     },
     "849ce570f13b46f1a2aa30686250fc2b": {
      "model_module": "@jupyter-widgets/controls",
      "model_module_version": "1.4.0",
      "model_name": "TextModel",
      "state": {
       "layout": "IPY_MODEL_bb600b57992644839862925ab315219e",
       "placeholder": "user_id",
       "style": "IPY_MODEL_e66b98d6a19845c7806a878097b435ed",
       "value": "5443278"
      }
     },
     "849d3e1adca344f7bfe3f520755b2e56": {
      "model_module": "@jupyter-widgets/controls",
      "model_module_version": "1.4.0",
      "model_name": "GridBoxModel",
      "state": {
       "children": [
        "IPY_MODEL_c3dedfdd94234042ad163a3e1b99030d",
        "IPY_MODEL_898b7daa6b254a0b900a2e6939237a9a",
        "IPY_MODEL_d2cdc04bb45142fb868e34da3bdf2b87",
        "IPY_MODEL_c4a41191b2574d0aae513fea9ae25b35"
       ],
       "layout": "IPY_MODEL_50382ddfc7d14e998bb4c479e4c94868"
      }
     },
     "85c2b002b4704eb1b2e2454cf77bf889": {
      "model_module": "@jupyter-widgets/controls",
      "model_module_version": "1.4.0",
      "model_name": "TextModel",
      "state": {
       "layout": "IPY_MODEL_02b58d0244b14b60b7ed61f746bb5cdf",
       "placeholder": "API TOKEN",
       "style": "IPY_MODEL_201f2ff88b6046b7bcb32d530a22fd26",
       "value": "25~SEUFg2kAnCcarRFHAKTH1H7NIEFu7cEGeKrf2gNGkjAZTzElglrqGiVOlq5BfdKK"
      }
     },
     "869b1e7b7fdb4da7bf36d77eb3262bc6": {
      "model_module": "@jupyter-widgets/base",
      "model_module_version": "1.1.0",
      "model_name": "LayoutModel",
      "state": {
       "align_items": "center",
       "grid_area": "right",
       "width": "90%"
      }
     },
     "86af3a4247b041098c8fb2c7be604d48": {
      "model_module": "@jupyter-widgets/controls",
      "model_module_version": "1.4.0",
      "model_name": "DatePickerModel",
      "state": {
       "description": "end date",
       "disabled": false,
       "layout": "IPY_MODEL_e42412a6e64741088f69f244c870549b",
       "style": "IPY_MODEL_917e8e2b156a474789e81aa30af64fb6"
      }
     },
     "86ebefdaa74f401ca94b2da11ecdeca8": {
      "model_module": "@jupyter-widgets/output",
      "model_module_version": "1.0.0",
      "model_name": "OutputModel",
      "state": {
       "layout": "IPY_MODEL_8306a237922a4cf18e38d4635e3e04d0"
      }
     },
     "87333933edfc49dc99b6d77427aa7bdb": {
      "model_module": "@jupyter-widgets/base",
      "model_module_version": "1.1.0",
      "model_name": "LayoutModel",
      "state": {}
     },
     "874ab145ae8a404fb089cad324655534": {
      "model_module": "@jupyter-widgets/base",
      "model_module_version": "1.1.0",
      "model_name": "LayoutModel",
      "state": {
       "align_items": "center",
       "grid_area": "header",
       "width": "90%"
      }
     },
     "87f7190b8b6c4019b356395f3bbc8a02": {
      "model_module": "@jupyter-widgets/base",
      "model_module_version": "1.1.0",
      "model_name": "LayoutModel",
      "state": {
       "align_items": "center",
       "grid_area": "main",
       "width": "90%"
      }
     },
     "880f2bf6dbce423d80dce13eefb2a3da": {
      "model_module": "@jupyter-widgets/base",
      "model_module_version": "1.1.0",
      "model_name": "LayoutModel",
      "state": {}
     },
     "8892a07ebfd942068a74e630df63510d": {
      "model_module": "@jupyter-widgets/controls",
      "model_module_version": "1.4.0",
      "model_name": "DropdownModel",
      "state": {
       "_options_labels": [
        "ALL",
        "API Token Scopes",
        "Account Domain Lookups",
        "Account Notifications",
        "Account Reports",
        "Accounts",
        "Admins",
        "Analytics",
        "Announcement External Feeds",
        "Announcements",
        "Appointment Groups",
        "Assignment Extensions",
        "Assignment Groups",
        "Assignments",
        "Authentication Providers",
        "Authentications Log",
        "Blueprint Courses",
        "Bookmarks",
        "Brand Configs",
        "Calendar Events",
        "Collaborations",
        "CommMessages",
        "Communication Channels",
        "Conferences",
        "Content Exports",
        "Content Migrations",
        "Content Security Policy Settings",
        "Conversations",
        "Course Audit log",
        "Course Quiz Extensions",
        "Courses",
        "Custom Gradebook Columns",
        "Discussion Topics",
        "Enrollment Terms",
        "Enrollments",
        "Error Reports",
        "External Tools",
        "Favorites",
        "Feature Flags",
        "Files",
        "Grade Change Log",
        "Gradebook History",
        "Grading Periods",
        "Grading Standards",
        "Group Categories",
        "Groups",
        "JWTs",
        "Late Policy",
        "LiveAssessments",
        "Logins",
        "Moderated Grading",
        "Modules",
        "Notification Preferences",
        "OAuth 2",
        "Outcome Groups",
        "Outcome Imports",
        "Outcome Results",
        "Outcomes",
        "Pages",
        "Peer Reviews",
        "Plagiarism Detection Platform Assignments",
        "Planner",
        "Poll Sessions",
        "PollChoices",
        "PollSubmissions",
        "Polls",
        "Proficiency Ratings",
        "Progress",
        "Quiz Assignment Overrides",
        "Quiz Extensions",
        "Quiz IP Filters",
        "Quiz Question Groups",
        "Quiz Questions",
        "Quiz Reports",
        "Quiz Statistics",
        "Quiz Submission Events",
        "Quiz Submission Files",
        "Quiz Submission Questions",
        "Quiz Submission User List",
        "Quiz Submissions",
        "Quizzes",
        "Roles",
        "Rubrics",
        "SIS Import Errors",
        "SIS Imports",
        "SIS Integration",
        "Search",
        "Sections",
        "Services",
        "Shared Brand Configs",
        "Submission Comments",
        "Submissions",
        "Tabs",
        "User Observees",
        "Users",
        "ePub Exports"
       ],
       "description": "Resource",
       "index": 91,
       "layout": "IPY_MODEL_78f1efdd8cd84edebda63238f4ddd903",
       "style": "IPY_MODEL_d02d0c10017f4fdfb4c269aaf7895962"
      }
     },
     "88b94bc929d54cd095ae1caaaaf37056": {
      "model_module": "@jupyter-widgets/controls",
      "model_module_version": "1.4.0",
      "model_name": "DescriptionStyleModel",
      "state": {
       "description_width": ""
      }
     },
     "88f234f7ca824141a732b68b731a3e6e": {
      "model_module": "@jupyter-widgets/controls",
      "model_module_version": "1.4.0",
      "model_name": "GridBoxModel",
      "state": {
       "children": [
        "IPY_MODEL_9d6f1dda3c374846bb54c091a48db0a7",
        "IPY_MODEL_8908672a513b40ed91e8a30b994019e8",
        "IPY_MODEL_34f6004e583d4db9926fca1a82049a34",
        "IPY_MODEL_4f29c0b5b1c44ebfa1d70f4b778a6e03"
       ],
       "layout": "IPY_MODEL_695f20f6ebd1437fa0689ea44fb7776b"
      }
     },
     "8908672a513b40ed91e8a30b994019e8": {
      "model_module": "@jupyter-widgets/controls",
      "model_module_version": "1.4.0",
      "model_name": "DatePickerModel",
      "state": {
       "description": "start date",
       "disabled": false,
       "layout": "IPY_MODEL_4d9b20f524f244228740bfac4d184626",
       "style": "IPY_MODEL_da9caf3bfa484294a606f63f88895e01"
      }
     },
     "896302154be04bc989e9c23a7bcaed0a": {
      "model_module": "@jupyter-widgets/base",
      "model_module_version": "1.1.0",
      "model_name": "LayoutModel",
      "state": {
       "align_items": "center",
       "grid_area": "right",
       "width": "90%"
      }
     },
     "898b7daa6b254a0b900a2e6939237a9a": {
      "model_module": "@jupyter-widgets/controls",
      "model_module_version": "1.4.0",
      "model_name": "DatePickerModel",
      "state": {
       "description": "start date",
       "disabled": false,
       "layout": "IPY_MODEL_a61142c68ba24f6dbe49e5f35825b19d",
       "style": "IPY_MODEL_e0fdbe6c5ba54161ad06f52b0895889e"
      }
     },
     "89bb13142ca0428d87dba10b09e9d700": {
      "model_module": "@jupyter-widgets/base",
      "model_module_version": "1.1.0",
      "model_name": "LayoutModel",
      "state": {
       "align_items": "center",
       "grid_area": "right",
       "width": "90%"
      }
     },
     "89d75ec01b2242e4a61c8c3b68a24c31": {
      "model_module": "@jupyter-widgets/controls",
      "model_module_version": "1.4.0",
      "model_name": "GridBoxModel",
      "state": {
       "children": [
        "IPY_MODEL_be6fd02bc33b443d8699776cf38eeacd",
        "IPY_MODEL_43879ef7e7d243d7a0efd5fe80f5aff7",
        "IPY_MODEL_981a68419aa14eaf989e6c5d428f15d9",
        "IPY_MODEL_be93f6d0f2694fcb877ea91ec399c86c"
       ],
       "layout": "IPY_MODEL_eec08c666b3d4f3186a11c2c0f1a6aa9"
      }
     },
     "8a04d3c54bfc4146a3c1f77f0e808837": {
      "model_module": "@jupyter-widgets/base",
      "model_module_version": "1.1.0",
      "model_name": "LayoutModel",
      "state": {
       "padding": "5px 20px 20px 20px",
       "width": "40%"
      }
     },
     "8a2b110d08414681b48d186a2e0f7a1d": {
      "model_module": "@jupyter-widgets/controls",
      "model_module_version": "1.4.0",
      "model_name": "SelectModel",
      "state": {
       "_options_labels": [
        "Production",
        "Test",
        "Beta"
       ],
       "description": "Environment:",
       "index": 0,
       "layout": "IPY_MODEL_73b12b8c11b749d486c643487bb571b1",
       "rows": 3,
       "style": "IPY_MODEL_12fd789bbd7c4e32b30169126673b9c3"
      }
     },
     "8a76a5c3a96842828c0882d219ae26b5": {
      "model_module": "@jupyter-widgets/controls",
      "model_module_version": "1.4.0",
      "model_name": "DescriptionStyleModel",
      "state": {
       "description_width": ""
      }
     },
     "8ab41b22978845ea9d6921e52a25b536": {
      "model_module": "@jupyter-widgets/output",
      "model_module_version": "1.0.0",
      "model_name": "OutputModel",
      "state": {
       "layout": "IPY_MODEL_2ff5e804552245c182de178c17b228a9",
       "outputs": [
        {
         "data": {
          "text/plain": "'Madeleine Hodges'"
         },
         "metadata": {},
         "output_type": "display_data"
        }
       ]
      }
     },
     "8af7bfa0a7e540838d3cea77102e191b": {
      "model_module": "@jupyter-widgets/controls",
      "model_module_version": "1.4.0",
      "model_name": "DescriptionStyleModel",
      "state": {
       "description_width": ""
      }
     },
     "8c0d324ac24248aaa5d58ad485d06d5b": {
      "model_module": "@jupyter-widgets/base",
      "model_module_version": "1.1.0",
      "model_name": "LayoutModel",
      "state": {
       "grid_template_areas": "\n            \" . header header .\"\n            \"main main sidebar sidebar\"\n            \" . footer footer . \"\n            ",
       "grid_template_columns": "25% 25% 25% 25%",
       "grid_template_rows": "auto auto auto",
       "margin": "2% 0% 2% 10%",
       "width": "80%"
      }
     },
     "8c1f36b7e1ed4d88ad03cfe4ae8bc44f": {
      "model_module": "@jupyter-widgets/controls",
      "model_module_version": "1.4.0",
      "model_name": "TextModel",
      "state": {
       "layout": "IPY_MODEL_ae6fd2be2bcd4e1abb828dd023bdba4e",
       "placeholder": "user_id",
       "style": "IPY_MODEL_19b8ce3eeed84d2a8f2ffd85bac6680d",
       "value": "5443278"
      }
     },
     "8c75d31bf54d40abb8b6fe2b893ceb37": {
      "model_module": "@jupyter-widgets/controls",
      "model_module_version": "1.4.0",
      "model_name": "ButtonStyleModel",
      "state": {}
     },
     "8cbfd203194a47d09beddb6cdb5a7c4c": {
      "model_module": "@jupyter-widgets/controls",
      "model_module_version": "1.4.0",
      "model_name": "DatePickerModel",
      "state": {
       "description": "end date",
       "disabled": false,
       "layout": "IPY_MODEL_1e2b736653184e8c87adc3bd36c981fc",
       "style": "IPY_MODEL_8af7bfa0a7e540838d3cea77102e191b"
      }
     },
     "8cf33463b2264c5c867f6f5211b04565": {
      "model_module": "@jupyter-widgets/controls",
      "model_module_version": "1.4.0",
      "model_name": "DescriptionStyleModel",
      "state": {
       "description_width": ""
      }
     },
     "8d9df8e8e64c4be6872ade0ae5567a07": {
      "model_module": "@jupyter-widgets/controls",
      "model_module_version": "1.4.0",
      "model_name": "ButtonModel",
      "state": {
       "button_style": "warning",
       "description": "NOT Authorized",
       "disabled": true,
       "icon": "unlock",
       "layout": "IPY_MODEL_520e6083f12b472e977e6eb6a065a85e",
       "style": "IPY_MODEL_5fedb1436c31424ab577d2128a74fc23"
      }
     },
     "8df7d2efac044167bd2c73d9d5b2d96f": {
      "model_module": "@jupyter-widgets/controls",
      "model_module_version": "1.4.0",
      "model_name": "GridBoxModel",
      "state": {
       "children": [
        "IPY_MODEL_3e26b06d8cb44a5d965e917f6e967ed8",
        "IPY_MODEL_6158d9e325c94577aa6055f8c5503f30",
        "IPY_MODEL_c502c28cc2354c8da8fbf9272574ff5e",
        "IPY_MODEL_263a89a58d5e4e48a32cdcc99544fe7a"
       ],
       "layout": "IPY_MODEL_fd5799786ca3467e96a015eb89e3c710"
      }
     },
     "8e7dfc79b0cd4e7eb9cfd806b1438ffb": {
      "model_module": "@jupyter-widgets/base",
      "model_module_version": "1.1.0",
      "model_name": "LayoutModel",
      "state": {
       "align_items": "center",
       "grid_area": "header",
       "width": "90%"
      }
     },
     "8e865131e3104dbca732b0fc16d9c895": {
      "model_module": "@jupyter-widgets/controls",
      "model_module_version": "1.4.0",
      "model_name": "DropdownModel",
      "state": {
       "_options_labels": [
        "ALL",
        "DELETE",
        "GET",
        "PATCH",
        "POST",
        "PUT"
       ],
       "description": "API Method",
       "index": 0,
       "layout": "IPY_MODEL_19435e822c3f4074b2158e9f8b66fd8f",
       "style": "IPY_MODEL_18833886feeb4551b96e9f9a483d2bc2"
      }
     },
     "8f491d06e4ce4c5f9a004576a5cd90f5": {
      "model_module": "@jupyter-widgets/controls",
      "model_module_version": "1.4.0",
      "model_name": "SelectModel",
      "state": {
       "_options_labels": [
        "Production",
        "Test",
        "Beta"
       ],
       "description": "Environment:",
       "index": 0,
       "layout": "IPY_MODEL_06cb444ae7a04f6f872b984308a9445b",
       "rows": 3,
       "style": "IPY_MODEL_cf9e085790294760891b2283db3db1c1"
      }
     },
     "8f597d49a9e244fc876383a1fac1a9df": {
      "model_module": "@jupyter-widgets/base",
      "model_module_version": "1.1.0",
      "model_name": "LayoutModel",
      "state": {}
     },
     "8f8c68c9a2ab40aaa80eda7d55cf1732": {
      "model_module": "@jupyter-widgets/controls",
      "model_module_version": "1.4.0",
      "model_name": "TextModel",
      "state": {
       "layout": "IPY_MODEL_3001f94b2233474fbfeed411607752dd",
       "placeholder": "user_id",
       "style": "IPY_MODEL_fc95e09a17824ea2946129b24e29341c",
       "value": "5443278"
      }
     },
     "8f8dcd14b72f4ed5ae9c924aef2d3816": {
      "model_module": "@jupyter-widgets/controls",
      "model_module_version": "1.4.0",
      "model_name": "ButtonStyleModel",
      "state": {}
     },
     "8fb8c051180f4351aa095a8001c14ec3": {
      "model_module": "@jupyter-widgets/output",
      "model_module_version": "1.0.0",
      "model_name": "OutputModel",
      "state": {
       "layout": "IPY_MODEL_ad1686eb2baf4675a015efe4ccd5121c"
      }
     },
     "901c4641d95f4dc4a1100de21ae86810": {
      "model_module": "@jupyter-widgets/base",
      "model_module_version": "1.1.0",
      "model_name": "LayoutModel",
      "state": {
       "align_items": "center",
       "grid_area": "header",
       "width": "90%"
      }
     },
     "90942649c23a48f6a7be36adf5312f08": {
      "model_module": "@jupyter-widgets/controls",
      "model_module_version": "1.4.0",
      "model_name": "TextModel",
      "state": {
       "layout": "IPY_MODEL_8e7dfc79b0cd4e7eb9cfd806b1438ffb",
       "placeholder": "user_id",
       "style": "IPY_MODEL_f20b9acd86744a55a1e2a183c97d407c",
       "value": "5443278"
      }
     },
     "90b601a4189e499f88de7bf5274c3ca2": {
      "model_module": "@jupyter-widgets/controls",
      "model_module_version": "1.4.0",
      "model_name": "DatePickerModel",
      "state": {
       "description": "end date",
       "disabled": false,
       "layout": "IPY_MODEL_3398c5c258ca441899402aa4c0931e86",
       "style": "IPY_MODEL_0b12e99498634dbd8f2637b3053ac415"
      }
     },
     "90e4918f843541a1a430766fe1fd355f": {
      "model_module": "@jupyter-widgets/controls",
      "model_module_version": "1.4.0",
      "model_name": "GridBoxModel",
      "state": {
       "children": [
        "IPY_MODEL_107eb420833b49d78900a542ee93965a",
        "IPY_MODEL_141c7cb009344378baf64861562ea77b",
        "IPY_MODEL_0c8ffc728cbc47d8b8dbfc7777a789f9",
        "IPY_MODEL_5501d7523aeb4f3fa95a775e08291985"
       ],
       "layout": "IPY_MODEL_e193c12d0c2f43b1a610485ebbe2b2f5"
      }
     },
     "917e8e2b156a474789e81aa30af64fb6": {
      "model_module": "@jupyter-widgets/controls",
      "model_module_version": "1.4.0",
      "model_name": "DescriptionStyleModel",
      "state": {
       "description_width": ""
      }
     },
     "91b872059cb44a8db41d345e7bf54f8e": {
      "model_module": "@jupyter-widgets/base",
      "model_module_version": "1.1.0",
      "model_name": "LayoutModel",
      "state": {
       "grid_area": "footer",
       "width": "auto"
      }
     },
     "92c811601a6247fc97adf2f07ee69de8": {
      "model_module": "@jupyter-widgets/base",
      "model_module_version": "1.1.0",
      "model_name": "LayoutModel",
      "state": {}
     },
     "93087695446e464588cedc2655288b8f": {
      "model_module": "@jupyter-widgets/controls",
      "model_module_version": "1.4.0",
      "model_name": "ButtonModel",
      "state": {
       "button_style": "info",
       "description": "Get PageViews",
       "layout": "IPY_MODEL_4977fba437c544a88cffe16212d3b478",
       "style": "IPY_MODEL_3f8216da9eea4020af43e4c6fd008f36"
      }
     },
     "93341350faf948a280efd14649bf3571": {
      "model_module": "@jupyter-widgets/controls",
      "model_module_version": "1.4.0",
      "model_name": "DatePickerModel",
      "state": {
       "description": "start date",
       "disabled": false,
       "layout": "IPY_MODEL_240eab24257543c095a9868273d2a3af",
       "style": "IPY_MODEL_71c62d98972343969a2846ce6e2683df"
      }
     },
     "9445c7069f1a4bfbb1c5c7681fb490e5": {
      "model_module": "@jupyter-widgets/base",
      "model_module_version": "1.1.0",
      "model_name": "LayoutModel",
      "state": {
       "align_items": "center",
       "grid_area": "right",
       "width": "90%"
      }
     },
     "9447fcab9dfd4e60ae2eca7aed6dfdcc": {
      "model_module": "@jupyter-widgets/base",
      "model_module_version": "1.1.0",
      "model_name": "LayoutModel",
      "state": {
       "align_items": "center",
       "grid_area": "left",
       "width": "90%"
      }
     },
     "94daa38ee26346d29fd2c25bf8b8d92b": {
      "model_module": "@jupyter-widgets/base",
      "model_module_version": "1.1.0",
      "model_name": "LayoutModel",
      "state": {
       "align_items": "center",
       "grid_area": "right",
       "width": "90%"
      }
     },
     "9562dc2457cc45b48bcdba5a877e506f": {
      "model_module": "@jupyter-widgets/controls",
      "model_module_version": "1.4.0",
      "model_name": "DatePickerModel",
      "state": {
       "description": "end date",
       "disabled": false,
       "layout": "IPY_MODEL_4120ac721b5e4bfa82040234dbe4bc67",
       "style": "IPY_MODEL_40a6d11bb6e8498aa19a610759f6e84b"
      }
     },
     "957d1ed3eca843908f41bf02914e7e56": {
      "model_module": "@jupyter-widgets/base",
      "model_module_version": "1.1.0",
      "model_name": "LayoutModel",
      "state": {
       "grid_area": "footer",
       "width": "auto"
      }
     },
     "9672b68ef3b84ad8b7427da55801b978": {
      "model_module": "@jupyter-widgets/controls",
      "model_module_version": "1.4.0",
      "model_name": "DescriptionStyleModel",
      "state": {
       "description_width": ""
      }
     },
     "96d4cb7472eb4323afe35da0694edbef": {
      "model_module": "@jupyter-widgets/base",
      "model_module_version": "1.1.0",
      "model_name": "LayoutModel",
      "state": {
       "align_items": "center",
       "grid_area": "right",
       "width": "90%"
      }
     },
     "96e40bb5c5844c84b6a0034a17d22dba": {
      "model_module": "@jupyter-widgets/controls",
      "model_module_version": "1.4.0",
      "model_name": "DescriptionStyleModel",
      "state": {
       "description_width": ""
      }
     },
     "976c899af06344119326c4fe4abb0c47": {
      "model_module": "@jupyter-widgets/controls",
      "model_module_version": "1.4.0",
      "model_name": "ButtonStyleModel",
      "state": {}
     },
     "981a68419aa14eaf989e6c5d428f15d9": {
      "model_module": "@jupyter-widgets/controls",
      "model_module_version": "1.4.0",
      "model_name": "DatePickerModel",
      "state": {
       "description": "end date",
       "disabled": false,
       "layout": "IPY_MODEL_1fc9e05ba68c4e65820084adc264002b",
       "style": "IPY_MODEL_70f8561a3e5b455e8da2d2be5e7bb3bb"
      }
     },
     "99bac57e864f4cd39e82a494bb0abd20": {
      "model_module": "@jupyter-widgets/base",
      "model_module_version": "1.1.0",
      "model_name": "LayoutModel",
      "state": {
       "align_items": "center",
       "grid_area": "left",
       "width": "90%"
      }
     },
     "99ed655bff7b488da1b87eaa5f8a31cb": {
      "model_module": "@jupyter-widgets/controls",
      "model_module_version": "1.4.0",
      "model_name": "DescriptionStyleModel",
      "state": {
       "description_width": ""
      }
     },
     "9a30db570d874885af5854b4ae795c2e": {
      "model_module": "@jupyter-widgets/base",
      "model_module_version": "1.1.0",
      "model_name": "LayoutModel",
      "state": {
       "align_items": "center",
       "grid_area": "header",
       "width": "90%"
      }
     },
     "9afdbb99ff2c42feaa29948c15095bec": {
      "model_module": "@jupyter-widgets/controls",
      "model_module_version": "1.4.0",
      "model_name": "DropdownModel",
      "state": {
       "_options_labels": [
        "ALL",
        "API Token Scopes",
        "Account Domain Lookups",
        "Account Notifications",
        "Account Reports",
        "Accounts",
        "Admins",
        "Analytics",
        "Announcement External Feeds",
        "Announcements",
        "Appointment Groups",
        "Assignment Extensions",
        "Assignment Groups",
        "Assignments",
        "Authentication Providers",
        "Authentications Log",
        "Blueprint Courses",
        "Bookmarks",
        "Brand Configs",
        "Calendar Events",
        "Collaborations",
        "CommMessages",
        "Communication Channels",
        "Conferences",
        "Content Exports",
        "Content Migrations",
        "Content Security Policy Settings",
        "Conversations",
        "Course Audit log",
        "Course Quiz Extensions",
        "Courses",
        "Custom Gradebook Columns",
        "Discussion Topics",
        "Enrollment Terms",
        "Enrollments",
        "Error Reports",
        "External Tools",
        "Favorites",
        "Feature Flags",
        "Files",
        "Grade Change Log",
        "Gradebook History",
        "Grading Periods",
        "Grading Standards",
        "Group Categories",
        "Groups",
        "JWTs",
        "Late Policy",
        "LiveAssessments",
        "Logins",
        "Moderated Grading",
        "Modules",
        "Notification Preferences",
        "OAuth 2",
        "Outcome Groups",
        "Outcome Imports",
        "Outcome Results",
        "Outcomes",
        "Pages",
        "Peer Reviews",
        "Plagiarism Detection Platform Assignments",
        "Planner",
        "Poll Sessions",
        "PollChoices",
        "PollSubmissions",
        "Polls",
        "Proficiency Ratings",
        "Progress",
        "Quiz Assignment Overrides",
        "Quiz Extensions",
        "Quiz IP Filters",
        "Quiz Question Groups",
        "Quiz Questions",
        "Quiz Reports",
        "Quiz Statistics",
        "Quiz Submission Events",
        "Quiz Submission Files",
        "Quiz Submission Questions",
        "Quiz Submission User List",
        "Quiz Submissions",
        "Quizzes",
        "Roles",
        "Rubrics",
        "SIS Import Errors",
        "SIS Imports",
        "SIS Integration",
        "Search",
        "Sections",
        "Services",
        "Shared Brand Configs",
        "Submission Comments",
        "Submissions",
        "Tabs",
        "User Observees",
        "Users",
        "ePub Exports"
       ],
       "description": "Resource",
       "index": 0,
       "layout": "IPY_MODEL_4b4c0ea08ac741c5a79d1dafd2f4454d",
       "style": "IPY_MODEL_b4b63e689d3543979a124d3b8369dcdd"
      }
     },
     "9b2430c13a014dfaba497c0eff314c3b": {
      "model_module": "@jupyter-widgets/base",
      "model_module_version": "1.1.0",
      "model_name": "LayoutModel",
      "state": {
       "align_items": "center",
       "grid_area": "header",
       "width": "90%"
      }
     },
     "9b316d9af7f8442c9c17f0304a125eee": {
      "model_module": "@jupyter-widgets/controls",
      "model_module_version": "1.4.0",
      "model_name": "ButtonStyleModel",
      "state": {}
     },
     "9b37e01fc6f6497a824904c57c825384": {
      "model_module": "@jupyter-widgets/controls",
      "model_module_version": "1.4.0",
      "model_name": "DropdownModel",
      "state": {
       "_options_labels": [
        "ALL",
        "API Token Scopes",
        "Account Domain Lookups",
        "Account Notifications",
        "Account Reports",
        "Accounts",
        "Admins",
        "Analytics",
        "Announcement External Feeds",
        "Announcements",
        "Appointment Groups",
        "Assignment Extensions",
        "Assignment Groups",
        "Assignments",
        "Authentication Providers",
        "Authentications Log",
        "Blueprint Courses",
        "Bookmarks",
        "Brand Configs",
        "Calendar Events",
        "Collaborations",
        "CommMessages",
        "Communication Channels",
        "Conferences",
        "Content Exports",
        "Content Migrations",
        "Content Security Policy Settings",
        "Conversations",
        "Course Audit log",
        "Course Quiz Extensions",
        "Courses",
        "Custom Gradebook Columns",
        "Discussion Topics",
        "Enrollment Terms",
        "Enrollments",
        "Error Reports",
        "External Tools",
        "Favorites",
        "Feature Flags",
        "Files",
        "Grade Change Log",
        "Gradebook History",
        "Grading Periods",
        "Grading Standards",
        "Group Categories",
        "Groups",
        "JWTs",
        "Late Policy",
        "LiveAssessments",
        "Logins",
        "Moderated Grading",
        "Modules",
        "Notification Preferences",
        "OAuth 2",
        "Outcome Groups",
        "Outcome Imports",
        "Outcome Results",
        "Outcomes",
        "Pages",
        "Peer Reviews",
        "Plagiarism Detection Platform Assignments",
        "Planner",
        "Poll Sessions",
        "PollChoices",
        "PollSubmissions",
        "Polls",
        "Proficiency Ratings",
        "Progress",
        "Quiz Assignment Overrides",
        "Quiz Extensions",
        "Quiz IP Filters",
        "Quiz Question Groups",
        "Quiz Questions",
        "Quiz Reports",
        "Quiz Statistics",
        "Quiz Submission Events",
        "Quiz Submission Files",
        "Quiz Submission Questions",
        "Quiz Submission User List",
        "Quiz Submissions",
        "Quizzes",
        "Roles",
        "Rubrics",
        "SIS Import Errors",
        "SIS Imports",
        "SIS Integration",
        "Search",
        "Sections",
        "Services",
        "Shared Brand Configs",
        "Submission Comments",
        "Submissions",
        "Tabs",
        "User Observees",
        "Users",
        "ePub Exports"
       ],
       "description": "Resource",
       "index": 0,
       "layout": "IPY_MODEL_0dfdb3ecc4564f4a89691425ea07c3dc",
       "style": "IPY_MODEL_51f2ec14d8c94f26b83f96a545e2e922"
      }
     },
     "9b58df9d52654df6b60977a4d0051895": {
      "model_module": "@jupyter-widgets/base",
      "model_module_version": "1.1.0",
      "model_name": "LayoutModel",
      "state": {
       "align_items": "center",
       "grid_area": "right",
       "width": "90%"
      }
     },
     "9b947b3b401142319bf56a4c038d7814": {
      "model_module": "@jupyter-widgets/controls",
      "model_module_version": "1.4.0",
      "model_name": "DropdownModel",
      "state": {
       "_options_labels": [
        "ALL",
        "API Token Scopes",
        "Account Domain Lookups",
        "Account Notifications",
        "Account Reports",
        "Accounts",
        "Admins",
        "Analytics",
        "Announcement External Feeds",
        "Announcements",
        "Appointment Groups",
        "Assignment Extensions",
        "Assignment Groups",
        "Assignments",
        "Authentication Providers",
        "Authentications Log",
        "Blueprint Courses",
        "Bookmarks",
        "Brand Configs",
        "Calendar Events",
        "Collaborations",
        "CommMessages",
        "Communication Channels",
        "Conferences",
        "Content Exports",
        "Content Migrations",
        "Content Security Policy Settings",
        "Conversations",
        "Course Audit log",
        "Course Quiz Extensions",
        "Courses",
        "Custom Gradebook Columns",
        "Discussion Topics",
        "Enrollment Terms",
        "Enrollments",
        "Error Reports",
        "External Tools",
        "Favorites",
        "Feature Flags",
        "Files",
        "Grade Change Log",
        "Gradebook History",
        "Grading Periods",
        "Grading Standards",
        "Group Categories",
        "Groups",
        "JWTs",
        "Late Policy",
        "LiveAssessments",
        "Logins",
        "Moderated Grading",
        "Modules",
        "Notification Preferences",
        "OAuth 2",
        "Outcome Groups",
        "Outcome Imports",
        "Outcome Results",
        "Outcomes",
        "Pages",
        "Peer Reviews",
        "Plagiarism Detection Platform Assignments",
        "Planner",
        "Poll Sessions",
        "PollChoices",
        "PollSubmissions",
        "Polls",
        "Proficiency Ratings",
        "Progress",
        "Quiz Assignment Overrides",
        "Quiz Extensions",
        "Quiz IP Filters",
        "Quiz Question Groups",
        "Quiz Questions",
        "Quiz Reports",
        "Quiz Statistics",
        "Quiz Submission Events",
        "Quiz Submission Files",
        "Quiz Submission Questions",
        "Quiz Submission User List",
        "Quiz Submissions",
        "Quizzes",
        "Roles",
        "Rubrics",
        "SIS Import Errors",
        "SIS Imports",
        "SIS Integration",
        "Search",
        "Sections",
        "Services",
        "Shared Brand Configs",
        "Submission Comments",
        "Submissions",
        "Tabs",
        "User Observees",
        "Users",
        "ePub Exports"
       ],
       "description": "Resource",
       "index": 8,
       "layout": "IPY_MODEL_244be902b802440290203e6b7d8cf236",
       "style": "IPY_MODEL_16784f33fdce49eab4122d6fb8077adb"
      }
     },
     "9bcd7b6ce20f4e74a152102d10de6a6c": {
      "model_module": "@jupyter-widgets/controls",
      "model_module_version": "1.4.0",
      "model_name": "DescriptionStyleModel",
      "state": {
       "description_width": ""
      }
     },
     "9bd62c779e3e4ca2a09a23b4b6ed3311": {
      "model_module": "@jupyter-widgets/output",
      "model_module_version": "1.0.0",
      "model_name": "OutputModel",
      "state": {
       "layout": "IPY_MODEL_82930fb9bd6440c7b32ba50e112e5569"
      }
     },
     "9c42707c0a5c4a14a17bc7bb53ca6f80": {
      "model_module": "@jupyter-widgets/controls",
      "model_module_version": "1.4.0",
      "model_name": "SelectModel",
      "state": {
       "_options_labels": [
        "Production",
        "Test",
        "Beta"
       ],
       "description": "Environment:",
       "index": 0,
       "layout": "IPY_MODEL_def257ef9e31402f865869ef411f917c",
       "rows": 3,
       "style": "IPY_MODEL_0aa5cb55ac0643a6aca0b3c4f8029539"
      }
     },
     "9d6f1dda3c374846bb54c091a48db0a7": {
      "model_module": "@jupyter-widgets/controls",
      "model_module_version": "1.4.0",
      "model_name": "TextModel",
      "state": {
       "layout": "IPY_MODEL_d718736ac4a147d89ce343bb5381a9ba",
       "placeholder": "user_id",
       "style": "IPY_MODEL_d05a0b62349140cd843f8c8bf06e1f73",
       "value": "5443278"
      }
     },
     "9e318ca5190344f19456e768f531e0eb": {
      "model_module": "@jupyter-widgets/output",
      "model_module_version": "1.0.0",
      "model_name": "OutputModel",
      "state": {
       "layout": "IPY_MODEL_81ce764660384f00b2b208245d2cb402",
       "outputs": [
        {
         "data": {
          "text/html": "<div>\n<style scoped>\n    .dataframe tbody tr th:only-of-type {\n        vertical-align: middle;\n    }\n\n    .dataframe tbody tr th {\n        vertical-align: top;\n    }\n\n    .dataframe thead th {\n        text-align: right;\n    }\n</style>\n<table border=\"1\" class=\"dataframe\">\n  <thead>\n    <tr style=\"text-align: right;\">\n      <th></th>\n      <th>action</th>\n      <th>controller</th>\n      <th>path</th>\n      <th>resource</th>\n      <th>resource_name</th>\n      <th>scope</th>\n      <th>verb</th>\n    </tr>\n  </thead>\n  <tbody>\n    <tr>\n      <th>1</th>\n      <td>create</td>\n      <td>account_notifications</td>\n      <td>/api/v1/accounts/:account_id/account_notificat...</td>\n      <td>account_notifications</td>\n      <td>Account Notifications</td>\n      <td>url:POST|/api/v1/accounts/:account_id/account_...</td>\n      <td>POST</td>\n    </tr>\n    <tr>\n      <th>2</th>\n      <td>update</td>\n      <td>account_notifications</td>\n      <td>/api/v1/accounts/:account_id/account_notificat...</td>\n      <td>account_notifications</td>\n      <td>Account Notifications</td>\n      <td>url:PUT|/api/v1/accounts/:account_id/account_n...</td>\n      <td>PUT</td>\n    </tr>\n    <tr>\n      <th>3</th>\n      <td>user_index</td>\n      <td>account_notifications</td>\n      <td>/api/v1/accounts/:account_id/account_notificat...</td>\n      <td>account_notifications</td>\n      <td>Account Notifications</td>\n      <td>url:GET|/api/v1/accounts/:account_id/account_n...</td>\n      <td>GET</td>\n    </tr>\n    <tr>\n      <th>4</th>\n      <td>show</td>\n      <td>account_notifications</td>\n      <td>/api/v1/accounts/:account_id/account_notificat...</td>\n      <td>account_notifications</td>\n      <td>Account Notifications</td>\n      <td>url:GET|/api/v1/accounts/:account_id/account_n...</td>\n      <td>GET</td>\n    </tr>\n    <tr>\n      <th>5</th>\n      <td>user_close_notification</td>\n      <td>account_notifications</td>\n      <td>/api/v1/accounts/:account_id/account_notificat...</td>\n      <td>account_notifications</td>\n      <td>Account Notifications</td>\n      <td>url:DELETE|/api/v1/accounts/:account_id/accoun...</td>\n      <td>DELETE</td>\n    </tr>\n  </tbody>\n</table>\n</div>",
          "text/plain": "                    action             controller  \\\n1                   create  account_notifications   \n2                   update  account_notifications   \n3               user_index  account_notifications   \n4                     show  account_notifications   \n5  user_close_notification  account_notifications   \n\n                                                path               resource  \\\n1  /api/v1/accounts/:account_id/account_notificat...  account_notifications   \n2  /api/v1/accounts/:account_id/account_notificat...  account_notifications   \n3  /api/v1/accounts/:account_id/account_notificat...  account_notifications   \n4  /api/v1/accounts/:account_id/account_notificat...  account_notifications   \n5  /api/v1/accounts/:account_id/account_notificat...  account_notifications   \n\n           resource_name                                              scope  \\\n1  Account Notifications  url:POST|/api/v1/accounts/:account_id/account_...   \n2  Account Notifications  url:PUT|/api/v1/accounts/:account_id/account_n...   \n3  Account Notifications  url:GET|/api/v1/accounts/:account_id/account_n...   \n4  Account Notifications  url:GET|/api/v1/accounts/:account_id/account_n...   \n5  Account Notifications  url:DELETE|/api/v1/accounts/:account_id/accoun...   \n\n     verb  \n1    POST  \n2     PUT  \n3     GET  \n4     GET  \n5  DELETE  "
         },
         "metadata": {},
         "output_type": "display_data"
        }
       ]
      }
     },
     "9ee3c4c4d37c479cba88bee9d2173b4a": {
      "model_module": "@jupyter-widgets/base",
      "model_module_version": "1.1.0",
      "model_name": "LayoutModel",
      "state": {
       "padding": "5px 20px 20px 20px",
       "width": "40%"
      }
     },
     "9f31dc97a2c74adeae85a00a25e23dea": {
      "model_module": "@jupyter-widgets/controls",
      "model_module_version": "1.4.0",
      "model_name": "DatePickerModel",
      "state": {
       "description": "end date",
       "disabled": false,
       "layout": "IPY_MODEL_2456d98d4e2b464d8570eca33cc8f4c1",
       "style": "IPY_MODEL_55083c80c7d740f1982f23d0c25fc795"
      }
     },
     "9f80862e20314a9e98cf55d1ebf7a546": {
      "model_module": "@jupyter-widgets/controls",
      "model_module_version": "1.4.0",
      "model_name": "DescriptionStyleModel",
      "state": {
       "description_width": ""
      }
     },
     "9f91f896f91f4d928919eadb1b99b04b": {
      "model_module": "@jupyter-widgets/base",
      "model_module_version": "1.1.0",
      "model_name": "LayoutModel",
      "state": {}
     },
     "9fb10cad8a3445c3a2e27cab11b55e09": {
      "model_module": "@jupyter-widgets/controls",
      "model_module_version": "1.4.0",
      "model_name": "DropdownModel",
      "state": {
       "_options_labels": [
        "ALL",
        "API Token Scopes",
        "Account Domain Lookups",
        "Account Notifications",
        "Account Reports",
        "Accounts",
        "Admins",
        "Analytics",
        "Announcement External Feeds",
        "Announcements",
        "Appointment Groups",
        "Assignment Extensions",
        "Assignment Groups",
        "Assignments",
        "Authentication Providers",
        "Authentications Log",
        "Blueprint Courses",
        "Bookmarks",
        "Brand Configs",
        "Calendar Events",
        "Collaborations",
        "CommMessages",
        "Communication Channels",
        "Conferences",
        "Content Exports",
        "Content Migrations",
        "Content Security Policy Settings",
        "Conversations",
        "Course Audit log",
        "Course Quiz Extensions",
        "Courses",
        "Custom Gradebook Columns",
        "Discussion Topics",
        "Enrollment Terms",
        "Enrollments",
        "Error Reports",
        "External Tools",
        "Favorites",
        "Feature Flags",
        "Files",
        "Grade Change Log",
        "Gradebook History",
        "Grading Periods",
        "Grading Standards",
        "Group Categories",
        "Groups",
        "JWTs",
        "Late Policy",
        "LiveAssessments",
        "Logins",
        "Moderated Grading",
        "Modules",
        "Notification Preferences",
        "OAuth 2",
        "Outcome Groups",
        "Outcome Imports",
        "Outcome Results",
        "Outcomes",
        "Pages",
        "Peer Reviews",
        "Plagiarism Detection Platform Assignments",
        "Planner",
        "Poll Sessions",
        "PollChoices",
        "PollSubmissions",
        "Polls",
        "Proficiency Ratings",
        "Progress",
        "Quiz Assignment Overrides",
        "Quiz Extensions",
        "Quiz IP Filters",
        "Quiz Question Groups",
        "Quiz Questions",
        "Quiz Reports",
        "Quiz Statistics",
        "Quiz Submission Events",
        "Quiz Submission Files",
        "Quiz Submission Questions",
        "Quiz Submission User List",
        "Quiz Submissions",
        "Quizzes",
        "Roles",
        "Rubrics",
        "SIS Import Errors",
        "SIS Imports",
        "SIS Integration",
        "Search",
        "Sections",
        "Services",
        "Shared Brand Configs",
        "Submission Comments",
        "Submissions",
        "Tabs",
        "User Observees",
        "Users",
        "ePub Exports"
       ],
       "description": "Resource",
       "index": 0,
       "layout": "IPY_MODEL_cbaecc56897848738243aef3dc23ac59",
       "style": "IPY_MODEL_27be864cd9c24385924bd729b6893419"
      }
     },
     "a114772619f64f108916aad3f04ae518": {
      "model_module": "@jupyter-widgets/base",
      "model_module_version": "1.1.0",
      "model_name": "LayoutModel",
      "state": {
       "grid_area": "footer",
       "width": "auto"
      }
     },
     "a12f0c83860c4055a4ae3f7ff13524da": {
      "model_module": "@jupyter-widgets/controls",
      "model_module_version": "1.4.0",
      "model_name": "ButtonStyleModel",
      "state": {}
     },
     "a16d39aab8544e80aa8e9fb2bc353a7e": {
      "model_module": "@jupyter-widgets/controls",
      "model_module_version": "1.4.0",
      "model_name": "DescriptionStyleModel",
      "state": {
       "description_width": ""
      }
     },
     "a1f2af2c21684da29a319202d583ee0f": {
      "model_module": "@jupyter-widgets/controls",
      "model_module_version": "1.4.0",
      "model_name": "DescriptionStyleModel",
      "state": {
       "description_width": ""
      }
     },
     "a30db90f75514ff998209b402d0a5384": {
      "model_module": "@jupyter-widgets/controls",
      "model_module_version": "1.4.0",
      "model_name": "GridBoxModel",
      "state": {
       "children": [
        "IPY_MODEL_3b3f2e3c8eac4656934ffbba9ca606b2",
        "IPY_MODEL_ba2ff00d585d4879ab5af5340c154162",
        "IPY_MODEL_db8350f3d65d412e87ceb4e2d700465a",
        "IPY_MODEL_b10ccbdec6924fa9a62de10187b0c3a5"
       ],
       "layout": "IPY_MODEL_b2098a4273224af9a125d81823c43267"
      }
     },
     "a3797988527a454cb9d2896dd7fb302b": {
      "model_module": "@jupyter-widgets/controls",
      "model_module_version": "1.4.0",
      "model_name": "DescriptionStyleModel",
      "state": {
       "description_width": ""
      }
     },
     "a3b983a30e5a4037a7621a9c35a00c97": {
      "model_module": "@jupyter-widgets/controls",
      "model_module_version": "1.4.0",
      "model_name": "ButtonModel",
      "state": {
       "button_style": "info",
       "description": "Get PageViews",
       "layout": "IPY_MODEL_055c59cee700463dac4f79404d531c86",
       "style": "IPY_MODEL_976c899af06344119326c4fe4abb0c47"
      }
     },
     "a3d720ee007342ed81fe1c9908b93996": {
      "model_module": "@jupyter-widgets/controls",
      "model_module_version": "1.4.0",
      "model_name": "DatePickerModel",
      "state": {
       "description": "end date",
       "disabled": false,
       "layout": "IPY_MODEL_002580c9eb5c416c8547d95d9f9f4005",
       "style": "IPY_MODEL_0742db89baf043009c3e57524f88667d"
      }
     },
     "a56336d1aafc4510b466f7c398101da7": {
      "model_module": "@jupyter-widgets/controls",
      "model_module_version": "1.4.0",
      "model_name": "DescriptionStyleModel",
      "state": {
       "description_width": ""
      }
     },
     "a569edcca8654d8f9a7cffeb3073c2f1": {
      "model_module": "@jupyter-widgets/controls",
      "model_module_version": "1.4.0",
      "model_name": "TextModel",
      "state": {
       "layout": "IPY_MODEL_9a30db570d874885af5854b4ae795c2e",
       "placeholder": "user_id",
       "style": "IPY_MODEL_26a80e7aac3d438c83209c860d3d972e"
      }
     },
     "a5c715ea75d14d3d8dd70e6ed8aa5e1c": {
      "model_module": "@jupyter-widgets/controls",
      "model_module_version": "1.4.0",
      "model_name": "DatePickerModel",
      "state": {
       "description": "end date",
       "disabled": false,
       "layout": "IPY_MODEL_94daa38ee26346d29fd2c25bf8b8d92b",
       "style": "IPY_MODEL_cd6d48864df048fd93bf4f80b7268c96"
      }
     },
     "a5d669e664564872902d18fb32c0665a": {
      "model_module": "@jupyter-widgets/controls",
      "model_module_version": "1.4.0",
      "model_name": "DescriptionStyleModel",
      "state": {
       "description_width": ""
      }
     },
     "a61142c68ba24f6dbe49e5f35825b19d": {
      "model_module": "@jupyter-widgets/base",
      "model_module_version": "1.1.0",
      "model_name": "LayoutModel",
      "state": {
       "align_items": "center",
       "grid_area": "left",
       "width": "90%"
      }
     },
     "a625d393f96d4c1d9dffffc19c2eaa23": {
      "model_module": "@jupyter-widgets/controls",
      "model_module_version": "1.4.0",
      "model_name": "DatePickerModel",
      "state": {
       "description": "start date",
       "disabled": false,
       "layout": "IPY_MODEL_73042360c8a64d828ac3a18af4a6d7b9",
       "style": "IPY_MODEL_a16d39aab8544e80aa8e9fb2bc353a7e"
      }
     },
     "a688ff7241a04e2583e34428e933b0bc": {
      "model_module": "@jupyter-widgets/controls",
      "model_module_version": "1.4.0",
      "model_name": "GridBoxModel",
      "state": {
       "children": [
        "IPY_MODEL_90942649c23a48f6a7be36adf5312f08",
        "IPY_MODEL_ff122e6af15d4e1e88e34a7aff829d6e",
        "IPY_MODEL_62ccaba572a84bc8aa7d359891cf584b",
        "IPY_MODEL_3ce1c098a03e42b1b1c49a084adb96b4"
       ],
       "layout": "IPY_MODEL_f490c39d1cc64b048bae9c19900dba01"
      }
     },
     "a708703e0afa435fac4a224a8c6937cf": {
      "model_module": "@jupyter-widgets/controls",
      "model_module_version": "1.4.0",
      "model_name": "ButtonModel",
      "state": {
       "button_style": "info",
       "description": "Submit",
       "layout": "IPY_MODEL_c1e7e0d5204d47f89804ba5281e8e3e6",
       "style": "IPY_MODEL_11bfc74d07b7457fa605b17f2a32cbb1"
      }
     },
     "a7528af4c559448ab93ef9d4cd4e081b": {
      "model_module": "@jupyter-widgets/controls",
      "model_module_version": "1.4.0",
      "model_name": "ButtonModel",
      "state": {
       "button_style": "info",
       "description": "Get PageViews",
       "layout": "IPY_MODEL_58c29e3fef2b4dd6b1ac1385bfc7e035",
       "style": "IPY_MODEL_1f4ec903102843edb4fc56d1b8b370aa"
      }
     },
     "a76b5aaec5684bed84a97ddf34aa04c4": {
      "model_module": "@jupyter-widgets/output",
      "model_module_version": "1.0.0",
      "model_name": "OutputModel",
      "state": {
       "layout": "IPY_MODEL_c3758c139d554577a9b743262e3674e3"
      }
     },
     "a7a2735ff9b34d24917a4387f70d15f4": {
      "model_module": "@jupyter-widgets/controls",
      "model_module_version": "1.4.0",
      "model_name": "ButtonModel",
      "state": {
       "button_style": "info",
       "description": "Submit",
       "layout": "IPY_MODEL_957d1ed3eca843908f41bf02914e7e56",
       "style": "IPY_MODEL_8f8dcd14b72f4ed5ae9c924aef2d3816"
      }
     },
     "a838674a7eb9433eb0cf7b2d2edc33e9": {
      "model_module": "@jupyter-widgets/base",
      "model_module_version": "1.1.0",
      "model_name": "LayoutModel",
      "state": {}
     },
     "a8705497eee2401495717bf5756b47ec": {
      "model_module": "@jupyter-widgets/base",
      "model_module_version": "1.1.0",
      "model_name": "LayoutModel",
      "state": {
       "grid_template_areas": "\n            \" . header header .\"\n            \"left left right right\"\n            \" . footer footer . \"\n            ",
       "grid_template_columns": "25% 25% 25% 25%",
       "grid_template_rows": "auto auto auto",
       "margin": "2% 0% 2% 10%",
       "width": "80%"
      }
     },
     "a887c069997b4c18b1639a3a0f031e0d": {
      "model_module": "@jupyter-widgets/base",
      "model_module_version": "1.1.0",
      "model_name": "LayoutModel",
      "state": {}
     },
     "a908bee927cc4462aff706d1a4b59533": {
      "model_module": "@jupyter-widgets/base",
      "model_module_version": "1.1.0",
      "model_name": "LayoutModel",
      "state": {}
     },
     "a947f9bdb7e849899a7dacfb61e89531": {
      "model_module": "@jupyter-widgets/base",
      "model_module_version": "1.1.0",
      "model_name": "LayoutModel",
      "state": {
       "align_items": "center",
       "grid_area": "left",
       "width": "90%"
      }
     },
     "a979d32e627540e691db55ac350c8eff": {
      "model_module": "@jupyter-widgets/base",
      "model_module_version": "1.1.0",
      "model_name": "LayoutModel",
      "state": {
       "grid_area": "footer",
       "width": "auto"
      }
     },
     "a9d5203d9ffa45819d8d2272db926c00": {
      "model_module": "@jupyter-widgets/controls",
      "model_module_version": "1.4.0",
      "model_name": "DatePickerModel",
      "state": {
       "description": "end date",
       "disabled": false,
       "layout": "IPY_MODEL_eff08638ddea41cda84a2b9e19551a32",
       "style": "IPY_MODEL_203902d1c67a4d74992d1bf19a906177"
      }
     },
     "a9d74bd661794f07a148cf5e556c5e6a": {
      "model_module": "@jupyter-widgets/controls",
      "model_module_version": "1.4.0",
      "model_name": "DatePickerModel",
      "state": {
       "description": "start date",
       "disabled": false,
       "layout": "IPY_MODEL_1e8678c8a4c94a96866c47833fa1bfaa",
       "style": "IPY_MODEL_2aaa344e71ce4257a3a68b6ad3827549"
      }
     },
     "aa046f4095ed4c51bd7211045b99e397": {
      "model_module": "@jupyter-widgets/output",
      "model_module_version": "1.0.0",
      "model_name": "OutputModel",
      "state": {
       "layout": "IPY_MODEL_a908bee927cc4462aff706d1a4b59533"
      }
     },
     "aa0f1068d7684b649750e044ab6f9c75": {
      "model_module": "@jupyter-widgets/controls",
      "model_module_version": "1.4.0",
      "model_name": "DescriptionStyleModel",
      "state": {
       "description_width": ""
      }
     },
     "aafda767398f4af786952f5550904bca": {
      "model_module": "@jupyter-widgets/controls",
      "model_module_version": "1.4.0",
      "model_name": "DatePickerModel",
      "state": {
       "description": "start date",
       "disabled": false,
       "layout": "IPY_MODEL_d2b983538bbe476ab23a52167668bcb3",
       "style": "IPY_MODEL_3b8ecb114eb2443481ad2b4b74d7383c"
      }
     },
     "ab55ff67fe0e4dfcb529a2bd00f24422": {
      "model_module": "@jupyter-widgets/base",
      "model_module_version": "1.1.0",
      "model_name": "LayoutModel",
      "state": {
       "align_items": "center",
       "grid_area": "header",
       "width": "90%"
      }
     },
     "aba5fe818070417dbec3f3bbe42d7e19": {
      "model_module": "@jupyter-widgets/base",
      "model_module_version": "1.1.0",
      "model_name": "LayoutModel",
      "state": {}
     },
     "ac385159cf334dc5835c92fd95ffd5e8": {
      "model_module": "@jupyter-widgets/controls",
      "model_module_version": "1.4.0",
      "model_name": "ButtonModel",
      "state": {
       "button_style": "warning",
       "description": "NOT Authorized",
       "disabled": true,
       "icon": "unlock",
       "layout": "IPY_MODEL_042186f27c084cc598065f34cf60ab4a",
       "style": "IPY_MODEL_7a0f411c9021436d9e90d47139a3a353"
      }
     },
     "ac69bc8d30584e07bddc0896f25d4084": {
      "model_module": "@jupyter-widgets/base",
      "model_module_version": "1.1.0",
      "model_name": "LayoutModel",
      "state": {
       "align_items": "center",
       "grid_area": "right",
       "width": "90%"
      }
     },
     "ac91fcf9c7514b42bba8f2e5cf06f8b4": {
      "model_module": "@jupyter-widgets/output",
      "model_module_version": "1.0.0",
      "model_name": "OutputModel",
      "state": {
       "layout": "IPY_MODEL_7088c869e2b04f71b9df290b21ad97fd"
      }
     },
     "acb3dafe346f43cda4ef94320667b2bb": {
      "model_module": "@jupyter-widgets/controls",
      "model_module_version": "1.4.0",
      "model_name": "GridBoxModel",
      "state": {
       "children": [
        "IPY_MODEL_dc2ea1247c6c441c87246c248041bbaf",
        "IPY_MODEL_1c711970fc804a16aa1ed5df5acef297",
        "IPY_MODEL_52bb8e8eb7ba42cbb130f9c6bccad946",
        "IPY_MODEL_b2b4528a7e10420ebe63cb7589952c6e"
       ],
       "layout": "IPY_MODEL_4e8fcbabc79f412daae60ea3209cea84"
      }
     },
     "acf739889dc94f9a86cbdc3abf9158f0": {
      "model_module": "@jupyter-widgets/output",
      "model_module_version": "1.0.0",
      "model_name": "OutputModel",
      "state": {
       "layout": "IPY_MODEL_b14bac16070e4e41b320369e4fe44416",
       "outputs": [
        {
         "data": {
          "text/html": "<div>\n<style scoped>\n    .dataframe tbody tr th:only-of-type {\n        vertical-align: middle;\n    }\n\n    .dataframe tbody tr th {\n        vertical-align: top;\n    }\n\n    .dataframe thead th {\n        text-align: right;\n    }\n</style>\n<table border=\"1\" class=\"dataframe\">\n  <thead>\n    <tr style=\"text-align: right;\">\n      <th></th>\n      <th>action</th>\n      <th>controller</th>\n      <th>path</th>\n      <th>resource</th>\n      <th>resource_name</th>\n      <th>scope</th>\n      <th>verb</th>\n    </tr>\n  </thead>\n  <tbody>\n    <tr>\n      <th>41</th>\n      <td>index</td>\n      <td>external_feeds</td>\n      <td>/api/v1/courses/:course_id/external_feeds</td>\n      <td>announcement_external_feeds</td>\n      <td>Announcement External Feeds</td>\n      <td>url:GET|/api/v1/courses/:course_id/external_feeds</td>\n      <td>GET</td>\n    </tr>\n    <tr>\n      <th>42</th>\n      <td>create</td>\n      <td>external_feeds</td>\n      <td>/api/v1/courses/:course_id/external_feeds</td>\n      <td>announcement_external_feeds</td>\n      <td>Announcement External Feeds</td>\n      <td>url:POST|/api/v1/courses/:course_id/external_f...</td>\n      <td>POST</td>\n    </tr>\n    <tr>\n      <th>43</th>\n      <td>destroy</td>\n      <td>external_feeds</td>\n      <td>/api/v1/courses/:course_id/external_feeds/:ext...</td>\n      <td>announcement_external_feeds</td>\n      <td>Announcement External Feeds</td>\n      <td>url:DELETE|/api/v1/courses/:course_id/external...</td>\n      <td>DELETE</td>\n    </tr>\n    <tr>\n      <th>44</th>\n      <td>index</td>\n      <td>external_feeds</td>\n      <td>/api/v1/groups/:group_id/external_feeds</td>\n      <td>announcement_external_feeds</td>\n      <td>Announcement External Feeds</td>\n      <td>url:GET|/api/v1/groups/:group_id/external_feeds</td>\n      <td>GET</td>\n    </tr>\n    <tr>\n      <th>45</th>\n      <td>create</td>\n      <td>external_feeds</td>\n      <td>/api/v1/groups/:group_id/external_feeds</td>\n      <td>announcement_external_feeds</td>\n      <td>Announcement External Feeds</td>\n      <td>url:POST|/api/v1/groups/:group_id/external_feeds</td>\n      <td>POST</td>\n    </tr>\n    <tr>\n      <th>46</th>\n      <td>destroy</td>\n      <td>external_feeds</td>\n      <td>/api/v1/groups/:group_id/external_feeds/:exter...</td>\n      <td>announcement_external_feeds</td>\n      <td>Announcement External Feeds</td>\n      <td>url:DELETE|/api/v1/groups/:group_id/external_f...</td>\n      <td>DELETE</td>\n    </tr>\n  </tbody>\n</table>\n</div>",
          "text/plain": "     action      controller  \\\n41    index  external_feeds   \n42   create  external_feeds   \n43  destroy  external_feeds   \n44    index  external_feeds   \n45   create  external_feeds   \n46  destroy  external_feeds   \n\n                                                 path  \\\n41          /api/v1/courses/:course_id/external_feeds   \n42          /api/v1/courses/:course_id/external_feeds   \n43  /api/v1/courses/:course_id/external_feeds/:ext...   \n44            /api/v1/groups/:group_id/external_feeds   \n45            /api/v1/groups/:group_id/external_feeds   \n46  /api/v1/groups/:group_id/external_feeds/:exter...   \n\n                       resource                resource_name  \\\n41  announcement_external_feeds  Announcement External Feeds   \n42  announcement_external_feeds  Announcement External Feeds   \n43  announcement_external_feeds  Announcement External Feeds   \n44  announcement_external_feeds  Announcement External Feeds   \n45  announcement_external_feeds  Announcement External Feeds   \n46  announcement_external_feeds  Announcement External Feeds   \n\n                                                scope    verb  \n41  url:GET|/api/v1/courses/:course_id/external_feeds     GET  \n42  url:POST|/api/v1/courses/:course_id/external_f...    POST  \n43  url:DELETE|/api/v1/courses/:course_id/external...  DELETE  \n44    url:GET|/api/v1/groups/:group_id/external_feeds     GET  \n45   url:POST|/api/v1/groups/:group_id/external_feeds    POST  \n46  url:DELETE|/api/v1/groups/:group_id/external_f...  DELETE  "
         },
         "metadata": {},
         "output_type": "display_data"
        }
       ]
      }
     },
     "ad1686eb2baf4675a015efe4ccd5121c": {
      "model_module": "@jupyter-widgets/base",
      "model_module_version": "1.1.0",
      "model_name": "LayoutModel",
      "state": {}
     },
     "ad77c8e03755468dacfe99aba8644052": {
      "model_module": "@jupyter-widgets/base",
      "model_module_version": "1.1.0",
      "model_name": "LayoutModel",
      "state": {
       "align_items": "center",
       "grid_area": "header",
       "width": "90%"
      }
     },
     "ae42736942ee4b5d94988ed12e028b46": {
      "model_module": "@jupyter-widgets/base",
      "model_module_version": "1.1.0",
      "model_name": "LayoutModel",
      "state": {
       "grid_template_areas": "\n            \" . header header .\"\n            \"left left right right\"\n            \" . footer footer . \"\n            ",
       "grid_template_columns": "25% 25% 25% 25%",
       "grid_template_rows": "auto auto auto",
       "margin": "2% 0% 2% 10%",
       "width": "80%"
      }
     },
     "ae4698c837e4404ea68d592941fa9c3a": {
      "model_module": "@jupyter-widgets/base",
      "model_module_version": "1.1.0",
      "model_name": "LayoutModel",
      "state": {
       "grid_area": "footer",
       "width": "auto"
      }
     },
     "ae6fd2be2bcd4e1abb828dd023bdba4e": {
      "model_module": "@jupyter-widgets/base",
      "model_module_version": "1.1.0",
      "model_name": "LayoutModel",
      "state": {
       "align_items": "center",
       "grid_area": "header",
       "width": "90%"
      }
     },
     "af0af6e1c5c947e5ac9667d849ea578b": {
      "model_module": "@jupyter-widgets/base",
      "model_module_version": "1.1.0",
      "model_name": "LayoutModel",
      "state": {}
     },
     "afc417c905f74d75b301ed7970c079ce": {
      "model_module": "@jupyter-widgets/base",
      "model_module_version": "1.1.0",
      "model_name": "LayoutModel",
      "state": {
       "align_items": "center",
       "grid_area": "header",
       "width": "90%"
      }
     },
     "b0a5bf2bcc0e494e86e52668688d9360": {
      "model_module": "@jupyter-widgets/controls",
      "model_module_version": "1.4.0",
      "model_name": "ButtonModel",
      "state": {
       "button_style": "info",
       "description": "Submit",
       "layout": "IPY_MODEL_dd52eee8d1054e508c949de18e0394c0",
       "style": "IPY_MODEL_4b370f6abf1b4a53824e8717b3095e90"
      }
     },
     "b10ccbdec6924fa9a62de10187b0c3a5": {
      "model_module": "@jupyter-widgets/controls",
      "model_module_version": "1.4.0",
      "model_name": "ButtonModel",
      "state": {
       "button_style": "info",
       "description": "Get PageViews",
       "layout": "IPY_MODEL_91b872059cb44a8db41d345e7bf54f8e",
       "style": "IPY_MODEL_143773847497466995fdddd6818336ff"
      }
     },
     "b14bac16070e4e41b320369e4fe44416": {
      "model_module": "@jupyter-widgets/base",
      "model_module_version": "1.1.0",
      "model_name": "LayoutModel",
      "state": {}
     },
     "b1911c737c27439bafce0c00311d138c": {
      "model_module": "@jupyter-widgets/controls",
      "model_module_version": "1.4.0",
      "model_name": "DescriptionStyleModel",
      "state": {
       "description_width": ""
      }
     },
     "b2098a4273224af9a125d81823c43267": {
      "model_module": "@jupyter-widgets/base",
      "model_module_version": "1.1.0",
      "model_name": "LayoutModel",
      "state": {
       "grid_template_areas": "\n            \" . header header .\"\n            \"left left right right\"\n            \" . footer footer . \"\n            ",
       "grid_template_columns": "25% 25% 25% 25%",
       "grid_template_rows": "auto auto auto",
       "margin": "2% 0% 2% 10%",
       "width": "80%"
      }
     },
     "b2b4528a7e10420ebe63cb7589952c6e": {
      "model_module": "@jupyter-widgets/controls",
      "model_module_version": "1.4.0",
      "model_name": "ButtonModel",
      "state": {
       "button_style": "info",
       "description": "Get PageViews",
       "layout": "IPY_MODEL_f86267f2f438436ba479da5c348109da",
       "style": "IPY_MODEL_6573bc6d879045f6b4e592b43da35895"
      }
     },
     "b2ec2ac30aaa4d568a6cd9986cde6ff3": {
      "model_module": "@jupyter-widgets/base",
      "model_module_version": "1.1.0",
      "model_name": "LayoutModel",
      "state": {}
     },
     "b34748e611bc4452a883a343cddb8c90": {
      "model_module": "@jupyter-widgets/base",
      "model_module_version": "1.1.0",
      "model_name": "LayoutModel",
      "state": {
       "grid_area": "footer",
       "width": "auto"
      }
     },
     "b3fc051620554655b37717c6432d90c5": {
      "model_module": "@jupyter-widgets/controls",
      "model_module_version": "1.4.0",
      "model_name": "DatePickerModel",
      "state": {
       "description": "start date",
       "disabled": false,
       "layout": "IPY_MODEL_e430038ef8814e78a6326e4b40048d6c",
       "style": "IPY_MODEL_3f880c14d2e147059269e0af8ffa8b11"
      }
     },
     "b43871ec78da4c248d717d9a6844455b": {
      "model_module": "@jupyter-widgets/base",
      "model_module_version": "1.1.0",
      "model_name": "LayoutModel",
      "state": {
       "grid_template_areas": "\n            \" . header header .\"\n            \"left left right right\"\n            \" . footer footer . \"\n            ",
       "grid_template_columns": "25% 25% 25% 25%",
       "grid_template_rows": "auto auto auto",
       "margin": "2% 0% 2% 10%",
       "width": "80%"
      }
     },
     "b486813e77cb42c18b0878c2892e8759": {
      "model_module": "@jupyter-widgets/controls",
      "model_module_version": "1.4.0",
      "model_name": "ButtonModel",
      "state": {
       "button_style": "success",
       "description": "Authorized",
       "disabled": true,
       "icon": "lock",
       "layout": "IPY_MODEL_fc67ea5c29af4c01ac5af4c217a16636",
       "style": "IPY_MODEL_4ab5f6a5f8424cc4a824a5f65d58ab6f"
      }
     },
     "b4a383b5c2024be5b7fb73b5340f21d4": {
      "model_module": "@jupyter-widgets/controls",
      "model_module_version": "1.4.0",
      "model_name": "DropdownModel",
      "state": {
       "_options_labels": [
        "ALL",
        "API Token Scopes",
        "Account Domain Lookups",
        "Account Notifications",
        "Account Reports",
        "Accounts",
        "Admins",
        "Analytics",
        "Announcement External Feeds",
        "Announcements",
        "Appointment Groups",
        "Assignment Extensions",
        "Assignment Groups",
        "Assignments",
        "Authentication Providers",
        "Authentications Log",
        "Blueprint Courses",
        "Bookmarks",
        "Brand Configs",
        "Calendar Events",
        "Collaborations",
        "CommMessages",
        "Communication Channels",
        "Conferences",
        "Content Exports",
        "Content Migrations",
        "Content Security Policy Settings",
        "Conversations",
        "Course Audit log",
        "Course Quiz Extensions",
        "Courses",
        "Custom Gradebook Columns",
        "Discussion Topics",
        "Enrollment Terms",
        "Enrollments",
        "Error Reports",
        "External Tools",
        "Favorites",
        "Feature Flags",
        "Files",
        "Grade Change Log",
        "Gradebook History",
        "Grading Periods",
        "Grading Standards",
        "Group Categories",
        "Groups",
        "JWTs",
        "Late Policy",
        "LiveAssessments",
        "Logins",
        "Moderated Grading",
        "Modules",
        "Notification Preferences",
        "OAuth 2",
        "Outcome Groups",
        "Outcome Imports",
        "Outcome Results",
        "Outcomes",
        "Pages",
        "Peer Reviews",
        "Plagiarism Detection Platform Assignments",
        "Planner",
        "Poll Sessions",
        "PollChoices",
        "PollSubmissions",
        "Polls",
        "Proficiency Ratings",
        "Progress",
        "Quiz Assignment Overrides",
        "Quiz Extensions",
        "Quiz IP Filters",
        "Quiz Question Groups",
        "Quiz Questions",
        "Quiz Reports",
        "Quiz Statistics",
        "Quiz Submission Events",
        "Quiz Submission Files",
        "Quiz Submission Questions",
        "Quiz Submission User List",
        "Quiz Submissions",
        "Quizzes",
        "Roles",
        "Rubrics",
        "SIS Import Errors",
        "SIS Imports",
        "SIS Integration",
        "Search",
        "Sections",
        "Services",
        "Shared Brand Configs",
        "Submission Comments",
        "Submissions",
        "Tabs",
        "User Observees",
        "Users",
        "ePub Exports"
       ],
       "description": "Resource",
       "index": 0,
       "layout": "IPY_MODEL_db7dafa1ebd34850854b5ead52647126",
       "style": "IPY_MODEL_c5b634513ddf43289ca6cf5d13a16cec"
      }
     },
     "b4b63e689d3543979a124d3b8369dcdd": {
      "model_module": "@jupyter-widgets/controls",
      "model_module_version": "1.4.0",
      "model_name": "DescriptionStyleModel",
      "state": {
       "description_width": ""
      }
     },
     "b526bc019e3e4e24bf311f0c90667472": {
      "model_module": "@jupyter-widgets/base",
      "model_module_version": "1.1.0",
      "model_name": "LayoutModel",
      "state": {
       "grid_template_areas": "\n            \" . header header .\"\n            \"left left right right\"\n            \" . footer footer . \"\n            ",
       "grid_template_columns": "25% 25% 25% 25%",
       "grid_template_rows": "auto auto auto",
       "margin": "2% 0% 2% 10%",
       "width": "80%"
      }
     },
     "b53cc8a7945c4232bdb8772f5d8388d5": {
      "model_module": "@jupyter-widgets/controls",
      "model_module_version": "1.4.0",
      "model_name": "DescriptionStyleModel",
      "state": {
       "description_width": ""
      }
     },
     "b779283ba6764af88e9a4aebe2c6036b": {
      "model_module": "@jupyter-widgets/controls",
      "model_module_version": "1.4.0",
      "model_name": "TextModel",
      "state": {
       "layout": "IPY_MODEL_ba2e27b1b7b54f5d9de39312e109df20",
       "placeholder": "user_id",
       "style": "IPY_MODEL_f047729d80124655b88655c9bee6bb12",
       "value": "5443278"
      }
     },
     "b7cb73e5ff074d4386a276b485f3d0a2": {
      "model_module": "@jupyter-widgets/controls",
      "model_module_version": "1.4.0",
      "model_name": "DescriptionStyleModel",
      "state": {
       "description_width": ""
      }
     },
     "b7d2d18eb1ed4d21b4ea4ae74ad48faf": {
      "model_module": "@jupyter-widgets/controls",
      "model_module_version": "1.4.0",
      "model_name": "DatePickerModel",
      "state": {
       "description": "start date",
       "disabled": false,
       "layout": "IPY_MODEL_78bb5ea61e42450bb0e6152cc794843b",
       "style": "IPY_MODEL_dc78241d35b7464ebc831f5f0a0e8794"
      }
     },
     "b80c90fafff0419783b4d8b04d9cdc6c": {
      "model_module": "@jupyter-widgets/base",
      "model_module_version": "1.1.0",
      "model_name": "LayoutModel",
      "state": {
       "grid_area": "footer",
       "width": "auto"
      }
     },
     "b8c564a7282d4ddfa5b0a64ecf3627fc": {
      "model_module": "@jupyter-widgets/base",
      "model_module_version": "1.1.0",
      "model_name": "LayoutModel",
      "state": {
       "grid_template_areas": "\n            \" . header header .\"\n            \"left left right right\"\n            \" . footer footer . \"\n            ",
       "grid_template_columns": "25% 25% 25% 25%",
       "grid_template_rows": "auto auto auto",
       "margin": "2% 0% 2% 10%",
       "width": "80%"
      }
     },
     "b972c3ad7b484ad583970824f2e32744": {
      "model_module": "@jupyter-widgets/controls",
      "model_module_version": "1.4.0",
      "model_name": "ButtonModel",
      "state": {
       "button_style": "info",
       "description": "Get PageViews",
       "layout": "IPY_MODEL_53020596f34b44a0940e127ff7dcd43c",
       "style": "IPY_MODEL_6d83204cf82d4c4986c1aeb265536418"
      }
     },
     "b9b2336566374fbab0ba2571a260ea60": {
      "model_module": "@jupyter-widgets/controls",
      "model_module_version": "1.4.0",
      "model_name": "GridBoxModel",
      "state": {
       "children": [
        "IPY_MODEL_188873ad659740458359c1f8e5a6113b",
        "IPY_MODEL_a9d74bd661794f07a148cf5e556c5e6a",
        "IPY_MODEL_581bc592ee404b76941341928eecf95a",
        "IPY_MODEL_dc674d1338fe442aa80f51b118398959"
       ],
       "layout": "IPY_MODEL_d841a6569242420ca7e8e0c77153b3fc"
      }
     },
     "b9faae91d408483a8e6259c3dc10a7fa": {
      "model_module": "@jupyter-widgets/base",
      "model_module_version": "1.1.0",
      "model_name": "LayoutModel",
      "state": {}
     },
     "ba29fde52a364afeb1a11256b822d324": {
      "model_module": "@jupyter-widgets/base",
      "model_module_version": "1.1.0",
      "model_name": "LayoutModel",
      "state": {
       "align_items": "center",
       "grid_area": "left",
       "width": "90%"
      }
     },
     "ba2e27b1b7b54f5d9de39312e109df20": {
      "model_module": "@jupyter-widgets/base",
      "model_module_version": "1.1.0",
      "model_name": "LayoutModel",
      "state": {
       "align_items": "center",
       "grid_area": "header",
       "width": "90%"
      }
     },
     "ba2ff00d585d4879ab5af5340c154162": {
      "model_module": "@jupyter-widgets/controls",
      "model_module_version": "1.4.0",
      "model_name": "DatePickerModel",
      "state": {
       "description": "start date",
       "disabled": false,
       "layout": "IPY_MODEL_c14cd457d1024d31add07dc56def6583",
       "style": "IPY_MODEL_01ff8aac057348dfbd1635ca65bf3ea3"
      }
     },
     "ba61a2d4f7504bb59a4192407f6d780c": {
      "model_module": "@jupyter-widgets/base",
      "model_module_version": "1.1.0",
      "model_name": "LayoutModel",
      "state": {
       "align_items": "center",
       "grid_area": "left",
       "width": "90%"
      }
     },
     "ba824608f1cb4383bd280d4670ca1986": {
      "model_module": "@jupyter-widgets/base",
      "model_module_version": "1.1.0",
      "model_name": "LayoutModel",
      "state": {
       "align_items": "center",
       "grid_area": "right",
       "width": "90%"
      }
     },
     "ba9466a14f22460188755f37f58e2945": {
      "model_module": "@jupyter-widgets/output",
      "model_module_version": "1.0.0",
      "model_name": "OutputModel",
      "state": {
       "layout": "IPY_MODEL_7e0eba2c08d34c28901c1fdfcfce589b"
      }
     },
     "bb17b524bfcd4e47ade313895c3dae76": {
      "model_module": "@jupyter-widgets/controls",
      "model_module_version": "1.4.0",
      "model_name": "ButtonStyleModel",
      "state": {}
     },
     "bb600b57992644839862925ab315219e": {
      "model_module": "@jupyter-widgets/base",
      "model_module_version": "1.1.0",
      "model_name": "LayoutModel",
      "state": {
       "align_items": "center",
       "grid_area": "header",
       "width": "90%"
      }
     },
     "bba50c490afb4f2aab8413860f26d3af": {
      "model_module": "@jupyter-widgets/base",
      "model_module_version": "1.1.0",
      "model_name": "LayoutModel",
      "state": {}
     },
     "bbde9813fe8043f4a9d0e0c6a7fe1105": {
      "model_module": "@jupyter-widgets/controls",
      "model_module_version": "1.4.0",
      "model_name": "DescriptionStyleModel",
      "state": {
       "description_width": ""
      }
     },
     "bc360be5057b4e699be66ada59c93b63": {
      "model_module": "@jupyter-widgets/controls",
      "model_module_version": "1.4.0",
      "model_name": "DatePickerModel",
      "state": {
       "description": "start date",
       "disabled": false,
       "layout": "IPY_MODEL_6c0a5c3f15a54692917283513fd1b492",
       "style": "IPY_MODEL_f8bc518259e04df985e79521c3595ecc"
      }
     },
     "bc39802f5225474aa6d7552ad2adaedd": {
      "model_module": "@jupyter-widgets/base",
      "model_module_version": "1.1.0",
      "model_name": "LayoutModel",
      "state": {}
     },
     "bc3e691f81e44139a5079f2edc4560eb": {
      "model_module": "@jupyter-widgets/base",
      "model_module_version": "1.1.0",
      "model_name": "LayoutModel",
      "state": {
       "align_items": "center",
       "grid_area": "left",
       "width": "90%"
      }
     },
     "bd3d7f56930d49ef8b40f369e6fa9369": {
      "model_module": "@jupyter-widgets/controls",
      "model_module_version": "1.4.0",
      "model_name": "SelectModel",
      "state": {
       "_options_labels": [
        "Production",
        "Test",
        "Beta"
       ],
       "description": "Environment:",
       "index": 0,
       "layout": "IPY_MODEL_f4a480c3208d4c539ca9d23d1b8c7a37",
       "rows": 3,
       "style": "IPY_MODEL_29f40275dbdb481b813f9cca3f382302"
      }
     },
     "bdb4da55562848a8b310d0efeeee4626": {
      "model_module": "@jupyter-widgets/base",
      "model_module_version": "1.1.0",
      "model_name": "LayoutModel",
      "state": {
       "padding": "20px 20px 20px 20px",
       "width": "40%"
      }
     },
     "bdcb0151d2bc4f879c243c9be80572c7": {
      "model_module": "@jupyter-widgets/controls",
      "model_module_version": "1.4.0",
      "model_name": "DescriptionStyleModel",
      "state": {
       "description_width": ""
      }
     },
     "be19a3320452452a9d6c8a85533bf04b": {
      "model_module": "@jupyter-widgets/controls",
      "model_module_version": "1.4.0",
      "model_name": "DescriptionStyleModel",
      "state": {
       "description_width": ""
      }
     },
     "be2f6e6aada245dfaff4924fa129d47e": {
      "model_module": "@jupyter-widgets/output",
      "model_module_version": "1.0.0",
      "model_name": "OutputModel",
      "state": {
       "layout": "IPY_MODEL_e5e3f197c6604d7ca8f88c083975a6f6"
      }
     },
     "be40e97908824765ac6c2f961a988d4a": {
      "model_module": "@jupyter-widgets/base",
      "model_module_version": "1.1.0",
      "model_name": "LayoutModel",
      "state": {
       "align_items": "center",
       "grid_area": "left",
       "width": "90%"
      }
     },
     "be6a6a575d3746fb87873bedb30df1dc": {
      "model_module": "@jupyter-widgets/controls",
      "model_module_version": "1.4.0",
      "model_name": "DescriptionStyleModel",
      "state": {
       "description_width": ""
      }
     },
     "be6fd02bc33b443d8699776cf38eeacd": {
      "model_module": "@jupyter-widgets/controls",
      "model_module_version": "1.4.0",
      "model_name": "TextModel",
      "state": {
       "layout": "IPY_MODEL_f46be6f2161343659f098935ea921ba9",
       "placeholder": "user_id",
       "style": "IPY_MODEL_1d780711d03f4ff9be1a02b1ef73f658"
      }
     },
     "be93f6d0f2694fcb877ea91ec399c86c": {
      "model_module": "@jupyter-widgets/controls",
      "model_module_version": "1.4.0",
      "model_name": "ButtonModel",
      "state": {
       "button_style": "info",
       "description": "Get PageViews",
       "layout": "IPY_MODEL_7cfe041de0674dc6800f26b90a8277b1",
       "style": "IPY_MODEL_ce7ea658d2194c71bb72d5e671849ee8"
      }
     },
     "bf9d96c0a8e34660934f7f46e1f195d2": {
      "model_module": "@jupyter-widgets/controls",
      "model_module_version": "1.4.0",
      "model_name": "DescriptionStyleModel",
      "state": {
       "description_width": ""
      }
     },
     "bff96f25cef142dc8cb44648d70b1f9c": {
      "model_module": "@jupyter-widgets/controls",
      "model_module_version": "1.4.0",
      "model_name": "ButtonStyleModel",
      "state": {}
     },
     "c0785627a10a46e69601aada380cd93f": {
      "model_module": "@jupyter-widgets/controls",
      "model_module_version": "1.4.0",
      "model_name": "TextModel",
      "state": {
       "layout": "IPY_MODEL_75863744273f4827b41a1c254cf32f1d",
       "placeholder": "user_id",
       "style": "IPY_MODEL_55bcad88c5464fa4ab3262dfcc131eee",
       "value": "5443278"
      }
     },
     "c0ee400bb3cd43ab849f0d1394f1cdd9": {
      "model_module": "@jupyter-widgets/controls",
      "model_module_version": "1.4.0",
      "model_name": "GridBoxModel",
      "state": {
       "children": [
        "IPY_MODEL_b486813e77cb42c18b0878c2892e8759",
        "IPY_MODEL_6d0b4f88bae24b018d620fa9e1e72ca6",
        "IPY_MODEL_8a2b110d08414681b48d186a2e0f7a1d",
        "IPY_MODEL_a7a2735ff9b34d24917a4387f70d15f4"
       ],
       "layout": "IPY_MODEL_4a5f4af77e574eee8588d24828d4f176"
      }
     },
     "c13ce7a8f5214b27946d7cdd7ee67ce4": {
      "model_module": "@jupyter-widgets/controls",
      "model_module_version": "1.4.0",
      "model_name": "DescriptionStyleModel",
      "state": {
       "description_width": ""
      }
     },
     "c14cd457d1024d31add07dc56def6583": {
      "model_module": "@jupyter-widgets/base",
      "model_module_version": "1.1.0",
      "model_name": "LayoutModel",
      "state": {
       "align_items": "center",
       "grid_area": "left",
       "width": "90%"
      }
     },
     "c17d447b096747fea417c279fbab2d80": {
      "model_module": "@jupyter-widgets/base",
      "model_module_version": "1.1.0",
      "model_name": "LayoutModel",
      "state": {
       "grid_template_areas": "\n            \" . header header .\"\n            \"left left right right\"\n            \" . footer footer . \"\n            ",
       "grid_template_columns": "25% 25% 25% 25%",
       "grid_template_rows": "auto auto auto",
       "margin": "2% 0% 2% 10%",
       "width": "80%"
      }
     },
     "c19e706e2cc9490d96f860b53167a84b": {
      "model_module": "@jupyter-widgets/controls",
      "model_module_version": "1.4.0",
      "model_name": "DatePickerModel",
      "state": {
       "description": "end date",
       "disabled": false,
       "layout": "IPY_MODEL_9445c7069f1a4bfbb1c5c7681fb490e5",
       "style": "IPY_MODEL_5ea6b8a9baf3470c8c1bcf6d5e18a3d8"
      }
     },
     "c19fefb85ce64ecc8e81e7544fd3a714": {
      "model_module": "@jupyter-widgets/controls",
      "model_module_version": "1.4.0",
      "model_name": "DropdownModel",
      "state": {
       "_options_labels": [
        "ALL",
        "API Token Scopes",
        "Account Domain Lookups",
        "Account Notifications",
        "Account Reports",
        "Accounts",
        "Admins",
        "Analytics",
        "Announcement External Feeds",
        "Announcements",
        "Appointment Groups",
        "Assignment Extensions",
        "Assignment Groups",
        "Assignments",
        "Authentication Providers",
        "Authentications Log",
        "Blueprint Courses",
        "Bookmarks",
        "Brand Configs",
        "Calendar Events",
        "Collaborations",
        "CommMessages",
        "Communication Channels",
        "Conferences",
        "Content Exports",
        "Content Migrations",
        "Content Security Policy Settings",
        "Conversations",
        "Course Audit log",
        "Course Quiz Extensions",
        "Courses",
        "Custom Gradebook Columns",
        "Discussion Topics",
        "Enrollment Terms",
        "Enrollments",
        "Error Reports",
        "External Tools",
        "Favorites",
        "Feature Flags",
        "Files",
        "Grade Change Log",
        "Gradebook History",
        "Grading Periods",
        "Grading Standards",
        "Group Categories",
        "Groups",
        "JWTs",
        "Late Policy",
        "LiveAssessments",
        "Logins",
        "Moderated Grading",
        "Modules",
        "Notification Preferences",
        "OAuth 2",
        "Outcome Groups",
        "Outcome Imports",
        "Outcome Results",
        "Outcomes",
        "Pages",
        "Peer Reviews",
        "Plagiarism Detection Platform Assignments",
        "Planner",
        "Poll Sessions",
        "PollChoices",
        "PollSubmissions",
        "Polls",
        "Proficiency Ratings",
        "Progress",
        "Quiz Assignment Overrides",
        "Quiz Extensions",
        "Quiz IP Filters",
        "Quiz Question Groups",
        "Quiz Questions",
        "Quiz Reports",
        "Quiz Statistics",
        "Quiz Submission Events",
        "Quiz Submission Files",
        "Quiz Submission Questions",
        "Quiz Submission User List",
        "Quiz Submissions",
        "Quizzes",
        "Roles",
        "Rubrics",
        "SIS Import Errors",
        "SIS Imports",
        "SIS Integration",
        "Search",
        "Sections",
        "Services",
        "Shared Brand Configs",
        "Submission Comments",
        "Submissions",
        "Tabs",
        "User Observees",
        "Users",
        "ePub Exports"
       ],
       "description": "Resource",
       "index": 29,
       "layout": "IPY_MODEL_8a04d3c54bfc4146a3c1f77f0e808837",
       "style": "IPY_MODEL_4dd44addbb794cd6917b4f251075260b"
      }
     },
     "c1ad6c9417f746a2b9a7af27d891ca15": {
      "model_module": "@jupyter-widgets/controls",
      "model_module_version": "1.4.0",
      "model_name": "TextModel",
      "state": {
       "layout": "IPY_MODEL_ee855118576842439f77997de695d8e4",
       "placeholder": "user_id",
       "style": "IPY_MODEL_4fee228f907e4d3ea7b7af0c79b904cd",
       "value": "5443278"
      }
     },
     "c1dafea644c64b9da8e30e9901ab5556": {
      "model_module": "@jupyter-widgets/controls",
      "model_module_version": "1.4.0",
      "model_name": "DescriptionStyleModel",
      "state": {
       "description_width": ""
      }
     },
     "c1e7e0d5204d47f89804ba5281e8e3e6": {
      "model_module": "@jupyter-widgets/base",
      "model_module_version": "1.1.0",
      "model_name": "LayoutModel",
      "state": {
       "grid_area": "footer",
       "width": "auto"
      }
     },
     "c24127b325ab496598e1e78d496b503f": {
      "model_module": "@jupyter-widgets/base",
      "model_module_version": "1.1.0",
      "model_name": "LayoutModel",
      "state": {
       "grid_area": "footer",
       "width": "auto"
      }
     },
     "c24a5131d2bf4abe8f586feff5641d9c": {
      "model_module": "@jupyter-widgets/base",
      "model_module_version": "1.1.0",
      "model_name": "LayoutModel",
      "state": {}
     },
     "c2b333b81f2747eb84bb93db40a468a3": {
      "model_module": "@jupyter-widgets/controls",
      "model_module_version": "1.4.0",
      "model_name": "DatePickerModel",
      "state": {
       "description": "start date",
       "disabled": false,
       "layout": "IPY_MODEL_c8068be4759a4df781d490f7d783e840",
       "style": "IPY_MODEL_272571a295344a01975ee41b121eb032"
      }
     },
     "c3758c139d554577a9b743262e3674e3": {
      "model_module": "@jupyter-widgets/base",
      "model_module_version": "1.1.0",
      "model_name": "LayoutModel",
      "state": {}
     },
     "c3950e69c2a24626b022996627b03b6f": {
      "model_module": "@jupyter-widgets/controls",
      "model_module_version": "1.4.0",
      "model_name": "ButtonStyleModel",
      "state": {}
     },
     "c3badd76d9fe426e89411733e4251b66": {
      "model_module": "@jupyter-widgets/controls",
      "model_module_version": "1.4.0",
      "model_name": "ButtonStyleModel",
      "state": {}
     },
     "c3dedfdd94234042ad163a3e1b99030d": {
      "model_module": "@jupyter-widgets/controls",
      "model_module_version": "1.4.0",
      "model_name": "TextModel",
      "state": {
       "layout": "IPY_MODEL_79e46b088cfe4c7fb1ccb9e841d6344a",
       "placeholder": "user_id",
       "style": "IPY_MODEL_705cade1b76f48908addf0b99a3953db",
       "value": "5443278"
      }
     },
     "c444f5581fb1441cbbe988ca7afff747": {
      "model_module": "@jupyter-widgets/output",
      "model_module_version": "1.0.0",
      "model_name": "OutputModel",
      "state": {
       "layout": "IPY_MODEL_1006450621f74183b8589c3321539b4e"
      }
     },
     "c49428ab0fdd4e97914d7934e207d8c2": {
      "model_module": "@jupyter-widgets/controls",
      "model_module_version": "1.4.0",
      "model_name": "ButtonStyleModel",
      "state": {}
     },
     "c4a41191b2574d0aae513fea9ae25b35": {
      "model_module": "@jupyter-widgets/controls",
      "model_module_version": "1.4.0",
      "model_name": "ButtonModel",
      "state": {
       "button_style": "info",
       "description": "Get PageViews",
       "layout": "IPY_MODEL_64e00bdc23d64a8a91fa815d9893803f",
       "style": "IPY_MODEL_fb8a2bd0e2f14dc6bdc45c8ca4541203"
      }
     },
     "c502c28cc2354c8da8fbf9272574ff5e": {
      "model_module": "@jupyter-widgets/controls",
      "model_module_version": "1.4.0",
      "model_name": "DatePickerModel",
      "state": {
       "description": "end date",
       "disabled": false,
       "layout": "IPY_MODEL_9b58df9d52654df6b60977a4d0051895",
       "style": "IPY_MODEL_be19a3320452452a9d6c8a85533bf04b"
      }
     },
     "c5362f274a7745b08c23d27da2166f9d": {
      "model_module": "@jupyter-widgets/output",
      "model_module_version": "1.0.0",
      "model_name": "OutputModel",
      "state": {
       "layout": "IPY_MODEL_7ce92ffbda834334b881e90d0a35acc5",
       "outputs": [
        {
         "data": {
          "text/html": "<div>\n<style scoped>\n    .dataframe tbody tr th:only-of-type {\n        vertical-align: middle;\n    }\n\n    .dataframe tbody tr th {\n        vertical-align: top;\n    }\n\n    .dataframe thead th {\n        text-align: right;\n    }\n</style>\n<table border=\"1\" class=\"dataframe\">\n  <thead>\n    <tr style=\"text-align: right;\">\n      <th></th>\n      <th>action</th>\n      <th>app_name</th>\n      <th>asset_type</th>\n      <th>asset_user_access_id</th>\n      <th>context_type</th>\n      <th>contributed</th>\n      <th>controller</th>\n      <th>created_at</th>\n      <th>developer_key_id</th>\n      <th>http_method</th>\n      <th>...</th>\n      <th>links</th>\n      <th>participated</th>\n      <th>remote_ip</th>\n      <th>render_time</th>\n      <th>session_id</th>\n      <th>summarized</th>\n      <th>updated_at</th>\n      <th>url</th>\n      <th>user_agent</th>\n      <th>user_request</th>\n    </tr>\n  </thead>\n  <tbody>\n    <tr>\n      <th>0</th>\n      <td>api_show</td>\n      <td>User-Generated</td>\n      <td>None</td>\n      <td>None</td>\n      <td>None</td>\n      <td>False</td>\n      <td>users</td>\n      <td>2019-05-13T16:17:06Z</td>\n      <td>1.700000e+14</td>\n      <td>get</td>\n      <td>...</td>\n      <td>{'user': 5443278, 'context': None, 'asset': No...</td>\n      <td>False</td>\n      <td>165.123.108.90</td>\n      <td>0.097454</td>\n      <td>beab170c46511dba9ed93366d342a52d</td>\n      <td>None</td>\n      <td>2019-05-13T16:17:06Z</td>\n      <td>https://canvas.upenn.edu/api/v1/users/5443278</td>\n      <td>python-requests/2.21.0</td>\n      <td>None</td>\n    </tr>\n    <tr>\n      <th>1</th>\n      <td>api_show</td>\n      <td>User-Generated</td>\n      <td>None</td>\n      <td>None</td>\n      <td>None</td>\n      <td>False</td>\n      <td>users</td>\n      <td>2019-05-13T16:16:58Z</td>\n      <td>1.700000e+14</td>\n      <td>get</td>\n      <td>...</td>\n      <td>{'user': 5443278, 'context': None, 'asset': No...</td>\n      <td>False</td>\n      <td>165.123.108.90</td>\n      <td>0.089420</td>\n      <td>9c90d8519be400f2ed12f251866b9c64</td>\n      <td>None</td>\n      <td>2019-05-13T16:16:58Z</td>\n      <td>https://canvas.upenn.edu/api/v1/users/5443278</td>\n      <td>python-requests/2.21.0</td>\n      <td>None</td>\n    </tr>\n    <tr>\n      <th>2</th>\n      <td>api_show</td>\n      <td>User-Generated</td>\n      <td>None</td>\n      <td>None</td>\n      <td>None</td>\n      <td>False</td>\n      <td>users</td>\n      <td>2019-05-13T16:15:41Z</td>\n      <td>1.700000e+14</td>\n      <td>get</td>\n      <td>...</td>\n      <td>{'user': 5443278, 'context': None, 'asset': No...</td>\n      <td>False</td>\n      <td>165.123.108.90</td>\n      <td>0.111146</td>\n      <td>dc988c40f29b52abbafb140655d2723e</td>\n      <td>None</td>\n      <td>2019-05-13T16:15:41Z</td>\n      <td>https://canvas.upenn.edu/api/v1/users/5443278</td>\n      <td>python-requests/2.21.0</td>\n      <td>None</td>\n    </tr>\n    <tr>\n      <th>3</th>\n      <td>api_show</td>\n      <td>User-Generated</td>\n      <td>None</td>\n      <td>None</td>\n      <td>None</td>\n      <td>False</td>\n      <td>users</td>\n      <td>2019-05-13T16:15:40Z</td>\n      <td>1.700000e+14</td>\n      <td>get</td>\n      <td>...</td>\n      <td>{'user': 5443278, 'context': None, 'asset': No...</td>\n      <td>False</td>\n      <td>165.123.108.90</td>\n      <td>0.067307</td>\n      <td>ed47cf756b1f6c759caa17da47a430fb</td>\n      <td>None</td>\n      <td>2019-05-13T16:15:40Z</td>\n      <td>https://canvas.upenn.edu/api/v1/users/5443278</td>\n      <td>python-requests/2.21.0</td>\n      <td>None</td>\n    </tr>\n    <tr>\n      <th>4</th>\n      <td>api_show</td>\n      <td>User-Generated</td>\n      <td>None</td>\n      <td>None</td>\n      <td>None</td>\n      <td>False</td>\n      <td>users</td>\n      <td>2019-05-13T16:15:40Z</td>\n      <td>1.700000e+14</td>\n      <td>get</td>\n      <td>...</td>\n      <td>{'user': 5443278, 'context': None, 'asset': No...</td>\n      <td>False</td>\n      <td>165.123.108.90</td>\n      <td>0.085913</td>\n      <td>1b60f5c1308c92d21de3b361cc115d62</td>\n      <td>None</td>\n      <td>2019-05-13T16:15:40Z</td>\n      <td>https://canvas.upenn.edu/api/v1/users/5443278</td>\n      <td>python-requests/2.21.0</td>\n      <td>None</td>\n    </tr>\n    <tr>\n      <th>5</th>\n      <td>api_show</td>\n      <td>User-Generated</td>\n      <td>None</td>\n      <td>None</td>\n      <td>None</td>\n      <td>False</td>\n      <td>users</td>\n      <td>2019-05-13T16:15:39Z</td>\n      <td>1.700000e+14</td>\n      <td>get</td>\n      <td>...</td>\n      <td>{'user': 5443278, 'context': None, 'asset': No...</td>\n      <td>False</td>\n      <td>165.123.108.90</td>\n      <td>0.118818</td>\n      <td>3dcf2805c912f0133ac20fbad8191622</td>\n      <td>None</td>\n      <td>2019-05-13T16:15:39Z</td>\n      <td>https://canvas.upenn.edu/api/v1/users/5443278</td>\n      <td>python-requests/2.21.0</td>\n      <td>None</td>\n    </tr>\n    <tr>\n      <th>6</th>\n      <td>api_show</td>\n      <td>User-Generated</td>\n      <td>None</td>\n      <td>None</td>\n      <td>None</td>\n      <td>False</td>\n      <td>users</td>\n      <td>2019-05-13T16:15:39Z</td>\n      <td>1.700000e+14</td>\n      <td>get</td>\n      <td>...</td>\n      <td>{'user': 5443278, 'context': None, 'asset': No...</td>\n      <td>False</td>\n      <td>165.123.108.90</td>\n      <td>0.094588</td>\n      <td>58921565c269fd68c58fc8dce41d1dc6</td>\n      <td>None</td>\n      <td>2019-05-13T16:15:39Z</td>\n      <td>https://canvas.upenn.edu/api/v1/users/5443278</td>\n      <td>python-requests/2.21.0</td>\n      <td>None</td>\n    </tr>\n    <tr>\n      <th>7</th>\n      <td>api_show</td>\n      <td>User-Generated</td>\n      <td>None</td>\n      <td>None</td>\n      <td>None</td>\n      <td>False</td>\n      <td>users</td>\n      <td>2019-05-13T16:15:38Z</td>\n      <td>1.700000e+14</td>\n      <td>get</td>\n      <td>...</td>\n      <td>{'user': 5443278, 'context': None, 'asset': No...</td>\n      <td>False</td>\n      <td>165.123.108.90</td>\n      <td>0.078694</td>\n      <td>ec4e080a7c78b6e8d80a443352d15456</td>\n      <td>None</td>\n      <td>2019-05-13T16:15:38Z</td>\n      <td>https://canvas.upenn.edu/api/v1/users/5443278</td>\n      <td>python-requests/2.21.0</td>\n      <td>None</td>\n    </tr>\n    <tr>\n      <th>8</th>\n      <td>api_show</td>\n      <td>User-Generated</td>\n      <td>None</td>\n      <td>None</td>\n      <td>None</td>\n      <td>False</td>\n      <td>users</td>\n      <td>2019-05-13T16:14:43Z</td>\n      <td>1.700000e+14</td>\n      <td>get</td>\n      <td>...</td>\n      <td>{'user': 5443278, 'context': None, 'asset': No...</td>\n      <td>False</td>\n      <td>165.123.108.90</td>\n      <td>0.080964</td>\n      <td>d0c7e22cf96e9fb2758bc800dc98b90f</td>\n      <td>None</td>\n      <td>2019-05-13T16:14:43Z</td>\n      <td>https://canvas.upenn.edu/api/v1/users/5443278</td>\n      <td>python-requests/2.21.0</td>\n      <td>None</td>\n    </tr>\n    <tr>\n      <th>9</th>\n      <td>api_show</td>\n      <td>User-Generated</td>\n      <td>None</td>\n      <td>None</td>\n      <td>None</td>\n      <td>False</td>\n      <td>users</td>\n      <td>2019-05-13T16:14:25Z</td>\n      <td>1.700000e+14</td>\n      <td>get</td>\n      <td>...</td>\n      <td>{'user': 5443278, 'context': None, 'asset': No...</td>\n      <td>False</td>\n      <td>165.123.108.90</td>\n      <td>0.270937</td>\n      <td>ab322aa787cbcbce8e849029c42c175c</td>\n      <td>None</td>\n      <td>2019-05-13T16:14:25Z</td>\n      <td>https://canvas.upenn.edu/api/v1/users/5443278</td>\n      <td>python-requests/2.21.0</td>\n      <td>None</td>\n    </tr>\n    <tr>\n      <th>10</th>\n      <td>api_show</td>\n      <td>User-Generated</td>\n      <td>None</td>\n      <td>None</td>\n      <td>None</td>\n      <td>False</td>\n      <td>users</td>\n      <td>2019-05-13T16:14:13Z</td>\n      <td>1.700000e+14</td>\n      <td>get</td>\n      <td>...</td>\n      <td>{'user': 5443278, 'context': None, 'asset': No...</td>\n      <td>False</td>\n      <td>165.123.108.90</td>\n      <td>0.160249</td>\n      <td>0e24a65d0007161e9cc223cc7f569097</td>\n      <td>None</td>\n      <td>2019-05-13T16:14:13Z</td>\n      <td>https://canvas.upenn.edu/api/v1/users/5443278</td>\n      <td>python-requests/2.21.0</td>\n      <td>None</td>\n    </tr>\n    <tr>\n      <th>11</th>\n      <td>api_show</td>\n      <td>User-Generated</td>\n      <td>None</td>\n      <td>None</td>\n      <td>None</td>\n      <td>False</td>\n      <td>users</td>\n      <td>2019-05-13T16:07:58Z</td>\n      <td>1.700000e+14</td>\n      <td>get</td>\n      <td>...</td>\n      <td>{'user': 5443278, 'context': None, 'asset': No...</td>\n      <td>False</td>\n      <td>165.123.108.90</td>\n      <td>0.121798</td>\n      <td>ce0274d3490130a6260304477f6007e7</td>\n      <td>None</td>\n      <td>2019-05-13T16:07:58Z</td>\n      <td>https://canvas.upenn.edu/api/v1/users/5443278</td>\n      <td>python-requests/2.21.0</td>\n      <td>None</td>\n    </tr>\n    <tr>\n      <th>12</th>\n      <td>api_show</td>\n      <td>User-Generated</td>\n      <td>None</td>\n      <td>None</td>\n      <td>None</td>\n      <td>False</td>\n      <td>users</td>\n      <td>2019-05-13T16:07:18Z</td>\n      <td>1.700000e+14</td>\n      <td>get</td>\n      <td>...</td>\n      <td>{'user': 5443278, 'context': None, 'asset': No...</td>\n      <td>False</td>\n      <td>165.123.108.90</td>\n      <td>0.074698</td>\n      <td>f56a3107749fed99cf93ae494d6066d6</td>\n      <td>None</td>\n      <td>2019-05-13T16:07:18Z</td>\n      <td>https://canvas.upenn.edu/api/v1/users/5443278</td>\n      <td>python-requests/2.21.0</td>\n      <td>None</td>\n    </tr>\n    <tr>\n      <th>13</th>\n      <td>api_show</td>\n      <td>User-Generated</td>\n      <td>None</td>\n      <td>None</td>\n      <td>None</td>\n      <td>False</td>\n      <td>users</td>\n      <td>2019-05-13T16:06:59Z</td>\n      <td>1.700000e+14</td>\n      <td>get</td>\n      <td>...</td>\n      <td>{'user': 5443278, 'context': None, 'asset': No...</td>\n      <td>False</td>\n      <td>165.123.108.90</td>\n      <td>0.118397</td>\n      <td>e729f92172b4367ae78b47987c9e105e</td>\n      <td>None</td>\n      <td>2019-05-13T16:06:59Z</td>\n      <td>https://canvas.upenn.edu/api/v1/users/5443278</td>\n      <td>python-requests/2.21.0</td>\n      <td>None</td>\n    </tr>\n    <tr>\n      <th>14</th>\n      <td>api_show</td>\n      <td>User-Generated</td>\n      <td>None</td>\n      <td>None</td>\n      <td>None</td>\n      <td>False</td>\n      <td>users</td>\n      <td>2019-05-13T15:54:51Z</td>\n      <td>1.700000e+14</td>\n      <td>get</td>\n      <td>...</td>\n      <td>{'user': 5443278, 'context': None, 'asset': No...</td>\n      <td>False</td>\n      <td>165.123.108.90</td>\n      <td>0.074724</td>\n      <td>291d1970346e37832a5a61e9721b873e</td>\n      <td>None</td>\n      <td>2019-05-13T15:54:51Z</td>\n      <td>https://canvas.upenn.edu/api/v1/users/5443278</td>\n      <td>python-requests/2.21.0</td>\n      <td>None</td>\n    </tr>\n    <tr>\n      <th>15</th>\n      <td>api_show</td>\n      <td>User-Generated</td>\n      <td>None</td>\n      <td>None</td>\n      <td>None</td>\n      <td>False</td>\n      <td>users</td>\n      <td>2019-05-13T15:54:36Z</td>\n      <td>1.700000e+14</td>\n      <td>get</td>\n      <td>...</td>\n      <td>{'user': 5443278, 'context': None, 'asset': No...</td>\n      <td>False</td>\n      <td>165.123.108.90</td>\n      <td>0.269373</td>\n      <td>e5a1c16be99c5210bf6aace116ad2a0c</td>\n      <td>None</td>\n      <td>2019-05-13T15:54:36Z</td>\n      <td>https://canvas.upenn.edu/api/v1/users/5443278</td>\n      <td>python-requests/2.21.0</td>\n      <td>None</td>\n    </tr>\n    <tr>\n      <th>16</th>\n      <td>api_show</td>\n      <td>User-Generated</td>\n      <td>None</td>\n      <td>None</td>\n      <td>None</td>\n      <td>False</td>\n      <td>users</td>\n      <td>2019-05-13T15:53:55Z</td>\n      <td>1.700000e+14</td>\n      <td>get</td>\n      <td>...</td>\n      <td>{'user': 5443278, 'context': None, 'asset': No...</td>\n      <td>False</td>\n      <td>165.123.108.90</td>\n      <td>0.384255</td>\n      <td>e2b5dc0e1a0bcb220ddf0a831a6afd04</td>\n      <td>None</td>\n      <td>2019-05-13T15:53:55Z</td>\n      <td>https://canvas.upenn.edu/api/v1/users/5443278</td>\n      <td>python-requests/2.21.0</td>\n      <td>None</td>\n    </tr>\n    <tr>\n      <th>17</th>\n      <td>api_show</td>\n      <td>None</td>\n      <td>None</td>\n      <td>None</td>\n      <td>None</td>\n      <td>False</td>\n      <td>users</td>\n      <td>2019-05-13T15:52:59Z</td>\n      <td>NaN</td>\n      <td>get</td>\n      <td>...</td>\n      <td>{'user': 5443278, 'context': None, 'asset': No...</td>\n      <td>False</td>\n      <td>165.123.108.90</td>\n      <td>0.117332</td>\n      <td>c6e6ae9a662e19bb68dc88b05f511c27</td>\n      <td>None</td>\n      <td>2019-05-13T15:52:59Z</td>\n      <td>https://canvas.upenn.edu/api/v1/users/5443278</td>\n      <td>Mozilla/5.0 (Macintosh; Intel Mac OS X 10_14_3...</td>\n      <td>None</td>\n    </tr>\n    <tr>\n      <th>18</th>\n      <td>api_show</td>\n      <td>User-Generated</td>\n      <td>None</td>\n      <td>None</td>\n      <td>None</td>\n      <td>False</td>\n      <td>users</td>\n      <td>2019-05-13T15:52:58Z</td>\n      <td>1.700000e+14</td>\n      <td>get</td>\n      <td>...</td>\n      <td>{'user': 5443278, 'context': None, 'asset': No...</td>\n      <td>False</td>\n      <td>165.123.108.90</td>\n      <td>0.108586</td>\n      <td>307c4627de81cce9ae5a6088773881ca</td>\n      <td>None</td>\n      <td>2019-05-13T15:52:58Z</td>\n      <td>https://canvas.upenn.edu/api/v1/users/5443278</td>\n      <td>python-requests/2.21.0</td>\n      <td>None</td>\n    </tr>\n    <tr>\n      <th>19</th>\n      <td>api_show</td>\n      <td>User-Generated</td>\n      <td>None</td>\n      <td>None</td>\n      <td>None</td>\n      <td>False</td>\n      <td>users</td>\n      <td>2019-05-13T15:52:13Z</td>\n      <td>1.700000e+14</td>\n      <td>get</td>\n      <td>...</td>\n      <td>{'user': 5443278, 'context': None, 'asset': No...</td>\n      <td>False</td>\n      <td>165.123.108.90</td>\n      <td>0.412187</td>\n      <td>b544ec4fa171177594675b1645c387de</td>\n      <td>None</td>\n      <td>2019-05-13T15:52:13Z</td>\n      <td>https://canvas.upenn.edu/api/v1/users/5443278</td>\n      <td>python-requests/2.21.0</td>\n      <td>None</td>\n    </tr>\n    <tr>\n      <th>20</th>\n      <td>api_show</td>\n      <td>User-Generated</td>\n      <td>None</td>\n      <td>None</td>\n      <td>None</td>\n      <td>False</td>\n      <td>users</td>\n      <td>2019-05-13T15:51:58Z</td>\n      <td>1.700000e+14</td>\n      <td>get</td>\n      <td>...</td>\n      <td>{'user': 5443278, 'context': None, 'asset': No...</td>\n      <td>False</td>\n      <td>165.123.108.90</td>\n      <td>0.113909</td>\n      <td>5e34b0d56accb22b30f41289f09a8aca</td>\n      <td>None</td>\n      <td>2019-05-13T15:51:58Z</td>\n      <td>https://canvas.upenn.edu/api/v1/users/5443278</td>\n      <td>python-requests/2.21.0</td>\n      <td>None</td>\n    </tr>\n    <tr>\n      <th>21</th>\n      <td>show</td>\n      <td>None</td>\n      <td>None</td>\n      <td>None</td>\n      <td>Account</td>\n      <td>False</td>\n      <td>users</td>\n      <td>2019-05-13T15:51:50Z</td>\n      <td>NaN</td>\n      <td>get</td>\n      <td>...</td>\n      <td>{'user': 5443278, 'context': 96678, 'asset': N...</td>\n      <td>False</td>\n      <td>165.123.108.90</td>\n      <td>0.585370</td>\n      <td>c6e6ae9a662e19bb68dc88b05f511c27</td>\n      <td>None</td>\n      <td>2019-05-13T15:51:50Z</td>\n      <td>https://canvas.upenn.edu/accounts/96678/users/...</td>\n      <td>Mozilla/5.0 (Macintosh; Intel Mac OS X 10_14_3...</td>\n      <td>None</td>\n    </tr>\n    <tr>\n      <th>22</th>\n      <td>show</td>\n      <td>None</td>\n      <td>None</td>\n      <td>None</td>\n      <td>Account</td>\n      <td>False</td>\n      <td>accounts</td>\n      <td>2019-05-13T15:51:41Z</td>\n      <td>NaN</td>\n      <td>get</td>\n      <td>...</td>\n      <td>{'user': 5443278, 'context': 96678, 'asset': N...</td>\n      <td>False</td>\n      <td>165.123.108.90</td>\n      <td>0.280010</td>\n      <td>c6e6ae9a662e19bb68dc88b05f511c27</td>\n      <td>None</td>\n      <td>2019-05-13T15:51:41Z</td>\n      <td>https://canvas.upenn.edu/accounts/96678</td>\n      <td>Mozilla/5.0 (Macintosh; Intel Mac OS X 10_14_3...</td>\n      <td>None</td>\n    </tr>\n    <tr>\n      <th>23</th>\n      <td>show</td>\n      <td>None</td>\n      <td>None</td>\n      <td>None</td>\n      <td>UserProfile</td>\n      <td>False</td>\n      <td>profile</td>\n      <td>2019-05-13T15:51:38Z</td>\n      <td>NaN</td>\n      <td>get</td>\n      <td>...</td>\n      <td>{'user': 5443278, 'context': None, 'asset': No...</td>\n      <td>False</td>\n      <td>165.123.108.90</td>\n      <td>0.194200</td>\n      <td>c6e6ae9a662e19bb68dc88b05f511c27</td>\n      <td>None</td>\n      <td>2019-05-13T15:51:38Z</td>\n      <td>https://canvas.upenn.edu/profile</td>\n      <td>Mozilla/5.0 (Macintosh; Intel Mac OS X 10_14_3...</td>\n      <td>None</td>\n    </tr>\n    <tr>\n      <th>24</th>\n      <td>settings</td>\n      <td>None</td>\n      <td>None</td>\n      <td>None</td>\n      <td>UserProfile</td>\n      <td>False</td>\n      <td>profile</td>\n      <td>2019-05-13T15:51:36Z</td>\n      <td>NaN</td>\n      <td>get</td>\n      <td>...</td>\n      <td>{'user': 5443278, 'context': None, 'asset': No...</td>\n      <td>False</td>\n      <td>165.123.108.90</td>\n      <td>0.355928</td>\n      <td>c6e6ae9a662e19bb68dc88b05f511c27</td>\n      <td>None</td>\n      <td>2019-05-13T15:51:36Z</td>\n      <td>https://canvas.upenn.edu/profile/settings</td>\n      <td>Mozilla/5.0 (Macintosh; Intel Mac OS X 10_14_3...</td>\n      <td>None</td>\n    </tr>\n  </tbody>\n</table>\n<p>25 rows × 22 columns</p>\n</div>",
          "text/plain": "      action        app_name asset_type asset_user_access_id context_type  \\\n0   api_show  User-Generated       None                 None         None   \n1   api_show  User-Generated       None                 None         None   \n2   api_show  User-Generated       None                 None         None   \n3   api_show  User-Generated       None                 None         None   \n4   api_show  User-Generated       None                 None         None   \n5   api_show  User-Generated       None                 None         None   \n6   api_show  User-Generated       None                 None         None   \n7   api_show  User-Generated       None                 None         None   \n8   api_show  User-Generated       None                 None         None   \n9   api_show  User-Generated       None                 None         None   \n10  api_show  User-Generated       None                 None         None   \n11  api_show  User-Generated       None                 None         None   \n12  api_show  User-Generated       None                 None         None   \n13  api_show  User-Generated       None                 None         None   \n14  api_show  User-Generated       None                 None         None   \n15  api_show  User-Generated       None                 None         None   \n16  api_show  User-Generated       None                 None         None   \n17  api_show            None       None                 None         None   \n18  api_show  User-Generated       None                 None         None   \n19  api_show  User-Generated       None                 None         None   \n20  api_show  User-Generated       None                 None         None   \n21      show            None       None                 None      Account   \n22      show            None       None                 None      Account   \n23      show            None       None                 None  UserProfile   \n24  settings            None       None                 None  UserProfile   \n\n    contributed controller            created_at  developer_key_id  \\\n0         False      users  2019-05-13T16:17:06Z      1.700000e+14   \n1         False      users  2019-05-13T16:16:58Z      1.700000e+14   \n2         False      users  2019-05-13T16:15:41Z      1.700000e+14   \n3         False      users  2019-05-13T16:15:40Z      1.700000e+14   \n4         False      users  2019-05-13T16:15:40Z      1.700000e+14   \n5         False      users  2019-05-13T16:15:39Z      1.700000e+14   \n6         False      users  2019-05-13T16:15:39Z      1.700000e+14   \n7         False      users  2019-05-13T16:15:38Z      1.700000e+14   \n8         False      users  2019-05-13T16:14:43Z      1.700000e+14   \n9         False      users  2019-05-13T16:14:25Z      1.700000e+14   \n10        False      users  2019-05-13T16:14:13Z      1.700000e+14   \n11        False      users  2019-05-13T16:07:58Z      1.700000e+14   \n12        False      users  2019-05-13T16:07:18Z      1.700000e+14   \n13        False      users  2019-05-13T16:06:59Z      1.700000e+14   \n14        False      users  2019-05-13T15:54:51Z      1.700000e+14   \n15        False      users  2019-05-13T15:54:36Z      1.700000e+14   \n16        False      users  2019-05-13T15:53:55Z      1.700000e+14   \n17        False      users  2019-05-13T15:52:59Z               NaN   \n18        False      users  2019-05-13T15:52:58Z      1.700000e+14   \n19        False      users  2019-05-13T15:52:13Z      1.700000e+14   \n20        False      users  2019-05-13T15:51:58Z      1.700000e+14   \n21        False      users  2019-05-13T15:51:50Z               NaN   \n22        False   accounts  2019-05-13T15:51:41Z               NaN   \n23        False    profile  2019-05-13T15:51:38Z               NaN   \n24        False    profile  2019-05-13T15:51:36Z               NaN   \n\n   http_method  ...                                              links  \\\n0          get  ...  {'user': 5443278, 'context': None, 'asset': No...   \n1          get  ...  {'user': 5443278, 'context': None, 'asset': No...   \n2          get  ...  {'user': 5443278, 'context': None, 'asset': No...   \n3          get  ...  {'user': 5443278, 'context': None, 'asset': No...   \n4          get  ...  {'user': 5443278, 'context': None, 'asset': No...   \n5          get  ...  {'user': 5443278, 'context': None, 'asset': No...   \n6          get  ...  {'user': 5443278, 'context': None, 'asset': No...   \n7          get  ...  {'user': 5443278, 'context': None, 'asset': No...   \n8          get  ...  {'user': 5443278, 'context': None, 'asset': No...   \n9          get  ...  {'user': 5443278, 'context': None, 'asset': No...   \n10         get  ...  {'user': 5443278, 'context': None, 'asset': No...   \n11         get  ...  {'user': 5443278, 'context': None, 'asset': No...   \n12         get  ...  {'user': 5443278, 'context': None, 'asset': No...   \n13         get  ...  {'user': 5443278, 'context': None, 'asset': No...   \n14         get  ...  {'user': 5443278, 'context': None, 'asset': No...   \n15         get  ...  {'user': 5443278, 'context': None, 'asset': No...   \n16         get  ...  {'user': 5443278, 'context': None, 'asset': No...   \n17         get  ...  {'user': 5443278, 'context': None, 'asset': No...   \n18         get  ...  {'user': 5443278, 'context': None, 'asset': No...   \n19         get  ...  {'user': 5443278, 'context': None, 'asset': No...   \n20         get  ...  {'user': 5443278, 'context': None, 'asset': No...   \n21         get  ...  {'user': 5443278, 'context': 96678, 'asset': N...   \n22         get  ...  {'user': 5443278, 'context': 96678, 'asset': N...   \n23         get  ...  {'user': 5443278, 'context': None, 'asset': No...   \n24         get  ...  {'user': 5443278, 'context': None, 'asset': No...   \n\n   participated       remote_ip  render_time  \\\n0         False  165.123.108.90     0.097454   \n1         False  165.123.108.90     0.089420   \n2         False  165.123.108.90     0.111146   \n3         False  165.123.108.90     0.067307   \n4         False  165.123.108.90     0.085913   \n5         False  165.123.108.90     0.118818   \n6         False  165.123.108.90     0.094588   \n7         False  165.123.108.90     0.078694   \n8         False  165.123.108.90     0.080964   \n9         False  165.123.108.90     0.270937   \n10        False  165.123.108.90     0.160249   \n11        False  165.123.108.90     0.121798   \n12        False  165.123.108.90     0.074698   \n13        False  165.123.108.90     0.118397   \n14        False  165.123.108.90     0.074724   \n15        False  165.123.108.90     0.269373   \n16        False  165.123.108.90     0.384255   \n17        False  165.123.108.90     0.117332   \n18        False  165.123.108.90     0.108586   \n19        False  165.123.108.90     0.412187   \n20        False  165.123.108.90     0.113909   \n21        False  165.123.108.90     0.585370   \n22        False  165.123.108.90     0.280010   \n23        False  165.123.108.90     0.194200   \n24        False  165.123.108.90     0.355928   \n\n                          session_id  summarized            updated_at  \\\n0   beab170c46511dba9ed93366d342a52d        None  2019-05-13T16:17:06Z   \n1   9c90d8519be400f2ed12f251866b9c64        None  2019-05-13T16:16:58Z   \n2   dc988c40f29b52abbafb140655d2723e        None  2019-05-13T16:15:41Z   \n3   ed47cf756b1f6c759caa17da47a430fb        None  2019-05-13T16:15:40Z   \n4   1b60f5c1308c92d21de3b361cc115d62        None  2019-05-13T16:15:40Z   \n5   3dcf2805c912f0133ac20fbad8191622        None  2019-05-13T16:15:39Z   \n6   58921565c269fd68c58fc8dce41d1dc6        None  2019-05-13T16:15:39Z   \n7   ec4e080a7c78b6e8d80a443352d15456        None  2019-05-13T16:15:38Z   \n8   d0c7e22cf96e9fb2758bc800dc98b90f        None  2019-05-13T16:14:43Z   \n9   ab322aa787cbcbce8e849029c42c175c        None  2019-05-13T16:14:25Z   \n10  0e24a65d0007161e9cc223cc7f569097        None  2019-05-13T16:14:13Z   \n11  ce0274d3490130a6260304477f6007e7        None  2019-05-13T16:07:58Z   \n12  f56a3107749fed99cf93ae494d6066d6        None  2019-05-13T16:07:18Z   \n13  e729f92172b4367ae78b47987c9e105e        None  2019-05-13T16:06:59Z   \n14  291d1970346e37832a5a61e9721b873e        None  2019-05-13T15:54:51Z   \n15  e5a1c16be99c5210bf6aace116ad2a0c        None  2019-05-13T15:54:36Z   \n16  e2b5dc0e1a0bcb220ddf0a831a6afd04        None  2019-05-13T15:53:55Z   \n17  c6e6ae9a662e19bb68dc88b05f511c27        None  2019-05-13T15:52:59Z   \n18  307c4627de81cce9ae5a6088773881ca        None  2019-05-13T15:52:58Z   \n19  b544ec4fa171177594675b1645c387de        None  2019-05-13T15:52:13Z   \n20  5e34b0d56accb22b30f41289f09a8aca        None  2019-05-13T15:51:58Z   \n21  c6e6ae9a662e19bb68dc88b05f511c27        None  2019-05-13T15:51:50Z   \n22  c6e6ae9a662e19bb68dc88b05f511c27        None  2019-05-13T15:51:41Z   \n23  c6e6ae9a662e19bb68dc88b05f511c27        None  2019-05-13T15:51:38Z   \n24  c6e6ae9a662e19bb68dc88b05f511c27        None  2019-05-13T15:51:36Z   \n\n                                                  url  \\\n0       https://canvas.upenn.edu/api/v1/users/5443278   \n1       https://canvas.upenn.edu/api/v1/users/5443278   \n2       https://canvas.upenn.edu/api/v1/users/5443278   \n3       https://canvas.upenn.edu/api/v1/users/5443278   \n4       https://canvas.upenn.edu/api/v1/users/5443278   \n5       https://canvas.upenn.edu/api/v1/users/5443278   \n6       https://canvas.upenn.edu/api/v1/users/5443278   \n7       https://canvas.upenn.edu/api/v1/users/5443278   \n8       https://canvas.upenn.edu/api/v1/users/5443278   \n9       https://canvas.upenn.edu/api/v1/users/5443278   \n10      https://canvas.upenn.edu/api/v1/users/5443278   \n11      https://canvas.upenn.edu/api/v1/users/5443278   \n12      https://canvas.upenn.edu/api/v1/users/5443278   \n13      https://canvas.upenn.edu/api/v1/users/5443278   \n14      https://canvas.upenn.edu/api/v1/users/5443278   \n15      https://canvas.upenn.edu/api/v1/users/5443278   \n16      https://canvas.upenn.edu/api/v1/users/5443278   \n17      https://canvas.upenn.edu/api/v1/users/5443278   \n18      https://canvas.upenn.edu/api/v1/users/5443278   \n19      https://canvas.upenn.edu/api/v1/users/5443278   \n20      https://canvas.upenn.edu/api/v1/users/5443278   \n21  https://canvas.upenn.edu/accounts/96678/users/...   \n22            https://canvas.upenn.edu/accounts/96678   \n23                   https://canvas.upenn.edu/profile   \n24          https://canvas.upenn.edu/profile/settings   \n\n                                           user_agent user_request  \n0                              python-requests/2.21.0         None  \n1                              python-requests/2.21.0         None  \n2                              python-requests/2.21.0         None  \n3                              python-requests/2.21.0         None  \n4                              python-requests/2.21.0         None  \n5                              python-requests/2.21.0         None  \n6                              python-requests/2.21.0         None  \n7                              python-requests/2.21.0         None  \n8                              python-requests/2.21.0         None  \n9                              python-requests/2.21.0         None  \n10                             python-requests/2.21.0         None  \n11                             python-requests/2.21.0         None  \n12                             python-requests/2.21.0         None  \n13                             python-requests/2.21.0         None  \n14                             python-requests/2.21.0         None  \n15                             python-requests/2.21.0         None  \n16                             python-requests/2.21.0         None  \n17  Mozilla/5.0 (Macintosh; Intel Mac OS X 10_14_3...         None  \n18                             python-requests/2.21.0         None  \n19                             python-requests/2.21.0         None  \n20                             python-requests/2.21.0         None  \n21  Mozilla/5.0 (Macintosh; Intel Mac OS X 10_14_3...         None  \n22  Mozilla/5.0 (Macintosh; Intel Mac OS X 10_14_3...         None  \n23  Mozilla/5.0 (Macintosh; Intel Mac OS X 10_14_3...         None  \n24  Mozilla/5.0 (Macintosh; Intel Mac OS X 10_14_3...         None  \n\n[25 rows x 22 columns]"
         },
         "metadata": {},
         "output_type": "display_data"
        }
       ]
      }
     },
     "c57d95dfc9744e53836e7c5ea2fadf58": {
      "model_module": "@jupyter-widgets/controls",
      "model_module_version": "1.4.0",
      "model_name": "GridBoxModel",
      "state": {
       "children": [
        "IPY_MODEL_c1ad6c9417f746a2b9a7af27d891ca15",
        "IPY_MODEL_b3fc051620554655b37717c6432d90c5",
        "IPY_MODEL_8097a77e6b34445585d1809f01c5d4d5",
        "IPY_MODEL_c743d1e352404059a38be43ba8833806"
       ],
       "layout": "IPY_MODEL_e3496b66a60f4f8fabd78f4aed93540e"
      }
     },
     "c5b634513ddf43289ca6cf5d13a16cec": {
      "model_module": "@jupyter-widgets/controls",
      "model_module_version": "1.4.0",
      "model_name": "DescriptionStyleModel",
      "state": {
       "description_width": ""
      }
     },
     "c628a5b74b10485caf6c469464c6dcca": {
      "model_module": "@jupyter-widgets/controls",
      "model_module_version": "1.4.0",
      "model_name": "DescriptionStyleModel",
      "state": {
       "description_width": ""
      }
     },
     "c6bd3fde6a8441fdbad248cc51bf8dfe": {
      "model_module": "@jupyter-widgets/output",
      "model_module_version": "1.0.0",
      "model_name": "OutputModel",
      "state": {
       "layout": "IPY_MODEL_334ced764dc64ab08c325fa556398491"
      }
     },
     "c743d1e352404059a38be43ba8833806": {
      "model_module": "@jupyter-widgets/controls",
      "model_module_version": "1.4.0",
      "model_name": "ButtonModel",
      "state": {
       "button_style": "info",
       "description": "Get PageViews",
       "layout": "IPY_MODEL_44c4984361ea4d33b1460a8c40dcca4c",
       "style": "IPY_MODEL_bff96f25cef142dc8cb44648d70b1f9c"
      }
     },
     "c8068be4759a4df781d490f7d783e840": {
      "model_module": "@jupyter-widgets/base",
      "model_module_version": "1.1.0",
      "model_name": "LayoutModel",
      "state": {
       "align_items": "center",
       "grid_area": "left",
       "width": "90%"
      }
     },
     "c88e826661f543e4b332f31a64ee833d": {
      "model_module": "@jupyter-widgets/controls",
      "model_module_version": "1.4.0",
      "model_name": "GridBoxModel",
      "state": {
       "children": [
        "IPY_MODEL_1f1df013a6cc45c5aa50c877c4580672",
        "IPY_MODEL_eaeb786928284a8087d9bfbf7e87777c",
        "IPY_MODEL_9c42707c0a5c4a14a17bc7bb53ca6f80",
        "IPY_MODEL_e006b079f02a4e27979b93a6c6e9766a"
       ],
       "layout": "IPY_MODEL_7f29e7118adb44069a244dfe72f25fa8"
      }
     },
     "c924d514ff72477daed293d8deeb4ca1": {
      "model_module": "@jupyter-widgets/base",
      "model_module_version": "1.1.0",
      "model_name": "LayoutModel",
      "state": {}
     },
     "c93e17e3b2f24a589d19a140cdc85a2b": {
      "model_module": "@jupyter-widgets/base",
      "model_module_version": "1.1.0",
      "model_name": "LayoutModel",
      "state": {
       "align_items": "center",
       "grid_area": "right",
       "width": "90%"
      }
     },
     "ca121358ee2c43989a9bb31a9b9f0a50": {
      "model_module": "@jupyter-widgets/controls",
      "model_module_version": "1.4.0",
      "model_name": "ButtonModel",
      "state": {
       "button_style": "info",
       "description": "Get PageViews",
       "layout": "IPY_MODEL_b80c90fafff0419783b4d8b04d9cdc6c",
       "style": "IPY_MODEL_3bfd8f3336954254be14f16feb6f732c"
      }
     },
     "cb4032b947c5460796e43d34b708d87a": {
      "model_module": "@jupyter-widgets/base",
      "model_module_version": "1.1.0",
      "model_name": "LayoutModel",
      "state": {
       "align_items": "center",
       "grid_area": "main",
       "width": "90%"
      }
     },
     "cb6d67a030eb43a3b50dd4fe461cc16b": {
      "model_module": "@jupyter-widgets/base",
      "model_module_version": "1.1.0",
      "model_name": "LayoutModel",
      "state": {}
     },
     "cb861bc2396a43f1802bd40bcff4e6b3": {
      "model_module": "@jupyter-widgets/controls",
      "model_module_version": "1.4.0",
      "model_name": "DescriptionStyleModel",
      "state": {
       "description_width": ""
      }
     },
     "cb8aacafaa0c4dcb95a631ef897abc14": {
      "model_module": "@jupyter-widgets/output",
      "model_module_version": "1.0.0",
      "model_name": "OutputModel",
      "state": {
       "layout": "IPY_MODEL_2a180ddd7e394bbe9cea95c1043d82ac"
      }
     },
     "cb91d17a1d424fd586b728c01f30eeb2": {
      "model_module": "@jupyter-widgets/controls",
      "model_module_version": "1.4.0",
      "model_name": "TextModel",
      "state": {
       "layout": "IPY_MODEL_cb4032b947c5460796e43d34b708d87a",
       "placeholder": "API TOKEN",
       "style": "IPY_MODEL_88b94bc929d54cd095ae1caaaaf37056"
      }
     },
     "cbaecc56897848738243aef3dc23ac59": {
      "model_module": "@jupyter-widgets/base",
      "model_module_version": "1.1.0",
      "model_name": "LayoutModel",
      "state": {
       "padding": "5px 20px 20px 20px",
       "width": "40%"
      }
     },
     "cc6202b922f2487b86465dc943793207": {
      "model_module": "@jupyter-widgets/output",
      "model_module_version": "1.0.0",
      "model_name": "OutputModel",
      "state": {
       "layout": "IPY_MODEL_92c811601a6247fc97adf2f07ee69de8"
      }
     },
     "cc62a4e3986346ccb2005667fca3f1f5": {
      "model_module": "@jupyter-widgets/base",
      "model_module_version": "1.1.0",
      "model_name": "LayoutModel",
      "state": {
       "grid_area": "footer",
       "width": "auto"
      }
     },
     "cccdc5576ff049678b1d9652f7b72e18": {
      "model_module": "@jupyter-widgets/base",
      "model_module_version": "1.1.0",
      "model_name": "LayoutModel",
      "state": {}
     },
     "cd6d48864df048fd93bf4f80b7268c96": {
      "model_module": "@jupyter-widgets/controls",
      "model_module_version": "1.4.0",
      "model_name": "DescriptionStyleModel",
      "state": {
       "description_width": ""
      }
     },
     "ce7ea658d2194c71bb72d5e671849ee8": {
      "model_module": "@jupyter-widgets/controls",
      "model_module_version": "1.4.0",
      "model_name": "ButtonStyleModel",
      "state": {}
     },
     "ceb4f77105ca403b8e6d6ec841fa249d": {
      "model_module": "@jupyter-widgets/base",
      "model_module_version": "1.1.0",
      "model_name": "LayoutModel",
      "state": {
       "grid_area": "footer",
       "width": "auto"
      }
     },
     "cebb14b2745544fea28b58193dda0840": {
      "model_module": "@jupyter-widgets/controls",
      "model_module_version": "1.4.0",
      "model_name": "ButtonStyleModel",
      "state": {}
     },
     "cf14d9d013434183815eb68819c290ad": {
      "model_module": "@jupyter-widgets/controls",
      "model_module_version": "1.4.0",
      "model_name": "TextModel",
      "state": {
       "layout": "IPY_MODEL_dcac4468f5be400d94a1841d45322e50",
       "placeholder": "user_id",
       "style": "IPY_MODEL_e29db091b3ae4de3a51e65d09fb2b2a4",
       "value": "5443278"
      }
     },
     "cf2bb82faf1b4da5ae3220550a54f2ce": {
      "model_module": "@jupyter-widgets/base",
      "model_module_version": "1.1.0",
      "model_name": "LayoutModel",
      "state": {}
     },
     "cf9e085790294760891b2283db3db1c1": {
      "model_module": "@jupyter-widgets/controls",
      "model_module_version": "1.4.0",
      "model_name": "DescriptionStyleModel",
      "state": {
       "description_width": ""
      }
     },
     "cfbf96ef263048e3a40f6971c394316c": {
      "model_module": "@jupyter-widgets/controls",
      "model_module_version": "1.4.0",
      "model_name": "DescriptionStyleModel",
      "state": {
       "description_width": ""
      }
     },
     "d02d0c10017f4fdfb4c269aaf7895962": {
      "model_module": "@jupyter-widgets/controls",
      "model_module_version": "1.4.0",
      "model_name": "DescriptionStyleModel",
      "state": {
       "description_width": ""
      }
     },
     "d05a0b62349140cd843f8c8bf06e1f73": {
      "model_module": "@jupyter-widgets/controls",
      "model_module_version": "1.4.0",
      "model_name": "DescriptionStyleModel",
      "state": {
       "description_width": ""
      }
     },
     "d0d7247a9f314c72964aa1bc710af741": {
      "model_module": "@jupyter-widgets/base",
      "model_module_version": "1.1.0",
      "model_name": "LayoutModel",
      "state": {
       "grid_template_areas": "\n            \" . header header .\"\n            \"left left right right\"\n            \" . footer footer . \"\n            ",
       "grid_template_columns": "25% 25% 25% 25%",
       "grid_template_rows": "auto auto auto",
       "margin": "2% 0% 2% 10%",
       "width": "80%"
      }
     },
     "d189fb7dc9404668944f6ffe2e63641b": {
      "model_module": "@jupyter-widgets/base",
      "model_module_version": "1.1.0",
      "model_name": "LayoutModel",
      "state": {}
     },
     "d23f0ee344ed4b3b94c7eec5bd440a5b": {
      "model_module": "@jupyter-widgets/output",
      "model_module_version": "1.0.0",
      "model_name": "OutputModel",
      "state": {
       "layout": "IPY_MODEL_479905b5f1f34ea7bf1ca5d0268fe336"
      }
     },
     "d29b6e983f29486a9ccd24d72a48391e": {
      "model_module": "@jupyter-widgets/controls",
      "model_module_version": "1.4.0",
      "model_name": "ButtonModel",
      "state": {
       "button_style": "info",
       "description": "Get PageViews",
       "layout": "IPY_MODEL_79962af7de3d46ec82d8de736c62eb26",
       "style": "IPY_MODEL_7c5611e1eafc48a5a1f17b13b742e4c7"
      }
     },
     "d2b983538bbe476ab23a52167668bcb3": {
      "model_module": "@jupyter-widgets/base",
      "model_module_version": "1.1.0",
      "model_name": "LayoutModel",
      "state": {
       "align_items": "center",
       "grid_area": "left",
       "width": "90%"
      }
     },
     "d2cdc04bb45142fb868e34da3bdf2b87": {
      "model_module": "@jupyter-widgets/controls",
      "model_module_version": "1.4.0",
      "model_name": "DatePickerModel",
      "state": {
       "description": "end date",
       "disabled": false,
       "layout": "IPY_MODEL_f68ff52a4cdc4b1b8e80d148bf99c136",
       "style": "IPY_MODEL_fea9e5d54eff46b98d3e258f405dbe28"
      }
     },
     "d39650ef83544e6cb108050aee948647": {
      "model_module": "@jupyter-widgets/base",
      "model_module_version": "1.1.0",
      "model_name": "LayoutModel",
      "state": {
       "grid_template_areas": "\n            \" . header header .\"\n            \"left left right right\"\n            \" . footer footer . \"\n            ",
       "grid_template_columns": "25% 25% 25% 25%",
       "grid_template_rows": "auto auto auto",
       "margin": "2% 0% 2% 10%",
       "width": "80%"
      }
     },
     "d4157eac535447e3bd47a503af757996": {
      "model_module": "@jupyter-widgets/controls",
      "model_module_version": "1.4.0",
      "model_name": "TextModel",
      "state": {
       "layout": "IPY_MODEL_874ab145ae8a404fb089cad324655534",
       "placeholder": "user_id",
       "style": "IPY_MODEL_0c50abaaabf6469bb178c70f3bc4ff13",
       "value": "5443278"
      }
     },
     "d4745aad80a4454d9be7f753cc74e9f3": {
      "model_module": "@jupyter-widgets/controls",
      "model_module_version": "1.4.0",
      "model_name": "DescriptionStyleModel",
      "state": {
       "description_width": ""
      }
     },
     "d4c9043063a445b3920230f534fd0237": {
      "model_module": "@jupyter-widgets/controls",
      "model_module_version": "1.4.0",
      "model_name": "DescriptionStyleModel",
      "state": {
       "description_width": ""
      }
     },
     "d5d0a4fec5d4435fb9760aa8b0b5ce28": {
      "model_module": "@jupyter-widgets/base",
      "model_module_version": "1.1.0",
      "model_name": "LayoutModel",
      "state": {
       "padding": "10px 20px 20px 20px",
       "width": "40%"
      }
     },
     "d5d3848e5a404dcfaf9b29d1830c49e2": {
      "model_module": "@jupyter-widgets/base",
      "model_module_version": "1.1.0",
      "model_name": "LayoutModel",
      "state": {}
     },
     "d68d5c1de5ff4a4b952dd0844b525efe": {
      "model_module": "@jupyter-widgets/base",
      "model_module_version": "1.1.0",
      "model_name": "LayoutModel",
      "state": {
       "padding": "5px 20px 20px 20px",
       "width": "40%"
      }
     },
     "d6e43bbbe04d456dad441502261db3d9": {
      "model_module": "@jupyter-widgets/controls",
      "model_module_version": "1.4.0",
      "model_name": "SelectModel",
      "state": {
       "_options_labels": [
        "Production",
        "Test",
        "Beta"
       ],
       "description": "Environment:",
       "index": 0,
       "layout": "IPY_MODEL_130bf3164be84b41998c978e90753c48",
       "rows": 3,
       "style": "IPY_MODEL_dd137e2fa86d42798deb69fe829156d9"
      }
     },
     "d6f18d56f5d64ee7a2743a86848a4c0b": {
      "model_module": "@jupyter-widgets/controls",
      "model_module_version": "1.4.0",
      "model_name": "GridBoxModel",
      "state": {
       "children": [
        "IPY_MODEL_ac385159cf334dc5835c92fd95ffd5e8",
        "IPY_MODEL_f71a3f3bec8447cfa6e586783a502d24",
        "IPY_MODEL_bd3d7f56930d49ef8b40f369e6fa9369",
        "IPY_MODEL_a708703e0afa435fac4a224a8c6937cf"
       ],
       "layout": "IPY_MODEL_0926eb49e9c444689c8cce87fcef027c"
      }
     },
     "d718736ac4a147d89ce343bb5381a9ba": {
      "model_module": "@jupyter-widgets/base",
      "model_module_version": "1.1.0",
      "model_name": "LayoutModel",
      "state": {
       "align_items": "center",
       "grid_area": "header",
       "width": "90%"
      }
     },
     "d75f82ab497c4ee387be5b99b1ccec00": {
      "model_module": "@jupyter-widgets/output",
      "model_module_version": "1.0.0",
      "model_name": "OutputModel",
      "state": {
       "layout": "IPY_MODEL_f287083e9781485da1cdc9999f38a458"
      }
     },
     "d841a6569242420ca7e8e0c77153b3fc": {
      "model_module": "@jupyter-widgets/base",
      "model_module_version": "1.1.0",
      "model_name": "LayoutModel",
      "state": {
       "grid_template_areas": "\n            \" . header header .\"\n            \"left left right right\"\n            \" . footer footer . \"\n            ",
       "grid_template_columns": "25% 25% 25% 25%",
       "grid_template_rows": "auto auto auto",
       "margin": "2% 0% 2% 10%",
       "width": "80%"
      }
     },
     "d8943a83ef37427ebc091496833c3d65": {
      "model_module": "@jupyter-widgets/base",
      "model_module_version": "1.1.0",
      "model_name": "LayoutModel",
      "state": {
       "align_items": "center",
       "grid_area": "left",
       "width": "90%"
      }
     },
     "d8dad22312044839aa5c21c03d1b7664": {
      "model_module": "@jupyter-widgets/controls",
      "model_module_version": "1.4.0",
      "model_name": "DatePickerModel",
      "state": {
       "description": "start date",
       "disabled": false,
       "layout": "IPY_MODEL_d8943a83ef37427ebc091496833c3d65",
       "style": "IPY_MODEL_a5d669e664564872902d18fb32c0665a"
      }
     },
     "d90ab56166f843548ba462ea13c9380c": {
      "model_module": "@jupyter-widgets/base",
      "model_module_version": "1.1.0",
      "model_name": "LayoutModel",
      "state": {
       "align_items": "center",
       "grid_area": "main",
       "width": "90%"
      }
     },
     "d9728370e11947489b573fe5ca986ecb": {
      "model_module": "@jupyter-widgets/controls",
      "model_module_version": "1.4.0",
      "model_name": "ButtonStyleModel",
      "state": {}
     },
     "d9c4cf0dfd314e51b5080ce9d04dfcb5": {
      "model_module": "@jupyter-widgets/base",
      "model_module_version": "1.1.0",
      "model_name": "LayoutModel",
      "state": {
       "padding": "5px 20px 20px 20px",
       "width": "40%"
      }
     },
     "d9cd95f8a8164c6ca7b10f68da8066d3": {
      "model_module": "@jupyter-widgets/controls",
      "model_module_version": "1.4.0",
      "model_name": "GridBoxModel",
      "state": {
       "children": [
        "IPY_MODEL_48e573bdfdef4feba342f3201fc6772c",
        "IPY_MODEL_1c4441bcfaed4660a7d637a90683aeb5",
        "IPY_MODEL_2a4fb4fa3b0d4c39b2b4da3cf62e8046",
        "IPY_MODEL_1d8965d1afb747ff8a0f45aae53694cd"
       ],
       "layout": "IPY_MODEL_4c9966d6e6d844d6b658bbc13c612e2a"
      }
     },
     "d9e7abf605554803ac7d330219313cba": {
      "model_module": "@jupyter-widgets/controls",
      "model_module_version": "1.4.0",
      "model_name": "DropdownModel",
      "state": {
       "_options_labels": [
        "ALL",
        "DELETE",
        "GET",
        "PATCH",
        "POST",
        "PUT"
       ],
       "description": "API Method",
       "index": 0,
       "layout": "IPY_MODEL_4e3ad669483241c28e132d351337e513",
       "style": "IPY_MODEL_cfbf96ef263048e3a40f6971c394316c"
      }
     },
     "da04e1c69cbc4b5baccf0573c45e56c9": {
      "model_module": "@jupyter-widgets/controls",
      "model_module_version": "1.4.0",
      "model_name": "ButtonStyleModel",
      "state": {}
     },
     "da1a248db25146b4aa793f43cece41e5": {
      "model_module": "@jupyter-widgets/controls",
      "model_module_version": "1.4.0",
      "model_name": "ButtonModel",
      "state": {
       "button_style": "info",
       "description": "Get PageViews",
       "layout": "IPY_MODEL_dc27baa98cc548b496bf9f96cd09dd1b",
       "style": "IPY_MODEL_261316cf0cb84cda86ee349dd9e9cf5b"
      }
     },
     "da9caf3bfa484294a606f63f88895e01": {
      "model_module": "@jupyter-widgets/controls",
      "model_module_version": "1.4.0",
      "model_name": "DescriptionStyleModel",
      "state": {
       "description_width": ""
      }
     },
     "db52d8cbba4a48a2913b95347eb97465": {
      "model_module": "@jupyter-widgets/controls",
      "model_module_version": "1.4.0",
      "model_name": "DatePickerModel",
      "state": {
       "description": "start date",
       "disabled": false,
       "layout": "IPY_MODEL_47c9bf8860fd42509b2bc42c1fb59070",
       "style": "IPY_MODEL_9f80862e20314a9e98cf55d1ebf7a546"
      }
     },
     "db7dafa1ebd34850854b5ead52647126": {
      "model_module": "@jupyter-widgets/base",
      "model_module_version": "1.1.0",
      "model_name": "LayoutModel",
      "state": {
       "padding": "5px 20px 20px 20px",
       "width": "40%"
      }
     },
     "db8350f3d65d412e87ceb4e2d700465a": {
      "model_module": "@jupyter-widgets/controls",
      "model_module_version": "1.4.0",
      "model_name": "DatePickerModel",
      "state": {
       "description": "end date",
       "disabled": false,
       "layout": "IPY_MODEL_07bcd975a23742bfa94919c23e5d14fa",
       "style": "IPY_MODEL_cb861bc2396a43f1802bd40bcff4e6b3"
      }
     },
     "db9c948fa12e4f62b2e516de93a2f196": {
      "model_module": "@jupyter-widgets/controls",
      "model_module_version": "1.4.0",
      "model_name": "DescriptionStyleModel",
      "state": {
       "description_width": ""
      }
     },
     "dc27baa98cc548b496bf9f96cd09dd1b": {
      "model_module": "@jupyter-widgets/base",
      "model_module_version": "1.1.0",
      "model_name": "LayoutModel",
      "state": {
       "grid_area": "footer",
       "width": "auto"
      }
     },
     "dc2ea1247c6c441c87246c248041bbaf": {
      "model_module": "@jupyter-widgets/controls",
      "model_module_version": "1.4.0",
      "model_name": "TextModel",
      "state": {
       "layout": "IPY_MODEL_5ebd7052038c4e65a0b5facb6a654d9d",
       "placeholder": "user_id",
       "style": "IPY_MODEL_16bd9fea8e924ce9b139c58a5615854f",
       "value": "5443278"
      }
     },
     "dc674d1338fe442aa80f51b118398959": {
      "model_module": "@jupyter-widgets/controls",
      "model_module_version": "1.4.0",
      "model_name": "ButtonModel",
      "state": {
       "button_style": "info",
       "description": "Get PageViews",
       "layout": "IPY_MODEL_8017cdab4f6d4de1897df50314cbed39",
       "style": "IPY_MODEL_bb17b524bfcd4e47ade313895c3dae76"
      }
     },
     "dc78241d35b7464ebc831f5f0a0e8794": {
      "model_module": "@jupyter-widgets/controls",
      "model_module_version": "1.4.0",
      "model_name": "DescriptionStyleModel",
      "state": {
       "description_width": ""
      }
     },
     "dc927bc3940e412fbc0af93c66648e41": {
      "model_module": "@jupyter-widgets/base",
      "model_module_version": "1.1.0",
      "model_name": "LayoutModel",
      "state": {
       "align_items": "center",
       "grid_area": "left",
       "width": "90%"
      }
     },
     "dcac4468f5be400d94a1841d45322e50": {
      "model_module": "@jupyter-widgets/base",
      "model_module_version": "1.1.0",
      "model_name": "LayoutModel",
      "state": {
       "align_items": "center",
       "grid_area": "header",
       "width": "90%"
      }
     },
     "dcbce662e8574fd497c2fc903d1d9568": {
      "model_module": "@jupyter-widgets/base",
      "model_module_version": "1.1.0",
      "model_name": "LayoutModel",
      "state": {}
     },
     "dd137e2fa86d42798deb69fe829156d9": {
      "model_module": "@jupyter-widgets/controls",
      "model_module_version": "1.4.0",
      "model_name": "DescriptionStyleModel",
      "state": {
       "description_width": ""
      }
     },
     "dd2f4a1c6ce84d6fa575d05adbd0526a": {
      "model_module": "@jupyter-widgets/base",
      "model_module_version": "1.1.0",
      "model_name": "LayoutModel",
      "state": {}
     },
     "dd52eee8d1054e508c949de18e0394c0": {
      "model_module": "@jupyter-widgets/base",
      "model_module_version": "1.1.0",
      "model_name": "LayoutModel",
      "state": {
       "grid_area": "footer",
       "width": "auto"
      }
     },
     "de0e7ea274f94a89a7a877aebbef7d54": {
      "model_module": "@jupyter-widgets/controls",
      "model_module_version": "1.4.0",
      "model_name": "DescriptionStyleModel",
      "state": {
       "description_width": ""
      }
     },
     "de629c849d794839adfe4581db16aa08": {
      "model_module": "@jupyter-widgets/output",
      "model_module_version": "1.0.0",
      "model_name": "OutputModel",
      "state": {
       "layout": "IPY_MODEL_0a69ba0e8251418caee0016067072d11"
      }
     },
     "dedadf3e45654b8382cbe163a6b8bfb2": {
      "model_module": "@jupyter-widgets/controls",
      "model_module_version": "1.4.0",
      "model_name": "ButtonStyleModel",
      "state": {}
     },
     "def257ef9e31402f865869ef411f917c": {
      "model_module": "@jupyter-widgets/base",
      "model_module_version": "1.1.0",
      "model_name": "LayoutModel",
      "state": {
       "grid_area": "sidebar",
       "width": "auto"
      }
     },
     "df26b4d8eabb498c9b858570ee2375a6": {
      "model_module": "@jupyter-widgets/base",
      "model_module_version": "1.1.0",
      "model_name": "LayoutModel",
      "state": {
       "align_items": "center",
       "grid_area": "left",
       "width": "90%"
      }
     },
     "df2a1af7b41c4ce69d63c2c78ba724bc": {
      "model_module": "@jupyter-widgets/controls",
      "model_module_version": "1.4.0",
      "model_name": "TextModel",
      "state": {
       "layout": "IPY_MODEL_f6ba352e33ec4f92ad80aea211902af2",
       "placeholder": "user_id",
       "style": "IPY_MODEL_13c088c6b0d34b4eb1c5ec00808cd81d"
      }
     },
     "df9f65788ffe43adb4868ee1e54d42c2": {
      "model_module": "@jupyter-widgets/base",
      "model_module_version": "1.1.0",
      "model_name": "LayoutModel",
      "state": {
       "align_items": "center",
       "grid_area": "right",
       "width": "90%"
      }
     },
     "dfe7979c5aac4c5fad530cd2a75a0823": {
      "model_module": "@jupyter-widgets/base",
      "model_module_version": "1.1.0",
      "model_name": "LayoutModel",
      "state": {
       "grid_area": "footer",
       "width": "auto"
      }
     },
     "e006b079f02a4e27979b93a6c6e9766a": {
      "model_module": "@jupyter-widgets/controls",
      "model_module_version": "1.4.0",
      "model_name": "ButtonModel",
      "state": {
       "button_style": "info",
       "description": "Submit",
       "layout": "IPY_MODEL_e1d01440f6864b88becc62a0221cf861",
       "style": "IPY_MODEL_1ed818d2c64641e19a019c8fc38e781f"
      }
     },
     "e0fdbe6c5ba54161ad06f52b0895889e": {
      "model_module": "@jupyter-widgets/controls",
      "model_module_version": "1.4.0",
      "model_name": "DescriptionStyleModel",
      "state": {
       "description_width": ""
      }
     },
     "e17d61a47f554e26b6e410bfd5acfb6f": {
      "model_module": "@jupyter-widgets/base",
      "model_module_version": "1.1.0",
      "model_name": "LayoutModel",
      "state": {
       "grid_template_areas": "\n            \" . header header .\"\n            \"left left right right\"\n            \" . footer footer . \"\n            ",
       "grid_template_columns": "25% 25% 25% 25%",
       "grid_template_rows": "auto auto auto",
       "margin": "2% 0% 2% 10%",
       "width": "80%"
      }
     },
     "e193c12d0c2f43b1a610485ebbe2b2f5": {
      "model_module": "@jupyter-widgets/base",
      "model_module_version": "1.1.0",
      "model_name": "LayoutModel",
      "state": {
       "grid_template_areas": "\n            \" . header header .\"\n            \"left left right right\"\n            \" . footer footer . \"\n            ",
       "grid_template_columns": "25% 25% 25% 25%",
       "grid_template_rows": "auto auto auto",
       "margin": "2% 0% 2% 10%",
       "width": "80%"
      }
     },
     "e1d01440f6864b88becc62a0221cf861": {
      "model_module": "@jupyter-widgets/base",
      "model_module_version": "1.1.0",
      "model_name": "LayoutModel",
      "state": {
       "grid_area": "footer",
       "width": "auto"
      }
     },
     "e1e0dac6487441fbbf71ad95ca998704": {
      "model_module": "@jupyter-widgets/controls",
      "model_module_version": "1.4.0",
      "model_name": "TextModel",
      "state": {
       "layout": "IPY_MODEL_6820136df16845309f00a3210891846f",
       "placeholder": "user_id",
       "style": "IPY_MODEL_ee29d48e2d8743aab7d8580a06080494",
       "value": "5443278"
      }
     },
     "e1e6b7f1f01245f199d5370720126367": {
      "model_module": "@jupyter-widgets/controls",
      "model_module_version": "1.4.0",
      "model_name": "TextModel",
      "state": {
       "layout": "IPY_MODEL_60ec250d1c604e439c8e8a6d9799b862",
       "placeholder": "API TOKEN",
       "style": "IPY_MODEL_55d7ec73f67142e5b84419a4ef802ecf"
      }
     },
     "e29db091b3ae4de3a51e65d09fb2b2a4": {
      "model_module": "@jupyter-widgets/controls",
      "model_module_version": "1.4.0",
      "model_name": "DescriptionStyleModel",
      "state": {
       "description_width": ""
      }
     },
     "e3496b66a60f4f8fabd78f4aed93540e": {
      "model_module": "@jupyter-widgets/base",
      "model_module_version": "1.1.0",
      "model_name": "LayoutModel",
      "state": {
       "grid_template_areas": "\n            \" . header header .\"\n            \"left left right right\"\n            \" . footer footer . \"\n            ",
       "grid_template_columns": "25% 25% 25% 25%",
       "grid_template_rows": "auto auto auto",
       "margin": "2% 0% 2% 10%",
       "width": "80%"
      }
     },
     "e4196869d7cc4b98bb9bdac0f8f9bccc": {
      "model_module": "@jupyter-widgets/output",
      "model_module_version": "1.0.0",
      "model_name": "OutputModel",
      "state": {
       "layout": "IPY_MODEL_880f2bf6dbce423d80dce13eefb2a3da"
      }
     },
     "e42412a6e64741088f69f244c870549b": {
      "model_module": "@jupyter-widgets/base",
      "model_module_version": "1.1.0",
      "model_name": "LayoutModel",
      "state": {
       "align_items": "center",
       "grid_area": "right",
       "width": "90%"
      }
     },
     "e430038ef8814e78a6326e4b40048d6c": {
      "model_module": "@jupyter-widgets/base",
      "model_module_version": "1.1.0",
      "model_name": "LayoutModel",
      "state": {
       "align_items": "center",
       "grid_area": "left",
       "width": "90%"
      }
     },
     "e44a91a108d84ef1b2fd22c4dab53ca5": {
      "model_module": "@jupyter-widgets/controls",
      "model_module_version": "1.4.0",
      "model_name": "DescriptionStyleModel",
      "state": {
       "description_width": ""
      }
     },
     "e47f099aae3b4a239d74168e37f58bfb": {
      "model_module": "@jupyter-widgets/base",
      "model_module_version": "1.1.0",
      "model_name": "LayoutModel",
      "state": {}
     },
     "e4e0a63ee799461c9620fc9bb52112ed": {
      "model_module": "@jupyter-widgets/base",
      "model_module_version": "1.1.0",
      "model_name": "LayoutModel",
      "state": {
       "grid_area": "footer",
       "width": "auto"
      }
     },
     "e5327d0d5a9a4e9f8e2fc8c86a6a9308": {
      "model_module": "@jupyter-widgets/base",
      "model_module_version": "1.1.0",
      "model_name": "LayoutModel",
      "state": {}
     },
     "e55cb7750ce64b42881de16d8a7d555a": {
      "model_module": "@jupyter-widgets/base",
      "model_module_version": "1.1.0",
      "model_name": "LayoutModel",
      "state": {
       "grid_template_areas": "\n            \" . header header .\"\n            \"left left right right\"\n            \" . footer footer . \"\n            ",
       "grid_template_columns": "25% 25% 25% 25%",
       "grid_template_rows": "auto auto auto",
       "margin": "2% 0% 2% 10%",
       "width": "80%"
      }
     },
     "e55d220563d34713b7cddf304aee88a3": {
      "model_module": "@jupyter-widgets/base",
      "model_module_version": "1.1.0",
      "model_name": "LayoutModel",
      "state": {
       "grid_template_areas": "\n            \" . header header .\"\n            \"left left right right\"\n            \" . footer footer . \"\n            ",
       "grid_template_columns": "25% 25% 25% 25%",
       "grid_template_rows": "auto auto auto",
       "margin": "2% 0% 2% 10%",
       "width": "80%"
      }
     },
     "e5e3f197c6604d7ca8f88c083975a6f6": {
      "model_module": "@jupyter-widgets/base",
      "model_module_version": "1.1.0",
      "model_name": "LayoutModel",
      "state": {}
     },
     "e5e7d0f68ed74fc4bcc3f0030318363a": {
      "model_module": "@jupyter-widgets/output",
      "model_module_version": "1.0.0",
      "model_name": "OutputModel",
      "state": {
       "layout": "IPY_MODEL_b2ec2ac30aaa4d568a6cd9986cde6ff3"
      }
     },
     "e6198748ae474b9986eacedcb42d8f14": {
      "model_module": "@jupyter-widgets/base",
      "model_module_version": "1.1.0",
      "model_name": "LayoutModel",
      "state": {
       "align_items": "center",
       "grid_area": "left",
       "width": "90%"
      }
     },
     "e66b98d6a19845c7806a878097b435ed": {
      "model_module": "@jupyter-widgets/controls",
      "model_module_version": "1.4.0",
      "model_name": "DescriptionStyleModel",
      "state": {
       "description_width": ""
      }
     },
     "e6eafbd821bc4b77bc6821aeb129c3f8": {
      "model_module": "@jupyter-widgets/base",
      "model_module_version": "1.1.0",
      "model_name": "LayoutModel",
      "state": {
       "grid_area": "footer",
       "width": "auto"
      }
     },
     "e7b3b9958d004d6a8441bd6602ad385e": {
      "model_module": "@jupyter-widgets/controls",
      "model_module_version": "1.4.0",
      "model_name": "GridBoxModel",
      "state": {
       "children": [
        "IPY_MODEL_849ce570f13b46f1a2aa30686250fc2b",
        "IPY_MODEL_28913e379eb34936b62d41d300b92129",
        "IPY_MODEL_7c0ada65308847eeb8a5d97f7b8f176f",
        "IPY_MODEL_659a539359a24fff8832934e2913b50f"
       ],
       "layout": "IPY_MODEL_570f083a0e2f4a49b7f4911ab1637e58"
      }
     },
     "e7c2754f45e8433d92c68a6fb1f265b1": {
      "model_module": "@jupyter-widgets/controls",
      "model_module_version": "1.4.0",
      "model_name": "GridBoxModel",
      "state": {
       "children": [
        "IPY_MODEL_0a03162d3f254251b0e81ce21b2cfc01",
        "IPY_MODEL_7b28a5de5e004105bb595a1f3aca7bda",
        "IPY_MODEL_82b8ce75c77f4040a434d793a1e54518",
        "IPY_MODEL_6de854eaa8dc44d099997c7fa1482458"
       ],
       "layout": "IPY_MODEL_4bd79c3ca52047a7ad85f4fc83800b13"
      }
     },
     "e8211486372b472f8eebea6078f3e027": {
      "model_module": "@jupyter-widgets/output",
      "model_module_version": "1.0.0",
      "model_name": "OutputModel",
      "state": {
       "layout": "IPY_MODEL_143a8df8740e4ceeaf143e26110fb8c1",
       "outputs": [
        {
         "data": {
          "text/html": "<div>\n<style scoped>\n    .dataframe tbody tr th:only-of-type {\n        vertical-align: middle;\n    }\n\n    .dataframe tbody tr th {\n        vertical-align: top;\n    }\n\n    .dataframe thead th {\n        text-align: right;\n    }\n</style>\n<table border=\"1\" class=\"dataframe\">\n  <thead>\n    <tr style=\"text-align: right;\">\n      <th></th>\n      <th>action</th>\n      <th>controller</th>\n      <th>path</th>\n      <th>resource</th>\n      <th>resource_name</th>\n      <th>scope</th>\n      <th>verb</th>\n    </tr>\n  </thead>\n  <tbody>\n    <tr>\n      <th>11</th>\n      <td>index</td>\n      <td>accounts</td>\n      <td>/api/v1/accounts</td>\n      <td>accounts</td>\n      <td>Accounts</td>\n      <td>url:GET|/api/v1/accounts</td>\n      <td>GET</td>\n    </tr>\n    <tr>\n      <th>12</th>\n      <td>course_accounts</td>\n      <td>accounts</td>\n      <td>/api/v1/course_accounts</td>\n      <td>accounts</td>\n      <td>Accounts</td>\n      <td>url:GET|/api/v1/course_accounts</td>\n      <td>GET</td>\n    </tr>\n    <tr>\n      <th>13</th>\n      <td>show</td>\n      <td>accounts</td>\n      <td>/api/v1/accounts/:id</td>\n      <td>accounts</td>\n      <td>Accounts</td>\n      <td>url:GET|/api/v1/accounts/:id</td>\n      <td>GET</td>\n    </tr>\n    <tr>\n      <th>14</th>\n      <td>update</td>\n      <td>accounts</td>\n      <td>/api/v1/accounts/:id</td>\n      <td>accounts</td>\n      <td>Accounts</td>\n      <td>url:PUT|/api/v1/accounts/:id</td>\n      <td>PUT</td>\n    </tr>\n    <tr>\n      <th>15</th>\n      <td>terms_of_service</td>\n      <td>accounts</td>\n      <td>/api/v1/accounts/:account_id/terms_of_service</td>\n      <td>accounts</td>\n      <td>Accounts</td>\n      <td>url:GET|/api/v1/accounts/:account_id/terms_of_...</td>\n      <td>GET</td>\n    </tr>\n    <tr>\n      <th>16</th>\n      <td>help_links</td>\n      <td>accounts</td>\n      <td>/api/v1/accounts/:account_id/help_links</td>\n      <td>accounts</td>\n      <td>Accounts</td>\n      <td>url:GET|/api/v1/accounts/:account_id/help_links</td>\n      <td>GET</td>\n    </tr>\n    <tr>\n      <th>17</th>\n      <td>courses_api</td>\n      <td>accounts</td>\n      <td>/api/v1/accounts/:account_id/courses</td>\n      <td>accounts</td>\n      <td>Accounts</td>\n      <td>url:GET|/api/v1/accounts/:account_id/courses</td>\n      <td>GET</td>\n    </tr>\n    <tr>\n      <th>18</th>\n      <td>sub_accounts</td>\n      <td>accounts</td>\n      <td>/api/v1/accounts/:account_id/sub_accounts</td>\n      <td>accounts</td>\n      <td>Accounts</td>\n      <td>url:GET|/api/v1/accounts/:account_id/sub_accounts</td>\n      <td>GET</td>\n    </tr>\n    <tr>\n      <th>19</th>\n      <td>permissions</td>\n      <td>accounts</td>\n      <td>/api/v1/accounts/:account_id/permissions</td>\n      <td>accounts</td>\n      <td>Accounts</td>\n      <td>url:GET|/api/v1/accounts/:account_id/permissions</td>\n      <td>GET</td>\n    </tr>\n    <tr>\n      <th>20</th>\n      <td>remove_user</td>\n      <td>accounts</td>\n      <td>/api/v1/accounts/:account_id/users/:user_id</td>\n      <td>accounts</td>\n      <td>Accounts</td>\n      <td>url:DELETE|/api/v1/accounts/:account_id/users/...</td>\n      <td>DELETE</td>\n    </tr>\n    <tr>\n      <th>21</th>\n      <td>create</td>\n      <td>sub_accounts</td>\n      <td>/api/v1/accounts/:account_id/sub_accounts</td>\n      <td>accounts</td>\n      <td>Accounts</td>\n      <td>url:POST|/api/v1/accounts/:account_id/sub_acco...</td>\n      <td>POST</td>\n    </tr>\n    <tr>\n      <th>22</th>\n      <td>destroy</td>\n      <td>sub_accounts</td>\n      <td>/api/v1/accounts/:account_id/sub_accounts/:id</td>\n      <td>accounts</td>\n      <td>Accounts</td>\n      <td>url:DELETE|/api/v1/accounts/:account_id/sub_ac...</td>\n      <td>DELETE</td>\n    </tr>\n  </tbody>\n</table>\n</div>",
          "text/plain": "              action    controller  \\\n11             index      accounts   \n12   course_accounts      accounts   \n13              show      accounts   \n14            update      accounts   \n15  terms_of_service      accounts   \n16        help_links      accounts   \n17       courses_api      accounts   \n18      sub_accounts      accounts   \n19       permissions      accounts   \n20       remove_user      accounts   \n21            create  sub_accounts   \n22           destroy  sub_accounts   \n\n                                             path  resource resource_name  \\\n11                               /api/v1/accounts  accounts      Accounts   \n12                        /api/v1/course_accounts  accounts      Accounts   \n13                           /api/v1/accounts/:id  accounts      Accounts   \n14                           /api/v1/accounts/:id  accounts      Accounts   \n15  /api/v1/accounts/:account_id/terms_of_service  accounts      Accounts   \n16        /api/v1/accounts/:account_id/help_links  accounts      Accounts   \n17           /api/v1/accounts/:account_id/courses  accounts      Accounts   \n18      /api/v1/accounts/:account_id/sub_accounts  accounts      Accounts   \n19       /api/v1/accounts/:account_id/permissions  accounts      Accounts   \n20    /api/v1/accounts/:account_id/users/:user_id  accounts      Accounts   \n21      /api/v1/accounts/:account_id/sub_accounts  accounts      Accounts   \n22  /api/v1/accounts/:account_id/sub_accounts/:id  accounts      Accounts   \n\n                                                scope    verb  \n11                           url:GET|/api/v1/accounts     GET  \n12                    url:GET|/api/v1/course_accounts     GET  \n13                       url:GET|/api/v1/accounts/:id     GET  \n14                       url:PUT|/api/v1/accounts/:id     PUT  \n15  url:GET|/api/v1/accounts/:account_id/terms_of_...     GET  \n16    url:GET|/api/v1/accounts/:account_id/help_links     GET  \n17       url:GET|/api/v1/accounts/:account_id/courses     GET  \n18  url:GET|/api/v1/accounts/:account_id/sub_accounts     GET  \n19   url:GET|/api/v1/accounts/:account_id/permissions     GET  \n20  url:DELETE|/api/v1/accounts/:account_id/users/...  DELETE  \n21  url:POST|/api/v1/accounts/:account_id/sub_acco...    POST  \n22  url:DELETE|/api/v1/accounts/:account_id/sub_ac...  DELETE  "
         },
         "metadata": {},
         "output_type": "display_data"
        }
       ]
      }
     },
     "e93cb828e58c4e79b25e4d137b879b90": {
      "model_module": "@jupyter-widgets/controls",
      "model_module_version": "1.4.0",
      "model_name": "GridBoxModel",
      "state": {
       "children": [
        "IPY_MODEL_812b06477b6f47f8b5856d5126d0c0e9",
        "IPY_MODEL_db52d8cbba4a48a2913b95347eb97465",
        "IPY_MODEL_61450e1e119f4fbba05fc08389d9d420",
        "IPY_MODEL_7df3164e7e4f48ebaefb514702f48b69"
       ],
       "layout": "IPY_MODEL_d39650ef83544e6cb108050aee948647"
      }
     },
     "e94a381d6ee84b3a91982c014ea7dfc9": {
      "model_module": "@jupyter-widgets/controls",
      "model_module_version": "1.4.0",
      "model_name": "GridBoxModel",
      "state": {
       "children": [
        "IPY_MODEL_8d9df8e8e64c4be6872ade0ae5567a07",
        "IPY_MODEL_cb91d17a1d424fd586b728c01f30eeb2",
        "IPY_MODEL_8f491d06e4ce4c5f9a004576a5cd90f5",
        "IPY_MODEL_b0a5bf2bcc0e494e86e52668688d9360"
       ],
       "layout": "IPY_MODEL_8c0d324ac24248aaa5d58ad485d06d5b"
      }
     },
     "ea564a7baeac479a9f2c6a04ca6ee347": {
      "model_module": "@jupyter-widgets/output",
      "model_module_version": "1.0.0",
      "model_name": "OutputModel",
      "state": {
       "layout": "IPY_MODEL_a887c069997b4c18b1639a3a0f031e0d"
      }
     },
     "eab34f55afce4e06937d25649d7f3e0f": {
      "model_module": "@jupyter-widgets/controls",
      "model_module_version": "1.4.0",
      "model_name": "DropdownModel",
      "state": {
       "_options_labels": [
        "ALL",
        "API Token Scopes",
        "Account Domain Lookups",
        "Account Notifications",
        "Account Reports",
        "Accounts",
        "Admins",
        "Analytics",
        "Announcement External Feeds",
        "Announcements",
        "Appointment Groups",
        "Assignment Extensions",
        "Assignment Groups",
        "Assignments",
        "Authentication Providers",
        "Authentications Log",
        "Blueprint Courses",
        "Bookmarks",
        "Brand Configs",
        "Calendar Events",
        "Collaborations",
        "CommMessages",
        "Communication Channels",
        "Conferences",
        "Content Exports",
        "Content Migrations",
        "Content Security Policy Settings",
        "Conversations",
        "Course Audit log",
        "Course Quiz Extensions",
        "Courses",
        "Custom Gradebook Columns",
        "Discussion Topics",
        "Enrollment Terms",
        "Enrollments",
        "Error Reports",
        "External Tools",
        "Favorites",
        "Feature Flags",
        "Files",
        "Grade Change Log",
        "Gradebook History",
        "Grading Periods",
        "Grading Standards",
        "Group Categories",
        "Groups",
        "JWTs",
        "Late Policy",
        "LiveAssessments",
        "Logins",
        "Moderated Grading",
        "Modules",
        "Notification Preferences",
        "OAuth 2",
        "Outcome Groups",
        "Outcome Imports",
        "Outcome Results",
        "Outcomes",
        "Pages",
        "Peer Reviews",
        "Plagiarism Detection Platform Assignments",
        "Planner",
        "Poll Sessions",
        "PollChoices",
        "PollSubmissions",
        "Polls",
        "Proficiency Ratings",
        "Progress",
        "Quiz Assignment Overrides",
        "Quiz Extensions",
        "Quiz IP Filters",
        "Quiz Question Groups",
        "Quiz Questions",
        "Quiz Reports",
        "Quiz Statistics",
        "Quiz Submission Events",
        "Quiz Submission Files",
        "Quiz Submission Questions",
        "Quiz Submission User List",
        "Quiz Submissions",
        "Quizzes",
        "Roles",
        "Rubrics",
        "SIS Import Errors",
        "SIS Imports",
        "SIS Integration",
        "Search",
        "Sections",
        "Services",
        "Shared Brand Configs",
        "Submission Comments",
        "Submissions",
        "Tabs",
        "User Observees",
        "Users",
        "ePub Exports"
       ],
       "description": "Resource",
       "index": 3,
       "layout": "IPY_MODEL_bdb4da55562848a8b310d0efeeee4626",
       "style": "IPY_MODEL_1438ecbb662b40468fa6417e2c9613a4"
      }
     },
     "eaeb786928284a8087d9bfbf7e87777c": {
      "model_module": "@jupyter-widgets/controls",
      "model_module_version": "1.4.0",
      "model_name": "TextModel",
      "state": {
       "layout": "IPY_MODEL_d90ab56166f843548ba462ea13c9380c",
       "placeholder": "API TOKEN",
       "style": "IPY_MODEL_360fe362265b43b1a3ebe0d6d043af3f",
       "value": "25~SEUFg2kAnCcarRFHAKTH1H7NIEFu7cEGeKrf2gNGkjAZTzElglrqGiVOlq5BfdKK"
      }
     },
     "eb0d6aa2f93d407b9495a15e4e05bae2": {
      "model_module": "@jupyter-widgets/controls",
      "model_module_version": "1.4.0",
      "model_name": "DatePickerModel",
      "state": {
       "description": "start date",
       "disabled": false,
       "layout": "IPY_MODEL_27ca71b88a7e4366b4a9ccccc2e6f5a9",
       "style": "IPY_MODEL_fe3ab68832554ded8e977a4b648c0f47"
      }
     },
     "eb24ae19085b470d80af3a467286b3e9": {
      "model_module": "@jupyter-widgets/base",
      "model_module_version": "1.1.0",
      "model_name": "LayoutModel",
      "state": {
       "grid_template_areas": "\n            \" . header header .\"\n            \"left left right right\"\n            \" . footer footer . \"\n            ",
       "grid_template_columns": "25% 25% 25% 25%",
       "grid_template_rows": "auto auto auto",
       "margin": "2% 0% 2% 10%",
       "width": "80%"
      }
     },
     "eb4fef86933d450194fc1f60c45d61bf": {
      "model_module": "@jupyter-widgets/controls",
      "model_module_version": "1.4.0",
      "model_name": "ButtonStyleModel",
      "state": {}
     },
     "eb6d869459e249bf876d35c30f7a1218": {
      "model_module": "@jupyter-widgets/controls",
      "model_module_version": "1.4.0",
      "model_name": "ButtonModel",
      "state": {
       "button_style": "info",
       "description": "Get PageViews",
       "layout": "IPY_MODEL_ae4698c837e4404ea68d592941fa9c3a",
       "style": "IPY_MODEL_f65e4acfa55f4ee28d66984102cd0fcf"
      }
     },
     "ec0beffba556440a83da38e99c739d05": {
      "model_module": "@jupyter-widgets/output",
      "model_module_version": "1.0.0",
      "model_name": "OutputModel",
      "state": {
       "layout": "IPY_MODEL_332fe82fa34b4e27acaefee30c9333d5"
      }
     },
     "ec668a38dfd74510a3e2c49636d8c2d8": {
      "model_module": "@jupyter-widgets/base",
      "model_module_version": "1.1.0",
      "model_name": "LayoutModel",
      "state": {
       "align_items": "center",
       "grid_area": "header",
       "width": "90%"
      }
     },
     "ed3c8a1980194930a7ea8c17b5fee830": {
      "model_module": "@jupyter-widgets/controls",
      "model_module_version": "1.4.0",
      "model_name": "ButtonModel",
      "state": {
       "button_style": "info",
       "description": "Get PageViews",
       "layout": "IPY_MODEL_fa206cff6d07404f966bf046c847a96c",
       "style": "IPY_MODEL_c3badd76d9fe426e89411733e4251b66"
      }
     },
     "eda86906eaa64f6981e0b53b5d3a920a": {
      "model_module": "@jupyter-widgets/base",
      "model_module_version": "1.1.0",
      "model_name": "LayoutModel",
      "state": {
       "align_items": "center",
       "grid_area": "left",
       "width": "90%"
      }
     },
     "ee29d48e2d8743aab7d8580a06080494": {
      "model_module": "@jupyter-widgets/controls",
      "model_module_version": "1.4.0",
      "model_name": "DescriptionStyleModel",
      "state": {
       "description_width": ""
      }
     },
     "ee855118576842439f77997de695d8e4": {
      "model_module": "@jupyter-widgets/base",
      "model_module_version": "1.1.0",
      "model_name": "LayoutModel",
      "state": {
       "align_items": "center",
       "grid_area": "header",
       "width": "90%"
      }
     },
     "eec08c666b3d4f3186a11c2c0f1a6aa9": {
      "model_module": "@jupyter-widgets/base",
      "model_module_version": "1.1.0",
      "model_name": "LayoutModel",
      "state": {
       "grid_template_areas": "\n            \" . header header .\"\n            \"left left right right\"\n            \" . footer footer . \"\n            ",
       "grid_template_columns": "25% 25% 25% 25%",
       "grid_template_rows": "auto auto auto",
       "margin": "2% 0% 2% 10%",
       "width": "80%"
      }
     },
     "eef06110af0e44a1aae7d502e1cbf3e5": {
      "model_module": "@jupyter-widgets/controls",
      "model_module_version": "1.4.0",
      "model_name": "DescriptionStyleModel",
      "state": {
       "description_width": ""
      }
     },
     "eff08638ddea41cda84a2b9e19551a32": {
      "model_module": "@jupyter-widgets/base",
      "model_module_version": "1.1.0",
      "model_name": "LayoutModel",
      "state": {
       "align_items": "center",
       "grid_area": "right",
       "width": "90%"
      }
     },
     "f047729d80124655b88655c9bee6bb12": {
      "model_module": "@jupyter-widgets/controls",
      "model_module_version": "1.4.0",
      "model_name": "DescriptionStyleModel",
      "state": {
       "description_width": ""
      }
     },
     "f0812b839c8046449bddcb218d6d390b": {
      "model_module": "@jupyter-widgets/base",
      "model_module_version": "1.1.0",
      "model_name": "LayoutModel",
      "state": {
       "align_items": "center",
       "grid_area": "header",
       "width": "90%"
      }
     },
     "f0882a65958b44389d97c9f1baefea23": {
      "model_module": "@jupyter-widgets/base",
      "model_module_version": "1.1.0",
      "model_name": "LayoutModel",
      "state": {
       "grid_area": "footer",
       "width": "auto"
      }
     },
     "f0944c5e8ad445bcb0237efd8d941e84": {
      "model_module": "@jupyter-widgets/output",
      "model_module_version": "1.0.0",
      "model_name": "OutputModel",
      "state": {
       "layout": "IPY_MODEL_0c060e623bed48c4b871d3bbc73b95e7"
      }
     },
     "f1e2fd1e1e484d0e9f57ad11fcda7c03": {
      "model_module": "@jupyter-widgets/controls",
      "model_module_version": "1.4.0",
      "model_name": "TextModel",
      "state": {
       "layout": "IPY_MODEL_afc417c905f74d75b301ed7970c079ce",
       "placeholder": "user_id",
       "style": "IPY_MODEL_0781d61f76bb44bb8a09a261eafcb7cb",
       "value": "999999"
      }
     },
     "f20b9acd86744a55a1e2a183c97d407c": {
      "model_module": "@jupyter-widgets/controls",
      "model_module_version": "1.4.0",
      "model_name": "DescriptionStyleModel",
      "state": {
       "description_width": ""
      }
     },
     "f25d9c45c1c2460ab5278504c87d977d": {
      "model_module": "@jupyter-widgets/controls",
      "model_module_version": "1.4.0",
      "model_name": "DatePickerModel",
      "state": {
       "description": "start date",
       "disabled": false,
       "layout": "IPY_MODEL_ba61a2d4f7504bb59a4192407f6d780c",
       "style": "IPY_MODEL_3902b8a67bf34f12bcd22014857e2b22"
      }
     },
     "f285c5c188e4483f91cea789c9660b9f": {
      "model_module": "@jupyter-widgets/controls",
      "model_module_version": "1.4.0",
      "model_name": "DropdownModel",
      "state": {
       "_options_labels": [
        "ALL",
        "API Token Scopes",
        "Account Domain Lookups",
        "Account Notifications",
        "Account Reports",
        "Accounts",
        "Admins",
        "Analytics",
        "Announcement External Feeds",
        "Announcements",
        "Appointment Groups",
        "Assignment Extensions",
        "Assignment Groups",
        "Assignments",
        "Authentication Providers",
        "Authentications Log",
        "Blueprint Courses",
        "Bookmarks",
        "Brand Configs",
        "Calendar Events",
        "Collaborations",
        "CommMessages",
        "Communication Channels",
        "Conferences",
        "Content Exports",
        "Content Migrations",
        "Content Security Policy Settings",
        "Conversations",
        "Course Audit log",
        "Course Quiz Extensions",
        "Courses",
        "Custom Gradebook Columns",
        "Discussion Topics",
        "Enrollment Terms",
        "Enrollments",
        "Error Reports",
        "External Tools",
        "Favorites",
        "Feature Flags",
        "Files",
        "Grade Change Log",
        "Gradebook History",
        "Grading Periods",
        "Grading Standards",
        "Group Categories",
        "Groups",
        "JWTs",
        "Late Policy",
        "LiveAssessments",
        "Logins",
        "Moderated Grading",
        "Modules",
        "Notification Preferences",
        "OAuth 2",
        "Outcome Groups",
        "Outcome Imports",
        "Outcome Results",
        "Outcomes",
        "Pages",
        "Peer Reviews",
        "Plagiarism Detection Platform Assignments",
        "Planner",
        "Poll Sessions",
        "PollChoices",
        "PollSubmissions",
        "Polls",
        "Proficiency Ratings",
        "Progress",
        "Quiz Assignment Overrides",
        "Quiz Extensions",
        "Quiz IP Filters",
        "Quiz Question Groups",
        "Quiz Questions",
        "Quiz Reports",
        "Quiz Statistics",
        "Quiz Submission Events",
        "Quiz Submission Files",
        "Quiz Submission Questions",
        "Quiz Submission User List",
        "Quiz Submissions",
        "Quizzes",
        "Roles",
        "Rubrics",
        "SIS Import Errors",
        "SIS Imports",
        "SIS Integration",
        "Search",
        "Sections",
        "Services",
        "Shared Brand Configs",
        "Submission Comments",
        "Submissions",
        "Tabs",
        "User Observees",
        "Users",
        "ePub Exports"
       ],
       "description": "Resource",
       "index": 5,
       "layout": "IPY_MODEL_d9c4cf0dfd314e51b5080ce9d04dfcb5",
       "style": "IPY_MODEL_05d5a45ab8c7486ab22216caaf6f0853"
      }
     },
     "f287083e9781485da1cdc9999f38a458": {
      "model_module": "@jupyter-widgets/base",
      "model_module_version": "1.1.0",
      "model_name": "LayoutModel",
      "state": {}
     },
     "f316961eff8a43cfbeff66f13e099238": {
      "model_module": "@jupyter-widgets/base",
      "model_module_version": "1.1.0",
      "model_name": "LayoutModel",
      "state": {
       "align_items": "center",
       "grid_area": "header",
       "width": "90%"
      }
     },
     "f366acc3f1a94cadbc4d4d225ce7833b": {
      "model_module": "@jupyter-widgets/controls",
      "model_module_version": "1.4.0",
      "model_name": "ButtonModel",
      "state": {
       "button_style": "success",
       "description": "Authorized",
       "disabled": true,
       "icon": "lock",
       "layout": "IPY_MODEL_3ef1af2e93484c98a40930a26c68b945",
       "style": "IPY_MODEL_dedadf3e45654b8382cbe163a6b8bfb2"
      }
     },
     "f3c2fa5a34414cf2bea12e16ddd7e2a8": {
      "model_module": "@jupyter-widgets/controls",
      "model_module_version": "1.4.0",
      "model_name": "GridBoxModel",
      "state": {
       "children": [
        "IPY_MODEL_5874c4db148346a0b20a1d43712f3f89",
        "IPY_MODEL_4fd007fb3b354a5189f43564c85e2921",
        "IPY_MODEL_a5c715ea75d14d3d8dd70e6ed8aa5e1c",
        "IPY_MODEL_da1a248db25146b4aa793f43cece41e5"
       ],
       "layout": "IPY_MODEL_69d115d571f146bea767786fc063793b"
      }
     },
     "f46be6f2161343659f098935ea921ba9": {
      "model_module": "@jupyter-widgets/base",
      "model_module_version": "1.1.0",
      "model_name": "LayoutModel",
      "state": {
       "align_items": "center",
       "grid_area": "header",
       "width": "90%"
      }
     },
     "f48d355be9d04bd1953619f3eeda26f1": {
      "model_module": "@jupyter-widgets/controls",
      "model_module_version": "1.4.0",
      "model_name": "ButtonStyleModel",
      "state": {}
     },
     "f490c39d1cc64b048bae9c19900dba01": {
      "model_module": "@jupyter-widgets/base",
      "model_module_version": "1.1.0",
      "model_name": "LayoutModel",
      "state": {
       "grid_template_areas": "\n            \" . header header .\"\n            \"left left right right\"\n            \" . footer footer . \"\n            ",
       "grid_template_columns": "25% 25% 25% 25%",
       "grid_template_rows": "auto auto auto",
       "margin": "2% 0% 2% 10%",
       "width": "80%"
      }
     },
     "f4a480c3208d4c539ca9d23d1b8c7a37": {
      "model_module": "@jupyter-widgets/base",
      "model_module_version": "1.1.0",
      "model_name": "LayoutModel",
      "state": {
       "grid_area": "sidebar",
       "width": "auto"
      }
     },
     "f541d1db585b49a6855c4090fc4e3867": {
      "model_module": "@jupyter-widgets/base",
      "model_module_version": "1.1.0",
      "model_name": "LayoutModel",
      "state": {
       "align_items": "center",
       "grid_area": "header",
       "width": "90%"
      }
     },
     "f5f068f10ca9456a9dc77e14c19a16dd": {
      "model_module": "@jupyter-widgets/controls",
      "model_module_version": "1.4.0",
      "model_name": "GridBoxModel",
      "state": {
       "children": [
        "IPY_MODEL_f6404cbaec4741da951b30d2efeb046d",
        "IPY_MODEL_bc360be5057b4e699be66ada59c93b63",
        "IPY_MODEL_9562dc2457cc45b48bcdba5a877e506f",
        "IPY_MODEL_7bb5bb2748844afaa854702db97bed2d"
       ],
       "layout": "IPY_MODEL_c17d447b096747fea417c279fbab2d80"
      }
     },
     "f63354ff82b14e1b9ad4f419b5f40551": {
      "model_module": "@jupyter-widgets/base",
      "model_module_version": "1.1.0",
      "model_name": "LayoutModel",
      "state": {
       "align_items": "center",
       "grid_area": "right",
       "width": "90%"
      }
     },
     "f6404cbaec4741da951b30d2efeb046d": {
      "model_module": "@jupyter-widgets/controls",
      "model_module_version": "1.4.0",
      "model_name": "TextModel",
      "state": {
       "layout": "IPY_MODEL_71df872dc69e4547b7ac83b61c3cfaab",
       "placeholder": "user_id",
       "style": "IPY_MODEL_c628a5b74b10485caf6c469464c6dcca",
       "value": "5443278"
      }
     },
     "f65e4acfa55f4ee28d66984102cd0fcf": {
      "model_module": "@jupyter-widgets/controls",
      "model_module_version": "1.4.0",
      "model_name": "ButtonStyleModel",
      "state": {}
     },
     "f68ff52a4cdc4b1b8e80d148bf99c136": {
      "model_module": "@jupyter-widgets/base",
      "model_module_version": "1.1.0",
      "model_name": "LayoutModel",
      "state": {
       "align_items": "center",
       "grid_area": "right",
       "width": "90%"
      }
     },
     "f6a8bad6279143d3bd2b86de0a716db2": {
      "model_module": "@jupyter-widgets/base",
      "model_module_version": "1.1.0",
      "model_name": "LayoutModel",
      "state": {}
     },
     "f6ba352e33ec4f92ad80aea211902af2": {
      "model_module": "@jupyter-widgets/base",
      "model_module_version": "1.1.0",
      "model_name": "LayoutModel",
      "state": {
       "align_items": "center",
       "grid_area": "header",
       "width": "90%"
      }
     },
     "f6cc95ae13d8488aade1569a3f255e56": {
      "model_module": "@jupyter-widgets/output",
      "model_module_version": "1.0.0",
      "model_name": "OutputModel",
      "state": {
       "layout": "IPY_MODEL_af0af6e1c5c947e5ac9667d849ea578b"
      }
     },
     "f71a3f3bec8447cfa6e586783a502d24": {
      "model_module": "@jupyter-widgets/controls",
      "model_module_version": "1.4.0",
      "model_name": "TextModel",
      "state": {
       "layout": "IPY_MODEL_87f7190b8b6c4019b356395f3bbc8a02",
       "placeholder": "API TOKEN",
       "style": "IPY_MODEL_9672b68ef3b84ad8b7427da55801b978"
      }
     },
     "f73564a8303d4c4a8169db3aca4f6d22": {
      "model_module": "@jupyter-widgets/controls",
      "model_module_version": "1.4.0",
      "model_name": "DescriptionStyleModel",
      "state": {
       "description_width": ""
      }
     },
     "f7b33380678a4f70af59a871fc22eedf": {
      "model_module": "@jupyter-widgets/controls",
      "model_module_version": "1.4.0",
      "model_name": "DescriptionStyleModel",
      "state": {
       "description_width": ""
      }
     },
     "f8463a1a0a7f4ee7a8ab0762b487a99d": {
      "model_module": "@jupyter-widgets/controls",
      "model_module_version": "1.4.0",
      "model_name": "DescriptionStyleModel",
      "state": {
       "description_width": ""
      }
     },
     "f86267f2f438436ba479da5c348109da": {
      "model_module": "@jupyter-widgets/base",
      "model_module_version": "1.1.0",
      "model_name": "LayoutModel",
      "state": {
       "grid_area": "footer",
       "width": "auto"
      }
     },
     "f8bc518259e04df985e79521c3595ecc": {
      "model_module": "@jupyter-widgets/controls",
      "model_module_version": "1.4.0",
      "model_name": "DescriptionStyleModel",
      "state": {
       "description_width": ""
      }
     },
     "f923948e9679449a9cda8f92a0ed4473": {
      "model_module": "@jupyter-widgets/base",
      "model_module_version": "1.1.0",
      "model_name": "LayoutModel",
      "state": {}
     },
     "fa206cff6d07404f966bf046c847a96c": {
      "model_module": "@jupyter-widgets/base",
      "model_module_version": "1.1.0",
      "model_name": "LayoutModel",
      "state": {
       "grid_area": "footer",
       "width": "auto"
      }
     },
     "fb8a2bd0e2f14dc6bdc45c8ca4541203": {
      "model_module": "@jupyter-widgets/controls",
      "model_module_version": "1.4.0",
      "model_name": "ButtonStyleModel",
      "state": {}
     },
     "fc67ea5c29af4c01ac5af4c217a16636": {
      "model_module": "@jupyter-widgets/base",
      "model_module_version": "1.1.0",
      "model_name": "LayoutModel",
      "state": {
       "grid_area": "header",
       "width": "auto"
      }
     },
     "fc95e09a17824ea2946129b24e29341c": {
      "model_module": "@jupyter-widgets/controls",
      "model_module_version": "1.4.0",
      "model_name": "DescriptionStyleModel",
      "state": {
       "description_width": ""
      }
     },
     "fc9d826c0426490d9a5e31a63e95e999": {
      "model_module": "@jupyter-widgets/base",
      "model_module_version": "1.1.0",
      "model_name": "LayoutModel",
      "state": {
       "align_items": "center",
       "grid_area": "left",
       "width": "90%"
      }
     },
     "fd45fcd39de04c60b55626184d908e5a": {
      "model_module": "@jupyter-widgets/controls",
      "model_module_version": "1.4.0",
      "model_name": "DatePickerModel",
      "state": {
       "description": "start date",
       "disabled": false,
       "layout": "IPY_MODEL_2e9522f969eb4fc4b606eca01e837d46",
       "style": "IPY_MODEL_a3797988527a454cb9d2896dd7fb302b"
      }
     },
     "fd5799786ca3467e96a015eb89e3c710": {
      "model_module": "@jupyter-widgets/base",
      "model_module_version": "1.1.0",
      "model_name": "LayoutModel",
      "state": {
       "grid_template_areas": "\n            \" . header header .\"\n            \"left left right right\"\n            \" . footer footer . \"\n            ",
       "grid_template_columns": "25% 25% 25% 25%",
       "grid_template_rows": "auto auto auto",
       "margin": "2% 0% 2% 10%",
       "width": "80%"
      }
     },
     "fd6c7592d95e4189a0358b980eb55db5": {
      "model_module": "@jupyter-widgets/controls",
      "model_module_version": "1.4.0",
      "model_name": "ButtonStyleModel",
      "state": {}
     },
     "fe3ab68832554ded8e977a4b648c0f47": {
      "model_module": "@jupyter-widgets/controls",
      "model_module_version": "1.4.0",
      "model_name": "DescriptionStyleModel",
      "state": {
       "description_width": ""
      }
     },
     "fea9e5d54eff46b98d3e258f405dbe28": {
      "model_module": "@jupyter-widgets/controls",
      "model_module_version": "1.4.0",
      "model_name": "DescriptionStyleModel",
      "state": {
       "description_width": ""
      }
     },
     "fed73ac67bc348df992db08b532a97cb": {
      "model_module": "@jupyter-widgets/controls",
      "model_module_version": "1.4.0",
      "model_name": "GridBoxModel",
      "state": {
       "children": [
        "IPY_MODEL_21abb2f4e1cd45068dfe558363af5a6a",
        "IPY_MODEL_c2b333b81f2747eb84bb93db40a468a3",
        "IPY_MODEL_9f31dc97a2c74adeae85a00a25e23dea",
        "IPY_MODEL_4118fe7dbce74760a217665bb8446984"
       ],
       "layout": "IPY_MODEL_7d56ee480323473bac4bc2e616808e7c"
      }
     },
     "fef30e60712b49789f0c5280a98bf5c3": {
      "model_module": "@jupyter-widgets/controls",
      "model_module_version": "1.4.0",
      "model_name": "DescriptionStyleModel",
      "state": {
       "description_width": ""
      }
     },
     "ff122e6af15d4e1e88e34a7aff829d6e": {
      "model_module": "@jupyter-widgets/controls",
      "model_module_version": "1.4.0",
      "model_name": "DatePickerModel",
      "state": {
       "description": "start date",
       "disabled": false,
       "layout": "IPY_MODEL_dc927bc3940e412fbc0af93c66648e41",
       "style": "IPY_MODEL_5f5debc5e44f4160b5b1748bbf756aa5"
      }
     },
     "ff4624eed69c45f791b0df703b13f4a5": {
      "model_module": "@jupyter-widgets/controls",
      "model_module_version": "1.4.0",
      "model_name": "GridBoxModel",
      "state": {
       "children": [
        "IPY_MODEL_e1e0dac6487441fbbf71ad95ca998704",
        "IPY_MODEL_1b8c618d3be3493ea8f08bf672ef8824",
        "IPY_MODEL_a9d5203d9ffa45819d8d2272db926c00",
        "IPY_MODEL_374d510ecbb346f28e60298771206103"
       ],
       "layout": "IPY_MODEL_b8c564a7282d4ddfa5b0a64ecf3627fc"
      }
     },
     "ff70a1d3637f4a0186c01a96e6ea8ab6": {
      "model_module": "@jupyter-widgets/controls",
      "model_module_version": "1.4.0",
      "model_name": "DatePickerModel",
      "state": {
       "description": "start date",
       "disabled": false,
       "layout": "IPY_MODEL_a947f9bdb7e849899a7dacfb61e89531",
       "style": "IPY_MODEL_b53cc8a7945c4232bdb8772f5d8388d5"
      }
     },
     "ff7ee266938c4f7a839b8489c0a89734": {
      "model_module": "@jupyter-widgets/output",
      "model_module_version": "1.0.0",
      "model_name": "OutputModel",
      "state": {
       "layout": "IPY_MODEL_bba50c490afb4f2aab8413860f26d3af"
      }
     }
    },
    "version_major": 2,
    "version_minor": 0
   }
  }
 },
 "nbformat": 4,
 "nbformat_minor": 2
}
