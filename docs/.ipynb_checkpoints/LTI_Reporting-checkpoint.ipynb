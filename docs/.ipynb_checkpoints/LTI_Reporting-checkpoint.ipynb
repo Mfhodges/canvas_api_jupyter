{
 "cells": [
  {
   "cell_type": "code",
   "execution_count": 2,
   "metadata": {},
   "outputs": [
    {
     "data": {
      "text/html": [
       "<script>\n",
       "    // AUTORUN ALL CELLS ON NOTEBOOK-LOAD! https://stackoverflow.com/questions/31984196/ipython-notebook-run-all-cells-on-open\n",
       "    require(\n",
       "        ['base/js/namespace', 'jquery'], \n",
       "        function(jupyter, $) {\n",
       "            $(jupyter.events).on(\"kernel_ready.Kernel\", function () {\n",
       "                console.log(\"Auto-running all cells-below...\");\n",
       "               //IPython.notebook.execute_cell_range(IPython.notebook.get_selected_index()+1, IPython.notebook.get_selected_index()+2)\n",
       "                jupyter.actions.call('jupyter-notebook:run-all-cells-below');\n",
       "                jupyter.actions.call('jupyter-notebook:save-notebook');\n",
       "            });\n",
       "           // $('#header-container').hide();\n",
       "          //$('#maintoolbar').hide();   \n",
       "        }\n",
       "    );\n",
       "\n",
       "</script>\n"
      ],
      "text/plain": [
       "<IPython.core.display.HTML object>"
      ]
     },
     "metadata": {},
     "output_type": "display_data"
    }
   ],
   "source": [
    "%%html\n",
    "<script>\n",
    "    // AUTORUN ALL CELLS ON NOTEBOOK-LOAD! https://stackoverflow.com/questions/31984196/ipython-notebook-run-all-cells-on-open\n",
    "    require(\n",
    "        ['base/js/namespace', 'jquery'], \n",
    "        function(jupyter, $) {\n",
    "            $(jupyter.events).on(\"kernel_ready.Kernel\", function () {\n",
    "                console.log(\"Auto-running all cells-below...\");\n",
    "               //IPython.notebook.execute_cell_range(IPython.notebook.get_selected_index()+1, IPython.notebook.get_selected_index()+2)\n",
    "                jupyter.actions.call('jupyter-notebook:run-all-cells-below');\n",
    "                jupyter.actions.call('jupyter-notebook:save-notebook');\n",
    "            });\n",
    "           // $('#header-container').hide();\n",
    "          //$('#maintoolbar').hide();   \n",
    "        }\n",
    "    );\n",
    "\n",
    "</script>"
   ]
  },
  {
   "cell_type": "code",
   "execution_count": 3,
   "metadata": {},
   "outputs": [
    {
     "data": {
      "text/html": [
       "\n",
       "<script>\n",
       "  function code_toggle() {\n",
       "    if (code_shown){\n",
       "      $('div.input').hide('500');\n",
       "      $('#toggleButton').val('Show Code')\n",
       "    } else {\n",
       "      $('div.input').show('500');\n",
       "      $('#toggleButton').val('Hide Code')\n",
       "    }\n",
       "    code_shown = !code_shown\n",
       "  }\n",
       "\n",
       "  $( document ).ready(function(){\n",
       "    code_shown=false;\n",
       "    $('div.input').hide()\n",
       "  });\n",
       "</script>\n",
       "<form action=\"javascript:code_toggle()\"><input type=\"submit\" id=\"toggleButton\" value=\"Show Code\"></form>\n",
       "<style>\n",
       "button[data-event-type$=_row] {\n",
       "    display: none !important;}\n",
       "\n",
       " button.btn.btn-default.fa.fa-arrows-alt.full-screen-btn { margin-left:5px;}\n",
       "</style>"
      ],
      "text/plain": [
       "<IPython.core.display.HTML object>"
      ]
     },
     "execution_count": 3,
     "metadata": {},
     "output_type": "execute_result"
    }
   ],
   "source": [
    "from IPython.display import HTML, clear_output,Javascript, display\n",
    "from ipywidgets import widgets\n",
    "from ipywidgets import Button, GridBox, Layout, ButtonStyle, Box, VBox\n",
    "import requests\n",
    "import json\n",
    "import pandas as pd\n",
    "from pprintpp import pprint as pp\n",
    "from pandas.io.json import json_normalize\n",
    "import time\n",
    "import datetime as dt\n",
    "import pytz\n",
    "import base64\n",
    "import qgrid\n",
    "\n",
    "#pd.set_option('display.max_rows', 999)\n",
    "# I wish i knew how to always hide this cell !\n",
    "\n",
    "# button[data-event-type$=_row] {\n",
    "#    display: none !important;}\n",
    "\n",
    "# button.btn.btn-default.fa.fa-arrows-alt.full-screen-btn { margin-left:5px;}\n",
    "\n",
    "\n",
    "HTML('''\n",
    "<script>\n",
    "  function code_toggle() {\n",
    "    if (code_shown){\n",
    "      $('div.input').hide('500');\n",
    "      $('#toggleButton').val('Show Code')\n",
    "    } else {\n",
    "      $('div.input').show('500');\n",
    "      $('#toggleButton').val('Hide Code')\n",
    "    }\n",
    "    code_shown = !code_shown\n",
    "  }\n",
    "\n",
    "  $( document ).ready(function(){\n",
    "    code_shown=false;\n",
    "    $('div.input').hide()\n",
    "  });\n",
    "</script>\n",
    "<form action=\"javascript:code_toggle()\"><input type=\"submit\" id=\"toggleButton\" value=\"Show Code\"></form>\n",
    "<style>\n",
    "button[data-event-type$=_row] {\n",
    "    display: none !important;}\n",
    "\n",
    " button.btn.btn-default.fa.fa-arrows-alt.full-screen-btn { margin-left:5px;}\n",
    "</style>''')\n"
   ]
  },
  {
   "cell_type": "markdown",
   "metadata": {},
   "source": [
    "# Welcome \n",
    "\n",
    "Here I will try to make a dashboard to parallelize running reports.  \n",
    "What I need to do is get better at setting up docker images and parallelizing with ipyparallel\n",
    "\n",
    "\n",
    "\n",
    "#### API documentation references \n",
    " - [CANVAS API DOC](https://canvas.instructure.com/doc/api/index.html)\n",
    " - [Requests Python Library](http://docs.python-requests.org/en/master/)\n",
    "\n",
    "<hr>\n"
   ]
  },
  {
   "cell_type": "code",
   "execution_count": 5,
   "metadata": {},
   "outputs": [
    {
     "data": {
      "text/html": [
       "<h2 style='text-align: center;'>Please enter your API Credentials</h2>"
      ],
      "text/plain": [
       "<IPython.core.display.HTML object>"
      ]
     },
     "metadata": {},
     "output_type": "display_data"
    },
    {
     "data": {
      "application/vnd.jupyter.widget-view+json": {
       "model_id": "b540e73b77644527b66ed17bfcf8cacd",
       "version_major": 2,
       "version_minor": 0
      },
      "text/plain": [
       "GridBox(children=(Button(button_style='warning', description='NOT Authorized', disabled=True, icon='unlock', l…"
      ]
     },
     "metadata": {},
     "output_type": "display_data"
    },
    {
     "data": {
      "application/vnd.jupyter.widget-view+json": {
       "model_id": "229db738f16a4403a13c0fdf4a196b49",
       "version_major": 2,
       "version_minor": 0
      },
      "text/plain": [
       "Output()"
      ]
     },
     "metadata": {},
     "output_type": "display_data"
    }
   ],
   "source": [
    "error = widgets.Output()\n",
    "\n",
    "API_widget = widgets.Text(placeholder='API TOKEN',\n",
    "                       layout=Layout(width='90%',align_items='center', grid_area='main'))\n",
    "\n",
    "\n",
    "Authentication = Button(\n",
    "    value=False,\n",
    "    description='NOT Authorized',\n",
    "    disabled=True,\n",
    "    button_style='warning', # 'success', 'info', 'warning', 'danger' or ''\n",
    "    icon='unlock',\n",
    "    layout=Layout(width='auto', grid_area='header')\n",
    ")\n",
    "\n",
    "\n",
    "Submit = Button(\n",
    "    value=False,\n",
    "    description='Submit',\n",
    "    disabled=False,\n",
    "    button_style='info', # 'success', 'info', 'warning', 'danger' or ''\n",
    "    icon='',\n",
    "    layout=Layout(width='auto', grid_area='footer')\n",
    ")\n",
    "\n",
    "\n",
    "\n",
    "# for the env // Domain\n",
    "environ = widgets.Select(\n",
    "    options=['Production', 'Test', 'Beta'],\n",
    "    value='Production',\n",
    "    description='Environment:',\n",
    "    disabled=False,\n",
    "    rows=3,\n",
    "    layout=Layout(width='auto', grid_area='sidebar')\n",
    ")\n",
    "\n",
    "environs = {'Production':'https://canvas.upenn.edu/api/v1/', 'Test':'b', 'Beta':'c'}\n",
    "\n",
    "\n",
    "\n",
    "def set_up_forms():\n",
    "    display(Javascript('IPython.notebook.execute_cell_range(IPython.notebook.get_selected_index()+1, IPython.notebook.get_selected_index()+11)'))\n",
    "\n",
    "def authorize():\n",
    "    # check api key \n",
    "    global headers\n",
    "    headers = {\n",
    "        'Authorization': 'Bearer %s' % (API_widget.value) ,\n",
    "    }\n",
    "    global domain\n",
    "    domain = environs[environ.value]\n",
    "    \n",
    "    x = test_api() # returns status code of test response\n",
    "    \n",
    "    if API_widget.value and x ==200:\n",
    "    # if good:\n",
    "        \n",
    "        # UI changes\n",
    "        Authentication.icon = 'lock'\n",
    "        Authentication.description = 'Authorized'\n",
    "        Authentication.button_style ='success'\n",
    "        set_up_forms()\n",
    "    #Authentication.style.button_color = 'lightgreen'\n",
    "    # if bad:\n",
    "    else:\n",
    "        error.append_stdout(\"Invalid API token\")\n",
    "        Authentication.description='NOT Authorized'\n",
    "        Authentication.button_style='warning' # 'success', 'info', 'warning', 'danger' or ''\n",
    "        Authentication.icon='unlock'\n",
    "    # output note \n",
    "    \n",
    "\n",
    "\n",
    "def on_button_clicked(b):\n",
    "    # clear any output ( error output from authorize )\n",
    "    error.clear_output()\n",
    "    authorize()\n",
    "    \n",
    "    \n",
    "Submit.on_click(on_button_clicked)\n",
    "\n",
    "\n",
    "#https://ipywidgets.readthedocs.io/en/latest/examples/Widget%20Styling.html#The-Grid-layout\n",
    "\n",
    "header  = Authentication\n",
    "main    = API_widget\n",
    "sidebar = environ\n",
    "footer  = Submit\n",
    "\n",
    "\n",
    "\n",
    "form = GridBox(children=[header, main, sidebar,footer],\n",
    "        layout=Layout(\n",
    "            width='80%',\n",
    "            margin=\"2% 0% 2% 10%\",\n",
    "            grid_template_rows='auto auto auto',\n",
    "            grid_template_columns='25% 25% 25% 25%',\n",
    "            #grid_gap='5px 5px',\n",
    "            grid_template_areas='''\n",
    "            \" . header header .\"\n",
    "            \"main main sidebar sidebar\"\n",
    "            \" . footer footer . \"\n",
    "            ''')\n",
    "       )\n",
    "\n",
    "display(HTML(\"<h2 style='text-align: center;'>Please enter your API Credentials</h2>\"))\n",
    "display(form)\n",
    "display(error)\n",
    "\n",
    "\n",
    "\n",
    "def on_value_change(change):\n",
    "    Authentication.description='NOT Authorized'\n",
    "    Authentication.button_style='warning' # 'success', 'info', 'warning', 'danger' or ''\n",
    "    Authentication.icon='unlock'\n",
    "    headers = {\n",
    "    'Authorization': 'Bearer %s' % (change['new']) ,\n",
    "    }\n",
    "    \n",
    "\n",
    "API_widget.observe(on_value_change, names='value')\n",
    "\n",
    "\n",
    "\n",
    "environs = {'Production':'https://canvas.upenn.edu/api/v1/', 'Test':'b', 'Beta':'c'}\n",
    "domain = environs[environ.value]\n",
    "\n",
    "\n",
    "def test_api():\n",
    "    \n",
    "    #headers = {\n",
    "    #'Authorization': 'Bearer %s' % (API_widget.value) ,\n",
    "    #}\n",
    "    \n",
    "    url = domain + 'accounts/self/scopes'\n",
    "    response = requests.get(url,headers=headers)\n",
    "    r = response.json()\n",
    "    #print(response.status_code)\n",
    "    return response.status_code\n",
    "\n",
    "\n",
    "\n",
    "######################################\n",
    "######### HELPER FUNCTION ############\n",
    "######################################\n",
    "\n",
    "# utc to est convert and back \n",
    "# all user input is in est in the basic time format\n",
    "# example: 2019-05-14 1am\n",
    "# output from canvas 2019-05-14T14:28:08Z (utc)\n",
    "\n",
    "def est_to_utc(datestring):\n",
    "    utc=pytz.utc\n",
    "    eastern=pytz.timezone('US/Eastern')\n",
    "    fmt='%Y-%m-%d %H:%M'\n",
    "    date=dt.datetime.strptime(datestring,\"%Y-%m-%d %I%p\")\n",
    "    date_eastern=eastern.localize(date,is_dst=None)\n",
    "    date_utc=date_eastern.astimezone(utc)\n",
    "    return(date_utc.strftime(fmt))\n",
    "    \n",
    "def user_info(user_id):\n",
    "    #url:GET|/api/v1/users/:id\n",
    "    url = domain + 'users/'+user_id\n",
    "    response = requests.get(url,headers=headers)\n",
    "    return(response.json())\n",
    "\n",
    "\n",
    "def create_download_link( df, filename):  \n",
    "    title = \"Download CSV file\"\n",
    "    csv = df.to_csv()\n",
    "    b64 = base64.b64encode(csv.encode())\n",
    "    payload = b64.decode()\n",
    "    html = '<a download=\"{filename}\" href=\"data:text/csv;base64,{payload}\" target=\"_blank\">{title}</a>'\n",
    "    html = html.format(payload=payload,title=title,filename=filename)\n",
    "    return HTML(html)"
   ]
  },
  {
   "cell_type": "markdown",
   "metadata": {},
   "source": [
    "<hr>\n",
    "\n",
    "## Table of Contents\n",
    "\n",
    "1. [LTI Usage](#Explore-LTI-Usage-🔎)\n",
    "1. [Analytics](#Explore-Analytics-📊)\n",
    "2. "
   ]
  },
  {
   "cell_type": "markdown",
   "metadata": {},
   "source": [
    "<hr>\n",
    "\n",
    "## Explore LTI Usage 🔎\n",
    "\n",
    "#### Description\n",
    "... coming soon ...\n",
    "##### A Tool is Only as Good as its User ...\n",
    "please have a good idea what you are looking for before you start running reports"
   ]
  },
  {
   "cell_type": "code",
   "execution_count": 6,
   "metadata": {},
   "outputs": [],
   "source": [
    "# LTI report\n",
    "\n"
   ]
  },
  {
   "cell_type": "markdown",
   "metadata": {},
   "source": [
    "<hr>\n",
    "\n",
    "## Explore Analytics 📊\n",
    "\n",
    "#### Description\n",
    "... coming soon ...  \n",
    "[CANVAS DOC](https://canvas.instructure.com/doc/api/analytics.html)\n",
    "##### A Tool is Only as Good as its User ...\n",
    "please have a good idea what you are looking for before you start running reports"
   ]
  },
  {
   "cell_type": "code",
   "execution_count": 7,
   "metadata": {},
   "outputs": [],
   "source": [
    "# https://canvas.instructure.com/doc/api/analytics.html"
   ]
  },
  {
   "cell_type": "code",
   "execution_count": null,
   "metadata": {},
   "outputs": [],
   "source": []
  },
  {
   "cell_type": "markdown",
   "metadata": {},
   "source": [
    "<hr>\n",
    "\n",
    "###### To do \n",
    "- 😪 Finish first report!\n",
    " \n",
    "\n",
    "###### Sources\n",
    "- https://ipyparallel.readthedocs.io/en/latest/demos.html\n",
    "- https://buildmedia.readthedocs.org/media/pdf/jupyter/latest/jupyter.pdf\n"
   ]
  },
  {
   "cell_type": "code",
   "execution_count": null,
   "metadata": {},
   "outputs": [],
   "source": []
  }
 ],
 "metadata": {
  "hide_input": true,
  "kernelspec": {
   "display_name": "Python 3",
   "language": "python",
   "name": "python3"
  },
  "language_info": {
   "codemirror_mode": {
    "name": "ipython",
    "version": 3
   },
   "file_extension": ".py",
   "mimetype": "text/x-python",
   "name": "python",
   "nbconvert_exporter": "python",
   "pygments_lexer": "ipython3",
   "version": "3.6.5"
  }
 },
 "nbformat": 4,
 "nbformat_minor": 2
}
