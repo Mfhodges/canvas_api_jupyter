{
 "cells": [
  {
   "cell_type": "markdown",
   "metadata": {},
   "source": [
    "# Welcome\n",
    "\n",
    "Here are the available reports\n",
    "\n",
    "[API Explorer](API_Reporting.ipynb)  \n",
    "    This shows all the API endpoints and lets any user with a valid API token explore page views and submission history.  \n",
    "    \n",
    "[Barnes and Noble LTI](BN_LTI.ipynb)  \n",
    "    A tool to configure the Barnes and Noble LTI at scale.   \n",
    "    \n",
    "[LTI Reporting](LTI_Reporting.ipynb)  \n",
    "    Work in progress... Ideally can handle several tasks that would generate reports about tool usage across faceted sections of the Canvas environment"
   ]
  },
  {
   "cell_type": "markdown",
   "metadata": {},
   "source": [
    "## Tips \n",
    "\n",
    "#### How to restart page\n",
    "- refresh browser \n",
    "- in top menu: Cell > Run All \n",
    "\n",
    "\n"
   ]
  },
  {
   "cell_type": "code",
   "execution_count": null,
   "metadata": {},
   "outputs": [],
   "source": []
  }
 ],
 "metadata": {
  "hide_input": false,
  "kernelspec": {
   "display_name": "Python 3",
   "language": "python",
   "name": "python3"
  },
  "language_info": {
   "codemirror_mode": {
    "name": "ipython",
    "version": 3
   },
   "file_extension": ".py",
   "mimetype": "text/x-python",
   "name": "python",
   "nbconvert_exporter": "python",
   "pygments_lexer": "ipython3",
   "version": "3.6.5"
  }
 },
 "nbformat": 4,
 "nbformat_minor": 2
}
